{
 "cells": [
  {
   "cell_type": "markdown",
   "metadata": {},
   "source": [
    "# Books versus eBooks : The customer's choice"
   ]
  },
  {
   "cell_type": "markdown",
   "metadata": {},
   "source": [
    "You need to have the metadata.json and the two 5-core files reviews_Books_5.json and reviews_Kindle_Store_5.json at the same level as the notebook.\n",
    "\n",
    "For the questions asked for Milestone 2, please refer to the README file, where you will see a part dedicated to milestone 2. In this Notebook, we don't answer specifically to these questions, but we speak at each step what we technically made and failed."
   ]
  },
  {
   "cell_type": "markdown",
   "metadata": {},
   "source": [
    "## Data retrieval"
   ]
  },
  {
   "cell_type": "code",
   "execution_count": 1,
   "metadata": {
    "collapsed": true
   },
   "outputs": [],
   "source": [
    "import pandas as pd\n",
    "import re\n",
    "import numpy as np\n",
    "import requests\n",
    "import time\n",
    "from bs4 import BeautifulSoup\n",
    "from ast import literal_eval"
   ]
  },
  {
   "cell_type": "markdown",
   "metadata": {},
   "source": [
    "#### Warning :\n",
    "There are several booleans in this cell. They are useful to indicate if we need to perform some key data filtering and transformation in the whole notebook. The first one is set to True as it creates a file that is bigger than 300Mo, so that we can't put it in github. You will have to compute it if you run the notebook (it takes some time). The other files are on github, so all other booleans are set to False."
   ]
  },
  {
   "cell_type": "code",
   "execution_count": 2,
   "metadata": {
    "collapsed": true
   },
   "outputs": [],
   "source": [
    "metadata_path = 'metadata.json'\n",
    "books_metadata_path = 'books_metadata_with_bracket.csv'\n",
    "ebooks_metadata_title_path = 'ebooks_metadata_title.csv'\n",
    "ebooks_asin = 'ebooks_asin.csv'\n",
    "books_5core_path = 'reviews_Books_5.json'\n",
    "kindle_5core_path = 'reviews_Kindle_Store_5.json'\n",
    "amazon_ebooks = 'ebooks_title_from_amazon_complete.csv'\n",
    "asindb_ebooks = 'ebooks_title_from_asindb.csv'\n",
    "\n",
    "matched_books_path = 'matched_books.csv'\n",
    "matched_ebooks_path = 'matched_ebooks.csv'\n",
    "weighted_scores_books_path = 'weighted_scores_books.csv'\n",
    "weighted_scores_ebooks_path = 'weighted_scores_ebooks.csv'\n",
    "\n",
    "\n",
    "WRITE_BOOKS_METADATA = True\n",
    "WRITE_EBOOKS_METADATA_TITLE = False\n",
    "WRITE_EBOOK_ASIN = False\n",
    "AMAZON_GET_TITLE = False\n",
    "ASINDB_GET_TITLE = False\n",
    "WRITE_FIND_MATCHED = False\n",
    "WRITE_WEIGHTED_SCORE = False"
   ]
  },
  {
   "cell_type": "markdown",
   "metadata": {},
   "source": [
    "As for our project, we need to obtain ebook data and book data, we chose the Amazon dataset. On this <a href='http://jmcauley.ucsd.edu/data/amazon/'>link</a>, we have downloaded the Books and Kindle Store 5-core files. However, those files contain reviews, so that we have no information about the article title or price.\n",
    "For that reason, we had to use the metadata file, acting as an intermediate table (relationship).\n",
    "\n",
    "We obtained the metadata.json file from the cluster, as it was not available in the website.\n",
    "We accessed the cluster using ssh@iccluster060.iccluster.epfl.ch, then using \n",
    "```shell\n",
    "hadoop fs -get /datasets/productGraph/metadata.json /buffer\n",
    "```\n",
    "to move the dataset to a folder we could connect to with SCP to download it on our computer.\n"
   ]
  },
  {
   "cell_type": "markdown",
   "metadata": {},
   "source": [
    "It's a json file, that is not readable using the pandas read_json method. We had to use the Code part from <a href='http://jmcauley.ucsd.edu/data/amazon/'>here</a> to read it. We can see a way to read the file (a limited portion of it) below :"
   ]
  },
  {
   "cell_type": "code",
   "execution_count": 3,
   "metadata": {
    "collapsed": false
   },
   "outputs": [
    {
     "data": {
      "text/html": [
       "<div>\n",
       "<style scoped>\n",
       "    .dataframe tbody tr th:only-of-type {\n",
       "        vertical-align: middle;\n",
       "    }\n",
       "\n",
       "    .dataframe tbody tr th {\n",
       "        vertical-align: top;\n",
       "    }\n",
       "\n",
       "    .dataframe thead th {\n",
       "        text-align: right;\n",
       "    }\n",
       "</style>\n",
       "<table border=\"1\" class=\"dataframe\">\n",
       "  <thead>\n",
       "    <tr style=\"text-align: right;\">\n",
       "      <th></th>\n",
       "      <th>asin</th>\n",
       "      <th>salesRank</th>\n",
       "      <th>imUrl</th>\n",
       "      <th>categories</th>\n",
       "      <th>title</th>\n",
       "      <th>description</th>\n",
       "      <th>price</th>\n",
       "      <th>related</th>\n",
       "    </tr>\n",
       "  </thead>\n",
       "  <tbody>\n",
       "    <tr>\n",
       "      <th>0</th>\n",
       "      <td>0001048791</td>\n",
       "      <td>{'Books': 6334800}</td>\n",
       "      <td>http://ecx.images-amazon.com/images/I/51MKP0T4...</td>\n",
       "      <td>[[Books]]</td>\n",
       "      <td>The Crucible: Performed by Stuart Pankin, Jero...</td>\n",
       "      <td>NaN</td>\n",
       "      <td>NaN</td>\n",
       "      <td>NaN</td>\n",
       "    </tr>\n",
       "    <tr>\n",
       "      <th>1</th>\n",
       "      <td>0000143561</td>\n",
       "      <td>{'Movies &amp; TV': 376041}</td>\n",
       "      <td>http://g-ecx.images-amazon.com/images/G/01/x-s...</td>\n",
       "      <td>[[Movies &amp; TV, Movies]]</td>\n",
       "      <td>Everyday Italian (with Giada de Laurentiis), V...</td>\n",
       "      <td>3Pack DVD set - Italian Classics, Parties and ...</td>\n",
       "      <td>12.99</td>\n",
       "      <td>{'also_viewed': ['B0036FO6SI', 'B000KL8ODE', '...</td>\n",
       "    </tr>\n",
       "  </tbody>\n",
       "</table>\n",
       "</div>"
      ],
      "text/plain": [
       "         asin                salesRank  \\\n",
       "0  0001048791       {'Books': 6334800}   \n",
       "1  0000143561  {'Movies & TV': 376041}   \n",
       "\n",
       "                                               imUrl               categories  \\\n",
       "0  http://ecx.images-amazon.com/images/I/51MKP0T4...                [[Books]]   \n",
       "1  http://g-ecx.images-amazon.com/images/G/01/x-s...  [[Movies & TV, Movies]]   \n",
       "\n",
       "                                               title  \\\n",
       "0  The Crucible: Performed by Stuart Pankin, Jero...   \n",
       "1  Everyday Italian (with Giada de Laurentiis), V...   \n",
       "\n",
       "                                         description  price  \\\n",
       "0                                                NaN    NaN   \n",
       "1  3Pack DVD set - Italian Classics, Parties and ...  12.99   \n",
       "\n",
       "                                             related  \n",
       "0                                                NaN  \n",
       "1  {'also_viewed': ['B0036FO6SI', 'B000KL8ODE', '...  "
      ]
     },
     "execution_count": 3,
     "metadata": {},
     "output_type": "execute_result"
    }
   ],
   "source": [
    "def read_json(path, limit = 2): \n",
    "    g = open(path, 'r') \n",
    "    df = {}\n",
    "    for i, l in enumerate(g): \n",
    "        if i < limit:\n",
    "            df[i] = eval(l)\n",
    "        else:\n",
    "            break\n",
    "    return pd.DataFrame.from_dict(df, orient='index')\n",
    "\n",
    "def read_csv(path, limit = 2): \n",
    "    return pd.read_csv(path, nrows=limit)\n",
    "            \n",
    "read_json(metadata_path)"
   ]
  },
  {
   "cell_type": "markdown",
   "metadata": {},
   "source": [
    "However, this metadata.json file takes more than 10 Go, for 9430088 entries (obtained by doing a wc -l metadata.json), so it does not fit in memory. Thus, as we will do a lot of tests later, we wanted to create a subfile containing only the Books metadata (we don't need video games metadata for example), with a subset of columns. We also want to write it in the csv format, to manipulate it in an easier way later.\n",
    "\n",
    "We use the regex \"\\[\\'books\" in an ignore case mode, to obtain only entries that have a category tag beginning with [Books. In fact, if we want to use the regex 'book', some entries like 0078800242 or B00000078S are not books at all, even if there is Books in the title or the category tag. The '[' is useful here to avoir this behavior."
   ]
  },
  {
   "cell_type": "code",
   "execution_count": 4,
   "metadata": {
    "collapsed": false
   },
   "outputs": [],
   "source": [
    "def read_book_metadata(path, regex): \n",
    "    g = open(path, 'r') \n",
    "    for l in g: \n",
    "        book = regex.search(l)\n",
    "        if book:\n",
    "            yield eval(l) \n",
    "            \n",
    "def write_df_books_metadata(from_, to, regex, columns_to_keep): \n",
    "    i = 0 \n",
    "    df = {} \n",
    "    for d in read_book_metadata(from_, regex): \n",
    "        df[i] = d \n",
    "        i += 1 \n",
    "        if i % 10000 == 0: # Here, we choose to write everything every 10'000 book entries, and clear the dataframe to free memory.\n",
    "            pd.DataFrame.from_dict(df, orient='index')[columns_to_keep].to_csv(to, header=False,mode='a')\n",
    "            df = {}\n",
    "\n",
    "COLUMNS_TO_KEEP = ['asin', 'salesRank', 'categories', 'title', 'price']\n",
    "regex = re.compile('\\[\\'books', re.IGNORECASE)\n",
    "\n",
    "if WRITE_BOOKS_METADATA:\n",
    "    pd.DataFrame(columns=[COLUMNS_TO_KEEP]).to_csv(books_metadata_path)\n",
    "    write_df_books_metadata(metadata_path, books_metadata_path, regex, COLUMNS_TO_KEEP)"
   ]
  },
  {
   "cell_type": "markdown",
   "metadata": {},
   "source": [
    "And if we read what we just wrote :"
   ]
  },
  {
   "cell_type": "code",
   "execution_count": 5,
   "metadata": {
    "collapsed": false
   },
   "outputs": [
    {
     "data": {
      "text/html": [
       "<div>\n",
       "<style scoped>\n",
       "    .dataframe tbody tr th:only-of-type {\n",
       "        vertical-align: middle;\n",
       "    }\n",
       "\n",
       "    .dataframe tbody tr th {\n",
       "        vertical-align: top;\n",
       "    }\n",
       "\n",
       "    .dataframe thead th {\n",
       "        text-align: right;\n",
       "    }\n",
       "</style>\n",
       "<table border=\"1\" class=\"dataframe\">\n",
       "  <thead>\n",
       "    <tr style=\"text-align: right;\">\n",
       "      <th></th>\n",
       "      <th>Unnamed: 0</th>\n",
       "      <th>asin</th>\n",
       "      <th>salesRank</th>\n",
       "      <th>categories</th>\n",
       "      <th>title</th>\n",
       "      <th>price</th>\n",
       "    </tr>\n",
       "  </thead>\n",
       "  <tbody>\n",
       "    <tr>\n",
       "      <th>0</th>\n",
       "      <td>0</td>\n",
       "      <td>1048791</td>\n",
       "      <td>{'Books': 6334800}</td>\n",
       "      <td>[['Books']]</td>\n",
       "      <td>The Crucible: Performed by Stuart Pankin, Jero...</td>\n",
       "      <td>NaN</td>\n",
       "    </tr>\n",
       "    <tr>\n",
       "      <th>1</th>\n",
       "      <td>1</td>\n",
       "      <td>1048775</td>\n",
       "      <td>{'Books': 13243226}</td>\n",
       "      <td>[['Books']]</td>\n",
       "      <td>Measure for Measure: Complete &amp;amp; Unabridged</td>\n",
       "      <td>NaN</td>\n",
       "    </tr>\n",
       "  </tbody>\n",
       "</table>\n",
       "</div>"
      ],
      "text/plain": [
       "   Unnamed: 0     asin            salesRank   categories  \\\n",
       "0           0  1048791   {'Books': 6334800}  [['Books']]   \n",
       "1           1  1048775  {'Books': 13243226}  [['Books']]   \n",
       "\n",
       "                                               title  price  \n",
       "0  The Crucible: Performed by Stuart Pankin, Jero...    NaN  \n",
       "1     Measure for Measure: Complete &amp; Unabridged    NaN  "
      ]
     },
     "execution_count": 5,
     "metadata": {},
     "output_type": "execute_result"
    }
   ],
   "source": [
    "read_csv(books_metadata_path)"
   ]
  },
  {
   "cell_type": "markdown",
   "metadata": {},
   "source": [
    "We also wanted to obtain the ebooks titles, price etc..\n",
    "For the category filter, we have to use the same trick as for the Books one : \"\\[\\'Kindle\". Please note that some book metadatas above are in fact kindle store metadatas, because the category can contain both. However, it's not a big deal if we want to do the merge later with asin column.\n",
    "\n",
    "However, for the metadatas for ebooks, there was a problem at that step :"
   ]
  },
  {
   "cell_type": "code",
   "execution_count": 6,
   "metadata": {
    "collapsed": false
   },
   "outputs": [],
   "source": [
    "def read_ebook_metadata(path, regex): \n",
    "    g = open(path, 'r') \n",
    "    for l in g: \n",
    "        ebook = regex.search(l)\n",
    "        if ebook:\n",
    "            yield eval(l) \n",
    "def obtain_df_ebooks_metadata(from_, to, regex): \n",
    "    i = 0 \n",
    "    df = {} \n",
    "    count = 0\n",
    "    for d in read_ebook_metadata(from_, regex): \n",
    "        count += 1\n",
    "        if(d.get('title')):\n",
    "            df[i] = {'asin': d.get('asin'), 'title': d.get('title')}\n",
    "            i += 1 \n",
    "    pd.DataFrame.from_dict(df, orient='index').to_csv(to)\n",
    "    print('Total ebooks in metadatas:', count)\n",
    "\n",
    "\n",
    "regex = re.compile('\\[\\'Kindle', re.IGNORECASE)\n",
    "\n",
    "if WRITE_EBOOKS_METADATA_TITLE:\n",
    "    obtain_df_ebooks_metadata(metadata_path, ebooks_metadata_title_path, regex)"
   ]
  },
  {
   "cell_type": "markdown",
   "metadata": {},
   "source": [
    "We see right below that 44 entries out of 434702 have a title. Of course, it's not good at all, since we want to merge books and ebooks using the title field."
   ]
  },
  {
   "cell_type": "code",
   "execution_count": 7,
   "metadata": {
    "collapsed": false
   },
   "outputs": [
    {
     "data": {
      "text/plain": [
       "44"
      ]
     },
     "execution_count": 7,
     "metadata": {},
     "output_type": "execute_result"
    }
   ],
   "source": [
    "read_csv(ebooks_metadata_title_path, None).shape[0]"
   ]
  },
  {
   "cell_type": "markdown",
   "metadata": {},
   "source": [
    "Thus, we need to obtain the title field from another source. The first idea was to retrieve this information from Amazon directly, as we wanted to do for the user location. For that, we need to have a list of the ebooks asin (Amazon Standard Identification Numbers). We obtain it from the Kindle Store 5-core file."
   ]
  },
  {
   "cell_type": "code",
   "execution_count": 8,
   "metadata": {
    "collapsed": false
   },
   "outputs": [],
   "source": [
    "def read_ebook_5core(path, regex): \n",
    "    g = open(path, 'r') \n",
    "    for l in g: \n",
    "        yield eval(l) \n",
    "def write_ebook_asin(from_, to): \n",
    "    i = 0 \n",
    "    df = {} \n",
    "    for d in read_ebook_5core(from_, regex): \n",
    "        df[i] = d \n",
    "        i += 1 \n",
    "        if i % 10000 == 0:\n",
    "            if i % 100000 == 0:\n",
    "                print(i) #to show the progression\n",
    "            pd.DataFrame.from_dict(df, orient='index')[['asin']].to_csv(to, header=False,mode='a')\n",
    "            df = {}\n",
    "    pd.DataFrame.from_dict(df, orient='index')[['asin']].to_csv(to, header=False,mode='a')\n",
    "    df = {}\n",
    "\n",
    "if WRITE_EBOOK_ASIN:\n",
    "    pd.DataFrame(columns=[['asin']]).to_csv(ebooks_asin)\n",
    "    write_ebook_asin(kindle_5core_path, ebooks_asin)"
   ]
  },
  {
   "cell_type": "markdown",
   "metadata": {},
   "source": [
    "As we were using the Kindle Store 5-core file, there are asin duplicates. We thus make it unique when we read."
   ]
  },
  {
   "cell_type": "code",
   "execution_count": 9,
   "metadata": {
    "collapsed": false
   },
   "outputs": [
    {
     "data": {
      "text/plain": [
       "array(['B000F83SZQ', 'B000FA64PA', 'B000FA64PK', ..., 'B00M029T4O',\n",
       "       'B00M0RE7CS', 'B00M13FNSS'], dtype=object)"
      ]
     },
     "execution_count": 9,
     "metadata": {},
     "output_type": "execute_result"
    }
   ],
   "source": [
    "ebooks_asin_unique = pd.read_csv('ebooks_asin.csv',usecols=[1]).asin.unique()\n",
    "ebooks_asin_unique"
   ]
  },
  {
   "cell_type": "markdown",
   "metadata": {},
   "source": [
    "For every Amazon article with asin *xasinx*, the corresponding web page is https://www.amazon.com/dp/*xasinx*/ref=rdr_kindle_ext_tmb.\n"
   ]
  },
  {
   "cell_type": "code",
   "execution_count": 10,
   "metadata": {
    "collapsed": true
   },
   "outputs": [],
   "source": [
    "prefix = 'https://www.amazon.com/dp/'\n",
    "suffix = '/ref=rdr_kindle_ext_tmb'\n",
    "\n",
    "USER_AGENT_CHOICES = [\n",
    "    'Mozilla/5.0 (X11; Ubuntu; Linux x86_64; rv:23.0) Gecko/20100101 Firefox/23.0',\n",
    "    'Mozilla/5.0 (X11; Linux x86_64) AppleWebKit/537.36 (KHTML, like Gecko) Chrome/29.0.1547.62 Safari/537.36',\n",
    "    'Mozilla/5.0 (compatible; MSIE 10.0; Windows NT 6.2; WOW64; Trident/6.0)',\n",
    "    'Mozilla/5.0 (X11; Linux x86_64) AppleWebKit/537.36 (KHTML, like Gecko) Chrome/33.0.1750.146 Safari/537.36',\n",
    "    'Mozilla/5.0 (Windows NT 6.2; WOW64) AppleWebKit/537.36 (KHTML, like Gecko) Chrome/33.0.1750.146 Safari/537.36',\n",
    "    'Mozilla/5.0 (X11; Linux x86_64; rv:24.0) Gecko/20140205 Firefox/24.0 Iceweasel/24.3.0',\n",
    "    'Mozilla/5.0 (Windows NT 6.2; WOW64; rv:28.0) Gecko/20100101 Firefox/28.0',\n",
    "    'Mozilla/5.0 (Windows NT 6.2; WOW64; rv:28.0) AppleWebKit/534.57.2 (KHTML, like Gecko) Version/5.1.7 Safari/534.57.2',\n",
    "]"
   ]
  },
  {
   "cell_type": "markdown",
   "metadata": {},
   "source": [
    "We have to rotate the user-agent so that the bot is less likely to be considered as one. This is why we have a User-Agent array.\n",
    "At the beginning, this method was working quite well : we had obtained 503 tuples (title, category, page number, language) over 1000 requests, which could mean that we had solved the problem. However, when looking at the distribution of the 503 tuples, we could see that at the beginning, everything behaves well, we obtain most of the entries (the other ones being like the B000JMKU0Y one, an obsolete entry, that only has customer reviews)."
   ]
  },
  {
   "cell_type": "code",
   "execution_count": 11,
   "metadata": {
    "collapsed": false
   },
   "outputs": [],
   "source": [
    "if AMAZON_GET_TITLE:\n",
    "    \n",
    "    LIMIT = 10\n",
    "    \n",
    "    undefined = 0\n",
    "    defined = 0\n",
    "    dataframe_original = pd.DataFrame(columns=[['asin', 'title', 'Category', 'PageNum', 'Language']])\n",
    "    dataframe = dataframe_original.copy()\n",
    "\n",
    "    dataframe_original.to_csv(amazon_ebooks)\n",
    "\n",
    "    for i, asin in enumerate(ebooks_asin_unique[:LIMIT]):\n",
    "\n",
    "        if i%10==0:\n",
    "            headers = {'User-Agent':USER_AGENT_CHOICES[np.random.randint(0, len(USER_AGENT_CHOICES))]}\n",
    "            if i > 0:\n",
    "                print('undefined:', undefined, '/ defined:', defined)\n",
    "                dataframe.to_csv(amazon_ebooks, header=False,mode='a')\n",
    "                dataframe = dataframe_original.copy()\n",
    "\n",
    "\n",
    "        r = requests.get(prefix + asin + suffix, headers=headers)\n",
    "        page_body = r.text\n",
    "        soup = BeautifulSoup(page_body, 'html.parser')\n",
    "        title = soup.find_all('span', id='ebooksProductTitle')\n",
    "        if(len(title) == 0):\n",
    "            undefined += 1\n",
    "        else:\n",
    "            defined += 1\n",
    "            title = title[0].text\n",
    "\n",
    "            ul = soup.find_all('ul', class_='a-unordered-list a-horizontal a-size-small')\n",
    "            if(len(ul) > 0):\n",
    "                details = ul[0].find_all('a', class_='a-link-normal a-color-tertiary')\n",
    "                if(len(details) > 0):\n",
    "                    category = details[-1].text.strip()\n",
    "                else:\n",
    "                    category = \"\"\n",
    "            else:\n",
    "                category = \"\"\n",
    "\n",
    "            details = soup.find_all('table', id='productDetailsTable')\n",
    "            if(len(details) > 0):\n",
    "                length = details[0].find_all('b', text='Print Length:')\n",
    "                if(len(length) > 0):\n",
    "                    page_number = length[0].parent.text.split()[2]\n",
    "                else:\n",
    "                    page_number = 0\n",
    "\n",
    "                length = details[0].find_all('b', text='Language:')\n",
    "                if(len(length) > 0):\n",
    "                    language = length[0].parent.text.split()[1]\n",
    "                else:\n",
    "                    language = \"\"\n",
    "            else:\n",
    "                page_number = pd.np.nan\n",
    "                language = \"\"\n",
    "\n",
    "            dataframe.loc[asin] = (asin, title, category, page_number, language)\n",
    "\n",
    "        waiting = np.random.rand()\n",
    "        time.sleep(waiting+1)\n",
    "\n",
    "    print(defined,',',undefined)\n",
    "    dataframe.to_csv(amazon_ebooks, header=False,mode='a')\n",
    "    dataframe = dataframe_original.copy()"
   ]
  },
  {
   "cell_type": "markdown",
   "metadata": {},
   "source": [
    "But after some time, we get less and less entries : a message is sent by Amazon when retrieving the page, saying that it's not a good idea to continue scraping data, and that it might be a good idea to go through their API. So, there were some options :\n",
    "- we continue to work with the bot while tweaking the parameters to behave like a normal user for the bot (by increasing the waiting time and rotating the user-agent as said before) :\n",
    "\n",
    "After some online search (https://www.scrapehero.com/how-to-prevent-getting-blacklisted-while-scraping/,\n",
    "http://blog.datahut.co/tutorial-how-to-scrape-amazon-using-python-scrapy/,\n",
    "http://docs.aws.amazon.com/AWSECommerceService/latest/DG/rest-signature.html,\n",
    "https://www.scrapehero.com/tutorial-how-to-scrape-amazon-product-details-using-python/,\n",
    "https://blog.hartleybrody.com/scrape-amazon/), we saw that Amazon was detecting the IP, it could ban it, and the solution to avoid it was to use a proxy crawler. As it costs money, we decided not to use that. Furthermore, as said here, it's a legally speaking grey area : https://benbernardblog.com/web-scraping-and-crawling-are-perfectly-legal-right/.\n",
    "\n",
    "- we try to go through the Amazon API : \n",
    "\n",
    "For the standard account, we need to put bank account information, so we prefer not to do so. For the student account, as we realized some days before the deadline that it existed, we might consider this option in the future if needed, but we wait for the epfl to accept or not the account request.\n",
    "\n",
    "- we find a field in the metadata, different from the title, that can help us to merge a book with an ebook :\n",
    "\n",
    "With some manual analysis, we found a pair of book-ebook : \n",
    "\n",
    "    {'asin': 'B000JML1QG', 'price': 0.99, 'imUrl': 'http://ecx.images-amazon.com/images/I/41VbZ%2BvxslL._BO2,204,203,200_PIsitb-sticker-v3-big,TopRight,0,-55_SX278_SY278_PIkin4,BottomRight,1,22_AA300_SH20_OU01_.jpg', 'related': {'also_viewed': ['B005LSCQ4Y', 'B0082UXYTE', 'B004TS2B4W'], 'buy_after_viewing': ['B00CS6P31U', 'B005LSCQ4Y', 'B0051EZX8Y', 'B006CRC98G']}, 'categories': [['Books', \"Children's Books\", 'Fairy Tales, Folk Tales & Myths', 'Anthologies'], ['Books', 'Literature & Fiction'], ['Kindle Store', 'Kindle eBooks', \"Children's eBooks\", 'Fairy Tales, Folk Tales & Myths', 'Anthologies'], ['Kindle Store', 'Kindle eBooks', \"Children's eBooks\", 'Fairy Tales, Folk Tales & Myths', 'Collections'], ['Kindle Store', 'Kindle eBooks', 'Literature & Fiction', 'Mythology & Folk Tales'], ['Kindle Store', 'Kindle eBooks', 'Science Fiction & Fantasy', 'Fantasy', 'Fairy Tales']]}\n",
    "\n",
    "\n",
    "    {'asin': '0554319187', 'title': \"Grimm's Fairy Stories\", 'price': 0.99, 'imUrl': 'http://ecx.images-amazon.com/images/I/41O2olixwXL.jpg', 'related': {'also_viewed': ['1607103133', '0394709306', '1937994317'], 'buy_after_viewing': ['1607103133', '0394709306', '0393088863', '0385189508']}, 'salesRank': {'Books': 2586251}, 'categories': [['Books']]}\n",
    "\n",
    "As we can see here, the only entry that is the same is the price, and it's dangerous to merge on the price as ebooks are often less expensive than the book version for the same content.\n",
    "\n",
    "- we find another service that can give us the title for a given asin :\n",
    "\n",
    "This is the option that we finally chose. The website http://asindb.com/ does exactly that. For this website, there is no bot detection as Amazon does. We can't retrieve the price, the category and the number of pages, but at least we can get the title. We can see the result below :"
   ]
  },
  {
   "cell_type": "code",
   "execution_count": 12,
   "metadata": {
    "collapsed": false
   },
   "outputs": [],
   "source": [
    "if ASINDB_GET_TITLE:\n",
    "    \n",
    "    LIMIT = 20\n",
    "    \n",
    "    prefix_asindb = 'http://asindb.com/USA/ASIN/'\n",
    "\n",
    "    dataframe = pd.DataFrame(columns=[['asin', 'title']])\n",
    "    notdefined = pd.DataFrame(columns=[['asin','notfound']])\n",
    "    dataframe.to_csv(asindb_ebooks)\n",
    "\n",
    "    for i, asin in enumerate(ebooks_asin_unique[:LIMIT]):\n",
    "        r = requests.get(prefix_asindb + asin, headers={'User-Agent': 'Mozilla/5.0 (X11; Ubuntu; Linux x86_64; rv:23.0) Gecko/20100101 Firefox/23.0'})\n",
    "        page_body = r.text\n",
    "        soup = BeautifulSoup(page_body, 'html.parser')\n",
    "\n",
    "        if i%10 == 0:\n",
    "            dataframe.to_csv(asindb_ebooks, header=False,mode='a')\n",
    "            dataframe = pd.DataFrame(columns=[['asin', 'title']])\n",
    "\n",
    "        notfound = soup.find_all('h6', text = 'No item found!!!')\n",
    "        if(len(notfound) > 0):\n",
    "            notdefined.loc[asin] = (asin,1)\n",
    "        else:\n",
    "            title = soup.find_all('th', text='Title')\n",
    "            if(len(title) > 0 and len(title[0].parent.findChildren()) >= 2):\n",
    "                dataframe.loc[asin] = (asin, title[0].parent.findChildren()[1].text)\n",
    "            else:\n",
    "                print('alerte :', asin)\n",
    "\n",
    "        waiting = np.random.rand()\n",
    "        time.sleep(waiting+1)\n",
    "\n",
    "    dataframe.to_csv(asindb_ebooks, header=False,mode='a')\n",
    "    dataframe = pd.DataFrame(columns=[['asin', 'title']])\n",
    "    \n",
    "    print(notdefined.head(2))"
   ]
  },
  {
   "cell_type": "markdown",
   "metadata": {},
   "source": [
    "Right above is the undefined entries dataframe (see below for more explanation).\n",
    "\n",
    "We can see below what kind of output it gives to us."
   ]
  },
  {
   "cell_type": "code",
   "execution_count": 13,
   "metadata": {
    "collapsed": false
   },
   "outputs": [
    {
     "data": {
      "text/html": [
       "<div>\n",
       "<style scoped>\n",
       "    .dataframe tbody tr th:only-of-type {\n",
       "        vertical-align: middle;\n",
       "    }\n",
       "\n",
       "    .dataframe tbody tr th {\n",
       "        vertical-align: top;\n",
       "    }\n",
       "\n",
       "    .dataframe thead th {\n",
       "        text-align: right;\n",
       "    }\n",
       "</style>\n",
       "<table border=\"1\" class=\"dataframe\">\n",
       "  <thead>\n",
       "    <tr style=\"text-align: right;\">\n",
       "      <th></th>\n",
       "      <th>Unnamed: 0</th>\n",
       "      <th>asin</th>\n",
       "      <th>title</th>\n",
       "    </tr>\n",
       "  </thead>\n",
       "  <tbody>\n",
       "    <tr>\n",
       "      <th>0</th>\n",
       "      <td>B000FA64PA</td>\n",
       "      <td>B000FA64PA</td>\n",
       "      <td>Saboteur: Star Wars Legends (Darth Maul) (Shor...</td>\n",
       "    </tr>\n",
       "    <tr>\n",
       "      <th>1</th>\n",
       "      <td>B000FA64PK</td>\n",
       "      <td>B000FA64PK</td>\n",
       "      <td>Recovery: Star Wars Legends (The New Jedi Orde...</td>\n",
       "    </tr>\n",
       "    <tr>\n",
       "      <th>2</th>\n",
       "      <td>B000FA64QO</td>\n",
       "      <td>B000FA64QO</td>\n",
       "      <td>Ylesia: Star Wars Legends (The New Jedi Order)...</td>\n",
       "    </tr>\n",
       "    <tr>\n",
       "      <th>3</th>\n",
       "      <td>B000FBFMVG</td>\n",
       "      <td>B000FBFMVG</td>\n",
       "      <td>A Forest Apart: Star Wars Legends (Short Story...</td>\n",
       "    </tr>\n",
       "    <tr>\n",
       "      <th>4</th>\n",
       "      <td>B000FC1BN8</td>\n",
       "      <td>B000FC1BN8</td>\n",
       "      <td>Fool's Bargain: Star Wars Legends (Novella) (S...</td>\n",
       "    </tr>\n",
       "  </tbody>\n",
       "</table>\n",
       "</div>"
      ],
      "text/plain": [
       "   Unnamed: 0        asin                                              title\n",
       "0  B000FA64PA  B000FA64PA  Saboteur: Star Wars Legends (Darth Maul) (Shor...\n",
       "1  B000FA64PK  B000FA64PK  Recovery: Star Wars Legends (The New Jedi Orde...\n",
       "2  B000FA64QO  B000FA64QO  Ylesia: Star Wars Legends (The New Jedi Order)...\n",
       "3  B000FBFMVG  B000FBFMVG  A Forest Apart: Star Wars Legends (Short Story...\n",
       "4  B000FC1BN8  B000FC1BN8  Fool's Bargain: Star Wars Legends (Novella) (S..."
      ]
     },
     "execution_count": 13,
     "metadata": {},
     "output_type": "execute_result"
    }
   ],
   "source": [
    "ebooks_metadata = read_csv(asindb_ebooks, None)\n",
    "ebooks_metadata.head()"
   ]
  },
  {
   "cell_type": "code",
   "execution_count": 14,
   "metadata": {
    "collapsed": false
   },
   "outputs": [
    {
     "data": {
      "text/plain": [
       "2741"
      ]
     },
     "execution_count": 14,
     "metadata": {},
     "output_type": "execute_result"
    }
   ],
   "source": [
    "read_csv(asindb_ebooks, None).shape[0] # number of titles retrieved"
   ]
  },
  {
   "cell_type": "markdown",
   "metadata": {},
   "source": [
    "This solution is of course not the best one : the asindb website does not contain everything. We have managed to retrieve 2741 titles over 4000 asins by using this technique, but we have no problem with the Amazon bot detection (and possible ban). We can see which entries were not retrieved by printing the notdefined dataframe.\n",
    "\n",
    "Of course, tu retrieve the 2741 entries, we set the LIMIT constant in the code to be 4000.\n",
    "\n",
    "We thus continue our analysis by using it."
   ]
  },
  {
   "cell_type": "markdown",
   "metadata": {},
   "source": [
    "Now, as we have the title information for books and ebooks, let's merge them. We read the book metadata information in books_metadata and we have the ebook metadata information with title in ebooks_metadata."
   ]
  },
  {
   "cell_type": "code",
   "execution_count": 15,
   "metadata": {
    "collapsed": false
   },
   "outputs": [
    {
     "data": {
      "text/html": [
       "<div>\n",
       "<style scoped>\n",
       "    .dataframe tbody tr th:only-of-type {\n",
       "        vertical-align: middle;\n",
       "    }\n",
       "\n",
       "    .dataframe tbody tr th {\n",
       "        vertical-align: top;\n",
       "    }\n",
       "\n",
       "    .dataframe thead th {\n",
       "        text-align: right;\n",
       "    }\n",
       "</style>\n",
       "<table border=\"1\" class=\"dataframe\">\n",
       "  <thead>\n",
       "    <tr style=\"text-align: right;\">\n",
       "      <th></th>\n",
       "      <th>Unnamed: 0</th>\n",
       "      <th>asin</th>\n",
       "      <th>salesRank</th>\n",
       "      <th>categories</th>\n",
       "      <th>title</th>\n",
       "      <th>price</th>\n",
       "    </tr>\n",
       "  </thead>\n",
       "  <tbody>\n",
       "    <tr>\n",
       "      <th>0</th>\n",
       "      <td>0</td>\n",
       "      <td>0001048791</td>\n",
       "      <td>{'Books': 6334800}</td>\n",
       "      <td>[['Books']]</td>\n",
       "      <td>The Crucible: Performed by Stuart Pankin, Jero...</td>\n",
       "      <td>NaN</td>\n",
       "    </tr>\n",
       "    <tr>\n",
       "      <th>1</th>\n",
       "      <td>1</td>\n",
       "      <td>0001048775</td>\n",
       "      <td>{'Books': 13243226}</td>\n",
       "      <td>[['Books']]</td>\n",
       "      <td>Measure for Measure: Complete &amp;amp; Unabridged</td>\n",
       "      <td>NaN</td>\n",
       "    </tr>\n",
       "    <tr>\n",
       "      <th>2</th>\n",
       "      <td>2</td>\n",
       "      <td>0001048236</td>\n",
       "      <td>{'Books': 8973864}</td>\n",
       "      <td>[['Books']]</td>\n",
       "      <td>The Sherlock Holmes Audio Collection</td>\n",
       "      <td>9.26</td>\n",
       "    </tr>\n",
       "    <tr>\n",
       "      <th>3</th>\n",
       "      <td>3</td>\n",
       "      <td>0000401048</td>\n",
       "      <td>{'Books': 6448843}</td>\n",
       "      <td>[['Books']]</td>\n",
       "      <td>The rogue of publishers' row;: Confessions of ...</td>\n",
       "      <td>NaN</td>\n",
       "    </tr>\n",
       "    <tr>\n",
       "      <th>4</th>\n",
       "      <td>4</td>\n",
       "      <td>0001019880</td>\n",
       "      <td>{'Books': 9589258}</td>\n",
       "      <td>[['Books']]</td>\n",
       "      <td>Classic Soul Winner's New Testament Bible</td>\n",
       "      <td>5.39</td>\n",
       "    </tr>\n",
       "  </tbody>\n",
       "</table>\n",
       "</div>"
      ],
      "text/plain": [
       "   Unnamed: 0        asin            salesRank   categories  \\\n",
       "0           0  0001048791   {'Books': 6334800}  [['Books']]   \n",
       "1           1  0001048775  {'Books': 13243226}  [['Books']]   \n",
       "2           2  0001048236   {'Books': 8973864}  [['Books']]   \n",
       "3           3  0000401048   {'Books': 6448843}  [['Books']]   \n",
       "4           4  0001019880   {'Books': 9589258}  [['Books']]   \n",
       "\n",
       "                                               title  price  \n",
       "0  The Crucible: Performed by Stuart Pankin, Jero...    NaN  \n",
       "1     Measure for Measure: Complete &amp; Unabridged    NaN  \n",
       "2               The Sherlock Holmes Audio Collection   9.26  \n",
       "3  The rogue of publishers' row;: Confessions of ...    NaN  \n",
       "4          Classic Soul Winner's New Testament Bible   5.39  "
      ]
     },
     "execution_count": 15,
     "metadata": {},
     "output_type": "execute_result"
    }
   ],
   "source": [
    "books_metadata = pd.read_csv(books_metadata_path)\n",
    "books_metadata.head()"
   ]
  },
  {
   "cell_type": "markdown",
   "metadata": {},
   "source": [
    "We merge them on title, and we see that we only get 1297 entries. It's not bad, but we can for sure have a better result. As we can remark, there is a lot of time the title The Space Between. We will discuss later about it."
   ]
  },
  {
   "cell_type": "code",
   "execution_count": 16,
   "metadata": {
    "collapsed": false
   },
   "outputs": [
    {
     "data": {
      "text/html": [
       "<div>\n",
       "<style scoped>\n",
       "    .dataframe tbody tr th:only-of-type {\n",
       "        vertical-align: middle;\n",
       "    }\n",
       "\n",
       "    .dataframe tbody tr th {\n",
       "        vertical-align: top;\n",
       "    }\n",
       "\n",
       "    .dataframe thead th {\n",
       "        text-align: right;\n",
       "    }\n",
       "</style>\n",
       "<table border=\"1\" class=\"dataframe\">\n",
       "  <thead>\n",
       "    <tr style=\"text-align: right;\">\n",
       "      <th></th>\n",
       "      <th>asin_books</th>\n",
       "      <th>asin_ebooks</th>\n",
       "      <th>salesRank</th>\n",
       "      <th>categories</th>\n",
       "      <th>title</th>\n",
       "      <th>price</th>\n",
       "    </tr>\n",
       "  </thead>\n",
       "  <tbody>\n",
       "    <tr>\n",
       "      <th>0</th>\n",
       "      <td>0002008505</td>\n",
       "      <td>B002DYJ7DM</td>\n",
       "      <td>{'Books': 5587764}</td>\n",
       "      <td>[['Books']]</td>\n",
       "      <td>The Space Between</td>\n",
       "      <td>4.74</td>\n",
       "    </tr>\n",
       "    <tr>\n",
       "      <th>1</th>\n",
       "      <td>0615891411</td>\n",
       "      <td>B002DYJ7DM</td>\n",
       "      <td>{'Books': 4145053}</td>\n",
       "      <td>[['Books']]</td>\n",
       "      <td>The Space Between</td>\n",
       "      <td>2.99</td>\n",
       "    </tr>\n",
       "    <tr>\n",
       "      <th>2</th>\n",
       "      <td>1579660584</td>\n",
       "      <td>B002DYJ7DM</td>\n",
       "      <td>{'Books': 2486827}</td>\n",
       "      <td>[['Books']]</td>\n",
       "      <td>The Space Between</td>\n",
       "      <td>20.08</td>\n",
       "    </tr>\n",
       "    <tr>\n",
       "      <th>3</th>\n",
       "      <td>1588515508</td>\n",
       "      <td>B002DYJ7DM</td>\n",
       "      <td>{'Books': 5985767}</td>\n",
       "      <td>[['Books']]</td>\n",
       "      <td>The Space Between</td>\n",
       "      <td>NaN</td>\n",
       "    </tr>\n",
       "    <tr>\n",
       "      <th>4</th>\n",
       "      <td>1595143394</td>\n",
       "      <td>B002DYJ7DM</td>\n",
       "      <td>{'Books': 141638}</td>\n",
       "      <td>[['Books']]</td>\n",
       "      <td>The Space Between</td>\n",
       "      <td>7.13</td>\n",
       "    </tr>\n",
       "  </tbody>\n",
       "</table>\n",
       "</div>"
      ],
      "text/plain": [
       "   asin_books asin_ebooks           salesRank   categories              title  \\\n",
       "0  0002008505  B002DYJ7DM  {'Books': 5587764}  [['Books']]  The Space Between   \n",
       "1  0615891411  B002DYJ7DM  {'Books': 4145053}  [['Books']]  The Space Between   \n",
       "2  1579660584  B002DYJ7DM  {'Books': 2486827}  [['Books']]  The Space Between   \n",
       "3  1588515508  B002DYJ7DM  {'Books': 5985767}  [['Books']]  The Space Between   \n",
       "4  1595143394  B002DYJ7DM   {'Books': 141638}  [['Books']]  The Space Between   \n",
       "\n",
       "   price  \n",
       "0   4.74  \n",
       "1   2.99  \n",
       "2  20.08  \n",
       "3    NaN  \n",
       "4   7.13  "
      ]
     },
     "execution_count": 16,
     "metadata": {},
     "output_type": "execute_result"
    }
   ],
   "source": [
    "#We merge, and get the head. Everything after is here just to have a nicer representation of the first elements\n",
    "books_metadata.merge(ebooks_metadata, left_on='title', right_on='title').head().iloc[:,[1,7,2,3,4,5]].rename(columns={'asin_x':'asin_books', 'asin_y':'asin_ebooks'})"
   ]
  },
  {
   "cell_type": "code",
   "execution_count": 17,
   "metadata": {
    "collapsed": false
   },
   "outputs": [
    {
     "data": {
      "text/plain": [
       "1297"
      ]
     },
     "execution_count": 17,
     "metadata": {},
     "output_type": "execute_result"
    }
   ],
   "source": [
    "books_metadata.merge(ebooks_metadata, left_on='title', right_on='title').shape[0]"
   ]
  },
  {
   "cell_type": "markdown",
   "metadata": {},
   "source": [
    "As we were saying, 1297 is not a big number, and we can do better. We have done the most basic possible thing to do : we have put the title for books and ebooks in lower form (minuscule)."
   ]
  },
  {
   "cell_type": "code",
   "execution_count": 18,
   "metadata": {
    "collapsed": false
   },
   "outputs": [
    {
     "data": {
      "text/html": [
       "<div>\n",
       "<style scoped>\n",
       "    .dataframe tbody tr th:only-of-type {\n",
       "        vertical-align: middle;\n",
       "    }\n",
       "\n",
       "    .dataframe tbody tr th {\n",
       "        vertical-align: top;\n",
       "    }\n",
       "\n",
       "    .dataframe thead th {\n",
       "        text-align: right;\n",
       "    }\n",
       "</style>\n",
       "<table border=\"1\" class=\"dataframe\">\n",
       "  <thead>\n",
       "    <tr style=\"text-align: right;\">\n",
       "      <th></th>\n",
       "      <th>Unnamed: 0</th>\n",
       "      <th>asin</th>\n",
       "      <th>salesRank</th>\n",
       "      <th>categories</th>\n",
       "      <th>title</th>\n",
       "      <th>price</th>\n",
       "    </tr>\n",
       "  </thead>\n",
       "  <tbody>\n",
       "    <tr>\n",
       "      <th>0</th>\n",
       "      <td>0</td>\n",
       "      <td>0001048791</td>\n",
       "      <td>{'Books': 6334800}</td>\n",
       "      <td>[['Books']]</td>\n",
       "      <td>the crucible: performed by stuart pankin, jero...</td>\n",
       "      <td>NaN</td>\n",
       "    </tr>\n",
       "    <tr>\n",
       "      <th>1</th>\n",
       "      <td>1</td>\n",
       "      <td>0001048775</td>\n",
       "      <td>{'Books': 13243226}</td>\n",
       "      <td>[['Books']]</td>\n",
       "      <td>measure for measure: complete &amp;amp; unabridged</td>\n",
       "      <td>NaN</td>\n",
       "    </tr>\n",
       "    <tr>\n",
       "      <th>2</th>\n",
       "      <td>2</td>\n",
       "      <td>0001048236</td>\n",
       "      <td>{'Books': 8973864}</td>\n",
       "      <td>[['Books']]</td>\n",
       "      <td>the sherlock holmes audio collection</td>\n",
       "      <td>9.26</td>\n",
       "    </tr>\n",
       "    <tr>\n",
       "      <th>3</th>\n",
       "      <td>3</td>\n",
       "      <td>0000401048</td>\n",
       "      <td>{'Books': 6448843}</td>\n",
       "      <td>[['Books']]</td>\n",
       "      <td>the rogue of publishers' row;: confessions of ...</td>\n",
       "      <td>NaN</td>\n",
       "    </tr>\n",
       "    <tr>\n",
       "      <th>4</th>\n",
       "      <td>4</td>\n",
       "      <td>0001019880</td>\n",
       "      <td>{'Books': 9589258}</td>\n",
       "      <td>[['Books']]</td>\n",
       "      <td>classic soul winner's new testament bible</td>\n",
       "      <td>5.39</td>\n",
       "    </tr>\n",
       "  </tbody>\n",
       "</table>\n",
       "</div>"
      ],
      "text/plain": [
       "   Unnamed: 0        asin            salesRank   categories  \\\n",
       "0           0  0001048791   {'Books': 6334800}  [['Books']]   \n",
       "1           1  0001048775  {'Books': 13243226}  [['Books']]   \n",
       "2           2  0001048236   {'Books': 8973864}  [['Books']]   \n",
       "3           3  0000401048   {'Books': 6448843}  [['Books']]   \n",
       "4           4  0001019880   {'Books': 9589258}  [['Books']]   \n",
       "\n",
       "                                               title  price  \n",
       "0  the crucible: performed by stuart pankin, jero...    NaN  \n",
       "1     measure for measure: complete &amp; unabridged    NaN  \n",
       "2               the sherlock holmes audio collection   9.26  \n",
       "3  the rogue of publishers' row;: confessions of ...    NaN  \n",
       "4          classic soul winner's new testament bible   5.39  "
      ]
     },
     "execution_count": 18,
     "metadata": {},
     "output_type": "execute_result"
    }
   ],
   "source": [
    "books_metadata['title'] = books_metadata.title.str.lower()\n",
    "books_metadata.head()"
   ]
  },
  {
   "cell_type": "code",
   "execution_count": 19,
   "metadata": {
    "collapsed": false
   },
   "outputs": [
    {
     "data": {
      "text/html": [
       "<div>\n",
       "<style scoped>\n",
       "    .dataframe tbody tr th:only-of-type {\n",
       "        vertical-align: middle;\n",
       "    }\n",
       "\n",
       "    .dataframe tbody tr th {\n",
       "        vertical-align: top;\n",
       "    }\n",
       "\n",
       "    .dataframe thead th {\n",
       "        text-align: right;\n",
       "    }\n",
       "</style>\n",
       "<table border=\"1\" class=\"dataframe\">\n",
       "  <thead>\n",
       "    <tr style=\"text-align: right;\">\n",
       "      <th></th>\n",
       "      <th>Unnamed: 0</th>\n",
       "      <th>asin</th>\n",
       "      <th>title</th>\n",
       "    </tr>\n",
       "  </thead>\n",
       "  <tbody>\n",
       "    <tr>\n",
       "      <th>0</th>\n",
       "      <td>B000FA64PA</td>\n",
       "      <td>B000FA64PA</td>\n",
       "      <td>saboteur: star wars legends (darth maul) (shor...</td>\n",
       "    </tr>\n",
       "    <tr>\n",
       "      <th>1</th>\n",
       "      <td>B000FA64PK</td>\n",
       "      <td>B000FA64PK</td>\n",
       "      <td>recovery: star wars legends (the new jedi orde...</td>\n",
       "    </tr>\n",
       "    <tr>\n",
       "      <th>2</th>\n",
       "      <td>B000FA64QO</td>\n",
       "      <td>B000FA64QO</td>\n",
       "      <td>ylesia: star wars legends (the new jedi order)...</td>\n",
       "    </tr>\n",
       "    <tr>\n",
       "      <th>3</th>\n",
       "      <td>B000FBFMVG</td>\n",
       "      <td>B000FBFMVG</td>\n",
       "      <td>a forest apart: star wars legends (short story...</td>\n",
       "    </tr>\n",
       "    <tr>\n",
       "      <th>4</th>\n",
       "      <td>B000FC1BN8</td>\n",
       "      <td>B000FC1BN8</td>\n",
       "      <td>fool's bargain: star wars legends (novella) (s...</td>\n",
       "    </tr>\n",
       "  </tbody>\n",
       "</table>\n",
       "</div>"
      ],
      "text/plain": [
       "   Unnamed: 0        asin                                              title\n",
       "0  B000FA64PA  B000FA64PA  saboteur: star wars legends (darth maul) (shor...\n",
       "1  B000FA64PK  B000FA64PK  recovery: star wars legends (the new jedi orde...\n",
       "2  B000FA64QO  B000FA64QO  ylesia: star wars legends (the new jedi order)...\n",
       "3  B000FBFMVG  B000FBFMVG  a forest apart: star wars legends (short story...\n",
       "4  B000FC1BN8  B000FC1BN8  fool's bargain: star wars legends (novella) (s..."
      ]
     },
     "execution_count": 19,
     "metadata": {},
     "output_type": "execute_result"
    }
   ],
   "source": [
    "ebooks_metadata['title'] = ebooks_metadata.title.str.lower()\n",
    "ebooks_metadata.head()"
   ]
  },
  {
   "cell_type": "code",
   "execution_count": 20,
   "metadata": {
    "collapsed": false
   },
   "outputs": [],
   "source": [
    "merged_metadatas = books_metadata.merge(ebooks_metadata, left_on='title', right_on='title')\n",
    "merged_metadatas = merged_metadatas[['asin_x', 'asin_y', 'title', 'price', 'categories', 'salesRank']]\n",
    "merged_metadatas = merged_metadatas.rename(columns={'asin_x': 'asin_book', 'asin_y': 'asin_ebook'})"
   ]
  },
  {
   "cell_type": "code",
   "execution_count": 21,
   "metadata": {
    "collapsed": false
   },
   "outputs": [
    {
     "data": {
      "text/html": [
       "<div>\n",
       "<style scoped>\n",
       "    .dataframe tbody tr th:only-of-type {\n",
       "        vertical-align: middle;\n",
       "    }\n",
       "\n",
       "    .dataframe tbody tr th {\n",
       "        vertical-align: top;\n",
       "    }\n",
       "\n",
       "    .dataframe thead th {\n",
       "        text-align: right;\n",
       "    }\n",
       "</style>\n",
       "<table border=\"1\" class=\"dataframe\">\n",
       "  <thead>\n",
       "    <tr style=\"text-align: right;\">\n",
       "      <th></th>\n",
       "      <th>asin_book</th>\n",
       "      <th>asin_ebook</th>\n",
       "      <th>title</th>\n",
       "      <th>price</th>\n",
       "      <th>categories</th>\n",
       "      <th>salesRank</th>\n",
       "    </tr>\n",
       "  </thead>\n",
       "  <tbody>\n",
       "    <tr>\n",
       "      <th>0</th>\n",
       "      <td>0002008505</td>\n",
       "      <td>B002DYJ7DM</td>\n",
       "      <td>the space between</td>\n",
       "      <td>4.74</td>\n",
       "      <td>[['Books']]</td>\n",
       "      <td>{'Books': 5587764}</td>\n",
       "    </tr>\n",
       "    <tr>\n",
       "      <th>1</th>\n",
       "      <td>0615891411</td>\n",
       "      <td>B002DYJ7DM</td>\n",
       "      <td>the space between</td>\n",
       "      <td>2.99</td>\n",
       "      <td>[['Books']]</td>\n",
       "      <td>{'Books': 4145053}</td>\n",
       "    </tr>\n",
       "    <tr>\n",
       "      <th>2</th>\n",
       "      <td>1579660584</td>\n",
       "      <td>B002DYJ7DM</td>\n",
       "      <td>the space between</td>\n",
       "      <td>20.08</td>\n",
       "      <td>[['Books']]</td>\n",
       "      <td>{'Books': 2486827}</td>\n",
       "    </tr>\n",
       "    <tr>\n",
       "      <th>3</th>\n",
       "      <td>1588515508</td>\n",
       "      <td>B002DYJ7DM</td>\n",
       "      <td>the space between</td>\n",
       "      <td>NaN</td>\n",
       "      <td>[['Books']]</td>\n",
       "      <td>{'Books': 5985767}</td>\n",
       "    </tr>\n",
       "    <tr>\n",
       "      <th>4</th>\n",
       "      <td>1595143394</td>\n",
       "      <td>B002DYJ7DM</td>\n",
       "      <td>the space between</td>\n",
       "      <td>7.13</td>\n",
       "      <td>[['Books']]</td>\n",
       "      <td>{'Books': 141638}</td>\n",
       "    </tr>\n",
       "  </tbody>\n",
       "</table>\n",
       "</div>"
      ],
      "text/plain": [
       "    asin_book  asin_ebook              title  price   categories  \\\n",
       "0  0002008505  B002DYJ7DM  the space between   4.74  [['Books']]   \n",
       "1  0615891411  B002DYJ7DM  the space between   2.99  [['Books']]   \n",
       "2  1579660584  B002DYJ7DM  the space between  20.08  [['Books']]   \n",
       "3  1588515508  B002DYJ7DM  the space between    NaN  [['Books']]   \n",
       "4  1595143394  B002DYJ7DM  the space between   7.13  [['Books']]   \n",
       "\n",
       "            salesRank  \n",
       "0  {'Books': 5587764}  \n",
       "1  {'Books': 4145053}  \n",
       "2  {'Books': 2486827}  \n",
       "3  {'Books': 5985767}  \n",
       "4   {'Books': 141638}  "
      ]
     },
     "execution_count": 21,
     "metadata": {},
     "output_type": "execute_result"
    }
   ],
   "source": [
    "merged_metadatas.head()"
   ]
  },
  {
   "cell_type": "markdown",
   "metadata": {},
   "source": [
    "As we see, we have a bigger number of entries. We could have tried to increase this number, however as we will see later, we already have some problems with this 'strict' way of doing."
   ]
  },
  {
   "cell_type": "code",
   "execution_count": 22,
   "metadata": {
    "collapsed": false
   },
   "outputs": [
    {
     "data": {
      "text/plain": [
       "1506"
      ]
     },
     "execution_count": 22,
     "metadata": {},
     "output_type": "execute_result"
    }
   ],
   "source": [
    "merged_metadatas.shape[0]"
   ]
  },
  {
   "cell_type": "markdown",
   "metadata": {},
   "source": [
    "So we have merged the two dataframes into one, and it seems that we can do some analysis on it. We have 1506 entries, so it's good for a first analysis in milestone 2 to do so.\n",
    "But, as said before, there are title duplicates. It corresponds to books (there is only one duplicate entry for ebooks, for the article 'Second Chances') that have the same title."
   ]
  },
  {
   "cell_type": "code",
   "execution_count": 23,
   "metadata": {
    "collapsed": false
   },
   "outputs": [
    {
     "data": {
      "text/html": [
       "<div>\n",
       "<style scoped>\n",
       "    .dataframe tbody tr th:only-of-type {\n",
       "        vertical-align: middle;\n",
       "    }\n",
       "\n",
       "    .dataframe tbody tr th {\n",
       "        vertical-align: top;\n",
       "    }\n",
       "\n",
       "    .dataframe thead th {\n",
       "        text-align: right;\n",
       "    }\n",
       "</style>\n",
       "<table border=\"1\" class=\"dataframe\">\n",
       "  <thead>\n",
       "    <tr style=\"text-align: right;\">\n",
       "      <th></th>\n",
       "      <th>asin_book</th>\n",
       "      <th>asin_ebook</th>\n",
       "      <th>title</th>\n",
       "      <th>price</th>\n",
       "      <th>categories</th>\n",
       "      <th>salesRank</th>\n",
       "    </tr>\n",
       "  </thead>\n",
       "  <tbody>\n",
       "    <tr>\n",
       "      <th>0</th>\n",
       "      <td>0002008505</td>\n",
       "      <td>B002DYJ7DM</td>\n",
       "      <td>the space between</td>\n",
       "      <td>4.74</td>\n",
       "      <td>[['Books']]</td>\n",
       "      <td>{'Books': 5587764}</td>\n",
       "    </tr>\n",
       "    <tr>\n",
       "      <th>1</th>\n",
       "      <td>0615891411</td>\n",
       "      <td>B002DYJ7DM</td>\n",
       "      <td>the space between</td>\n",
       "      <td>2.99</td>\n",
       "      <td>[['Books']]</td>\n",
       "      <td>{'Books': 4145053}</td>\n",
       "    </tr>\n",
       "    <tr>\n",
       "      <th>2</th>\n",
       "      <td>1579660584</td>\n",
       "      <td>B002DYJ7DM</td>\n",
       "      <td>the space between</td>\n",
       "      <td>20.08</td>\n",
       "      <td>[['Books']]</td>\n",
       "      <td>{'Books': 2486827}</td>\n",
       "    </tr>\n",
       "    <tr>\n",
       "      <th>3</th>\n",
       "      <td>1588515508</td>\n",
       "      <td>B002DYJ7DM</td>\n",
       "      <td>the space between</td>\n",
       "      <td>NaN</td>\n",
       "      <td>[['Books']]</td>\n",
       "      <td>{'Books': 5985767}</td>\n",
       "    </tr>\n",
       "    <tr>\n",
       "      <th>4</th>\n",
       "      <td>1595143394</td>\n",
       "      <td>B002DYJ7DM</td>\n",
       "      <td>the space between</td>\n",
       "      <td>7.13</td>\n",
       "      <td>[['Books']]</td>\n",
       "      <td>{'Books': 141638}</td>\n",
       "    </tr>\n",
       "    <tr>\n",
       "      <th>5</th>\n",
       "      <td>1601540817</td>\n",
       "      <td>B002DYJ7DM</td>\n",
       "      <td>the space between</td>\n",
       "      <td>10.99</td>\n",
       "      <td>[['Books']]</td>\n",
       "      <td>{'Books': 11114107}</td>\n",
       "    </tr>\n",
       "    <tr>\n",
       "      <th>6</th>\n",
       "      <td>1625530226</td>\n",
       "      <td>B002DYJ7DM</td>\n",
       "      <td>the space between</td>\n",
       "      <td>6.99</td>\n",
       "      <td>[['Books']]</td>\n",
       "      <td>{'Books': 2678708}</td>\n",
       "    </tr>\n",
       "  </tbody>\n",
       "</table>\n",
       "</div>"
      ],
      "text/plain": [
       "    asin_book  asin_ebook              title  price   categories  \\\n",
       "0  0002008505  B002DYJ7DM  the space between   4.74  [['Books']]   \n",
       "1  0615891411  B002DYJ7DM  the space between   2.99  [['Books']]   \n",
       "2  1579660584  B002DYJ7DM  the space between  20.08  [['Books']]   \n",
       "3  1588515508  B002DYJ7DM  the space between    NaN  [['Books']]   \n",
       "4  1595143394  B002DYJ7DM  the space between   7.13  [['Books']]   \n",
       "5  1601540817  B002DYJ7DM  the space between  10.99  [['Books']]   \n",
       "6  1625530226  B002DYJ7DM  the space between   6.99  [['Books']]   \n",
       "\n",
       "             salesRank  \n",
       "0   {'Books': 5587764}  \n",
       "1   {'Books': 4145053}  \n",
       "2   {'Books': 2486827}  \n",
       "3   {'Books': 5985767}  \n",
       "4    {'Books': 141638}  \n",
       "5  {'Books': 11114107}  \n",
       "6   {'Books': 2678708}  "
      ]
     },
     "execution_count": 23,
     "metadata": {},
     "output_type": "execute_result"
    }
   ],
   "source": [
    "merged_metadatas.head(7)"
   ]
  },
  {
   "cell_type": "code",
   "execution_count": 24,
   "metadata": {
    "collapsed": false
   },
   "outputs": [
    {
     "data": {
      "text/plain": [
       "count           2741\n",
       "unique          2739\n",
       "top       armageddon\n",
       "freq               2\n",
       "Name: title, dtype: object"
      ]
     },
     "execution_count": 24,
     "metadata": {},
     "output_type": "execute_result"
    }
   ],
   "source": [
    "ebooks_metadata.title.describe()"
   ]
  },
  {
   "cell_type": "markdown",
   "metadata": {},
   "source": [
    "We thus thought that we could consider only pairs that have a unique title in the whole dataframe. In that way, we only have articles that have a unique name, at least in the period in which the dataset has been created, so that we could only have exactly the same content for the book and the ebook. \n",
    "\n",
    "We thus drop all elements that have a title that exists more than one time in the dataframe.\n",
    "\n",
    "It's naive, as we don't have all books and ebooks of Amazon, even for the period given, but we wanted to try."
   ]
  },
  {
   "cell_type": "code",
   "execution_count": 25,
   "metadata": {
    "collapsed": false
   },
   "outputs": [
    {
     "data": {
      "text/html": [
       "<div>\n",
       "<style scoped>\n",
       "    .dataframe tbody tr th:only-of-type {\n",
       "        vertical-align: middle;\n",
       "    }\n",
       "\n",
       "    .dataframe tbody tr th {\n",
       "        vertical-align: top;\n",
       "    }\n",
       "\n",
       "    .dataframe thead th {\n",
       "        text-align: right;\n",
       "    }\n",
       "</style>\n",
       "<table border=\"1\" class=\"dataframe\">\n",
       "  <thead>\n",
       "    <tr style=\"text-align: right;\">\n",
       "      <th></th>\n",
       "      <th>asin_book</th>\n",
       "      <th>asin_ebook</th>\n",
       "      <th>title</th>\n",
       "      <th>price</th>\n",
       "      <th>categories</th>\n",
       "      <th>salesRank</th>\n",
       "    </tr>\n",
       "  </thead>\n",
       "  <tbody>\n",
       "    <tr>\n",
       "      <th>39</th>\n",
       "      <td>0007269854</td>\n",
       "      <td>B003ZUY19I</td>\n",
       "      <td>the ice princess</td>\n",
       "      <td>7.59</td>\n",
       "      <td>[['Books']]</td>\n",
       "      <td>{'Books': 2527081}</td>\n",
       "    </tr>\n",
       "    <tr>\n",
       "      <th>95</th>\n",
       "      <td>0060517689</td>\n",
       "      <td>B0036ZAHDG</td>\n",
       "      <td>in the mood</td>\n",
       "      <td>2.99</td>\n",
       "      <td>[['Books']]</td>\n",
       "      <td>{'Books': 2663548}</td>\n",
       "    </tr>\n",
       "    <tr>\n",
       "      <th>121</th>\n",
       "      <td>0060595620</td>\n",
       "      <td>B00480P58K</td>\n",
       "      <td>the sweetest taboo</td>\n",
       "      <td>8.70</td>\n",
       "      <td>[['Books']]</td>\n",
       "      <td>{'Books': 2956119}</td>\n",
       "    </tr>\n",
       "    <tr>\n",
       "      <th>173</th>\n",
       "      <td>0060813032</td>\n",
       "      <td>B0049H8X86</td>\n",
       "      <td>dragons from the sea (the strongbow saga, book 2)</td>\n",
       "      <td>3.60</td>\n",
       "      <td>[['Books']]</td>\n",
       "      <td>{'Books': 1269204}</td>\n",
       "    </tr>\n",
       "    <tr>\n",
       "      <th>200</th>\n",
       "      <td>0061084220</td>\n",
       "      <td>B004QS98KU</td>\n",
       "      <td>raven's bride</td>\n",
       "      <td>7.69</td>\n",
       "      <td>[['Books']]</td>\n",
       "      <td>{'Books': 2911109}</td>\n",
       "    </tr>\n",
       "    <tr>\n",
       "      <th>460</th>\n",
       "      <td>0140249249</td>\n",
       "      <td>B003XVYGXK</td>\n",
       "      <td>iced</td>\n",
       "      <td>NaN</td>\n",
       "      <td>[['Books']]</td>\n",
       "      <td>{'Books': 1225702}</td>\n",
       "    </tr>\n",
       "    <tr>\n",
       "      <th>461</th>\n",
       "      <td>0140259678</td>\n",
       "      <td>B003C1R5CA</td>\n",
       "      <td>a timely death</td>\n",
       "      <td>NaN</td>\n",
       "      <td>[['Books']]</td>\n",
       "      <td>{'Books': 3077680}</td>\n",
       "    </tr>\n",
       "  </tbody>\n",
       "</table>\n",
       "</div>"
      ],
      "text/plain": [
       "      asin_book  asin_ebook  \\\n",
       "39   0007269854  B003ZUY19I   \n",
       "95   0060517689  B0036ZAHDG   \n",
       "121  0060595620  B00480P58K   \n",
       "173  0060813032  B0049H8X86   \n",
       "200  0061084220  B004QS98KU   \n",
       "460  0140249249  B003XVYGXK   \n",
       "461  0140259678  B003C1R5CA   \n",
       "\n",
       "                                                 title  price   categories  \\\n",
       "39                                    the ice princess   7.59  [['Books']]   \n",
       "95                                         in the mood   2.99  [['Books']]   \n",
       "121                                 the sweetest taboo   8.70  [['Books']]   \n",
       "173  dragons from the sea (the strongbow saga, book 2)   3.60  [['Books']]   \n",
       "200                                      raven's bride   7.69  [['Books']]   \n",
       "460                                               iced    NaN  [['Books']]   \n",
       "461                                     a timely death    NaN  [['Books']]   \n",
       "\n",
       "              salesRank  \n",
       "39   {'Books': 2527081}  \n",
       "95   {'Books': 2663548}  \n",
       "121  {'Books': 2956119}  \n",
       "173  {'Books': 1269204}  \n",
       "200  {'Books': 2911109}  \n",
       "460  {'Books': 1225702}  \n",
       "461  {'Books': 3077680}  "
      ]
     },
     "execution_count": 25,
     "metadata": {},
     "output_type": "execute_result"
    }
   ],
   "source": [
    "merged_metadatas = merged_metadatas.drop_duplicates('title',keep=False)\n",
    "merged_metadatas.head(7)"
   ]
  },
  {
   "cell_type": "markdown",
   "metadata": {},
   "source": [
    "We now only have 148 elements in the merged collection. We reming the reader about the fact that we tried to obtain 4000 ebooks titles, we got only 2741. By merging, we got 1506 entries, and when we drop all elements that have duplicates, we only have 148 elements."
   ]
  },
  {
   "cell_type": "code",
   "execution_count": 26,
   "metadata": {
    "collapsed": false
   },
   "outputs": [
    {
     "data": {
      "text/plain": [
       "148"
      ]
     },
     "execution_count": 26,
     "metadata": {},
     "output_type": "execute_result"
    }
   ],
   "source": [
    "merged_metadatas.shape[0]"
   ]
  },
  {
   "cell_type": "markdown",
   "metadata": {},
   "source": [
    "After some manual analysis, we have unfortunately seen that for most entries, even if there is only one tuple (asin_book, asin_ebook), the two are not on the same content. We have an example for the first entry (the ice princess) : 'https://www.amazon.com/Princess-Patrik-Hedstrom-Erica-Falck/dp/0007269854' and 'https://www.amazon.com/Ice-Princess-Elizabeth-Hoyt-ebook/dp/B003ZUY19I' have the same title but are written by two different people, and have different content.\n",
    "\n",
    "There are some tuples that match : for the article 'dragons from the sea (the strongbow saga, book 2)', we have the same content.\n",
    "\n",
    "It's hard for us to quantify the number of such articles that do not match. We have done some by hand, and we have seen that a lot was not matching at all. A way to have good matches automatically could be to obtain the authors. We think that for the same author, it's rare to have two book with the same name. If we forget a minute about problems like the number of authors which is different for the ebook and the book even if it's the same, or different naming conventions (A fictive example : J. F. Brown or J. Brown), we would need the author information for each book and ebook of the tuples that we have merged.\n",
    "\n",
    "The website we were <a href='http://asindb.com/'>using</a> does not provide this information. We then need to obtain it from somewhere else. \n",
    "\n",
    "We have tried to look at the library genesis, using this <a href='http://garbage.world/posts/libgen/'>tutorial</a>. However, there are only two ways to get back information about a book : using a special id (Libgen id), or by date. Furthermore, the asin field exists, but after some tests for which none of the articles had asin, it's hard to say if it's a good option. Thus, we have thought it's not the best solution for us.\n",
    "\n",
    "We have also been told to look at the Gutenberg project. It could have been a good idea if we could search by asin in the metadatas, that are available. However, it seems that the asin data is not available, so we won't use it neither."
   ]
  },
  {
   "cell_type": "markdown",
   "metadata": {},
   "source": [
    "-- --\n",
    "## Review analysis"
   ]
  },
  {
   "cell_type": "markdown",
   "metadata": {},
   "source": [
    "Even if we have some problems that will need to be fixed for the milestone 3, we have continued in the analysis. Of course we had to test with wrong data, but we will ensure that in the future, we will make it work on correct data (one with same author and title for books and ebooks). The code is here to show that we have worked on other steps of the pipeline."
   ]
  },
  {
   "cell_type": "code",
   "execution_count": 27,
   "metadata": {
    "collapsed": false
   },
   "outputs": [
    {
     "name": "stderr",
     "output_type": "stream",
     "text": [
      "/Users/MJ/anaconda/lib/python3.6/site-packages/nltk/twitter/__init__.py:20: UserWarning: The twython library has not been installed. Some functionality from the twitter package will not be available.\n",
      "  warnings.warn(\"The twython library has not been installed. \"\n"
     ]
    }
   ],
   "source": [
    "import nltk\n",
    "from nltk.sentiment.vader import SentimentIntensityAnalyzer"
   ]
  },
  {
   "cell_type": "markdown",
   "metadata": {},
   "source": [
    "Here you will need to uncomment this and download vader_lexicon as described in the README."
   ]
  },
  {
   "cell_type": "code",
   "execution_count": 28,
   "metadata": {
    "collapsed": false
   },
   "outputs": [],
   "source": [
    "#nltk.download_shell()"
   ]
  },
  {
   "cell_type": "markdown",
   "metadata": {},
   "source": [
    "Next we are going to fetch the reviews of the books for which we have the ebooks.\n",
    "\n",
    "As the file for the reviews of the books is quite big, we are going the read it into chunks."
   ]
  },
  {
   "cell_type": "code",
   "execution_count": 29,
   "metadata": {
    "collapsed": true
   },
   "outputs": [],
   "source": [
    "def find_matched(list_asins, in_path, out_path):\n",
    "    pd.DataFrame(columns=[['asin','overall', 'summary', 'reviewerID', 'helpful','reviewText', 'reviewerName']]).to_csv(out_path)\n",
    "    \n",
    "    for chunk in pd.read_json(in_path, lines=True, chunksize=50000):\n",
    "        \n",
    "        # look if some asins of the chunk match the ones in the given list\n",
    "        filtered = chunk[chunk['asin'].isin(list_asins)].dropna(how='all')\n",
    "        \n",
    "        if len(filtered) > 0:\n",
    "            # write the data if any\n",
    "            filtered[['asin','overall', 'summary', 'reviewerID', 'helpful','reviewText', 'reviewerName']].to_csv(out_path,header=False, mode='a')\n"
   ]
  },
  {
   "cell_type": "code",
   "execution_count": 30,
   "metadata": {
    "collapsed": true
   },
   "outputs": [],
   "source": [
    "if WRITE_FIND_MATCHED:\n",
    "    find_matched(merged_metadatas['asin_book'].values, books_5core_path, matched_books_path)\n",
    "    find_matched(merged_metadatas['asin_ebook'].values, kindle_5core_path, matched_ebooks_path)"
   ]
  },
  {
   "cell_type": "markdown",
   "metadata": {},
   "source": [
    "Now that we have our reviews it is time to analyse their content. To compute the score of a book, we use two approaches:\n",
    "\n",
    "1) A weighted average of the stars taking into account the helpfulness of the review as described below.\n",
    "\n",
    "Let $s_{i,j}$ be the $j$th rating of book $i$ and $n$ the number of ratings for this book. As other users can review a review by saying whether it is helpful, let $k_{i,j}$ be the number review reviewer for $s_{i,j}$ and let $u_{i,j}$ be the number of reviewer who found the review helpful among the $k_{i,j}$ reviewers. Then we can describe the weight as follows:\n",
    "\n",
    "$$w_{i,j}=\\cases{\\frac{u_{i,j}}{k_{i,j}}, \\text{if } k_{i,j} \\ne 0 \\\\0.5, \\text{if } k_{i,j}=0}$$\n",
    "    \n",
    "The weighted average is then:\n",
    "\n",
    "$$S_i = \\frac{\\sum_{j=1}^{n} w_{i,j}s_{i,j}}{\\sum_{j=1}^{n} w_{i,j}}$$\n",
    "\n",
    "2) A weighted average of the sentiment's intensity in the review taking into account the helpfulness with the weight being derived similarly as above.\n",
    "\n",
    "Here we are going to use the VADER (Valence Aware Dictionary sEntiment Reasoner) sentiment analyzer from the nltk package. VADER is based on lexicons of sentiment-related words and each words is rated as whether it is positive and negative, and how negative or positive it is. For example, the 'excellent' would be treated as more positive than 'good'.\n",
    "\n",
    "Although Vader is not the most accurate tool and to analyse a piece of text it checks if any of the words in the text are present in the lexicon, therefore its accuracy depends on the coverage of the lexicons. It is the easiest approach we have for the moment as we cannot train a classifier since we don't have a proper training set."
   ]
  },
  {
   "cell_type": "code",
   "execution_count": 31,
   "metadata": {
    "collapsed": true
   },
   "outputs": [],
   "source": [
    "sid = SentimentIntensityAnalyzer()"
   ]
  },
  {
   "cell_type": "code",
   "execution_count": 32,
   "metadata": {
    "collapsed": true
   },
   "outputs": [],
   "source": [
    "# compute the weight of a review\n",
    "def weighted_helpful(x):\n",
    "    # literal_eval will evaluate '[1 ,1]' as a list\n",
    "    # we use literal_eval here since using astype(list) on the column was not working\n",
    "    x = literal_eval(x)\n",
    "    voters = int(x[0]) + int(x[1])\n",
    "    return 0.5 if voters == 0 else int(x[0])/voters"
   ]
  },
  {
   "cell_type": "code",
   "execution_count": 33,
   "metadata": {
    "collapsed": true
   },
   "outputs": [],
   "source": [
    "# compute the weighted average of the two scores for a book\n",
    "def weighted_scores(data):\n",
    "    # get the weight\n",
    "    data['weighted_help'] = (data['helpful'].astype(list)).apply(weighted_helpful)\n",
    "    \n",
    "    func = lambda x: sid.polarity_scores(x)['compound']\n",
    "    \n",
    "    data['sentiment'] = data['reviewText'].apply(func)\n",
    "    \n",
    "    # multiply the scores with the weight\n",
    "    data['weighted_sentiment'] = data['weighted_help'] * data['sentiment']\n",
    "    data['weighted_overall'] = data['weighted_help'] * data['overall']\n",
    "    \n",
    "    # sum everything\n",
    "    weighted_score = data.groupby(data['asin']).sum()\n",
    "    \n",
    "    # divide by the sum of the weights to obtain the weighted average\n",
    "    weighted_score['sentiment score'] = weighted_score['weighted_sentiment']/weighted_score['weighted_help']\n",
    "    weighted_score['overall score'] = weighted_score['weighted_overall']/weighted_score['weighted_help']\n",
    "    \n",
    "    return weighted_score[['sentiment score', 'overall score']]"
   ]
  },
  {
   "cell_type": "code",
   "execution_count": 34,
   "metadata": {
    "collapsed": true
   },
   "outputs": [],
   "source": [
    "matched_ebooks= pd.read_csv(matched_ebooks_path)\n",
    "matched_books = pd.read_csv(matched_books_path)"
   ]
  },
  {
   "cell_type": "code",
   "execution_count": 35,
   "metadata": {
    "collapsed": false
   },
   "outputs": [],
   "source": [
    "if WRITE_WEIGHTED_SCORE:\n",
    "    weighted_scores_books = weighted_scores(matched_books)\n",
    "    weighted_scores_ebooks = weighted_scores(matched_ebooks)\n",
    "\n",
    "    weighted_scores_books.to_csv(weighted_scores_books_path)\n",
    "    weighted_scores_ebooks.to_csv(weighted_scores_ebooks_path)\n",
    "\n",
    "weighted_scores_books = pd.read_csv(weighted_scores_books_path)\n",
    "weighted_scores_ebooks = pd.read_csv(weighted_scores_ebooks_path)"
   ]
  },
  {
   "cell_type": "markdown",
   "metadata": {},
   "source": [
    "Once we have computed the different scores for the books and the ebooks, it is now time to combine those scores with our data."
   ]
  },
  {
   "cell_type": "code",
   "execution_count": 36,
   "metadata": {
    "collapsed": false
   },
   "outputs": [],
   "source": [
    "merged_with_books = pd.merge(merged_metadatas, weighted_scores_books, left_on='asin_book', right_on='asin')\n",
    "merged_with_all = pd.merge(merged_with_books, weighted_scores_ebooks, left_on='asin_ebook', right_on='asin', suffixes=['_book', '_ebook'])"
   ]
  },
  {
   "cell_type": "code",
   "execution_count": 37,
   "metadata": {
    "collapsed": false
   },
   "outputs": [
    {
     "data": {
      "text/html": [
       "<div>\n",
       "<style scoped>\n",
       "    .dataframe tbody tr th:only-of-type {\n",
       "        vertical-align: middle;\n",
       "    }\n",
       "\n",
       "    .dataframe tbody tr th {\n",
       "        vertical-align: top;\n",
       "    }\n",
       "\n",
       "    .dataframe thead th {\n",
       "        text-align: right;\n",
       "    }\n",
       "</style>\n",
       "<table border=\"1\" class=\"dataframe\">\n",
       "  <thead>\n",
       "    <tr style=\"text-align: right;\">\n",
       "      <th></th>\n",
       "      <th>asin_book</th>\n",
       "      <th>asin_ebook</th>\n",
       "      <th>title</th>\n",
       "      <th>price</th>\n",
       "      <th>categories</th>\n",
       "      <th>salesRank</th>\n",
       "      <th>asin_book</th>\n",
       "      <th>sentiment score_book</th>\n",
       "      <th>overall score_book</th>\n",
       "      <th>asin_ebook</th>\n",
       "      <th>sentiment score_ebook</th>\n",
       "      <th>overall score_ebook</th>\n",
       "    </tr>\n",
       "  </thead>\n",
       "  <tbody>\n",
       "    <tr>\n",
       "      <th>0</th>\n",
       "      <td>0007269854</td>\n",
       "      <td>B003ZUY19I</td>\n",
       "      <td>the ice princess</td>\n",
       "      <td>7.59</td>\n",
       "      <td>[['Books']]</td>\n",
       "      <td>{'Books': 2527081}</td>\n",
       "      <td>0007269854</td>\n",
       "      <td>0.451335</td>\n",
       "      <td>3.587818</td>\n",
       "      <td>B003ZUY19I</td>\n",
       "      <td>0.835556</td>\n",
       "      <td>4.325581</td>\n",
       "    </tr>\n",
       "    <tr>\n",
       "      <th>1</th>\n",
       "      <td>0060595620</td>\n",
       "      <td>B00480P58K</td>\n",
       "      <td>the sweetest taboo</td>\n",
       "      <td>8.70</td>\n",
       "      <td>[['Books']]</td>\n",
       "      <td>{'Books': 2956119}</td>\n",
       "      <td>0060595620</td>\n",
       "      <td>0.861742</td>\n",
       "      <td>3.576512</td>\n",
       "      <td>B00480P58K</td>\n",
       "      <td>0.934593</td>\n",
       "      <td>4.571429</td>\n",
       "    </tr>\n",
       "    <tr>\n",
       "      <th>2</th>\n",
       "      <td>0060813032</td>\n",
       "      <td>B0049H8X86</td>\n",
       "      <td>dragons from the sea (the strongbow saga, book 2)</td>\n",
       "      <td>3.60</td>\n",
       "      <td>[['Books']]</td>\n",
       "      <td>{'Books': 1269204}</td>\n",
       "      <td>0060813032</td>\n",
       "      <td>0.478786</td>\n",
       "      <td>4.714286</td>\n",
       "      <td>B0049H8X86</td>\n",
       "      <td>0.580280</td>\n",
       "      <td>4.600000</td>\n",
       "    </tr>\n",
       "    <tr>\n",
       "      <th>3</th>\n",
       "      <td>0140249249</td>\n",
       "      <td>B003XVYGXK</td>\n",
       "      <td>iced</td>\n",
       "      <td>NaN</td>\n",
       "      <td>[['Books']]</td>\n",
       "      <td>{'Books': 1225702}</td>\n",
       "      <td>0140249249</td>\n",
       "      <td>0.502363</td>\n",
       "      <td>4.750000</td>\n",
       "      <td>B003XVYGXK</td>\n",
       "      <td>0.551014</td>\n",
       "      <td>4.231644</td>\n",
       "    </tr>\n",
       "    <tr>\n",
       "      <th>4</th>\n",
       "      <td>030788922X</td>\n",
       "      <td>B004N626PY</td>\n",
       "      <td>made in italy</td>\n",
       "      <td>16.14</td>\n",
       "      <td>[['Books']]</td>\n",
       "      <td>{'Books': 213697}</td>\n",
       "      <td>030788922X</td>\n",
       "      <td>0.882010</td>\n",
       "      <td>4.659259</td>\n",
       "      <td>B004N626PY</td>\n",
       "      <td>0.780861</td>\n",
       "      <td>4.060606</td>\n",
       "    </tr>\n",
       "  </tbody>\n",
       "</table>\n",
       "</div>"
      ],
      "text/plain": [
       "    asin_book  asin_ebook                                              title  \\\n",
       "0  0007269854  B003ZUY19I                                   the ice princess   \n",
       "1  0060595620  B00480P58K                                 the sweetest taboo   \n",
       "2  0060813032  B0049H8X86  dragons from the sea (the strongbow saga, book 2)   \n",
       "3  0140249249  B003XVYGXK                                               iced   \n",
       "4  030788922X  B004N626PY                                      made in italy   \n",
       "\n",
       "   price   categories           salesRank   asin_book  sentiment score_book  \\\n",
       "0   7.59  [['Books']]  {'Books': 2527081}  0007269854              0.451335   \n",
       "1   8.70  [['Books']]  {'Books': 2956119}  0060595620              0.861742   \n",
       "2   3.60  [['Books']]  {'Books': 1269204}  0060813032              0.478786   \n",
       "3    NaN  [['Books']]  {'Books': 1225702}  0140249249              0.502363   \n",
       "4  16.14  [['Books']]   {'Books': 213697}  030788922X              0.882010   \n",
       "\n",
       "   overall score_book  asin_ebook  sentiment score_ebook  overall score_ebook  \n",
       "0            3.587818  B003ZUY19I               0.835556             4.325581  \n",
       "1            3.576512  B00480P58K               0.934593             4.571429  \n",
       "2            4.714286  B0049H8X86               0.580280             4.600000  \n",
       "3            4.750000  B003XVYGXK               0.551014             4.231644  \n",
       "4            4.659259  B004N626PY               0.780861             4.060606  "
      ]
     },
     "execution_count": 37,
     "metadata": {},
     "output_type": "execute_result"
    }
   ],
   "source": [
    "merged_with_all.head()"
   ]
  },
  {
   "cell_type": "code",
   "execution_count": 38,
   "metadata": {
    "collapsed": false
   },
   "outputs": [
    {
     "data": {
      "text/plain": [
       "53"
      ]
     },
     "execution_count": 38,
     "metadata": {},
     "output_type": "execute_result"
    }
   ],
   "source": [
    "merged_with_all.shape[0]"
   ]
  },
  {
   "cell_type": "markdown",
   "metadata": {},
   "source": [
    "Sources:\n",
    "* *Improving the Amazon Review System by Exploiting the Credibility and Time-Decay of Public Reviews*, Bo-Chun Wang, Wen-Yuan Zhu, and Ling-Jyh Chen"
   ]
  }
 ],
 "metadata": {
  "kernelspec": {
   "display_name": "Python 3",
   "language": "python",
   "name": "python3"
  },
  "language_info": {
   "codemirror_mode": {
    "name": "ipython",
    "version": 3
   },
   "file_extension": ".py",
   "mimetype": "text/x-python",
   "name": "python",
   "nbconvert_exporter": "python",
   "pygments_lexer": "ipython3",
   "version": "3.6.0"
  }
 },
 "nbformat": 4,
 "nbformat_minor": 2
}
