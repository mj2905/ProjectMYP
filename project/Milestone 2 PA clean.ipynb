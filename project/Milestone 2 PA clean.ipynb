{
 "cells": [
  {
   "cell_type": "markdown",
   "metadata": {},
   "source": [
    "# Books versus eBooks : The customer's choice"
   ]
  },
  {
   "cell_type": "markdown",
   "metadata": {},
   "source": [
    "You need to have the metadata.json and the two 5-core files reviews_Books_5.json and reviews_Kindle_Store_5.json at the same level as the notebook.\n",
    "\n",
    "For the questions asked for Milestone 2, please refer to the README file, where you will see a part dedicated to milestone 2. In this Notebook, we don't answer specifically to these questions, but we speak at each step what we technically made and failed."
   ]
  },
  {
   "cell_type": "markdown",
   "metadata": {},
   "source": [
    "## Data retrieval"
   ]
  },
  {
   "cell_type": "code",
   "execution_count": 10,
   "metadata": {
    "collapsed": true
   },
   "outputs": [],
   "source": [
    "import pandas as pd\n",
    "import re\n",
    "import numpy as np\n",
    "import requests\n",
    "import time\n",
    "from bs4 import BeautifulSoup\n",
    "from ast import literal_eval\n",
    "import matplotlib.pyplot as plt\n",
    "import pickle\n",
    "import seaborn as sns\n",
    "%matplotlib inline"
   ]
  },
  {
   "cell_type": "markdown",
   "metadata": {},
   "source": [
    "#### Warning :\n",
    "There are several booleans in this cell. They are useful to indicate if we need to perform some key data filtering and transformation in the whole notebook. The first one is set to True as it creates a file that is bigger than 300Mo, so that we can't put it in github. You will have to compute it if you run the notebook (it takes some time). The other files are on github, so all other booleans are set to False."
   ]
  },
  {
   "cell_type": "code",
   "execution_count": 2,
   "metadata": {
    "collapsed": true
   },
   "outputs": [],
   "source": [
    "metadata_path = 'metadata.json'\n",
    "books_metadata_path = 'books_metadata_with_bracket.csv'\n",
    "ebooks_metadata_title_path = 'ebooks_metadata_title.csv'\n",
    "ebooks_asin = 'ebooks_asin.csv'\n",
    "books_5core_path = 'reviews_Books_5.json'\n",
    "kindle_5core_path = 'reviews_Kindle_Store_5.json'\n",
    "amazon_ebooks = 'ebooks_title_from_amazon_complete.csv'\n",
    "amazon_aws_ebooks = 'ebooks_metadata_amazon.csv'\n",
    "amazon_aws_ebooks_undefined = 'ebooks_metadata_amazon_undefined.csv'\n",
    "amazon_aws_ebooks_log = 'ebooks_metadata_amazon_log.csv'\n",
    "asindb_ebooks = 'ebooks_title_from_asindb.csv'\n",
    "\n",
    "amazon_aws_books = 'books_metadata_amazon_all.csv'\n",
    "amazon_aws_books_undefined = 'books_metadata_amazon_undefined_p.csv'\n",
    "amazon_aws_books_log = 'books_metadata_amazon_log_p.csv'\n",
    "\n",
    "#matched_books_path = 'matched_books_by_authors.csv'\n",
    "matched_books_path = 'matched_books_flat_lax.csv'\n",
    "matched_ebooks_path = 'matched_ebooks_by_authors.csv'\n",
    "matched_books_path_nolax = 'matched_books_by_authors_nolax.csv'\n",
    "matched_ebooks_path_nolax = 'matched_ebooks_by_authors_nolax.csv'\n",
    "matched_books_short = 'matched_books.csv'\n",
    "matched_ebooks_short = 'matched_ebooks.csv'\n",
    "weighted_scores_books_path = 'weighted_scores_books.csv'\n",
    "weighted_scores_ebooks_path = 'weighted_scores_ebooks.csv'\n",
    "\n",
    "\n",
    "WRITE_BOOKS_METADATA = False\n",
    "WRITE_EBOOKS_METADATA_TITLE = False\n",
    "WRITE_EBOOK_ASIN = False\n",
    "AMAZON_GET_TITLE = False\n",
    "ASINDB_GET_TITLE = False\n",
    "WRITE_FIND_MATCHED = False\n",
    "WRITE_WEIGHTED_SCORE = False\n",
    "WRITE_SCORES = False\n",
    "WRITE_FLAT = False"
   ]
  },
  {
   "cell_type": "markdown",
   "metadata": {},
   "source": [
    "As for our project, we need to obtain ebook data and book data, we chose the Amazon dataset. On this <a href='http://jmcauley.ucsd.edu/data/amazon/'>link</a>, we have downloaded the Books and Kindle Store 5-core files. However, those files contain reviews, so that we have no information about the article title or price.\n",
    "For that reason, we had to use the metadata file, acting as an intermediate table (relationship).\n",
    "\n",
    "We obtained the metadata.json file from the cluster, as it was not available in the website.\n",
    "We accessed the cluster using ssh@iccluster060.iccluster.epfl.ch, then using \n",
    "```shell\n",
    "hadoop fs -get /datasets/productGraph/metadata.json /buffer\n",
    "```\n",
    "to move the dataset to a folder we could connect to with SCP to download it on our computer.\n"
   ]
  },
  {
   "cell_type": "markdown",
   "metadata": {},
   "source": [
    "It's a json file, that is not readable using the pandas read_json method. We had to use the Code part from <a href='http://jmcauley.ucsd.edu/data/amazon/'>here</a> to read it. We can see a way to read the file (a limited portion of it) below :"
   ]
  },
  {
   "cell_type": "code",
   "execution_count": 207,
   "metadata": {},
   "outputs": [
    {
     "data": {
      "text/html": [
       "<div>\n",
       "<style scoped>\n",
       "    .dataframe tbody tr th:only-of-type {\n",
       "        vertical-align: middle;\n",
       "    }\n",
       "\n",
       "    .dataframe tbody tr th {\n",
       "        vertical-align: top;\n",
       "    }\n",
       "\n",
       "    .dataframe thead th {\n",
       "        text-align: right;\n",
       "    }\n",
       "</style>\n",
       "<table border=\"1\" class=\"dataframe\">\n",
       "  <thead>\n",
       "    <tr style=\"text-align: right;\">\n",
       "      <th></th>\n",
       "      <th>imUrl</th>\n",
       "      <th>salesRank</th>\n",
       "      <th>asin</th>\n",
       "      <th>title</th>\n",
       "      <th>categories</th>\n",
       "      <th>related</th>\n",
       "      <th>price</th>\n",
       "      <th>description</th>\n",
       "    </tr>\n",
       "  </thead>\n",
       "  <tbody>\n",
       "    <tr>\n",
       "      <th>0</th>\n",
       "      <td>http://ecx.images-amazon.com/images/I/51MKP0T4...</td>\n",
       "      <td>{'Books': 6334800}</td>\n",
       "      <td>0001048791</td>\n",
       "      <td>The Crucible: Performed by Stuart Pankin, Jero...</td>\n",
       "      <td>[[Books]]</td>\n",
       "      <td>NaN</td>\n",
       "      <td>NaN</td>\n",
       "      <td>NaN</td>\n",
       "    </tr>\n",
       "    <tr>\n",
       "      <th>1</th>\n",
       "      <td>http://g-ecx.images-amazon.com/images/G/01/x-s...</td>\n",
       "      <td>{'Movies &amp; TV': 376041}</td>\n",
       "      <td>0000143561</td>\n",
       "      <td>Everyday Italian (with Giada de Laurentiis), V...</td>\n",
       "      <td>[[Movies &amp; TV, Movies]]</td>\n",
       "      <td>{'buy_after_viewing': ['B0036FO6SI', 'B000KL8O...</td>\n",
       "      <td>12.99</td>\n",
       "      <td>3Pack DVD set - Italian Classics, Parties and ...</td>\n",
       "    </tr>\n",
       "  </tbody>\n",
       "</table>\n",
       "</div>"
      ],
      "text/plain": [
       "                                               imUrl                salesRank  \\\n",
       "0  http://ecx.images-amazon.com/images/I/51MKP0T4...       {'Books': 6334800}   \n",
       "1  http://g-ecx.images-amazon.com/images/G/01/x-s...  {'Movies & TV': 376041}   \n",
       "\n",
       "         asin                                              title  \\\n",
       "0  0001048791  The Crucible: Performed by Stuart Pankin, Jero...   \n",
       "1  0000143561  Everyday Italian (with Giada de Laurentiis), V...   \n",
       "\n",
       "                categories                                            related  \\\n",
       "0                [[Books]]                                                NaN   \n",
       "1  [[Movies & TV, Movies]]  {'buy_after_viewing': ['B0036FO6SI', 'B000KL8O...   \n",
       "\n",
       "   price                                        description  \n",
       "0    NaN                                                NaN  \n",
       "1  12.99  3Pack DVD set - Italian Classics, Parties and ...  "
      ]
     },
     "execution_count": 207,
     "metadata": {},
     "output_type": "execute_result"
    }
   ],
   "source": [
    "def read_json(path, limit = 2): \n",
    "    g = open(path, 'r') \n",
    "    df = {}\n",
    "    for i, l in enumerate(g): \n",
    "        if i < limit:\n",
    "            df[i] = eval(l)\n",
    "        else:\n",
    "            break\n",
    "    return pd.DataFrame.from_dict(df, orient='index')\n",
    "\n",
    "def read_csv(path, limit = 2): \n",
    "    return pd.read_csv(path, nrows=limit)\n",
    "            \n",
    "read_json(metadata_path)"
   ]
  },
  {
   "cell_type": "markdown",
   "metadata": {},
   "source": [
    "However, this metadata.json file takes more than 10 Go, for 9430088 entries (obtained by doing a wc -l metadata.json), so it does not fit in memory. Thus, as we will do a lot of tests later, we wanted to create a subfile containing only the Books metadata (we don't need video games metadata for example), with a subset of columns. We also want to write it in the csv format, to manipulate it in an easier way later.\n",
    "\n",
    "We use the regex \"\\[\\'books\" in an ignore case mode, to obtain only entries that have a category tag beginning with [Books. In fact, if we want to use the regex 'book', some entries like 0078800242 or B00000078S are not books at all, even if there is Books in the title or the category tag. The '[' is useful here to avoir this behavior."
   ]
  },
  {
   "cell_type": "code",
   "execution_count": 208,
   "metadata": {
    "collapsed": true
   },
   "outputs": [],
   "source": [
    "def read_book_metadata(path, regex): \n",
    "    g = open(path, 'r') \n",
    "    for l in g: \n",
    "        book = regex.search(l)\n",
    "        if book:\n",
    "            yield eval(l) \n",
    "            \n",
    "def write_df_books_metadata(from_, to, regex, columns_to_keep): \n",
    "    i = 0 \n",
    "    df = {} \n",
    "    for d in read_book_metadata(from_, regex): \n",
    "        df[i] = d \n",
    "        i += 1 \n",
    "        if i % 10000 == 0: # Here, we choose to write everything every 10'000 book entries, and clear the dataframe to free memory.\n",
    "            pd.DataFrame.from_dict(df, orient='index')[columns_to_keep].to_csv(to, header=False,mode='a')\n",
    "            df = {}\n",
    "\n",
    "COLUMNS_TO_KEEP = ['asin', 'salesRank', 'categories', 'title', 'price']\n",
    "regex = re.compile('\\[\\'books', re.IGNORECASE)\n",
    "\n",
    "if WRITE_BOOKS_METADATA:\n",
    "    pd.DataFrame(columns=[COLUMNS_TO_KEEP]).to_csv(books_metadata_path)\n",
    "    write_df_books_metadata(metadata_path, books_metadata_path, regex, COLUMNS_TO_KEEP)"
   ]
  },
  {
   "cell_type": "markdown",
   "metadata": {},
   "source": [
    "And if we read what we just wrote :"
   ]
  },
  {
   "cell_type": "code",
   "execution_count": 209,
   "metadata": {},
   "outputs": [
    {
     "data": {
      "text/html": [
       "<div>\n",
       "<style scoped>\n",
       "    .dataframe tbody tr th:only-of-type {\n",
       "        vertical-align: middle;\n",
       "    }\n",
       "\n",
       "    .dataframe tbody tr th {\n",
       "        vertical-align: top;\n",
       "    }\n",
       "\n",
       "    .dataframe thead th {\n",
       "        text-align: right;\n",
       "    }\n",
       "</style>\n",
       "<table border=\"1\" class=\"dataframe\">\n",
       "  <thead>\n",
       "    <tr style=\"text-align: right;\">\n",
       "      <th></th>\n",
       "      <th>Unnamed: 0</th>\n",
       "      <th>asin</th>\n",
       "      <th>salesRank</th>\n",
       "      <th>categories</th>\n",
       "      <th>title</th>\n",
       "      <th>price</th>\n",
       "    </tr>\n",
       "  </thead>\n",
       "  <tbody>\n",
       "    <tr>\n",
       "      <th>0</th>\n",
       "      <td>0</td>\n",
       "      <td>1048791</td>\n",
       "      <td>{'Books': 6334800}</td>\n",
       "      <td>[['Books']]</td>\n",
       "      <td>The Crucible: Performed by Stuart Pankin, Jero...</td>\n",
       "      <td>NaN</td>\n",
       "    </tr>\n",
       "    <tr>\n",
       "      <th>1</th>\n",
       "      <td>1</td>\n",
       "      <td>1048775</td>\n",
       "      <td>{'Books': 13243226}</td>\n",
       "      <td>[['Books']]</td>\n",
       "      <td>Measure for Measure: Complete &amp;amp; Unabridged</td>\n",
       "      <td>NaN</td>\n",
       "    </tr>\n",
       "  </tbody>\n",
       "</table>\n",
       "</div>"
      ],
      "text/plain": [
       "   Unnamed: 0     asin            salesRank   categories  \\\n",
       "0           0  1048791   {'Books': 6334800}  [['Books']]   \n",
       "1           1  1048775  {'Books': 13243226}  [['Books']]   \n",
       "\n",
       "                                               title  price  \n",
       "0  The Crucible: Performed by Stuart Pankin, Jero...    NaN  \n",
       "1     Measure for Measure: Complete &amp; Unabridged    NaN  "
      ]
     },
     "execution_count": 209,
     "metadata": {},
     "output_type": "execute_result"
    }
   ],
   "source": [
    "read_csv(books_metadata_path)"
   ]
  },
  {
   "cell_type": "markdown",
   "metadata": {},
   "source": [
    "We also wanted to obtain the ebooks titles, price etc..\n",
    "For the category filter, we have to use the same trick as for the Books one : \"\\[\\'Kindle\". Please note that some book metadatas above are in fact kindle store metadatas, because the category can contain both. However, it's not a big deal if we want to do the merge later, because as we will see, pretty much no ebook has a title in the given metadata.\n",
    "\n",
    "However, for the metadatas for ebooks, there was a problem at that step :"
   ]
  },
  {
   "cell_type": "code",
   "execution_count": 210,
   "metadata": {
    "collapsed": true
   },
   "outputs": [],
   "source": [
    "def read_ebook_metadata(path, regex): \n",
    "    g = open(path, 'r') \n",
    "    for l in g: \n",
    "        ebook = regex.search(l)\n",
    "        if ebook:\n",
    "            yield eval(l) \n",
    "def obtain_df_ebooks_metadata(from_, to, regex): \n",
    "    i = 0 \n",
    "    df = {} \n",
    "    count = 0\n",
    "    for d in read_ebook_metadata(from_, regex): \n",
    "        count += 1\n",
    "        if(d.get('title')):\n",
    "            df[i] = {'asin': d.get('asin'), 'title': d.get('title')}\n",
    "            i += 1 \n",
    "    pd.DataFrame.from_dict(df, orient='index').to_csv(to)\n",
    "    print('Total ebooks in metadatas:', count)\n",
    "\n",
    "\n",
    "regex = re.compile('\\[\\'Kindle', re.IGNORECASE)\n",
    "\n",
    "if WRITE_EBOOKS_METADATA_TITLE:\n",
    "    obtain_df_ebooks_metadata(metadata_path, ebooks_metadata_title_path, regex)"
   ]
  },
  {
   "cell_type": "markdown",
   "metadata": {},
   "source": [
    "We see right below that 44 entries out of 434702 have a title. Of course, it's not good at all, since we want to merge books and ebooks using the title field."
   ]
  },
  {
   "cell_type": "code",
   "execution_count": 211,
   "metadata": {},
   "outputs": [
    {
     "data": {
      "text/plain": [
       "44"
      ]
     },
     "execution_count": 211,
     "metadata": {},
     "output_type": "execute_result"
    }
   ],
   "source": [
    "read_csv(ebooks_metadata_title_path, None).shape[0]"
   ]
  },
  {
   "cell_type": "markdown",
   "metadata": {},
   "source": [
    "Thus, we need to obtain the title field from another source. The first idea was to retrieve this information from Amazon directly, as we wanted to do for the user location. For that, we need to have a list of the ebooks asin (Amazon Standard Identification Numbers). We obtain it from the Kindle Store 5-core file."
   ]
  },
  {
   "cell_type": "code",
   "execution_count": 212,
   "metadata": {
    "collapsed": true
   },
   "outputs": [],
   "source": [
    "def read_ebook_5core(path, regex): \n",
    "    g = open(path, 'r') \n",
    "    for l in g: \n",
    "        yield eval(l) \n",
    "def write_ebook_asin(from_, to): \n",
    "    i = 0 \n",
    "    df = {} \n",
    "    for d in read_ebook_5core(from_, regex): \n",
    "        df[i] = d \n",
    "        i += 1 \n",
    "        if i % 10000 == 0:\n",
    "            if i % 100000 == 0:\n",
    "                print(i) #to show the progression\n",
    "            pd.DataFrame.from_dict(df, orient='index')[['asin']].to_csv(to, header=False,mode='a')\n",
    "            df = {}\n",
    "    pd.DataFrame.from_dict(df, orient='index')[['asin']].to_csv(to, header=False,mode='a')\n",
    "    df = {}\n",
    "\n",
    "if WRITE_EBOOK_ASIN:\n",
    "    pd.DataFrame(columns=[['asin']]).to_csv(ebooks_asin)\n",
    "    write_ebook_asin(kindle_5core_path, ebooks_asin)"
   ]
  },
  {
   "cell_type": "markdown",
   "metadata": {},
   "source": [
    "As we were using the Kindle Store 5-core file, there are asin duplicates. We thus make it unique when we read."
   ]
  },
  {
   "cell_type": "code",
   "execution_count": 17,
   "metadata": {},
   "outputs": [
    {
     "data": {
      "text/plain": [
       "array(['B000F83SZQ', 'B000FA64PA', 'B000FA64PK', ..., 'B00M029T4O',\n",
       "       'B00M0RE7CS', 'B00M13FNSS'], dtype=object)"
      ]
     },
     "execution_count": 17,
     "metadata": {},
     "output_type": "execute_result"
    }
   ],
   "source": [
    "ebooks_asin_unique = pd.read_csv('ebooks_asin.csv',usecols=[1]).asin.unique()\n",
    "ebooks_asin_unique"
   ]
  },
  {
   "cell_type": "code",
   "execution_count": 215,
   "metadata": {},
   "outputs": [
    {
     "data": {
      "text/html": [
       "<div>\n",
       "<style scoped>\n",
       "    .dataframe tbody tr th:only-of-type {\n",
       "        vertical-align: middle;\n",
       "    }\n",
       "\n",
       "    .dataframe tbody tr th {\n",
       "        vertical-align: top;\n",
       "    }\n",
       "\n",
       "    .dataframe thead th {\n",
       "        text-align: right;\n",
       "    }\n",
       "</style>\n",
       "<table border=\"1\" class=\"dataframe\">\n",
       "  <thead>\n",
       "    <tr style=\"text-align: right;\">\n",
       "      <th></th>\n",
       "      <th>Unnamed: 0</th>\n",
       "      <th>asin</th>\n",
       "      <th>title</th>\n",
       "    </tr>\n",
       "  </thead>\n",
       "  <tbody>\n",
       "    <tr>\n",
       "      <th>0</th>\n",
       "      <td>B000FA64PA</td>\n",
       "      <td>B000FA64PA</td>\n",
       "      <td>Saboteur: Star Wars Legends (Darth Maul) (Shor...</td>\n",
       "    </tr>\n",
       "    <tr>\n",
       "      <th>1</th>\n",
       "      <td>B000FA64PK</td>\n",
       "      <td>B000FA64PK</td>\n",
       "      <td>Recovery: Star Wars Legends (The New Jedi Orde...</td>\n",
       "    </tr>\n",
       "    <tr>\n",
       "      <th>2</th>\n",
       "      <td>B000FA64QO</td>\n",
       "      <td>B000FA64QO</td>\n",
       "      <td>Ylesia: Star Wars Legends (The New Jedi Order)...</td>\n",
       "    </tr>\n",
       "    <tr>\n",
       "      <th>3</th>\n",
       "      <td>B000FBFMVG</td>\n",
       "      <td>B000FBFMVG</td>\n",
       "      <td>A Forest Apart: Star Wars Legends (Short Story...</td>\n",
       "    </tr>\n",
       "    <tr>\n",
       "      <th>4</th>\n",
       "      <td>B000FC1BN8</td>\n",
       "      <td>B000FC1BN8</td>\n",
       "      <td>Fool's Bargain: Star Wars Legends (Novella) (S...</td>\n",
       "    </tr>\n",
       "  </tbody>\n",
       "</table>\n",
       "</div>"
      ],
      "text/plain": [
       "   Unnamed: 0        asin                                              title\n",
       "0  B000FA64PA  B000FA64PA  Saboteur: Star Wars Legends (Darth Maul) (Shor...\n",
       "1  B000FA64PK  B000FA64PK  Recovery: Star Wars Legends (The New Jedi Orde...\n",
       "2  B000FA64QO  B000FA64QO  Ylesia: Star Wars Legends (The New Jedi Order)...\n",
       "3  B000FBFMVG  B000FBFMVG  A Forest Apart: Star Wars Legends (Short Story...\n",
       "4  B000FC1BN8  B000FC1BN8  Fool's Bargain: Star Wars Legends (Novella) (S..."
      ]
     },
     "execution_count": 215,
     "metadata": {},
     "output_type": "execute_result"
    }
   ],
   "source": [
    "ebooks_metadata = read_csv(asindb_ebooks, None)\n",
    "ebooks_metadata.head()"
   ]
  },
  {
   "cell_type": "code",
   "execution_count": 216,
   "metadata": {},
   "outputs": [
    {
     "data": {
      "text/plain": [
       "2741"
      ]
     },
     "execution_count": 216,
     "metadata": {},
     "output_type": "execute_result"
    }
   ],
   "source": [
    "read_csv(asindb_ebooks, None).shape[0] # number of titles retrieved"
   ]
  },
  {
   "cell_type": "markdown",
   "metadata": {},
   "source": [
    "This solution is of course not the best one : the asindb website does not contain everything. We have managed to retrieve 2741 titles over 4000 asins by using this technique, but we have no problem with the Amazon bot detection (and possible ban). We can see which entries were not retrieved by printing the notdefined dataframe.\n",
    "\n",
    "Of course, tu retrieve the 2741 entries, we set the LIMIT constant in the code to be 4000.\n",
    "\n",
    "We thus continue our analysis by using it."
   ]
  },
  {
   "cell_type": "markdown",
   "metadata": {},
   "source": [
    "Now, as we have the title information for books and ebooks, let's merge them. We read the book metadata information in books_metadata and we have the ebook metadata information with title in ebooks_metadata."
   ]
  },
  {
   "cell_type": "code",
   "execution_count": 217,
   "metadata": {},
   "outputs": [
    {
     "data": {
      "text/html": [
       "<div>\n",
       "<style scoped>\n",
       "    .dataframe tbody tr th:only-of-type {\n",
       "        vertical-align: middle;\n",
       "    }\n",
       "\n",
       "    .dataframe tbody tr th {\n",
       "        vertical-align: top;\n",
       "    }\n",
       "\n",
       "    .dataframe thead th {\n",
       "        text-align: right;\n",
       "    }\n",
       "</style>\n",
       "<table border=\"1\" class=\"dataframe\">\n",
       "  <thead>\n",
       "    <tr style=\"text-align: right;\">\n",
       "      <th></th>\n",
       "      <th>Unnamed: 0</th>\n",
       "      <th>asin</th>\n",
       "      <th>salesRank</th>\n",
       "      <th>categories</th>\n",
       "      <th>title</th>\n",
       "      <th>price</th>\n",
       "    </tr>\n",
       "  </thead>\n",
       "  <tbody>\n",
       "    <tr>\n",
       "      <th>0</th>\n",
       "      <td>0</td>\n",
       "      <td>0001048791</td>\n",
       "      <td>{'Books': 6334800}</td>\n",
       "      <td>[['Books']]</td>\n",
       "      <td>The Crucible: Performed by Stuart Pankin, Jero...</td>\n",
       "      <td>NaN</td>\n",
       "    </tr>\n",
       "    <tr>\n",
       "      <th>1</th>\n",
       "      <td>1</td>\n",
       "      <td>0001048775</td>\n",
       "      <td>{'Books': 13243226}</td>\n",
       "      <td>[['Books']]</td>\n",
       "      <td>Measure for Measure: Complete &amp;amp; Unabridged</td>\n",
       "      <td>NaN</td>\n",
       "    </tr>\n",
       "    <tr>\n",
       "      <th>2</th>\n",
       "      <td>2</td>\n",
       "      <td>0001048236</td>\n",
       "      <td>{'Books': 8973864}</td>\n",
       "      <td>[['Books']]</td>\n",
       "      <td>The Sherlock Holmes Audio Collection</td>\n",
       "      <td>9.26</td>\n",
       "    </tr>\n",
       "    <tr>\n",
       "      <th>3</th>\n",
       "      <td>3</td>\n",
       "      <td>0000401048</td>\n",
       "      <td>{'Books': 6448843}</td>\n",
       "      <td>[['Books']]</td>\n",
       "      <td>The rogue of publishers' row;: Confessions of ...</td>\n",
       "      <td>NaN</td>\n",
       "    </tr>\n",
       "    <tr>\n",
       "      <th>4</th>\n",
       "      <td>4</td>\n",
       "      <td>0001019880</td>\n",
       "      <td>{'Books': 9589258}</td>\n",
       "      <td>[['Books']]</td>\n",
       "      <td>Classic Soul Winner's New Testament Bible</td>\n",
       "      <td>5.39</td>\n",
       "    </tr>\n",
       "  </tbody>\n",
       "</table>\n",
       "</div>"
      ],
      "text/plain": [
       "   Unnamed: 0        asin            salesRank   categories  \\\n",
       "0           0  0001048791   {'Books': 6334800}  [['Books']]   \n",
       "1           1  0001048775  {'Books': 13243226}  [['Books']]   \n",
       "2           2  0001048236   {'Books': 8973864}  [['Books']]   \n",
       "3           3  0000401048   {'Books': 6448843}  [['Books']]   \n",
       "4           4  0001019880   {'Books': 9589258}  [['Books']]   \n",
       "\n",
       "                                               title  price  \n",
       "0  The Crucible: Performed by Stuart Pankin, Jero...    NaN  \n",
       "1     Measure for Measure: Complete &amp; Unabridged    NaN  \n",
       "2               The Sherlock Holmes Audio Collection   9.26  \n",
       "3  The rogue of publishers' row;: Confessions of ...    NaN  \n",
       "4          Classic Soul Winner's New Testament Bible   5.39  "
      ]
     },
     "execution_count": 217,
     "metadata": {},
     "output_type": "execute_result"
    }
   ],
   "source": [
    "books_metadata = pd.read_csv(books_metadata_path)\n",
    "books_metadata.head()"
   ]
  },
  {
   "cell_type": "markdown",
   "metadata": {},
   "source": [
    "We merge them on title, and we see that we only get 1297 entries. It's not bad, but we can for sure have a better result. As we can remark, there is a lot of time the title The Space Between. We will discuss later about it."
   ]
  },
  {
   "cell_type": "code",
   "execution_count": 218,
   "metadata": {},
   "outputs": [
    {
     "data": {
      "text/html": [
       "<div>\n",
       "<style scoped>\n",
       "    .dataframe tbody tr th:only-of-type {\n",
       "        vertical-align: middle;\n",
       "    }\n",
       "\n",
       "    .dataframe tbody tr th {\n",
       "        vertical-align: top;\n",
       "    }\n",
       "\n",
       "    .dataframe thead th {\n",
       "        text-align: right;\n",
       "    }\n",
       "</style>\n",
       "<table border=\"1\" class=\"dataframe\">\n",
       "  <thead>\n",
       "    <tr style=\"text-align: right;\">\n",
       "      <th></th>\n",
       "      <th>asin_books</th>\n",
       "      <th>asin_ebooks</th>\n",
       "      <th>salesRank</th>\n",
       "      <th>categories</th>\n",
       "      <th>title</th>\n",
       "      <th>price</th>\n",
       "    </tr>\n",
       "  </thead>\n",
       "  <tbody>\n",
       "    <tr>\n",
       "      <th>0</th>\n",
       "      <td>0002008505</td>\n",
       "      <td>B002DYJ7DM</td>\n",
       "      <td>{'Books': 5587764}</td>\n",
       "      <td>[['Books']]</td>\n",
       "      <td>The Space Between</td>\n",
       "      <td>4.74</td>\n",
       "    </tr>\n",
       "    <tr>\n",
       "      <th>1</th>\n",
       "      <td>0615891411</td>\n",
       "      <td>B002DYJ7DM</td>\n",
       "      <td>{'Books': 4145053}</td>\n",
       "      <td>[['Books']]</td>\n",
       "      <td>The Space Between</td>\n",
       "      <td>2.99</td>\n",
       "    </tr>\n",
       "    <tr>\n",
       "      <th>2</th>\n",
       "      <td>1579660584</td>\n",
       "      <td>B002DYJ7DM</td>\n",
       "      <td>{'Books': 2486827}</td>\n",
       "      <td>[['Books']]</td>\n",
       "      <td>The Space Between</td>\n",
       "      <td>20.08</td>\n",
       "    </tr>\n",
       "    <tr>\n",
       "      <th>3</th>\n",
       "      <td>1588515508</td>\n",
       "      <td>B002DYJ7DM</td>\n",
       "      <td>{'Books': 5985767}</td>\n",
       "      <td>[['Books']]</td>\n",
       "      <td>The Space Between</td>\n",
       "      <td>NaN</td>\n",
       "    </tr>\n",
       "    <tr>\n",
       "      <th>4</th>\n",
       "      <td>1595143394</td>\n",
       "      <td>B002DYJ7DM</td>\n",
       "      <td>{'Books': 141638}</td>\n",
       "      <td>[['Books']]</td>\n",
       "      <td>The Space Between</td>\n",
       "      <td>7.13</td>\n",
       "    </tr>\n",
       "  </tbody>\n",
       "</table>\n",
       "</div>"
      ],
      "text/plain": [
       "   asin_books asin_ebooks           salesRank   categories              title  \\\n",
       "0  0002008505  B002DYJ7DM  {'Books': 5587764}  [['Books']]  The Space Between   \n",
       "1  0615891411  B002DYJ7DM  {'Books': 4145053}  [['Books']]  The Space Between   \n",
       "2  1579660584  B002DYJ7DM  {'Books': 2486827}  [['Books']]  The Space Between   \n",
       "3  1588515508  B002DYJ7DM  {'Books': 5985767}  [['Books']]  The Space Between   \n",
       "4  1595143394  B002DYJ7DM   {'Books': 141638}  [['Books']]  The Space Between   \n",
       "\n",
       "   price  \n",
       "0   4.74  \n",
       "1   2.99  \n",
       "2  20.08  \n",
       "3    NaN  \n",
       "4   7.13  "
      ]
     },
     "execution_count": 218,
     "metadata": {},
     "output_type": "execute_result"
    }
   ],
   "source": [
    "#We merge, and get the head. Everything after is here just to have a nicer representation of the first elements\n",
    "books_metadata.merge(ebooks_metadata, left_on='title', right_on='title').head().iloc[:,[1,7,2,3,4,5]].rename(columns={'asin_x':'asin_books', 'asin_y':'asin_ebooks'})"
   ]
  },
  {
   "cell_type": "code",
   "execution_count": 219,
   "metadata": {},
   "outputs": [
    {
     "data": {
      "text/plain": [
       "1297"
      ]
     },
     "execution_count": 219,
     "metadata": {},
     "output_type": "execute_result"
    }
   ],
   "source": [
    "books_metadata.merge(ebooks_metadata, left_on='title', right_on='title').shape[0]"
   ]
  },
  {
   "cell_type": "markdown",
   "metadata": {},
   "source": [
    "As we were saying, 1297 is not a big number, and we can do better. We have done the most basic possible thing to do : we have put the title for books and ebooks in lower form (minuscule)."
   ]
  },
  {
   "cell_type": "code",
   "execution_count": 220,
   "metadata": {},
   "outputs": [
    {
     "data": {
      "text/html": [
       "<div>\n",
       "<style scoped>\n",
       "    .dataframe tbody tr th:only-of-type {\n",
       "        vertical-align: middle;\n",
       "    }\n",
       "\n",
       "    .dataframe tbody tr th {\n",
       "        vertical-align: top;\n",
       "    }\n",
       "\n",
       "    .dataframe thead th {\n",
       "        text-align: right;\n",
       "    }\n",
       "</style>\n",
       "<table border=\"1\" class=\"dataframe\">\n",
       "  <thead>\n",
       "    <tr style=\"text-align: right;\">\n",
       "      <th></th>\n",
       "      <th>Unnamed: 0</th>\n",
       "      <th>asin</th>\n",
       "      <th>salesRank</th>\n",
       "      <th>categories</th>\n",
       "      <th>title</th>\n",
       "      <th>price</th>\n",
       "    </tr>\n",
       "  </thead>\n",
       "  <tbody>\n",
       "    <tr>\n",
       "      <th>0</th>\n",
       "      <td>0</td>\n",
       "      <td>0001048791</td>\n",
       "      <td>{'Books': 6334800}</td>\n",
       "      <td>[['Books']]</td>\n",
       "      <td>the crucible: performed by stuart pankin, jero...</td>\n",
       "      <td>NaN</td>\n",
       "    </tr>\n",
       "    <tr>\n",
       "      <th>1</th>\n",
       "      <td>1</td>\n",
       "      <td>0001048775</td>\n",
       "      <td>{'Books': 13243226}</td>\n",
       "      <td>[['Books']]</td>\n",
       "      <td>measure for measure: complete &amp;amp; unabridged</td>\n",
       "      <td>NaN</td>\n",
       "    </tr>\n",
       "    <tr>\n",
       "      <th>2</th>\n",
       "      <td>2</td>\n",
       "      <td>0001048236</td>\n",
       "      <td>{'Books': 8973864}</td>\n",
       "      <td>[['Books']]</td>\n",
       "      <td>the sherlock holmes audio collection</td>\n",
       "      <td>9.26</td>\n",
       "    </tr>\n",
       "    <tr>\n",
       "      <th>3</th>\n",
       "      <td>3</td>\n",
       "      <td>0000401048</td>\n",
       "      <td>{'Books': 6448843}</td>\n",
       "      <td>[['Books']]</td>\n",
       "      <td>the rogue of publishers' row;: confessions of ...</td>\n",
       "      <td>NaN</td>\n",
       "    </tr>\n",
       "    <tr>\n",
       "      <th>4</th>\n",
       "      <td>4</td>\n",
       "      <td>0001019880</td>\n",
       "      <td>{'Books': 9589258}</td>\n",
       "      <td>[['Books']]</td>\n",
       "      <td>classic soul winner's new testament bible</td>\n",
       "      <td>5.39</td>\n",
       "    </tr>\n",
       "  </tbody>\n",
       "</table>\n",
       "</div>"
      ],
      "text/plain": [
       "   Unnamed: 0        asin            salesRank   categories  \\\n",
       "0           0  0001048791   {'Books': 6334800}  [['Books']]   \n",
       "1           1  0001048775  {'Books': 13243226}  [['Books']]   \n",
       "2           2  0001048236   {'Books': 8973864}  [['Books']]   \n",
       "3           3  0000401048   {'Books': 6448843}  [['Books']]   \n",
       "4           4  0001019880   {'Books': 9589258}  [['Books']]   \n",
       "\n",
       "                                               title  price  \n",
       "0  the crucible: performed by stuart pankin, jero...    NaN  \n",
       "1     measure for measure: complete &amp; unabridged    NaN  \n",
       "2               the sherlock holmes audio collection   9.26  \n",
       "3  the rogue of publishers' row;: confessions of ...    NaN  \n",
       "4          classic soul winner's new testament bible   5.39  "
      ]
     },
     "execution_count": 220,
     "metadata": {},
     "output_type": "execute_result"
    }
   ],
   "source": [
    "books_metadata['title'] = books_metadata.title.str.lower()\n",
    "books_metadata.head()"
   ]
  },
  {
   "cell_type": "code",
   "execution_count": 221,
   "metadata": {},
   "outputs": [
    {
     "data": {
      "text/html": [
       "<div>\n",
       "<style scoped>\n",
       "    .dataframe tbody tr th:only-of-type {\n",
       "        vertical-align: middle;\n",
       "    }\n",
       "\n",
       "    .dataframe tbody tr th {\n",
       "        vertical-align: top;\n",
       "    }\n",
       "\n",
       "    .dataframe thead th {\n",
       "        text-align: right;\n",
       "    }\n",
       "</style>\n",
       "<table border=\"1\" class=\"dataframe\">\n",
       "  <thead>\n",
       "    <tr style=\"text-align: right;\">\n",
       "      <th></th>\n",
       "      <th>Unnamed: 0</th>\n",
       "      <th>asin</th>\n",
       "      <th>title</th>\n",
       "    </tr>\n",
       "  </thead>\n",
       "  <tbody>\n",
       "    <tr>\n",
       "      <th>0</th>\n",
       "      <td>B000FA64PA</td>\n",
       "      <td>B000FA64PA</td>\n",
       "      <td>saboteur: star wars legends (darth maul) (shor...</td>\n",
       "    </tr>\n",
       "    <tr>\n",
       "      <th>1</th>\n",
       "      <td>B000FA64PK</td>\n",
       "      <td>B000FA64PK</td>\n",
       "      <td>recovery: star wars legends (the new jedi orde...</td>\n",
       "    </tr>\n",
       "    <tr>\n",
       "      <th>2</th>\n",
       "      <td>B000FA64QO</td>\n",
       "      <td>B000FA64QO</td>\n",
       "      <td>ylesia: star wars legends (the new jedi order)...</td>\n",
       "    </tr>\n",
       "    <tr>\n",
       "      <th>3</th>\n",
       "      <td>B000FBFMVG</td>\n",
       "      <td>B000FBFMVG</td>\n",
       "      <td>a forest apart: star wars legends (short story...</td>\n",
       "    </tr>\n",
       "    <tr>\n",
       "      <th>4</th>\n",
       "      <td>B000FC1BN8</td>\n",
       "      <td>B000FC1BN8</td>\n",
       "      <td>fool's bargain: star wars legends (novella) (s...</td>\n",
       "    </tr>\n",
       "  </tbody>\n",
       "</table>\n",
       "</div>"
      ],
      "text/plain": [
       "   Unnamed: 0        asin                                              title\n",
       "0  B000FA64PA  B000FA64PA  saboteur: star wars legends (darth maul) (shor...\n",
       "1  B000FA64PK  B000FA64PK  recovery: star wars legends (the new jedi orde...\n",
       "2  B000FA64QO  B000FA64QO  ylesia: star wars legends (the new jedi order)...\n",
       "3  B000FBFMVG  B000FBFMVG  a forest apart: star wars legends (short story...\n",
       "4  B000FC1BN8  B000FC1BN8  fool's bargain: star wars legends (novella) (s..."
      ]
     },
     "execution_count": 221,
     "metadata": {},
     "output_type": "execute_result"
    }
   ],
   "source": [
    "ebooks_metadata['title'] = ebooks_metadata.title.str.lower()\n",
    "ebooks_metadata.head()"
   ]
  },
  {
   "cell_type": "code",
   "execution_count": 222,
   "metadata": {
    "collapsed": true
   },
   "outputs": [],
   "source": [
    "merged_metadatas = books_metadata.merge(ebooks_metadata, left_on='title', right_on='title')\n",
    "merged_metadatas = merged_metadatas[['asin_x', 'asin_y', 'title', 'price', 'categories', 'salesRank']]\n",
    "merged_metadatas = merged_metadatas.rename(columns={'asin_x': 'asin_book', 'asin_y': 'asin_ebook'})"
   ]
  },
  {
   "cell_type": "code",
   "execution_count": 223,
   "metadata": {},
   "outputs": [
    {
     "data": {
      "text/html": [
       "<div>\n",
       "<style scoped>\n",
       "    .dataframe tbody tr th:only-of-type {\n",
       "        vertical-align: middle;\n",
       "    }\n",
       "\n",
       "    .dataframe tbody tr th {\n",
       "        vertical-align: top;\n",
       "    }\n",
       "\n",
       "    .dataframe thead th {\n",
       "        text-align: right;\n",
       "    }\n",
       "</style>\n",
       "<table border=\"1\" class=\"dataframe\">\n",
       "  <thead>\n",
       "    <tr style=\"text-align: right;\">\n",
       "      <th></th>\n",
       "      <th>asin_book</th>\n",
       "      <th>asin_ebook</th>\n",
       "      <th>title</th>\n",
       "      <th>price</th>\n",
       "      <th>categories</th>\n",
       "      <th>salesRank</th>\n",
       "    </tr>\n",
       "  </thead>\n",
       "  <tbody>\n",
       "    <tr>\n",
       "      <th>0</th>\n",
       "      <td>0002008505</td>\n",
       "      <td>B002DYJ7DM</td>\n",
       "      <td>the space between</td>\n",
       "      <td>4.74</td>\n",
       "      <td>[['Books']]</td>\n",
       "      <td>{'Books': 5587764}</td>\n",
       "    </tr>\n",
       "    <tr>\n",
       "      <th>1</th>\n",
       "      <td>0615891411</td>\n",
       "      <td>B002DYJ7DM</td>\n",
       "      <td>the space between</td>\n",
       "      <td>2.99</td>\n",
       "      <td>[['Books']]</td>\n",
       "      <td>{'Books': 4145053}</td>\n",
       "    </tr>\n",
       "    <tr>\n",
       "      <th>2</th>\n",
       "      <td>1579660584</td>\n",
       "      <td>B002DYJ7DM</td>\n",
       "      <td>the space between</td>\n",
       "      <td>20.08</td>\n",
       "      <td>[['Books']]</td>\n",
       "      <td>{'Books': 2486827}</td>\n",
       "    </tr>\n",
       "    <tr>\n",
       "      <th>3</th>\n",
       "      <td>1588515508</td>\n",
       "      <td>B002DYJ7DM</td>\n",
       "      <td>the space between</td>\n",
       "      <td>NaN</td>\n",
       "      <td>[['Books']]</td>\n",
       "      <td>{'Books': 5985767}</td>\n",
       "    </tr>\n",
       "    <tr>\n",
       "      <th>4</th>\n",
       "      <td>1595143394</td>\n",
       "      <td>B002DYJ7DM</td>\n",
       "      <td>the space between</td>\n",
       "      <td>7.13</td>\n",
       "      <td>[['Books']]</td>\n",
       "      <td>{'Books': 141638}</td>\n",
       "    </tr>\n",
       "  </tbody>\n",
       "</table>\n",
       "</div>"
      ],
      "text/plain": [
       "    asin_book  asin_ebook              title  price   categories  \\\n",
       "0  0002008505  B002DYJ7DM  the space between   4.74  [['Books']]   \n",
       "1  0615891411  B002DYJ7DM  the space between   2.99  [['Books']]   \n",
       "2  1579660584  B002DYJ7DM  the space between  20.08  [['Books']]   \n",
       "3  1588515508  B002DYJ7DM  the space between    NaN  [['Books']]   \n",
       "4  1595143394  B002DYJ7DM  the space between   7.13  [['Books']]   \n",
       "\n",
       "            salesRank  \n",
       "0  {'Books': 5587764}  \n",
       "1  {'Books': 4145053}  \n",
       "2  {'Books': 2486827}  \n",
       "3  {'Books': 5985767}  \n",
       "4   {'Books': 141638}  "
      ]
     },
     "execution_count": 223,
     "metadata": {},
     "output_type": "execute_result"
    }
   ],
   "source": [
    "merged_metadatas.head()"
   ]
  },
  {
   "cell_type": "markdown",
   "metadata": {},
   "source": [
    "As we see, we have a bigger number of entries. We could have tried to increase this number, however as we will see later, we already have some problems with this 'strict' way of doing."
   ]
  },
  {
   "cell_type": "code",
   "execution_count": 22,
   "metadata": {},
   "outputs": [
    {
     "data": {
      "text/plain": [
       "1506"
      ]
     },
     "execution_count": 22,
     "metadata": {},
     "output_type": "execute_result"
    }
   ],
   "source": [
    "merged_metadatas.shape[0]"
   ]
  },
  {
   "cell_type": "markdown",
   "metadata": {},
   "source": [
    "So we have merged the two dataframes into one, and it seems that we can do some analysis on it. We have 1506 entries, so it's good for a first analysis in milestone 2 to do so.\n",
    "But, as said before, there are title duplicates. It corresponds to books (there is only one duplicate entry for ebooks, for the article 'Second Chances') that have the same title."
   ]
  },
  {
   "cell_type": "code",
   "execution_count": 23,
   "metadata": {},
   "outputs": [
    {
     "data": {
      "text/html": [
       "<div>\n",
       "<style scoped>\n",
       "    .dataframe tbody tr th:only-of-type {\n",
       "        vertical-align: middle;\n",
       "    }\n",
       "\n",
       "    .dataframe tbody tr th {\n",
       "        vertical-align: top;\n",
       "    }\n",
       "\n",
       "    .dataframe thead th {\n",
       "        text-align: right;\n",
       "    }\n",
       "</style>\n",
       "<table border=\"1\" class=\"dataframe\">\n",
       "  <thead>\n",
       "    <tr style=\"text-align: right;\">\n",
       "      <th></th>\n",
       "      <th>asin_book</th>\n",
       "      <th>asin_ebook</th>\n",
       "      <th>title</th>\n",
       "      <th>price</th>\n",
       "      <th>categories</th>\n",
       "      <th>salesRank</th>\n",
       "    </tr>\n",
       "  </thead>\n",
       "  <tbody>\n",
       "    <tr>\n",
       "      <th>0</th>\n",
       "      <td>0002008505</td>\n",
       "      <td>B002DYJ7DM</td>\n",
       "      <td>the space between</td>\n",
       "      <td>4.74</td>\n",
       "      <td>[['Books']]</td>\n",
       "      <td>{'Books': 5587764}</td>\n",
       "    </tr>\n",
       "    <tr>\n",
       "      <th>1</th>\n",
       "      <td>0615891411</td>\n",
       "      <td>B002DYJ7DM</td>\n",
       "      <td>the space between</td>\n",
       "      <td>2.99</td>\n",
       "      <td>[['Books']]</td>\n",
       "      <td>{'Books': 4145053}</td>\n",
       "    </tr>\n",
       "    <tr>\n",
       "      <th>2</th>\n",
       "      <td>1579660584</td>\n",
       "      <td>B002DYJ7DM</td>\n",
       "      <td>the space between</td>\n",
       "      <td>20.08</td>\n",
       "      <td>[['Books']]</td>\n",
       "      <td>{'Books': 2486827}</td>\n",
       "    </tr>\n",
       "    <tr>\n",
       "      <th>3</th>\n",
       "      <td>1588515508</td>\n",
       "      <td>B002DYJ7DM</td>\n",
       "      <td>the space between</td>\n",
       "      <td>NaN</td>\n",
       "      <td>[['Books']]</td>\n",
       "      <td>{'Books': 5985767}</td>\n",
       "    </tr>\n",
       "    <tr>\n",
       "      <th>4</th>\n",
       "      <td>1595143394</td>\n",
       "      <td>B002DYJ7DM</td>\n",
       "      <td>the space between</td>\n",
       "      <td>7.13</td>\n",
       "      <td>[['Books']]</td>\n",
       "      <td>{'Books': 141638}</td>\n",
       "    </tr>\n",
       "    <tr>\n",
       "      <th>5</th>\n",
       "      <td>1601540817</td>\n",
       "      <td>B002DYJ7DM</td>\n",
       "      <td>the space between</td>\n",
       "      <td>10.99</td>\n",
       "      <td>[['Books']]</td>\n",
       "      <td>{'Books': 11114107}</td>\n",
       "    </tr>\n",
       "    <tr>\n",
       "      <th>6</th>\n",
       "      <td>1625530226</td>\n",
       "      <td>B002DYJ7DM</td>\n",
       "      <td>the space between</td>\n",
       "      <td>6.99</td>\n",
       "      <td>[['Books']]</td>\n",
       "      <td>{'Books': 2678708}</td>\n",
       "    </tr>\n",
       "  </tbody>\n",
       "</table>\n",
       "</div>"
      ],
      "text/plain": [
       "    asin_book  asin_ebook              title  price   categories  \\\n",
       "0  0002008505  B002DYJ7DM  the space between   4.74  [['Books']]   \n",
       "1  0615891411  B002DYJ7DM  the space between   2.99  [['Books']]   \n",
       "2  1579660584  B002DYJ7DM  the space between  20.08  [['Books']]   \n",
       "3  1588515508  B002DYJ7DM  the space between    NaN  [['Books']]   \n",
       "4  1595143394  B002DYJ7DM  the space between   7.13  [['Books']]   \n",
       "5  1601540817  B002DYJ7DM  the space between  10.99  [['Books']]   \n",
       "6  1625530226  B002DYJ7DM  the space between   6.99  [['Books']]   \n",
       "\n",
       "             salesRank  \n",
       "0   {'Books': 5587764}  \n",
       "1   {'Books': 4145053}  \n",
       "2   {'Books': 2486827}  \n",
       "3   {'Books': 5985767}  \n",
       "4    {'Books': 141638}  \n",
       "5  {'Books': 11114107}  \n",
       "6   {'Books': 2678708}  "
      ]
     },
     "execution_count": 23,
     "metadata": {},
     "output_type": "execute_result"
    }
   ],
   "source": [
    "merged_metadatas.head(7)"
   ]
  },
  {
   "cell_type": "code",
   "execution_count": 24,
   "metadata": {},
   "outputs": [
    {
     "data": {
      "text/plain": [
       "count               2741\n",
       "unique              2739\n",
       "top       second chances\n",
       "freq                   2\n",
       "Name: title, dtype: object"
      ]
     },
     "execution_count": 24,
     "metadata": {},
     "output_type": "execute_result"
    }
   ],
   "source": [
    "ebooks_metadata.title.describe()"
   ]
  },
  {
   "cell_type": "markdown",
   "metadata": {},
   "source": [
    "We thus thought that we could consider only pairs that have a unique title in the whole dataframe. In that way, we only have articles that have a unique name, at least in the period in which the dataset has been created, so that we could only have exactly the same content for the book and the ebook. \n",
    "\n",
    "We thus drop all elements that have a title that exists more than one time in the dataframe.\n",
    "\n",
    "It's naive, as we don't have all books and ebooks of Amazon, even for the period given, but we wanted to try."
   ]
  },
  {
   "cell_type": "code",
   "execution_count": 25,
   "metadata": {},
   "outputs": [
    {
     "data": {
      "text/html": [
       "<div>\n",
       "<style scoped>\n",
       "    .dataframe tbody tr th:only-of-type {\n",
       "        vertical-align: middle;\n",
       "    }\n",
       "\n",
       "    .dataframe tbody tr th {\n",
       "        vertical-align: top;\n",
       "    }\n",
       "\n",
       "    .dataframe thead th {\n",
       "        text-align: right;\n",
       "    }\n",
       "</style>\n",
       "<table border=\"1\" class=\"dataframe\">\n",
       "  <thead>\n",
       "    <tr style=\"text-align: right;\">\n",
       "      <th></th>\n",
       "      <th>asin_book</th>\n",
       "      <th>asin_ebook</th>\n",
       "      <th>title</th>\n",
       "      <th>price</th>\n",
       "      <th>categories</th>\n",
       "      <th>salesRank</th>\n",
       "    </tr>\n",
       "  </thead>\n",
       "  <tbody>\n",
       "    <tr>\n",
       "      <th>39</th>\n",
       "      <td>0007269854</td>\n",
       "      <td>B003ZUY19I</td>\n",
       "      <td>the ice princess</td>\n",
       "      <td>7.59</td>\n",
       "      <td>[['Books']]</td>\n",
       "      <td>{'Books': 2527081}</td>\n",
       "    </tr>\n",
       "    <tr>\n",
       "      <th>95</th>\n",
       "      <td>0060517689</td>\n",
       "      <td>B0036ZAHDG</td>\n",
       "      <td>in the mood</td>\n",
       "      <td>2.99</td>\n",
       "      <td>[['Books']]</td>\n",
       "      <td>{'Books': 2663548}</td>\n",
       "    </tr>\n",
       "    <tr>\n",
       "      <th>121</th>\n",
       "      <td>0060595620</td>\n",
       "      <td>B00480P58K</td>\n",
       "      <td>the sweetest taboo</td>\n",
       "      <td>8.70</td>\n",
       "      <td>[['Books']]</td>\n",
       "      <td>{'Books': 2956119}</td>\n",
       "    </tr>\n",
       "    <tr>\n",
       "      <th>173</th>\n",
       "      <td>0060813032</td>\n",
       "      <td>B0049H8X86</td>\n",
       "      <td>dragons from the sea (the strongbow saga, book 2)</td>\n",
       "      <td>3.60</td>\n",
       "      <td>[['Books']]</td>\n",
       "      <td>{'Books': 1269204}</td>\n",
       "    </tr>\n",
       "    <tr>\n",
       "      <th>200</th>\n",
       "      <td>0061084220</td>\n",
       "      <td>B004QS98KU</td>\n",
       "      <td>raven's bride</td>\n",
       "      <td>7.69</td>\n",
       "      <td>[['Books']]</td>\n",
       "      <td>{'Books': 2911109}</td>\n",
       "    </tr>\n",
       "    <tr>\n",
       "      <th>460</th>\n",
       "      <td>0140249249</td>\n",
       "      <td>B003XVYGXK</td>\n",
       "      <td>iced</td>\n",
       "      <td>NaN</td>\n",
       "      <td>[['Books']]</td>\n",
       "      <td>{'Books': 1225702}</td>\n",
       "    </tr>\n",
       "    <tr>\n",
       "      <th>461</th>\n",
       "      <td>0140259678</td>\n",
       "      <td>B003C1R5CA</td>\n",
       "      <td>a timely death</td>\n",
       "      <td>NaN</td>\n",
       "      <td>[['Books']]</td>\n",
       "      <td>{'Books': 3077680}</td>\n",
       "    </tr>\n",
       "  </tbody>\n",
       "</table>\n",
       "</div>"
      ],
      "text/plain": [
       "      asin_book  asin_ebook  \\\n",
       "39   0007269854  B003ZUY19I   \n",
       "95   0060517689  B0036ZAHDG   \n",
       "121  0060595620  B00480P58K   \n",
       "173  0060813032  B0049H8X86   \n",
       "200  0061084220  B004QS98KU   \n",
       "460  0140249249  B003XVYGXK   \n",
       "461  0140259678  B003C1R5CA   \n",
       "\n",
       "                                                 title  price   categories  \\\n",
       "39                                    the ice princess   7.59  [['Books']]   \n",
       "95                                         in the mood   2.99  [['Books']]   \n",
       "121                                 the sweetest taboo   8.70  [['Books']]   \n",
       "173  dragons from the sea (the strongbow saga, book 2)   3.60  [['Books']]   \n",
       "200                                      raven's bride   7.69  [['Books']]   \n",
       "460                                               iced    NaN  [['Books']]   \n",
       "461                                     a timely death    NaN  [['Books']]   \n",
       "\n",
       "              salesRank  \n",
       "39   {'Books': 2527081}  \n",
       "95   {'Books': 2663548}  \n",
       "121  {'Books': 2956119}  \n",
       "173  {'Books': 1269204}  \n",
       "200  {'Books': 2911109}  \n",
       "460  {'Books': 1225702}  \n",
       "461  {'Books': 3077680}  "
      ]
     },
     "execution_count": 25,
     "metadata": {},
     "output_type": "execute_result"
    }
   ],
   "source": [
    "merged_metadatas = merged_metadatas.drop_duplicates('title',keep=False)\n",
    "merged_metadatas.head(7)"
   ]
  },
  {
   "cell_type": "markdown",
   "metadata": {},
   "source": [
    "We now only have 148 elements in the merged collection. We reming the reader about the fact that we tried to obtain 4000 ebooks titles, we got only 2741. By merging, we got 1506 entries, and when we drop all elements that have duplicates, we only have 148 elements."
   ]
  },
  {
   "cell_type": "code",
   "execution_count": 26,
   "metadata": {},
   "outputs": [
    {
     "data": {
      "text/plain": [
       "148"
      ]
     },
     "execution_count": 26,
     "metadata": {},
     "output_type": "execute_result"
    }
   ],
   "source": [
    "merged_metadatas.shape[0]"
   ]
  },
  {
   "cell_type": "markdown",
   "metadata": {},
   "source": [
    "After some manual analysis, we have unfortunately seen that for most entries, even if there is only one tuple (asin_book, asin_ebook), the two are not on the same content. We have an example for the first entry (the ice princess) : 'https://www.amazon.com/Princess-Patrik-Hedstrom-Erica-Falck/dp/0007269854' and 'https://www.amazon.com/Ice-Princess-Elizabeth-Hoyt-ebook/dp/B003ZUY19I' have the same title but are written by two different people, and have different content.\n",
    "\n",
    "There are some tuples that match : for the article 'dragons from the sea (the strongbow saga, book 2)', we have the same content.\n",
    "\n",
    "It's hard for us to quantify the number of such articles that do not match. We have done some by hand, and we have seen that a lot was not matching at all. A way to have good matches automatically could be to obtain the authors. We think that for the same author, it's rare to have two book with the same name. If we forget a minute about problems like the number of authors which is different for the ebook and the book even if it's the same, or different naming conventions (A fictive example : J. F. Brown or J. Brown), we would need the author information for each book and ebook of the tuples that we have merged.\n",
    "\n",
    "The website we were <a href='http://asindb.com/'>using</a> does not provide this information. We then need to obtain it from somewhere else. \n",
    "\n",
    "We have tried to look at the library genesis, using this <a href='http://garbage.world/posts/libgen/'>tutorial</a>. However, there are only two ways to get back information about a book : using a special id (Libgen id), or by date. Furthermore, the asin field exists, but after some tests for which none of the articles had asin, it's hard to say if it's a good option. Thus, we have thought it's not the best solution for us.\n",
    "\n",
    "We have also been told to look at the Gutenberg project. It could have been a good idea if we could search by asin in the metadatas, that are available. However, it seems that the asin data is not available, so we won't use it neither."
   ]
  },
  {
   "cell_type": "code",
   "execution_count": 27,
   "metadata": {},
   "outputs": [
    {
     "data": {
      "text/plain": [
       "array(['B000F83SZQ', 'B000FA64PA', 'B000FA64PK', ..., 'B00M029T4O',\n",
       "       'B00M0RE7CS', 'B00M13FNSS'], dtype=object)"
      ]
     },
     "execution_count": 27,
     "metadata": {},
     "output_type": "execute_result"
    }
   ],
   "source": [
    "ebooks_asin_unique"
   ]
  },
  {
   "cell_type": "code",
   "execution_count": 7,
   "metadata": {
    "collapsed": true
   },
   "outputs": [],
   "source": [
    "import bottlenose"
   ]
  },
  {
   "cell_type": "markdown",
   "metadata": {},
   "source": [
    "AWS_ACCESS_KEY_ID, AWS_SECRET_ACCESS_KEY, AWS_ASSOCIATE_TAG = pickle.load(open('amazon_access_epfl_new.txt', \"rb\"))"
   ]
  },
  {
   "cell_type": "code",
   "execution_count": 8,
   "metadata": {
    "collapsed": true
   },
   "outputs": [],
   "source": [
    "(AWS_ACCESS_KEY_ID,AWS_SECRET_ACCESS_KEY,AWS_ASSOCIATE_TAG) = pd.read_csv('amazon_keys.csv', header=None, usecols=[1]).values.flatten()"
   ]
  },
  {
   "cell_type": "code",
   "execution_count": 9,
   "metadata": {
    "collapsed": true
   },
   "outputs": [],
   "source": [
    "import random\n",
    "import time\n",
    "from urllib.error import HTTPError\n",
    "\n",
    "def error_handler(err):\n",
    "    ex = err['exception']\n",
    "    if isinstance(ex, HTTPError) and ex.code == 503:\n",
    "        time.sleep(random.expovariate(0.1))\n",
    "        return True"
   ]
  },
  {
   "cell_type": "code",
   "execution_count": 10,
   "metadata": {
    "collapsed": true
   },
   "outputs": [],
   "source": [
    "amazon = bottlenose.Amazon(AWS_ACCESS_KEY_ID, AWS_SECRET_ACCESS_KEY, AWS_ASSOCIATE_TAG, ErrorHandler=error_handler)"
   ]
  },
  {
   "cell_type": "code",
   "execution_count": 11,
   "metadata": {
    "collapsed": true
   },
   "outputs": [],
   "source": [
    "books_asin_unique = pd.read_csv('books_asin.csv',usecols=[1]).asin.unique()"
   ]
  },
  {
   "cell_type": "code",
   "execution_count": 14,
   "metadata": {},
   "outputs": [
    {
     "data": {
      "text/plain": [
       "367982"
      ]
     },
     "execution_count": 14,
     "metadata": {},
     "output_type": "execute_result"
    }
   ],
   "source": [
    "len(books_asin_unique)"
   ]
  },
  {
   "cell_type": "code",
   "execution_count": 12,
   "metadata": {
    "collapsed": true
   },
   "outputs": [],
   "source": [
    "BEGIN = 367950\n",
    "END = 400000\n",
    "SIMULTANEOUS_REQUESTS = 10\n",
    "STEP = 50\n",
    "override = False"
   ]
  },
  {
   "cell_type": "markdown",
   "metadata": {},
   "source": [
    "There are entries that are still not available through the Advertising API : B000FC26RI\n",
    "\n",
    "Also newspaper don't comply to this contract of authors : The Wall Street Journal (B000FDJ0FS)"
   ]
  },
  {
   "cell_type": "code",
   "execution_count": 13,
   "metadata": {
    "collapsed": true
   },
   "outputs": [],
   "source": [
    "dataframe_books = pd.DataFrame(columns=['title', 'authors', 'manufacturer'])\n",
    "dataframe_undefined = pd.DataFrame(columns=['title', 'authors', 'manufacturer'])\n",
    "log = pd.Series()\n",
    "\n",
    "if(override):\n",
    "    dataframe_books.to_csv(amazon_aws_books)\n",
    "    dataframe_undefined.to_csv(amazon_aws_books_undefined)\n",
    "    log.to_csv(amazon_aws_books_log)\n",
    "\n",
    "books_simultaneous_list = []\n",
    "\n",
    "for i, book_asin in enumerate(books_asin_unique[BEGIN:END]):\n",
    "    books_simultaneous_list += [book_asin]\n",
    "    \n",
    "    if i>0 and i%SIMULTANEOUS_REQUESTS == 0:\n",
    "        keys = ','.join(books_simultaneous_list)\n",
    "        books_simultaneous_list = []\n",
    "        if i%STEP==0 and i > 0:\n",
    "            print(i+BEGIN)\n",
    "            dataframe_books[['title', 'authors', 'manufacturer']].to_csv(amazon_aws_books, header=False,mode='a')\n",
    "            dataframe_books = pd.DataFrame(columns=['title', 'authors', 'manufacturer'])\n",
    "\n",
    "            dataframe_undefined[['title', 'authors', 'manufacturer']].to_csv(amazon_aws_books_undefined, header=False,mode='a')\n",
    "            dataframe_undefined = pd.DataFrame(columns=['title', 'authors', 'manufacturer'])\n",
    "\n",
    "            log.to_csv(amazon_aws_books_log, header=False,mode='a')\n",
    "            log = pd.Series()\n",
    "\n",
    "        response = amazon.ItemLookup(ItemId=keys)\n",
    "        soup = BeautifulSoup(response, 'html.parser')\n",
    "        \n",
    "        items = soup.find_all('item')\n",
    "        for item in items:\n",
    "            all_important_defined = True\n",
    "            authors_retrieved = []\n",
    "            \n",
    "            asins = item.find_all('asin')\n",
    "            if(len(asins) != 0):\n",
    "                asin_retrieved = asins[0].text.strip()\n",
    "            else:\n",
    "                asin_retrieved = ''\n",
    "                all_important_defined = False\n",
    "\n",
    "            titles = item.find_all('title')\n",
    "            if(len(titles) != 0):\n",
    "                title_retrieved = titles[0].text.strip()\n",
    "            else:\n",
    "                title_retrieved = ''\n",
    "                all_important_defined = False\n",
    "\n",
    "            manufacturers = item.find_all('manufacturer')\n",
    "            if(len(manufacturers) != 0):\n",
    "                manufacturer_retrieved = manufacturers[0].text.strip()\n",
    "            else:\n",
    "                manufacturer_retrieved = ''\n",
    "\n",
    "            authors = item.find_all('author')\n",
    "            if(len(authors) != 0):\n",
    "                for author in authors:\n",
    "                    authors_retrieved += [author.text.strip()]\n",
    "            else:\n",
    "                authors_retrieved = []\n",
    "                all_important_defined = False\n",
    "\n",
    "            new_entry = pd.DataFrame({'title':title_retrieved,'authors':\", \".join(authors_retrieved), 'manufacturer':manufacturer_retrieved},index=[asin_retrieved])\n",
    "            if(all_important_defined):\n",
    "                dataframe_books = dataframe_books.append(new_entry)\n",
    "            else:\n",
    "                dataframe_undefined = dataframe_undefined.append(new_entry)\n",
    "                log = log.append(pd.Series(item.prettify()))\n",
    "\n",
    "dataframe_books[['title', 'authors', 'manufacturer']].to_csv(amazon_aws_books, header=False,mode='a')\n",
    "dataframe_undefined[['title', 'authors', 'manufacturer']].to_csv(amazon_aws_books_undefined, header=False,mode='a')\n",
    "log.to_csv(amazon_aws_books_log, header=False,mode='a')"
   ]
  },
  {
   "cell_type": "markdown",
   "metadata": {},
   "source": [
    "-- --\n",
    "## Review analysis"
   ]
  },
  {
   "cell_type": "markdown",
   "metadata": {},
   "source": [
    "Even if we have some problems that will need to be fixed for the milestone 3, we have continued in the analysis. Of course we had to test with wrong data, but we will ensure that in the future, we will make it work on correct data (one with same author and title for books and ebooks). The code is here to show that we have worked on other steps of the pipeline."
   ]
  },
  {
   "cell_type": "code",
   "execution_count": 100,
   "metadata": {},
   "outputs": [
    {
     "name": "stderr",
     "output_type": "stream",
     "text": [
      "//anaconda/lib/python3.5/site-packages/nltk/twitter/__init__.py:20: UserWarning: The twython library has not been installed. Some functionality from the twitter package will not be available.\n",
      "  warnings.warn(\"The twython library has not been installed. \"\n"
     ]
    }
   ],
   "source": [
    "import nltk\n",
    "from nltk.sentiment.vader import SentimentIntensityAnalyzer"
   ]
  },
  {
   "cell_type": "markdown",
   "metadata": {},
   "source": [
    "Here you will need to uncomment this and download vader_lexicon as described in the README."
   ]
  },
  {
   "cell_type": "code",
   "execution_count": 4,
   "metadata": {
    "collapsed": true
   },
   "outputs": [],
   "source": [
    "#nltk.download_shell()"
   ]
  },
  {
   "cell_type": "code",
   "execution_count": 101,
   "metadata": {
    "collapsed": true
   },
   "outputs": [],
   "source": [
    "import findspark\n",
    "findspark.init()\n",
    "import pyspark\n",
    "sc = pyspark.SparkContext(appName=\"Pi\")\n",
    "from pyspark.sql import SQLContext\n",
    "sqlContext = SQLContext(sc)"
   ]
  },
  {
   "cell_type": "code",
   "execution_count": 102,
   "metadata": {
    "collapsed": true
   },
   "outputs": [],
   "source": [
    "from pyspark.sql.functions import udf, array, col\n",
    "import pyspark.sql.functions as F\n",
    "import pyspark.sql.types as T"
   ]
  },
  {
   "cell_type": "markdown",
   "metadata": {},
   "source": [
    "Next we are going to fetch the reviews of the books for which we have the ebooks.\n",
    "\n",
    "As the file for the reviews of the books is quite big, we are going the read it into chunks."
   ]
  },
  {
   "cell_type": "code",
   "execution_count": 191,
   "metadata": {
    "collapsed": true
   },
   "outputs": [],
   "source": [
    "def find_matched(list_asins, in_path, out_path):\n",
    "    pd.DataFrame(columns=[['asin','overall', 'summary', 'reviewerID', 'helpful','reviewText', 'reviewerName', 'reviewTime']]).to_csv(out_path)\n",
    "    \n",
    "    for chunk in pd.read_json(in_path, lines=True, chunksize=50000):\n",
    "        # look if some asins of the chunk match the ones in the given list\n",
    "        filtered = chunk[chunk['asin'].isin(list_asins)].dropna(how='all')\n",
    "        \n",
    "        if len(filtered) > 0:\n",
    "            # write the data if any\n",
    "            filtered[['asin','overall', 'summary', 'reviewerID', 'helpful','reviewText', 'reviewerName', 'reviewTime']].to_csv(out_path,header=False, mode='a')\n"
   ]
  },
  {
   "cell_type": "markdown",
   "metadata": {},
   "source": [
    "### Working with the new dataset"
   ]
  },
  {
   "cell_type": "code",
   "execution_count": 223,
   "metadata": {},
   "outputs": [
    {
     "name": "stdout",
     "output_type": "stream",
     "text": [
      "49020\n",
      "317480\n"
     ]
    }
   ],
   "source": [
    "ebooks_metadata = pd.read_csv('ebooks_metadata_amazon.csv')\n",
    "books_metadata = pd.read_csv('books_metadata_amazon_lax.csv')\n",
    "\n",
    "#books_metadata = pd.read_csv('books_metadata_amazon_all.csv')\n",
    "\n",
    "# remove the duplicated entries\n",
    "ebooks = ebooks_metadata.copy().set_index('title')\n",
    "print(len(ebooks))\n",
    "ebooks = ebooks[~ebooks.index.duplicated()]\n",
    "\n",
    "books = books_metadata.copy().set_index('title')\n",
    "print(len(books))\n",
    "books = books[~books.index.duplicated()]\n"
   ]
  },
  {
   "cell_type": "markdown",
   "metadata": {},
   "source": [
    "#### Duplicate the books with mutiple authors\n",
    "For some books, we can multiple authors who have collaborated together. What we want is to take into account those books when performing the analysis, in other word we will add those books to the bibliography of each of the authors who collaborated. To achieve this, we will duplicate the entries of the said books, but for each duplicates we will only keep one of the different collaborators."
   ]
  },
  {
   "cell_type": "code",
   "execution_count": 182,
   "metadata": {
    "collapsed": true
   },
   "outputs": [],
   "source": [
    "def treat_and_get_mean_var_rank(path_dataframe):\n",
    "    amazon_ebooks_metadata = pd.read_csv(path_dataframe)#.rename(columns={'Unnamed: 0':'asin'}).drop_duplicates(subset='asin')\n",
    "    \n",
    "    authors_unmerged = amazon_ebooks_metadata.authors.str.split(', ').apply(pd.Series).unstack().dropna()\n",
    "    \n",
    "    ind = amazon_ebooks_metadata.authors.str.split(', ').apply(pd.Series)\n",
    "    ind[ind.isna()] = -1\n",
    "    ind[ind != -1] = pd.np.nan\n",
    "    ind['index']=ind.index\n",
    "    cols = list(ind.columns.values)\n",
    "    cols = cols[-1:] + cols[:-1]\n",
    "    ind = ind[cols]\n",
    "    ind = ind.fillna(method='pad', axis=1)\n",
    "    cols = cols[1:]\n",
    "\n",
    "    ind = ind[cols]\n",
    "    ind[ind == -1] = pd.np.nan\n",
    "    ind = ind.unstack().dropna()\n",
    "    authors_unmerged_with_ind = pd.DataFrame(authors_unmerged.values, index=ind.values.astype(np.int64))\n",
    "    \n",
    "    ebooks_with_unmerged_authors = amazon_ebooks_metadata.copy().loc[authors_unmerged_with_ind.index.values]\n",
    "    ebooks_with_unmerged_authors['authors'] = authors_unmerged_with_ind.values\n",
    "    \n",
    "    return ebooks_with_unmerged_authors"
   ]
  },
  {
   "cell_type": "code",
   "execution_count": 99,
   "metadata": {
    "collapsed": true
   },
   "outputs": [],
   "source": [
    "def treat_file_multiple_authors(path_dataframe):\n",
    "    amazon_ebooks_metadata = pd.read_csv(path_dataframe)\n",
    "    \n",
    "    cols = list(amazon_ebooks_metadata.columns.values)\n",
    "    cols = cols[1:]\n",
    "    amazon_ebooks_metadata = amazon_ebooks_metadata[cols]\n",
    "        \n",
    "    amazon_ebooks_metadata['title'] = amazon_ebooks_metadata.title.str.lower()\n",
    "    amazon_ebooks_metadata['title'] = amazon_ebooks_metadata.title.str.strip()\n",
    "    amazon_ebooks_metadata['authors'] = amazon_ebooks_metadata.authors.str.lower()\n",
    "    \n",
    "    authors_unmerged = amazon_ebooks_metadata.authors.str.split(',').apply(pd.Series).unstack().dropna()\n",
    "    authors_unmerged = authors_unmerged.str.strip()\n",
    "    \n",
    "    ind = amazon_ebooks_metadata.authors.str.split(',').apply(pd.Series)\n",
    "    ind[ind.isna()] = -1\n",
    "    ind[ind != -1] = pd.np.nan\n",
    "    ind['index']=ind.index\n",
    "    cols = list(ind.columns.values)\n",
    "    cols = cols[-1:] + cols[:-1]\n",
    "    ind = ind[cols]\n",
    "    ind = ind.fillna(method='pad', axis=1)\n",
    "    cols = cols[1:]\n",
    "\n",
    "    ind = ind[cols]\n",
    "    ind[ind == -1] = pd.np.nan\n",
    "    ind = ind.unstack().dropna()\n",
    "    authors_unmerged_with_ind = pd.DataFrame(authors_unmerged.values, index=ind.values.astype(np.int64))\n",
    "    \n",
    "    ebooks_with_unmerged_authors = amazon_ebooks_metadata.copy().loc[authors_unmerged_with_ind.index.values]\n",
    "    ebooks_with_unmerged_authors['authors'] = authors_unmerged_with_ind.values\n",
    "\n",
    "    return ebooks_with_unmerged_authors"
   ]
  },
  {
   "cell_type": "code",
   "execution_count": 13,
   "metadata": {
    "collapsed": true
   },
   "outputs": [],
   "source": [
    "if WRITE_FLAT:\n",
    "    #books_nolax = treat_and_get_mean_var_rank('books_metadata_amazon_all.csv')\n",
    "    ebooks_nolax = treat_and_get_mean_var_rank('ebooks_metadata_amazon.csv')\n",
    "    books_flat_lax = treat_and_get_mean_var_rank('books_metadata_amazon_lax.csv')\n",
    "    \n",
    "    #books_nolax.to_csv('books_flat_authors.csv')\n",
    "    ebooks_nolax.to_csv('ebooks_flat_authors.csv')\n",
    "    books_flat_lax.to_csv('books_flatlax_authors.csv')"
   ]
  },
  {
   "cell_type": "code",
   "execution_count": 251,
   "metadata": {
    "collapsed": true
   },
   "outputs": [],
   "source": [
    "books_nolax = treat_file_multiple_authors('books_metadata_amazon_all.csv')"
   ]
  },
  {
   "cell_type": "markdown",
   "metadata": {},
   "source": [
    "#### A tale of two datasets"
   ]
  },
  {
   "cell_type": "code",
   "execution_count": 252,
   "metadata": {
    "collapsed": true
   },
   "outputs": [],
   "source": [
    "books = pd.read_csv('books_flatlax_authors.csv')\n",
    "books_nolax = pd.read_csv('books_flat_authors.csv')\n",
    "ebooks_nolax = pd.read_csv('ebooks_flat_authors.csv')"
   ]
  },
  {
   "cell_type": "markdown",
   "metadata": {},
   "source": [
    "From here we will work with two versions of the dataset, one with the suffix \"lax\" and the other with \"nolax\", the \"nolax\" being almost the same as the \"lax\" but with more information such as the rank, the number of pages, the price and the release date or the publishing date respectively for the kindle or the book version. The later parameter being compulsory. Therefore the \"nolax\" dataset is here to complete and refine the analysis.\n",
    "\n",
    "Here we merge the dataset of the paperback books with the dataset of the kindle on the authors to obtain the authors who have books on both supports."
   ]
  },
  {
   "cell_type": "code",
   "execution_count": 250,
   "metadata": {},
   "outputs": [
    {
     "data": {
      "text/plain": [
       "335532"
      ]
     },
     "execution_count": 250,
     "metadata": {},
     "output_type": "execute_result"
    }
   ],
   "source": [
    "len(books_nolax)"
   ]
  },
  {
   "cell_type": "code",
   "execution_count": 55,
   "metadata": {},
   "outputs": [
    {
     "data": {
      "text/html": [
       "<div>\n",
       "<style scoped>\n",
       "    .dataframe tbody tr th:only-of-type {\n",
       "        vertical-align: middle;\n",
       "    }\n",
       "\n",
       "    .dataframe tbody tr th {\n",
       "        vertical-align: top;\n",
       "    }\n",
       "\n",
       "    .dataframe thead th {\n",
       "        text-align: right;\n",
       "    }\n",
       "</style>\n",
       "<table border=\"1\" class=\"dataframe\">\n",
       "  <thead>\n",
       "    <tr style=\"text-align: right;\">\n",
       "      <th></th>\n",
       "      <th>Unnamed: 0</th>\n",
       "      <th>asin</th>\n",
       "      <th>title</th>\n",
       "      <th>authors</th>\n",
       "      <th>manufacturer</th>\n",
       "      <th>rank</th>\n",
       "      <th>price</th>\n",
       "      <th>currency</th>\n",
       "      <th>reldate</th>\n",
       "      <th>page</th>\n",
       "      <th>language</th>\n",
       "    </tr>\n",
       "  </thead>\n",
       "  <tbody>\n",
       "    <tr>\n",
       "      <th>0</th>\n",
       "      <td>0</td>\n",
       "      <td>B000JMKNQ0</td>\n",
       "      <td>Boba Fett: A Practical Man: Star Wars Legends ...</td>\n",
       "      <td>Karen Traviss</td>\n",
       "      <td>Del Rey</td>\n",
       "      <td>250846.0</td>\n",
       "      <td>NaN</td>\n",
       "      <td>NaN</td>\n",
       "      <td>2006-08-08</td>\n",
       "      <td>104.0</td>\n",
       "      <td>English</td>\n",
       "    </tr>\n",
       "    <tr>\n",
       "      <th>1</th>\n",
       "      <td>1</td>\n",
       "      <td>B000JMLBHU</td>\n",
       "      <td>The Mysterious Island</td>\n",
       "      <td>Jules Verne</td>\n",
       "      <td>Public Domain Books</td>\n",
       "      <td>NaN</td>\n",
       "      <td>NaN</td>\n",
       "      <td>NaN</td>\n",
       "      <td>1998-04-01</td>\n",
       "      <td>516.0</td>\n",
       "      <td>English</td>\n",
       "    </tr>\n",
       "    <tr>\n",
       "      <th>2</th>\n",
       "      <td>2</td>\n",
       "      <td>B000JMLG4S</td>\n",
       "      <td>Knots, Splices and Rope Work A Practical Treatise</td>\n",
       "      <td>A.(Alpheus) Hyatt Verrill</td>\n",
       "      <td>Public Domain Books</td>\n",
       "      <td>NaN</td>\n",
       "      <td>NaN</td>\n",
       "      <td>NaN</td>\n",
       "      <td>2004-09-21</td>\n",
       "      <td>47.0</td>\n",
       "      <td>English</td>\n",
       "    </tr>\n",
       "    <tr>\n",
       "      <th>3</th>\n",
       "      <td>3</td>\n",
       "      <td>B000JMLHYC</td>\n",
       "      <td>The English Orphans</td>\n",
       "      <td>Mary Jane Holmes</td>\n",
       "      <td>Public Domain Books</td>\n",
       "      <td>NaN</td>\n",
       "      <td>NaN</td>\n",
       "      <td>NaN</td>\n",
       "      <td>2004-10-26</td>\n",
       "      <td>290.0</td>\n",
       "      <td>English</td>\n",
       "    </tr>\n",
       "    <tr>\n",
       "      <th>4</th>\n",
       "      <td>4</td>\n",
       "      <td>B000JQUSBQ</td>\n",
       "      <td>Indian Fairy Tales</td>\n",
       "      <td>Public Domain Books</td>\n",
       "      <td>Public Domain Books</td>\n",
       "      <td>NaN</td>\n",
       "      <td>NaN</td>\n",
       "      <td>NaN</td>\n",
       "      <td>2004-12-01</td>\n",
       "      <td>184.0</td>\n",
       "      <td>English</td>\n",
       "    </tr>\n",
       "  </tbody>\n",
       "</table>\n",
       "</div>"
      ],
      "text/plain": [
       "   Unnamed: 0        asin                                              title  \\\n",
       "0           0  B000JMKNQ0  Boba Fett: A Practical Man: Star Wars Legends ...   \n",
       "1           1  B000JMLBHU                              The Mysterious Island   \n",
       "2           2  B000JMLG4S  Knots, Splices and Rope Work A Practical Treatise   \n",
       "3           3  B000JMLHYC                                The English Orphans   \n",
       "4           4  B000JQUSBQ                                 Indian Fairy Tales   \n",
       "\n",
       "                     authors         manufacturer      rank  price currency  \\\n",
       "0              Karen Traviss              Del Rey  250846.0    NaN      NaN   \n",
       "1                Jules Verne  Public Domain Books       NaN    NaN      NaN   \n",
       "2  A.(Alpheus) Hyatt Verrill  Public Domain Books       NaN    NaN      NaN   \n",
       "3           Mary Jane Holmes  Public Domain Books       NaN    NaN      NaN   \n",
       "4        Public Domain Books  Public Domain Books       NaN    NaN      NaN   \n",
       "\n",
       "      reldate   page language  \n",
       "0  2006-08-08  104.0  English  \n",
       "1  1998-04-01  516.0  English  \n",
       "2  2004-09-21   47.0  English  \n",
       "3  2004-10-26  290.0  English  \n",
       "4  2004-12-01  184.0  English  "
      ]
     },
     "execution_count": 55,
     "metadata": {},
     "output_type": "execute_result"
    }
   ],
   "source": [
    "ebooks_nolax.rename(columns={'Unnamed: 0.1':'asin'}, inplace=True)\n",
    "ebooks_nolax.head()"
   ]
  },
  {
   "cell_type": "code",
   "execution_count": 249,
   "metadata": {},
   "outputs": [
    {
     "ename": "KeyError",
     "evalue": "'asin'",
     "output_type": "error",
     "traceback": [
      "\u001b[0;31m---------------------------------------------------------------------------\u001b[0m",
      "\u001b[0;31mKeyError\u001b[0m                                  Traceback (most recent call last)",
      "\u001b[0;32m//anaconda/lib/python3.5/site-packages/pandas/core/indexes/base.py\u001b[0m in \u001b[0;36mget_loc\u001b[0;34m(self, key, method, tolerance)\u001b[0m\n\u001b[1;32m   2521\u001b[0m             \u001b[0;32mtry\u001b[0m\u001b[0;34m:\u001b[0m\u001b[0;34m\u001b[0m\u001b[0m\n\u001b[0;32m-> 2522\u001b[0;31m                 \u001b[0;32mreturn\u001b[0m \u001b[0mself\u001b[0m\u001b[0;34m.\u001b[0m\u001b[0m_engine\u001b[0m\u001b[0;34m.\u001b[0m\u001b[0mget_loc\u001b[0m\u001b[0;34m(\u001b[0m\u001b[0mkey\u001b[0m\u001b[0;34m)\u001b[0m\u001b[0;34m\u001b[0m\u001b[0m\n\u001b[0m\u001b[1;32m   2523\u001b[0m             \u001b[0;32mexcept\u001b[0m \u001b[0mKeyError\u001b[0m\u001b[0;34m:\u001b[0m\u001b[0;34m\u001b[0m\u001b[0m\n",
      "\u001b[0;32mpandas/_libs/index.pyx\u001b[0m in \u001b[0;36mpandas._libs.index.IndexEngine.get_loc\u001b[0;34m()\u001b[0m\n",
      "\u001b[0;32mpandas/_libs/index.pyx\u001b[0m in \u001b[0;36mpandas._libs.index.IndexEngine.get_loc\u001b[0;34m()\u001b[0m\n",
      "\u001b[0;32mpandas/_libs/hashtable_class_helper.pxi\u001b[0m in \u001b[0;36mpandas._libs.hashtable.PyObjectHashTable.get_item\u001b[0;34m()\u001b[0m\n",
      "\u001b[0;32mpandas/_libs/hashtable_class_helper.pxi\u001b[0m in \u001b[0;36mpandas._libs.hashtable.PyObjectHashTable.get_item\u001b[0;34m()\u001b[0m\n",
      "\u001b[0;31mKeyError\u001b[0m: 'asin'",
      "\nDuring handling of the above exception, another exception occurred:\n",
      "\u001b[0;31mKeyError\u001b[0m                                  Traceback (most recent call last)",
      "\u001b[0;32m<ipython-input-249-aff851e78945>\u001b[0m in \u001b[0;36m<module>\u001b[0;34m()\u001b[0m\n\u001b[0;32m----> 1\u001b[0;31m \u001b[0mlen\u001b[0m\u001b[0;34m(\u001b[0m\u001b[0mebooks_nolax\u001b[0m\u001b[0;34m[\u001b[0m\u001b[0mebooks_nolax\u001b[0m\u001b[0;34m[\u001b[0m\u001b[0;34m'asin'\u001b[0m\u001b[0;34m]\u001b[0m\u001b[0;34m.\u001b[0m\u001b[0misin\u001b[0m\u001b[0;34m(\u001b[0m\u001b[0mebooks\u001b[0m\u001b[0;34m[\u001b[0m\u001b[0;34m'asin'\u001b[0m\u001b[0;34m]\u001b[0m\u001b[0;34m)\u001b[0m\u001b[0;34m]\u001b[0m\u001b[0;34m)\u001b[0m\u001b[0;34m\u001b[0m\u001b[0m\n\u001b[0m",
      "\u001b[0;32m//anaconda/lib/python3.5/site-packages/pandas/core/frame.py\u001b[0m in \u001b[0;36m__getitem__\u001b[0;34m(self, key)\u001b[0m\n\u001b[1;32m   2137\u001b[0m             \u001b[0;32mreturn\u001b[0m \u001b[0mself\u001b[0m\u001b[0;34m.\u001b[0m\u001b[0m_getitem_multilevel\u001b[0m\u001b[0;34m(\u001b[0m\u001b[0mkey\u001b[0m\u001b[0;34m)\u001b[0m\u001b[0;34m\u001b[0m\u001b[0m\n\u001b[1;32m   2138\u001b[0m         \u001b[0;32melse\u001b[0m\u001b[0;34m:\u001b[0m\u001b[0;34m\u001b[0m\u001b[0m\n\u001b[0;32m-> 2139\u001b[0;31m             \u001b[0;32mreturn\u001b[0m \u001b[0mself\u001b[0m\u001b[0;34m.\u001b[0m\u001b[0m_getitem_column\u001b[0m\u001b[0;34m(\u001b[0m\u001b[0mkey\u001b[0m\u001b[0;34m)\u001b[0m\u001b[0;34m\u001b[0m\u001b[0m\n\u001b[0m\u001b[1;32m   2140\u001b[0m \u001b[0;34m\u001b[0m\u001b[0m\n\u001b[1;32m   2141\u001b[0m     \u001b[0;32mdef\u001b[0m \u001b[0m_getitem_column\u001b[0m\u001b[0;34m(\u001b[0m\u001b[0mself\u001b[0m\u001b[0;34m,\u001b[0m \u001b[0mkey\u001b[0m\u001b[0;34m)\u001b[0m\u001b[0;34m:\u001b[0m\u001b[0;34m\u001b[0m\u001b[0m\n",
      "\u001b[0;32m//anaconda/lib/python3.5/site-packages/pandas/core/frame.py\u001b[0m in \u001b[0;36m_getitem_column\u001b[0;34m(self, key)\u001b[0m\n\u001b[1;32m   2144\u001b[0m         \u001b[0;31m# get column\u001b[0m\u001b[0;34m\u001b[0m\u001b[0;34m\u001b[0m\u001b[0m\n\u001b[1;32m   2145\u001b[0m         \u001b[0;32mif\u001b[0m \u001b[0mself\u001b[0m\u001b[0;34m.\u001b[0m\u001b[0mcolumns\u001b[0m\u001b[0;34m.\u001b[0m\u001b[0mis_unique\u001b[0m\u001b[0;34m:\u001b[0m\u001b[0;34m\u001b[0m\u001b[0m\n\u001b[0;32m-> 2146\u001b[0;31m             \u001b[0;32mreturn\u001b[0m \u001b[0mself\u001b[0m\u001b[0;34m.\u001b[0m\u001b[0m_get_item_cache\u001b[0m\u001b[0;34m(\u001b[0m\u001b[0mkey\u001b[0m\u001b[0;34m)\u001b[0m\u001b[0;34m\u001b[0m\u001b[0m\n\u001b[0m\u001b[1;32m   2147\u001b[0m \u001b[0;34m\u001b[0m\u001b[0m\n\u001b[1;32m   2148\u001b[0m         \u001b[0;31m# duplicate columns & possible reduce dimensionality\u001b[0m\u001b[0;34m\u001b[0m\u001b[0;34m\u001b[0m\u001b[0m\n",
      "\u001b[0;32m//anaconda/lib/python3.5/site-packages/pandas/core/generic.py\u001b[0m in \u001b[0;36m_get_item_cache\u001b[0;34m(self, item)\u001b[0m\n\u001b[1;32m   1840\u001b[0m         \u001b[0mres\u001b[0m \u001b[0;34m=\u001b[0m \u001b[0mcache\u001b[0m\u001b[0;34m.\u001b[0m\u001b[0mget\u001b[0m\u001b[0;34m(\u001b[0m\u001b[0mitem\u001b[0m\u001b[0;34m)\u001b[0m\u001b[0;34m\u001b[0m\u001b[0m\n\u001b[1;32m   1841\u001b[0m         \u001b[0;32mif\u001b[0m \u001b[0mres\u001b[0m \u001b[0;32mis\u001b[0m \u001b[0;32mNone\u001b[0m\u001b[0;34m:\u001b[0m\u001b[0;34m\u001b[0m\u001b[0m\n\u001b[0;32m-> 1842\u001b[0;31m             \u001b[0mvalues\u001b[0m \u001b[0;34m=\u001b[0m \u001b[0mself\u001b[0m\u001b[0;34m.\u001b[0m\u001b[0m_data\u001b[0m\u001b[0;34m.\u001b[0m\u001b[0mget\u001b[0m\u001b[0;34m(\u001b[0m\u001b[0mitem\u001b[0m\u001b[0;34m)\u001b[0m\u001b[0;34m\u001b[0m\u001b[0m\n\u001b[0m\u001b[1;32m   1843\u001b[0m             \u001b[0mres\u001b[0m \u001b[0;34m=\u001b[0m \u001b[0mself\u001b[0m\u001b[0;34m.\u001b[0m\u001b[0m_box_item_values\u001b[0m\u001b[0;34m(\u001b[0m\u001b[0mitem\u001b[0m\u001b[0;34m,\u001b[0m \u001b[0mvalues\u001b[0m\u001b[0;34m)\u001b[0m\u001b[0;34m\u001b[0m\u001b[0m\n\u001b[1;32m   1844\u001b[0m             \u001b[0mcache\u001b[0m\u001b[0;34m[\u001b[0m\u001b[0mitem\u001b[0m\u001b[0;34m]\u001b[0m \u001b[0;34m=\u001b[0m \u001b[0mres\u001b[0m\u001b[0;34m\u001b[0m\u001b[0m\n",
      "\u001b[0;32m//anaconda/lib/python3.5/site-packages/pandas/core/internals.py\u001b[0m in \u001b[0;36mget\u001b[0;34m(self, item, fastpath)\u001b[0m\n\u001b[1;32m   3836\u001b[0m \u001b[0;34m\u001b[0m\u001b[0m\n\u001b[1;32m   3837\u001b[0m             \u001b[0;32mif\u001b[0m \u001b[0;32mnot\u001b[0m \u001b[0misna\u001b[0m\u001b[0;34m(\u001b[0m\u001b[0mitem\u001b[0m\u001b[0;34m)\u001b[0m\u001b[0;34m:\u001b[0m\u001b[0;34m\u001b[0m\u001b[0m\n\u001b[0;32m-> 3838\u001b[0;31m                 \u001b[0mloc\u001b[0m \u001b[0;34m=\u001b[0m \u001b[0mself\u001b[0m\u001b[0;34m.\u001b[0m\u001b[0mitems\u001b[0m\u001b[0;34m.\u001b[0m\u001b[0mget_loc\u001b[0m\u001b[0;34m(\u001b[0m\u001b[0mitem\u001b[0m\u001b[0;34m)\u001b[0m\u001b[0;34m\u001b[0m\u001b[0m\n\u001b[0m\u001b[1;32m   3839\u001b[0m             \u001b[0;32melse\u001b[0m\u001b[0;34m:\u001b[0m\u001b[0;34m\u001b[0m\u001b[0m\n\u001b[1;32m   3840\u001b[0m                 \u001b[0mindexer\u001b[0m \u001b[0;34m=\u001b[0m \u001b[0mnp\u001b[0m\u001b[0;34m.\u001b[0m\u001b[0marange\u001b[0m\u001b[0;34m(\u001b[0m\u001b[0mlen\u001b[0m\u001b[0;34m(\u001b[0m\u001b[0mself\u001b[0m\u001b[0;34m.\u001b[0m\u001b[0mitems\u001b[0m\u001b[0;34m)\u001b[0m\u001b[0;34m)\u001b[0m\u001b[0;34m[\u001b[0m\u001b[0misna\u001b[0m\u001b[0;34m(\u001b[0m\u001b[0mself\u001b[0m\u001b[0;34m.\u001b[0m\u001b[0mitems\u001b[0m\u001b[0;34m)\u001b[0m\u001b[0;34m]\u001b[0m\u001b[0;34m\u001b[0m\u001b[0m\n",
      "\u001b[0;32m//anaconda/lib/python3.5/site-packages/pandas/core/indexes/base.py\u001b[0m in \u001b[0;36mget_loc\u001b[0;34m(self, key, method, tolerance)\u001b[0m\n\u001b[1;32m   2522\u001b[0m                 \u001b[0;32mreturn\u001b[0m \u001b[0mself\u001b[0m\u001b[0;34m.\u001b[0m\u001b[0m_engine\u001b[0m\u001b[0;34m.\u001b[0m\u001b[0mget_loc\u001b[0m\u001b[0;34m(\u001b[0m\u001b[0mkey\u001b[0m\u001b[0;34m)\u001b[0m\u001b[0;34m\u001b[0m\u001b[0m\n\u001b[1;32m   2523\u001b[0m             \u001b[0;32mexcept\u001b[0m \u001b[0mKeyError\u001b[0m\u001b[0;34m:\u001b[0m\u001b[0;34m\u001b[0m\u001b[0m\n\u001b[0;32m-> 2524\u001b[0;31m                 \u001b[0;32mreturn\u001b[0m \u001b[0mself\u001b[0m\u001b[0;34m.\u001b[0m\u001b[0m_engine\u001b[0m\u001b[0;34m.\u001b[0m\u001b[0mget_loc\u001b[0m\u001b[0;34m(\u001b[0m\u001b[0mself\u001b[0m\u001b[0;34m.\u001b[0m\u001b[0m_maybe_cast_indexer\u001b[0m\u001b[0;34m(\u001b[0m\u001b[0mkey\u001b[0m\u001b[0;34m)\u001b[0m\u001b[0;34m)\u001b[0m\u001b[0;34m\u001b[0m\u001b[0m\n\u001b[0m\u001b[1;32m   2525\u001b[0m \u001b[0;34m\u001b[0m\u001b[0m\n\u001b[1;32m   2526\u001b[0m         \u001b[0mindexer\u001b[0m \u001b[0;34m=\u001b[0m \u001b[0mself\u001b[0m\u001b[0;34m.\u001b[0m\u001b[0mget_indexer\u001b[0m\u001b[0;34m(\u001b[0m\u001b[0;34m[\u001b[0m\u001b[0mkey\u001b[0m\u001b[0;34m]\u001b[0m\u001b[0;34m,\u001b[0m \u001b[0mmethod\u001b[0m\u001b[0;34m=\u001b[0m\u001b[0mmethod\u001b[0m\u001b[0;34m,\u001b[0m \u001b[0mtolerance\u001b[0m\u001b[0;34m=\u001b[0m\u001b[0mtolerance\u001b[0m\u001b[0;34m)\u001b[0m\u001b[0;34m\u001b[0m\u001b[0m\n",
      "\u001b[0;32mpandas/_libs/index.pyx\u001b[0m in \u001b[0;36mpandas._libs.index.IndexEngine.get_loc\u001b[0;34m()\u001b[0m\n",
      "\u001b[0;32mpandas/_libs/index.pyx\u001b[0m in \u001b[0;36mpandas._libs.index.IndexEngine.get_loc\u001b[0;34m()\u001b[0m\n",
      "\u001b[0;32mpandas/_libs/hashtable_class_helper.pxi\u001b[0m in \u001b[0;36mpandas._libs.hashtable.PyObjectHashTable.get_item\u001b[0;34m()\u001b[0m\n",
      "\u001b[0;32mpandas/_libs/hashtable_class_helper.pxi\u001b[0m in \u001b[0;36mpandas._libs.hashtable.PyObjectHashTable.get_item\u001b[0;34m()\u001b[0m\n",
      "\u001b[0;31mKeyError\u001b[0m: 'asin'"
     ]
    }
   ],
   "source": [
    "len(ebooks_nolax[ebooks_nolax['asin'].isin(ebooks['asin'])])"
   ]
  },
  {
   "cell_type": "code",
   "execution_count": 58,
   "metadata": {
    "collapsed": true
   },
   "outputs": [],
   "source": [
    "ebooks_by_auth_nolax = ebooks_nolax.groupby(ebooks_nolax['authors'])\n",
    "cross_auth_nolax = ebooks_nolax.reset_index().merge(books_nolax.reset_index(), on='authors', suffixes=('_e', '_b'))"
   ]
  },
  {
   "cell_type": "code",
   "execution_count": 224,
   "metadata": {
    "collapsed": true
   },
   "outputs": [],
   "source": [
    "ebooks.rename(columns={'Unnamed: 0': 'asin'}, inplace=True)\n",
    "ebooks_by_auth = ebooks.reset_index().groupby(ebooks['authors'])\n",
    "cross_auth = ebooks.reset_index().merge(books.reset_index(), left_on='authors', right_on='authors', suffixes=('_e', '_b'))"
   ]
  },
  {
   "cell_type": "markdown",
   "metadata": {},
   "source": [
    "Only keep the entries in ebooks where the author is in common."
   ]
  },
  {
   "cell_type": "code",
   "execution_count": 210,
   "metadata": {
    "collapsed": true
   },
   "outputs": [],
   "source": [
    "ebooks_author = ebooks[ebooks['authors'].isin(cross_auth['authors'].unique())]\n",
    "books_author = books[books['authors'].isin(cross_auth['authors'].unique())]"
   ]
  },
  {
   "cell_type": "code",
   "execution_count": 211,
   "metadata": {},
   "outputs": [
    {
     "data": {
      "text/plain": [
       "46522"
      ]
     },
     "execution_count": 211,
     "metadata": {},
     "output_type": "execute_result"
    }
   ],
   "source": [
    "len(ebooks_author)"
   ]
  },
  {
   "cell_type": "code",
   "execution_count": 62,
   "metadata": {},
   "outputs": [
    {
     "name": "stdout",
     "output_type": "stream",
     "text": [
      "48269\n",
      "113552\n",
      "20391\n"
     ]
    }
   ],
   "source": [
    "ebooks_author_nolax = ebooks_nolax[ebooks_nolax['authors'].isin(cross_auth_nolax['authors'].unique())]\n",
    "print(len(ebooks_author_nolax))\n",
    "books_author_nolax = books_nolax[books_nolax['authors'].isin(cross_auth_nolax['authors'].unique())]\n",
    "print(len(books_author_nolax))\n",
    "print(len(cross_auth_nolax['authors'].unique()))"
   ]
  },
  {
   "cell_type": "markdown",
   "metadata": {},
   "source": [
    "50381"
   ]
  },
  {
   "cell_type": "code",
   "execution_count": 212,
   "metadata": {
    "collapsed": true,
    "scrolled": false
   },
   "outputs": [],
   "source": [
    "count_author_e = ebooks_author.groupby('authors').count()"
   ]
  },
  {
   "cell_type": "code",
   "execution_count": 213,
   "metadata": {
    "collapsed": true,
    "scrolled": true
   },
   "outputs": [],
   "source": [
    "count_author_b = books_author.groupby('authors').count()"
   ]
  },
  {
   "cell_type": "code",
   "execution_count": 214,
   "metadata": {
    "scrolled": true
   },
   "outputs": [
    {
     "data": {
      "text/plain": [
       "3416"
      ]
     },
     "execution_count": 214,
     "metadata": {},
     "output_type": "execute_result"
    }
   ],
   "source": [
    "len(count_author_b[count_author_b['asin']>5])"
   ]
  },
  {
   "cell_type": "code",
   "execution_count": 20,
   "metadata": {},
   "outputs": [
    {
     "data": {
      "text/html": [
       "<div>\n",
       "<style scoped>\n",
       "    .dataframe tbody tr th:only-of-type {\n",
       "        vertical-align: middle;\n",
       "    }\n",
       "\n",
       "    .dataframe tbody tr th {\n",
       "        vertical-align: top;\n",
       "    }\n",
       "\n",
       "    .dataframe thead th {\n",
       "        text-align: right;\n",
       "    }\n",
       "</style>\n",
       "<table border=\"1\" class=\"dataframe\">\n",
       "  <thead>\n",
       "    <tr style=\"text-align: right;\">\n",
       "      <th></th>\n",
       "      <th>asin</th>\n",
       "      <th>manufacturer</th>\n",
       "    </tr>\n",
       "  </thead>\n",
       "  <tbody>\n",
       "    <tr>\n",
       "      <th>count</th>\n",
       "      <td>20995.000000</td>\n",
       "      <td>20995.000000</td>\n",
       "    </tr>\n",
       "    <tr>\n",
       "      <th>mean</th>\n",
       "      <td>3.703120</td>\n",
       "      <td>2.854013</td>\n",
       "    </tr>\n",
       "    <tr>\n",
       "      <th>std</th>\n",
       "      <td>6.575191</td>\n",
       "      <td>6.403859</td>\n",
       "    </tr>\n",
       "    <tr>\n",
       "      <th>min</th>\n",
       "      <td>1.000000</td>\n",
       "      <td>0.000000</td>\n",
       "    </tr>\n",
       "    <tr>\n",
       "      <th>25%</th>\n",
       "      <td>1.000000</td>\n",
       "      <td>0.000000</td>\n",
       "    </tr>\n",
       "    <tr>\n",
       "      <th>50%</th>\n",
       "      <td>2.000000</td>\n",
       "      <td>1.000000</td>\n",
       "    </tr>\n",
       "    <tr>\n",
       "      <th>75%</th>\n",
       "      <td>4.000000</td>\n",
       "      <td>3.000000</td>\n",
       "    </tr>\n",
       "    <tr>\n",
       "      <th>max</th>\n",
       "      <td>243.000000</td>\n",
       "      <td>243.000000</td>\n",
       "    </tr>\n",
       "  </tbody>\n",
       "</table>\n",
       "</div>"
      ],
      "text/plain": [
       "               asin  manufacturer\n",
       "count  20995.000000  20995.000000\n",
       "mean       3.703120      2.854013\n",
       "std        6.575191      6.403859\n",
       "min        1.000000      0.000000\n",
       "25%        1.000000      0.000000\n",
       "50%        2.000000      1.000000\n",
       "75%        4.000000      3.000000\n",
       "max      243.000000    243.000000"
      ]
     },
     "execution_count": 20,
     "metadata": {},
     "output_type": "execute_result"
    }
   ],
   "source": [
    "count_author_b.describe()"
   ]
  },
  {
   "cell_type": "code",
   "execution_count": 21,
   "metadata": {},
   "outputs": [
    {
     "data": {
      "text/html": [
       "<div>\n",
       "<style scoped>\n",
       "    .dataframe tbody tr th:only-of-type {\n",
       "        vertical-align: middle;\n",
       "    }\n",
       "\n",
       "    .dataframe tbody tr th {\n",
       "        vertical-align: top;\n",
       "    }\n",
       "\n",
       "    .dataframe thead th {\n",
       "        text-align: right;\n",
       "    }\n",
       "</style>\n",
       "<table border=\"1\" class=\"dataframe\">\n",
       "  <thead>\n",
       "    <tr style=\"text-align: right;\">\n",
       "      <th></th>\n",
       "      <th>asin</th>\n",
       "      <th>manufacturer</th>\n",
       "      <th>rank</th>\n",
       "      <th>price</th>\n",
       "      <th>currency</th>\n",
       "      <th>reldate</th>\n",
       "      <th>page</th>\n",
       "      <th>language</th>\n",
       "    </tr>\n",
       "  </thead>\n",
       "  <tbody>\n",
       "    <tr>\n",
       "      <th>count</th>\n",
       "      <td>20995.000000</td>\n",
       "      <td>20995.000000</td>\n",
       "      <td>20995.000000</td>\n",
       "      <td>20995.000000</td>\n",
       "      <td>20995.000000</td>\n",
       "      <td>20995.000000</td>\n",
       "      <td>20995.000000</td>\n",
       "      <td>20995.000000</td>\n",
       "    </tr>\n",
       "    <tr>\n",
       "      <th>mean</th>\n",
       "      <td>2.215813</td>\n",
       "      <td>1.364372</td>\n",
       "      <td>2.072541</td>\n",
       "      <td>0.000238</td>\n",
       "      <td>0.000238</td>\n",
       "      <td>2.215813</td>\n",
       "      <td>2.204382</td>\n",
       "      <td>2.215813</td>\n",
       "    </tr>\n",
       "    <tr>\n",
       "      <th>std</th>\n",
       "      <td>2.857189</td>\n",
       "      <td>2.430795</td>\n",
       "      <td>2.758072</td>\n",
       "      <td>0.018258</td>\n",
       "      <td>0.018258</td>\n",
       "      <td>2.857189</td>\n",
       "      <td>2.850370</td>\n",
       "      <td>2.857189</td>\n",
       "    </tr>\n",
       "    <tr>\n",
       "      <th>min</th>\n",
       "      <td>1.000000</td>\n",
       "      <td>0.000000</td>\n",
       "      <td>0.000000</td>\n",
       "      <td>0.000000</td>\n",
       "      <td>0.000000</td>\n",
       "      <td>1.000000</td>\n",
       "      <td>0.000000</td>\n",
       "      <td>1.000000</td>\n",
       "    </tr>\n",
       "    <tr>\n",
       "      <th>25%</th>\n",
       "      <td>1.000000</td>\n",
       "      <td>0.000000</td>\n",
       "      <td>1.000000</td>\n",
       "      <td>0.000000</td>\n",
       "      <td>0.000000</td>\n",
       "      <td>1.000000</td>\n",
       "      <td>1.000000</td>\n",
       "      <td>1.000000</td>\n",
       "    </tr>\n",
       "    <tr>\n",
       "      <th>50%</th>\n",
       "      <td>1.000000</td>\n",
       "      <td>1.000000</td>\n",
       "      <td>1.000000</td>\n",
       "      <td>0.000000</td>\n",
       "      <td>0.000000</td>\n",
       "      <td>1.000000</td>\n",
       "      <td>1.000000</td>\n",
       "      <td>1.000000</td>\n",
       "    </tr>\n",
       "    <tr>\n",
       "      <th>75%</th>\n",
       "      <td>2.000000</td>\n",
       "      <td>1.000000</td>\n",
       "      <td>2.000000</td>\n",
       "      <td>0.000000</td>\n",
       "      <td>0.000000</td>\n",
       "      <td>2.000000</td>\n",
       "      <td>2.000000</td>\n",
       "      <td>2.000000</td>\n",
       "    </tr>\n",
       "    <tr>\n",
       "      <th>max</th>\n",
       "      <td>63.000000</td>\n",
       "      <td>63.000000</td>\n",
       "      <td>61.000000</td>\n",
       "      <td>2.000000</td>\n",
       "      <td>2.000000</td>\n",
       "      <td>63.000000</td>\n",
       "      <td>63.000000</td>\n",
       "      <td>63.000000</td>\n",
       "    </tr>\n",
       "  </tbody>\n",
       "</table>\n",
       "</div>"
      ],
      "text/plain": [
       "               asin  manufacturer          rank         price      currency  \\\n",
       "count  20995.000000  20995.000000  20995.000000  20995.000000  20995.000000   \n",
       "mean       2.215813      1.364372      2.072541      0.000238      0.000238   \n",
       "std        2.857189      2.430795      2.758072      0.018258      0.018258   \n",
       "min        1.000000      0.000000      0.000000      0.000000      0.000000   \n",
       "25%        1.000000      0.000000      1.000000      0.000000      0.000000   \n",
       "50%        1.000000      1.000000      1.000000      0.000000      0.000000   \n",
       "75%        2.000000      1.000000      2.000000      0.000000      0.000000   \n",
       "max       63.000000     63.000000     61.000000      2.000000      2.000000   \n",
       "\n",
       "            reldate          page      language  \n",
       "count  20995.000000  20995.000000  20995.000000  \n",
       "mean       2.215813      2.204382      2.215813  \n",
       "std        2.857189      2.850370      2.857189  \n",
       "min        1.000000      0.000000      1.000000  \n",
       "25%        1.000000      1.000000      1.000000  \n",
       "50%        1.000000      1.000000      1.000000  \n",
       "75%        2.000000      2.000000      2.000000  \n",
       "max       63.000000     63.000000     63.000000  "
      ]
     },
     "execution_count": 21,
     "metadata": {},
     "output_type": "execute_result"
    }
   ],
   "source": [
    "count_author_e.describe()"
   ]
  },
  {
   "cell_type": "markdown",
   "metadata": {},
   "source": [
    "The number of authors in common on both supports."
   ]
  },
  {
   "cell_type": "code",
   "execution_count": 215,
   "metadata": {},
   "outputs": [
    {
     "data": {
      "text/plain": [
       "20996"
      ]
     },
     "execution_count": 215,
     "metadata": {},
     "output_type": "execute_result"
    }
   ],
   "source": [
    "len(cross_auth['authors'].unique())"
   ]
  },
  {
   "cell_type": "markdown",
   "metadata": {},
   "source": [
    "### New analysis Here !"
   ]
  },
  {
   "cell_type": "code",
   "execution_count": 5,
   "metadata": {
    "collapsed": true
   },
   "outputs": [],
   "source": [
    "scores_books_authors = 'scores_books_by_authors.csv'\n",
    "scores_ebooks_authors = 'scores_ebooks_by_authors.csv'\n",
    "\n",
    "scores_books_overall = 'scores_books_by_overall.csv'\n",
    "#scores_books_overall = 'scores_books_by_overall_flatlax.csv'\n",
    "scores_ebooks_overall = 'scores_ebooks_by_overall.csv'\n",
    "\n",
    "scores_books_authors_complete = 'scores_books_by_authors_complete.csv'\n",
    "scores_ebooks_authors_complete = 'scores_ebooks_by_authors_complete.csv'\n",
    "\n",
    "scores_books_overall_complete = 'scores_books_by_overall_completeID.csv'\n",
    "scores_ebooks_overall_complete = 'scores_ebooks_by_overall_completeID.csv'\n",
    "\n",
    "top_authors_weighted_books_score = 'top_authors_weighted_books_score.csv'\n",
    "top_authors_weighted_kindle_score = 'top_authors_weighted_kindle_score.csv'\n",
    "\n",
    "top_kauthors_weighted_books_score = 'top_kauthors_weighted_books_score.csv'\n",
    "top_kauthors_weighted_kindle_score = 'top_kauthors_weighted_kindle_score.csv'"
   ]
  },
  {
   "cell_type": "markdown",
   "metadata": {},
   "source": [
    "Below we will obtain the reviews of the books and ebooks corresponding to the authors we find above."
   ]
  },
  {
   "cell_type": "code",
   "execution_count": 109,
   "metadata": {
    "collapsed": true
   },
   "outputs": [],
   "source": [
    "if WRITE_FIND_MATCHED:\n",
    "    find_matched(cross_auth['asin_b'].unique(), books_5core_path, matched_books_path)\n",
    "    find_matched(cross_auth['asin_e'].unique(), kindle_5core_path, matched_ebooks_path)\n",
    "    find_matched(cross_auth_nolax['asin_b'].unique(), books_5core_path, matched_books_path_nolax)\n",
    "    find_matched(cross_auth_nolax['asin_e'].unique(), kindle_5core_path, matched_ebooks_path_nolax)"
   ]
  },
  {
   "cell_type": "code",
   "execution_count": 218,
   "metadata": {
    "collapsed": true
   },
   "outputs": [],
   "source": [
    "match_books_author = pd.read_csv(matched_books_path)\n",
    "match_ebooks_author = pd.read_csv(matched_ebooks_path)\n",
    "match_books_author_nolax = pd.read_csv(matched_books_path_nolax, parse_dates=[8], infer_datetime_format=True)\n",
    "match_ebooks_author_nolax = pd.read_csv(matched_ebooks_path_nolax, parse_dates=[8], infer_datetime_format=True)"
   ]
  },
  {
   "cell_type": "code",
   "execution_count": 219,
   "metadata": {
    "scrolled": true
   },
   "outputs": [
    {
     "name": "stdout",
     "output_type": "stream",
     "text": [
      "757106\n",
      "2872251\n",
      "736461\n",
      "1354623\n"
     ]
    }
   ],
   "source": [
    "print(len(match_ebooks_author))\n",
    "print(len(match_books_author))\n",
    "print(len(match_ebooks_author_nolax))\n",
    "print(len(match_books_author_nolax))"
   ]
  },
  {
   "cell_type": "markdown",
   "metadata": {},
   "source": [
    "Here we append the authors to the reviews corresponding to their work."
   ]
  },
  {
   "cell_type": "code",
   "execution_count": 220,
   "metadata": {
    "collapsed": true
   },
   "outputs": [],
   "source": [
    "match_books_author = match_books_author.merge(\n",
    "    cross_auth[['asin_b', 'authors']].drop_duplicates() , left_on ='asin', right_on='asin_b')\n",
    "match_ebooks_author = match_ebooks_author.merge(\n",
    "    cross_auth[['asin_e', 'authors']].drop_duplicates() , left_on ='asin', right_on='asin_e')"
   ]
  },
  {
   "cell_type": "code",
   "execution_count": 222,
   "metadata": {},
   "outputs": [
    {
     "data": {
      "text/plain": [
       "724692"
      ]
     },
     "execution_count": 222,
     "metadata": {},
     "output_type": "execute_result"
    }
   ],
   "source": [
    "len(match_ebooks_author)"
   ]
  },
  {
   "cell_type": "code",
   "execution_count": 256,
   "metadata": {},
   "outputs": [
    {
     "data": {
      "text/plain": [
       "52864"
      ]
     },
     "execution_count": 256,
     "metadata": {},
     "output_type": "execute_result"
    }
   ],
   "source": [
    "len(match_books_author_nolax.asin.unique())"
   ]
  },
  {
   "cell_type": "code",
   "execution_count": 239,
   "metadata": {
    "collapsed": true
   },
   "outputs": [],
   "source": [
    "match_books_author_nolax = match_books_author_nolax.merge(\n",
    "    cross_auth_nolax[['asin_b', 'authors']].drop_duplicates() , left_on ='asin', right_on='asin_b')\n",
    "match_ebooks_author_nolax = match_ebooks_author_nolax.merge(\n",
    "    cross_auth_nolax[['asin_e', 'authors']].drop_duplicates() , left_on ='asin', right_on='asin_e')"
   ]
  },
  {
   "cell_type": "markdown",
   "metadata": {},
   "source": [
    "Parse the \"helpful\" column which is a string representation of a list and make it easier to compute the helpfulness of a review later."
   ]
  },
  {
   "cell_type": "code",
   "execution_count": 118,
   "metadata": {
    "collapsed": true
   },
   "outputs": [],
   "source": [
    "def literal_left(x):\n",
    "    l = literal_eval(x)\n",
    "    return l[0]\n",
    "\n",
    "def literal_right(x):\n",
    "    l = literal_eval(x)\n",
    "    return l[1]\n",
    "\n",
    "def parse_help(source):\n",
    "    target = source.copy()\n",
    "    target['helpful'] = source['helpful'].apply(literal_left)\n",
    "    target['not_helpful'] = source['helpful'].apply(literal_right)\n",
    "    return target"
   ]
  },
  {
   "cell_type": "code",
   "execution_count": 119,
   "metadata": {
    "collapsed": true,
    "scrolled": true
   },
   "outputs": [],
   "source": [
    "matched_booksh = parse_help(match_books_author)\n",
    "matched_ebooksh = parse_help(match_ebooks_author)"
   ]
  },
  {
   "cell_type": "code",
   "execution_count": 120,
   "metadata": {
    "collapsed": true
   },
   "outputs": [],
   "source": [
    "matched_booksh = matched_booksh\n",
    "matched_ebooksh = matched_ebooksh"
   ]
  },
  {
   "cell_type": "markdown",
   "metadata": {},
   "source": [
    "old 2648868"
   ]
  },
  {
   "cell_type": "code",
   "execution_count": 121,
   "metadata": {
    "scrolled": true
   },
   "outputs": [
    {
     "data": {
      "text/plain": [
       "755623"
      ]
     },
     "execution_count": 121,
     "metadata": {},
     "output_type": "execute_result"
    }
   ],
   "source": [
    "len(matched_ebooksh)"
   ]
  },
  {
   "cell_type": "code",
   "execution_count": 123,
   "metadata": {
    "collapsed": true
   },
   "outputs": [],
   "source": [
    "booksh_by_author = matched_booksh.dropna(subset=['authors'])\n",
    "booksh_by_author.set_index('authors', inplace=True)"
   ]
  },
  {
   "cell_type": "code",
   "execution_count": 124,
   "metadata": {
    "collapsed": true
   },
   "outputs": [],
   "source": [
    "ebooksh_by_author = matched_ebooksh.dropna(subset=['authors'])\n",
    "ebooksh_by_author.set_index('authors', inplace=True)"
   ]
  },
  {
   "cell_type": "markdown",
   "metadata": {},
   "source": [
    "Now that we have our reviews it is time to analyse their content. To compute the score of a book, we use two approaches:\n",
    "\n",
    "1) A weighted average of the stars taking into account the helpfulness of the review as described below.\n",
    "\n",
    "Let $s_{i,j}$ be the $j$th rating of book $i$ and $n$ the number of ratings for this book. As other users can review a review by saying whether it is helpful, let $k_{i,j}$ be the number of the person who reviewed the review $s_{i,j}$ and let $u_{i,j}$ be the number of reviewer who found the review helpful among the $k_{i,j}$ reviewers. Then what we want to do is to give more weight to reviews which are helpful and less weight to reviews that the other users found useless. The maximum weight a review can have is 1 and the minimum is 0, then if a review has never been reviewed or it has been voted equally helpful and not helpful, its weight will be 0.5 which is neutral.\n",
    "$$w_{i,j}=\\cases{\\frac{u_{i,j}}{k_{i,j}}, \\text{if } k_{i,j} \\ne 0 \\\\0.5, \\text{if } k_{i,j}=0}$$\n",
    "\n",
    "    \n",
    "The weighted average is then:\n",
    "\n",
    "$$S_i = \\frac{\\sum_{j=1}^{n} w_{i,j}s_{i,j}}{\\sum_{j=1}^{n} w_{i,j}}$$\n",
    "\n",
    "2) A weighted average of the sentiment's intensity in the review taking into account the helpfulness with the weight being derived similarly as above.\n",
    "\n",
    "Here we are going to use the VADER (Valence Aware Dictionary sEntiment Reasoner) sentiment analyzer from the nltk package. VADER is based on lexicons of sentiment-related words and each words is rated as whether it is positive and negative, and how negative or positive it is. For example, the 'excellent' would be treated as more positive than 'good'.\n",
    "\n",
    "The score Vader returns is between -1 and 1, 1 for a very positive review, -1 for a very negative review, and 0 if it is neutral.\n",
    "\n",
    "Although Vader is not the most accurate tool and to analyse a piece of text it checks if any of the words in the text are present in the lexicon, therefore its accuracy depends on the coverage of the lexicons. It is the easiest approach we have for the moment as we cannot train a classifier since we don't have a proper training set."
   ]
  },
  {
   "cell_type": "code",
   "execution_count": 103,
   "metadata": {
    "collapsed": true
   },
   "outputs": [],
   "source": [
    "sid = SentimentIntensityAnalyzer()"
   ]
  },
  {
   "cell_type": "code",
   "execution_count": 125,
   "metadata": {
    "collapsed": true
   },
   "outputs": [],
   "source": [
    "# compute the weight of a review\n",
    "def weighted_helpful(data):\n",
    "    voters = int(data[0]) + int(data[1])\n",
    "    \n",
    "    return 0.5 if voters == 0 else int(data[0])/voters"
   ]
  },
  {
   "cell_type": "code",
   "execution_count": 126,
   "metadata": {
    "collapsed": true
   },
   "outputs": [],
   "source": [
    "# compute the weighted average of the two scores for a book\n",
    "def weighted_scores(data, groupby_key):\n",
    "\n",
    "    data['weighted_help'] = data[['helpful', 'not_helpful']].apply(weighted_helpful)\n",
    "    \n",
    "    func = lambda x: sid.polarity_scores(x)['compound']\n",
    "    \n",
    "    data['sentiment_review'] = data['reviewText'].astype(str).apply(func)\n",
    "    data['sentiment_summary'] = data['summary'].astype(str).apply(func)\n",
    "    \n",
    "    data['sentiment_average'] = (data['sentiment_review'] + data['sentiment_summary'])*0.5\n",
    "    data['sentiment_rescaled'] = (data['sentiment_average'] + 1) * 2 + 1\n",
    "    \n",
    "    data['combined'] = (data['sentiment_rescaled'] + data['overall']) * 0.5\n",
    "    \n",
    "    # multiply the scores with the weight\n",
    "    data['weighted_sentiment_review'] = data['weighted_help'] * data['sentiment_review']\n",
    "    data['weighted_sentiment_summary'] = data['weighted_help'] * data['sentiment_summary']\n",
    "    data['weighted_sentiment_average'] = data['weighted_help'] * data['sentiment_average']\n",
    "    data['weighted_sentiment_rescaled'] = data['weighted_help'] * data['sentiment_rescaled']\n",
    "    data['weighted_overall'] = data['weighted_help'] * data['overall']\n",
    "    data['weighted_combined'] = data['weighted_help'] * data['combined']\n",
    "    \n",
    "    # sum everything\n",
    "    weighted_score = data.groupby(data[groupby_key]).sum()\n",
    "    \n",
    "    # divide by the sum of the weights to obtain the weighted average\n",
    "    weighted_score['sentiment_review_score'] = weighted_score['weighted_sentiment_review']/weighted_score['weighted_help']\n",
    "    weighted_score['sentiment_summary_score'] = weighted_score['weighted_sentiment_summary']/weighted_score['weighted_help']\n",
    "    weighted_score['sentiment_average_score'] = weighted_score['weighted_sentiment_average']/weighted_score['weighted_help']\n",
    "    weighted_score['sentiment_rescaled'] = weighted_score['weighted_sentiment_rescaled']/weighted_score['weighted_help']\n",
    "    weighted_score['overall_score'] = weighted_score['weighted_overall']/weighted_score['weighted_help']\n",
    "    weighted_score['combined_score'] = weighted_score['weighted_combined']/weighted_score['weighted_help']\n",
    "    \n",
    "    return weighted_score[['sentiment_review_score', 'sentiment_summary_score', 'sentiment_average_score', 'sentiment_rescaled', 'overall_score', 'combined_score']]"
   ]
  },
  {
   "cell_type": "markdown",
   "metadata": {},
   "source": [
    "The same functions but translated to pyspark"
   ]
  },
  {
   "cell_type": "code",
   "execution_count": 106,
   "metadata": {
    "collapsed": true
   },
   "outputs": [],
   "source": [
    "# compute the weighted average of the two scores for a book\n",
    "def weighted_helpful_sp(helpful, not_helpful):\n",
    "    voters = int(helpful) + int(not_helpful)\n",
    "    \n",
    "    return 0.5 if voters == 0 else int(helpful)/voters\n",
    "\n",
    "helpful_spark = udf(weighted_helpful_sp, T.FloatType())\n",
    "\n",
    "# user defined functions to use with spark\n",
    "average = udf(lambda x, y: (float(x) + float(y))*0.5, T.FloatType())\n",
    "rescale = udf(lambda x: (float(x) + 1) * 2 + 1 , T.FloatType())\n",
    "times = udf(lambda x, y: float(x)*float(y), T.FloatType())\n",
    "div = udf(lambda x, y: float(x)/float(y), T.FloatType())\n",
    "\n",
    "def weighted_scores_spark(data, groupby_key):\n",
    "    # get the weight\n",
    "    data = data.withColumn('weighted_help', helpful_spark('helpful', 'not_helpful'))\n",
    "    #data['weighted_help'] = (data['helpful'].astype(list)).apply(weighted_helpful)\n",
    "    \n",
    "    func = udf(lambda x: sid.polarity_scores(x)['compound'], T.DoubleType())\n",
    "    \n",
    "    data = data.withColumn('sentiment_review', func('reviewText'))\n",
    "    \n",
    "    data = data.withColumn('sentiment_summary', func('summary'))\n",
    "    \n",
    "    #print(data.select('sentiment_review').show())\n",
    "    \n",
    "    data = data.withColumn('sentiment_average', average('sentiment_review','sentiment_summary'))\n",
    "    data = data.withColumn('sentiment_rescaled', rescale('sentiment_average'))\n",
    "    \n",
    "    data = data.withColumn('combined', average('sentiment_rescaled','overall'))\n",
    "    \n",
    "    # multiply the scores with the weight\n",
    "    data = data.withColumn('weighted_sentiment_review',times('weighted_help','sentiment_review'))\n",
    "    data = data.withColumn('weighted_sentiment_summary', times('weighted_help', 'sentiment_summary'))\n",
    "    data = data.withColumn('weighted_sentiment_average', times('weighted_help', 'sentiment_average'))\n",
    "    data = data.withColumn('weighted_sentiment_rescaled', times('weighted_help','sentiment_rescaled'))\n",
    "    data = data.withColumn('weighted_overall', times('weighted_help','overall'))\n",
    "    data = data.withColumn('weighted_combined', times('weighted_help', 'combined'))\n",
    "\n",
    "\n",
    "    w = data.groupby(groupby_key).agg(\n",
    "        F.sum('weighted_help').alias('weighted_help'),\n",
    "        F.sum('weighted_sentiment_review').alias('weighted_sentiment_review'),\n",
    "        F.sum('weighted_sentiment_summary').alias('weighted_sentiment_summary'),\n",
    "        F.sum('weighted_sentiment_average').alias('weighted_sentiment_average'),\n",
    "        F.sum('weighted_sentiment_rescaled').alias('weighted_sentiment_rescaled'),\n",
    "        F.sum('weighted_overall').alias('weighted_overall'),\n",
    "        F.sum('weighted_combined').alias('weighted_combined')\n",
    "    )\n",
    "\n",
    "    # divide by the sum of the weights to obtain the weighted average\n",
    "    w = w.withColumn('sentiment_review_score', div('weighted_sentiment_review','weighted_help'))\n",
    "    w = w.withColumn('sentiment_summary_score', div('weighted_sentiment_summary', 'weighted_help'))\n",
    "    w = w.withColumn('sentiment_average_score', div('weighted_sentiment_average', 'weighted_help'))\n",
    "    w = w.withColumn('sentiment_rescaled', div('weighted_sentiment_rescaled','weighted_help'))\n",
    "    w = w.withColumn('overall_score', div('weighted_overall', 'weighted_help'))\n",
    "    w = w.withColumn('combined_score', div('weighted_combined', 'weighted_help'))\n",
    "    \n",
    "    return w.select([groupby_key,'sentiment_review_score', 'sentiment_summary_score', 'sentiment_average_score', 'sentiment_rescaled', 'overall_score', 'combined_score'])"
   ]
  },
  {
   "cell_type": "markdown",
   "metadata": {},
   "source": [
    "Compute only the sentiment score without grouping or rescaling"
   ]
  },
  {
   "cell_type": "code",
   "execution_count": 107,
   "metadata": {
    "collapsed": true
   },
   "outputs": [],
   "source": [
    "def compute_review(data):\n",
    "    func = udf(lambda x: sid.polarity_scores(x)['compound'], T.DoubleType())\n",
    "    \n",
    "    data = data.withColumn('sentiment_review', func('reviewText'))\n",
    "    data = data.withColumn('sentiment_summary', func('summary'))\n",
    "    data = data.withColumn('average', average('sentiment_review', 'sentiment_summary'))\n",
    "    \n",
    "    return data.select(['overall', 'asin', 'reviewerID', 'sentiment_review', 'sentiment_summary', 'average'])\n",
    " "
   ]
  },
  {
   "cell_type": "markdown",
   "metadata": {},
   "source": [
    "Compute the functions by batch to avoid runnning out of heap space for spark, and reduce the local memory usage. "
   ]
  },
  {
   "cell_type": "code",
   "execution_count": 108,
   "metadata": {
    "collapsed": true
   },
   "outputs": [],
   "source": [
    "def batch_index(index, size):\n",
    "    \"\"\"\n",
    "    When given the authors as index, the index will be split such that \n",
    "    all the reviews for the same author stay together.\n",
    "    \"\"\"\n",
    "    out = []\n",
    "    n = len(index)\n",
    "    print(n)\n",
    "    partition = int(n/size)\n",
    "    for i in range(partition):\n",
    "        from_ = i*size\n",
    "        if (i+1)*size - 1 > n:\n",
    "            end = n\n",
    "        else:\n",
    "            end = (i+1)*size\n",
    "        out.append(index[from_:end])\n",
    "    return out\n",
    "\n",
    "# no spark version\n",
    "def compute_by_batch(data, size, path, last_batch=0, override=False):\n",
    "    indices = batch_index(data.index.unique(), size)\n",
    "    indices = indices[last_batch:]\n",
    "        \n",
    "    for i, index in enumerate(indices):\n",
    "        subdata = data.loc[index]\n",
    "        print(\"Batch {}/{} of length {}\".format(last_batch+i+1, len(indices), len(subdata)))\n",
    "        sparkdf = sqlContext.createDataFrame(subdata.reset_index().astype(str))\n",
    "        result = weighted_scores_spark(sparkdf, 'authors').toPandas()\n",
    "        \n",
    "        if last_batch == 0 and i == 0 and override:\n",
    "            result.to_csv(path)\n",
    "        else:\n",
    "            result.to_csv(path, header=False,mode='a')\n",
    "            \n",
    "        sqlContext.clearCache()\n",
    "\n",
    "# spark version\n",
    "def compute_by_batch_ns(data, size, path, last_batch=0, override = False):\n",
    "    indices = batch_index(data.index.unique(), size)\n",
    "    indices = indices[last_batch:]\n",
    "        \n",
    "    for i, index in enumerate(indices):\n",
    "        subdata = data.loc[index]\n",
    "        print(\"Batch {}/{} of length {}\".format(last_batch+i+1, len(indices), len(subdata)))\n",
    "        result = weighted_scores(subdata.reset_index(), 'authors')\n",
    "        \n",
    "        if last_batch == 0 and i == 0 and override:\n",
    "            result.to_csv(path)\n",
    "        else:\n",
    "            result.to_csv(path, header=False,mode='a')\n",
    "\n",
    "# spark version for any function\n",
    "def compute_by_batch_gen(data, function, size, path, last_batch=0, override = False):\n",
    "    indices = batch_index(data.index.unique(), size)\n",
    "    indices = indices[last_batch:]\n",
    "        \n",
    "    for i, index in enumerate(indices):\n",
    "        subdata = data.loc[index]\n",
    "        print(\"Batch {}/{} of length {}\".format(last_batch+i+1, len(indices), len(subdata)))\n",
    "        sparkdf = sqlContext.createDataFrame(subdata.reset_index().astype(str))\n",
    "        result = function(sparkdf).toPandas()\n",
    "        \n",
    "        if last_batch == 0 and i == 0 and override:\n",
    "            result.to_csv(path)\n",
    "        else:\n",
    "            result.to_csv(path, header=False,mode='a')\n",
    "        sqlContext.clearCache()\n",
    "        \n",
    "weight_by_author = lambda x: weighted_scores_spark(x, 'authors')"
   ]
  },
  {
   "cell_type": "code",
   "execution_count": 127,
   "metadata": {
    "collapsed": true,
    "scrolled": true
   },
   "outputs": [],
   "source": [
    "if WRITE_SCORES:\n",
    "    compute_by_batch_gen(booksh_by_author.reset_index(), compute_review, 20, scores_books_overall)"
   ]
  },
  {
   "cell_type": "code",
   "execution_count": 128,
   "metadata": {
    "collapsed": true,
    "scrolled": true
   },
   "outputs": [],
   "source": [
    "if WRITE_SCORES:\n",
    "    compute_by_batch(ebooksh_by_author, 100, scores_ebooks_authors)"
   ]
  },
  {
   "cell_type": "code",
   "execution_count": 129,
   "metadata": {
    "collapsed": true,
    "scrolled": true
   },
   "outputs": [],
   "source": [
    "if WRITE_SCORES:\n",
    "    compute_by_batch_gen(ebooksh_by_author, compute_review, 200, scores_ebooks_overall_complete, override=True)"
   ]
  },
  {
   "cell_type": "code",
   "execution_count": 130,
   "metadata": {
    "collapsed": true,
    "scrolled": true
   },
   "outputs": [],
   "source": [
    "if WRITE_SCORES:\n",
    "    compute_by_batch_gen(booksh_by_author.reset_index(), compute_review, 20000, scores_books_overall_complete, override=True)"
   ]
  },
  {
   "cell_type": "markdown",
   "metadata": {},
   "source": [
    "### Sentiment analysis by stars on books"
   ]
  },
  {
   "cell_type": "code",
   "execution_count": 131,
   "metadata": {
    "collapsed": true
   },
   "outputs": [],
   "source": [
    "scores_books = pd.read_csv(scores_books_overall_complete)\n",
    "scores_ebooks = pd.read_csv(scores_ebooks_overall_complete)"
   ]
  },
  {
   "cell_type": "markdown",
   "metadata": {},
   "source": [
    "The first thing we can see is that the sentiment in the reviews seems to be consistent with the number of stars given in general. In average, the sentiment will be positive for a five stars review and negative for a single star review."
   ]
  },
  {
   "cell_type": "code",
   "execution_count": 132,
   "metadata": {
    "scrolled": true
   },
   "outputs": [
    {
     "data": {
      "text/html": [
       "<div>\n",
       "<style scoped>\n",
       "    .dataframe tbody tr th:only-of-type {\n",
       "        vertical-align: middle;\n",
       "    }\n",
       "\n",
       "    .dataframe tbody tr th {\n",
       "        vertical-align: top;\n",
       "    }\n",
       "\n",
       "    .dataframe thead th {\n",
       "        text-align: right;\n",
       "    }\n",
       "</style>\n",
       "<table border=\"1\" class=\"dataframe\">\n",
       "  <thead>\n",
       "    <tr style=\"text-align: right;\">\n",
       "      <th></th>\n",
       "      <th>sentiment_review</th>\n",
       "      <th>sentiment_summary</th>\n",
       "      <th>average</th>\n",
       "    </tr>\n",
       "    <tr>\n",
       "      <th>overall</th>\n",
       "      <th></th>\n",
       "      <th></th>\n",
       "      <th></th>\n",
       "    </tr>\n",
       "  </thead>\n",
       "  <tbody>\n",
       "    <tr>\n",
       "      <th>1</th>\n",
       "      <td>-0.002832</td>\n",
       "      <td>-0.132014</td>\n",
       "      <td>-0.067423</td>\n",
       "    </tr>\n",
       "    <tr>\n",
       "      <th>2</th>\n",
       "      <td>0.198339</td>\n",
       "      <td>-0.048902</td>\n",
       "      <td>0.074719</td>\n",
       "    </tr>\n",
       "    <tr>\n",
       "      <th>3</th>\n",
       "      <td>0.482409</td>\n",
       "      <td>0.134306</td>\n",
       "      <td>0.308357</td>\n",
       "    </tr>\n",
       "    <tr>\n",
       "      <th>4</th>\n",
       "      <td>0.683519</td>\n",
       "      <td>0.300712</td>\n",
       "      <td>0.492115</td>\n",
       "    </tr>\n",
       "    <tr>\n",
       "      <th>5</th>\n",
       "      <td>0.738013</td>\n",
       "      <td>0.352911</td>\n",
       "      <td>0.545462</td>\n",
       "    </tr>\n",
       "  </tbody>\n",
       "</table>\n",
       "</div>"
      ],
      "text/plain": [
       "         sentiment_review  sentiment_summary   average\n",
       "overall                                               \n",
       "1               -0.002832          -0.132014 -0.067423\n",
       "2                0.198339          -0.048902  0.074719\n",
       "3                0.482409           0.134306  0.308357\n",
       "4                0.683519           0.300712  0.492115\n",
       "5                0.738013           0.352911  0.545462"
      ]
     },
     "execution_count": 132,
     "metadata": {},
     "output_type": "execute_result"
    }
   ],
   "source": [
    "scores_books.groupby('overall').agg('mean').drop('Unnamed: 0', axis=1)"
   ]
  },
  {
   "cell_type": "code",
   "execution_count": 133,
   "metadata": {},
   "outputs": [
    {
     "data": {
      "image/png": "[encoded data removed]",
      "text/plain": [
       "<matplotlib.figure.Figure at 0x12e08bb00>"
      ]
     },
     "metadata": {},
     "output_type": "display_data"
    }
   ],
   "source": [
    "plt.hist(scores_books['overall'].values);"
   ]
  },
  {
   "cell_type": "code",
   "execution_count": 179,
   "metadata": {},
   "outputs": [
    {
     "data": {
      "text/plain": [
       "mean    0.470493\n",
       "std     0.342689\n",
       "min    -0.980650\n",
       "25%     0.343550\n",
       "50%     0.498500\n",
       "75%     0.732900\n",
       "max     0.991400\n",
       "Name: average, dtype: float64"
      ]
     },
     "execution_count": 179,
     "metadata": {},
     "output_type": "execute_result"
    }
   ],
   "source": [
    "scores_books['average'].describe().drop('count')"
   ]
  },
  {
   "cell_type": "code",
   "execution_count": 180,
   "metadata": {},
   "outputs": [
    {
     "data": {
      "text/plain": [
       "mean    4.302211\n",
       "std     1.007085\n",
       "min     1.000000\n",
       "25%     4.000000\n",
       "50%     5.000000\n",
       "75%     5.000000\n",
       "max     5.000000\n",
       "Name: overall, dtype: float64"
      ]
     },
     "execution_count": 180,
     "metadata": {},
     "output_type": "execute_result"
    }
   ],
   "source": [
    "scores_books['overall'].describe().drop('count')"
   ]
  },
  {
   "cell_type": "markdown",
   "metadata": {},
   "source": [
    "### Sentiment analysis by stars on ebooks"
   ]
  },
  {
   "cell_type": "code",
   "execution_count": 137,
   "metadata": {},
   "outputs": [
    {
     "data": {
      "text/html": [
       "<div>\n",
       "<style scoped>\n",
       "    .dataframe tbody tr th:only-of-type {\n",
       "        vertical-align: middle;\n",
       "    }\n",
       "\n",
       "    .dataframe tbody tr th {\n",
       "        vertical-align: top;\n",
       "    }\n",
       "\n",
       "    .dataframe thead th {\n",
       "        text-align: right;\n",
       "    }\n",
       "</style>\n",
       "<table border=\"1\" class=\"dataframe\">\n",
       "  <thead>\n",
       "    <tr style=\"text-align: right;\">\n",
       "      <th></th>\n",
       "      <th>sentiment_review</th>\n",
       "      <th>sentiment_summary</th>\n",
       "      <th>average</th>\n",
       "    </tr>\n",
       "    <tr>\n",
       "      <th>overall</th>\n",
       "      <th></th>\n",
       "      <th></th>\n",
       "      <th></th>\n",
       "    </tr>\n",
       "  </thead>\n",
       "  <tbody>\n",
       "    <tr>\n",
       "      <th>1</th>\n",
       "      <td>-0.011494</td>\n",
       "      <td>-0.118171</td>\n",
       "      <td>-0.064833</td>\n",
       "    </tr>\n",
       "    <tr>\n",
       "      <th>2</th>\n",
       "      <td>0.195677</td>\n",
       "      <td>-0.029301</td>\n",
       "      <td>0.083188</td>\n",
       "    </tr>\n",
       "    <tr>\n",
       "      <th>3</th>\n",
       "      <td>0.511489</td>\n",
       "      <td>0.166082</td>\n",
       "      <td>0.338786</td>\n",
       "    </tr>\n",
       "    <tr>\n",
       "      <th>4</th>\n",
       "      <td>0.713133</td>\n",
       "      <td>0.312321</td>\n",
       "      <td>0.512727</td>\n",
       "    </tr>\n",
       "    <tr>\n",
       "      <th>5</th>\n",
       "      <td>0.760954</td>\n",
       "      <td>0.354309</td>\n",
       "      <td>0.557631</td>\n",
       "    </tr>\n",
       "  </tbody>\n",
       "</table>\n",
       "</div>"
      ],
      "text/plain": [
       "         sentiment_review  sentiment_summary   average\n",
       "overall                                               \n",
       "1               -0.011494          -0.118171 -0.064833\n",
       "2                0.195677          -0.029301  0.083188\n",
       "3                0.511489           0.166082  0.338786\n",
       "4                0.713133           0.312321  0.512727\n",
       "5                0.760954           0.354309  0.557631"
      ]
     },
     "execution_count": 137,
     "metadata": {},
     "output_type": "execute_result"
    }
   ],
   "source": [
    "scores_ebooks.groupby('overall').agg('mean').drop('Unnamed: 0', axis=1)"
   ]
  },
  {
   "cell_type": "code",
   "execution_count": 138,
   "metadata": {
    "scrolled": true
   },
   "outputs": [
    {
     "data": {
      "image/png": "[encoded data removed]",
      "text/plain": [
       "<matplotlib.figure.Figure at 0x1754c02b0>"
      ]
     },
     "metadata": {},
     "output_type": "display_data"
    }
   ],
   "source": [
    "plt.hist(scores_ebooks['overall'].values);"
   ]
  },
  {
   "cell_type": "markdown",
   "metadata": {},
   "source": [
    "We can see on the bar plot that the distribution of the ratings is exactly the same for the kindle than for the books, eventhough the number of ratings is one order of magnitude higher for the books."
   ]
  },
  {
   "cell_type": "code",
   "execution_count": 139,
   "metadata": {},
   "outputs": [
    {
     "data": {
      "text/plain": [
       "count    753709.000000\n",
       "mean          0.495760\n",
       "std           0.325775\n",
       "min          -0.980650\n",
       "25%           0.381200\n",
       "50%           0.537400\n",
       "75%           0.743700\n",
       "max           0.991400\n",
       "Name: average, dtype: float64"
      ]
     },
     "execution_count": 139,
     "metadata": {},
     "output_type": "execute_result"
    }
   ],
   "source": [
    "scores_ebooks['average'].describe()"
   ]
  },
  {
   "cell_type": "code",
   "execution_count": 140,
   "metadata": {
    "scrolled": false
   },
   "outputs": [
    {
     "data": {
      "text/plain": [
       "count    753709.000000\n",
       "mean          4.363537\n",
       "std           0.939802\n",
       "min           1.000000\n",
       "25%           4.000000\n",
       "50%           5.000000\n",
       "75%           5.000000\n",
       "max           5.000000\n",
       "Name: overall, dtype: float64"
      ]
     },
     "execution_count": 140,
     "metadata": {},
     "output_type": "execute_result"
    }
   ],
   "source": [
    "scores_ebooks['overall'].describe()"
   ]
  },
  {
   "cell_type": "markdown",
   "metadata": {},
   "source": [
    "We can observe from above that the majority of the reviewers give the highest rating possible with the median being at five stars, but when looking at the sentiment of the reviews the median corresponds to a semi-strongly positive sentiment. As a reminder the sentiment score varies between -1 (strongly negative) and +1 (strongly positive) with 0 being neutral. \n",
    "\n",
    "Our first intuition would be to say that reviewers tend to give the highest rating even when they don't really feel it. But we will discuss about it more in details in the analysis of the ratings throughout time."
   ]
  },
  {
   "cell_type": "markdown",
   "metadata": {},
   "source": [
    "## Evolution of review through time"
   ]
  },
  {
   "cell_type": "code",
   "execution_count": 77,
   "metadata": {
    "scrolled": true
   },
   "outputs": [
    {
     "name": "stdout",
     "output_type": "stream",
     "text": [
      "1299369\n",
      "771588\n"
     ]
    }
   ],
   "source": [
    "books_review_with_time = match_books_author_nolax.merge(scores_books, on=['reviewerID','asin'])\n",
    "ebooks_review_with_time = match_ebooks_author_nolax.merge(scores_ebooks, on=['reviewerID','asin'])\n",
    "\n",
    "#rescale the sentiment score to fit the interval [1, 5]\n",
    "books_review_with_time['rescaled_sentiment'] = books_review_with_time['average'].apply(lambda x: (x+1)*2+1)\n",
    "ebooks_review_with_time['rescaled_sentiment'] = ebooks_review_with_time['average'].apply(lambda x: (x+1)*2+1)\n",
    "\n",
    "books_review_with_time.drop('overall_y', axis=1, inplace=True)\n",
    "ebooks_review_with_time.drop('overall_y', axis=1, inplace=True)\n",
    "\n",
    "books_review_with_time.rename(columns={'overall_x': 'stars'}, inplace=True)\n",
    "ebooks_review_with_time.rename(columns={'overall_x': 'stars'}, inplace=True)\n",
    "\n",
    "books_review_by_year = books_review_with_time.groupby(books_review_with_time.reviewTime.dt.year).agg(['mean', 'count'])\n",
    "ebooks_review_by_year = ebooks_review_with_time.groupby(ebooks_review_with_time.reviewTime.dt.year).agg(['mean', 'count'])\n",
    "\n",
    "print(len(books_review_with_time))\n",
    "print(len(ebooks_review_with_time))"
   ]
  },
  {
   "cell_type": "code",
   "execution_count": 78,
   "metadata": {
    "scrolled": false
   },
   "outputs": [
    {
     "data": {
      "text/html": [
       "<div>\n",
       "<style scoped>\n",
       "    .dataframe tbody tr th:only-of-type {\n",
       "        vertical-align: middle;\n",
       "    }\n",
       "\n",
       "    .dataframe tbody tr th {\n",
       "        vertical-align: top;\n",
       "    }\n",
       "\n",
       "    .dataframe thead tr th {\n",
       "        text-align: left;\n",
       "    }\n",
       "\n",
       "    .dataframe thead tr:last-of-type th {\n",
       "        text-align: right;\n",
       "    }\n",
       "</style>\n",
       "<table border=\"1\" class=\"dataframe\">\n",
       "  <thead>\n",
       "    <tr>\n",
       "      <th></th>\n",
       "      <th colspan=\"2\" halign=\"left\">Unnamed: 0_x</th>\n",
       "      <th colspan=\"2\" halign=\"left\">stars</th>\n",
       "      <th colspan=\"2\" halign=\"left\">Unnamed: 0_y</th>\n",
       "      <th colspan=\"2\" halign=\"left\">sentiment_review</th>\n",
       "      <th colspan=\"2\" halign=\"left\">sentiment_summary</th>\n",
       "      <th colspan=\"2\" halign=\"left\">average</th>\n",
       "      <th colspan=\"2\" halign=\"left\">rescaled_sentiment</th>\n",
       "    </tr>\n",
       "    <tr>\n",
       "      <th></th>\n",
       "      <th>mean</th>\n",
       "      <th>count</th>\n",
       "      <th>mean</th>\n",
       "      <th>count</th>\n",
       "      <th>mean</th>\n",
       "      <th>count</th>\n",
       "      <th>mean</th>\n",
       "      <th>count</th>\n",
       "      <th>mean</th>\n",
       "      <th>count</th>\n",
       "      <th>mean</th>\n",
       "      <th>count</th>\n",
       "      <th>mean</th>\n",
       "      <th>count</th>\n",
       "    </tr>\n",
       "    <tr>\n",
       "      <th>reviewTime</th>\n",
       "      <th></th>\n",
       "      <th></th>\n",
       "      <th></th>\n",
       "      <th></th>\n",
       "      <th></th>\n",
       "      <th></th>\n",
       "      <th></th>\n",
       "      <th></th>\n",
       "      <th></th>\n",
       "      <th></th>\n",
       "      <th></th>\n",
       "      <th></th>\n",
       "      <th></th>\n",
       "      <th></th>\n",
       "    </tr>\n",
       "  </thead>\n",
       "  <tbody>\n",
       "    <tr>\n",
       "      <th>1997</th>\n",
       "      <td>3.696080e+06</td>\n",
       "      <td>29</td>\n",
       "      <td>4.448276</td>\n",
       "      <td>29</td>\n",
       "      <td>6302.137931</td>\n",
       "      <td>29</td>\n",
       "      <td>0.655055</td>\n",
       "      <td>29</td>\n",
       "      <td>0.411328</td>\n",
       "      <td>29</td>\n",
       "      <td>0.533191</td>\n",
       "      <td>29</td>\n",
       "      <td>4.066383</td>\n",
       "      <td>29</td>\n",
       "    </tr>\n",
       "    <tr>\n",
       "      <th>1998</th>\n",
       "      <td>3.677502e+06</td>\n",
       "      <td>119</td>\n",
       "      <td>4.193277</td>\n",
       "      <td>119</td>\n",
       "      <td>6938.831933</td>\n",
       "      <td>119</td>\n",
       "      <td>0.631199</td>\n",
       "      <td>119</td>\n",
       "      <td>0.300351</td>\n",
       "      <td>119</td>\n",
       "      <td>0.465775</td>\n",
       "      <td>119</td>\n",
       "      <td>3.931550</td>\n",
       "      <td>119</td>\n",
       "    </tr>\n",
       "    <tr>\n",
       "      <th>1999</th>\n",
       "      <td>3.605612e+06</td>\n",
       "      <td>377</td>\n",
       "      <td>4.143236</td>\n",
       "      <td>377</td>\n",
       "      <td>9630.498674</td>\n",
       "      <td>377</td>\n",
       "      <td>0.596562</td>\n",
       "      <td>377</td>\n",
       "      <td>0.259931</td>\n",
       "      <td>377</td>\n",
       "      <td>0.428246</td>\n",
       "      <td>377</td>\n",
       "      <td>3.856493</td>\n",
       "      <td>377</td>\n",
       "    </tr>\n",
       "    <tr>\n",
       "      <th>2000</th>\n",
       "      <td>3.620084e+06</td>\n",
       "      <td>1836</td>\n",
       "      <td>4.178649</td>\n",
       "      <td>1836</td>\n",
       "      <td>9530.533224</td>\n",
       "      <td>1836</td>\n",
       "      <td>0.593391</td>\n",
       "      <td>1836</td>\n",
       "      <td>0.228349</td>\n",
       "      <td>1836</td>\n",
       "      <td>0.410870</td>\n",
       "      <td>1836</td>\n",
       "      <td>3.821740</td>\n",
       "      <td>1836</td>\n",
       "    </tr>\n",
       "    <tr>\n",
       "      <th>2001</th>\n",
       "      <td>3.604125e+06</td>\n",
       "      <td>2158</td>\n",
       "      <td>4.200649</td>\n",
       "      <td>2158</td>\n",
       "      <td>10120.193234</td>\n",
       "      <td>2158</td>\n",
       "      <td>0.562849</td>\n",
       "      <td>2158</td>\n",
       "      <td>0.233990</td>\n",
       "      <td>2158</td>\n",
       "      <td>0.398419</td>\n",
       "      <td>2158</td>\n",
       "      <td>3.796839</td>\n",
       "      <td>2158</td>\n",
       "    </tr>\n",
       "    <tr>\n",
       "      <th>2002</th>\n",
       "      <td>3.697621e+06</td>\n",
       "      <td>2529</td>\n",
       "      <td>4.164887</td>\n",
       "      <td>2529</td>\n",
       "      <td>8804.830763</td>\n",
       "      <td>2529</td>\n",
       "      <td>0.617043</td>\n",
       "      <td>2529</td>\n",
       "      <td>0.237341</td>\n",
       "      <td>2529</td>\n",
       "      <td>0.427192</td>\n",
       "      <td>2529</td>\n",
       "      <td>3.854384</td>\n",
       "      <td>2529</td>\n",
       "    </tr>\n",
       "    <tr>\n",
       "      <th>2003</th>\n",
       "      <td>3.719432e+06</td>\n",
       "      <td>3076</td>\n",
       "      <td>4.084200</td>\n",
       "      <td>3076</td>\n",
       "      <td>8555.774707</td>\n",
       "      <td>3076</td>\n",
       "      <td>0.564855</td>\n",
       "      <td>3076</td>\n",
       "      <td>0.211947</td>\n",
       "      <td>3076</td>\n",
       "      <td>0.388401</td>\n",
       "      <td>3076</td>\n",
       "      <td>3.776802</td>\n",
       "      <td>3076</td>\n",
       "    </tr>\n",
       "    <tr>\n",
       "      <th>2004</th>\n",
       "      <td>3.780666e+06</td>\n",
       "      <td>3706</td>\n",
       "      <td>4.077172</td>\n",
       "      <td>3706</td>\n",
       "      <td>8210.429574</td>\n",
       "      <td>3706</td>\n",
       "      <td>0.568091</td>\n",
       "      <td>3706</td>\n",
       "      <td>0.209249</td>\n",
       "      <td>3706</td>\n",
       "      <td>0.388670</td>\n",
       "      <td>3706</td>\n",
       "      <td>3.777340</td>\n",
       "      <td>3706</td>\n",
       "    </tr>\n",
       "    <tr>\n",
       "      <th>2005</th>\n",
       "      <td>3.888561e+06</td>\n",
       "      <td>5093</td>\n",
       "      <td>4.006676</td>\n",
       "      <td>5093</td>\n",
       "      <td>8485.873945</td>\n",
       "      <td>5093</td>\n",
       "      <td>0.553500</td>\n",
       "      <td>5093</td>\n",
       "      <td>0.210878</td>\n",
       "      <td>5093</td>\n",
       "      <td>0.382189</td>\n",
       "      <td>5093</td>\n",
       "      <td>3.764378</td>\n",
       "      <td>5093</td>\n",
       "    </tr>\n",
       "    <tr>\n",
       "      <th>2006</th>\n",
       "      <td>3.951545e+06</td>\n",
       "      <td>6746</td>\n",
       "      <td>4.027424</td>\n",
       "      <td>6746</td>\n",
       "      <td>8845.324637</td>\n",
       "      <td>6746</td>\n",
       "      <td>0.554136</td>\n",
       "      <td>6746</td>\n",
       "      <td>0.209585</td>\n",
       "      <td>6746</td>\n",
       "      <td>0.381860</td>\n",
       "      <td>6746</td>\n",
       "      <td>3.763721</td>\n",
       "      <td>6746</td>\n",
       "    </tr>\n",
       "    <tr>\n",
       "      <th>2007</th>\n",
       "      <td>4.027024e+06</td>\n",
       "      <td>7993</td>\n",
       "      <td>4.108345</td>\n",
       "      <td>7993</td>\n",
       "      <td>9102.473915</td>\n",
       "      <td>7993</td>\n",
       "      <td>0.571526</td>\n",
       "      <td>7993</td>\n",
       "      <td>0.220370</td>\n",
       "      <td>7993</td>\n",
       "      <td>0.395948</td>\n",
       "      <td>7993</td>\n",
       "      <td>3.791896</td>\n",
       "      <td>7993</td>\n",
       "    </tr>\n",
       "    <tr>\n",
       "      <th>2008</th>\n",
       "      <td>4.166195e+06</td>\n",
       "      <td>10058</td>\n",
       "      <td>4.095745</td>\n",
       "      <td>10058</td>\n",
       "      <td>9917.237920</td>\n",
       "      <td>10058</td>\n",
       "      <td>0.591885</td>\n",
       "      <td>10058</td>\n",
       "      <td>0.221211</td>\n",
       "      <td>10058</td>\n",
       "      <td>0.406548</td>\n",
       "      <td>10058</td>\n",
       "      <td>3.813095</td>\n",
       "      <td>10058</td>\n",
       "    </tr>\n",
       "    <tr>\n",
       "      <th>2009</th>\n",
       "      <td>4.243892e+06</td>\n",
       "      <td>12922</td>\n",
       "      <td>4.080328</td>\n",
       "      <td>12922</td>\n",
       "      <td>9998.673812</td>\n",
       "      <td>12922</td>\n",
       "      <td>0.599527</td>\n",
       "      <td>12922</td>\n",
       "      <td>0.231333</td>\n",
       "      <td>12922</td>\n",
       "      <td>0.415430</td>\n",
       "      <td>12922</td>\n",
       "      <td>3.830860</td>\n",
       "      <td>12922</td>\n",
       "    </tr>\n",
       "    <tr>\n",
       "      <th>2010</th>\n",
       "      <td>4.357839e+06</td>\n",
       "      <td>17960</td>\n",
       "      <td>4.089031</td>\n",
       "      <td>17960</td>\n",
       "      <td>10171.273719</td>\n",
       "      <td>17960</td>\n",
       "      <td>0.627689</td>\n",
       "      <td>17960</td>\n",
       "      <td>0.237632</td>\n",
       "      <td>17960</td>\n",
       "      <td>0.432660</td>\n",
       "      <td>17960</td>\n",
       "      <td>3.865321</td>\n",
       "      <td>17960</td>\n",
       "    </tr>\n",
       "    <tr>\n",
       "      <th>2011</th>\n",
       "      <td>4.673877e+06</td>\n",
       "      <td>31284</td>\n",
       "      <td>4.161424</td>\n",
       "      <td>31284</td>\n",
       "      <td>9972.608234</td>\n",
       "      <td>31284</td>\n",
       "      <td>0.663259</td>\n",
       "      <td>31284</td>\n",
       "      <td>0.259942</td>\n",
       "      <td>31284</td>\n",
       "      <td>0.461600</td>\n",
       "      <td>31284</td>\n",
       "      <td>3.923200</td>\n",
       "      <td>31284</td>\n",
       "    </tr>\n",
       "    <tr>\n",
       "      <th>2012</th>\n",
       "      <td>6.633594e+06</td>\n",
       "      <td>166699</td>\n",
       "      <td>4.293241</td>\n",
       "      <td>166699</td>\n",
       "      <td>9948.117997</td>\n",
       "      <td>166699</td>\n",
       "      <td>0.686474</td>\n",
       "      <td>166699</td>\n",
       "      <td>0.285477</td>\n",
       "      <td>166699</td>\n",
       "      <td>0.485976</td>\n",
       "      <td>166699</td>\n",
       "      <td>3.971952</td>\n",
       "      <td>166699</td>\n",
       "    </tr>\n",
       "    <tr>\n",
       "      <th>2013</th>\n",
       "      <td>7.174907e+06</td>\n",
       "      <td>597651</td>\n",
       "      <td>4.311548</td>\n",
       "      <td>597651</td>\n",
       "      <td>10007.181318</td>\n",
       "      <td>597651</td>\n",
       "      <td>0.664729</td>\n",
       "      <td>597651</td>\n",
       "      <td>0.296570</td>\n",
       "      <td>597651</td>\n",
       "      <td>0.480649</td>\n",
       "      <td>597651</td>\n",
       "      <td>3.961299</td>\n",
       "      <td>597651</td>\n",
       "    </tr>\n",
       "    <tr>\n",
       "      <th>2014</th>\n",
       "      <td>7.546593e+06</td>\n",
       "      <td>429133</td>\n",
       "      <td>4.329506</td>\n",
       "      <td>429133</td>\n",
       "      <td>10010.536298</td>\n",
       "      <td>429133</td>\n",
       "      <td>0.656172</td>\n",
       "      <td>429133</td>\n",
       "      <td>0.300866</td>\n",
       "      <td>429133</td>\n",
       "      <td>0.478519</td>\n",
       "      <td>429133</td>\n",
       "      <td>3.957038</td>\n",
       "      <td>429133</td>\n",
       "    </tr>\n",
       "  </tbody>\n",
       "</table>\n",
       "</div>"
      ],
      "text/plain": [
       "            Unnamed: 0_x             stars          Unnamed: 0_y          \\\n",
       "                    mean   count      mean   count          mean   count   \n",
       "reviewTime                                                                 \n",
       "1997        3.696080e+06      29  4.448276      29   6302.137931      29   \n",
       "1998        3.677502e+06     119  4.193277     119   6938.831933     119   \n",
       "1999        3.605612e+06     377  4.143236     377   9630.498674     377   \n",
       "2000        3.620084e+06    1836  4.178649    1836   9530.533224    1836   \n",
       "2001        3.604125e+06    2158  4.200649    2158  10120.193234    2158   \n",
       "2002        3.697621e+06    2529  4.164887    2529   8804.830763    2529   \n",
       "2003        3.719432e+06    3076  4.084200    3076   8555.774707    3076   \n",
       "2004        3.780666e+06    3706  4.077172    3706   8210.429574    3706   \n",
       "2005        3.888561e+06    5093  4.006676    5093   8485.873945    5093   \n",
       "2006        3.951545e+06    6746  4.027424    6746   8845.324637    6746   \n",
       "2007        4.027024e+06    7993  4.108345    7993   9102.473915    7993   \n",
       "2008        4.166195e+06   10058  4.095745   10058   9917.237920   10058   \n",
       "2009        4.243892e+06   12922  4.080328   12922   9998.673812   12922   \n",
       "2010        4.357839e+06   17960  4.089031   17960  10171.273719   17960   \n",
       "2011        4.673877e+06   31284  4.161424   31284   9972.608234   31284   \n",
       "2012        6.633594e+06  166699  4.293241  166699   9948.117997  166699   \n",
       "2013        7.174907e+06  597651  4.311548  597651  10007.181318  597651   \n",
       "2014        7.546593e+06  429133  4.329506  429133  10010.536298  429133   \n",
       "\n",
       "           sentiment_review         sentiment_summary           average  \\\n",
       "                       mean   count              mean   count      mean   \n",
       "reviewTime                                                                \n",
       "1997               0.655055      29          0.411328      29  0.533191   \n",
       "1998               0.631199     119          0.300351     119  0.465775   \n",
       "1999               0.596562     377          0.259931     377  0.428246   \n",
       "2000               0.593391    1836          0.228349    1836  0.410870   \n",
       "2001               0.562849    2158          0.233990    2158  0.398419   \n",
       "2002               0.617043    2529          0.237341    2529  0.427192   \n",
       "2003               0.564855    3076          0.211947    3076  0.388401   \n",
       "2004               0.568091    3706          0.209249    3706  0.388670   \n",
       "2005               0.553500    5093          0.210878    5093  0.382189   \n",
       "2006               0.554136    6746          0.209585    6746  0.381860   \n",
       "2007               0.571526    7993          0.220370    7993  0.395948   \n",
       "2008               0.591885   10058          0.221211   10058  0.406548   \n",
       "2009               0.599527   12922          0.231333   12922  0.415430   \n",
       "2010               0.627689   17960          0.237632   17960  0.432660   \n",
       "2011               0.663259   31284          0.259942   31284  0.461600   \n",
       "2012               0.686474  166699          0.285477  166699  0.485976   \n",
       "2013               0.664729  597651          0.296570  597651  0.480649   \n",
       "2014               0.656172  429133          0.300866  429133  0.478519   \n",
       "\n",
       "                   rescaled_sentiment          \n",
       "             count               mean   count  \n",
       "reviewTime                                     \n",
       "1997            29           4.066383      29  \n",
       "1998           119           3.931550     119  \n",
       "1999           377           3.856493     377  \n",
       "2000          1836           3.821740    1836  \n",
       "2001          2158           3.796839    2158  \n",
       "2002          2529           3.854384    2529  \n",
       "2003          3076           3.776802    3076  \n",
       "2004          3706           3.777340    3706  \n",
       "2005          5093           3.764378    5093  \n",
       "2006          6746           3.763721    6746  \n",
       "2007          7993           3.791896    7993  \n",
       "2008         10058           3.813095   10058  \n",
       "2009         12922           3.830860   12922  \n",
       "2010         17960           3.865321   17960  \n",
       "2011         31284           3.923200   31284  \n",
       "2012        166699           3.971952  166699  \n",
       "2013        597651           3.961299  597651  \n",
       "2014        429133           3.957038  429133  "
      ]
     },
     "execution_count": 78,
     "metadata": {},
     "output_type": "execute_result"
    }
   ],
   "source": [
    "books_review_by_year"
   ]
  },
  {
   "cell_type": "code",
   "execution_count": 84,
   "metadata": {
    "scrolled": false
   },
   "outputs": [
    {
     "data": {
      "text/html": [
       "<div>\n",
       "<style scoped>\n",
       "    .dataframe tbody tr th:only-of-type {\n",
       "        vertical-align: middle;\n",
       "    }\n",
       "\n",
       "    .dataframe tbody tr th {\n",
       "        vertical-align: top;\n",
       "    }\n",
       "\n",
       "    .dataframe thead tr th {\n",
       "        text-align: left;\n",
       "    }\n",
       "\n",
       "    .dataframe thead tr:last-of-type th {\n",
       "        text-align: right;\n",
       "    }\n",
       "</style>\n",
       "<table border=\"1\" class=\"dataframe\">\n",
       "  <thead>\n",
       "    <tr>\n",
       "      <th></th>\n",
       "      <th colspan=\"2\" halign=\"left\">Unnamed: 0_x</th>\n",
       "      <th colspan=\"2\" halign=\"left\">stars</th>\n",
       "      <th colspan=\"2\" halign=\"left\">Unnamed: 0_y</th>\n",
       "      <th colspan=\"2\" halign=\"left\">sentiment_review</th>\n",
       "      <th colspan=\"2\" halign=\"left\">sentiment_summary</th>\n",
       "      <th colspan=\"2\" halign=\"left\">average</th>\n",
       "      <th colspan=\"2\" halign=\"left\">rescaled_sentiment</th>\n",
       "    </tr>\n",
       "    <tr>\n",
       "      <th></th>\n",
       "      <th>mean</th>\n",
       "      <th>count</th>\n",
       "      <th>mean</th>\n",
       "      <th>count</th>\n",
       "      <th>mean</th>\n",
       "      <th>count</th>\n",
       "      <th>mean</th>\n",
       "      <th>count</th>\n",
       "      <th>mean</th>\n",
       "      <th>count</th>\n",
       "      <th>mean</th>\n",
       "      <th>count</th>\n",
       "      <th>mean</th>\n",
       "      <th>count</th>\n",
       "    </tr>\n",
       "    <tr>\n",
       "      <th>reviewTime</th>\n",
       "      <th></th>\n",
       "      <th></th>\n",
       "      <th></th>\n",
       "      <th></th>\n",
       "      <th></th>\n",
       "      <th></th>\n",
       "      <th></th>\n",
       "      <th></th>\n",
       "      <th></th>\n",
       "      <th></th>\n",
       "      <th></th>\n",
       "      <th></th>\n",
       "      <th></th>\n",
       "      <th></th>\n",
       "    </tr>\n",
       "  </thead>\n",
       "  <tbody>\n",
       "    <tr>\n",
       "      <th>2000</th>\n",
       "      <td>240300.285714</td>\n",
       "      <td>7</td>\n",
       "      <td>4.714286</td>\n",
       "      <td>7</td>\n",
       "      <td>5639.428571</td>\n",
       "      <td>7</td>\n",
       "      <td>0.710943</td>\n",
       "      <td>7</td>\n",
       "      <td>0.632729</td>\n",
       "      <td>7</td>\n",
       "      <td>0.671836</td>\n",
       "      <td>7</td>\n",
       "      <td>4.343671</td>\n",
       "      <td>7</td>\n",
       "    </tr>\n",
       "    <tr>\n",
       "      <th>2001</th>\n",
       "      <td>70822.500000</td>\n",
       "      <td>2</td>\n",
       "      <td>5.000000</td>\n",
       "      <td>2</td>\n",
       "      <td>2455.500000</td>\n",
       "      <td>2</td>\n",
       "      <td>-0.037500</td>\n",
       "      <td>2</td>\n",
       "      <td>0.246950</td>\n",
       "      <td>2</td>\n",
       "      <td>0.104725</td>\n",
       "      <td>2</td>\n",
       "      <td>3.209450</td>\n",
       "      <td>2</td>\n",
       "    </tr>\n",
       "    <tr>\n",
       "      <th>2002</th>\n",
       "      <td>755.000000</td>\n",
       "      <td>1</td>\n",
       "      <td>5.000000</td>\n",
       "      <td>1</td>\n",
       "      <td>1229.000000</td>\n",
       "      <td>1</td>\n",
       "      <td>0.926100</td>\n",
       "      <td>1</td>\n",
       "      <td>0.718400</td>\n",
       "      <td>1</td>\n",
       "      <td>0.822250</td>\n",
       "      <td>1</td>\n",
       "      <td>4.644500</td>\n",
       "      <td>1</td>\n",
       "    </tr>\n",
       "    <tr>\n",
       "      <th>2003</th>\n",
       "      <td>793935.500000</td>\n",
       "      <td>2</td>\n",
       "      <td>5.000000</td>\n",
       "      <td>2</td>\n",
       "      <td>5381.500000</td>\n",
       "      <td>2</td>\n",
       "      <td>0.016000</td>\n",
       "      <td>2</td>\n",
       "      <td>0.278700</td>\n",
       "      <td>2</td>\n",
       "      <td>0.147350</td>\n",
       "      <td>2</td>\n",
       "      <td>3.294700</td>\n",
       "      <td>2</td>\n",
       "    </tr>\n",
       "    <tr>\n",
       "      <th>2004</th>\n",
       "      <td>246122.125000</td>\n",
       "      <td>8</td>\n",
       "      <td>4.375000</td>\n",
       "      <td>8</td>\n",
       "      <td>4320.750000</td>\n",
       "      <td>8</td>\n",
       "      <td>0.804375</td>\n",
       "      <td>8</td>\n",
       "      <td>0.234038</td>\n",
       "      <td>8</td>\n",
       "      <td>0.519206</td>\n",
       "      <td>8</td>\n",
       "      <td>4.038412</td>\n",
       "      <td>8</td>\n",
       "    </tr>\n",
       "    <tr>\n",
       "      <th>2005</th>\n",
       "      <td>330697.380952</td>\n",
       "      <td>21</td>\n",
       "      <td>4.666667</td>\n",
       "      <td>21</td>\n",
       "      <td>3941.380952</td>\n",
       "      <td>21</td>\n",
       "      <td>0.704381</td>\n",
       "      <td>21</td>\n",
       "      <td>0.223538</td>\n",
       "      <td>21</td>\n",
       "      <td>0.463960</td>\n",
       "      <td>21</td>\n",
       "      <td>3.927919</td>\n",
       "      <td>21</td>\n",
       "    </tr>\n",
       "    <tr>\n",
       "      <th>2006</th>\n",
       "      <td>314262.812500</td>\n",
       "      <td>16</td>\n",
       "      <td>4.437500</td>\n",
       "      <td>16</td>\n",
       "      <td>4298.750000</td>\n",
       "      <td>16</td>\n",
       "      <td>0.348287</td>\n",
       "      <td>16</td>\n",
       "      <td>0.461738</td>\n",
       "      <td>16</td>\n",
       "      <td>0.405012</td>\n",
       "      <td>16</td>\n",
       "      <td>3.810025</td>\n",
       "      <td>16</td>\n",
       "    </tr>\n",
       "    <tr>\n",
       "      <th>2007</th>\n",
       "      <td>263150.142857</td>\n",
       "      <td>21</td>\n",
       "      <td>4.428571</td>\n",
       "      <td>21</td>\n",
       "      <td>4122.380952</td>\n",
       "      <td>21</td>\n",
       "      <td>0.626981</td>\n",
       "      <td>21</td>\n",
       "      <td>0.117433</td>\n",
       "      <td>21</td>\n",
       "      <td>0.372207</td>\n",
       "      <td>21</td>\n",
       "      <td>3.744414</td>\n",
       "      <td>21</td>\n",
       "    </tr>\n",
       "    <tr>\n",
       "      <th>2008</th>\n",
       "      <td>214243.472222</td>\n",
       "      <td>36</td>\n",
       "      <td>4.500000</td>\n",
       "      <td>36</td>\n",
       "      <td>7240.472222</td>\n",
       "      <td>36</td>\n",
       "      <td>0.772014</td>\n",
       "      <td>36</td>\n",
       "      <td>0.118592</td>\n",
       "      <td>36</td>\n",
       "      <td>0.445303</td>\n",
       "      <td>36</td>\n",
       "      <td>3.890606</td>\n",
       "      <td>36</td>\n",
       "    </tr>\n",
       "    <tr>\n",
       "      <th>2009</th>\n",
       "      <td>27024.541935</td>\n",
       "      <td>155</td>\n",
       "      <td>4.148387</td>\n",
       "      <td>155</td>\n",
       "      <td>5468.496774</td>\n",
       "      <td>155</td>\n",
       "      <td>0.644612</td>\n",
       "      <td>155</td>\n",
       "      <td>0.256054</td>\n",
       "      <td>155</td>\n",
       "      <td>0.450333</td>\n",
       "      <td>155</td>\n",
       "      <td>3.900666</td>\n",
       "      <td>155</td>\n",
       "    </tr>\n",
       "    <tr>\n",
       "      <th>2010</th>\n",
       "      <td>26806.483452</td>\n",
       "      <td>1541</td>\n",
       "      <td>4.378975</td>\n",
       "      <td>1541</td>\n",
       "      <td>7736.800779</td>\n",
       "      <td>1541</td>\n",
       "      <td>0.721034</td>\n",
       "      <td>1541</td>\n",
       "      <td>0.290294</td>\n",
       "      <td>1541</td>\n",
       "      <td>0.505664</td>\n",
       "      <td>1541</td>\n",
       "      <td>4.011328</td>\n",
       "      <td>1541</td>\n",
       "    </tr>\n",
       "    <tr>\n",
       "      <th>2011</th>\n",
       "      <td>74620.710073</td>\n",
       "      <td>15021</td>\n",
       "      <td>4.242061</td>\n",
       "      <td>15021</td>\n",
       "      <td>7277.448838</td>\n",
       "      <td>15021</td>\n",
       "      <td>0.681244</td>\n",
       "      <td>15021</td>\n",
       "      <td>0.282986</td>\n",
       "      <td>15021</td>\n",
       "      <td>0.482115</td>\n",
       "      <td>15021</td>\n",
       "      <td>3.964230</td>\n",
       "      <td>15021</td>\n",
       "    </tr>\n",
       "    <tr>\n",
       "      <th>2012</th>\n",
       "      <td>211134.512104</td>\n",
       "      <td>94227</td>\n",
       "      <td>4.314464</td>\n",
       "      <td>94227</td>\n",
       "      <td>5407.420028</td>\n",
       "      <td>94227</td>\n",
       "      <td>0.699572</td>\n",
       "      <td>94227</td>\n",
       "      <td>0.292185</td>\n",
       "      <td>94227</td>\n",
       "      <td>0.495878</td>\n",
       "      <td>94227</td>\n",
       "      <td>3.991757</td>\n",
       "      <td>94227</td>\n",
       "    </tr>\n",
       "    <tr>\n",
       "      <th>2013</th>\n",
       "      <td>421840.439229</td>\n",
       "      <td>347395</td>\n",
       "      <td>4.327403</td>\n",
       "      <td>347395</td>\n",
       "      <td>4493.026860</td>\n",
       "      <td>347395</td>\n",
       "      <td>0.684401</td>\n",
       "      <td>347395</td>\n",
       "      <td>0.298584</td>\n",
       "      <td>347395</td>\n",
       "      <td>0.491492</td>\n",
       "      <td>347395</td>\n",
       "      <td>3.982985</td>\n",
       "      <td>347395</td>\n",
       "    </tr>\n",
       "    <tr>\n",
       "      <th>2014</th>\n",
       "      <td>667114.616360</td>\n",
       "      <td>313135</td>\n",
       "      <td>4.401290</td>\n",
       "      <td>313135</td>\n",
       "      <td>3891.763377</td>\n",
       "      <td>313135</td>\n",
       "      <td>0.688693</td>\n",
       "      <td>313135</td>\n",
       "      <td>0.308708</td>\n",
       "      <td>313135</td>\n",
       "      <td>0.498701</td>\n",
       "      <td>313135</td>\n",
       "      <td>3.997402</td>\n",
       "      <td>313135</td>\n",
       "    </tr>\n",
       "  </tbody>\n",
       "</table>\n",
       "</div>"
      ],
      "text/plain": [
       "             Unnamed: 0_x             stars         Unnamed: 0_y          \\\n",
       "                     mean   count      mean   count         mean   count   \n",
       "reviewTime                                                                 \n",
       "2000        240300.285714       7  4.714286       7  5639.428571       7   \n",
       "2001         70822.500000       2  5.000000       2  2455.500000       2   \n",
       "2002           755.000000       1  5.000000       1  1229.000000       1   \n",
       "2003        793935.500000       2  5.000000       2  5381.500000       2   \n",
       "2004        246122.125000       8  4.375000       8  4320.750000       8   \n",
       "2005        330697.380952      21  4.666667      21  3941.380952      21   \n",
       "2006        314262.812500      16  4.437500      16  4298.750000      16   \n",
       "2007        263150.142857      21  4.428571      21  4122.380952      21   \n",
       "2008        214243.472222      36  4.500000      36  7240.472222      36   \n",
       "2009         27024.541935     155  4.148387     155  5468.496774     155   \n",
       "2010         26806.483452    1541  4.378975    1541  7736.800779    1541   \n",
       "2011         74620.710073   15021  4.242061   15021  7277.448838   15021   \n",
       "2012        211134.512104   94227  4.314464   94227  5407.420028   94227   \n",
       "2013        421840.439229  347395  4.327403  347395  4493.026860  347395   \n",
       "2014        667114.616360  313135  4.401290  313135  3891.763377  313135   \n",
       "\n",
       "           sentiment_review         sentiment_summary           average  \\\n",
       "                       mean   count              mean   count      mean   \n",
       "reviewTime                                                                \n",
       "2000               0.710943       7          0.632729       7  0.671836   \n",
       "2001              -0.037500       2          0.246950       2  0.104725   \n",
       "2002               0.926100       1          0.718400       1  0.822250   \n",
       "2003               0.016000       2          0.278700       2  0.147350   \n",
       "2004               0.804375       8          0.234038       8  0.519206   \n",
       "2005               0.704381      21          0.223538      21  0.463960   \n",
       "2006               0.348287      16          0.461738      16  0.405012   \n",
       "2007               0.626981      21          0.117433      21  0.372207   \n",
       "2008               0.772014      36          0.118592      36  0.445303   \n",
       "2009               0.644612     155          0.256054     155  0.450333   \n",
       "2010               0.721034    1541          0.290294    1541  0.505664   \n",
       "2011               0.681244   15021          0.282986   15021  0.482115   \n",
       "2012               0.699572   94227          0.292185   94227  0.495878   \n",
       "2013               0.684401  347395          0.298584  347395  0.491492   \n",
       "2014               0.688693  313135          0.308708  313135  0.498701   \n",
       "\n",
       "                   rescaled_sentiment          \n",
       "             count               mean   count  \n",
       "reviewTime                                     \n",
       "2000             7           4.343671       7  \n",
       "2001             2           3.209450       2  \n",
       "2002             1           4.644500       1  \n",
       "2003             2           3.294700       2  \n",
       "2004             8           4.038412       8  \n",
       "2005            21           3.927919      21  \n",
       "2006            16           3.810025      16  \n",
       "2007            21           3.744414      21  \n",
       "2008            36           3.890606      36  \n",
       "2009           155           3.900666     155  \n",
       "2010          1541           4.011328    1541  \n",
       "2011         15021           3.964230   15021  \n",
       "2012         94227           3.991757   94227  \n",
       "2013        347395           3.982985  347395  \n",
       "2014        313135           3.997402  313135  "
      ]
     },
     "execution_count": 84,
     "metadata": {},
     "output_type": "execute_result"
    }
   ],
   "source": [
    "ebooks_review_by_year"
   ]
  },
  {
   "cell_type": "code",
   "execution_count": 85,
   "metadata": {
    "collapsed": true
   },
   "outputs": [],
   "source": [
    "books_review_timeline_month_mean = books_review_with_time.groupby([\n",
    "    books_review_with_time.reviewTime.dt.year,\n",
    "    books_review_with_time.reviewTime.dt.month]).agg(['mean'])\n",
    "\n",
    "books_review_timeline_month_cnt= books_review_with_time.groupby([\n",
    "    books_review_with_time.reviewTime.dt.year,\n",
    "    books_review_with_time.reviewTime.dt.month]).agg(['count'])"
   ]
  },
  {
   "cell_type": "markdown",
   "metadata": {},
   "source": [
    "#### Evolution of book reviews"
   ]
  },
  {
   "cell_type": "code",
   "execution_count": 86,
   "metadata": {},
   "outputs": [
    {
     "data": {
      "text/html": [
       "<div>\n",
       "<style scoped>\n",
       "    .dataframe tbody tr th:only-of-type {\n",
       "        vertical-align: middle;\n",
       "    }\n",
       "\n",
       "    .dataframe tbody tr th {\n",
       "        vertical-align: top;\n",
       "    }\n",
       "\n",
       "    .dataframe thead tr th {\n",
       "        text-align: left;\n",
       "    }\n",
       "\n",
       "    .dataframe thead tr:last-of-type th {\n",
       "        text-align: right;\n",
       "    }\n",
       "</style>\n",
       "<table border=\"1\" class=\"dataframe\">\n",
       "  <thead>\n",
       "    <tr>\n",
       "      <th></th>\n",
       "      <th></th>\n",
       "      <th>Unnamed: 0_x</th>\n",
       "      <th>stars</th>\n",
       "      <th>Unnamed: 0_y</th>\n",
       "      <th>sentiment_review</th>\n",
       "      <th>sentiment_summary</th>\n",
       "      <th>average</th>\n",
       "      <th>rescaled_sentiment</th>\n",
       "    </tr>\n",
       "    <tr>\n",
       "      <th></th>\n",
       "      <th></th>\n",
       "      <th>mean</th>\n",
       "      <th>mean</th>\n",
       "      <th>mean</th>\n",
       "      <th>mean</th>\n",
       "      <th>mean</th>\n",
       "      <th>mean</th>\n",
       "      <th>mean</th>\n",
       "    </tr>\n",
       "    <tr>\n",
       "      <th>reviewTime</th>\n",
       "      <th>reviewTime</th>\n",
       "      <th></th>\n",
       "      <th></th>\n",
       "      <th></th>\n",
       "      <th></th>\n",
       "      <th></th>\n",
       "      <th></th>\n",
       "      <th></th>\n",
       "    </tr>\n",
       "  </thead>\n",
       "  <tbody>\n",
       "    <tr>\n",
       "      <th rowspan=\"5\" valign=\"top\">1997</th>\n",
       "      <th>8</th>\n",
       "      <td>3.447409e+06</td>\n",
       "      <td>4.250000</td>\n",
       "      <td>8819.000000</td>\n",
       "      <td>0.826750</td>\n",
       "      <td>0.609050</td>\n",
       "      <td>0.717900</td>\n",
       "      <td>4.435800</td>\n",
       "    </tr>\n",
       "    <tr>\n",
       "      <th>9</th>\n",
       "      <td>3.906967e+06</td>\n",
       "      <td>2.666667</td>\n",
       "      <td>2823.666667</td>\n",
       "      <td>0.495833</td>\n",
       "      <td>-0.133967</td>\n",
       "      <td>0.180933</td>\n",
       "      <td>3.361867</td>\n",
       "    </tr>\n",
       "    <tr>\n",
       "      <th>10</th>\n",
       "      <td>3.764328e+06</td>\n",
       "      <td>4.625000</td>\n",
       "      <td>5551.250000</td>\n",
       "      <td>0.709475</td>\n",
       "      <td>0.451338</td>\n",
       "      <td>0.580406</td>\n",
       "      <td>4.160813</td>\n",
       "    </tr>\n",
       "    <tr>\n",
       "      <th>11</th>\n",
       "      <td>3.619948e+06</td>\n",
       "      <td>4.750000</td>\n",
       "      <td>7508.250000</td>\n",
       "      <td>0.421538</td>\n",
       "      <td>0.500550</td>\n",
       "      <td>0.461044</td>\n",
       "      <td>3.922087</td>\n",
       "    </tr>\n",
       "    <tr>\n",
       "      <th>12</th>\n",
       "      <td>3.766928e+06</td>\n",
       "      <td>4.833333</td>\n",
       "      <td>5756.500000</td>\n",
       "      <td>0.859000</td>\n",
       "      <td>0.379850</td>\n",
       "      <td>0.619425</td>\n",
       "      <td>4.238850</td>\n",
       "    </tr>\n",
       "  </tbody>\n",
       "</table>\n",
       "</div>"
      ],
      "text/plain": [
       "                       Unnamed: 0_x     stars Unnamed: 0_y sentiment_review  \\\n",
       "                               mean      mean         mean             mean   \n",
       "reviewTime reviewTime                                                         \n",
       "1997       8           3.447409e+06  4.250000  8819.000000         0.826750   \n",
       "           9           3.906967e+06  2.666667  2823.666667         0.495833   \n",
       "           10          3.764328e+06  4.625000  5551.250000         0.709475   \n",
       "           11          3.619948e+06  4.750000  7508.250000         0.421538   \n",
       "           12          3.766928e+06  4.833333  5756.500000         0.859000   \n",
       "\n",
       "                      sentiment_summary   average rescaled_sentiment  \n",
       "                                   mean      mean               mean  \n",
       "reviewTime reviewTime                                                 \n",
       "1997       8                   0.609050  0.717900           4.435800  \n",
       "           9                  -0.133967  0.180933           3.361867  \n",
       "           10                  0.451338  0.580406           4.160813  \n",
       "           11                  0.500550  0.461044           3.922087  \n",
       "           12                  0.379850  0.619425           4.238850  "
      ]
     },
     "execution_count": 86,
     "metadata": {},
     "output_type": "execute_result"
    }
   ],
   "source": [
    "books_review_timeline_month_mean.head()"
   ]
  },
  {
   "cell_type": "code",
   "execution_count": 87,
   "metadata": {
    "scrolled": false
   },
   "outputs": [
    {
     "data": {
      "image/png": "[encoded data removed]",
      "text/plain": [
       "<matplotlib.figure.Figure at 0x120110320>"
      ]
     },
     "metadata": {},
     "output_type": "display_data"
    }
   ],
   "source": [
    "books_review_timeline_month_mean[['stars', 'rescaled_sentiment']].plot(figsize=(25,10),title='Evolution of ratings with time');"
   ]
  },
  {
   "cell_type": "markdown",
   "metadata": {},
   "source": [
    "Above we have plotted the average per month of the ratings and the sentiment score. Here the sentiment score was rescaled to fit in the same interval as the ratings, between 1 and 5, which allow us to compare the two average more easily.\n",
    "\n",
    "We can see that the plot is really noisy as there are not a lot of reviews, but the noise decrease with time as we have more and more reviews, and it gets smoother from 2012, as the number of reviews starts to increase exponentially.\n",
    "\n",
    "At first sight, we can see that both average seem to follow the same trend. When the score of the ratings increases, the score of the sentiment increases too, the same happens the the trend is decreasing."
   ]
  },
  {
   "cell_type": "code",
   "execution_count": 88,
   "metadata": {
    "scrolled": false
   },
   "outputs": [
    {
     "data": {
      "text/plain": [
       "<matplotlib.axes._subplots.AxesSubplot at 0x1200f9d30>"
      ]
     },
     "execution_count": 88,
     "metadata": {},
     "output_type": "execute_result"
    },
    {
     "data": {
      "image/png": "[encoded data removed]",
      "text/plain": [
       "<matplotlib.figure.Figure at 0x171733358>"
      ]
     },
     "metadata": {},
     "output_type": "display_data"
    }
   ],
   "source": [
    "books_review_timeline_month_cnt['stars'].plot(figsize=(25,10),title='Number of ratings with time')"
   ]
  },
  {
   "cell_type": "markdown",
   "metadata": {},
   "source": [
    "Below we only look at the averages after 2012 to visualize them on a better scale. Our previous intuition seems to be confimed, that both metrics follow the same trend, except that the sentiment score has smoother transitions."
   ]
  },
  {
   "cell_type": "code",
   "execution_count": 89,
   "metadata": {},
   "outputs": [
    {
     "data": {
      "image/png": "[encoded data removed]",
      "text/plain": [
       "<matplotlib.figure.Figure at 0x120e1d4e0>"
      ]
     },
     "metadata": {},
     "output_type": "display_data"
    }
   ],
   "source": [
    "books_review_timeline_month_mean.loc[2011:][['stars', 'rescaled_sentiment']].plot(figsize=(25,10),title='Evolution of ratings with time');"
   ]
  },
  {
   "cell_type": "markdown",
   "metadata": {},
   "source": [
    "#### Evolution of kindle reviews"
   ]
  },
  {
   "cell_type": "code",
   "execution_count": 91,
   "metadata": {
    "collapsed": true
   },
   "outputs": [],
   "source": [
    "ebooks_review_timeline_month_mean = ebooks_review_with_time.groupby([\n",
    "    ebooks_review_with_time.reviewTime.dt.year,\n",
    "    ebooks_review_with_time.reviewTime.dt.month]).agg(['mean'])\n",
    "\n",
    "ebooks_review_timeline_month_cnt = ebooks_review_with_time.groupby([\n",
    "    ebooks_review_with_time.reviewTime.dt.year,\n",
    "    ebooks_review_with_time.reviewTime.dt.month]).agg(['count'])"
   ]
  },
  {
   "cell_type": "code",
   "execution_count": 93,
   "metadata": {
    "scrolled": false
   },
   "outputs": [
    {
     "data": {
      "text/plain": [
       "<matplotlib.axes._subplots.AxesSubplot at 0x1750dbe10>"
      ]
     },
     "execution_count": 93,
     "metadata": {},
     "output_type": "execute_result"
    },
    {
     "data": {
      "image/png": "[encoded data removed]",
      "text/plain": [
       "<matplotlib.figure.Figure at 0x1750edda0>"
      ]
     },
     "metadata": {},
     "output_type": "display_data"
    }
   ],
   "source": [
    "ebooks_review_timeline_month_mean[['stars', 'rescaled_sentiment']].plot(figsize=(25,10), title='Evolution of ratings with time')"
   ]
  },
  {
   "cell_type": "code",
   "execution_count": 94,
   "metadata": {},
   "outputs": [
    {
     "data": {
      "text/plain": [
       "<matplotlib.axes._subplots.AxesSubplot at 0x17501eb00>"
      ]
     },
     "execution_count": 94,
     "metadata": {},
     "output_type": "execute_result"
    },
    {
     "data": {
      "image/png": "[encoded data removed]",
      "text/plain": [
       "<matplotlib.figure.Figure at 0x175424c18>"
      ]
     },
     "metadata": {},
     "output_type": "display_data"
    }
   ],
   "source": [
    "ebooks_review_timeline_month_cnt['stars'].plot(figsize=(25,10),  title='Number of ratings with time')"
   ]
  },
  {
   "cell_type": "code",
   "execution_count": 95,
   "metadata": {
    "scrolled": false
   },
   "outputs": [
    {
     "data": {
      "image/png": "[encoded data removed]",
      "text/plain": [
       "<matplotlib.figure.Figure at 0x1750d74a8>"
      ]
     },
     "metadata": {},
     "output_type": "display_data"
    }
   ],
   "source": [
    "ebooks_review_timeline_month_mean.loc[2011:][['stars', 'rescaled_sentiment']].plot(figsize=(25,10),title='Evolution of ratings with time');"
   ]
  },
  {
   "cell_type": "markdown",
   "metadata": {},
   "source": [
    "For the kindle case we can easily come to the same conclusion than in the book case. It can be noted that in both case, even if the two metrics follow the same trend, the sentiment score is always slightly shifted downward compared to the ratings score, suggesting that readers give more positive ratings than what is reflected in the reviews they wrote."
   ]
  },
  {
   "cell_type": "markdown",
   "metadata": {},
   "source": [
    "### Reviews per authors\n",
    "Now that we have a better understanding of how the readers give reviews, it is time to determine if the authors receive better reviews on kindle or on book."
   ]
  },
  {
   "cell_type": "code",
   "execution_count": 141,
   "metadata": {
    "collapsed": true
   },
   "outputs": [],
   "source": [
    "scores_books_by_authors = pd.read_csv(scores_books_authors)\n",
    "scores_ebooks_by_authors = pd.read_csv(scores_ebooks_authors)"
   ]
  },
  {
   "cell_type": "code",
   "execution_count": 142,
   "metadata": {},
   "outputs": [
    {
     "data": {
      "text/html": [
       "<div>\n",
       "<style scoped>\n",
       "    .dataframe tbody tr th:only-of-type {\n",
       "        vertical-align: middle;\n",
       "    }\n",
       "\n",
       "    .dataframe tbody tr th {\n",
       "        vertical-align: top;\n",
       "    }\n",
       "\n",
       "    .dataframe thead th {\n",
       "        text-align: right;\n",
       "    }\n",
       "</style>\n",
       "<table border=\"1\" class=\"dataframe\">\n",
       "  <thead>\n",
       "    <tr style=\"text-align: right;\">\n",
       "      <th></th>\n",
       "      <th>authors</th>\n",
       "      <th>sentiment_average_score_book</th>\n",
       "      <th>overall_score_book</th>\n",
       "      <th>combined_score_book</th>\n",
       "      <th>sentiment_average_score_kindle</th>\n",
       "      <th>overall_score_kindle</th>\n",
       "      <th>combined_score_kindle</th>\n",
       "    </tr>\n",
       "  </thead>\n",
       "  <tbody>\n",
       "    <tr>\n",
       "      <th>0</th>\n",
       "      <td>Jon Evans</td>\n",
       "      <td>0.423018</td>\n",
       "      <td>4.265808</td>\n",
       "      <td>4.055922</td>\n",
       "      <td>0.458332</td>\n",
       "      <td>4.282822</td>\n",
       "      <td>4.099743</td>\n",
       "    </tr>\n",
       "    <tr>\n",
       "      <th>1</th>\n",
       "      <td>Agatha Christie</td>\n",
       "      <td>0.289064</td>\n",
       "      <td>4.333456</td>\n",
       "      <td>3.955791</td>\n",
       "      <td>0.397621</td>\n",
       "      <td>4.377827</td>\n",
       "      <td>4.086535</td>\n",
       "    </tr>\n",
       "    <tr>\n",
       "      <th>2</th>\n",
       "      <td>James Patterson</td>\n",
       "      <td>0.294031</td>\n",
       "      <td>3.959031</td>\n",
       "      <td>3.773546</td>\n",
       "      <td>0.342400</td>\n",
       "      <td>3.333333</td>\n",
       "      <td>3.509067</td>\n",
       "    </tr>\n",
       "    <tr>\n",
       "      <th>3</th>\n",
       "      <td>Stella Riley</td>\n",
       "      <td>0.132290</td>\n",
       "      <td>4.600000</td>\n",
       "      <td>3.932290</td>\n",
       "      <td>0.753520</td>\n",
       "      <td>4.400000</td>\n",
       "      <td>4.453520</td>\n",
       "    </tr>\n",
       "    <tr>\n",
       "      <th>4</th>\n",
       "      <td>Philip K. Dick</td>\n",
       "      <td>0.269942</td>\n",
       "      <td>4.169998</td>\n",
       "      <td>3.854941</td>\n",
       "      <td>0.267467</td>\n",
       "      <td>4.229118</td>\n",
       "      <td>3.882026</td>\n",
       "    </tr>\n",
       "  </tbody>\n",
       "</table>\n",
       "</div>"
      ],
      "text/plain": [
       "           authors  sentiment_average_score_book  overall_score_book  \\\n",
       "0        Jon Evans                      0.423018            4.265808   \n",
       "1  Agatha Christie                      0.289064            4.333456   \n",
       "2  James Patterson                      0.294031            3.959031   \n",
       "3     Stella Riley                      0.132290            4.600000   \n",
       "4   Philip K. Dick                      0.269942            4.169998   \n",
       "\n",
       "   combined_score_book  sentiment_average_score_kindle  overall_score_kindle  \\\n",
       "0             4.055922                        0.458332              4.282822   \n",
       "1             3.955791                        0.397621              4.377827   \n",
       "2             3.773546                        0.342400              3.333333   \n",
       "3             3.932290                        0.753520              4.400000   \n",
       "4             3.854941                        0.267467              4.229118   \n",
       "\n",
       "   combined_score_kindle  \n",
       "0               4.099743  \n",
       "1               4.086535  \n",
       "2               3.509067  \n",
       "3               4.453520  \n",
       "4               3.882026  "
      ]
     },
     "execution_count": 142,
     "metadata": {},
     "output_type": "execute_result"
    }
   ],
   "source": [
    "scores_books_by_authors = scores_books_by_authors[['authors', 'sentiment_average_score', 'overall_score','combined_score']]\n",
    "scores_ebooks_by_authors = scores_ebooks_by_authors[['authors', 'sentiment_average_score', 'overall_score','combined_score']]\n",
    "\n",
    "scores_by_authors = scores_books_by_authors.merge(scores_ebooks_by_authors, on='authors', suffixes=('_book', '_kindle'))\n",
    "scores_by_authors.head()"
   ]
  },
  {
   "cell_type": "code",
   "execution_count": 143,
   "metadata": {},
   "outputs": [
    {
     "data": {
      "text/plain": [
       "2772"
      ]
     },
     "execution_count": 143,
     "metadata": {},
     "output_type": "execute_result"
    }
   ],
   "source": [
    "len(scores_by_authors)"
   ]
  },
  {
   "cell_type": "code",
   "execution_count": 144,
   "metadata": {},
   "outputs": [
    {
     "data": {
      "text/plain": [
       "sentiment_average_score_book      0.462495\n",
       "overall_score_book                4.287626\n",
       "combined_score_book               4.106308\n",
       "sentiment_average_score_kindle    0.478348\n",
       "overall_score_kindle              4.336031\n",
       "combined_score_kindle             4.146363\n",
       "dtype: float64"
      ]
     },
     "execution_count": 144,
     "metadata": {},
     "output_type": "execute_result"
    }
   ],
   "source": [
    "scores_by_authors.mean()"
   ]
  },
  {
   "cell_type": "markdown",
   "metadata": {},
   "source": [
    "By doing a naive analysis, we find that in average, the scores on kindle are slightly higher for both metrics and the combined one."
   ]
  },
  {
   "cell_type": "code",
   "execution_count": 145,
   "metadata": {
    "scrolled": true
   },
   "outputs": [
    {
     "data": {
      "text/html": [
       "<div>\n",
       "<style scoped>\n",
       "    .dataframe tbody tr th:only-of-type {\n",
       "        vertical-align: middle;\n",
       "    }\n",
       "\n",
       "    .dataframe tbody tr th {\n",
       "        vertical-align: top;\n",
       "    }\n",
       "\n",
       "    .dataframe thead th {\n",
       "        text-align: right;\n",
       "    }\n",
       "</style>\n",
       "<table border=\"1\" class=\"dataframe\">\n",
       "  <thead>\n",
       "    <tr style=\"text-align: right;\">\n",
       "      <th></th>\n",
       "      <th>Unnamed: 0</th>\n",
       "      <th>asin</th>\n",
       "      <th>overall</th>\n",
       "      <th>summary</th>\n",
       "      <th>reviewerID</th>\n",
       "      <th>helpful</th>\n",
       "      <th>reviewText</th>\n",
       "      <th>reviewerName</th>\n",
       "      <th>asin_b</th>\n",
       "      <th>authors</th>\n",
       "      <th>not_helpful</th>\n",
       "    </tr>\n",
       "  </thead>\n",
       "  <tbody>\n",
       "    <tr>\n",
       "      <th>0</th>\n",
       "      <td>268</td>\n",
       "      <td>000171287X</td>\n",
       "      <td>5</td>\n",
       "      <td>Great</td>\n",
       "      <td>A3RZNH3OPW1XMB</td>\n",
       "      <td>0</td>\n",
       "      <td>for getting your kid introduced to his/her ABC...</td>\n",
       "      <td>CA_Kathy</td>\n",
       "      <td>000171287X</td>\n",
       "      <td>Stan Berenstain, Jan Berenstain</td>\n",
       "      <td>0</td>\n",
       "    </tr>\n",
       "    <tr>\n",
       "      <th>1</th>\n",
       "      <td>269</td>\n",
       "      <td>000171287X</td>\n",
       "      <td>3</td>\n",
       "      <td>A celebration of B</td>\n",
       "      <td>AZGXZ2UUK6X</td>\n",
       "      <td>1</td>\n",
       "      <td>This Book is funny and is full of B words, lik...</td>\n",
       "      <td>Catherine Hallberg \"(Kate)\"</td>\n",
       "      <td>000171287X</td>\n",
       "      <td>Stan Berenstain, Jan Berenstain</td>\n",
       "      <td>3</td>\n",
       "    </tr>\n",
       "    <tr>\n",
       "      <th>2</th>\n",
       "      <td>270</td>\n",
       "      <td>000171287X</td>\n",
       "      <td>5</td>\n",
       "      <td>Big B Believer</td>\n",
       "      <td>A2K28JHMIY3XKZ</td>\n",
       "      <td>2</td>\n",
       "      <td>A favorite Berenstain book of my children I wa...</td>\n",
       "      <td>Charles Andrews</td>\n",
       "      <td>000171287X</td>\n",
       "      <td>Stan Berenstain, Jan Berenstain</td>\n",
       "      <td>2</td>\n",
       "    </tr>\n",
       "    <tr>\n",
       "      <th>3</th>\n",
       "      <td>271</td>\n",
       "      <td>000171287X</td>\n",
       "      <td>5</td>\n",
       "      <td>Very funny book, sad ending though!</td>\n",
       "      <td>A1Z54EM24Y40LL</td>\n",
       "      <td>0</td>\n",
       "      <td>This book is quite funny.  Especially when you...</td>\n",
       "      <td>csm</td>\n",
       "      <td>000171287X</td>\n",
       "      <td>Stan Berenstain, Jan Berenstain</td>\n",
       "      <td>0</td>\n",
       "    </tr>\n",
       "    <tr>\n",
       "      <th>4</th>\n",
       "      <td>272</td>\n",
       "      <td>000171287X</td>\n",
       "      <td>5</td>\n",
       "      <td>Child's book</td>\n",
       "      <td>A179R0UL62Q36Z</td>\n",
       "      <td>0</td>\n",
       "      <td>Teaching the next generation to love books!  M...</td>\n",
       "      <td>Gena R Kyle</td>\n",
       "      <td>000171287X</td>\n",
       "      <td>Stan Berenstain, Jan Berenstain</td>\n",
       "      <td>0</td>\n",
       "    </tr>\n",
       "  </tbody>\n",
       "</table>\n",
       "</div>"
      ],
      "text/plain": [
       "   Unnamed: 0        asin  overall                              summary  \\\n",
       "0         268  000171287X        5                                Great   \n",
       "1         269  000171287X        3                   A celebration of B   \n",
       "2         270  000171287X        5                       Big B Believer   \n",
       "3         271  000171287X        5  Very funny book, sad ending though!   \n",
       "4         272  000171287X        5                         Child's book   \n",
       "\n",
       "       reviewerID  helpful                                         reviewText  \\\n",
       "0  A3RZNH3OPW1XMB        0  for getting your kid introduced to his/her ABC...   \n",
       "1     AZGXZ2UUK6X        1  This Book is funny and is full of B words, lik...   \n",
       "2  A2K28JHMIY3XKZ        2  A favorite Berenstain book of my children I wa...   \n",
       "3  A1Z54EM24Y40LL        0  This book is quite funny.  Especially when you...   \n",
       "4  A179R0UL62Q36Z        0  Teaching the next generation to love books!  M...   \n",
       "\n",
       "                  reviewerName      asin_b                          authors  \\\n",
       "0                     CA_Kathy  000171287X  Stan Berenstain, Jan Berenstain   \n",
       "1  Catherine Hallberg \"(Kate)\"  000171287X  Stan Berenstain, Jan Berenstain   \n",
       "2              Charles Andrews  000171287X  Stan Berenstain, Jan Berenstain   \n",
       "3                          csm  000171287X  Stan Berenstain, Jan Berenstain   \n",
       "4                  Gena R Kyle  000171287X  Stan Berenstain, Jan Berenstain   \n",
       "\n",
       "   not_helpful  \n",
       "0            0  \n",
       "1            3  \n",
       "2            2  \n",
       "3            0  \n",
       "4            0  "
      ]
     },
     "execution_count": 145,
     "metadata": {},
     "output_type": "execute_result"
    }
   ],
   "source": [
    "matched_booksh = matched_booksh.dropna(subset=['authors'])\n",
    "matched_booksh.head()"
   ]
  },
  {
   "cell_type": "markdown",
   "metadata": {},
   "source": [
    "### Refined analysis on some specific authors\n",
    "Now we want to see which authors has the most reviews for the books"
   ]
  },
  {
   "cell_type": "code",
   "execution_count": 146,
   "metadata": {
    "collapsed": true
   },
   "outputs": [],
   "source": [
    "books_review_per_author = matched_booksh.groupby('authors').agg('count')\n",
    "most_reviewed_books_author = books_review_per_author.sort_values('overall', ascending =False)"
   ]
  },
  {
   "cell_type": "code",
   "execution_count": 147,
   "metadata": {},
   "outputs": [
    {
     "data": {
      "text/plain": [
       "20976"
      ]
     },
     "execution_count": 147,
     "metadata": {},
     "output_type": "execute_result"
    }
   ],
   "source": [
    "len(most_reviewed_books_author)"
   ]
  },
  {
   "cell_type": "code",
   "execution_count": 148,
   "metadata": {
    "scrolled": false
   },
   "outputs": [
    {
     "data": {
      "text/html": [
       "<div>\n",
       "<style scoped>\n",
       "    .dataframe tbody tr th:only-of-type {\n",
       "        vertical-align: middle;\n",
       "    }\n",
       "\n",
       "    .dataframe tbody tr th {\n",
       "        vertical-align: top;\n",
       "    }\n",
       "\n",
       "    .dataframe thead th {\n",
       "        text-align: right;\n",
       "    }\n",
       "</style>\n",
       "<table border=\"1\" class=\"dataframe\">\n",
       "  <thead>\n",
       "    <tr style=\"text-align: right;\">\n",
       "      <th></th>\n",
       "      <th>Unnamed: 0</th>\n",
       "      <th>asin</th>\n",
       "      <th>overall</th>\n",
       "      <th>summary</th>\n",
       "      <th>reviewerID</th>\n",
       "      <th>helpful</th>\n",
       "      <th>reviewText</th>\n",
       "      <th>reviewerName</th>\n",
       "      <th>asin_b</th>\n",
       "      <th>not_helpful</th>\n",
       "    </tr>\n",
       "    <tr>\n",
       "      <th>authors</th>\n",
       "      <th></th>\n",
       "      <th></th>\n",
       "      <th></th>\n",
       "      <th></th>\n",
       "      <th></th>\n",
       "      <th></th>\n",
       "      <th></th>\n",
       "      <th></th>\n",
       "      <th></th>\n",
       "      <th></th>\n",
       "    </tr>\n",
       "  </thead>\n",
       "  <tbody>\n",
       "    <tr>\n",
       "      <th>Stephen King</th>\n",
       "      <td>24266</td>\n",
       "      <td>24266</td>\n",
       "      <td>24266</td>\n",
       "      <td>24266</td>\n",
       "      <td>24266</td>\n",
       "      <td>24266</td>\n",
       "      <td>24266</td>\n",
       "      <td>24217</td>\n",
       "      <td>24266</td>\n",
       "      <td>24266</td>\n",
       "    </tr>\n",
       "    <tr>\n",
       "      <th>Nora Roberts</th>\n",
       "      <td>18560</td>\n",
       "      <td>18560</td>\n",
       "      <td>18560</td>\n",
       "      <td>18560</td>\n",
       "      <td>18560</td>\n",
       "      <td>18560</td>\n",
       "      <td>18560</td>\n",
       "      <td>18519</td>\n",
       "      <td>18560</td>\n",
       "      <td>18560</td>\n",
       "    </tr>\n",
       "    <tr>\n",
       "      <th>Lee Child</th>\n",
       "      <td>13727</td>\n",
       "      <td>13727</td>\n",
       "      <td>13727</td>\n",
       "      <td>13727</td>\n",
       "      <td>13727</td>\n",
       "      <td>13727</td>\n",
       "      <td>13727</td>\n",
       "      <td>13725</td>\n",
       "      <td>13727</td>\n",
       "      <td>13727</td>\n",
       "    </tr>\n",
       "    <tr>\n",
       "      <th>H.M. Ward</th>\n",
       "      <td>13292</td>\n",
       "      <td>13292</td>\n",
       "      <td>13292</td>\n",
       "      <td>13292</td>\n",
       "      <td>13292</td>\n",
       "      <td>13292</td>\n",
       "      <td>13292</td>\n",
       "      <td>13277</td>\n",
       "      <td>13292</td>\n",
       "      <td>13292</td>\n",
       "    </tr>\n",
       "    <tr>\n",
       "      <th>David Baldacci</th>\n",
       "      <td>12219</td>\n",
       "      <td>12219</td>\n",
       "      <td>12219</td>\n",
       "      <td>12219</td>\n",
       "      <td>12219</td>\n",
       "      <td>12219</td>\n",
       "      <td>12219</td>\n",
       "      <td>12217</td>\n",
       "      <td>12219</td>\n",
       "      <td>12219</td>\n",
       "    </tr>\n",
       "    <tr>\n",
       "      <th>Michael Connelly</th>\n",
       "      <td>11683</td>\n",
       "      <td>11683</td>\n",
       "      <td>11683</td>\n",
       "      <td>11683</td>\n",
       "      <td>11683</td>\n",
       "      <td>11683</td>\n",
       "      <td>11683</td>\n",
       "      <td>11638</td>\n",
       "      <td>11683</td>\n",
       "      <td>11683</td>\n",
       "    </tr>\n",
       "    <tr>\n",
       "      <th>James Patterson</th>\n",
       "      <td>11493</td>\n",
       "      <td>11493</td>\n",
       "      <td>11493</td>\n",
       "      <td>11493</td>\n",
       "      <td>11493</td>\n",
       "      <td>11493</td>\n",
       "      <td>11493</td>\n",
       "      <td>11470</td>\n",
       "      <td>11493</td>\n",
       "      <td>11493</td>\n",
       "    </tr>\n",
       "    <tr>\n",
       "      <th>Dean Koontz</th>\n",
       "      <td>10840</td>\n",
       "      <td>10840</td>\n",
       "      <td>10840</td>\n",
       "      <td>10840</td>\n",
       "      <td>10840</td>\n",
       "      <td>10840</td>\n",
       "      <td>10840</td>\n",
       "      <td>10833</td>\n",
       "      <td>10840</td>\n",
       "      <td>10840</td>\n",
       "    </tr>\n",
       "    <tr>\n",
       "      <th>Abbi Glines</th>\n",
       "      <td>10696</td>\n",
       "      <td>10696</td>\n",
       "      <td>10696</td>\n",
       "      <td>10695</td>\n",
       "      <td>10696</td>\n",
       "      <td>10696</td>\n",
       "      <td>10696</td>\n",
       "      <td>10693</td>\n",
       "      <td>10696</td>\n",
       "      <td>10696</td>\n",
       "    </tr>\n",
       "    <tr>\n",
       "      <th>Debbie Macomber</th>\n",
       "      <td>9771</td>\n",
       "      <td>9771</td>\n",
       "      <td>9771</td>\n",
       "      <td>9771</td>\n",
       "      <td>9771</td>\n",
       "      <td>9771</td>\n",
       "      <td>9771</td>\n",
       "      <td>9754</td>\n",
       "      <td>9771</td>\n",
       "      <td>9771</td>\n",
       "    </tr>\n",
       "    <tr>\n",
       "      <th>Veronica Roth</th>\n",
       "      <td>9643</td>\n",
       "      <td>9643</td>\n",
       "      <td>9643</td>\n",
       "      <td>9642</td>\n",
       "      <td>9643</td>\n",
       "      <td>9643</td>\n",
       "      <td>9642</td>\n",
       "      <td>9337</td>\n",
       "      <td>9643</td>\n",
       "      <td>9643</td>\n",
       "    </tr>\n",
       "    <tr>\n",
       "      <th>Sylvia Day</th>\n",
       "      <td>9523</td>\n",
       "      <td>9523</td>\n",
       "      <td>9523</td>\n",
       "      <td>9523</td>\n",
       "      <td>9523</td>\n",
       "      <td>9523</td>\n",
       "      <td>9523</td>\n",
       "      <td>9517</td>\n",
       "      <td>9523</td>\n",
       "      <td>9523</td>\n",
       "    </tr>\n",
       "    <tr>\n",
       "      <th>J.R. Ward</th>\n",
       "      <td>8762</td>\n",
       "      <td>8762</td>\n",
       "      <td>8762</td>\n",
       "      <td>8762</td>\n",
       "      <td>8762</td>\n",
       "      <td>8762</td>\n",
       "      <td>8762</td>\n",
       "      <td>8761</td>\n",
       "      <td>8762</td>\n",
       "      <td>8762</td>\n",
       "    </tr>\n",
       "    <tr>\n",
       "      <th>Jessica Sorensen</th>\n",
       "      <td>7816</td>\n",
       "      <td>7816</td>\n",
       "      <td>7816</td>\n",
       "      <td>7815</td>\n",
       "      <td>7816</td>\n",
       "      <td>7816</td>\n",
       "      <td>7815</td>\n",
       "      <td>7816</td>\n",
       "      <td>7816</td>\n",
       "      <td>7816</td>\n",
       "    </tr>\n",
       "    <tr>\n",
       "      <th>Hugh Howey</th>\n",
       "      <td>7615</td>\n",
       "      <td>7615</td>\n",
       "      <td>7615</td>\n",
       "      <td>7615</td>\n",
       "      <td>7615</td>\n",
       "      <td>7615</td>\n",
       "      <td>7615</td>\n",
       "      <td>7613</td>\n",
       "      <td>7615</td>\n",
       "      <td>7615</td>\n",
       "    </tr>\n",
       "    <tr>\n",
       "      <th>Kristen Ashley</th>\n",
       "      <td>7304</td>\n",
       "      <td>7304</td>\n",
       "      <td>7304</td>\n",
       "      <td>7304</td>\n",
       "      <td>7304</td>\n",
       "      <td>7304</td>\n",
       "      <td>7304</td>\n",
       "      <td>7303</td>\n",
       "      <td>7304</td>\n",
       "      <td>7304</td>\n",
       "    </tr>\n",
       "    <tr>\n",
       "      <th>Marie Force</th>\n",
       "      <td>7150</td>\n",
       "      <td>7150</td>\n",
       "      <td>7150</td>\n",
       "      <td>7150</td>\n",
       "      <td>7150</td>\n",
       "      <td>7150</td>\n",
       "      <td>7150</td>\n",
       "      <td>7150</td>\n",
       "      <td>7150</td>\n",
       "      <td>7150</td>\n",
       "    </tr>\n",
       "    <tr>\n",
       "      <th>Orson Scott Card</th>\n",
       "      <td>6827</td>\n",
       "      <td>6827</td>\n",
       "      <td>6827</td>\n",
       "      <td>6827</td>\n",
       "      <td>6827</td>\n",
       "      <td>6827</td>\n",
       "      <td>6827</td>\n",
       "      <td>6823</td>\n",
       "      <td>6827</td>\n",
       "      <td>6827</td>\n",
       "    </tr>\n",
       "    <tr>\n",
       "      <th>Susan Mallery</th>\n",
       "      <td>6728</td>\n",
       "      <td>6728</td>\n",
       "      <td>6728</td>\n",
       "      <td>6728</td>\n",
       "      <td>6728</td>\n",
       "      <td>6728</td>\n",
       "      <td>6727</td>\n",
       "      <td>6723</td>\n",
       "      <td>6728</td>\n",
       "      <td>6728</td>\n",
       "    </tr>\n",
       "    <tr>\n",
       "      <th>Laurell K. Hamilton</th>\n",
       "      <td>6678</td>\n",
       "      <td>6678</td>\n",
       "      <td>6678</td>\n",
       "      <td>6678</td>\n",
       "      <td>6678</td>\n",
       "      <td>6678</td>\n",
       "      <td>6678</td>\n",
       "      <td>6677</td>\n",
       "      <td>6678</td>\n",
       "      <td>6678</td>\n",
       "    </tr>\n",
       "  </tbody>\n",
       "</table>\n",
       "</div>"
      ],
      "text/plain": [
       "                     Unnamed: 0   asin  overall  summary  reviewerID  helpful  \\\n",
       "authors                                                                         \n",
       "Stephen King              24266  24266    24266    24266       24266    24266   \n",
       "Nora Roberts              18560  18560    18560    18560       18560    18560   \n",
       "Lee Child                 13727  13727    13727    13727       13727    13727   \n",
       "H.M. Ward                 13292  13292    13292    13292       13292    13292   \n",
       "David Baldacci            12219  12219    12219    12219       12219    12219   \n",
       "Michael Connelly          11683  11683    11683    11683       11683    11683   \n",
       "James Patterson           11493  11493    11493    11493       11493    11493   \n",
       "Dean Koontz               10840  10840    10840    10840       10840    10840   \n",
       "Abbi Glines               10696  10696    10696    10695       10696    10696   \n",
       "Debbie Macomber            9771   9771     9771     9771        9771     9771   \n",
       "Veronica Roth              9643   9643     9643     9642        9643     9643   \n",
       "Sylvia Day                 9523   9523     9523     9523        9523     9523   \n",
       "J.R. Ward                  8762   8762     8762     8762        8762     8762   \n",
       "Jessica Sorensen           7816   7816     7816     7815        7816     7816   \n",
       "Hugh Howey                 7615   7615     7615     7615        7615     7615   \n",
       "Kristen Ashley             7304   7304     7304     7304        7304     7304   \n",
       "Marie Force                7150   7150     7150     7150        7150     7150   \n",
       "Orson Scott Card           6827   6827     6827     6827        6827     6827   \n",
       "Susan Mallery              6728   6728     6728     6728        6728     6728   \n",
       "Laurell K. Hamilton        6678   6678     6678     6678        6678     6678   \n",
       "\n",
       "                     reviewText  reviewerName  asin_b  not_helpful  \n",
       "authors                                                             \n",
       "Stephen King              24266         24217   24266        24266  \n",
       "Nora Roberts              18560         18519   18560        18560  \n",
       "Lee Child                 13727         13725   13727        13727  \n",
       "H.M. Ward                 13292         13277   13292        13292  \n",
       "David Baldacci            12219         12217   12219        12219  \n",
       "Michael Connelly          11683         11638   11683        11683  \n",
       "James Patterson           11493         11470   11493        11493  \n",
       "Dean Koontz               10840         10833   10840        10840  \n",
       "Abbi Glines               10696         10693   10696        10696  \n",
       "Debbie Macomber            9771          9754    9771         9771  \n",
       "Veronica Roth              9642          9337    9643         9643  \n",
       "Sylvia Day                 9523          9517    9523         9523  \n",
       "J.R. Ward                  8762          8761    8762         8762  \n",
       "Jessica Sorensen           7815          7816    7816         7816  \n",
       "Hugh Howey                 7615          7613    7615         7615  \n",
       "Kristen Ashley             7304          7303    7304         7304  \n",
       "Marie Force                7150          7150    7150         7150  \n",
       "Orson Scott Card           6827          6823    6827         6827  \n",
       "Susan Mallery              6727          6723    6728         6728  \n",
       "Laurell K. Hamilton        6678          6677    6678         6678  "
      ]
     },
     "execution_count": 148,
     "metadata": {},
     "output_type": "execute_result"
    }
   ],
   "source": [
    "most_reviewed_books_author.head(20)"
   ]
  },
  {
   "cell_type": "markdown",
   "metadata": {},
   "source": [
    "Same but for the ebooks"
   ]
  },
  {
   "cell_type": "code",
   "execution_count": 149,
   "metadata": {
    "scrolled": true
   },
   "outputs": [
    {
     "data": {
      "text/html": [
       "<div>\n",
       "<style scoped>\n",
       "    .dataframe tbody tr th:only-of-type {\n",
       "        vertical-align: middle;\n",
       "    }\n",
       "\n",
       "    .dataframe tbody tr th {\n",
       "        vertical-align: top;\n",
       "    }\n",
       "\n",
       "    .dataframe thead th {\n",
       "        text-align: right;\n",
       "    }\n",
       "</style>\n",
       "<table border=\"1\" class=\"dataframe\">\n",
       "  <thead>\n",
       "    <tr style=\"text-align: right;\">\n",
       "      <th></th>\n",
       "      <th>Unnamed: 0</th>\n",
       "      <th>asin</th>\n",
       "      <th>overall</th>\n",
       "      <th>summary</th>\n",
       "      <th>reviewerID</th>\n",
       "      <th>helpful</th>\n",
       "      <th>reviewText</th>\n",
       "      <th>reviewerName</th>\n",
       "      <th>asin_e</th>\n",
       "      <th>authors</th>\n",
       "      <th>not_helpful</th>\n",
       "    </tr>\n",
       "  </thead>\n",
       "  <tbody>\n",
       "    <tr>\n",
       "      <th>0</th>\n",
       "      <td>114</td>\n",
       "      <td>B000JMKNQ0</td>\n",
       "      <td>4</td>\n",
       "      <td>Worthwhile addition to the New Jedi Order</td>\n",
       "      <td>A3SZMGJMV0G16C</td>\n",
       "      <td>4</td>\n",
       "      <td>Karen Traviss was noted during her time as a S...</td>\n",
       "      <td>Andrew Pruette \"Rancors Love to Read\"</td>\n",
       "      <td>B000JMKNQ0</td>\n",
       "      <td>Karen Traviss</td>\n",
       "      <td>4</td>\n",
       "    </tr>\n",
       "    <tr>\n",
       "      <th>1</th>\n",
       "      <td>115</td>\n",
       "      <td>B000JMKNQ0</td>\n",
       "      <td>5</td>\n",
       "      <td>Another reader</td>\n",
       "      <td>A2EN84QHDRZLP2</td>\n",
       "      <td>0</td>\n",
       "      <td>Good read. I enjoyed the look into another sid...</td>\n",
       "      <td>Carl craft</td>\n",
       "      <td>B000JMKNQ0</td>\n",
       "      <td>Karen Traviss</td>\n",
       "      <td>0</td>\n",
       "    </tr>\n",
       "    <tr>\n",
       "      <th>2</th>\n",
       "      <td>116</td>\n",
       "      <td>B000JMKNQ0</td>\n",
       "      <td>5</td>\n",
       "      <td>Fetts the man</td>\n",
       "      <td>A1UG4Q4D3OAH3A</td>\n",
       "      <td>0</td>\n",
       "      <td>Boba Fett sort of gets screwed, but turns it a...</td>\n",
       "      <td>dsa</td>\n",
       "      <td>B000JMKNQ0</td>\n",
       "      <td>Karen Traviss</td>\n",
       "      <td>0</td>\n",
       "    </tr>\n",
       "    <tr>\n",
       "      <th>3</th>\n",
       "      <td>117</td>\n",
       "      <td>B000JMKNQ0</td>\n",
       "      <td>4</td>\n",
       "      <td>A fun story</td>\n",
       "      <td>AQZH7YTWQPOBE</td>\n",
       "      <td>1</td>\n",
       "      <td>It's nice to see an author go back and visit t...</td>\n",
       "      <td>Enjolras</td>\n",
       "      <td>B000JMKNQ0</td>\n",
       "      <td>Karen Traviss</td>\n",
       "      <td>1</td>\n",
       "    </tr>\n",
       "    <tr>\n",
       "      <th>4</th>\n",
       "      <td>118</td>\n",
       "      <td>B000JMKNQ0</td>\n",
       "      <td>4</td>\n",
       "      <td>Star Wars: Bobba Fett: A Practical Man</td>\n",
       "      <td>A38Z3Q6DTDIH9J</td>\n",
       "      <td>1</td>\n",
       "      <td>This is an ebook and is a good read, but why n...</td>\n",
       "      <td>Jimmy J. Shaw \"oldbent1\"</td>\n",
       "      <td>B000JMKNQ0</td>\n",
       "      <td>Karen Traviss</td>\n",
       "      <td>3</td>\n",
       "    </tr>\n",
       "  </tbody>\n",
       "</table>\n",
       "</div>"
      ],
      "text/plain": [
       "   Unnamed: 0        asin  overall                                    summary  \\\n",
       "0         114  B000JMKNQ0        4  Worthwhile addition to the New Jedi Order   \n",
       "1         115  B000JMKNQ0        5                             Another reader   \n",
       "2         116  B000JMKNQ0        5                              Fetts the man   \n",
       "3         117  B000JMKNQ0        4                                A fun story   \n",
       "4         118  B000JMKNQ0        4     Star Wars: Bobba Fett: A Practical Man   \n",
       "\n",
       "       reviewerID  helpful                                         reviewText  \\\n",
       "0  A3SZMGJMV0G16C        4  Karen Traviss was noted during her time as a S...   \n",
       "1  A2EN84QHDRZLP2        0  Good read. I enjoyed the look into another sid...   \n",
       "2  A1UG4Q4D3OAH3A        0  Boba Fett sort of gets screwed, but turns it a...   \n",
       "3   AQZH7YTWQPOBE        1  It's nice to see an author go back and visit t...   \n",
       "4  A38Z3Q6DTDIH9J        1  This is an ebook and is a good read, but why n...   \n",
       "\n",
       "                            reviewerName      asin_e        authors  \\\n",
       "0  Andrew Pruette \"Rancors Love to Read\"  B000JMKNQ0  Karen Traviss   \n",
       "1                             Carl craft  B000JMKNQ0  Karen Traviss   \n",
       "2                                    dsa  B000JMKNQ0  Karen Traviss   \n",
       "3                               Enjolras  B000JMKNQ0  Karen Traviss   \n",
       "4               Jimmy J. Shaw \"oldbent1\"  B000JMKNQ0  Karen Traviss   \n",
       "\n",
       "   not_helpful  \n",
       "0            4  \n",
       "1            0  \n",
       "2            0  \n",
       "3            1  \n",
       "4            3  "
      ]
     },
     "execution_count": 149,
     "metadata": {},
     "output_type": "execute_result"
    }
   ],
   "source": [
    "matched_ebooksh = matched_ebooksh.dropna(subset=['authors'])\n",
    "matched_ebooksh.head()"
   ]
  },
  {
   "cell_type": "code",
   "execution_count": 150,
   "metadata": {
    "collapsed": true
   },
   "outputs": [],
   "source": [
    "ebooks_review_per_author = matched_ebooksh.groupby('authors').agg('count')\n",
    "most_reviewed_ebooks_author = ebooks_review_per_author.sort_values('overall', ascending =False)"
   ]
  },
  {
   "cell_type": "code",
   "execution_count": 151,
   "metadata": {
    "scrolled": true
   },
   "outputs": [
    {
     "data": {
      "text/html": [
       "<div>\n",
       "<style scoped>\n",
       "    .dataframe tbody tr th:only-of-type {\n",
       "        vertical-align: middle;\n",
       "    }\n",
       "\n",
       "    .dataframe tbody tr th {\n",
       "        vertical-align: top;\n",
       "    }\n",
       "\n",
       "    .dataframe thead th {\n",
       "        text-align: right;\n",
       "    }\n",
       "</style>\n",
       "<table border=\"1\" class=\"dataframe\">\n",
       "  <thead>\n",
       "    <tr style=\"text-align: right;\">\n",
       "      <th></th>\n",
       "      <th>Unnamed: 0</th>\n",
       "      <th>asin</th>\n",
       "      <th>overall</th>\n",
       "      <th>summary</th>\n",
       "      <th>reviewerID</th>\n",
       "      <th>helpful</th>\n",
       "      <th>reviewText</th>\n",
       "      <th>reviewerName</th>\n",
       "      <th>asin_e</th>\n",
       "      <th>not_helpful</th>\n",
       "    </tr>\n",
       "    <tr>\n",
       "      <th>authors</th>\n",
       "      <th></th>\n",
       "      <th></th>\n",
       "      <th></th>\n",
       "      <th></th>\n",
       "      <th></th>\n",
       "      <th></th>\n",
       "      <th></th>\n",
       "      <th></th>\n",
       "      <th></th>\n",
       "      <th></th>\n",
       "    </tr>\n",
       "  </thead>\n",
       "  <tbody>\n",
       "    <tr>\n",
       "      <th>Nicky Charles</th>\n",
       "      <td>2631</td>\n",
       "      <td>2631</td>\n",
       "      <td>2631</td>\n",
       "      <td>2631</td>\n",
       "      <td>2631</td>\n",
       "      <td>2631</td>\n",
       "      <td>2631</td>\n",
       "      <td>2631</td>\n",
       "      <td>2631</td>\n",
       "      <td>2631</td>\n",
       "    </tr>\n",
       "    <tr>\n",
       "      <th>Kristen Ashley</th>\n",
       "      <td>2104</td>\n",
       "      <td>2104</td>\n",
       "      <td>2104</td>\n",
       "      <td>2104</td>\n",
       "      <td>2104</td>\n",
       "      <td>2104</td>\n",
       "      <td>2104</td>\n",
       "      <td>2095</td>\n",
       "      <td>2104</td>\n",
       "      <td>2104</td>\n",
       "    </tr>\n",
       "    <tr>\n",
       "      <th>Christopher Nuttall</th>\n",
       "      <td>1905</td>\n",
       "      <td>1905</td>\n",
       "      <td>1905</td>\n",
       "      <td>1905</td>\n",
       "      <td>1905</td>\n",
       "      <td>1905</td>\n",
       "      <td>1905</td>\n",
       "      <td>1905</td>\n",
       "      <td>1905</td>\n",
       "      <td>1905</td>\n",
       "    </tr>\n",
       "    <tr>\n",
       "      <th>Elizabeth Lennox</th>\n",
       "      <td>1599</td>\n",
       "      <td>1599</td>\n",
       "      <td>1599</td>\n",
       "      <td>1599</td>\n",
       "      <td>1599</td>\n",
       "      <td>1599</td>\n",
       "      <td>1599</td>\n",
       "      <td>1597</td>\n",
       "      <td>1599</td>\n",
       "      <td>1599</td>\n",
       "    </tr>\n",
       "    <tr>\n",
       "      <th>Jasinda Wilder</th>\n",
       "      <td>1497</td>\n",
       "      <td>1497</td>\n",
       "      <td>1497</td>\n",
       "      <td>1497</td>\n",
       "      <td>1497</td>\n",
       "      <td>1497</td>\n",
       "      <td>1497</td>\n",
       "      <td>1497</td>\n",
       "      <td>1497</td>\n",
       "      <td>1497</td>\n",
       "    </tr>\n",
       "  </tbody>\n",
       "</table>\n",
       "</div>"
      ],
      "text/plain": [
       "                     Unnamed: 0  asin  overall  summary  reviewerID  helpful  \\\n",
       "authors                                                                        \n",
       "Nicky Charles              2631  2631     2631     2631        2631     2631   \n",
       "Kristen Ashley             2104  2104     2104     2104        2104     2104   \n",
       "Christopher Nuttall        1905  1905     1905     1905        1905     1905   \n",
       "Elizabeth Lennox           1599  1599     1599     1599        1599     1599   \n",
       "Jasinda Wilder             1497  1497     1497     1497        1497     1497   \n",
       "\n",
       "                     reviewText  reviewerName  asin_e  not_helpful  \n",
       "authors                                                             \n",
       "Nicky Charles              2631          2631    2631         2631  \n",
       "Kristen Ashley             2104          2095    2104         2104  \n",
       "Christopher Nuttall        1905          1905    1905         1905  \n",
       "Elizabeth Lennox           1599          1597    1599         1599  \n",
       "Jasinda Wilder             1497          1497    1497         1497  "
      ]
     },
     "execution_count": 151,
     "metadata": {},
     "output_type": "execute_result"
    }
   ],
   "source": [
    "most_reviewed_ebooks_author.head()"
   ]
  },
  {
   "cell_type": "markdown",
   "metadata": {},
   "source": [
    "What can we see? Nothing, we don't have the same authors in the two rankings, and the number of ratings is not even of the same magnitude."
   ]
  },
  {
   "cell_type": "markdown",
   "metadata": {},
   "source": [
    "#### Taking the authors with the most reviews in books"
   ]
  },
  {
   "cell_type": "code",
   "execution_count": 152,
   "metadata": {
    "collapsed": true
   },
   "outputs": [],
   "source": [
    "merged_review_per_author = most_reviewed_books_author.merge(most_reviewed_ebooks_author,\n",
    "                                                          left_index=True, right_index=True,\n",
    "                                                         suffixes=('_book', '_ebook'))"
   ]
  },
  {
   "cell_type": "code",
   "execution_count": 153,
   "metadata": {
    "collapsed": true
   },
   "outputs": [],
   "source": [
    "top_books_authors = merged_review_per_author.head(20)[['overall_book','overall_ebook']]"
   ]
  },
  {
   "cell_type": "code",
   "execution_count": 154,
   "metadata": {
    "collapsed": true
   },
   "outputs": [],
   "source": [
    "match_books_top_authors = matched_booksh[matched_booksh['authors'].isin(top_books_authors.index)]\n",
    "match_ebooks_top_authors = matched_ebooksh[matched_ebooksh['authors'].isin(top_books_authors.index)]"
   ]
  },
  {
   "cell_type": "code",
   "execution_count": 6,
   "metadata": {
    "collapsed": true
   },
   "outputs": [],
   "source": [
    "if WRITE_WEIGHTED_SCORE:\n",
    "    compute_by_batch(match_books_top_authors.set_index('authors'), 2, top_authors_weighted_books_score, override=True)\n",
    "    compute_by_batch(match_ebooks_top_authors.set_index('authors'), 20, top_authors_weighted_kindle_score, override=True)\n",
    "\n",
    "top_authors_books_score = pd.read_csv(top_authors_weighted_books_score)\n",
    "top_authors_ebooks_score = pd.read_csv(top_authors_weighted_kindle_score)"
   ]
  },
  {
   "cell_type": "code",
   "execution_count": 7,
   "metadata": {},
   "outputs": [
    {
     "data": {
      "text/html": [
       "<div>\n",
       "<style scoped>\n",
       "    .dataframe tbody tr th:only-of-type {\n",
       "        vertical-align: middle;\n",
       "    }\n",
       "\n",
       "    .dataframe tbody tr th {\n",
       "        vertical-align: top;\n",
       "    }\n",
       "\n",
       "    .dataframe thead th {\n",
       "        text-align: right;\n",
       "    }\n",
       "</style>\n",
       "<table border=\"1\" class=\"dataframe\">\n",
       "  <thead>\n",
       "    <tr style=\"text-align: right;\">\n",
       "      <th></th>\n",
       "      <th>authors</th>\n",
       "      <th>combined_score_book</th>\n",
       "      <th>combined_score_kindle</th>\n",
       "    </tr>\n",
       "  </thead>\n",
       "  <tbody>\n",
       "    <tr>\n",
       "      <th>0</th>\n",
       "      <td>Dean Koontz</td>\n",
       "      <td>3.836427</td>\n",
       "      <td>3.950129</td>\n",
       "    </tr>\n",
       "    <tr>\n",
       "      <th>1</th>\n",
       "      <td>James Patterson</td>\n",
       "      <td>3.773792</td>\n",
       "      <td>3.509067</td>\n",
       "    </tr>\n",
       "    <tr>\n",
       "      <th>2</th>\n",
       "      <td>Debbie Macomber</td>\n",
       "      <td>4.222705</td>\n",
       "      <td>4.118434</td>\n",
       "    </tr>\n",
       "    <tr>\n",
       "      <th>3</th>\n",
       "      <td>Veronica Roth</td>\n",
       "      <td>3.839826</td>\n",
       "      <td>4.039917</td>\n",
       "    </tr>\n",
       "    <tr>\n",
       "      <th>4</th>\n",
       "      <td>Orson Scott Card</td>\n",
       "      <td>4.061193</td>\n",
       "      <td>4.306200</td>\n",
       "    </tr>\n",
       "    <tr>\n",
       "      <th>5</th>\n",
       "      <td>Sylvia Day</td>\n",
       "      <td>4.038227</td>\n",
       "      <td>3.982908</td>\n",
       "    </tr>\n",
       "    <tr>\n",
       "      <th>6</th>\n",
       "      <td>Michael Connelly</td>\n",
       "      <td>3.989594</td>\n",
       "      <td>3.723958</td>\n",
       "    </tr>\n",
       "    <tr>\n",
       "      <th>7</th>\n",
       "      <td>Lee Child</td>\n",
       "      <td>3.903025</td>\n",
       "      <td>4.565156</td>\n",
       "    </tr>\n",
       "    <tr>\n",
       "      <th>8</th>\n",
       "      <td>Stephen King</td>\n",
       "      <td>4.024501</td>\n",
       "      <td>3.837746</td>\n",
       "    </tr>\n",
       "    <tr>\n",
       "      <th>9</th>\n",
       "      <td>Hugh Howey</td>\n",
       "      <td>4.267384</td>\n",
       "      <td>4.165318</td>\n",
       "    </tr>\n",
       "    <tr>\n",
       "      <th>10</th>\n",
       "      <td>Nora Roberts</td>\n",
       "      <td>4.150820</td>\n",
       "      <td>4.383331</td>\n",
       "    </tr>\n",
       "    <tr>\n",
       "      <th>11</th>\n",
       "      <td>Susan Mallery</td>\n",
       "      <td>4.322910</td>\n",
       "      <td>4.063838</td>\n",
       "    </tr>\n",
       "    <tr>\n",
       "      <th>12</th>\n",
       "      <td>David Baldacci</td>\n",
       "      <td>4.032804</td>\n",
       "      <td>3.968965</td>\n",
       "    </tr>\n",
       "    <tr>\n",
       "      <th>13</th>\n",
       "      <td>Laurell K. Hamilton</td>\n",
       "      <td>3.340668</td>\n",
       "      <td>3.211626</td>\n",
       "    </tr>\n",
       "    <tr>\n",
       "      <th>14</th>\n",
       "      <td>J.R. Ward</td>\n",
       "      <td>4.158237</td>\n",
       "      <td>4.438871</td>\n",
       "    </tr>\n",
       "    <tr>\n",
       "      <th>15</th>\n",
       "      <td>Marie Force</td>\n",
       "      <td>4.375588</td>\n",
       "      <td>4.374434</td>\n",
       "    </tr>\n",
       "    <tr>\n",
       "      <th>16</th>\n",
       "      <td>Kristen Ashley</td>\n",
       "      <td>4.285780</td>\n",
       "      <td>4.282109</td>\n",
       "    </tr>\n",
       "    <tr>\n",
       "      <th>17</th>\n",
       "      <td>H.M. Ward</td>\n",
       "      <td>4.246884</td>\n",
       "      <td>4.236060</td>\n",
       "    </tr>\n",
       "    <tr>\n",
       "      <th>18</th>\n",
       "      <td>Abbi Glines</td>\n",
       "      <td>4.311430</td>\n",
       "      <td>4.331367</td>\n",
       "    </tr>\n",
       "    <tr>\n",
       "      <th>19</th>\n",
       "      <td>Jessica Sorensen</td>\n",
       "      <td>4.154628</td>\n",
       "      <td>4.060024</td>\n",
       "    </tr>\n",
       "  </tbody>\n",
       "</table>\n",
       "</div>"
      ],
      "text/plain": [
       "                authors  combined_score_book  combined_score_kindle\n",
       "0           Dean Koontz             3.836427               3.950129\n",
       "1       James Patterson             3.773792               3.509067\n",
       "2       Debbie Macomber             4.222705               4.118434\n",
       "3         Veronica Roth             3.839826               4.039917\n",
       "4      Orson Scott Card             4.061193               4.306200\n",
       "5            Sylvia Day             4.038227               3.982908\n",
       "6      Michael Connelly             3.989594               3.723958\n",
       "7             Lee Child             3.903025               4.565156\n",
       "8          Stephen King             4.024501               3.837746\n",
       "9            Hugh Howey             4.267384               4.165318\n",
       "10         Nora Roberts             4.150820               4.383331\n",
       "11        Susan Mallery             4.322910               4.063838\n",
       "12       David Baldacci             4.032804               3.968965\n",
       "13  Laurell K. Hamilton             3.340668               3.211626\n",
       "14            J.R. Ward             4.158237               4.438871\n",
       "15          Marie Force             4.375588               4.374434\n",
       "16       Kristen Ashley             4.285780               4.282109\n",
       "17            H.M. Ward             4.246884               4.236060\n",
       "18          Abbi Glines             4.311430               4.331367\n",
       "19     Jessica Sorensen             4.154628               4.060024"
      ]
     },
     "execution_count": 7,
     "metadata": {},
     "output_type": "execute_result"
    }
   ],
   "source": [
    "scores_top_authors = top_authors_books_score[['authors', 'combined_score']].merge(\n",
    "    top_authors_ebooks_score[['authors', 'combined_score']], on='authors', suffixes=('_book', '_kindle'))\n",
    "\n",
    "scores_top_authors"
   ]
  },
  {
   "cell_type": "code",
   "execution_count": 164,
   "metadata": {},
   "outputs": [
    {
     "data": {
      "image/png": "[encoded data removed]",
      "text/plain": [
       "<matplotlib.figure.Figure at 0x1201b7278>"
      ]
     },
     "metadata": {},
     "output_type": "display_data"
    }
   ],
   "source": [
    "st = pd.melt(scores_top_authors.sort_values('combined_score_book', ascending=False), id_vars='authors', value_vars=['combined_score_book', 'combined_score_kindle'])\n",
    "\n",
    "sns.factorplot(x = 'value', y='authors', hue='variable', data=st,kind='bar', size=10);"
   ]
  },
  {
   "cell_type": "code",
   "execution_count": 165,
   "metadata": {},
   "outputs": [
    {
     "data": {
      "image/png": "[encoded data removed]",
      "text/plain": [
       "<matplotlib.figure.Figure at 0x163712898>"
      ]
     },
     "metadata": {},
     "output_type": "display_data"
    }
   ],
   "source": [
    "sns.lmplot(x='combined_score_book', y='combined_score_kindle', data=scores_top_authors);"
   ]
  },
  {
   "cell_type": "code",
   "execution_count": 178,
   "metadata": {},
   "outputs": [
    {
     "data": {
      "image/png": "[encoded data removed]",
      "text/plain": [
       "<matplotlib.figure.Figure at 0x12ee43a58>"
      ]
     },
     "metadata": {},
     "output_type": "display_data"
    }
   ],
   "source": [
    "sns.jointplot(x='combined_score_book', y='combined_score_kindle', data=scores_top_authors, kind='kde', );"
   ]
  },
  {
   "cell_type": "markdown",
   "metadata": {},
   "source": [
    "#### Taking the authors with the most reviews on kindle"
   ]
  },
  {
   "cell_type": "code",
   "execution_count": 167,
   "metadata": {
    "collapsed": true
   },
   "outputs": [],
   "source": [
    "merged_review_per_author = most_reviewed_ebooks_author.merge(most_reviewed_books_author,\n",
    "                                                          left_index=True, right_index=True,\n",
    "                                                         suffixes=('_ebook', '_book'))"
   ]
  },
  {
   "cell_type": "code",
   "execution_count": 168,
   "metadata": {
    "collapsed": true
   },
   "outputs": [],
   "source": [
    "top_ebooks_authors = merged_review_per_author.head(20)[['overall_book','overall_ebook']]\n",
    "match_books_top_authors = matched_booksh[matched_booksh['authors'].isin(top_ebooks_authors.index)]\n",
    "match_ebooks_top_authors = matched_ebooksh[matched_ebooksh['authors'].isin(top_ebooks_authors.index)]"
   ]
  },
  {
   "cell_type": "code",
   "execution_count": 8,
   "metadata": {
    "collapsed": true
   },
   "outputs": [],
   "source": [
    "if WRITE_WEIGHTED_SCORE:\n",
    "    compute_by_batch(match_books_top_authors.set_index('authors'), 2, top_kauthors_weighted_books_score, override=True)\n",
    "    compute_by_batch(match_ebooks_top_authors.set_index('authors'), 20, top_kauthors_weighted_kindle_score, override=True)\n",
    "\n",
    "top_kauthors_books_score = pd.read_csv(top_kauthors_weighted_books_score)\n",
    "top_kauthors_ebooks_score = pd.read_csv(top_kauthors_weighted_kindle_score)"
   ]
  },
  {
   "cell_type": "code",
   "execution_count": 9,
   "metadata": {},
   "outputs": [
    {
     "data": {
      "text/html": [
       "<div>\n",
       "<style scoped>\n",
       "    .dataframe tbody tr th:only-of-type {\n",
       "        vertical-align: middle;\n",
       "    }\n",
       "\n",
       "    .dataframe tbody tr th {\n",
       "        vertical-align: top;\n",
       "    }\n",
       "\n",
       "    .dataframe thead th {\n",
       "        text-align: right;\n",
       "    }\n",
       "</style>\n",
       "<table border=\"1\" class=\"dataframe\">\n",
       "  <thead>\n",
       "    <tr style=\"text-align: right;\">\n",
       "      <th></th>\n",
       "      <th>authors</th>\n",
       "      <th>combined_score_book</th>\n",
       "      <th>combined_score_kindle</th>\n",
       "    </tr>\n",
       "  </thead>\n",
       "  <tbody>\n",
       "    <tr>\n",
       "      <th>0</th>\n",
       "      <td>Nicky Charles</td>\n",
       "      <td>4.310972</td>\n",
       "      <td>4.312206</td>\n",
       "    </tr>\n",
       "    <tr>\n",
       "      <th>1</th>\n",
       "      <td>Bella Andre</td>\n",
       "      <td>4.343332</td>\n",
       "      <td>4.279236</td>\n",
       "    </tr>\n",
       "    <tr>\n",
       "      <th>2</th>\n",
       "      <td>R.E. Butler</td>\n",
       "      <td>4.265088</td>\n",
       "      <td>4.243795</td>\n",
       "    </tr>\n",
       "    <tr>\n",
       "      <th>3</th>\n",
       "      <td>Deborah Bladon</td>\n",
       "      <td>4.140130</td>\n",
       "      <td>4.112095</td>\n",
       "    </tr>\n",
       "    <tr>\n",
       "      <th>4</th>\n",
       "      <td>J.R. Rain</td>\n",
       "      <td>4.255093</td>\n",
       "      <td>4.191058</td>\n",
       "    </tr>\n",
       "    <tr>\n",
       "      <th>5</th>\n",
       "      <td>Christopher Nuttall</td>\n",
       "      <td>4.157191</td>\n",
       "      <td>4.083715</td>\n",
       "    </tr>\n",
       "    <tr>\n",
       "      <th>6</th>\n",
       "      <td>Dan Eitreim</td>\n",
       "      <td>4.368911</td>\n",
       "      <td>4.339893</td>\n",
       "    </tr>\n",
       "    <tr>\n",
       "      <th>7</th>\n",
       "      <td>Jasinda Wilder</td>\n",
       "      <td>4.150907</td>\n",
       "      <td>4.177928</td>\n",
       "    </tr>\n",
       "    <tr>\n",
       "      <th>8</th>\n",
       "      <td>C.D. Shelton</td>\n",
       "      <td>4.297916</td>\n",
       "      <td>4.288477</td>\n",
       "    </tr>\n",
       "    <tr>\n",
       "      <th>9</th>\n",
       "      <td>Jessica Sorensen</td>\n",
       "      <td>4.060024</td>\n",
       "      <td>4.154628</td>\n",
       "    </tr>\n",
       "    <tr>\n",
       "      <th>10</th>\n",
       "      <td>Claudy Conn</td>\n",
       "      <td>4.263106</td>\n",
       "      <td>4.243006</td>\n",
       "    </tr>\n",
       "    <tr>\n",
       "      <th>11</th>\n",
       "      <td>Helen Cooper</td>\n",
       "      <td>4.225635</td>\n",
       "      <td>4.187731</td>\n",
       "    </tr>\n",
       "    <tr>\n",
       "      <th>12</th>\n",
       "      <td>Kirsten Osbourne</td>\n",
       "      <td>4.136433</td>\n",
       "      <td>4.096926</td>\n",
       "    </tr>\n",
       "    <tr>\n",
       "      <th>13</th>\n",
       "      <td>Kristen Ashley</td>\n",
       "      <td>4.246089</td>\n",
       "      <td>4.282883</td>\n",
       "    </tr>\n",
       "    <tr>\n",
       "      <th>14</th>\n",
       "      <td>Vanessa Gray Bartal</td>\n",
       "      <td>4.169390</td>\n",
       "      <td>4.155002</td>\n",
       "    </tr>\n",
       "    <tr>\n",
       "      <th>15</th>\n",
       "      <td>Marie Hall</td>\n",
       "      <td>4.295878</td>\n",
       "      <td>4.282265</td>\n",
       "    </tr>\n",
       "    <tr>\n",
       "      <th>16</th>\n",
       "      <td>A.R. Wise</td>\n",
       "      <td>4.197471</td>\n",
       "      <td>4.187598</td>\n",
       "    </tr>\n",
       "    <tr>\n",
       "      <th>17</th>\n",
       "      <td>Elizabeth Lennox</td>\n",
       "      <td>4.047224</td>\n",
       "      <td>3.983646</td>\n",
       "    </tr>\n",
       "    <tr>\n",
       "      <th>18</th>\n",
       "      <td>Tessa Bailey</td>\n",
       "      <td>4.335939</td>\n",
       "      <td>4.334160</td>\n",
       "    </tr>\n",
       "    <tr>\n",
       "      <th>19</th>\n",
       "      <td>J. S. Cooper</td>\n",
       "      <td>4.325880</td>\n",
       "      <td>4.245658</td>\n",
       "    </tr>\n",
       "  </tbody>\n",
       "</table>\n",
       "</div>"
      ],
      "text/plain": [
       "                authors  combined_score_book  combined_score_kindle\n",
       "0         Nicky Charles             4.310972               4.312206\n",
       "1           Bella Andre             4.343332               4.279236\n",
       "2           R.E. Butler             4.265088               4.243795\n",
       "3        Deborah Bladon             4.140130               4.112095\n",
       "4             J.R. Rain             4.255093               4.191058\n",
       "5   Christopher Nuttall             4.157191               4.083715\n",
       "6           Dan Eitreim             4.368911               4.339893\n",
       "7        Jasinda Wilder             4.150907               4.177928\n",
       "8          C.D. Shelton             4.297916               4.288477\n",
       "9      Jessica Sorensen             4.060024               4.154628\n",
       "10          Claudy Conn             4.263106               4.243006\n",
       "11         Helen Cooper             4.225635               4.187731\n",
       "12     Kirsten Osbourne             4.136433               4.096926\n",
       "13       Kristen Ashley             4.246089               4.282883\n",
       "14  Vanessa Gray Bartal             4.169390               4.155002\n",
       "15           Marie Hall             4.295878               4.282265\n",
       "16            A.R. Wise             4.197471               4.187598\n",
       "17     Elizabeth Lennox             4.047224               3.983646\n",
       "18         Tessa Bailey             4.335939               4.334160\n",
       "19         J. S. Cooper             4.325880               4.245658"
      ]
     },
     "execution_count": 9,
     "metadata": {},
     "output_type": "execute_result"
    }
   ],
   "source": [
    "scores_top_kauthors = top_kauthors_ebooks_score[['authors', 'combined_score']].merge(\n",
    "    top_kauthors_books_score[['authors', 'combined_score']], on='authors', suffixes=('_book', '_kindle'))\n",
    "\n",
    "scores_top_kauthors"
   ]
  },
  {
   "cell_type": "code",
   "execution_count": 174,
   "metadata": {
    "scrolled": false
   },
   "outputs": [
    {
     "data": {
      "image/png": "[encoded data removed]",
      "text/plain": [
       "<matplotlib.figure.Figure at 0x12ec9b6a0>"
      ]
     },
     "metadata": {},
     "output_type": "display_data"
    }
   ],
   "source": [
    "stk = pd.melt(scores_top_kauthors.sort_values('combined_score_kindle', ascending=False), id_vars='authors', value_vars=['combined_score_book', 'combined_score_kindle'])\n",
    "\n",
    "sns.factorplot(x = 'value', y='authors', hue='variable', data=stk, kind='bar', size=9);"
   ]
  },
  {
   "cell_type": "code",
   "execution_count": 175,
   "metadata": {
    "scrolled": false
   },
   "outputs": [
    {
     "data": {
      "image/png": "[encoded data removed]",
      "text/plain": [
       "<matplotlib.figure.Figure at 0x16723b438>"
      ]
     },
     "metadata": {},
     "output_type": "display_data"
    }
   ],
   "source": [
    "sns.lmplot(x='combined_score_book', y='combined_score_kindle', data=scores_top_kauthors);"
   ]
  },
  {
   "cell_type": "markdown",
   "metadata": {},
   "source": [
    "Here it looks like the ratings are slightly better in general for the book version."
   ]
  },
  {
   "cell_type": "code",
   "execution_count": 176,
   "metadata": {},
   "outputs": [
    {
     "data": {
      "image/png": "[encoded data removed]",
      "text/plain": [
       "<matplotlib.figure.Figure at 0x122dab7b8>"
      ]
     },
     "metadata": {},
     "output_type": "display_data"
    }
   ],
   "source": [
    "sns.jointplot(x='combined_score_book', y='combined_score_kindle', data=scores_top_kauthors, kind='kde');"
   ]
  },
  {
   "cell_type": "markdown",
   "metadata": {},
   "source": [
    "### old"
   ]
  },
  {
   "cell_type": "markdown",
   "metadata": {
    "collapsed": true
   },
   "source": [
    "def compute_review_spark(data):\n",
    "    func = udf(lambda x: sid.polarity_scores(x)['compound'], T.DoubleType())\n",
    "    \n",
    "    data = data.withColumn('sentiment_review', func('reviewText'))\n",
    "    data = data.withColumn('sentiment_summary', func('summary'))\n",
    "    data = data.withColumn('average', average('sentiment_review', 'sentiment_summary'))\n",
    "    \n",
    "    output = data.groupby('overall').mean()\n",
    "    return output"
   ]
  },
  {
   "cell_type": "markdown",
   "metadata": {},
   "source": [
    "reviews_books_with_sentiment[reviews_books_with_sentiment['overall'] == 1].head()"
   ]
  },
  {
   "cell_type": "markdown",
   "metadata": {
    "scrolled": true
   },
   "source": [
    "reviews_books_with_sentiment.iloc[212]['reviewText']"
   ]
  },
  {
   "cell_type": "markdown",
   "metadata": {},
   "source": [
    "This review above has a really positive sentiment score of 0.9735, but if we read the review, we can understand that it is quite the opposite. A second example is \"Not so good\" which yields a score of 0.4927, showing us the limitation of Vader."
   ]
  },
  {
   "cell_type": "markdown",
   "metadata": {},
   "source": [
    "We can observe here that the better the rating is, the more positive the text of the review is in average. The reviews with a rating of 1 are not negative in average. Even if the scores are not always accurate due to the limitation of Vader, they are consistent in average with the ratings."
   ]
  },
  {
   "cell_type": "markdown",
   "metadata": {
    "collapsed": true
   },
   "source": [
    "reviews_ebooks_with_sentiment = matched_ebooks.copy()\n",
    "reviews_ebooks_with_sentiment['sentiment_review'] = matched_ebooks['reviewText'].apply(f_sentiment)\n",
    "reviews_ebooks_with_sentiment['sentiment_summary'] = matched_ebooks['summary'].apply(f_sentiment)\n",
    "reviews_ebooks_with_sentiment['average'] = (reviews_ebooks_with_sentiment['sentiment_review'] + reviews_ebooks_with_sentiment['sentiment_summary'])*0.5"
   ]
  },
  {
   "cell_type": "markdown",
   "metadata": {},
   "source": [
    "The ratings seem to be consistent with the sentiment's score here again. Compared to books, the sentiment's score is slightly lower and even negative for a rating of 1.\n",
    "\n",
    "For the same rating, the books reviewer seems to be more positive in their review, this may be explained by the fact that books reviews tend to be longer and more descriptive than ebooks reviews.\n",
    "\n",
    "This analysis may not be really representative of the reality due to the limitation in size of our final dataset."
   ]
  },
  {
   "cell_type": "markdown",
   "metadata": {},
   "source": [
    "Sources:\n",
    "* *Improving the Amazon Review System by Exploiting the Credibility and Time-Decay of Public Reviews*, Bo-Chun Wang, Wen-Yuan Zhu, and Ling-Jyh Chen\n",
    "* Hutto, C.J. & Gilbert, E.E. (2014). *VADER: A Parsimonious Rule-based Model for Sentiment Analysis of Social Media Text. Eighth International Conference on Weblogs and Social Media (ICWSM-14)*. Ann Arbor, MI, June 2014."
   ]
  },
  {
   "cell_type": "code",
   "execution_count": 150,
   "metadata": {
    "collapsed": true
   },
   "outputs": [],
   "source": [
    "sc.stop()"
   ]
  },
  {
   "cell_type": "code",
   "execution_count": null,
   "metadata": {
    "collapsed": true
   },
   "outputs": [],
   "source": []
  }
 ],
 "metadata": {
  "anaconda-cloud": {},
  "kernelspec": {
   "display_name": "Python [default]",
   "language": "python",
   "name": "python3"
  },
  "language_info": {
   "codemirror_mode": {
    "name": "ipython",
    "version": 3
   },
   "file_extension": ".py",
   "mimetype": "text/x-python",
   "name": "python",
   "nbconvert_exporter": "python",
   "pygments_lexer": "ipython3",
   "version": "3.5.3"
  }
 },
 "nbformat": 4,
 "nbformat_minor": 2
}
