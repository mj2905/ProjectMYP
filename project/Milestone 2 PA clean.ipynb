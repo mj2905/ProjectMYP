{
 "cells": [
  {
   "cell_type": "markdown",
   "metadata": {},
   "source": [
    "# Books versus eBooks : The customer's choice"
   ]
  },
  {
   "cell_type": "markdown",
   "metadata": {},
   "source": [
    "You need to have the metadata.json and the two 5-core files reviews_Books_5.json and reviews_Kindle_Store_5.json at the same level as the notebook.\n",
    "\n",
    "For the questions asked for Milestone 2, please refer to the README file, where you will see a part dedicated to milestone 2. In this Notebook, we don't answer specifically to these questions, but we speak at each step what we technically made and failed."
   ]
  },
  {
   "cell_type": "markdown",
   "metadata": {},
   "source": [
    "## Data retrieval"
   ]
  },
  {
   "cell_type": "code",
   "execution_count": 1,
   "metadata": {
    "collapsed": true
   },
   "outputs": [],
   "source": [
    "import pandas as pd\n",
    "import re\n",
    "import numpy as np\n",
    "import requests\n",
    "import time\n",
    "from bs4 import BeautifulSoup\n",
    "from ast import literal_eval\n",
    "import matplotlib.pyplot as plt\n",
    "import pickle\n",
    "import seaborn as sns\n",
    "import qgrid\n",
    "%matplotlib inline"
   ]
  },
  {
   "cell_type": "markdown",
   "metadata": {},
   "source": [
    "#### Warning :\n",
    "There are several booleans in this cell. They are useful to indicate if we need to perform some key data filtering and transformation in the whole notebook. The first one is set to True as it creates a file that is bigger than 300Mo, so that we can't put it in github. You will have to compute it if you run the notebook (it takes some time). The other files are on github, so all other booleans are set to False."
   ]
  },
  {
   "cell_type": "code",
   "execution_count": 2,
   "metadata": {
    "collapsed": true
   },
   "outputs": [],
   "source": [
    "metadata_path = 'metadata.json'\n",
    "books_metadata_path = 'books_metadata_with_bracket.csv'\n",
    "ebooks_metadata_title_path = 'ebooks_metadata_title.csv'\n",
    "ebooks_asin = 'ebooks_asin.csv'\n",
    "books_5core_path = 'reviews_Books_5.json'\n",
    "kindle_5core_path = 'reviews_Kindle_Store_5.json'\n",
    "amazon_ebooks = 'ebooks_title_from_amazon_complete.csv'\n",
    "amazon_aws_ebooks = 'ebooks_metadata_amazon.csv'\n",
    "amazon_aws_ebooks_undefined = 'ebooks_metadata_amazon_undefined.csv'\n",
    "amazon_aws_ebooks_log = 'ebooks_metadata_amazon_log.csv'\n",
    "asindb_ebooks = 'ebooks_title_from_asindb.csv'\n",
    "\n",
    "amazon_aws_books = 'books_metadata_amazon_p.csv'\n",
    "amazon_aws_books_undefined = 'books_metadata_amazon_undefined_p.csv'\n",
    "amazon_aws_books_log = 'books_metadata_amazon_log_p.csv'\n",
    "\n",
    "matched_books_path = 'matched_books_by_authors.csv'\n",
    "matched_ebooks_path = 'matched_ebooks_by_authors.csv'\n",
    "matched_books_short = 'matched_books.csv'\n",
    "matched_ebooks_short = 'matched_ebooks.csv'\n",
    "weighted_scores_books_path = 'weighted_scores_books.csv'\n",
    "weighted_scores_ebooks_path = 'weighted_scores_ebooks.csv'\n",
    "\n",
    "\n",
    "WRITE_BOOKS_METADATA = False\n",
    "WRITE_EBOOKS_METADATA_TITLE = False\n",
    "WRITE_EBOOK_ASIN = False\n",
    "AMAZON_GET_TITLE = False\n",
    "ASINDB_GET_TITLE = False\n",
    "WRITE_FIND_MATCHED = False\n",
    "WRITE_WEIGHTED_SCORE = True\n",
    "WRITE_SCORES = False\n",
    "WRITE_FLAT_AUTHORS = False"
   ]
  },
  {
   "cell_type": "markdown",
   "metadata": {},
   "source": [
    "As for our project, we need to obtain ebook data and book data, we chose the Amazon dataset. On this <a href='http://jmcauley.ucsd.edu/data/amazon/'>link</a>, we have downloaded the Books and Kindle Store 5-core files. However, those files contain reviews, so that we have no information about the article title or price.\n",
    "For that reason, we had to use the metadata file, acting as an intermediate table (relationship).\n",
    "\n",
    "We obtained the metadata.json file from the cluster, as it was not available in the website.\n",
    "We accessed the cluster using ssh@iccluster060.iccluster.epfl.ch, then using \n",
    "```shell\n",
    "hadoop fs -get /datasets/productGraph/metadata.json /buffer\n",
    "```\n",
    "to move the dataset to a folder we could connect to with SCP to download it on our computer.\n"
   ]
  },
  {
   "cell_type": "markdown",
   "metadata": {},
   "source": [
    "It's a json file, that is not readable using the pandas read_json method. We had to use the Code part from <a href='http://jmcauley.ucsd.edu/data/amazon/'>here</a> to read it. We can see a way to read the file (a limited portion of it) below :"
   ]
  },
  {
   "cell_type": "code",
   "execution_count": 207,
   "metadata": {},
   "outputs": [
    {
     "data": {
      "text/html": [
       "<div>\n",
       "<style scoped>\n",
       "    .dataframe tbody tr th:only-of-type {\n",
       "        vertical-align: middle;\n",
       "    }\n",
       "\n",
       "    .dataframe tbody tr th {\n",
       "        vertical-align: top;\n",
       "    }\n",
       "\n",
       "    .dataframe thead th {\n",
       "        text-align: right;\n",
       "    }\n",
       "</style>\n",
       "<table border=\"1\" class=\"dataframe\">\n",
       "  <thead>\n",
       "    <tr style=\"text-align: right;\">\n",
       "      <th></th>\n",
       "      <th>imUrl</th>\n",
       "      <th>salesRank</th>\n",
       "      <th>asin</th>\n",
       "      <th>title</th>\n",
       "      <th>categories</th>\n",
       "      <th>related</th>\n",
       "      <th>price</th>\n",
       "      <th>description</th>\n",
       "    </tr>\n",
       "  </thead>\n",
       "  <tbody>\n",
       "    <tr>\n",
       "      <th>0</th>\n",
       "      <td>http://ecx.images-amazon.com/images/I/51MKP0T4...</td>\n",
       "      <td>{'Books': 6334800}</td>\n",
       "      <td>0001048791</td>\n",
       "      <td>The Crucible: Performed by Stuart Pankin, Jero...</td>\n",
       "      <td>[[Books]]</td>\n",
       "      <td>NaN</td>\n",
       "      <td>NaN</td>\n",
       "      <td>NaN</td>\n",
       "    </tr>\n",
       "    <tr>\n",
       "      <th>1</th>\n",
       "      <td>http://g-ecx.images-amazon.com/images/G/01/x-s...</td>\n",
       "      <td>{'Movies &amp; TV': 376041}</td>\n",
       "      <td>0000143561</td>\n",
       "      <td>Everyday Italian (with Giada de Laurentiis), V...</td>\n",
       "      <td>[[Movies &amp; TV, Movies]]</td>\n",
       "      <td>{'buy_after_viewing': ['B0036FO6SI', 'B000KL8O...</td>\n",
       "      <td>12.99</td>\n",
       "      <td>3Pack DVD set - Italian Classics, Parties and ...</td>\n",
       "    </tr>\n",
       "  </tbody>\n",
       "</table>\n",
       "</div>"
      ],
      "text/plain": [
       "                                               imUrl                salesRank  \\\n",
       "0  http://ecx.images-amazon.com/images/I/51MKP0T4...       {'Books': 6334800}   \n",
       "1  http://g-ecx.images-amazon.com/images/G/01/x-s...  {'Movies & TV': 376041}   \n",
       "\n",
       "         asin                                              title  \\\n",
       "0  0001048791  The Crucible: Performed by Stuart Pankin, Jero...   \n",
       "1  0000143561  Everyday Italian (with Giada de Laurentiis), V...   \n",
       "\n",
       "                categories                                            related  \\\n",
       "0                [[Books]]                                                NaN   \n",
       "1  [[Movies & TV, Movies]]  {'buy_after_viewing': ['B0036FO6SI', 'B000KL8O...   \n",
       "\n",
       "   price                                        description  \n",
       "0    NaN                                                NaN  \n",
       "1  12.99  3Pack DVD set - Italian Classics, Parties and ...  "
      ]
     },
     "execution_count": 207,
     "metadata": {},
     "output_type": "execute_result"
    }
   ],
   "source": [
    "def read_json(path, limit = 2): \n",
    "    g = open(path, 'r') \n",
    "    df = {}\n",
    "    for i, l in enumerate(g): \n",
    "        if i < limit:\n",
    "            df[i] = eval(l)\n",
    "        else:\n",
    "            break\n",
    "    return pd.DataFrame.from_dict(df, orient='index')\n",
    "\n",
    "def read_csv(path, limit = 2): \n",
    "    return pd.read_csv(path, nrows=limit)\n",
    "            \n",
    "read_json(metadata_path)"
   ]
  },
  {
   "cell_type": "markdown",
   "metadata": {},
   "source": [
    "However, this metadata.json file takes more than 10 Go, for 9430088 entries (obtained by doing a wc -l metadata.json), so it does not fit in memory. Thus, as we will do a lot of tests later, we wanted to create a subfile containing only the Books metadata (we don't need video games metadata for example), with a subset of columns. We also want to write it in the csv format, to manipulate it in an easier way later.\n",
    "\n",
    "We use the regex \"\\[\\'books\" in an ignore case mode, to obtain only entries that have a category tag beginning with [Books. In fact, if we want to use the regex 'book', some entries like 0078800242 or B00000078S are not books at all, even if there is Books in the title or the category tag. The '[' is useful here to avoir this behavior."
   ]
  },
  {
   "cell_type": "code",
   "execution_count": 208,
   "metadata": {
    "collapsed": true
   },
   "outputs": [],
   "source": [
    "def read_book_metadata(path, regex): \n",
    "    g = open(path, 'r') \n",
    "    for l in g: \n",
    "        book = regex.search(l)\n",
    "        if book:\n",
    "            yield eval(l) \n",
    "            \n",
    "def write_df_books_metadata(from_, to, regex, columns_to_keep): \n",
    "    i = 0 \n",
    "    df = {} \n",
    "    for d in read_book_metadata(from_, regex): \n",
    "        df[i] = d \n",
    "        i += 1 \n",
    "        if i % 10000 == 0: # Here, we choose to write everything every 10'000 book entries, and clear the dataframe to free memory.\n",
    "            pd.DataFrame.from_dict(df, orient='index')[columns_to_keep].to_csv(to, header=False,mode='a')\n",
    "            df = {}\n",
    "\n",
    "COLUMNS_TO_KEEP = ['asin', 'salesRank', 'categories', 'title', 'price']\n",
    "regex = re.compile('\\[\\'books', re.IGNORECASE)\n",
    "\n",
    "if WRITE_BOOKS_METADATA:\n",
    "    pd.DataFrame(columns=[COLUMNS_TO_KEEP]).to_csv(books_metadata_path)\n",
    "    write_df_books_metadata(metadata_path, books_metadata_path, regex, COLUMNS_TO_KEEP)"
   ]
  },
  {
   "cell_type": "markdown",
   "metadata": {},
   "source": [
    "And if we read what we just wrote :"
   ]
  },
  {
   "cell_type": "code",
   "execution_count": 209,
   "metadata": {},
   "outputs": [
    {
     "data": {
      "text/html": [
       "<div>\n",
       "<style scoped>\n",
       "    .dataframe tbody tr th:only-of-type {\n",
       "        vertical-align: middle;\n",
       "    }\n",
       "\n",
       "    .dataframe tbody tr th {\n",
       "        vertical-align: top;\n",
       "    }\n",
       "\n",
       "    .dataframe thead th {\n",
       "        text-align: right;\n",
       "    }\n",
       "</style>\n",
       "<table border=\"1\" class=\"dataframe\">\n",
       "  <thead>\n",
       "    <tr style=\"text-align: right;\">\n",
       "      <th></th>\n",
       "      <th>Unnamed: 0</th>\n",
       "      <th>asin</th>\n",
       "      <th>salesRank</th>\n",
       "      <th>categories</th>\n",
       "      <th>title</th>\n",
       "      <th>price</th>\n",
       "    </tr>\n",
       "  </thead>\n",
       "  <tbody>\n",
       "    <tr>\n",
       "      <th>0</th>\n",
       "      <td>0</td>\n",
       "      <td>1048791</td>\n",
       "      <td>{'Books': 6334800}</td>\n",
       "      <td>[['Books']]</td>\n",
       "      <td>The Crucible: Performed by Stuart Pankin, Jero...</td>\n",
       "      <td>NaN</td>\n",
       "    </tr>\n",
       "    <tr>\n",
       "      <th>1</th>\n",
       "      <td>1</td>\n",
       "      <td>1048775</td>\n",
       "      <td>{'Books': 13243226}</td>\n",
       "      <td>[['Books']]</td>\n",
       "      <td>Measure for Measure: Complete &amp;amp; Unabridged</td>\n",
       "      <td>NaN</td>\n",
       "    </tr>\n",
       "  </tbody>\n",
       "</table>\n",
       "</div>"
      ],
      "text/plain": [
       "   Unnamed: 0     asin            salesRank   categories  \\\n",
       "0           0  1048791   {'Books': 6334800}  [['Books']]   \n",
       "1           1  1048775  {'Books': 13243226}  [['Books']]   \n",
       "\n",
       "                                               title  price  \n",
       "0  The Crucible: Performed by Stuart Pankin, Jero...    NaN  \n",
       "1     Measure for Measure: Complete &amp; Unabridged    NaN  "
      ]
     },
     "execution_count": 209,
     "metadata": {},
     "output_type": "execute_result"
    }
   ],
   "source": [
    "read_csv(books_metadata_path)"
   ]
  },
  {
   "cell_type": "markdown",
   "metadata": {},
   "source": [
    "We also wanted to obtain the ebooks titles, price etc..\n",
    "For the category filter, we have to use the same trick as for the Books one : \"\\[\\'Kindle\". Please note that some book metadatas above are in fact kindle store metadatas, because the category can contain both. However, it's not a big deal if we want to do the merge later, because as we will see, pretty much no ebook has a title in the given metadata.\n",
    "\n",
    "However, for the metadatas for ebooks, there was a problem at that step :"
   ]
  },
  {
   "cell_type": "code",
   "execution_count": 210,
   "metadata": {
    "collapsed": true
   },
   "outputs": [],
   "source": [
    "def read_ebook_metadata(path, regex): \n",
    "    g = open(path, 'r') \n",
    "    for l in g: \n",
    "        ebook = regex.search(l)\n",
    "        if ebook:\n",
    "            yield eval(l) \n",
    "def obtain_df_ebooks_metadata(from_, to, regex): \n",
    "    i = 0 \n",
    "    df = {} \n",
    "    count = 0\n",
    "    for d in read_ebook_metadata(from_, regex): \n",
    "        count += 1\n",
    "        if(d.get('title')):\n",
    "            df[i] = {'asin': d.get('asin'), 'title': d.get('title')}\n",
    "            i += 1 \n",
    "    pd.DataFrame.from_dict(df, orient='index').to_csv(to)\n",
    "    print('Total ebooks in metadatas:', count)\n",
    "\n",
    "\n",
    "regex = re.compile('\\[\\'Kindle', re.IGNORECASE)\n",
    "\n",
    "if WRITE_EBOOKS_METADATA_TITLE:\n",
    "    obtain_df_ebooks_metadata(metadata_path, ebooks_metadata_title_path, regex)"
   ]
  },
  {
   "cell_type": "markdown",
   "metadata": {},
   "source": [
    "We see right below that 44 entries out of 434702 have a title. Of course, it's not good at all, since we want to merge books and ebooks using the title field."
   ]
  },
  {
   "cell_type": "code",
   "execution_count": 211,
   "metadata": {},
   "outputs": [
    {
     "data": {
      "text/plain": [
       "44"
      ]
     },
     "execution_count": 211,
     "metadata": {},
     "output_type": "execute_result"
    }
   ],
   "source": [
    "read_csv(ebooks_metadata_title_path, None).shape[0]"
   ]
  },
  {
   "cell_type": "markdown",
   "metadata": {},
   "source": [
    "Thus, we need to obtain the title field from another source. The first idea was to retrieve this information from Amazon directly, as we wanted to do for the user location. For that, we need to have a list of the ebooks asin (Amazon Standard Identification Numbers). We obtain it from the Kindle Store 5-core file."
   ]
  },
  {
   "cell_type": "code",
   "execution_count": 212,
   "metadata": {
    "collapsed": true
   },
   "outputs": [],
   "source": [
    "def read_ebook_5core(path, regex): \n",
    "    g = open(path, 'r') \n",
    "    for l in g: \n",
    "        yield eval(l) \n",
    "def write_ebook_asin(from_, to): \n",
    "    i = 0 \n",
    "    df = {} \n",
    "    for d in read_ebook_5core(from_, regex): \n",
    "        df[i] = d \n",
    "        i += 1 \n",
    "        if i % 10000 == 0:\n",
    "            if i % 100000 == 0:\n",
    "                print(i) #to show the progression\n",
    "            pd.DataFrame.from_dict(df, orient='index')[['asin']].to_csv(to, header=False,mode='a')\n",
    "            df = {}\n",
    "    pd.DataFrame.from_dict(df, orient='index')[['asin']].to_csv(to, header=False,mode='a')\n",
    "    df = {}\n",
    "\n",
    "if WRITE_EBOOK_ASIN:\n",
    "    pd.DataFrame(columns=[['asin']]).to_csv(ebooks_asin)\n",
    "    write_ebook_asin(kindle_5core_path, ebooks_asin)"
   ]
  },
  {
   "cell_type": "markdown",
   "metadata": {},
   "source": [
    "As we were using the Kindle Store 5-core file, there are asin duplicates. We thus make it unique when we read."
   ]
  },
  {
   "cell_type": "code",
   "execution_count": 17,
   "metadata": {},
   "outputs": [
    {
     "data": {
      "text/plain": [
       "array(['B000F83SZQ', 'B000FA64PA', 'B000FA64PK', ..., 'B00M029T4O',\n",
       "       'B00M0RE7CS', 'B00M13FNSS'], dtype=object)"
      ]
     },
     "execution_count": 17,
     "metadata": {},
     "output_type": "execute_result"
    }
   ],
   "source": [
    "ebooks_asin_unique = pd.read_csv('ebooks_asin.csv',usecols=[1]).asin.unique()\n",
    "ebooks_asin_unique"
   ]
  },
  {
   "cell_type": "code",
   "execution_count": 215,
   "metadata": {},
   "outputs": [
    {
     "data": {
      "text/html": [
       "<div>\n",
       "<style scoped>\n",
       "    .dataframe tbody tr th:only-of-type {\n",
       "        vertical-align: middle;\n",
       "    }\n",
       "\n",
       "    .dataframe tbody tr th {\n",
       "        vertical-align: top;\n",
       "    }\n",
       "\n",
       "    .dataframe thead th {\n",
       "        text-align: right;\n",
       "    }\n",
       "</style>\n",
       "<table border=\"1\" class=\"dataframe\">\n",
       "  <thead>\n",
       "    <tr style=\"text-align: right;\">\n",
       "      <th></th>\n",
       "      <th>Unnamed: 0</th>\n",
       "      <th>asin</th>\n",
       "      <th>title</th>\n",
       "    </tr>\n",
       "  </thead>\n",
       "  <tbody>\n",
       "    <tr>\n",
       "      <th>0</th>\n",
       "      <td>B000FA64PA</td>\n",
       "      <td>B000FA64PA</td>\n",
       "      <td>Saboteur: Star Wars Legends (Darth Maul) (Shor...</td>\n",
       "    </tr>\n",
       "    <tr>\n",
       "      <th>1</th>\n",
       "      <td>B000FA64PK</td>\n",
       "      <td>B000FA64PK</td>\n",
       "      <td>Recovery: Star Wars Legends (The New Jedi Orde...</td>\n",
       "    </tr>\n",
       "    <tr>\n",
       "      <th>2</th>\n",
       "      <td>B000FA64QO</td>\n",
       "      <td>B000FA64QO</td>\n",
       "      <td>Ylesia: Star Wars Legends (The New Jedi Order)...</td>\n",
       "    </tr>\n",
       "    <tr>\n",
       "      <th>3</th>\n",
       "      <td>B000FBFMVG</td>\n",
       "      <td>B000FBFMVG</td>\n",
       "      <td>A Forest Apart: Star Wars Legends (Short Story...</td>\n",
       "    </tr>\n",
       "    <tr>\n",
       "      <th>4</th>\n",
       "      <td>B000FC1BN8</td>\n",
       "      <td>B000FC1BN8</td>\n",
       "      <td>Fool's Bargain: Star Wars Legends (Novella) (S...</td>\n",
       "    </tr>\n",
       "  </tbody>\n",
       "</table>\n",
       "</div>"
      ],
      "text/plain": [
       "   Unnamed: 0        asin                                              title\n",
       "0  B000FA64PA  B000FA64PA  Saboteur: Star Wars Legends (Darth Maul) (Shor...\n",
       "1  B000FA64PK  B000FA64PK  Recovery: Star Wars Legends (The New Jedi Orde...\n",
       "2  B000FA64QO  B000FA64QO  Ylesia: Star Wars Legends (The New Jedi Order)...\n",
       "3  B000FBFMVG  B000FBFMVG  A Forest Apart: Star Wars Legends (Short Story...\n",
       "4  B000FC1BN8  B000FC1BN8  Fool's Bargain: Star Wars Legends (Novella) (S..."
      ]
     },
     "execution_count": 215,
     "metadata": {},
     "output_type": "execute_result"
    }
   ],
   "source": [
    "ebooks_metadata = read_csv(asindb_ebooks, None)\n",
    "ebooks_metadata.head()"
   ]
  },
  {
   "cell_type": "code",
   "execution_count": 216,
   "metadata": {},
   "outputs": [
    {
     "data": {
      "text/plain": [
       "2741"
      ]
     },
     "execution_count": 216,
     "metadata": {},
     "output_type": "execute_result"
    }
   ],
   "source": [
    "read_csv(asindb_ebooks, None).shape[0] # number of titles retrieved"
   ]
  },
  {
   "cell_type": "markdown",
   "metadata": {},
   "source": [
    "This solution is of course not the best one : the asindb website does not contain everything. We have managed to retrieve 2741 titles over 4000 asins by using this technique, but we have no problem with the Amazon bot detection (and possible ban). We can see which entries were not retrieved by printing the notdefined dataframe.\n",
    "\n",
    "Of course, tu retrieve the 2741 entries, we set the LIMIT constant in the code to be 4000.\n",
    "\n",
    "We thus continue our analysis by using it."
   ]
  },
  {
   "cell_type": "markdown",
   "metadata": {},
   "source": [
    "Now, as we have the title information for books and ebooks, let's merge them. We read the book metadata information in books_metadata and we have the ebook metadata information with title in ebooks_metadata."
   ]
  },
  {
   "cell_type": "code",
   "execution_count": 217,
   "metadata": {},
   "outputs": [
    {
     "data": {
      "text/html": [
       "<div>\n",
       "<style scoped>\n",
       "    .dataframe tbody tr th:only-of-type {\n",
       "        vertical-align: middle;\n",
       "    }\n",
       "\n",
       "    .dataframe tbody tr th {\n",
       "        vertical-align: top;\n",
       "    }\n",
       "\n",
       "    .dataframe thead th {\n",
       "        text-align: right;\n",
       "    }\n",
       "</style>\n",
       "<table border=\"1\" class=\"dataframe\">\n",
       "  <thead>\n",
       "    <tr style=\"text-align: right;\">\n",
       "      <th></th>\n",
       "      <th>Unnamed: 0</th>\n",
       "      <th>asin</th>\n",
       "      <th>salesRank</th>\n",
       "      <th>categories</th>\n",
       "      <th>title</th>\n",
       "      <th>price</th>\n",
       "    </tr>\n",
       "  </thead>\n",
       "  <tbody>\n",
       "    <tr>\n",
       "      <th>0</th>\n",
       "      <td>0</td>\n",
       "      <td>0001048791</td>\n",
       "      <td>{'Books': 6334800}</td>\n",
       "      <td>[['Books']]</td>\n",
       "      <td>The Crucible: Performed by Stuart Pankin, Jero...</td>\n",
       "      <td>NaN</td>\n",
       "    </tr>\n",
       "    <tr>\n",
       "      <th>1</th>\n",
       "      <td>1</td>\n",
       "      <td>0001048775</td>\n",
       "      <td>{'Books': 13243226}</td>\n",
       "      <td>[['Books']]</td>\n",
       "      <td>Measure for Measure: Complete &amp;amp; Unabridged</td>\n",
       "      <td>NaN</td>\n",
       "    </tr>\n",
       "    <tr>\n",
       "      <th>2</th>\n",
       "      <td>2</td>\n",
       "      <td>0001048236</td>\n",
       "      <td>{'Books': 8973864}</td>\n",
       "      <td>[['Books']]</td>\n",
       "      <td>The Sherlock Holmes Audio Collection</td>\n",
       "      <td>9.26</td>\n",
       "    </tr>\n",
       "    <tr>\n",
       "      <th>3</th>\n",
       "      <td>3</td>\n",
       "      <td>0000401048</td>\n",
       "      <td>{'Books': 6448843}</td>\n",
       "      <td>[['Books']]</td>\n",
       "      <td>The rogue of publishers' row;: Confessions of ...</td>\n",
       "      <td>NaN</td>\n",
       "    </tr>\n",
       "    <tr>\n",
       "      <th>4</th>\n",
       "      <td>4</td>\n",
       "      <td>0001019880</td>\n",
       "      <td>{'Books': 9589258}</td>\n",
       "      <td>[['Books']]</td>\n",
       "      <td>Classic Soul Winner's New Testament Bible</td>\n",
       "      <td>5.39</td>\n",
       "    </tr>\n",
       "  </tbody>\n",
       "</table>\n",
       "</div>"
      ],
      "text/plain": [
       "   Unnamed: 0        asin            salesRank   categories  \\\n",
       "0           0  0001048791   {'Books': 6334800}  [['Books']]   \n",
       "1           1  0001048775  {'Books': 13243226}  [['Books']]   \n",
       "2           2  0001048236   {'Books': 8973864}  [['Books']]   \n",
       "3           3  0000401048   {'Books': 6448843}  [['Books']]   \n",
       "4           4  0001019880   {'Books': 9589258}  [['Books']]   \n",
       "\n",
       "                                               title  price  \n",
       "0  The Crucible: Performed by Stuart Pankin, Jero...    NaN  \n",
       "1     Measure for Measure: Complete &amp; Unabridged    NaN  \n",
       "2               The Sherlock Holmes Audio Collection   9.26  \n",
       "3  The rogue of publishers' row;: Confessions of ...    NaN  \n",
       "4          Classic Soul Winner's New Testament Bible   5.39  "
      ]
     },
     "execution_count": 217,
     "metadata": {},
     "output_type": "execute_result"
    }
   ],
   "source": [
    "books_metadata = pd.read_csv(books_metadata_path)\n",
    "books_metadata.head()"
   ]
  },
  {
   "cell_type": "markdown",
   "metadata": {},
   "source": [
    "We merge them on title, and we see that we only get 1297 entries. It's not bad, but we can for sure have a better result. As we can remark, there is a lot of time the title The Space Between. We will discuss later about it."
   ]
  },
  {
   "cell_type": "code",
   "execution_count": 218,
   "metadata": {},
   "outputs": [
    {
     "data": {
      "text/html": [
       "<div>\n",
       "<style scoped>\n",
       "    .dataframe tbody tr th:only-of-type {\n",
       "        vertical-align: middle;\n",
       "    }\n",
       "\n",
       "    .dataframe tbody tr th {\n",
       "        vertical-align: top;\n",
       "    }\n",
       "\n",
       "    .dataframe thead th {\n",
       "        text-align: right;\n",
       "    }\n",
       "</style>\n",
       "<table border=\"1\" class=\"dataframe\">\n",
       "  <thead>\n",
       "    <tr style=\"text-align: right;\">\n",
       "      <th></th>\n",
       "      <th>asin_books</th>\n",
       "      <th>asin_ebooks</th>\n",
       "      <th>salesRank</th>\n",
       "      <th>categories</th>\n",
       "      <th>title</th>\n",
       "      <th>price</th>\n",
       "    </tr>\n",
       "  </thead>\n",
       "  <tbody>\n",
       "    <tr>\n",
       "      <th>0</th>\n",
       "      <td>0002008505</td>\n",
       "      <td>B002DYJ7DM</td>\n",
       "      <td>{'Books': 5587764}</td>\n",
       "      <td>[['Books']]</td>\n",
       "      <td>The Space Between</td>\n",
       "      <td>4.74</td>\n",
       "    </tr>\n",
       "    <tr>\n",
       "      <th>1</th>\n",
       "      <td>0615891411</td>\n",
       "      <td>B002DYJ7DM</td>\n",
       "      <td>{'Books': 4145053}</td>\n",
       "      <td>[['Books']]</td>\n",
       "      <td>The Space Between</td>\n",
       "      <td>2.99</td>\n",
       "    </tr>\n",
       "    <tr>\n",
       "      <th>2</th>\n",
       "      <td>1579660584</td>\n",
       "      <td>B002DYJ7DM</td>\n",
       "      <td>{'Books': 2486827}</td>\n",
       "      <td>[['Books']]</td>\n",
       "      <td>The Space Between</td>\n",
       "      <td>20.08</td>\n",
       "    </tr>\n",
       "    <tr>\n",
       "      <th>3</th>\n",
       "      <td>1588515508</td>\n",
       "      <td>B002DYJ7DM</td>\n",
       "      <td>{'Books': 5985767}</td>\n",
       "      <td>[['Books']]</td>\n",
       "      <td>The Space Between</td>\n",
       "      <td>NaN</td>\n",
       "    </tr>\n",
       "    <tr>\n",
       "      <th>4</th>\n",
       "      <td>1595143394</td>\n",
       "      <td>B002DYJ7DM</td>\n",
       "      <td>{'Books': 141638}</td>\n",
       "      <td>[['Books']]</td>\n",
       "      <td>The Space Between</td>\n",
       "      <td>7.13</td>\n",
       "    </tr>\n",
       "  </tbody>\n",
       "</table>\n",
       "</div>"
      ],
      "text/plain": [
       "   asin_books asin_ebooks           salesRank   categories              title  \\\n",
       "0  0002008505  B002DYJ7DM  {'Books': 5587764}  [['Books']]  The Space Between   \n",
       "1  0615891411  B002DYJ7DM  {'Books': 4145053}  [['Books']]  The Space Between   \n",
       "2  1579660584  B002DYJ7DM  {'Books': 2486827}  [['Books']]  The Space Between   \n",
       "3  1588515508  B002DYJ7DM  {'Books': 5985767}  [['Books']]  The Space Between   \n",
       "4  1595143394  B002DYJ7DM   {'Books': 141638}  [['Books']]  The Space Between   \n",
       "\n",
       "   price  \n",
       "0   4.74  \n",
       "1   2.99  \n",
       "2  20.08  \n",
       "3    NaN  \n",
       "4   7.13  "
      ]
     },
     "execution_count": 218,
     "metadata": {},
     "output_type": "execute_result"
    }
   ],
   "source": [
    "#We merge, and get the head. Everything after is here just to have a nicer representation of the first elements\n",
    "books_metadata.merge(ebooks_metadata, left_on='title', right_on='title').head().iloc[:,[1,7,2,3,4,5]].rename(columns={'asin_x':'asin_books', 'asin_y':'asin_ebooks'})"
   ]
  },
  {
   "cell_type": "code",
   "execution_count": 219,
   "metadata": {},
   "outputs": [
    {
     "data": {
      "text/plain": [
       "1297"
      ]
     },
     "execution_count": 219,
     "metadata": {},
     "output_type": "execute_result"
    }
   ],
   "source": [
    "books_metadata.merge(ebooks_metadata, left_on='title', right_on='title').shape[0]"
   ]
  },
  {
   "cell_type": "markdown",
   "metadata": {},
   "source": [
    "As we were saying, 1297 is not a big number, and we can do better. We have done the most basic possible thing to do : we have put the title for books and ebooks in lower form (minuscule)."
   ]
  },
  {
   "cell_type": "code",
   "execution_count": 220,
   "metadata": {},
   "outputs": [
    {
     "data": {
      "text/html": [
       "<div>\n",
       "<style scoped>\n",
       "    .dataframe tbody tr th:only-of-type {\n",
       "        vertical-align: middle;\n",
       "    }\n",
       "\n",
       "    .dataframe tbody tr th {\n",
       "        vertical-align: top;\n",
       "    }\n",
       "\n",
       "    .dataframe thead th {\n",
       "        text-align: right;\n",
       "    }\n",
       "</style>\n",
       "<table border=\"1\" class=\"dataframe\">\n",
       "  <thead>\n",
       "    <tr style=\"text-align: right;\">\n",
       "      <th></th>\n",
       "      <th>Unnamed: 0</th>\n",
       "      <th>asin</th>\n",
       "      <th>salesRank</th>\n",
       "      <th>categories</th>\n",
       "      <th>title</th>\n",
       "      <th>price</th>\n",
       "    </tr>\n",
       "  </thead>\n",
       "  <tbody>\n",
       "    <tr>\n",
       "      <th>0</th>\n",
       "      <td>0</td>\n",
       "      <td>0001048791</td>\n",
       "      <td>{'Books': 6334800}</td>\n",
       "      <td>[['Books']]</td>\n",
       "      <td>the crucible: performed by stuart pankin, jero...</td>\n",
       "      <td>NaN</td>\n",
       "    </tr>\n",
       "    <tr>\n",
       "      <th>1</th>\n",
       "      <td>1</td>\n",
       "      <td>0001048775</td>\n",
       "      <td>{'Books': 13243226}</td>\n",
       "      <td>[['Books']]</td>\n",
       "      <td>measure for measure: complete &amp;amp; unabridged</td>\n",
       "      <td>NaN</td>\n",
       "    </tr>\n",
       "    <tr>\n",
       "      <th>2</th>\n",
       "      <td>2</td>\n",
       "      <td>0001048236</td>\n",
       "      <td>{'Books': 8973864}</td>\n",
       "      <td>[['Books']]</td>\n",
       "      <td>the sherlock holmes audio collection</td>\n",
       "      <td>9.26</td>\n",
       "    </tr>\n",
       "    <tr>\n",
       "      <th>3</th>\n",
       "      <td>3</td>\n",
       "      <td>0000401048</td>\n",
       "      <td>{'Books': 6448843}</td>\n",
       "      <td>[['Books']]</td>\n",
       "      <td>the rogue of publishers' row;: confessions of ...</td>\n",
       "      <td>NaN</td>\n",
       "    </tr>\n",
       "    <tr>\n",
       "      <th>4</th>\n",
       "      <td>4</td>\n",
       "      <td>0001019880</td>\n",
       "      <td>{'Books': 9589258}</td>\n",
       "      <td>[['Books']]</td>\n",
       "      <td>classic soul winner's new testament bible</td>\n",
       "      <td>5.39</td>\n",
       "    </tr>\n",
       "  </tbody>\n",
       "</table>\n",
       "</div>"
      ],
      "text/plain": [
       "   Unnamed: 0        asin            salesRank   categories  \\\n",
       "0           0  0001048791   {'Books': 6334800}  [['Books']]   \n",
       "1           1  0001048775  {'Books': 13243226}  [['Books']]   \n",
       "2           2  0001048236   {'Books': 8973864}  [['Books']]   \n",
       "3           3  0000401048   {'Books': 6448843}  [['Books']]   \n",
       "4           4  0001019880   {'Books': 9589258}  [['Books']]   \n",
       "\n",
       "                                               title  price  \n",
       "0  the crucible: performed by stuart pankin, jero...    NaN  \n",
       "1     measure for measure: complete &amp; unabridged    NaN  \n",
       "2               the sherlock holmes audio collection   9.26  \n",
       "3  the rogue of publishers' row;: confessions of ...    NaN  \n",
       "4          classic soul winner's new testament bible   5.39  "
      ]
     },
     "execution_count": 220,
     "metadata": {},
     "output_type": "execute_result"
    }
   ],
   "source": [
    "books_metadata['title'] = books_metadata.title.str.lower()\n",
    "books_metadata.head()"
   ]
  },
  {
   "cell_type": "code",
   "execution_count": 221,
   "metadata": {},
   "outputs": [
    {
     "data": {
      "text/html": [
       "<div>\n",
       "<style scoped>\n",
       "    .dataframe tbody tr th:only-of-type {\n",
       "        vertical-align: middle;\n",
       "    }\n",
       "\n",
       "    .dataframe tbody tr th {\n",
       "        vertical-align: top;\n",
       "    }\n",
       "\n",
       "    .dataframe thead th {\n",
       "        text-align: right;\n",
       "    }\n",
       "</style>\n",
       "<table border=\"1\" class=\"dataframe\">\n",
       "  <thead>\n",
       "    <tr style=\"text-align: right;\">\n",
       "      <th></th>\n",
       "      <th>Unnamed: 0</th>\n",
       "      <th>asin</th>\n",
       "      <th>title</th>\n",
       "    </tr>\n",
       "  </thead>\n",
       "  <tbody>\n",
       "    <tr>\n",
       "      <th>0</th>\n",
       "      <td>B000FA64PA</td>\n",
       "      <td>B000FA64PA</td>\n",
       "      <td>saboteur: star wars legends (darth maul) (shor...</td>\n",
       "    </tr>\n",
       "    <tr>\n",
       "      <th>1</th>\n",
       "      <td>B000FA64PK</td>\n",
       "      <td>B000FA64PK</td>\n",
       "      <td>recovery: star wars legends (the new jedi orde...</td>\n",
       "    </tr>\n",
       "    <tr>\n",
       "      <th>2</th>\n",
       "      <td>B000FA64QO</td>\n",
       "      <td>B000FA64QO</td>\n",
       "      <td>ylesia: star wars legends (the new jedi order)...</td>\n",
       "    </tr>\n",
       "    <tr>\n",
       "      <th>3</th>\n",
       "      <td>B000FBFMVG</td>\n",
       "      <td>B000FBFMVG</td>\n",
       "      <td>a forest apart: star wars legends (short story...</td>\n",
       "    </tr>\n",
       "    <tr>\n",
       "      <th>4</th>\n",
       "      <td>B000FC1BN8</td>\n",
       "      <td>B000FC1BN8</td>\n",
       "      <td>fool's bargain: star wars legends (novella) (s...</td>\n",
       "    </tr>\n",
       "  </tbody>\n",
       "</table>\n",
       "</div>"
      ],
      "text/plain": [
       "   Unnamed: 0        asin                                              title\n",
       "0  B000FA64PA  B000FA64PA  saboteur: star wars legends (darth maul) (shor...\n",
       "1  B000FA64PK  B000FA64PK  recovery: star wars legends (the new jedi orde...\n",
       "2  B000FA64QO  B000FA64QO  ylesia: star wars legends (the new jedi order)...\n",
       "3  B000FBFMVG  B000FBFMVG  a forest apart: star wars legends (short story...\n",
       "4  B000FC1BN8  B000FC1BN8  fool's bargain: star wars legends (novella) (s..."
      ]
     },
     "execution_count": 221,
     "metadata": {},
     "output_type": "execute_result"
    }
   ],
   "source": [
    "ebooks_metadata['title'] = ebooks_metadata.title.str.lower()\n",
    "ebooks_metadata.head()"
   ]
  },
  {
   "cell_type": "code",
   "execution_count": 222,
   "metadata": {
    "collapsed": true
   },
   "outputs": [],
   "source": [
    "merged_metadatas = books_metadata.merge(ebooks_metadata, left_on='title', right_on='title')\n",
    "merged_metadatas = merged_metadatas[['asin_x', 'asin_y', 'title', 'price', 'categories', 'salesRank']]\n",
    "merged_metadatas = merged_metadatas.rename(columns={'asin_x': 'asin_book', 'asin_y': 'asin_ebook'})"
   ]
  },
  {
   "cell_type": "code",
   "execution_count": 223,
   "metadata": {},
   "outputs": [
    {
     "data": {
      "text/html": [
       "<div>\n",
       "<style scoped>\n",
       "    .dataframe tbody tr th:only-of-type {\n",
       "        vertical-align: middle;\n",
       "    }\n",
       "\n",
       "    .dataframe tbody tr th {\n",
       "        vertical-align: top;\n",
       "    }\n",
       "\n",
       "    .dataframe thead th {\n",
       "        text-align: right;\n",
       "    }\n",
       "</style>\n",
       "<table border=\"1\" class=\"dataframe\">\n",
       "  <thead>\n",
       "    <tr style=\"text-align: right;\">\n",
       "      <th></th>\n",
       "      <th>asin_book</th>\n",
       "      <th>asin_ebook</th>\n",
       "      <th>title</th>\n",
       "      <th>price</th>\n",
       "      <th>categories</th>\n",
       "      <th>salesRank</th>\n",
       "    </tr>\n",
       "  </thead>\n",
       "  <tbody>\n",
       "    <tr>\n",
       "      <th>0</th>\n",
       "      <td>0002008505</td>\n",
       "      <td>B002DYJ7DM</td>\n",
       "      <td>the space between</td>\n",
       "      <td>4.74</td>\n",
       "      <td>[['Books']]</td>\n",
       "      <td>{'Books': 5587764}</td>\n",
       "    </tr>\n",
       "    <tr>\n",
       "      <th>1</th>\n",
       "      <td>0615891411</td>\n",
       "      <td>B002DYJ7DM</td>\n",
       "      <td>the space between</td>\n",
       "      <td>2.99</td>\n",
       "      <td>[['Books']]</td>\n",
       "      <td>{'Books': 4145053}</td>\n",
       "    </tr>\n",
       "    <tr>\n",
       "      <th>2</th>\n",
       "      <td>1579660584</td>\n",
       "      <td>B002DYJ7DM</td>\n",
       "      <td>the space between</td>\n",
       "      <td>20.08</td>\n",
       "      <td>[['Books']]</td>\n",
       "      <td>{'Books': 2486827}</td>\n",
       "    </tr>\n",
       "    <tr>\n",
       "      <th>3</th>\n",
       "      <td>1588515508</td>\n",
       "      <td>B002DYJ7DM</td>\n",
       "      <td>the space between</td>\n",
       "      <td>NaN</td>\n",
       "      <td>[['Books']]</td>\n",
       "      <td>{'Books': 5985767}</td>\n",
       "    </tr>\n",
       "    <tr>\n",
       "      <th>4</th>\n",
       "      <td>1595143394</td>\n",
       "      <td>B002DYJ7DM</td>\n",
       "      <td>the space between</td>\n",
       "      <td>7.13</td>\n",
       "      <td>[['Books']]</td>\n",
       "      <td>{'Books': 141638}</td>\n",
       "    </tr>\n",
       "  </tbody>\n",
       "</table>\n",
       "</div>"
      ],
      "text/plain": [
       "    asin_book  asin_ebook              title  price   categories  \\\n",
       "0  0002008505  B002DYJ7DM  the space between   4.74  [['Books']]   \n",
       "1  0615891411  B002DYJ7DM  the space between   2.99  [['Books']]   \n",
       "2  1579660584  B002DYJ7DM  the space between  20.08  [['Books']]   \n",
       "3  1588515508  B002DYJ7DM  the space between    NaN  [['Books']]   \n",
       "4  1595143394  B002DYJ7DM  the space between   7.13  [['Books']]   \n",
       "\n",
       "            salesRank  \n",
       "0  {'Books': 5587764}  \n",
       "1  {'Books': 4145053}  \n",
       "2  {'Books': 2486827}  \n",
       "3  {'Books': 5985767}  \n",
       "4   {'Books': 141638}  "
      ]
     },
     "execution_count": 223,
     "metadata": {},
     "output_type": "execute_result"
    }
   ],
   "source": [
    "merged_metadatas.head()"
   ]
  },
  {
   "cell_type": "markdown",
   "metadata": {},
   "source": [
    "As we see, we have a bigger number of entries. We could have tried to increase this number, however as we will see later, we already have some problems with this 'strict' way of doing."
   ]
  },
  {
   "cell_type": "code",
   "execution_count": 22,
   "metadata": {},
   "outputs": [
    {
     "data": {
      "text/plain": [
       "1506"
      ]
     },
     "execution_count": 22,
     "metadata": {},
     "output_type": "execute_result"
    }
   ],
   "source": [
    "merged_metadatas.shape[0]"
   ]
  },
  {
   "cell_type": "markdown",
   "metadata": {},
   "source": [
    "So we have merged the two dataframes into one, and it seems that we can do some analysis on it. We have 1506 entries, so it's good for a first analysis in milestone 2 to do so.\n",
    "But, as said before, there are title duplicates. It corresponds to books (there is only one duplicate entry for ebooks, for the article 'Second Chances') that have the same title."
   ]
  },
  {
   "cell_type": "code",
   "execution_count": 23,
   "metadata": {},
   "outputs": [
    {
     "data": {
      "text/html": [
       "<div>\n",
       "<style scoped>\n",
       "    .dataframe tbody tr th:only-of-type {\n",
       "        vertical-align: middle;\n",
       "    }\n",
       "\n",
       "    .dataframe tbody tr th {\n",
       "        vertical-align: top;\n",
       "    }\n",
       "\n",
       "    .dataframe thead th {\n",
       "        text-align: right;\n",
       "    }\n",
       "</style>\n",
       "<table border=\"1\" class=\"dataframe\">\n",
       "  <thead>\n",
       "    <tr style=\"text-align: right;\">\n",
       "      <th></th>\n",
       "      <th>asin_book</th>\n",
       "      <th>asin_ebook</th>\n",
       "      <th>title</th>\n",
       "      <th>price</th>\n",
       "      <th>categories</th>\n",
       "      <th>salesRank</th>\n",
       "    </tr>\n",
       "  </thead>\n",
       "  <tbody>\n",
       "    <tr>\n",
       "      <th>0</th>\n",
       "      <td>0002008505</td>\n",
       "      <td>B002DYJ7DM</td>\n",
       "      <td>the space between</td>\n",
       "      <td>4.74</td>\n",
       "      <td>[['Books']]</td>\n",
       "      <td>{'Books': 5587764}</td>\n",
       "    </tr>\n",
       "    <tr>\n",
       "      <th>1</th>\n",
       "      <td>0615891411</td>\n",
       "      <td>B002DYJ7DM</td>\n",
       "      <td>the space between</td>\n",
       "      <td>2.99</td>\n",
       "      <td>[['Books']]</td>\n",
       "      <td>{'Books': 4145053}</td>\n",
       "    </tr>\n",
       "    <tr>\n",
       "      <th>2</th>\n",
       "      <td>1579660584</td>\n",
       "      <td>B002DYJ7DM</td>\n",
       "      <td>the space between</td>\n",
       "      <td>20.08</td>\n",
       "      <td>[['Books']]</td>\n",
       "      <td>{'Books': 2486827}</td>\n",
       "    </tr>\n",
       "    <tr>\n",
       "      <th>3</th>\n",
       "      <td>1588515508</td>\n",
       "      <td>B002DYJ7DM</td>\n",
       "      <td>the space between</td>\n",
       "      <td>NaN</td>\n",
       "      <td>[['Books']]</td>\n",
       "      <td>{'Books': 5985767}</td>\n",
       "    </tr>\n",
       "    <tr>\n",
       "      <th>4</th>\n",
       "      <td>1595143394</td>\n",
       "      <td>B002DYJ7DM</td>\n",
       "      <td>the space between</td>\n",
       "      <td>7.13</td>\n",
       "      <td>[['Books']]</td>\n",
       "      <td>{'Books': 141638}</td>\n",
       "    </tr>\n",
       "    <tr>\n",
       "      <th>5</th>\n",
       "      <td>1601540817</td>\n",
       "      <td>B002DYJ7DM</td>\n",
       "      <td>the space between</td>\n",
       "      <td>10.99</td>\n",
       "      <td>[['Books']]</td>\n",
       "      <td>{'Books': 11114107}</td>\n",
       "    </tr>\n",
       "    <tr>\n",
       "      <th>6</th>\n",
       "      <td>1625530226</td>\n",
       "      <td>B002DYJ7DM</td>\n",
       "      <td>the space between</td>\n",
       "      <td>6.99</td>\n",
       "      <td>[['Books']]</td>\n",
       "      <td>{'Books': 2678708}</td>\n",
       "    </tr>\n",
       "  </tbody>\n",
       "</table>\n",
       "</div>"
      ],
      "text/plain": [
       "    asin_book  asin_ebook              title  price   categories  \\\n",
       "0  0002008505  B002DYJ7DM  the space between   4.74  [['Books']]   \n",
       "1  0615891411  B002DYJ7DM  the space between   2.99  [['Books']]   \n",
       "2  1579660584  B002DYJ7DM  the space between  20.08  [['Books']]   \n",
       "3  1588515508  B002DYJ7DM  the space between    NaN  [['Books']]   \n",
       "4  1595143394  B002DYJ7DM  the space between   7.13  [['Books']]   \n",
       "5  1601540817  B002DYJ7DM  the space between  10.99  [['Books']]   \n",
       "6  1625530226  B002DYJ7DM  the space between   6.99  [['Books']]   \n",
       "\n",
       "             salesRank  \n",
       "0   {'Books': 5587764}  \n",
       "1   {'Books': 4145053}  \n",
       "2   {'Books': 2486827}  \n",
       "3   {'Books': 5985767}  \n",
       "4    {'Books': 141638}  \n",
       "5  {'Books': 11114107}  \n",
       "6   {'Books': 2678708}  "
      ]
     },
     "execution_count": 23,
     "metadata": {},
     "output_type": "execute_result"
    }
   ],
   "source": [
    "merged_metadatas.head(7)"
   ]
  },
  {
   "cell_type": "code",
   "execution_count": 24,
   "metadata": {},
   "outputs": [
    {
     "data": {
      "text/plain": [
       "count               2741\n",
       "unique              2739\n",
       "top       second chances\n",
       "freq                   2\n",
       "Name: title, dtype: object"
      ]
     },
     "execution_count": 24,
     "metadata": {},
     "output_type": "execute_result"
    }
   ],
   "source": [
    "ebooks_metadata.title.describe()"
   ]
  },
  {
   "cell_type": "markdown",
   "metadata": {},
   "source": [
    "We thus thought that we could consider only pairs that have a unique title in the whole dataframe. In that way, we only have articles that have a unique name, at least in the period in which the dataset has been created, so that we could only have exactly the same content for the book and the ebook. \n",
    "\n",
    "We thus drop all elements that have a title that exists more than one time in the dataframe.\n",
    "\n",
    "It's naive, as we don't have all books and ebooks of Amazon, even for the period given, but we wanted to try."
   ]
  },
  {
   "cell_type": "code",
   "execution_count": 25,
   "metadata": {},
   "outputs": [
    {
     "data": {
      "text/html": [
       "<div>\n",
       "<style scoped>\n",
       "    .dataframe tbody tr th:only-of-type {\n",
       "        vertical-align: middle;\n",
       "    }\n",
       "\n",
       "    .dataframe tbody tr th {\n",
       "        vertical-align: top;\n",
       "    }\n",
       "\n",
       "    .dataframe thead th {\n",
       "        text-align: right;\n",
       "    }\n",
       "</style>\n",
       "<table border=\"1\" class=\"dataframe\">\n",
       "  <thead>\n",
       "    <tr style=\"text-align: right;\">\n",
       "      <th></th>\n",
       "      <th>asin_book</th>\n",
       "      <th>asin_ebook</th>\n",
       "      <th>title</th>\n",
       "      <th>price</th>\n",
       "      <th>categories</th>\n",
       "      <th>salesRank</th>\n",
       "    </tr>\n",
       "  </thead>\n",
       "  <tbody>\n",
       "    <tr>\n",
       "      <th>39</th>\n",
       "      <td>0007269854</td>\n",
       "      <td>B003ZUY19I</td>\n",
       "      <td>the ice princess</td>\n",
       "      <td>7.59</td>\n",
       "      <td>[['Books']]</td>\n",
       "      <td>{'Books': 2527081}</td>\n",
       "    </tr>\n",
       "    <tr>\n",
       "      <th>95</th>\n",
       "      <td>0060517689</td>\n",
       "      <td>B0036ZAHDG</td>\n",
       "      <td>in the mood</td>\n",
       "      <td>2.99</td>\n",
       "      <td>[['Books']]</td>\n",
       "      <td>{'Books': 2663548}</td>\n",
       "    </tr>\n",
       "    <tr>\n",
       "      <th>121</th>\n",
       "      <td>0060595620</td>\n",
       "      <td>B00480P58K</td>\n",
       "      <td>the sweetest taboo</td>\n",
       "      <td>8.70</td>\n",
       "      <td>[['Books']]</td>\n",
       "      <td>{'Books': 2956119}</td>\n",
       "    </tr>\n",
       "    <tr>\n",
       "      <th>173</th>\n",
       "      <td>0060813032</td>\n",
       "      <td>B0049H8X86</td>\n",
       "      <td>dragons from the sea (the strongbow saga, book 2)</td>\n",
       "      <td>3.60</td>\n",
       "      <td>[['Books']]</td>\n",
       "      <td>{'Books': 1269204}</td>\n",
       "    </tr>\n",
       "    <tr>\n",
       "      <th>200</th>\n",
       "      <td>0061084220</td>\n",
       "      <td>B004QS98KU</td>\n",
       "      <td>raven's bride</td>\n",
       "      <td>7.69</td>\n",
       "      <td>[['Books']]</td>\n",
       "      <td>{'Books': 2911109}</td>\n",
       "    </tr>\n",
       "    <tr>\n",
       "      <th>460</th>\n",
       "      <td>0140249249</td>\n",
       "      <td>B003XVYGXK</td>\n",
       "      <td>iced</td>\n",
       "      <td>NaN</td>\n",
       "      <td>[['Books']]</td>\n",
       "      <td>{'Books': 1225702}</td>\n",
       "    </tr>\n",
       "    <tr>\n",
       "      <th>461</th>\n",
       "      <td>0140259678</td>\n",
       "      <td>B003C1R5CA</td>\n",
       "      <td>a timely death</td>\n",
       "      <td>NaN</td>\n",
       "      <td>[['Books']]</td>\n",
       "      <td>{'Books': 3077680}</td>\n",
       "    </tr>\n",
       "  </tbody>\n",
       "</table>\n",
       "</div>"
      ],
      "text/plain": [
       "      asin_book  asin_ebook  \\\n",
       "39   0007269854  B003ZUY19I   \n",
       "95   0060517689  B0036ZAHDG   \n",
       "121  0060595620  B00480P58K   \n",
       "173  0060813032  B0049H8X86   \n",
       "200  0061084220  B004QS98KU   \n",
       "460  0140249249  B003XVYGXK   \n",
       "461  0140259678  B003C1R5CA   \n",
       "\n",
       "                                                 title  price   categories  \\\n",
       "39                                    the ice princess   7.59  [['Books']]   \n",
       "95                                         in the mood   2.99  [['Books']]   \n",
       "121                                 the sweetest taboo   8.70  [['Books']]   \n",
       "173  dragons from the sea (the strongbow saga, book 2)   3.60  [['Books']]   \n",
       "200                                      raven's bride   7.69  [['Books']]   \n",
       "460                                               iced    NaN  [['Books']]   \n",
       "461                                     a timely death    NaN  [['Books']]   \n",
       "\n",
       "              salesRank  \n",
       "39   {'Books': 2527081}  \n",
       "95   {'Books': 2663548}  \n",
       "121  {'Books': 2956119}  \n",
       "173  {'Books': 1269204}  \n",
       "200  {'Books': 2911109}  \n",
       "460  {'Books': 1225702}  \n",
       "461  {'Books': 3077680}  "
      ]
     },
     "execution_count": 25,
     "metadata": {},
     "output_type": "execute_result"
    }
   ],
   "source": [
    "merged_metadatas = merged_metadatas.drop_duplicates('title',keep=False)\n",
    "merged_metadatas.head(7)"
   ]
  },
  {
   "cell_type": "markdown",
   "metadata": {},
   "source": [
    "We now only have 148 elements in the merged collection. We reming the reader about the fact that we tried to obtain 4000 ebooks titles, we got only 2741. By merging, we got 1506 entries, and when we drop all elements that have duplicates, we only have 148 elements."
   ]
  },
  {
   "cell_type": "code",
   "execution_count": 26,
   "metadata": {},
   "outputs": [
    {
     "data": {
      "text/plain": [
       "148"
      ]
     },
     "execution_count": 26,
     "metadata": {},
     "output_type": "execute_result"
    }
   ],
   "source": [
    "merged_metadatas.shape[0]"
   ]
  },
  {
   "cell_type": "markdown",
   "metadata": {},
   "source": [
    "After some manual analysis, we have unfortunately seen that for most entries, even if there is only one tuple (asin_book, asin_ebook), the two are not on the same content. We have an example for the first entry (the ice princess) : 'https://www.amazon.com/Princess-Patrik-Hedstrom-Erica-Falck/dp/0007269854' and 'https://www.amazon.com/Ice-Princess-Elizabeth-Hoyt-ebook/dp/B003ZUY19I' have the same title but are written by two different people, and have different content.\n",
    "\n",
    "There are some tuples that match : for the article 'dragons from the sea (the strongbow saga, book 2)', we have the same content.\n",
    "\n",
    "It's hard for us to quantify the number of such articles that do not match. We have done some by hand, and we have seen that a lot was not matching at all. A way to have good matches automatically could be to obtain the authors. We think that for the same author, it's rare to have two book with the same name. If we forget a minute about problems like the number of authors which is different for the ebook and the book even if it's the same, or different naming conventions (A fictive example : J. F. Brown or J. Brown), we would need the author information for each book and ebook of the tuples that we have merged.\n",
    "\n",
    "The website we were <a href='http://asindb.com/'>using</a> does not provide this information. We then need to obtain it from somewhere else. \n",
    "\n",
    "We have tried to look at the library genesis, using this <a href='http://garbage.world/posts/libgen/'>tutorial</a>. However, there are only two ways to get back information about a book : using a special id (Libgen id), or by date. Furthermore, the asin field exists, but after some tests for which none of the articles had asin, it's hard to say if it's a good option. Thus, we have thought it's not the best solution for us.\n",
    "\n",
    "We have also been told to look at the Gutenberg project. It could have been a good idea if we could search by asin in the metadatas, that are available. However, it seems that the asin data is not available, so we won't use it neither."
   ]
  },
  {
   "cell_type": "code",
   "execution_count": 27,
   "metadata": {},
   "outputs": [
    {
     "data": {
      "text/plain": [
       "array(['B000F83SZQ', 'B000FA64PA', 'B000FA64PK', ..., 'B00M029T4O',\n",
       "       'B00M0RE7CS', 'B00M13FNSS'], dtype=object)"
      ]
     },
     "execution_count": 27,
     "metadata": {},
     "output_type": "execute_result"
    }
   ],
   "source": [
    "ebooks_asin_unique"
   ]
  },
  {
   "cell_type": "code",
   "execution_count": 7,
   "metadata": {
    "collapsed": true
   },
   "outputs": [],
   "source": [
    "import bottlenose"
   ]
  },
  {
   "cell_type": "markdown",
   "metadata": {},
   "source": [
    "AWS_ACCESS_KEY_ID, AWS_SECRET_ACCESS_KEY, AWS_ASSOCIATE_TAG = pickle.load(open('amazon_access_epfl_new.txt', \"rb\"))"
   ]
  },
  {
   "cell_type": "code",
   "execution_count": 8,
   "metadata": {
    "collapsed": true
   },
   "outputs": [],
   "source": [
    "(AWS_ACCESS_KEY_ID,AWS_SECRET_ACCESS_KEY,AWS_ASSOCIATE_TAG) = pd.read_csv('amazon_keys.csv', header=None, usecols=[1]).values.flatten()"
   ]
  },
  {
   "cell_type": "code",
   "execution_count": 9,
   "metadata": {
    "collapsed": true
   },
   "outputs": [],
   "source": [
    "import random\n",
    "import time\n",
    "from urllib.error import HTTPError\n",
    "\n",
    "def error_handler(err):\n",
    "    ex = err['exception']\n",
    "    if isinstance(ex, HTTPError) and ex.code == 503:\n",
    "        time.sleep(random.expovariate(0.1))\n",
    "        return True"
   ]
  },
  {
   "cell_type": "code",
   "execution_count": 10,
   "metadata": {
    "collapsed": true
   },
   "outputs": [],
   "source": [
    "amazon = bottlenose.Amazon(AWS_ACCESS_KEY_ID, AWS_SECRET_ACCESS_KEY, AWS_ASSOCIATE_TAG, ErrorHandler=error_handler)"
   ]
  },
  {
   "cell_type": "code",
   "execution_count": 11,
   "metadata": {
    "collapsed": true
   },
   "outputs": [],
   "source": [
    "books_asin_unique = pd.read_csv('books_asin.csv',usecols=[1]).asin.unique()"
   ]
  },
  {
   "cell_type": "code",
   "execution_count": 14,
   "metadata": {},
   "outputs": [
    {
     "data": {
      "text/plain": [
       "367982"
      ]
     },
     "execution_count": 14,
     "metadata": {},
     "output_type": "execute_result"
    }
   ],
   "source": [
    "len(books_asin_unique)"
   ]
  },
  {
   "cell_type": "code",
   "execution_count": 12,
   "metadata": {
    "collapsed": true
   },
   "outputs": [],
   "source": [
    "BEGIN = 367950\n",
    "END = 400000\n",
    "SIMULTANEOUS_REQUESTS = 10\n",
    "STEP = 50\n",
    "override = False"
   ]
  },
  {
   "cell_type": "markdown",
   "metadata": {},
   "source": [
    "There are entries that are still not available through the Advertising API : B000FC26RI\n",
    "\n",
    "Also newspaper don't comply to this contract of authors : The Wall Street Journal (B000FDJ0FS)"
   ]
  },
  {
   "cell_type": "code",
   "execution_count": 13,
   "metadata": {
    "collapsed": true
   },
   "outputs": [],
   "source": [
    "dataframe_books = pd.DataFrame(columns=['title', 'authors', 'manufacturer'])\n",
    "dataframe_undefined = pd.DataFrame(columns=['title', 'authors', 'manufacturer'])\n",
    "log = pd.Series()\n",
    "\n",
    "if(override):\n",
    "    dataframe_books.to_csv(amazon_aws_books)\n",
    "    dataframe_undefined.to_csv(amazon_aws_books_undefined)\n",
    "    log.to_csv(amazon_aws_books_log)\n",
    "\n",
    "books_simultaneous_list = []\n",
    "\n",
    "for i, book_asin in enumerate(books_asin_unique[BEGIN:END]):\n",
    "    books_simultaneous_list += [book_asin]\n",
    "    \n",
    "    if i>0 and i%SIMULTANEOUS_REQUESTS == 0:\n",
    "        keys = ','.join(books_simultaneous_list)\n",
    "        books_simultaneous_list = []\n",
    "        if i%STEP==0 and i > 0:\n",
    "            print(i+BEGIN)\n",
    "            dataframe_books[['title', 'authors', 'manufacturer']].to_csv(amazon_aws_books, header=False,mode='a')\n",
    "            dataframe_books = pd.DataFrame(columns=['title', 'authors', 'manufacturer'])\n",
    "\n",
    "            dataframe_undefined[['title', 'authors', 'manufacturer']].to_csv(amazon_aws_books_undefined, header=False,mode='a')\n",
    "            dataframe_undefined = pd.DataFrame(columns=['title', 'authors', 'manufacturer'])\n",
    "\n",
    "            log.to_csv(amazon_aws_books_log, header=False,mode='a')\n",
    "            log = pd.Series()\n",
    "\n",
    "        response = amazon.ItemLookup(ItemId=keys)\n",
    "        soup = BeautifulSoup(response, 'html.parser')\n",
    "        \n",
    "        items = soup.find_all('item')\n",
    "        for item in items:\n",
    "            all_important_defined = True\n",
    "            authors_retrieved = []\n",
    "            \n",
    "            asins = item.find_all('asin')\n",
    "            if(len(asins) != 0):\n",
    "                asin_retrieved = asins[0].text.strip()\n",
    "            else:\n",
    "                asin_retrieved = ''\n",
    "                all_important_defined = False\n",
    "\n",
    "            titles = item.find_all('title')\n",
    "            if(len(titles) != 0):\n",
    "                title_retrieved = titles[0].text.strip()\n",
    "            else:\n",
    "                title_retrieved = ''\n",
    "                all_important_defined = False\n",
    "\n",
    "            manufacturers = item.find_all('manufacturer')\n",
    "            if(len(manufacturers) != 0):\n",
    "                manufacturer_retrieved = manufacturers[0].text.strip()\n",
    "            else:\n",
    "                manufacturer_retrieved = ''\n",
    "\n",
    "            authors = item.find_all('author')\n",
    "            if(len(authors) != 0):\n",
    "                for author in authors:\n",
    "                    authors_retrieved += [author.text.strip()]\n",
    "            else:\n",
    "                authors_retrieved = []\n",
    "                all_important_defined = False\n",
    "\n",
    "            new_entry = pd.DataFrame({'title':title_retrieved,'authors':\", \".join(authors_retrieved), 'manufacturer':manufacturer_retrieved},index=[asin_retrieved])\n",
    "            if(all_important_defined):\n",
    "                dataframe_books = dataframe_books.append(new_entry)\n",
    "            else:\n",
    "                dataframe_undefined = dataframe_undefined.append(new_entry)\n",
    "                log = log.append(pd.Series(item.prettify()))\n",
    "\n",
    "dataframe_books[['title', 'authors', 'manufacturer']].to_csv(amazon_aws_books, header=False,mode='a')\n",
    "dataframe_undefined[['title', 'authors', 'manufacturer']].to_csv(amazon_aws_books_undefined, header=False,mode='a')\n",
    "log.to_csv(amazon_aws_books_log, header=False,mode='a')"
   ]
  },
  {
   "cell_type": "markdown",
   "metadata": {},
   "source": [
    "dataframe_ebooks = pd.DataFrame(columns=['title', 'authors', 'manufacturer'])\n",
    "dataframe_undefined = pd.DataFrame(columns=['title', 'authors', 'manufacturer'])\n",
    "log = pd.Series()\n",
    "\n",
    "if(override):\n",
    "    dataframe_ebooks.to_csv(amazon_aws_ebooks)\n",
    "    dataframe_undefined.to_csv(amazon_aws_ebooks_undefined)\n",
    "    log.to_csv(amazon_aws_ebooks_log)\n",
    "\n",
    "for i, ebook_asin in enumerate(ebooks_asin_unique[BEGIN:END]):\n",
    "    \n",
    "    if i%STEP==0:\n",
    "        if i > 0:\n",
    "            print(i+BEGIN)\n",
    "            dataframe_ebooks[['title', 'authors', 'manufacturer']].to_csv(amazon_aws_ebooks, header=False,mode='a')\n",
    "            dataframe_ebooks = pd.DataFrame(columns=['title', 'authors', 'manufacturer'])\n",
    "            \n",
    "            dataframe_undefined[['title', 'authors', 'manufacturer']].to_csv(amazon_aws_ebooks_undefined, header=False,mode='a')\n",
    "            dataframe_undefined = pd.DataFrame(columns=['title', 'authors', 'manufacturer'])\n",
    "            \n",
    "            log.to_csv(amazon_aws_ebooks_log, header=False,mode='a')\n",
    "            log = pd.Series()\n",
    "            \n",
    "    all_important_defined = True\n",
    "    \n",
    "    response = amazon.ItemLookup(ItemId=ebook_asin)\n",
    "    soup = BeautifulSoup(response, 'html.parser')\n",
    "\n",
    "    authors_retrieved = []\n",
    "\n",
    "    titles = soup.find_all('title')\n",
    "    if(len(titles) != 0):\n",
    "        title_retrieved = titles[0].text.strip()\n",
    "    else:\n",
    "        title_retrieved = ''\n",
    "        all_important_defined = False\n",
    "\n",
    "    manufacturers = soup.find_all('manufacturer')\n",
    "    if(len(manufacturers) != 0):\n",
    "        manufacturer_retrieved = manufacturers[0].text.strip()\n",
    "    else:\n",
    "        manufacturer_retrieved = ''\n",
    "\n",
    "    authors = soup.find_all('author')\n",
    "    if(len(authors) != 0):\n",
    "        for author in authors:\n",
    "            authors_retrieved += [author.text.strip()]\n",
    "    else:\n",
    "        authors_retrieved = []\n",
    "        all_important_defined = False\n",
    "\n",
    "    new_entry = pd.DataFrame({'title':title_retrieved,'authors':\", \".join(authors_retrieved), 'manufacturer':manufacturer_retrieved},index=[ebook_asin])\n",
    "    if(all_important_defined):\n",
    "        dataframe_ebooks = dataframe_ebooks.append(new_entry)\n",
    "    else:\n",
    "        dataframe_undefined = dataframe_undefined.append(new_entry)\n",
    "        log = log.append(pd.Series(soup.prettify()))\n",
    "\n",
    "dataframe_ebooks[['title', 'authors', 'manufacturer']].to_csv(amazon_aws_ebooks, header=False,mode='a')\n",
    "dataframe_undefined[['title', 'authors', 'manufacturer']].to_csv(amazon_aws_ebooks_undefined, header=False,mode='a')\n",
    "log.to_csv(amazon_aws_ebooks_log, header=False,mode='a')"
   ]
  },
  {
   "cell_type": "markdown",
   "metadata": {},
   "source": [
    "-- --\n",
    "## Review analysis"
   ]
  },
  {
   "cell_type": "markdown",
   "metadata": {},
   "source": [
    "Even if we have some problems that will need to be fixed for the milestone 3, we have continued in the analysis. Of course we had to test with wrong data, but we will ensure that in the future, we will make it work on correct data (one with same author and title for books and ebooks). The code is here to show that we have worked on other steps of the pipeline."
   ]
  },
  {
   "cell_type": "code",
   "execution_count": 131,
   "metadata": {},
   "outputs": [
    {
     "name": "stderr",
     "output_type": "stream",
     "text": [
      "//anaconda/lib/python3.5/site-packages/nltk/twitter/__init__.py:20: UserWarning: The twython library has not been installed. Some functionality from the twitter package will not be available.\n",
      "  warnings.warn(\"The twython library has not been installed. \"\n"
     ]
    }
   ],
   "source": [
    "import nltk\n",
    "from nltk.sentiment.vader import SentimentIntensityAnalyzer"
   ]
  },
  {
   "cell_type": "markdown",
   "metadata": {},
   "source": [
    "Here you will need to uncomment this and download vader_lexicon as described in the README."
   ]
  },
  {
   "cell_type": "code",
   "execution_count": 4,
   "metadata": {
    "collapsed": true
   },
   "outputs": [],
   "source": [
    "#nltk.download_shell()"
   ]
  },
  {
   "cell_type": "code",
   "execution_count": 124,
   "metadata": {
    "collapsed": true
   },
   "outputs": [],
   "source": [
    "import findspark\n",
    "findspark.init()\n",
    "import pyspark\n",
    "sc = pyspark.SparkContext(appName=\"Pi\")\n",
    "from pyspark.sql import SQLContext\n",
    "sqlContext = SQLContext(sc)"
   ]
  },
  {
   "cell_type": "code",
   "execution_count": 125,
   "metadata": {
    "collapsed": true
   },
   "outputs": [],
   "source": [
    "from pyspark.sql.functions import udf, array, col\n",
    "import pyspark.sql.functions as F\n",
    "import pyspark.sql.types as T"
   ]
  },
  {
   "cell_type": "markdown",
   "metadata": {},
   "source": [
    "Next we are going to fetch the reviews of the books for which we have the ebooks.\n",
    "\n",
    "As the file for the reviews of the books is quite big, we are going the read it into chunks."
   ]
  },
  {
   "cell_type": "code",
   "execution_count": 126,
   "metadata": {
    "collapsed": true
   },
   "outputs": [],
   "source": [
    "def find_matched(list_asins, in_path, out_path):\n",
    "    pd.DataFrame(columns=[['asin','overall', 'summary', 'reviewerID', 'helpful','reviewText', 'reviewerName']]).to_csv(out_path)\n",
    "    \n",
    "    for chunk in pd.read_json(in_path, lines=True, chunksize=50000):\n",
    "        \n",
    "        # look if some asins of the chunk match the ones in the given list\n",
    "        filtered = chunk[chunk['asin'].isin(list_asins)].dropna(how='all')\n",
    "        \n",
    "        if len(filtered) > 0:\n",
    "            # write the data if any\n",
    "            filtered[['asin','overall', 'summary', 'reviewerID', 'helpful','reviewText', 'reviewerName']].to_csv(out_path,header=False, mode='a')\n"
   ]
  },
  {
   "cell_type": "code",
   "execution_count": 8,
   "metadata": {
    "collapsed": true
   },
   "outputs": [],
   "source": [
    "if WRITE_FIND_MATCHED:\n",
    "    find_matched(merged_metadatas['asin_book'].values, books_5core_path, matched_books_path)\n",
    "    find_matched(merged_metadatas['asin_ebook'].values, kindle_5core_path, matched_ebooks_path)"
   ]
  },
  {
   "cell_type": "markdown",
   "metadata": {},
   "source": [
    "### Working with the new dataset"
   ]
  },
  {
   "cell_type": "code",
   "execution_count": 53,
   "metadata": {},
   "outputs": [
    {
     "name": "stdout",
     "output_type": "stream",
     "text": [
      "49020\n",
      "326418\n"
     ]
    }
   ],
   "source": [
    "ebooks_metadata = pd.read_csv('ebooks_metadata_amazon.csv')\n",
    "#ebooks_metadata.columns=['asin_e', 'title_e', 'authors_e', 'manufacturer_e']\n",
    "\n",
    "# merging the two files to obtain the dataset for the books\n",
    "yves = pd.read_csv('books_metadata_amazon_Y.csv', encoding='latin1')\n",
    "yves.columns=['asin', 'title', 'authors', 'manufacturer']\n",
    "pa = pd.read_csv('books_metadata_amazon_p.csv', header=None)\n",
    "pa.columns=['asin', 'title', 'authors', 'manufacturer']\n",
    "\n",
    "books_metadata = pd.concat([yves, pa], axis=0)\n",
    "#books_metadata.columns=['asin_b', 'title_b', 'authors_b', 'manufacturer_b']\n",
    "\n",
    "# remove the duplicated entries\n",
    "ebooks = ebooks_metadata.copy().set_index('title')\n",
    "print(len(ebooks))\n",
    "ebooks = ebooks[~ebooks.index.duplicated()]\n",
    "\n",
    "books = books_metadata.copy().set_index('title')\n",
    "print(len(books))\n",
    "books = books[~books.index.duplicated()]\n"
   ]
  },
  {
   "cell_type": "code",
   "execution_count": 8,
   "metadata": {},
   "outputs": [
    {
     "data": {
      "text/html": [
       "<div>\n",
       "<style scoped>\n",
       "    .dataframe tbody tr th:only-of-type {\n",
       "        vertical-align: middle;\n",
       "    }\n",
       "\n",
       "    .dataframe tbody tr th {\n",
       "        vertical-align: top;\n",
       "    }\n",
       "\n",
       "    .dataframe thead th {\n",
       "        text-align: right;\n",
       "    }\n",
       "</style>\n",
       "<table border=\"1\" class=\"dataframe\">\n",
       "  <thead>\n",
       "    <tr style=\"text-align: right;\">\n",
       "      <th></th>\n",
       "      <th>Unnamed: 0</th>\n",
       "      <th>title</th>\n",
       "      <th>authors</th>\n",
       "      <th>manufacturer</th>\n",
       "      <th>rank</th>\n",
       "      <th>price</th>\n",
       "      <th>currency</th>\n",
       "      <th>reldate</th>\n",
       "      <th>page</th>\n",
       "      <th>language</th>\n",
       "    </tr>\n",
       "  </thead>\n",
       "  <tbody>\n",
       "    <tr>\n",
       "      <th>0</th>\n",
       "      <td>B000JMKNQ0</td>\n",
       "      <td>Boba Fett: A Practical Man: Star Wars Legends ...</td>\n",
       "      <td>Karen Traviss</td>\n",
       "      <td>Del Rey</td>\n",
       "      <td>250846.0</td>\n",
       "      <td>NaN</td>\n",
       "      <td>NaN</td>\n",
       "      <td>2006-08-08</td>\n",
       "      <td>104.0</td>\n",
       "      <td>English</td>\n",
       "    </tr>\n",
       "    <tr>\n",
       "      <th>1</th>\n",
       "      <td>B000JMLBHU</td>\n",
       "      <td>The Mysterious Island</td>\n",
       "      <td>Jules Verne</td>\n",
       "      <td>Public Domain Books</td>\n",
       "      <td>NaN</td>\n",
       "      <td>NaN</td>\n",
       "      <td>NaN</td>\n",
       "      <td>1998-04-01</td>\n",
       "      <td>516.0</td>\n",
       "      <td>English</td>\n",
       "    </tr>\n",
       "    <tr>\n",
       "      <th>2</th>\n",
       "      <td>B000JMLG4S</td>\n",
       "      <td>Knots, Splices and Rope Work A Practical Treatise</td>\n",
       "      <td>A.(Alpheus) Hyatt Verrill</td>\n",
       "      <td>Public Domain Books</td>\n",
       "      <td>NaN</td>\n",
       "      <td>NaN</td>\n",
       "      <td>NaN</td>\n",
       "      <td>2004-09-21</td>\n",
       "      <td>47.0</td>\n",
       "      <td>English</td>\n",
       "    </tr>\n",
       "    <tr>\n",
       "      <th>3</th>\n",
       "      <td>B000JMLHYC</td>\n",
       "      <td>The English Orphans</td>\n",
       "      <td>Mary Jane Holmes</td>\n",
       "      <td>Public Domain Books</td>\n",
       "      <td>NaN</td>\n",
       "      <td>NaN</td>\n",
       "      <td>NaN</td>\n",
       "      <td>2004-10-26</td>\n",
       "      <td>290.0</td>\n",
       "      <td>English</td>\n",
       "    </tr>\n",
       "    <tr>\n",
       "      <th>4</th>\n",
       "      <td>B000JQUSBQ</td>\n",
       "      <td>Indian Fairy Tales</td>\n",
       "      <td>Public Domain Books</td>\n",
       "      <td>Public Domain Books</td>\n",
       "      <td>NaN</td>\n",
       "      <td>NaN</td>\n",
       "      <td>NaN</td>\n",
       "      <td>2004-12-01</td>\n",
       "      <td>184.0</td>\n",
       "      <td>English</td>\n",
       "    </tr>\n",
       "  </tbody>\n",
       "</table>\n",
       "</div>"
      ],
      "text/plain": [
       "   Unnamed: 0                                              title  \\\n",
       "0  B000JMKNQ0  Boba Fett: A Practical Man: Star Wars Legends ...   \n",
       "1  B000JMLBHU                              The Mysterious Island   \n",
       "2  B000JMLG4S  Knots, Splices and Rope Work A Practical Treatise   \n",
       "3  B000JMLHYC                                The English Orphans   \n",
       "4  B000JQUSBQ                                 Indian Fairy Tales   \n",
       "\n",
       "                     authors         manufacturer      rank  price currency  \\\n",
       "0              Karen Traviss              Del Rey  250846.0    NaN      NaN   \n",
       "1                Jules Verne  Public Domain Books       NaN    NaN      NaN   \n",
       "2  A.(Alpheus) Hyatt Verrill  Public Domain Books       NaN    NaN      NaN   \n",
       "3           Mary Jane Holmes  Public Domain Books       NaN    NaN      NaN   \n",
       "4        Public Domain Books  Public Domain Books       NaN    NaN      NaN   \n",
       "\n",
       "      reldate   page language  \n",
       "0  2006-08-08  104.0  English  \n",
       "1  1998-04-01  516.0  English  \n",
       "2  2004-09-21   47.0  English  \n",
       "3  2004-10-26  290.0  English  \n",
       "4  2004-12-01  184.0  English  "
      ]
     },
     "execution_count": 8,
     "metadata": {},
     "output_type": "execute_result"
    }
   ],
   "source": [
    "ebooks_metadata.head()"
   ]
  },
  {
   "cell_type": "code",
   "execution_count": 91,
   "metadata": {},
   "outputs": [
    {
     "data": {
      "text/plain": [
       "271659"
      ]
     },
     "execution_count": 91,
     "metadata": {},
     "output_type": "execute_result"
    }
   ],
   "source": [
    "len(yves)"
   ]
  },
  {
   "cell_type": "code",
   "execution_count": 92,
   "metadata": {},
   "outputs": [
    {
     "data": {
      "text/plain": [
       "54759"
      ]
     },
     "execution_count": 92,
     "metadata": {},
     "output_type": "execute_result"
    }
   ],
   "source": [
    "len(pa)"
   ]
  },
  {
   "cell_type": "code",
   "execution_count": 89,
   "metadata": {},
   "outputs": [
    {
     "data": {
      "text/plain": [
       "317480"
      ]
     },
     "execution_count": 89,
     "metadata": {},
     "output_type": "execute_result"
    }
   ],
   "source": [
    "len(books)"
   ]
  },
  {
   "cell_type": "code",
   "execution_count": 90,
   "metadata": {},
   "outputs": [
    {
     "data": {
      "text/plain": [
       "48751"
      ]
     },
     "execution_count": 90,
     "metadata": {},
     "output_type": "execute_result"
    }
   ],
   "source": [
    "len(ebooks)"
   ]
  },
  {
   "cell_type": "markdown",
   "metadata": {},
   "source": [
    "#### Duplicate the books with mutiple authors\n",
    "create a new entry with each of the authors who colaborated"
   ]
  },
  {
   "cell_type": "code",
   "execution_count": 23,
   "metadata": {},
   "outputs": [
    {
     "data": {
      "text/html": [
       "<div>\n",
       "<style scoped>\n",
       "    .dataframe tbody tr th:only-of-type {\n",
       "        vertical-align: middle;\n",
       "    }\n",
       "\n",
       "    .dataframe tbody tr th {\n",
       "        vertical-align: top;\n",
       "    }\n",
       "\n",
       "    .dataframe thead th {\n",
       "        text-align: right;\n",
       "    }\n",
       "</style>\n",
       "<table border=\"1\" class=\"dataframe\">\n",
       "  <thead>\n",
       "    <tr style=\"text-align: right;\">\n",
       "      <th></th>\n",
       "      <th>Unnamed: 0</th>\n",
       "      <th>authors</th>\n",
       "      <th>manufacturer</th>\n",
       "      <th>rank</th>\n",
       "      <th>price</th>\n",
       "      <th>currency</th>\n",
       "      <th>reldate</th>\n",
       "      <th>page</th>\n",
       "      <th>language</th>\n",
       "    </tr>\n",
       "    <tr>\n",
       "      <th>title</th>\n",
       "      <th></th>\n",
       "      <th></th>\n",
       "      <th></th>\n",
       "      <th></th>\n",
       "      <th></th>\n",
       "      <th></th>\n",
       "      <th></th>\n",
       "      <th></th>\n",
       "      <th></th>\n",
       "    </tr>\n",
       "  </thead>\n",
       "  <tbody>\n",
       "    <tr>\n",
       "      <th>Boba Fett: A Practical Man: Star Wars Legends (Short Story) (Star Wars - Legends)</th>\n",
       "      <td>B000JMKNQ0</td>\n",
       "      <td>Karen Traviss</td>\n",
       "      <td>Del Rey</td>\n",
       "      <td>250846.0</td>\n",
       "      <td>NaN</td>\n",
       "      <td>NaN</td>\n",
       "      <td>2006-08-08</td>\n",
       "      <td>104.0</td>\n",
       "      <td>English</td>\n",
       "    </tr>\n",
       "    <tr>\n",
       "      <th>The Mysterious Island</th>\n",
       "      <td>B000JMLBHU</td>\n",
       "      <td>Jules Verne</td>\n",
       "      <td>Public Domain Books</td>\n",
       "      <td>NaN</td>\n",
       "      <td>NaN</td>\n",
       "      <td>NaN</td>\n",
       "      <td>1998-04-01</td>\n",
       "      <td>516.0</td>\n",
       "      <td>English</td>\n",
       "    </tr>\n",
       "    <tr>\n",
       "      <th>Knots, Splices and Rope Work A Practical Treatise</th>\n",
       "      <td>B000JMLG4S</td>\n",
       "      <td>A.(Alpheus) Hyatt Verrill</td>\n",
       "      <td>Public Domain Books</td>\n",
       "      <td>NaN</td>\n",
       "      <td>NaN</td>\n",
       "      <td>NaN</td>\n",
       "      <td>2004-09-21</td>\n",
       "      <td>47.0</td>\n",
       "      <td>English</td>\n",
       "    </tr>\n",
       "    <tr>\n",
       "      <th>The English Orphans</th>\n",
       "      <td>B000JMLHYC</td>\n",
       "      <td>Mary Jane Holmes</td>\n",
       "      <td>Public Domain Books</td>\n",
       "      <td>NaN</td>\n",
       "      <td>NaN</td>\n",
       "      <td>NaN</td>\n",
       "      <td>2004-10-26</td>\n",
       "      <td>290.0</td>\n",
       "      <td>English</td>\n",
       "    </tr>\n",
       "    <tr>\n",
       "      <th>Indian Fairy Tales</th>\n",
       "      <td>B000JQUSBQ</td>\n",
       "      <td>Public Domain Books</td>\n",
       "      <td>Public Domain Books</td>\n",
       "      <td>NaN</td>\n",
       "      <td>NaN</td>\n",
       "      <td>NaN</td>\n",
       "      <td>2004-12-01</td>\n",
       "      <td>184.0</td>\n",
       "      <td>English</td>\n",
       "    </tr>\n",
       "  </tbody>\n",
       "</table>\n",
       "</div>"
      ],
      "text/plain": [
       "                                                    Unnamed: 0  \\\n",
       "title                                                            \n",
       "Boba Fett: A Practical Man: Star Wars Legends (...  B000JMKNQ0   \n",
       "The Mysterious Island                               B000JMLBHU   \n",
       "Knots, Splices and Rope Work A Practical Treatise   B000JMLG4S   \n",
       "The English Orphans                                 B000JMLHYC   \n",
       "Indian Fairy Tales                                  B000JQUSBQ   \n",
       "\n",
       "                                                                      authors  \\\n",
       "title                                                                           \n",
       "Boba Fett: A Practical Man: Star Wars Legends (...              Karen Traviss   \n",
       "The Mysterious Island                                             Jules Verne   \n",
       "Knots, Splices and Rope Work A Practical Treatise   A.(Alpheus) Hyatt Verrill   \n",
       "The English Orphans                                          Mary Jane Holmes   \n",
       "Indian Fairy Tales                                        Public Domain Books   \n",
       "\n",
       "                                                           manufacturer  \\\n",
       "title                                                                     \n",
       "Boba Fett: A Practical Man: Star Wars Legends (...              Del Rey   \n",
       "The Mysterious Island                               Public Domain Books   \n",
       "Knots, Splices and Rope Work A Practical Treatise   Public Domain Books   \n",
       "The English Orphans                                 Public Domain Books   \n",
       "Indian Fairy Tales                                  Public Domain Books   \n",
       "\n",
       "                                                        rank  price currency  \\\n",
       "title                                                                          \n",
       "Boba Fett: A Practical Man: Star Wars Legends (...  250846.0    NaN      NaN   \n",
       "The Mysterious Island                                    NaN    NaN      NaN   \n",
       "Knots, Splices and Rope Work A Practical Treatise        NaN    NaN      NaN   \n",
       "The English Orphans                                      NaN    NaN      NaN   \n",
       "Indian Fairy Tales                                       NaN    NaN      NaN   \n",
       "\n",
       "                                                       reldate   page language  \n",
       "title                                                                           \n",
       "Boba Fett: A Practical Man: Star Wars Legends (...  2006-08-08  104.0  English  \n",
       "The Mysterious Island                               1998-04-01  516.0  English  \n",
       "Knots, Splices and Rope Work A Practical Treatise   2004-09-21   47.0  English  \n",
       "The English Orphans                                 2004-10-26  290.0  English  \n",
       "Indian Fairy Tales                                  2004-12-01  184.0  English  "
      ]
     },
     "execution_count": 23,
     "metadata": {},
     "output_type": "execute_result"
    }
   ],
   "source": [
    "ebooks.head()"
   ]
  },
  {
   "cell_type": "code",
   "execution_count": 42,
   "metadata": {
    "collapsed": true
   },
   "outputs": [],
   "source": [
    "def extract_multiple_authors(data):\n",
    "    mask = data['authors'].astype(str).apply(lambda x: len(x.split(', ')) > 1)\n",
    "    one_author = data[~mask].copy()\n",
    "    more_author = data[mask].reset_index()\n",
    "    \n",
    "    for i in more_author.index:\n",
    "        line = more_author.iloc[i]\n",
    "        authors = line['authors']\n",
    "        list_authors = authors.split(', ')\n",
    "        new_line = line.copy()\n",
    "        for author in list_authors:\n",
    "            new_line['authors'] = author\n",
    "            one_author = one_author.append(new_line)\n",
    "         \n",
    "    return one_author"
   ]
  },
  {
   "cell_type": "code",
   "execution_count": 47,
   "metadata": {
    "collapsed": true
   },
   "outputs": [],
   "source": [
    "if WRITE_FLAT_AUTHORS:\n",
    "    books_extra = extract_multiple_authors(books)\n",
    "    books_extra.to_csv('books_flat_authors.csv')"
   ]
  },
  {
   "cell_type": "code",
   "execution_count": 45,
   "metadata": {
    "collapsed": true
   },
   "outputs": [],
   "source": [
    "if WRITE_FLAT_AUTHORS:\n",
    "    ebooks_extra = extract_multiple_authors(ebooks)\n",
    "    ebooks_extra.to_csv('ebooks_flat_authors.csv')"
   ]
  },
  {
   "cell_type": "code",
   "execution_count": 44,
   "metadata": {
    "scrolled": true
   },
   "outputs": [
    {
     "data": {
      "text/html": [
       "<div>\n",
       "<style scoped>\n",
       "    .dataframe tbody tr th:only-of-type {\n",
       "        vertical-align: middle;\n",
       "    }\n",
       "\n",
       "    .dataframe tbody tr th {\n",
       "        vertical-align: top;\n",
       "    }\n",
       "\n",
       "    .dataframe thead th {\n",
       "        text-align: right;\n",
       "    }\n",
       "</style>\n",
       "<table border=\"1\" class=\"dataframe\">\n",
       "  <thead>\n",
       "    <tr style=\"text-align: right;\">\n",
       "      <th></th>\n",
       "      <th>asin</th>\n",
       "      <th>authors</th>\n",
       "      <th>manufacturer</th>\n",
       "      <th>title</th>\n",
       "    </tr>\n",
       "    <tr>\n",
       "      <th>title</th>\n",
       "      <th></th>\n",
       "      <th></th>\n",
       "      <th></th>\n",
       "      <th></th>\n",
       "    </tr>\n",
       "  </thead>\n",
       "  <tbody>\n",
       "    <tr>\n",
       "      <th>0</th>\n",
       "      <td>000171287X</td>\n",
       "      <td>Stan Berenstain</td>\n",
       "      <td>HarperCollins Children's Books</td>\n",
       "      <td>The Berenstains' B Book (Bright &amp; Early Books)</td>\n",
       "    </tr>\n",
       "    <tr>\n",
       "      <th>0</th>\n",
       "      <td>000171287X</td>\n",
       "      <td>Jan Berenstain</td>\n",
       "      <td>HarperCollins Children's Books</td>\n",
       "      <td>The Berenstains' B Book (Bright &amp; Early Books)</td>\n",
       "    </tr>\n",
       "    <tr>\n",
       "      <th>1</th>\n",
       "      <td>0060573813</td>\n",
       "      <td>Stan Berenstain</td>\n",
       "      <td>HarperFestival</td>\n",
       "      <td>The Berenstain Bears' Bedtime Battle</td>\n",
       "    </tr>\n",
       "    <tr>\n",
       "      <th>1</th>\n",
       "      <td>0060573813</td>\n",
       "      <td>Jan Berenstain</td>\n",
       "      <td>HarperFestival</td>\n",
       "      <td>The Berenstain Bears' Bedtime Battle</td>\n",
       "    </tr>\n",
       "    <tr>\n",
       "      <th>2</th>\n",
       "      <td>0060573821</td>\n",
       "      <td>Stan Berenstain</td>\n",
       "      <td>HarperFestival</td>\n",
       "      <td>The Berenstain Bears and the Trouble with Chores</td>\n",
       "    </tr>\n",
       "    <tr>\n",
       "      <th>2</th>\n",
       "      <td>0060573821</td>\n",
       "      <td>Jan Berenstain</td>\n",
       "      <td>HarperFestival</td>\n",
       "      <td>The Berenstain Bears and the Trouble with Chores</td>\n",
       "    </tr>\n",
       "    <tr>\n",
       "      <th>3</th>\n",
       "      <td>006057383X</td>\n",
       "      <td>Stan Berenstain</td>\n",
       "      <td>HarperFestival</td>\n",
       "      <td>The Berenstain Bears Go on a Ghost Walk</td>\n",
       "    </tr>\n",
       "    <tr>\n",
       "      <th>3</th>\n",
       "      <td>006057383X</td>\n",
       "      <td>Jan Berenstain</td>\n",
       "      <td>HarperFestival</td>\n",
       "      <td>The Berenstain Bears Go on a Ghost Walk</td>\n",
       "    </tr>\n",
       "    <tr>\n",
       "      <th>4</th>\n",
       "      <td>0060574364</td>\n",
       "      <td>Stan Berenstain</td>\n",
       "      <td>HarperCollins</td>\n",
       "      <td>The Berenstain Bears' Big Bedtime Book</td>\n",
       "    </tr>\n",
       "    <tr>\n",
       "      <th>4</th>\n",
       "      <td>0060574364</td>\n",
       "      <td>Jan Berenstain</td>\n",
       "      <td>HarperCollins</td>\n",
       "      <td>The Berenstain Bears' Big Bedtime Book</td>\n",
       "    </tr>\n",
       "    <tr>\n",
       "      <th>5</th>\n",
       "      <td>006058338X</td>\n",
       "      <td>Stan Berenstain</td>\n",
       "      <td>HarperCollins</td>\n",
       "      <td>The Berenstain Bears Play T-Ball (I Can Read L...</td>\n",
       "    </tr>\n",
       "    <tr>\n",
       "      <th>5</th>\n",
       "      <td>006058338X</td>\n",
       "      <td>Jan Berenstain</td>\n",
       "      <td>HarperCollins</td>\n",
       "      <td>The Berenstain Bears Play T-Ball (I Can Read L...</td>\n",
       "    </tr>\n",
       "    <tr>\n",
       "      <th>6</th>\n",
       "      <td>0375811249</td>\n",
       "      <td>Stan Berenstain</td>\n",
       "      <td>Random House Books for Young Readers</td>\n",
       "      <td>The Berenstain Bears' Dollars and Sense</td>\n",
       "    </tr>\n",
       "    <tr>\n",
       "      <th>6</th>\n",
       "      <td>0375811249</td>\n",
       "      <td>Jan Berenstain</td>\n",
       "      <td>Random House Books for Young Readers</td>\n",
       "      <td>The Berenstain Bears' Dollars and Sense</td>\n",
       "    </tr>\n",
       "    <tr>\n",
       "      <th>7</th>\n",
       "      <td>037581129X</td>\n",
       "      <td>Stan Berenstain</td>\n",
       "      <td>Random House Books for Young Readers</td>\n",
       "      <td>The Berenstain Bears and the Papa's Day Surprise</td>\n",
       "    </tr>\n",
       "    <tr>\n",
       "      <th>7</th>\n",
       "      <td>037581129X</td>\n",
       "      <td>Jan Berenstain</td>\n",
       "      <td>Random House Books for Young Readers</td>\n",
       "      <td>The Berenstain Bears and the Papa's Day Surprise</td>\n",
       "    </tr>\n",
       "    <tr>\n",
       "      <th>8</th>\n",
       "      <td>0375811338</td>\n",
       "      <td>Stan Berenstain</td>\n",
       "      <td>Random House Books for Young Readers</td>\n",
       "      <td>The Berenstain Bears and the Real Easter Eggs</td>\n",
       "    </tr>\n",
       "    <tr>\n",
       "      <th>8</th>\n",
       "      <td>0375811338</td>\n",
       "      <td>Jan Berenstain</td>\n",
       "      <td>Random House Books for Young Readers</td>\n",
       "      <td>The Berenstain Bears and the Real Easter Eggs</td>\n",
       "    </tr>\n",
       "    <tr>\n",
       "      <th>9</th>\n",
       "      <td>0375842144</td>\n",
       "      <td>Stan Berenstain</td>\n",
       "      <td>Random House Books for Young Readers</td>\n",
       "      <td>Big Book of the Berenstain Bears</td>\n",
       "    </tr>\n",
       "    <tr>\n",
       "      <th>9</th>\n",
       "      <td>0375842144</td>\n",
       "      <td>Jan Berenstain</td>\n",
       "      <td>Random House Books for Young Readers</td>\n",
       "      <td>Big Book of the Berenstain Bears</td>\n",
       "    </tr>\n",
       "    <tr>\n",
       "      <th>10</th>\n",
       "      <td>037587366X</td>\n",
       "      <td>Stan Berenstain</td>\n",
       "      <td>Random House Books for Young Readers</td>\n",
       "      <td>The Big Book of Berenstain Bears Beginner Book...</td>\n",
       "    </tr>\n",
       "    <tr>\n",
       "      <th>10</th>\n",
       "      <td>037587366X</td>\n",
       "      <td>Jan Berenstain</td>\n",
       "      <td>Random House Books for Young Readers</td>\n",
       "      <td>The Big Book of Berenstain Bears Beginner Book...</td>\n",
       "    </tr>\n",
       "    <tr>\n",
       "      <th>11</th>\n",
       "      <td>0394800362</td>\n",
       "      <td>Stan Berenstain</td>\n",
       "      <td>Random House Books for Young Readers</td>\n",
       "      <td>The Bike Lesson</td>\n",
       "    </tr>\n",
       "    <tr>\n",
       "      <th>11</th>\n",
       "      <td>0394800362</td>\n",
       "      <td>Jan Berenstain</td>\n",
       "      <td>Random House Books for Young Readers</td>\n",
       "      <td>The Bike Lesson</td>\n",
       "    </tr>\n",
       "    <tr>\n",
       "      <th>12</th>\n",
       "      <td>0394800419</td>\n",
       "      <td>Stan Berenstain</td>\n",
       "      <td>Random House Books for Young Readers</td>\n",
       "      <td>The Bears' Picnic</td>\n",
       "    </tr>\n",
       "    <tr>\n",
       "      <th>12</th>\n",
       "      <td>0394800419</td>\n",
       "      <td>Jan Berenstain</td>\n",
       "      <td>Random House Books for Young Readers</td>\n",
       "      <td>The Bears' Picnic</td>\n",
       "    </tr>\n",
       "    <tr>\n",
       "      <th>13</th>\n",
       "      <td>039480046X</td>\n",
       "      <td>Stan Berenstain</td>\n",
       "      <td>Random House Books for Young Readers</td>\n",
       "      <td>The Bear Scouts</td>\n",
       "    </tr>\n",
       "    <tr>\n",
       "      <th>13</th>\n",
       "      <td>039480046X</td>\n",
       "      <td>Jan Berenstain</td>\n",
       "      <td>Random House Books for Young Readers</td>\n",
       "      <td>The Bear Scouts</td>\n",
       "    </tr>\n",
       "    <tr>\n",
       "      <th>14</th>\n",
       "      <td>0394800524</td>\n",
       "      <td>Stan Berenstain</td>\n",
       "      <td>Beginner Books</td>\n",
       "      <td>The Bears' Vacation</td>\n",
       "    </tr>\n",
       "    <tr>\n",
       "      <th>14</th>\n",
       "      <td>0394800524</td>\n",
       "      <td>Jan Berenstain</td>\n",
       "      <td>Beginner Books</td>\n",
       "      <td>The Bears' Vacation</td>\n",
       "    </tr>\n",
       "    <tr>\n",
       "      <th>...</th>\n",
       "      <td>...</td>\n",
       "      <td>...</td>\n",
       "      <td>...</td>\n",
       "      <td>...</td>\n",
       "    </tr>\n",
       "    <tr>\n",
       "      <th>56</th>\n",
       "      <td>0679823514</td>\n",
       "      <td>Stan Berenstain</td>\n",
       "      <td>Random House Books for Young Readers</td>\n",
       "      <td>The Berenstain Bears Don't Pollute (Anymore)</td>\n",
       "    </tr>\n",
       "    <tr>\n",
       "      <th>56</th>\n",
       "      <td>0679823514</td>\n",
       "      <td>Jan Berenstain</td>\n",
       "      <td>Random House Books for Young Readers</td>\n",
       "      <td>The Berenstain Bears Don't Pollute (Anymore)</td>\n",
       "    </tr>\n",
       "    <tr>\n",
       "      <th>57</th>\n",
       "      <td>0679848053</td>\n",
       "      <td>Stan Berenstain</td>\n",
       "      <td>Random House Books for Young Readers</td>\n",
       "      <td>The Berenstain Bears and the Bully</td>\n",
       "    </tr>\n",
       "    <tr>\n",
       "      <th>57</th>\n",
       "      <td>0679848053</td>\n",
       "      <td>Jan Berenstain</td>\n",
       "      <td>Random House Books for Young Readers</td>\n",
       "      <td>The Berenstain Bears and the Bully</td>\n",
       "    </tr>\n",
       "    <tr>\n",
       "      <th>58</th>\n",
       "      <td>0679864342</td>\n",
       "      <td>Stan Berenstain</td>\n",
       "      <td>Random House Books for Young Readers</td>\n",
       "      <td>The Berenstain Bears and the Green-Eyed Monster</td>\n",
       "    </tr>\n",
       "    <tr>\n",
       "      <th>58</th>\n",
       "      <td>0679864342</td>\n",
       "      <td>Jan Berenstain</td>\n",
       "      <td>Random House Books for Young Readers</td>\n",
       "      <td>The Berenstain Bears and the Green-Eyed Monster</td>\n",
       "    </tr>\n",
       "    <tr>\n",
       "      <th>59</th>\n",
       "      <td>0679864350</td>\n",
       "      <td>Stan Berenstain</td>\n",
       "      <td>Random House Books for Young Readers</td>\n",
       "      <td>The Berenstain Bears' New Neighbors</td>\n",
       "    </tr>\n",
       "    <tr>\n",
       "      <th>59</th>\n",
       "      <td>0679864350</td>\n",
       "      <td>Jan Berenstain</td>\n",
       "      <td>Random House Books for Young Readers</td>\n",
       "      <td>The Berenstain Bears' New Neighbors</td>\n",
       "    </tr>\n",
       "    <tr>\n",
       "      <th>60</th>\n",
       "      <td>0679877061</td>\n",
       "      <td>Stan Berenstain</td>\n",
       "      <td>Random House Books for Young Readers</td>\n",
       "      <td>The Berenstain Bears and Too Much Teasing</td>\n",
       "    </tr>\n",
       "    <tr>\n",
       "      <th>60</th>\n",
       "      <td>0679877061</td>\n",
       "      <td>Jan Berenstain</td>\n",
       "      <td>Random House Books for Young Readers</td>\n",
       "      <td>The Berenstain Bears and Too Much Teasing</td>\n",
       "    </tr>\n",
       "    <tr>\n",
       "      <th>61</th>\n",
       "      <td>067987707X</td>\n",
       "      <td>Stan Berenstain</td>\n",
       "      <td>Random House Books for Young Readers</td>\n",
       "      <td>The Berenstain Bears Count Their Blessings</td>\n",
       "    </tr>\n",
       "    <tr>\n",
       "      <th>61</th>\n",
       "      <td>067987707X</td>\n",
       "      <td>Jan Berenstain</td>\n",
       "      <td>Random House Books for Young Readers</td>\n",
       "      <td>The Berenstain Bears Count Their Blessings</td>\n",
       "    </tr>\n",
       "    <tr>\n",
       "      <th>62</th>\n",
       "      <td>0679886303</td>\n",
       "      <td>Stan Berenstain</td>\n",
       "      <td>Random House Books for Young Readers</td>\n",
       "      <td>Old Hat New Hat (Bright &amp; Early Board Books(TM))</td>\n",
       "    </tr>\n",
       "    <tr>\n",
       "      <th>62</th>\n",
       "      <td>0679886303</td>\n",
       "      <td>Jan Berenstain</td>\n",
       "      <td>Random House Books for Young Readers</td>\n",
       "      <td>Old Hat New Hat (Bright &amp; Early Board Books(TM))</td>\n",
       "    </tr>\n",
       "    <tr>\n",
       "      <th>63</th>\n",
       "      <td>0679887059</td>\n",
       "      <td>Stan Berenstain</td>\n",
       "      <td>Random House Books for Young Readers</td>\n",
       "      <td>Berenstains' A Book (Bright and Early Books fo...</td>\n",
       "    </tr>\n",
       "    <tr>\n",
       "      <th>63</th>\n",
       "      <td>0679887059</td>\n",
       "      <td>Jan Berenstain</td>\n",
       "      <td>Random House Books for Young Readers</td>\n",
       "      <td>Berenstains' A Book (Bright and Early Books fo...</td>\n",
       "    </tr>\n",
       "    <tr>\n",
       "      <th>64</th>\n",
       "      <td>0679887431</td>\n",
       "      <td>Stan Berenstain</td>\n",
       "      <td>Random House Books for Young Readers</td>\n",
       "      <td>The Berenstain Bears and the Blame Game</td>\n",
       "    </tr>\n",
       "    <tr>\n",
       "      <th>64</th>\n",
       "      <td>0679887431</td>\n",
       "      <td>Jan Berenstain</td>\n",
       "      <td>Random House Books for Young Readers</td>\n",
       "      <td>The Berenstain Bears and the Blame Game</td>\n",
       "    </tr>\n",
       "    <tr>\n",
       "      <th>65</th>\n",
       "      <td>067988744X</td>\n",
       "      <td>Stan Berenstain</td>\n",
       "      <td>Random House Books for Young Readers</td>\n",
       "      <td>The Berenstain Bears and the Homework Hassle</td>\n",
       "    </tr>\n",
       "    <tr>\n",
       "      <th>65</th>\n",
       "      <td>067988744X</td>\n",
       "      <td>Jan Berenstain</td>\n",
       "      <td>Random House Books for Young Readers</td>\n",
       "      <td>The Berenstain Bears and the Homework Hassle</td>\n",
       "    </tr>\n",
       "    <tr>\n",
       "      <th>66</th>\n",
       "      <td>0679889574</td>\n",
       "      <td>Stan Berenstain</td>\n",
       "      <td>Random House Books for Young Readers</td>\n",
       "      <td>The Berenstain Bears Think of Those in Need (F...</td>\n",
       "    </tr>\n",
       "    <tr>\n",
       "      <th>66</th>\n",
       "      <td>0679889574</td>\n",
       "      <td>Jan Berenstain</td>\n",
       "      <td>Random House Books for Young Readers</td>\n",
       "      <td>The Berenstain Bears Think of Those in Need (F...</td>\n",
       "    </tr>\n",
       "    <tr>\n",
       "      <th>67</th>\n",
       "      <td>0679889604</td>\n",
       "      <td>Stan Berenstain</td>\n",
       "      <td>Random House Books for Young Readers</td>\n",
       "      <td>The Berenstain Bears and Baby Makes Five</td>\n",
       "    </tr>\n",
       "    <tr>\n",
       "      <th>67</th>\n",
       "      <td>0679889604</td>\n",
       "      <td>Jan Berenstain</td>\n",
       "      <td>Random House Books for Young Readers</td>\n",
       "      <td>The Berenstain Bears and Baby Makes Five</td>\n",
       "    </tr>\n",
       "    <tr>\n",
       "      <th>68</th>\n",
       "      <td>0679889612</td>\n",
       "      <td>Stan Berenstain</td>\n",
       "      <td>Random House Books for Young Readers</td>\n",
       "      <td>The Berenstain Bears and the Big Question</td>\n",
       "    </tr>\n",
       "    <tr>\n",
       "      <th>68</th>\n",
       "      <td>0679889612</td>\n",
       "      <td>Jan Berenstain</td>\n",
       "      <td>Random House Books for Young Readers</td>\n",
       "      <td>The Berenstain Bears and the Big Question</td>\n",
       "    </tr>\n",
       "    <tr>\n",
       "      <th>69</th>\n",
       "      <td>B006VE761A</td>\n",
       "      <td>Stan Berenstain</td>\n",
       "      <td>HarperCollins</td>\n",
       "      <td>The Berenstain Bears Chapter Book: The G-Rex B...</td>\n",
       "    </tr>\n",
       "    <tr>\n",
       "      <th>69</th>\n",
       "      <td>B006VE761A</td>\n",
       "      <td>Jan Berenstain</td>\n",
       "      <td>HarperCollins</td>\n",
       "      <td>The Berenstain Bears Chapter Book: The G-Rex B...</td>\n",
       "    </tr>\n",
       "    <tr>\n",
       "      <th>70</th>\n",
       "      <td>B009J2VDT2</td>\n",
       "      <td>Stan Berenstain</td>\n",
       "      <td>Open Road Media Young Readers</td>\n",
       "      <td>The Berenstain Bears Get the Scaredies</td>\n",
       "    </tr>\n",
       "    <tr>\n",
       "      <th>70</th>\n",
       "      <td>B009J2VDT2</td>\n",
       "      <td>Jan Berenstain</td>\n",
       "      <td>Open Road Media Young Readers</td>\n",
       "      <td>The Berenstain Bears Get the Scaredies</td>\n",
       "    </tr>\n",
       "  </tbody>\n",
       "</table>\n",
       "<p>142 rows × 4 columns</p>\n",
       "</div>"
      ],
      "text/plain": [
       "             asin          authors                          manufacturer  \\\n",
       "title                                                                      \n",
       "0      000171287X  Stan Berenstain        HarperCollins Children's Books   \n",
       "0      000171287X   Jan Berenstain        HarperCollins Children's Books   \n",
       "1      0060573813  Stan Berenstain                        HarperFestival   \n",
       "1      0060573813   Jan Berenstain                        HarperFestival   \n",
       "2      0060573821  Stan Berenstain                        HarperFestival   \n",
       "2      0060573821   Jan Berenstain                        HarperFestival   \n",
       "3      006057383X  Stan Berenstain                        HarperFestival   \n",
       "3      006057383X   Jan Berenstain                        HarperFestival   \n",
       "4      0060574364  Stan Berenstain                         HarperCollins   \n",
       "4      0060574364   Jan Berenstain                         HarperCollins   \n",
       "5      006058338X  Stan Berenstain                         HarperCollins   \n",
       "5      006058338X   Jan Berenstain                         HarperCollins   \n",
       "6      0375811249  Stan Berenstain  Random House Books for Young Readers   \n",
       "6      0375811249   Jan Berenstain  Random House Books for Young Readers   \n",
       "7      037581129X  Stan Berenstain  Random House Books for Young Readers   \n",
       "7      037581129X   Jan Berenstain  Random House Books for Young Readers   \n",
       "8      0375811338  Stan Berenstain  Random House Books for Young Readers   \n",
       "8      0375811338   Jan Berenstain  Random House Books for Young Readers   \n",
       "9      0375842144  Stan Berenstain  Random House Books for Young Readers   \n",
       "9      0375842144   Jan Berenstain  Random House Books for Young Readers   \n",
       "10     037587366X  Stan Berenstain  Random House Books for Young Readers   \n",
       "10     037587366X   Jan Berenstain  Random House Books for Young Readers   \n",
       "11     0394800362  Stan Berenstain  Random House Books for Young Readers   \n",
       "11     0394800362   Jan Berenstain  Random House Books for Young Readers   \n",
       "12     0394800419  Stan Berenstain  Random House Books for Young Readers   \n",
       "12     0394800419   Jan Berenstain  Random House Books for Young Readers   \n",
       "13     039480046X  Stan Berenstain  Random House Books for Young Readers   \n",
       "13     039480046X   Jan Berenstain  Random House Books for Young Readers   \n",
       "14     0394800524  Stan Berenstain                        Beginner Books   \n",
       "14     0394800524   Jan Berenstain                        Beginner Books   \n",
       "...           ...              ...                                   ...   \n",
       "56     0679823514  Stan Berenstain  Random House Books for Young Readers   \n",
       "56     0679823514   Jan Berenstain  Random House Books for Young Readers   \n",
       "57     0679848053  Stan Berenstain  Random House Books for Young Readers   \n",
       "57     0679848053   Jan Berenstain  Random House Books for Young Readers   \n",
       "58     0679864342  Stan Berenstain  Random House Books for Young Readers   \n",
       "58     0679864342   Jan Berenstain  Random House Books for Young Readers   \n",
       "59     0679864350  Stan Berenstain  Random House Books for Young Readers   \n",
       "59     0679864350   Jan Berenstain  Random House Books for Young Readers   \n",
       "60     0679877061  Stan Berenstain  Random House Books for Young Readers   \n",
       "60     0679877061   Jan Berenstain  Random House Books for Young Readers   \n",
       "61     067987707X  Stan Berenstain  Random House Books for Young Readers   \n",
       "61     067987707X   Jan Berenstain  Random House Books for Young Readers   \n",
       "62     0679886303  Stan Berenstain  Random House Books for Young Readers   \n",
       "62     0679886303   Jan Berenstain  Random House Books for Young Readers   \n",
       "63     0679887059  Stan Berenstain  Random House Books for Young Readers   \n",
       "63     0679887059   Jan Berenstain  Random House Books for Young Readers   \n",
       "64     0679887431  Stan Berenstain  Random House Books for Young Readers   \n",
       "64     0679887431   Jan Berenstain  Random House Books for Young Readers   \n",
       "65     067988744X  Stan Berenstain  Random House Books for Young Readers   \n",
       "65     067988744X   Jan Berenstain  Random House Books for Young Readers   \n",
       "66     0679889574  Stan Berenstain  Random House Books for Young Readers   \n",
       "66     0679889574   Jan Berenstain  Random House Books for Young Readers   \n",
       "67     0679889604  Stan Berenstain  Random House Books for Young Readers   \n",
       "67     0679889604   Jan Berenstain  Random House Books for Young Readers   \n",
       "68     0679889612  Stan Berenstain  Random House Books for Young Readers   \n",
       "68     0679889612   Jan Berenstain  Random House Books for Young Readers   \n",
       "69     B006VE761A  Stan Berenstain                         HarperCollins   \n",
       "69     B006VE761A   Jan Berenstain                         HarperCollins   \n",
       "70     B009J2VDT2  Stan Berenstain         Open Road Media Young Readers   \n",
       "70     B009J2VDT2   Jan Berenstain         Open Road Media Young Readers   \n",
       "\n",
       "                                                   title  \n",
       "title                                                     \n",
       "0         The Berenstains' B Book (Bright & Early Books)  \n",
       "0         The Berenstains' B Book (Bright & Early Books)  \n",
       "1                   The Berenstain Bears' Bedtime Battle  \n",
       "1                   The Berenstain Bears' Bedtime Battle  \n",
       "2       The Berenstain Bears and the Trouble with Chores  \n",
       "2       The Berenstain Bears and the Trouble with Chores  \n",
       "3                The Berenstain Bears Go on a Ghost Walk  \n",
       "3                The Berenstain Bears Go on a Ghost Walk  \n",
       "4                 The Berenstain Bears' Big Bedtime Book  \n",
       "4                 The Berenstain Bears' Big Bedtime Book  \n",
       "5      The Berenstain Bears Play T-Ball (I Can Read L...  \n",
       "5      The Berenstain Bears Play T-Ball (I Can Read L...  \n",
       "6                The Berenstain Bears' Dollars and Sense  \n",
       "6                The Berenstain Bears' Dollars and Sense  \n",
       "7       The Berenstain Bears and the Papa's Day Surprise  \n",
       "7       The Berenstain Bears and the Papa's Day Surprise  \n",
       "8          The Berenstain Bears and the Real Easter Eggs  \n",
       "8          The Berenstain Bears and the Real Easter Eggs  \n",
       "9                       Big Book of the Berenstain Bears  \n",
       "9                       Big Book of the Berenstain Bears  \n",
       "10     The Big Book of Berenstain Bears Beginner Book...  \n",
       "10     The Big Book of Berenstain Bears Beginner Book...  \n",
       "11                                       The Bike Lesson  \n",
       "11                                       The Bike Lesson  \n",
       "12                                     The Bears' Picnic  \n",
       "12                                     The Bears' Picnic  \n",
       "13                                       The Bear Scouts  \n",
       "13                                       The Bear Scouts  \n",
       "14                                   The Bears' Vacation  \n",
       "14                                   The Bears' Vacation  \n",
       "...                                                  ...  \n",
       "56          The Berenstain Bears Don't Pollute (Anymore)  \n",
       "56          The Berenstain Bears Don't Pollute (Anymore)  \n",
       "57                    The Berenstain Bears and the Bully  \n",
       "57                    The Berenstain Bears and the Bully  \n",
       "58       The Berenstain Bears and the Green-Eyed Monster  \n",
       "58       The Berenstain Bears and the Green-Eyed Monster  \n",
       "59                   The Berenstain Bears' New Neighbors  \n",
       "59                   The Berenstain Bears' New Neighbors  \n",
       "60             The Berenstain Bears and Too Much Teasing  \n",
       "60             The Berenstain Bears and Too Much Teasing  \n",
       "61            The Berenstain Bears Count Their Blessings  \n",
       "61            The Berenstain Bears Count Their Blessings  \n",
       "62      Old Hat New Hat (Bright & Early Board Books(TM))  \n",
       "62      Old Hat New Hat (Bright & Early Board Books(TM))  \n",
       "63     Berenstains' A Book (Bright and Early Books fo...  \n",
       "63     Berenstains' A Book (Bright and Early Books fo...  \n",
       "64               The Berenstain Bears and the Blame Game  \n",
       "64               The Berenstain Bears and the Blame Game  \n",
       "65          The Berenstain Bears and the Homework Hassle  \n",
       "65          The Berenstain Bears and the Homework Hassle  \n",
       "66     The Berenstain Bears Think of Those in Need (F...  \n",
       "66     The Berenstain Bears Think of Those in Need (F...  \n",
       "67              The Berenstain Bears and Baby Makes Five  \n",
       "67              The Berenstain Bears and Baby Makes Five  \n",
       "68             The Berenstain Bears and the Big Question  \n",
       "68             The Berenstain Bears and the Big Question  \n",
       "69     The Berenstain Bears Chapter Book: The G-Rex B...  \n",
       "69     The Berenstain Bears Chapter Book: The G-Rex B...  \n",
       "70                The Berenstain Bears Get the Scaredies  \n",
       "70                The Berenstain Bears Get the Scaredies  \n",
       "\n",
       "[142 rows x 4 columns]"
      ]
     },
     "execution_count": 44,
     "metadata": {},
     "output_type": "execute_result"
    }
   ],
   "source": [
    "sb = books[books['authors'] == 'Stan Berenstain, Jan Berenstain']\n",
    "extract_multiple_authors(sb)"
   ]
  },
  {
   "cell_type": "code",
   "execution_count": 48,
   "metadata": {
    "collapsed": true
   },
   "outputs": [],
   "source": [
    "books_extra.to_csv('books_flat_authors.csv')"
   ]
  },
  {
   "cell_type": "markdown",
   "metadata": {},
   "source": [
    "Here we merge the dataset of the paperback books with the dataset of the kindle on the authors to obtain the authors who have books on both supports."
   ]
  },
  {
   "cell_type": "code",
   "execution_count": 40,
   "metadata": {
    "collapsed": true
   },
   "outputs": [],
   "source": [
    "ebooks = pd.read_csv('ebooks_flat_authors.csv')\n",
    "books = pd.read_csv('books_flat_authors.csv', usecols=[0,1,2,3])"
   ]
  },
  {
   "cell_type": "code",
   "execution_count": 57,
   "metadata": {},
   "outputs": [
    {
     "data": {
      "text/plain": [
       "365831"
      ]
     },
     "execution_count": 57,
     "metadata": {},
     "output_type": "execute_result"
    }
   ],
   "source": [
    "len(books)"
   ]
  },
  {
   "cell_type": "code",
   "execution_count": 41,
   "metadata": {
    "collapsed": true
   },
   "outputs": [],
   "source": [
    "ebooks_by_auth = ebooks.reset_index().groupby(ebooks['authors'])\n",
    "cross_auth = ebooks.reset_index().merge(books.reset_index(), left_on='authors', right_on='authors', suffixes=('_e', '_b'))"
   ]
  },
  {
   "cell_type": "markdown",
   "metadata": {},
   "source": [
    "Only keep the entries in ebooks where the author is in common."
   ]
  },
  {
   "cell_type": "code",
   "execution_count": 61,
   "metadata": {
    "collapsed": true
   },
   "outputs": [],
   "source": [
    "ebooks_author = ebooks[ebooks['authors'].isin(cross_auth['authors'].unique())]"
   ]
  },
  {
   "cell_type": "code",
   "execution_count": 62,
   "metadata": {},
   "outputs": [
    {
     "data": {
      "text/plain": [
       "50381"
      ]
     },
     "execution_count": 62,
     "metadata": {},
     "output_type": "execute_result"
    }
   ],
   "source": [
    "len(ebooks_author)"
   ]
  },
  {
   "cell_type": "code",
   "execution_count": 63,
   "metadata": {
    "collapsed": true,
    "scrolled": false
   },
   "outputs": [],
   "source": [
    "count_author_e = ebooks_author.groupby('authors').count()"
   ]
  },
  {
   "cell_type": "code",
   "execution_count": 66,
   "metadata": {},
   "outputs": [
    {
     "data": {
      "text/plain": [
       "1721"
      ]
     },
     "execution_count": 66,
     "metadata": {},
     "output_type": "execute_result"
    }
   ],
   "source": [
    "len(count_author_e[count_author_e['title']>5])"
   ]
  },
  {
   "cell_type": "code",
   "execution_count": 67,
   "metadata": {
    "collapsed": true,
    "scrolled": true
   },
   "outputs": [],
   "source": [
    "books_author = books[books['authors'].isin(cross_auth['authors'].unique())]\n",
    "count_author_b = books_author.groupby('authors').count()"
   ]
  },
  {
   "cell_type": "code",
   "execution_count": 69,
   "metadata": {},
   "outputs": [
    {
     "data": {
      "text/plain": [
       "3975"
      ]
     },
     "execution_count": 69,
     "metadata": {},
     "output_type": "execute_result"
    }
   ],
   "source": [
    "len(count_author_b[count_author_b['title']>5])"
   ]
  },
  {
   "cell_type": "code",
   "execution_count": 70,
   "metadata": {},
   "outputs": [
    {
     "data": {
      "text/html": [
       "<div>\n",
       "<style scoped>\n",
       "    .dataframe tbody tr th:only-of-type {\n",
       "        vertical-align: middle;\n",
       "    }\n",
       "\n",
       "    .dataframe tbody tr th {\n",
       "        vertical-align: top;\n",
       "    }\n",
       "\n",
       "    .dataframe thead th {\n",
       "        text-align: right;\n",
       "    }\n",
       "</style>\n",
       "<table border=\"1\" class=\"dataframe\">\n",
       "  <thead>\n",
       "    <tr style=\"text-align: right;\">\n",
       "      <th></th>\n",
       "      <th>title</th>\n",
       "      <th>asin</th>\n",
       "      <th>manufacturer</th>\n",
       "    </tr>\n",
       "  </thead>\n",
       "  <tbody>\n",
       "    <tr>\n",
       "      <th>count</th>\n",
       "      <td>22094.000000</td>\n",
       "      <td>22094.000000</td>\n",
       "      <td>22094.000000</td>\n",
       "    </tr>\n",
       "    <tr>\n",
       "      <th>mean</th>\n",
       "      <td>4.087988</td>\n",
       "      <td>4.087988</td>\n",
       "      <td>3.231918</td>\n",
       "    </tr>\n",
       "    <tr>\n",
       "      <th>std</th>\n",
       "      <td>7.548599</td>\n",
       "      <td>7.548599</td>\n",
       "      <td>7.392868</td>\n",
       "    </tr>\n",
       "    <tr>\n",
       "      <th>min</th>\n",
       "      <td>1.000000</td>\n",
       "      <td>1.000000</td>\n",
       "      <td>0.000000</td>\n",
       "    </tr>\n",
       "    <tr>\n",
       "      <th>25%</th>\n",
       "      <td>1.000000</td>\n",
       "      <td>1.000000</td>\n",
       "      <td>0.000000</td>\n",
       "    </tr>\n",
       "    <tr>\n",
       "      <th>50%</th>\n",
       "      <td>2.000000</td>\n",
       "      <td>2.000000</td>\n",
       "      <td>1.000000</td>\n",
       "    </tr>\n",
       "    <tr>\n",
       "      <th>75%</th>\n",
       "      <td>4.000000</td>\n",
       "      <td>4.000000</td>\n",
       "      <td>3.000000</td>\n",
       "    </tr>\n",
       "    <tr>\n",
       "      <th>max</th>\n",
       "      <td>251.000000</td>\n",
       "      <td>251.000000</td>\n",
       "      <td>251.000000</td>\n",
       "    </tr>\n",
       "  </tbody>\n",
       "</table>\n",
       "</div>"
      ],
      "text/plain": [
       "              title          asin  manufacturer\n",
       "count  22094.000000  22094.000000  22094.000000\n",
       "mean       4.087988      4.087988      3.231918\n",
       "std        7.548599      7.548599      7.392868\n",
       "min        1.000000      1.000000      0.000000\n",
       "25%        1.000000      1.000000      0.000000\n",
       "50%        2.000000      2.000000      1.000000\n",
       "75%        4.000000      4.000000      3.000000\n",
       "max      251.000000    251.000000    251.000000"
      ]
     },
     "execution_count": 70,
     "metadata": {},
     "output_type": "execute_result"
    }
   ],
   "source": [
    "count_author_b.describe()"
   ]
  },
  {
   "cell_type": "code",
   "execution_count": 71,
   "metadata": {},
   "outputs": [
    {
     "data": {
      "text/html": [
       "<div>\n",
       "<style scoped>\n",
       "    .dataframe tbody tr th:only-of-type {\n",
       "        vertical-align: middle;\n",
       "    }\n",
       "\n",
       "    .dataframe tbody tr th {\n",
       "        vertical-align: top;\n",
       "    }\n",
       "\n",
       "    .dataframe thead th {\n",
       "        text-align: right;\n",
       "    }\n",
       "</style>\n",
       "<table border=\"1\" class=\"dataframe\">\n",
       "  <thead>\n",
       "    <tr style=\"text-align: right;\">\n",
       "      <th></th>\n",
       "      <th>title</th>\n",
       "      <th>Unnamed: 0</th>\n",
       "      <th>manufacturer</th>\n",
       "      <th>rank</th>\n",
       "      <th>price</th>\n",
       "      <th>currency</th>\n",
       "      <th>reldate</th>\n",
       "      <th>page</th>\n",
       "      <th>language</th>\n",
       "      <th>title.1</th>\n",
       "    </tr>\n",
       "  </thead>\n",
       "  <tbody>\n",
       "    <tr>\n",
       "      <th>count</th>\n",
       "      <td>22094.000000</td>\n",
       "      <td>22094.000000</td>\n",
       "      <td>22094.000000</td>\n",
       "      <td>22094.000000</td>\n",
       "      <td>22094.000000</td>\n",
       "      <td>22094.000000</td>\n",
       "      <td>22094.000000</td>\n",
       "      <td>22094.000000</td>\n",
       "      <td>22094.000000</td>\n",
       "      <td>22094.000000</td>\n",
       "    </tr>\n",
       "    <tr>\n",
       "      <th>mean</th>\n",
       "      <td>2.280257</td>\n",
       "      <td>2.280257</td>\n",
       "      <td>1.424007</td>\n",
       "      <td>2.121028</td>\n",
       "      <td>0.000272</td>\n",
       "      <td>0.000272</td>\n",
       "      <td>2.280257</td>\n",
       "      <td>2.263827</td>\n",
       "      <td>2.280257</td>\n",
       "      <td>0.256676</td>\n",
       "    </tr>\n",
       "    <tr>\n",
       "      <th>std</th>\n",
       "      <td>2.978298</td>\n",
       "      <td>2.978298</td>\n",
       "      <td>2.517093</td>\n",
       "      <td>2.863373</td>\n",
       "      <td>0.019027</td>\n",
       "      <td>0.019027</td>\n",
       "      <td>2.978298</td>\n",
       "      <td>2.965615</td>\n",
       "      <td>2.978298</td>\n",
       "      <td>0.890903</td>\n",
       "    </tr>\n",
       "    <tr>\n",
       "      <th>min</th>\n",
       "      <td>1.000000</td>\n",
       "      <td>1.000000</td>\n",
       "      <td>0.000000</td>\n",
       "      <td>0.000000</td>\n",
       "      <td>0.000000</td>\n",
       "      <td>0.000000</td>\n",
       "      <td>1.000000</td>\n",
       "      <td>0.000000</td>\n",
       "      <td>1.000000</td>\n",
       "      <td>0.000000</td>\n",
       "    </tr>\n",
       "    <tr>\n",
       "      <th>25%</th>\n",
       "      <td>1.000000</td>\n",
       "      <td>1.000000</td>\n",
       "      <td>0.000000</td>\n",
       "      <td>1.000000</td>\n",
       "      <td>0.000000</td>\n",
       "      <td>0.000000</td>\n",
       "      <td>1.000000</td>\n",
       "      <td>1.000000</td>\n",
       "      <td>1.000000</td>\n",
       "      <td>0.000000</td>\n",
       "    </tr>\n",
       "    <tr>\n",
       "      <th>50%</th>\n",
       "      <td>1.000000</td>\n",
       "      <td>1.000000</td>\n",
       "      <td>1.000000</td>\n",
       "      <td>1.000000</td>\n",
       "      <td>0.000000</td>\n",
       "      <td>0.000000</td>\n",
       "      <td>1.000000</td>\n",
       "      <td>1.000000</td>\n",
       "      <td>1.000000</td>\n",
       "      <td>0.000000</td>\n",
       "    </tr>\n",
       "    <tr>\n",
       "      <th>75%</th>\n",
       "      <td>2.000000</td>\n",
       "      <td>2.000000</td>\n",
       "      <td>1.000000</td>\n",
       "      <td>2.000000</td>\n",
       "      <td>0.000000</td>\n",
       "      <td>0.000000</td>\n",
       "      <td>2.000000</td>\n",
       "      <td>2.000000</td>\n",
       "      <td>2.000000</td>\n",
       "      <td>0.000000</td>\n",
       "    </tr>\n",
       "    <tr>\n",
       "      <th>max</th>\n",
       "      <td>63.000000</td>\n",
       "      <td>63.000000</td>\n",
       "      <td>63.000000</td>\n",
       "      <td>61.000000</td>\n",
       "      <td>2.000000</td>\n",
       "      <td>2.000000</td>\n",
       "      <td>63.000000</td>\n",
       "      <td>63.000000</td>\n",
       "      <td>63.000000</td>\n",
       "      <td>27.000000</td>\n",
       "    </tr>\n",
       "  </tbody>\n",
       "</table>\n",
       "</div>"
      ],
      "text/plain": [
       "              title    Unnamed: 0  manufacturer          rank         price  \\\n",
       "count  22094.000000  22094.000000  22094.000000  22094.000000  22094.000000   \n",
       "mean       2.280257      2.280257      1.424007      2.121028      0.000272   \n",
       "std        2.978298      2.978298      2.517093      2.863373      0.019027   \n",
       "min        1.000000      1.000000      0.000000      0.000000      0.000000   \n",
       "25%        1.000000      1.000000      0.000000      1.000000      0.000000   \n",
       "50%        1.000000      1.000000      1.000000      1.000000      0.000000   \n",
       "75%        2.000000      2.000000      1.000000      2.000000      0.000000   \n",
       "max       63.000000     63.000000     63.000000     61.000000      2.000000   \n",
       "\n",
       "           currency       reldate          page      language       title.1  \n",
       "count  22094.000000  22094.000000  22094.000000  22094.000000  22094.000000  \n",
       "mean       0.000272      2.280257      2.263827      2.280257      0.256676  \n",
       "std        0.019027      2.978298      2.965615      2.978298      0.890903  \n",
       "min        0.000000      1.000000      0.000000      1.000000      0.000000  \n",
       "25%        0.000000      1.000000      1.000000      1.000000      0.000000  \n",
       "50%        0.000000      1.000000      1.000000      1.000000      0.000000  \n",
       "75%        0.000000      2.000000      2.000000      2.000000      0.000000  \n",
       "max        2.000000     63.000000     63.000000     63.000000     27.000000  "
      ]
     },
     "execution_count": 71,
     "metadata": {},
     "output_type": "execute_result"
    }
   ],
   "source": [
    "count_author_e.describe()"
   ]
  },
  {
   "cell_type": "code",
   "execution_count": 72,
   "metadata": {},
   "outputs": [
    {
     "data": {
      "text/html": [
       "<div>\n",
       "<style scoped>\n",
       "    .dataframe tbody tr th:only-of-type {\n",
       "        vertical-align: middle;\n",
       "    }\n",
       "\n",
       "    .dataframe tbody tr th {\n",
       "        vertical-align: top;\n",
       "    }\n",
       "\n",
       "    .dataframe thead th {\n",
       "        text-align: right;\n",
       "    }\n",
       "</style>\n",
       "<table border=\"1\" class=\"dataframe\">\n",
       "  <thead>\n",
       "    <tr style=\"text-align: right;\">\n",
       "      <th></th>\n",
       "      <th>index_e</th>\n",
       "      <th>title_e</th>\n",
       "      <th>Unnamed: 0</th>\n",
       "      <th>authors</th>\n",
       "      <th>manufacturer_e</th>\n",
       "      <th>rank</th>\n",
       "      <th>price</th>\n",
       "      <th>currency</th>\n",
       "      <th>reldate</th>\n",
       "      <th>page</th>\n",
       "      <th>language</th>\n",
       "      <th>title.1</th>\n",
       "      <th>index_b</th>\n",
       "      <th>title_b</th>\n",
       "      <th>asin</th>\n",
       "      <th>manufacturer_b</th>\n",
       "    </tr>\n",
       "  </thead>\n",
       "  <tbody>\n",
       "    <tr>\n",
       "      <th>0</th>\n",
       "      <td>0</td>\n",
       "      <td>Boba Fett: A Practical Man: Star Wars Legends ...</td>\n",
       "      <td>B000JMKNQ0</td>\n",
       "      <td>Karen Traviss</td>\n",
       "      <td>Del Rey</td>\n",
       "      <td>250846.0</td>\n",
       "      <td>NaN</td>\n",
       "      <td>NaN</td>\n",
       "      <td>2006-08-08</td>\n",
       "      <td>104.0</td>\n",
       "      <td>English</td>\n",
       "      <td>NaN</td>\n",
       "      <td>2411</td>\n",
       "      <td>City of Pearl (The Wess'har Wars)</td>\n",
       "      <td>0060541695</td>\n",
       "      <td>Harper Voyager</td>\n",
       "    </tr>\n",
       "    <tr>\n",
       "      <th>1</th>\n",
       "      <td>0</td>\n",
       "      <td>Boba Fett: A Practical Man: Star Wars Legends ...</td>\n",
       "      <td>B000JMKNQ0</td>\n",
       "      <td>Karen Traviss</td>\n",
       "      <td>Del Rey</td>\n",
       "      <td>250846.0</td>\n",
       "      <td>NaN</td>\n",
       "      <td>NaN</td>\n",
       "      <td>2006-08-08</td>\n",
       "      <td>104.0</td>\n",
       "      <td>English</td>\n",
       "      <td>NaN</td>\n",
       "      <td>2412</td>\n",
       "      <td>Crossing the Line</td>\n",
       "      <td>0060541709</td>\n",
       "      <td>Harper Voyager</td>\n",
       "    </tr>\n",
       "    <tr>\n",
       "      <th>2</th>\n",
       "      <td>0</td>\n",
       "      <td>Boba Fett: A Practical Man: Star Wars Legends ...</td>\n",
       "      <td>B000JMKNQ0</td>\n",
       "      <td>Karen Traviss</td>\n",
       "      <td>Del Rey</td>\n",
       "      <td>250846.0</td>\n",
       "      <td>NaN</td>\n",
       "      <td>NaN</td>\n",
       "      <td>2006-08-08</td>\n",
       "      <td>104.0</td>\n",
       "      <td>English</td>\n",
       "      <td>NaN</td>\n",
       "      <td>2413</td>\n",
       "      <td>The World Before (The Wess'har Wars)</td>\n",
       "      <td>0060541725</td>\n",
       "      <td>Harper Voyager</td>\n",
       "    </tr>\n",
       "    <tr>\n",
       "      <th>3</th>\n",
       "      <td>0</td>\n",
       "      <td>Boba Fett: A Practical Man: Star Wars Legends ...</td>\n",
       "      <td>B000JMKNQ0</td>\n",
       "      <td>Karen Traviss</td>\n",
       "      <td>Del Rey</td>\n",
       "      <td>250846.0</td>\n",
       "      <td>NaN</td>\n",
       "      <td>NaN</td>\n",
       "      <td>2006-08-08</td>\n",
       "      <td>104.0</td>\n",
       "      <td>English</td>\n",
       "      <td>NaN</td>\n",
       "      <td>4459</td>\n",
       "      <td>Matriarch (The Wess'har Wars)</td>\n",
       "      <td>006088231X</td>\n",
       "      <td>Harper Voyager</td>\n",
       "    </tr>\n",
       "    <tr>\n",
       "      <th>4</th>\n",
       "      <td>0</td>\n",
       "      <td>Boba Fett: A Practical Man: Star Wars Legends ...</td>\n",
       "      <td>B000JMKNQ0</td>\n",
       "      <td>Karen Traviss</td>\n",
       "      <td>Del Rey</td>\n",
       "      <td>250846.0</td>\n",
       "      <td>NaN</td>\n",
       "      <td>NaN</td>\n",
       "      <td>2006-08-08</td>\n",
       "      <td>104.0</td>\n",
       "      <td>English</td>\n",
       "      <td>NaN</td>\n",
       "      <td>4460</td>\n",
       "      <td>Ally (The Wess'har Wars)</td>\n",
       "      <td>0060882328</td>\n",
       "      <td>Harper Voyager</td>\n",
       "    </tr>\n",
       "  </tbody>\n",
       "</table>\n",
       "</div>"
      ],
      "text/plain": [
       "   index_e                                            title_e  Unnamed: 0  \\\n",
       "0        0  Boba Fett: A Practical Man: Star Wars Legends ...  B000JMKNQ0   \n",
       "1        0  Boba Fett: A Practical Man: Star Wars Legends ...  B000JMKNQ0   \n",
       "2        0  Boba Fett: A Practical Man: Star Wars Legends ...  B000JMKNQ0   \n",
       "3        0  Boba Fett: A Practical Man: Star Wars Legends ...  B000JMKNQ0   \n",
       "4        0  Boba Fett: A Practical Man: Star Wars Legends ...  B000JMKNQ0   \n",
       "\n",
       "         authors manufacturer_e      rank  price currency     reldate   page  \\\n",
       "0  Karen Traviss        Del Rey  250846.0    NaN      NaN  2006-08-08  104.0   \n",
       "1  Karen Traviss        Del Rey  250846.0    NaN      NaN  2006-08-08  104.0   \n",
       "2  Karen Traviss        Del Rey  250846.0    NaN      NaN  2006-08-08  104.0   \n",
       "3  Karen Traviss        Del Rey  250846.0    NaN      NaN  2006-08-08  104.0   \n",
       "4  Karen Traviss        Del Rey  250846.0    NaN      NaN  2006-08-08  104.0   \n",
       "\n",
       "  language title.1  index_b                               title_b        asin  \\\n",
       "0  English     NaN     2411     City of Pearl (The Wess'har Wars)  0060541695   \n",
       "1  English     NaN     2412                     Crossing the Line  0060541709   \n",
       "2  English     NaN     2413  The World Before (The Wess'har Wars)  0060541725   \n",
       "3  English     NaN     4459         Matriarch (The Wess'har Wars)  006088231X   \n",
       "4  English     NaN     4460              Ally (The Wess'har Wars)  0060882328   \n",
       "\n",
       "   manufacturer_b  \n",
       "0  Harper Voyager  \n",
       "1  Harper Voyager  \n",
       "2  Harper Voyager  \n",
       "3  Harper Voyager  \n",
       "4  Harper Voyager  "
      ]
     },
     "execution_count": 72,
     "metadata": {},
     "output_type": "execute_result"
    }
   ],
   "source": [
    "cross_auth.head()"
   ]
  },
  {
   "cell_type": "markdown",
   "metadata": {},
   "source": [
    "The number of authors in common on both supports."
   ]
  },
  {
   "cell_type": "code",
   "execution_count": 73,
   "metadata": {},
   "outputs": [
    {
     "data": {
      "text/plain": [
       "22095"
      ]
     },
     "execution_count": 73,
     "metadata": {},
     "output_type": "execute_result"
    }
   ],
   "source": [
    "len(cross_auth['authors'].unique())"
   ]
  },
  {
   "cell_type": "markdown",
   "metadata": {},
   "source": [
    "### New analysis Here !"
   ]
  },
  {
   "cell_type": "code",
   "execution_count": 65,
   "metadata": {
    "collapsed": true
   },
   "outputs": [],
   "source": [
    "scores_books_authors = 'scores_books_by_authors.csv'\n",
    "scores_ebooks_authors = 'scores_ebooks_by_authors.csv'\n",
    "\n",
    "scores_books_overall = 'scores_books_by_overall.csv'\n",
    "scores_ebooks_overall = 'scores_ebooks_by_overall.csv'\n",
    "\n",
    "scores_books_authors_complete = 'scores_books_by_authors_complete.csv'\n",
    "scores_ebooks_authors_complete = 'scores_ebooks_by_authors_complete.csv'\n",
    "\n",
    "scores_books_overall_complete = 'scores_books_by_overall_complete.csv'\n",
    "scores_ebooks_overall_complete = 'scores_ebooks_by_overall_complete.csv'"
   ]
  },
  {
   "cell_type": "markdown",
   "metadata": {},
   "source": [
    "Below we will obtain the reviews of the books and ebooks corresponding to the authors we find above."
   ]
  },
  {
   "cell_type": "code",
   "execution_count": 106,
   "metadata": {
    "collapsed": true
   },
   "outputs": [],
   "source": [
    "WRITE_FIND_MATCHED = True"
   ]
  },
  {
   "cell_type": "code",
   "execution_count": 109,
   "metadata": {
    "collapsed": true
   },
   "outputs": [],
   "source": [
    "if WRITE_FIND_MATCHED:\n",
    "    find_matched(cross_auth['asin_b'].unique(), books_5core_path, matched_books_path)\n",
    "    find_matched(cross_auth['asin_e'].unique(), kindle_5core_path, matched_ebooks_path)"
   ]
  },
  {
   "cell_type": "code",
   "execution_count": 37,
   "metadata": {
    "collapsed": true
   },
   "outputs": [],
   "source": [
    "match_books_author = pd.read_csv(matched_books_path)\n",
    "match_ebooks_author = pd.read_csv(matched_ebooks_path)"
   ]
  },
  {
   "cell_type": "code",
   "execution_count": 42,
   "metadata": {},
   "outputs": [],
   "source": [
    "match_books_author = match_books_author.merge(\n",
    "    cross_auth[['asin', 'authors']].drop_duplicates() , left_on ='asin', right_on='asin')\n",
    "match_ebooks_author = match_ebooks_author.merge(\n",
    "    cross_auth[['asin', 'authors']].drop_duplicates() , left_on ='asin', right_on='asin')"
   ]
  },
  {
   "cell_type": "markdown",
   "metadata": {},
   "source": [
    "Parse the \"helpful\" column which is a string representation of a list"
   ]
  },
  {
   "cell_type": "code",
   "execution_count": 43,
   "metadata": {
    "collapsed": true
   },
   "outputs": [],
   "source": [
    "def literal_left(x):\n",
    "    l = literal_eval(x)\n",
    "    return l[0]\n",
    "\n",
    "def literal_right(x):\n",
    "    l = literal_eval(x)\n",
    "    return l[1]\n",
    "\n",
    "def parse_help(source):\n",
    "    target = source.copy()\n",
    "    target['helpful'] = source['helpful'].apply(literal_left)\n",
    "    target['not_helpful'] = source['helpful'].apply(literal_right)\n",
    "    return target"
   ]
  },
  {
   "cell_type": "code",
   "execution_count": 44,
   "metadata": {
    "collapsed": true,
    "scrolled": true
   },
   "outputs": [],
   "source": [
    "matched_booksh = parse_help(match_books_author)\n",
    "matched_ebooksh = parse_help(match_ebooks_author)"
   ]
  },
  {
   "cell_type": "code",
   "execution_count": 45,
   "metadata": {
    "collapsed": true
   },
   "outputs": [],
   "source": [
    "matched_booksh = matched_booksh.drop(['reviewerID', 'reviewerName', 'asin'], axis=1)\n",
    "matched_ebooksh = matched_ebooksh.drop(['reviewerID', 'reviewerName', 'asin'], axis=1)"
   ]
  },
  {
   "cell_type": "code",
   "execution_count": 48,
   "metadata": {
    "scrolled": true
   },
   "outputs": [
    {
     "data": {
      "text/plain": [
       "2736095"
      ]
     },
     "execution_count": 48,
     "metadata": {},
     "output_type": "execute_result"
    }
   ],
   "source": [
    "len(matched_booksh)"
   ]
  },
  {
   "cell_type": "markdown",
   "metadata": {},
   "source": [
    "old 2648868"
   ]
  },
  {
   "cell_type": "code",
   "execution_count": 49,
   "metadata": {
    "scrolled": true
   },
   "outputs": [
    {
     "data": {
      "text/plain": [
       "707435"
      ]
     },
     "execution_count": 49,
     "metadata": {},
     "output_type": "execute_result"
    }
   ],
   "source": [
    "len(matched_ebooksh)"
   ]
  },
  {
   "cell_type": "markdown",
   "metadata": {},
   "source": [
    "old 757095"
   ]
  },
  {
   "cell_type": "code",
   "execution_count": 50,
   "metadata": {},
   "outputs": [
    {
     "data": {
      "text/html": [
       "<div>\n",
       "<style scoped>\n",
       "    .dataframe tbody tr th:only-of-type {\n",
       "        vertical-align: middle;\n",
       "    }\n",
       "\n",
       "    .dataframe tbody tr th {\n",
       "        vertical-align: top;\n",
       "    }\n",
       "\n",
       "    .dataframe thead th {\n",
       "        text-align: right;\n",
       "    }\n",
       "</style>\n",
       "<table border=\"1\" class=\"dataframe\">\n",
       "  <thead>\n",
       "    <tr style=\"text-align: right;\">\n",
       "      <th></th>\n",
       "      <th>Unnamed: 0</th>\n",
       "      <th>overall</th>\n",
       "      <th>summary</th>\n",
       "      <th>helpful</th>\n",
       "      <th>reviewText</th>\n",
       "      <th>authors</th>\n",
       "      <th>not_helpful</th>\n",
       "    </tr>\n",
       "  </thead>\n",
       "  <tbody>\n",
       "    <tr>\n",
       "      <th>0</th>\n",
       "      <td>268</td>\n",
       "      <td>5</td>\n",
       "      <td>Great</td>\n",
       "      <td>0</td>\n",
       "      <td>for getting your kid introduced to his/her ABC...</td>\n",
       "      <td>Stan Berenstain</td>\n",
       "      <td>0</td>\n",
       "    </tr>\n",
       "    <tr>\n",
       "      <th>1</th>\n",
       "      <td>268</td>\n",
       "      <td>5</td>\n",
       "      <td>Great</td>\n",
       "      <td>0</td>\n",
       "      <td>for getting your kid introduced to his/her ABC...</td>\n",
       "      <td>Jan Berenstain</td>\n",
       "      <td>0</td>\n",
       "    </tr>\n",
       "    <tr>\n",
       "      <th>2</th>\n",
       "      <td>269</td>\n",
       "      <td>3</td>\n",
       "      <td>A celebration of B</td>\n",
       "      <td>1</td>\n",
       "      <td>This Book is funny and is full of B words, lik...</td>\n",
       "      <td>Stan Berenstain</td>\n",
       "      <td>3</td>\n",
       "    </tr>\n",
       "    <tr>\n",
       "      <th>3</th>\n",
       "      <td>269</td>\n",
       "      <td>3</td>\n",
       "      <td>A celebration of B</td>\n",
       "      <td>1</td>\n",
       "      <td>This Book is funny and is full of B words, lik...</td>\n",
       "      <td>Jan Berenstain</td>\n",
       "      <td>3</td>\n",
       "    </tr>\n",
       "    <tr>\n",
       "      <th>4</th>\n",
       "      <td>270</td>\n",
       "      <td>5</td>\n",
       "      <td>Big B Believer</td>\n",
       "      <td>2</td>\n",
       "      <td>A favorite Berenstain book of my children I wa...</td>\n",
       "      <td>Stan Berenstain</td>\n",
       "      <td>2</td>\n",
       "    </tr>\n",
       "  </tbody>\n",
       "</table>\n",
       "</div>"
      ],
      "text/plain": [
       "   Unnamed: 0  overall             summary  helpful  \\\n",
       "0         268        5               Great        0   \n",
       "1         268        5               Great        0   \n",
       "2         269        3  A celebration of B        1   \n",
       "3         269        3  A celebration of B        1   \n",
       "4         270        5      Big B Believer        2   \n",
       "\n",
       "                                          reviewText          authors  \\\n",
       "0  for getting your kid introduced to his/her ABC...  Stan Berenstain   \n",
       "1  for getting your kid introduced to his/her ABC...   Jan Berenstain   \n",
       "2  This Book is funny and is full of B words, lik...  Stan Berenstain   \n",
       "3  This Book is funny and is full of B words, lik...   Jan Berenstain   \n",
       "4  A favorite Berenstain book of my children I wa...  Stan Berenstain   \n",
       "\n",
       "   not_helpful  \n",
       "0            0  \n",
       "1            0  \n",
       "2            3  \n",
       "3            3  \n",
       "4            2  "
      ]
     },
     "execution_count": 50,
     "metadata": {},
     "output_type": "execute_result"
    }
   ],
   "source": [
    "matched_booksh.head()"
   ]
  },
  {
   "cell_type": "code",
   "execution_count": 52,
   "metadata": {},
   "outputs": [],
   "source": [
    "booksh_by_author = matched_booksh.dropna(subset=['authors'])\n",
    "booksh_by_author.set_index('authors', inplace=True)"
   ]
  },
  {
   "cell_type": "code",
   "execution_count": 53,
   "metadata": {
    "collapsed": true
   },
   "outputs": [],
   "source": [
    "ebooksh_by_author = matched_ebooksh.dropna(subset=['authors'])\n",
    "ebooksh_by_author.set_index('authors', inplace=True)"
   ]
  },
  {
   "cell_type": "markdown",
   "metadata": {},
   "source": [
    "Now that we have our reviews it is time to analyse their content. To compute the score of a book, we use two approaches:\n",
    "\n",
    "1) A weighted average of the stars taking into account the helpfulness of the review as described below.\n",
    "\n",
    "Let $s_{i,j}$ be the $j$th rating of book $i$ and $n$ the number of ratings for this book. As other users can review a review by saying whether it is helpful, let $k_{i,j}$ be the number of the person who reviewed the review $s_{i,j}$ and let $u_{i,j}$ be the number of reviewer who found the review helpful among the $k_{i,j}$ reviewers. Then what we want to do is to give more weight to reviews which are helpful and less weight to reviews that the other users found useless. The maximum weight a review can have is 1 and the minimum is 0, then if a review has never been reviewed or it has been voted equally helpful and not helpful, its weight will be 0.5 which is neutral.\n",
    "$$w_{i,j}=\\cases{\\frac{u_{i,j}}{k_{i,j}}, \\text{if } k_{i,j} \\ne 0 \\\\0.5, \\text{if } k_{i,j}=0}$$\n",
    "\n",
    "    \n",
    "The weighted average is then:\n",
    "\n",
    "$$S_i = \\frac{\\sum_{j=1}^{n} w_{i,j}s_{i,j}}{\\sum_{j=1}^{n} w_{i,j}}$$\n",
    "\n",
    "2) A weighted average of the sentiment's intensity in the review taking into account the helpfulness with the weight being derived similarly as above.\n",
    "\n",
    "Here we are going to use the VADER (Valence Aware Dictionary sEntiment Reasoner) sentiment analyzer from the nltk package. VADER is based on lexicons of sentiment-related words and each words is rated as whether it is positive and negative, and how negative or positive it is. For example, the 'excellent' would be treated as more positive than 'good'.\n",
    "\n",
    "The score Vader returns is between -1 and 1, 1 for a very positive review, -1 for a very negative review, and 0 if it is neutral.\n",
    "\n",
    "Although Vader is not the most accurate tool and to analyse a piece of text it checks if any of the words in the text are present in the lexicon, therefore its accuracy depends on the coverage of the lexicons. It is the easiest approach we have for the moment as we cannot train a classifier since we don't have a proper training set."
   ]
  },
  {
   "cell_type": "code",
   "execution_count": null,
   "metadata": {
    "collapsed": true
   },
   "outputs": [],
   "source": [
    "sid = SentimentIntensityAnalyzer()"
   ]
  },
  {
   "cell_type": "code",
   "execution_count": 54,
   "metadata": {
    "collapsed": true
   },
   "outputs": [],
   "source": [
    "# compute the weight of a review\n",
    "def weighted_helpful(data):\n",
    "    voters = int(data[0]) + int(data[1])\n",
    "    \n",
    "    return 0.5 if voters == 0 else int(data[0])/voters"
   ]
  },
  {
   "cell_type": "code",
   "execution_count": 55,
   "metadata": {
    "collapsed": true
   },
   "outputs": [],
   "source": [
    "# compute the weighted average of the two scores for a book\n",
    "def weighted_scores(data, groupby_key):\n",
    "\n",
    "    data['weighted_help'] = data[['helpful', 'not_helpful']].apply(weighted_helpful)\n",
    "    \n",
    "    func = lambda x: sid.polarity_scores(x)['compound']\n",
    "    \n",
    "    data['sentiment_review'] = data['reviewText'].astype(str).apply(func)\n",
    "    data['sentiment_summary'] = data['summary'].astype(str).apply(func)\n",
    "    \n",
    "    data['sentiment_average'] = (data['sentiment_review'] + data['sentiment_summary'])*0.5\n",
    "    data['sentiment_rescaled'] = (data['sentiment_average'] + 1) * 2 + 1\n",
    "    \n",
    "    data['combined'] = (data['sentiment_rescaled'] + data['overall']) * 0.5\n",
    "    \n",
    "    # multiply the scores with the weight\n",
    "    data['weighted_sentiment_review'] = data['weighted_help'] * data['sentiment_review']\n",
    "    data['weighted_sentiment_summary'] = data['weighted_help'] * data['sentiment_summary']\n",
    "    data['weighted_sentiment_average'] = data['weighted_help'] * data['sentiment_average']\n",
    "    data['weighted_sentiment_rescaled'] = data['weighted_help'] * data['sentiment_rescaled']\n",
    "    data['weighted_overall'] = data['weighted_help'] * data['overall']\n",
    "    data['weighted_combined'] = data['weighted_help'] * data['combined']\n",
    "    \n",
    "    # sum everything\n",
    "    weighted_score = data.groupby(data[groupby_key]).sum()\n",
    "    \n",
    "    # divide by the sum of the weights to obtain the weighted average\n",
    "    weighted_score['sentiment_review_score'] = weighted_score['weighted_sentiment_review']/weighted_score['weighted_help']\n",
    "    weighted_score['sentiment_summary_score'] = weighted_score['weighted_sentiment_summary']/weighted_score['weighted_help']\n",
    "    weighted_score['sentiment_average_score'] = weighted_score['weighted_sentiment_average']/weighted_score['weighted_help']\n",
    "    weighted_score['sentiment_rescaled'] = weighted_score['weighted_sentiment_rescaled']/weighted_score['weighted_help']\n",
    "    weighted_score['overall_score'] = weighted_score['weighted_overall']/weighted_score['weighted_help']\n",
    "    weighted_score['combined_score'] = weighted_score['weighted_combined']/weighted_score['weighted_help']\n",
    "    \n",
    "    return weighted_score[['sentiment_review_score', 'sentiment_summary_score', 'sentiment_average_score', 'sentiment_rescaled', 'overall_score', 'combined_score']]"
   ]
  },
  {
   "cell_type": "markdown",
   "metadata": {},
   "source": [
    "The same functions but translated to pyspark"
   ]
  },
  {
   "cell_type": "code",
   "execution_count": 56,
   "metadata": {},
   "outputs": [
    {
     "ename": "NameError",
     "evalue": "name 'udf' is not defined",
     "output_type": "error",
     "traceback": [
      "\u001b[0;31m---------------------------------------------------------------------------\u001b[0m",
      "\u001b[0;31mNameError\u001b[0m                                 Traceback (most recent call last)",
      "\u001b[0;32m<ipython-input-56-d2adfba72eb0>\u001b[0m in \u001b[0;36m<module>\u001b[0;34m()\u001b[0m\n\u001b[1;32m      5\u001b[0m     \u001b[0;32mreturn\u001b[0m \u001b[0;36m0.5\u001b[0m \u001b[0;32mif\u001b[0m \u001b[0mvoters\u001b[0m \u001b[0;34m==\u001b[0m \u001b[0;36m0\u001b[0m \u001b[0;32melse\u001b[0m \u001b[0mint\u001b[0m\u001b[0;34m(\u001b[0m\u001b[0mhelpful\u001b[0m\u001b[0;34m)\u001b[0m\u001b[0;34m/\u001b[0m\u001b[0mvoters\u001b[0m\u001b[0;34m\u001b[0m\u001b[0m\n\u001b[1;32m      6\u001b[0m \u001b[0;34m\u001b[0m\u001b[0m\n\u001b[0;32m----> 7\u001b[0;31m \u001b[0mhelpful_spark\u001b[0m \u001b[0;34m=\u001b[0m \u001b[0mudf\u001b[0m\u001b[0;34m(\u001b[0m\u001b[0mweighted_helpful_sp\u001b[0m\u001b[0;34m,\u001b[0m \u001b[0mT\u001b[0m\u001b[0;34m.\u001b[0m\u001b[0mFloatType\u001b[0m\u001b[0;34m(\u001b[0m\u001b[0;34m)\u001b[0m\u001b[0;34m)\u001b[0m\u001b[0;34m\u001b[0m\u001b[0m\n\u001b[0m\u001b[1;32m      8\u001b[0m \u001b[0;34m\u001b[0m\u001b[0m\n\u001b[1;32m      9\u001b[0m \u001b[0;31m# user defined functions to use with spark\u001b[0m\u001b[0;34m\u001b[0m\u001b[0;34m\u001b[0m\u001b[0m\n",
      "\u001b[0;31mNameError\u001b[0m: name 'udf' is not defined"
     ]
    }
   ],
   "source": [
    "# compute the weighted average of the two scores for a book\n",
    "def weighted_helpful_sp(helpful, not_helpful):\n",
    "    voters = int(helpful) + int(not_helpful)\n",
    "    \n",
    "    return 0.5 if voters == 0 else int(helpful)/voters\n",
    "\n",
    "helpful_spark = udf(weighted_helpful_sp, T.FloatType())\n",
    "\n",
    "# user defined functions to use with spark\n",
    "average = udf(lambda x, y: (float(x) + float(y))*0.5, T.FloatType())\n",
    "rescale = udf(lambda x: (float(x) + 1) * 2 + 1 , T.FloatType())\n",
    "times = udf(lambda x, y: float(x)*float(y), T.FloatType())\n",
    "div = udf(lambda x, y: float(x)/float(y), T.FloatType())\n",
    "\n",
    "def weighted_scores_spark(data, groupby_key):\n",
    "    # get the weight\n",
    "    data = data.withColumn('weighted_help', helpful_spark('helpful', 'not_helpful'))\n",
    "    #data['weighted_help'] = (data['helpful'].astype(list)).apply(weighted_helpful)\n",
    "    \n",
    "    func = udf(lambda x: sid.polarity_scores(x)['compound'], T.DoubleType())\n",
    "    \n",
    "    data = data.withColumn('sentiment_review', func('reviewText'))\n",
    "    \n",
    "    data = data.withColumn('sentiment_summary', func('summary'))\n",
    "    \n",
    "    #print(data.select('sentiment_review').show())\n",
    "    \n",
    "    data = data.withColumn('sentiment_average', average('sentiment_review','sentiment_summary'))\n",
    "    data = data.withColumn('sentiment_rescaled', rescale('sentiment_average'))\n",
    "    \n",
    "    data = data.withColumn('combined', average('sentiment_rescaled','overall'))\n",
    "    \n",
    "    # multiply the scores with the weight\n",
    "    data = data.withColumn('weighted_sentiment_review',times('weighted_help','sentiment_review'))\n",
    "    data = data.withColumn('weighted_sentiment_summary', times('weighted_help', 'sentiment_summary'))\n",
    "    data = data.withColumn('weighted_sentiment_average', times('weighted_help', 'sentiment_average'))\n",
    "    data = data.withColumn('weighted_sentiment_rescaled', times('weighted_help','sentiment_rescaled'))\n",
    "    data = data.withColumn('weighted_overall', times('weighted_help','overall'))\n",
    "    data = data.withColumn('weighted_combined', times('weighted_help', 'combined'))\n",
    "\n",
    "\n",
    "    w = data.groupby(groupby_key).agg(\n",
    "        F.sum('weighted_help').alias('weighted_help'),\n",
    "        F.sum('weighted_sentiment_review').alias('weighted_sentiment_review'),\n",
    "        F.sum('weighted_sentiment_summary').alias('weighted_sentiment_summary'),\n",
    "        F.sum('weighted_sentiment_average').alias('weighted_sentiment_average'),\n",
    "        F.sum('weighted_sentiment_rescaled').alias('weighted_sentiment_rescaled'),\n",
    "        F.sum('weighted_overall').alias('weighted_overall'),\n",
    "        F.sum('weighted_combined').alias('weighted_combined')\n",
    "    )\n",
    "\n",
    "    # divide by the sum of the weights to obtain the weighted average\n",
    "    w = w.withColumn('sentiment_review_score', div('weighted_sentiment_review','weighted_help'))\n",
    "    w = w.withColumn('sentiment_summary_score', div('weighted_sentiment_summary', 'weighted_help'))\n",
    "    w = w.withColumn('sentiment_average_score', div('weighted_sentiment_average', 'weighted_help'))\n",
    "    w = w.withColumn('sentiment_rescaled', div('weighted_sentiment_rescaled','weighted_help'))\n",
    "    w = w.withColumn('overall_score', div('weighted_overall', 'weighted_help'))\n",
    "    w = w.withColumn('combined_score', div('weighted_combined', 'weighted_help'))\n",
    "    \n",
    "    return w.select([groupby_key,'sentiment_review_score', 'sentiment_summary_score', 'sentiment_average_score', 'sentiment_rescaled', 'overall_score', 'combined_score'])"
   ]
  },
  {
   "cell_type": "markdown",
   "metadata": {},
   "source": [
    "Compute only the sentiment score without grouping or rescaling"
   ]
  },
  {
   "cell_type": "code",
   "execution_count": 57,
   "metadata": {
    "collapsed": true
   },
   "outputs": [],
   "source": [
    "def compute_review(data):\n",
    "    func = udf(lambda x: sid.polarity_scores(x)['compound'], T.DoubleType())\n",
    "    \n",
    "    data = data.withColumn('sentiment_review', func('reviewText'))\n",
    "    data = data.withColumn('sentiment_summary', func('summary'))\n",
    "    data = data.withColumn('average', average('sentiment_review', 'sentiment_summary'))\n",
    "    \n",
    "    return data.select(['overall', 'asin', 'sentiment_review', 'sentiment_summary', 'average'])\n",
    " "
   ]
  },
  {
   "cell_type": "markdown",
   "metadata": {},
   "source": [
    "Compute the functions by batch to avoid runnning out of heap space for spark, and reduce the local memory usage. "
   ]
  },
  {
   "cell_type": "code",
   "execution_count": 58,
   "metadata": {
    "collapsed": true
   },
   "outputs": [],
   "source": [
    "def batch_index(index, size):\n",
    "    \"\"\"\n",
    "    When given the authors as index, the index will be split such that \n",
    "    all the reviews for the same author stay together.\n",
    "    \"\"\"\n",
    "    out = []\n",
    "    n = len(index)\n",
    "    print(n)\n",
    "    partition = int(n/size)\n",
    "    for i in range(partition):\n",
    "        from_ = i*size\n",
    "        if (i+1)*size - 1 > n:\n",
    "            end = n\n",
    "        else:\n",
    "            end = (i+1)*size\n",
    "        out.append(index[from_:end])\n",
    "    return out\n",
    "\n",
    "# no spark version\n",
    "def compute_by_batch(data, size, path, last_batch=0, override=False):\n",
    "    indices = batch_index(data.index.unique(), size)\n",
    "    indices = indices[last_batch:]\n",
    "        \n",
    "    for i, index in enumerate(indices):\n",
    "        subdata = data.loc[index]\n",
    "        print(\"Batch {}/{} of length {}\".format(last_batch+i+1, len(indices), len(subdata)))\n",
    "        sparkdf = sqlContext.createDataFrame(subdata.reset_index().astype(str))\n",
    "        result = weighted_scores_spark(sparkdf, 'authors').toPandas()\n",
    "        \n",
    "        if last_batch == 0 and i == 0 and override:\n",
    "            result.to_csv(path)\n",
    "        else:\n",
    "            result.to_csv(path, header=False,mode='a')\n",
    "            \n",
    "        sqlContext.clearCache()\n",
    "\n",
    "# spark version\n",
    "def compute_by_batch_ns(data, size, path, last_batch=0, override = False):\n",
    "    indices = batch_index(data.index.unique(), size)\n",
    "    indices = indices[last_batch:]\n",
    "        \n",
    "    for i, index in enumerate(indices):\n",
    "        subdata = data.loc[index]\n",
    "        print(\"Batch {}/{} of length {}\".format(last_batch+i+1, len(indices), len(subdata)))\n",
    "        result = weighted_scores(subdata.reset_index(), 'authors')\n",
    "        \n",
    "        if last_batch == 0 and i == 0 and override:\n",
    "            result.to_csv(path)\n",
    "        else:\n",
    "            result.to_csv(path, header=False,mode='a')\n",
    "\n",
    "# spark version for any function\n",
    "def compute_by_batch_gen(data, function, size, path, last_batch=0, override = False):\n",
    "    indices = batch_index(data.index.unique(), size)\n",
    "    indices = indices[last_batch:]\n",
    "        \n",
    "    for i, index in enumerate(indices):\n",
    "        subdata = data.loc[index]\n",
    "        print(\"Batch {}/{} of length {}\".format(last_batch+i+1, len(indices), len(subdata)))\n",
    "        sparkdf = sqlContext.createDataFrame(subdata.reset_index().astype(str))\n",
    "        result = function(sparkdf).toPandas()\n",
    "        \n",
    "        if last_batch == 0 and i == 0 and override:\n",
    "            result.to_csv(path)\n",
    "        else:\n",
    "            result.to_csv(path, header=False,mode='a')\n",
    "        sqlContext.clearCache()\n",
    "        \n",
    "weight_by_author = lambda x: weighted_scores_spark(x, 'authors')"
   ]
  },
  {
   "cell_type": "code",
   "execution_count": 59,
   "metadata": {
    "collapsed": true
   },
   "outputs": [],
   "source": [
    "WRITE_SCORES = False"
   ]
  },
  {
   "cell_type": "code",
   "execution_count": 60,
   "metadata": {
    "collapsed": true,
    "scrolled": true
   },
   "outputs": [],
   "source": [
    "if WRITE_SCORES:\n",
    "    compute_by_batch_gen(booksh_by_author.reset_index(), compute_review, 20, scores_books_overall)"
   ]
  },
  {
   "cell_type": "code",
   "execution_count": 61,
   "metadata": {
    "collapsed": true,
    "scrolled": true
   },
   "outputs": [],
   "source": [
    "if WRITE_SCORES:\n",
    "    compute_by_batch(ebooksh_by_author, 100, scores_ebooks_authors)"
   ]
  },
  {
   "cell_type": "code",
   "execution_count": 62,
   "metadata": {
    "scrolled": true
   },
   "outputs": [],
   "source": [
    "if WRITE_SCORES:\n",
    "    compute_by_batch_gen(ebooksh_by_author, compute_review, 200, scores_ebooks_overall_complete, True)"
   ]
  },
  {
   "cell_type": "code",
   "execution_count": 63,
   "metadata": {},
   "outputs": [],
   "source": [
    "if WRITE_SCORES:\n",
    "    compute_by_batch_gen(booksh_by_author.reset_index(), compute_review, 20000, scores_books_overall_complete, override=True)"
   ]
  },
  {
   "cell_type": "markdown",
   "metadata": {},
   "source": [
    "### Sentiment analysis by stars on books"
   ]
  },
  {
   "cell_type": "code",
   "execution_count": 66,
   "metadata": {},
   "outputs": [],
   "source": [
    "scores_books = pd.read_csv(scores_books_overall_complete)\n",
    "scores_ebooks = pd.read_csv(scores_ebooks_overall_complete)"
   ]
  },
  {
   "cell_type": "markdown",
   "metadata": {},
   "source": [
    "Reviews by star rating"
   ]
  },
  {
   "cell_type": "code",
   "execution_count": 67,
   "metadata": {
    "scrolled": true
   },
   "outputs": [
    {
     "data": {
      "text/html": [
       "<div>\n",
       "<style scoped>\n",
       "    .dataframe tbody tr th:only-of-type {\n",
       "        vertical-align: middle;\n",
       "    }\n",
       "\n",
       "    .dataframe tbody tr th {\n",
       "        vertical-align: top;\n",
       "    }\n",
       "\n",
       "    .dataframe thead th {\n",
       "        text-align: right;\n",
       "    }\n",
       "</style>\n",
       "<table border=\"1\" class=\"dataframe\">\n",
       "  <thead>\n",
       "    <tr style=\"text-align: right;\">\n",
       "      <th></th>\n",
       "      <th>sentiment_review</th>\n",
       "      <th>sentiment_summary</th>\n",
       "      <th>average</th>\n",
       "    </tr>\n",
       "    <tr>\n",
       "      <th>overall</th>\n",
       "      <th></th>\n",
       "      <th></th>\n",
       "      <th></th>\n",
       "    </tr>\n",
       "  </thead>\n",
       "  <tbody>\n",
       "    <tr>\n",
       "      <th>1</th>\n",
       "      <td>-0.002845</td>\n",
       "      <td>-0.132002</td>\n",
       "      <td>-0.067424</td>\n",
       "    </tr>\n",
       "    <tr>\n",
       "      <th>2</th>\n",
       "      <td>0.198426</td>\n",
       "      <td>-0.048998</td>\n",
       "      <td>0.074714</td>\n",
       "    </tr>\n",
       "    <tr>\n",
       "      <th>3</th>\n",
       "      <td>0.482524</td>\n",
       "      <td>0.134193</td>\n",
       "      <td>0.308358</td>\n",
       "    </tr>\n",
       "    <tr>\n",
       "      <th>4</th>\n",
       "      <td>0.683315</td>\n",
       "      <td>0.300599</td>\n",
       "      <td>0.491957</td>\n",
       "    </tr>\n",
       "    <tr>\n",
       "      <th>5</th>\n",
       "      <td>0.737728</td>\n",
       "      <td>0.352812</td>\n",
       "      <td>0.545270</td>\n",
       "    </tr>\n",
       "  </tbody>\n",
       "</table>\n",
       "</div>"
      ],
      "text/plain": [
       "         sentiment_review  sentiment_summary   average\n",
       "overall                                               \n",
       "1               -0.002845          -0.132002 -0.067424\n",
       "2                0.198426          -0.048998  0.074714\n",
       "3                0.482524           0.134193  0.308358\n",
       "4                0.683315           0.300599  0.491957\n",
       "5                0.737728           0.352812  0.545270"
      ]
     },
     "execution_count": 67,
     "metadata": {},
     "output_type": "execute_result"
    }
   ],
   "source": [
    "scores_books.groupby('overall').agg('mean').drop('Unnamed: 0', axis=1)"
   ]
  },
  {
   "cell_type": "code",
   "execution_count": 68,
   "metadata": {},
   "outputs": [
    {
     "data": {
      "image/png": "[encoded data removed]",
      "text/plain": [
       "<matplotlib.figure.Figure at 0x17e8c27f0>"
      ]
     },
     "metadata": {},
     "output_type": "display_data"
    }
   ],
   "source": [
    "plt.hist(scores_books['overall'].values);"
   ]
  },
  {
   "cell_type": "markdown",
   "metadata": {},
   "source": [
    "### Sentiment analysis by stars on ebooks"
   ]
  },
  {
   "cell_type": "code",
   "execution_count": 69,
   "metadata": {},
   "outputs": [
    {
     "data": {
      "text/plain": [
       "count    2.640000e+06\n",
       "mean     4.701620e-01\n",
       "std      3.428240e-01\n",
       "min     -9.806500e-01\n",
       "25%      3.428000e-01\n",
       "50%      4.984500e-01\n",
       "75%      7.326500e-01\n",
       "max      9.914000e-01\n",
       "Name: average, dtype: float64"
      ]
     },
     "execution_count": 69,
     "metadata": {},
     "output_type": "execute_result"
    }
   ],
   "source": [
    "scores_books['average'].describe()"
   ]
  },
  {
   "cell_type": "code",
   "execution_count": 70,
   "metadata": {},
   "outputs": [
    {
     "data": {
      "text/plain": [
       "count    2.640000e+06\n",
       "mean     4.300784e+00\n",
       "std      1.007947e+00\n",
       "min      1.000000e+00\n",
       "25%      4.000000e+00\n",
       "50%      5.000000e+00\n",
       "75%      5.000000e+00\n",
       "max      5.000000e+00\n",
       "Name: overall, dtype: float64"
      ]
     },
     "execution_count": 70,
     "metadata": {},
     "output_type": "execute_result"
    }
   ],
   "source": [
    "scores_books['overall'].describe()"
   ]
  },
  {
   "cell_type": "code",
   "execution_count": 71,
   "metadata": {},
   "outputs": [
    {
     "data": {
      "text/html": [
       "<div>\n",
       "<style scoped>\n",
       "    .dataframe tbody tr th:only-of-type {\n",
       "        vertical-align: middle;\n",
       "    }\n",
       "\n",
       "    .dataframe tbody tr th {\n",
       "        vertical-align: top;\n",
       "    }\n",
       "\n",
       "    .dataframe thead th {\n",
       "        text-align: right;\n",
       "    }\n",
       "</style>\n",
       "<table border=\"1\" class=\"dataframe\">\n",
       "  <thead>\n",
       "    <tr style=\"text-align: right;\">\n",
       "      <th></th>\n",
       "      <th>Unnamed: 0</th>\n",
       "      <th>overall</th>\n",
       "      <th>asin</th>\n",
       "      <th>sentiment_review</th>\n",
       "      <th>sentiment_summary</th>\n",
       "      <th>average</th>\n",
       "    </tr>\n",
       "  </thead>\n",
       "  <tbody>\n",
       "    <tr>\n",
       "      <th>0</th>\n",
       "      <td>0</td>\n",
       "      <td>2</td>\n",
       "      <td>B000FA64QO</td>\n",
       "      <td>0.9427</td>\n",
       "      <td>0.0000</td>\n",
       "      <td>0.47135</td>\n",
       "    </tr>\n",
       "    <tr>\n",
       "      <th>1</th>\n",
       "      <td>1</td>\n",
       "      <td>5</td>\n",
       "      <td>B000FA64QO</td>\n",
       "      <td>0.8126</td>\n",
       "      <td>0.0000</td>\n",
       "      <td>0.40630</td>\n",
       "    </tr>\n",
       "    <tr>\n",
       "      <th>2</th>\n",
       "      <td>2</td>\n",
       "      <td>4</td>\n",
       "      <td>B000FA64QO</td>\n",
       "      <td>0.8426</td>\n",
       "      <td>0.0000</td>\n",
       "      <td>0.42130</td>\n",
       "    </tr>\n",
       "    <tr>\n",
       "      <th>3</th>\n",
       "      <td>3</td>\n",
       "      <td>5</td>\n",
       "      <td>B000FA64QO</td>\n",
       "      <td>0.8020</td>\n",
       "      <td>0.0000</td>\n",
       "      <td>0.40100</td>\n",
       "    </tr>\n",
       "    <tr>\n",
       "      <th>4</th>\n",
       "      <td>4</td>\n",
       "      <td>3</td>\n",
       "      <td>B000FA64QO</td>\n",
       "      <td>-0.5145</td>\n",
       "      <td>0.3182</td>\n",
       "      <td>-0.09815</td>\n",
       "    </tr>\n",
       "  </tbody>\n",
       "</table>\n",
       "</div>"
      ],
      "text/plain": [
       "   Unnamed: 0  overall        asin  sentiment_review  sentiment_summary  \\\n",
       "0           0        2  B000FA64QO            0.9427             0.0000   \n",
       "1           1        5  B000FA64QO            0.8126             0.0000   \n",
       "2           2        4  B000FA64QO            0.8426             0.0000   \n",
       "3           3        5  B000FA64QO            0.8020             0.0000   \n",
       "4           4        3  B000FA64QO           -0.5145             0.3182   \n",
       "\n",
       "   average  \n",
       "0  0.47135  \n",
       "1  0.40630  \n",
       "2  0.42130  \n",
       "3  0.40100  \n",
       "4 -0.09815  "
      ]
     },
     "execution_count": 71,
     "metadata": {},
     "output_type": "execute_result"
    }
   ],
   "source": [
    "scores_ebooks.head()"
   ]
  },
  {
   "cell_type": "code",
   "execution_count": 72,
   "metadata": {},
   "outputs": [
    {
     "data": {
      "text/html": [
       "<div>\n",
       "<style scoped>\n",
       "    .dataframe tbody tr th:only-of-type {\n",
       "        vertical-align: middle;\n",
       "    }\n",
       "\n",
       "    .dataframe tbody tr th {\n",
       "        vertical-align: top;\n",
       "    }\n",
       "\n",
       "    .dataframe thead th {\n",
       "        text-align: right;\n",
       "    }\n",
       "</style>\n",
       "<table border=\"1\" class=\"dataframe\">\n",
       "  <thead>\n",
       "    <tr style=\"text-align: right;\">\n",
       "      <th></th>\n",
       "      <th>sentiment_review</th>\n",
       "      <th>sentiment_summary</th>\n",
       "      <th>average</th>\n",
       "    </tr>\n",
       "    <tr>\n",
       "      <th>overall</th>\n",
       "      <th></th>\n",
       "      <th></th>\n",
       "      <th></th>\n",
       "    </tr>\n",
       "  </thead>\n",
       "  <tbody>\n",
       "    <tr>\n",
       "      <th>1</th>\n",
       "      <td>-0.012056</td>\n",
       "      <td>-0.118462</td>\n",
       "      <td>-0.065259</td>\n",
       "    </tr>\n",
       "    <tr>\n",
       "      <th>2</th>\n",
       "      <td>0.195050</td>\n",
       "      <td>-0.029531</td>\n",
       "      <td>0.082760</td>\n",
       "    </tr>\n",
       "    <tr>\n",
       "      <th>3</th>\n",
       "      <td>0.511658</td>\n",
       "      <td>0.166208</td>\n",
       "      <td>0.338933</td>\n",
       "    </tr>\n",
       "    <tr>\n",
       "      <th>4</th>\n",
       "      <td>0.713440</td>\n",
       "      <td>0.312514</td>\n",
       "      <td>0.512977</td>\n",
       "    </tr>\n",
       "    <tr>\n",
       "      <th>5</th>\n",
       "      <td>0.761192</td>\n",
       "      <td>0.354506</td>\n",
       "      <td>0.557849</td>\n",
       "    </tr>\n",
       "  </tbody>\n",
       "</table>\n",
       "</div>"
      ],
      "text/plain": [
       "         sentiment_review  sentiment_summary   average\n",
       "overall                                               \n",
       "1               -0.012056          -0.118462 -0.065259\n",
       "2                0.195050          -0.029531  0.082760\n",
       "3                0.511658           0.166208  0.338933\n",
       "4                0.713440           0.312514  0.512977\n",
       "5                0.761192           0.354506  0.557849"
      ]
     },
     "execution_count": 72,
     "metadata": {},
     "output_type": "execute_result"
    }
   ],
   "source": [
    "scores_ebooks.groupby('overall').agg('mean').drop('Unnamed: 0', axis=1)"
   ]
  },
  {
   "cell_type": "code",
   "execution_count": 73,
   "metadata": {},
   "outputs": [
    {
     "data": {
      "image/png": "[encoded data removed]",
      "text/plain": [
       "<matplotlib.figure.Figure at 0x120c54390>"
      ]
     },
     "metadata": {},
     "output_type": "display_data"
    }
   ],
   "source": [
    "plt.hist(scores_ebooks['overall'].values);"
   ]
  },
  {
   "cell_type": "code",
   "execution_count": 74,
   "metadata": {},
   "outputs": [
    {
     "data": {
      "text/plain": [
       "count    1.496015e+06\n",
       "mean     4.961194e-01\n",
       "std      3.257232e-01\n",
       "min     -9.806500e-01\n",
       "25%      3.818500e-01\n",
       "50%      5.382500e-01\n",
       "75%      7.439500e-01\n",
       "max      9.914000e-01\n",
       "Name: average, dtype: float64"
      ]
     },
     "execution_count": 74,
     "metadata": {},
     "output_type": "execute_result"
    }
   ],
   "source": [
    "scores_ebooks['average'].describe()"
   ]
  },
  {
   "cell_type": "code",
   "execution_count": 75,
   "metadata": {
    "scrolled": true
   },
   "outputs": [
    {
     "data": {
      "text/plain": [
       "count    1.496015e+06\n",
       "mean     4.365069e+00\n",
       "std      9.389572e-01\n",
       "min      1.000000e+00\n",
       "25%      4.000000e+00\n",
       "50%      5.000000e+00\n",
       "75%      5.000000e+00\n",
       "max      5.000000e+00\n",
       "Name: overall, dtype: float64"
      ]
     },
     "execution_count": 75,
     "metadata": {},
     "output_type": "execute_result"
    }
   ],
   "source": [
    "scores_ebooks['overall'].describe()"
   ]
  },
  {
   "cell_type": "code",
   "execution_count": 76,
   "metadata": {
    "collapsed": true
   },
   "outputs": [],
   "source": [
    "scores_books_by_authors = pd.read_csv(scores_books_authors)\n",
    "scores_ebooks_by_authors = pd.read_csv(scores_ebooks_authors)"
   ]
  },
  {
   "cell_type": "markdown",
   "metadata": {},
   "source": [
    "Reviews per authors"
   ]
  },
  {
   "cell_type": "code",
   "execution_count": 77,
   "metadata": {},
   "outputs": [
    {
     "data": {
      "text/html": [
       "<div>\n",
       "<style scoped>\n",
       "    .dataframe tbody tr th:only-of-type {\n",
       "        vertical-align: middle;\n",
       "    }\n",
       "\n",
       "    .dataframe tbody tr th {\n",
       "        vertical-align: top;\n",
       "    }\n",
       "\n",
       "    .dataframe thead th {\n",
       "        text-align: right;\n",
       "    }\n",
       "</style>\n",
       "<table border=\"1\" class=\"dataframe\">\n",
       "  <thead>\n",
       "    <tr style=\"text-align: right;\">\n",
       "      <th></th>\n",
       "      <th>authors</th>\n",
       "      <th>sentiment_average_score_book</th>\n",
       "      <th>overall_score_book</th>\n",
       "      <th>combined_score_book</th>\n",
       "      <th>sentiment_average_score_kindle</th>\n",
       "      <th>overall_score_kindle</th>\n",
       "      <th>combined_score_kindle</th>\n",
       "    </tr>\n",
       "  </thead>\n",
       "  <tbody>\n",
       "    <tr>\n",
       "      <th>0</th>\n",
       "      <td>Jon Evans</td>\n",
       "      <td>0.423018</td>\n",
       "      <td>4.265808</td>\n",
       "      <td>4.055922</td>\n",
       "      <td>0.458332</td>\n",
       "      <td>4.282822</td>\n",
       "      <td>4.099743</td>\n",
       "    </tr>\n",
       "    <tr>\n",
       "      <th>1</th>\n",
       "      <td>Agatha Christie</td>\n",
       "      <td>0.289064</td>\n",
       "      <td>4.333456</td>\n",
       "      <td>3.955791</td>\n",
       "      <td>0.397621</td>\n",
       "      <td>4.377827</td>\n",
       "      <td>4.086535</td>\n",
       "    </tr>\n",
       "    <tr>\n",
       "      <th>2</th>\n",
       "      <td>James Patterson</td>\n",
       "      <td>0.294031</td>\n",
       "      <td>3.959031</td>\n",
       "      <td>3.773546</td>\n",
       "      <td>0.342400</td>\n",
       "      <td>3.333333</td>\n",
       "      <td>3.509067</td>\n",
       "    </tr>\n",
       "    <tr>\n",
       "      <th>3</th>\n",
       "      <td>Stella Riley</td>\n",
       "      <td>0.132290</td>\n",
       "      <td>4.600000</td>\n",
       "      <td>3.932290</td>\n",
       "      <td>0.753520</td>\n",
       "      <td>4.400000</td>\n",
       "      <td>4.453520</td>\n",
       "    </tr>\n",
       "    <tr>\n",
       "      <th>4</th>\n",
       "      <td>Philip K. Dick</td>\n",
       "      <td>0.269942</td>\n",
       "      <td>4.169998</td>\n",
       "      <td>3.854941</td>\n",
       "      <td>0.267467</td>\n",
       "      <td>4.229118</td>\n",
       "      <td>3.882026</td>\n",
       "    </tr>\n",
       "  </tbody>\n",
       "</table>\n",
       "</div>"
      ],
      "text/plain": [
       "           authors  sentiment_average_score_book  overall_score_book  \\\n",
       "0        Jon Evans                      0.423018            4.265808   \n",
       "1  Agatha Christie                      0.289064            4.333456   \n",
       "2  James Patterson                      0.294031            3.959031   \n",
       "3     Stella Riley                      0.132290            4.600000   \n",
       "4   Philip K. Dick                      0.269942            4.169998   \n",
       "\n",
       "   combined_score_book  sentiment_average_score_kindle  overall_score_kindle  \\\n",
       "0             4.055922                        0.458332              4.282822   \n",
       "1             3.955791                        0.397621              4.377827   \n",
       "2             3.773546                        0.342400              3.333333   \n",
       "3             3.932290                        0.753520              4.400000   \n",
       "4             3.854941                        0.267467              4.229118   \n",
       "\n",
       "   combined_score_kindle  \n",
       "0               4.099743  \n",
       "1               4.086535  \n",
       "2               3.509067  \n",
       "3               4.453520  \n",
       "4               3.882026  "
      ]
     },
     "execution_count": 77,
     "metadata": {},
     "output_type": "execute_result"
    }
   ],
   "source": [
    "scores_books_by_authors = scores_books_by_authors[['authors', 'sentiment_average_score', 'overall_score','combined_score']]\n",
    "scores_ebooks_by_authors = scores_ebooks_by_authors[['authors', 'sentiment_average_score', 'overall_score','combined_score']]\n",
    "\n",
    "scores_by_authors = scores_books_by_authors.merge(scores_ebooks_by_authors, on='authors', suffixes=('_book', '_kindle'))\n",
    "scores_by_authors.head()"
   ]
  },
  {
   "cell_type": "code",
   "execution_count": 78,
   "metadata": {},
   "outputs": [
    {
     "data": {
      "text/plain": [
       "2772"
      ]
     },
     "execution_count": 78,
     "metadata": {},
     "output_type": "execute_result"
    }
   ],
   "source": [
    "len(scores_by_authors)"
   ]
  },
  {
   "cell_type": "code",
   "execution_count": 79,
   "metadata": {},
   "outputs": [
    {
     "data": {
      "text/plain": [
       "sentiment_average_score_book      0.462495\n",
       "overall_score_book                4.287626\n",
       "combined_score_book               4.106308\n",
       "sentiment_average_score_kindle    0.478348\n",
       "overall_score_kindle              4.336031\n",
       "combined_score_kindle             4.146363\n",
       "dtype: float64"
      ]
     },
     "execution_count": 79,
     "metadata": {},
     "output_type": "execute_result"
    }
   ],
   "source": [
    "scores_by_authors.mean()"
   ]
  },
  {
   "cell_type": "code",
   "execution_count": 80,
   "metadata": {
    "scrolled": true
   },
   "outputs": [
    {
     "data": {
      "text/html": [
       "<div>\n",
       "<style scoped>\n",
       "    .dataframe tbody tr th:only-of-type {\n",
       "        vertical-align: middle;\n",
       "    }\n",
       "\n",
       "    .dataframe tbody tr th {\n",
       "        vertical-align: top;\n",
       "    }\n",
       "\n",
       "    .dataframe thead th {\n",
       "        text-align: right;\n",
       "    }\n",
       "</style>\n",
       "<table border=\"1\" class=\"dataframe\">\n",
       "  <thead>\n",
       "    <tr style=\"text-align: right;\">\n",
       "      <th></th>\n",
       "      <th>Unnamed: 0</th>\n",
       "      <th>overall</th>\n",
       "      <th>summary</th>\n",
       "      <th>helpful</th>\n",
       "      <th>reviewText</th>\n",
       "      <th>authors</th>\n",
       "      <th>not_helpful</th>\n",
       "    </tr>\n",
       "  </thead>\n",
       "  <tbody>\n",
       "    <tr>\n",
       "      <th>0</th>\n",
       "      <td>268</td>\n",
       "      <td>5</td>\n",
       "      <td>Great</td>\n",
       "      <td>0</td>\n",
       "      <td>for getting your kid introduced to his/her ABC...</td>\n",
       "      <td>Stan Berenstain</td>\n",
       "      <td>0</td>\n",
       "    </tr>\n",
       "    <tr>\n",
       "      <th>1</th>\n",
       "      <td>268</td>\n",
       "      <td>5</td>\n",
       "      <td>Great</td>\n",
       "      <td>0</td>\n",
       "      <td>for getting your kid introduced to his/her ABC...</td>\n",
       "      <td>Jan Berenstain</td>\n",
       "      <td>0</td>\n",
       "    </tr>\n",
       "    <tr>\n",
       "      <th>2</th>\n",
       "      <td>269</td>\n",
       "      <td>3</td>\n",
       "      <td>A celebration of B</td>\n",
       "      <td>1</td>\n",
       "      <td>This Book is funny and is full of B words, lik...</td>\n",
       "      <td>Stan Berenstain</td>\n",
       "      <td>3</td>\n",
       "    </tr>\n",
       "    <tr>\n",
       "      <th>3</th>\n",
       "      <td>269</td>\n",
       "      <td>3</td>\n",
       "      <td>A celebration of B</td>\n",
       "      <td>1</td>\n",
       "      <td>This Book is funny and is full of B words, lik...</td>\n",
       "      <td>Jan Berenstain</td>\n",
       "      <td>3</td>\n",
       "    </tr>\n",
       "    <tr>\n",
       "      <th>4</th>\n",
       "      <td>270</td>\n",
       "      <td>5</td>\n",
       "      <td>Big B Believer</td>\n",
       "      <td>2</td>\n",
       "      <td>A favorite Berenstain book of my children I wa...</td>\n",
       "      <td>Stan Berenstain</td>\n",
       "      <td>2</td>\n",
       "    </tr>\n",
       "  </tbody>\n",
       "</table>\n",
       "</div>"
      ],
      "text/plain": [
       "   Unnamed: 0  overall             summary  helpful  \\\n",
       "0         268        5               Great        0   \n",
       "1         268        5               Great        0   \n",
       "2         269        3  A celebration of B        1   \n",
       "3         269        3  A celebration of B        1   \n",
       "4         270        5      Big B Believer        2   \n",
       "\n",
       "                                          reviewText          authors  \\\n",
       "0  for getting your kid introduced to his/her ABC...  Stan Berenstain   \n",
       "1  for getting your kid introduced to his/her ABC...   Jan Berenstain   \n",
       "2  This Book is funny and is full of B words, lik...  Stan Berenstain   \n",
       "3  This Book is funny and is full of B words, lik...   Jan Berenstain   \n",
       "4  A favorite Berenstain book of my children I wa...  Stan Berenstain   \n",
       "\n",
       "   not_helpful  \n",
       "0            0  \n",
       "1            0  \n",
       "2            3  \n",
       "3            3  \n",
       "4            2  "
      ]
     },
     "execution_count": 80,
     "metadata": {},
     "output_type": "execute_result"
    }
   ],
   "source": [
    "matched_booksh = matched_booksh.dropna(subset=['authors'])\n",
    "matched_booksh.head()"
   ]
  },
  {
   "cell_type": "markdown",
   "metadata": {},
   "source": [
    "### Refined analysis on some specific authors\n",
    "Now we want to see which authors has the most reviews for the books"
   ]
  },
  {
   "cell_type": "code",
   "execution_count": null,
   "metadata": {
    "collapsed": true
   },
   "outputs": [],
   "source": []
  },
  {
   "cell_type": "code",
   "execution_count": 81,
   "metadata": {
    "collapsed": true
   },
   "outputs": [],
   "source": [
    "books_review_per_author = matched_booksh.groupby('authors').agg('count')\n",
    "most_reviewed_books_author = books_review_per_author.sort_values('overall', ascending =False)"
   ]
  },
  {
   "cell_type": "code",
   "execution_count": 82,
   "metadata": {},
   "outputs": [
    {
     "data": {
      "text/plain": [
       "21909"
      ]
     },
     "execution_count": 82,
     "metadata": {},
     "output_type": "execute_result"
    }
   ],
   "source": [
    "len(most_reviewed_books_author)"
   ]
  },
  {
   "cell_type": "code",
   "execution_count": 84,
   "metadata": {
    "scrolled": false
   },
   "outputs": [
    {
     "data": {
      "text/html": [
       "<div>\n",
       "<style scoped>\n",
       "    .dataframe tbody tr th:only-of-type {\n",
       "        vertical-align: middle;\n",
       "    }\n",
       "\n",
       "    .dataframe tbody tr th {\n",
       "        vertical-align: top;\n",
       "    }\n",
       "\n",
       "    .dataframe thead th {\n",
       "        text-align: right;\n",
       "    }\n",
       "</style>\n",
       "<table border=\"1\" class=\"dataframe\">\n",
       "  <thead>\n",
       "    <tr style=\"text-align: right;\">\n",
       "      <th></th>\n",
       "      <th>Unnamed: 0</th>\n",
       "      <th>overall</th>\n",
       "      <th>summary</th>\n",
       "      <th>helpful</th>\n",
       "      <th>reviewText</th>\n",
       "      <th>not_helpful</th>\n",
       "    </tr>\n",
       "    <tr>\n",
       "      <th>authors</th>\n",
       "      <th></th>\n",
       "      <th></th>\n",
       "      <th></th>\n",
       "      <th></th>\n",
       "      <th></th>\n",
       "      <th></th>\n",
       "    </tr>\n",
       "  </thead>\n",
       "  <tbody>\n",
       "    <tr>\n",
       "      <th>Stephen King</th>\n",
       "      <td>24586</td>\n",
       "      <td>24586</td>\n",
       "      <td>24586</td>\n",
       "      <td>24586</td>\n",
       "      <td>24586</td>\n",
       "      <td>24586</td>\n",
       "    </tr>\n",
       "    <tr>\n",
       "      <th>Nora Roberts</th>\n",
       "      <td>18560</td>\n",
       "      <td>18560</td>\n",
       "      <td>18560</td>\n",
       "      <td>18560</td>\n",
       "      <td>18560</td>\n",
       "      <td>18560</td>\n",
       "    </tr>\n",
       "    <tr>\n",
       "      <th>James Patterson</th>\n",
       "      <td>16242</td>\n",
       "      <td>16242</td>\n",
       "      <td>16242</td>\n",
       "      <td>16242</td>\n",
       "      <td>16242</td>\n",
       "      <td>16242</td>\n",
       "    </tr>\n",
       "    <tr>\n",
       "      <th>Lee Child</th>\n",
       "      <td>13727</td>\n",
       "      <td>13727</td>\n",
       "      <td>13727</td>\n",
       "      <td>13727</td>\n",
       "      <td>13727</td>\n",
       "      <td>13727</td>\n",
       "    </tr>\n",
       "    <tr>\n",
       "      <th>H.M. Ward</th>\n",
       "      <td>13292</td>\n",
       "      <td>13292</td>\n",
       "      <td>13292</td>\n",
       "      <td>13292</td>\n",
       "      <td>13292</td>\n",
       "      <td>13292</td>\n",
       "    </tr>\n",
       "    <tr>\n",
       "      <th>David Baldacci</th>\n",
       "      <td>12219</td>\n",
       "      <td>12219</td>\n",
       "      <td>12219</td>\n",
       "      <td>12219</td>\n",
       "      <td>12219</td>\n",
       "      <td>12219</td>\n",
       "    </tr>\n",
       "    <tr>\n",
       "      <th>Michael Connelly</th>\n",
       "      <td>11683</td>\n",
       "      <td>11683</td>\n",
       "      <td>11683</td>\n",
       "      <td>11683</td>\n",
       "      <td>11683</td>\n",
       "      <td>11683</td>\n",
       "    </tr>\n",
       "    <tr>\n",
       "      <th>Dean Koontz</th>\n",
       "      <td>10840</td>\n",
       "      <td>10840</td>\n",
       "      <td>10840</td>\n",
       "      <td>10840</td>\n",
       "      <td>10840</td>\n",
       "      <td>10840</td>\n",
       "    </tr>\n",
       "    <tr>\n",
       "      <th>Abbi Glines</th>\n",
       "      <td>10696</td>\n",
       "      <td>10696</td>\n",
       "      <td>10695</td>\n",
       "      <td>10696</td>\n",
       "      <td>10696</td>\n",
       "      <td>10696</td>\n",
       "    </tr>\n",
       "    <tr>\n",
       "      <th>Debbie Macomber</th>\n",
       "      <td>9771</td>\n",
       "      <td>9771</td>\n",
       "      <td>9771</td>\n",
       "      <td>9771</td>\n",
       "      <td>9771</td>\n",
       "      <td>9771</td>\n",
       "    </tr>\n",
       "    <tr>\n",
       "      <th>Veronica Roth</th>\n",
       "      <td>9643</td>\n",
       "      <td>9643</td>\n",
       "      <td>9642</td>\n",
       "      <td>9643</td>\n",
       "      <td>9642</td>\n",
       "      <td>9643</td>\n",
       "    </tr>\n",
       "    <tr>\n",
       "      <th>Sylvia Day</th>\n",
       "      <td>9593</td>\n",
       "      <td>9593</td>\n",
       "      <td>9593</td>\n",
       "      <td>9593</td>\n",
       "      <td>9593</td>\n",
       "      <td>9593</td>\n",
       "    </tr>\n",
       "    <tr>\n",
       "      <th>J.R. Ward</th>\n",
       "      <td>8762</td>\n",
       "      <td>8762</td>\n",
       "      <td>8762</td>\n",
       "      <td>8762</td>\n",
       "      <td>8762</td>\n",
       "      <td>8762</td>\n",
       "    </tr>\n",
       "    <tr>\n",
       "      <th>Jessica Sorensen</th>\n",
       "      <td>7816</td>\n",
       "      <td>7816</td>\n",
       "      <td>7815</td>\n",
       "      <td>7816</td>\n",
       "      <td>7815</td>\n",
       "      <td>7816</td>\n",
       "    </tr>\n",
       "    <tr>\n",
       "      <th>Hugh Howey</th>\n",
       "      <td>7628</td>\n",
       "      <td>7628</td>\n",
       "      <td>7628</td>\n",
       "      <td>7628</td>\n",
       "      <td>7628</td>\n",
       "      <td>7628</td>\n",
       "    </tr>\n",
       "    <tr>\n",
       "      <th>Kristen Ashley</th>\n",
       "      <td>7417</td>\n",
       "      <td>7417</td>\n",
       "      <td>7417</td>\n",
       "      <td>7417</td>\n",
       "      <td>7417</td>\n",
       "      <td>7417</td>\n",
       "    </tr>\n",
       "    <tr>\n",
       "      <th>Marie Force</th>\n",
       "      <td>7150</td>\n",
       "      <td>7150</td>\n",
       "      <td>7150</td>\n",
       "      <td>7150</td>\n",
       "      <td>7150</td>\n",
       "      <td>7150</td>\n",
       "    </tr>\n",
       "    <tr>\n",
       "      <th>Orson Scott Card</th>\n",
       "      <td>6827</td>\n",
       "      <td>6827</td>\n",
       "      <td>6827</td>\n",
       "      <td>6827</td>\n",
       "      <td>6827</td>\n",
       "      <td>6827</td>\n",
       "    </tr>\n",
       "    <tr>\n",
       "      <th>Susan Mallery</th>\n",
       "      <td>6728</td>\n",
       "      <td>6728</td>\n",
       "      <td>6728</td>\n",
       "      <td>6728</td>\n",
       "      <td>6727</td>\n",
       "      <td>6728</td>\n",
       "    </tr>\n",
       "    <tr>\n",
       "      <th>Laurell K. Hamilton</th>\n",
       "      <td>6678</td>\n",
       "      <td>6678</td>\n",
       "      <td>6678</td>\n",
       "      <td>6678</td>\n",
       "      <td>6678</td>\n",
       "      <td>6678</td>\n",
       "    </tr>\n",
       "  </tbody>\n",
       "</table>\n",
       "</div>"
      ],
      "text/plain": [
       "                     Unnamed: 0  overall  summary  helpful  reviewText  \\\n",
       "authors                                                                  \n",
       "Stephen King              24586    24586    24586    24586       24586   \n",
       "Nora Roberts              18560    18560    18560    18560       18560   \n",
       "James Patterson           16242    16242    16242    16242       16242   \n",
       "Lee Child                 13727    13727    13727    13727       13727   \n",
       "H.M. Ward                 13292    13292    13292    13292       13292   \n",
       "David Baldacci            12219    12219    12219    12219       12219   \n",
       "Michael Connelly          11683    11683    11683    11683       11683   \n",
       "Dean Koontz               10840    10840    10840    10840       10840   \n",
       "Abbi Glines               10696    10696    10695    10696       10696   \n",
       "Debbie Macomber            9771     9771     9771     9771        9771   \n",
       "Veronica Roth              9643     9643     9642     9643        9642   \n",
       "Sylvia Day                 9593     9593     9593     9593        9593   \n",
       "J.R. Ward                  8762     8762     8762     8762        8762   \n",
       "Jessica Sorensen           7816     7816     7815     7816        7815   \n",
       "Hugh Howey                 7628     7628     7628     7628        7628   \n",
       "Kristen Ashley             7417     7417     7417     7417        7417   \n",
       "Marie Force                7150     7150     7150     7150        7150   \n",
       "Orson Scott Card           6827     6827     6827     6827        6827   \n",
       "Susan Mallery              6728     6728     6728     6728        6727   \n",
       "Laurell K. Hamilton        6678     6678     6678     6678        6678   \n",
       "\n",
       "                     not_helpful  \n",
       "authors                           \n",
       "Stephen King               24586  \n",
       "Nora Roberts               18560  \n",
       "James Patterson            16242  \n",
       "Lee Child                  13727  \n",
       "H.M. Ward                  13292  \n",
       "David Baldacci             12219  \n",
       "Michael Connelly           11683  \n",
       "Dean Koontz                10840  \n",
       "Abbi Glines                10696  \n",
       "Debbie Macomber             9771  \n",
       "Veronica Roth               9643  \n",
       "Sylvia Day                  9593  \n",
       "J.R. Ward                   8762  \n",
       "Jessica Sorensen            7816  \n",
       "Hugh Howey                  7628  \n",
       "Kristen Ashley              7417  \n",
       "Marie Force                 7150  \n",
       "Orson Scott Card            6827  \n",
       "Susan Mallery               6728  \n",
       "Laurell K. Hamilton         6678  "
      ]
     },
     "execution_count": 84,
     "metadata": {},
     "output_type": "execute_result"
    }
   ],
   "source": [
    "most_reviewed_books_author.head(20)"
   ]
  },
  {
   "cell_type": "markdown",
   "metadata": {},
   "source": [
    "Same but for the ebooks"
   ]
  },
  {
   "cell_type": "code",
   "execution_count": 85,
   "metadata": {
    "scrolled": true
   },
   "outputs": [
    {
     "data": {
      "text/html": [
       "<div>\n",
       "<style scoped>\n",
       "    .dataframe tbody tr th:only-of-type {\n",
       "        vertical-align: middle;\n",
       "    }\n",
       "\n",
       "    .dataframe tbody tr th {\n",
       "        vertical-align: top;\n",
       "    }\n",
       "\n",
       "    .dataframe thead th {\n",
       "        text-align: right;\n",
       "    }\n",
       "</style>\n",
       "<table border=\"1\" class=\"dataframe\">\n",
       "  <thead>\n",
       "    <tr style=\"text-align: right;\">\n",
       "      <th></th>\n",
       "      <th>Unnamed: 0</th>\n",
       "      <th>overall</th>\n",
       "      <th>summary</th>\n",
       "      <th>helpful</th>\n",
       "      <th>reviewText</th>\n",
       "      <th>authors</th>\n",
       "      <th>not_helpful</th>\n",
       "    </tr>\n",
       "  </thead>\n",
       "  <tbody>\n",
       "    <tr>\n",
       "      <th>0</th>\n",
       "      <td>128810</td>\n",
       "      <td>1</td>\n",
       "      <td>Gag Candy</td>\n",
       "      <td>3</td>\n",
       "      <td>I didnt get very far truth be told because it ...</td>\n",
       "      <td>Matthew Tomasetti</td>\n",
       "      <td>5</td>\n",
       "    </tr>\n",
       "    <tr>\n",
       "      <th>1</th>\n",
       "      <td>128810</td>\n",
       "      <td>1</td>\n",
       "      <td>Gag Candy</td>\n",
       "      <td>3</td>\n",
       "      <td>I didnt get very far truth be told because it ...</td>\n",
       "      <td>Brian Casimiro</td>\n",
       "      <td>5</td>\n",
       "    </tr>\n",
       "    <tr>\n",
       "      <th>2</th>\n",
       "      <td>128811</td>\n",
       "      <td>5</td>\n",
       "      <td>Blood Candy</td>\n",
       "      <td>1</td>\n",
       "      <td>I just finished reading blood candy and i must...</td>\n",
       "      <td>Matthew Tomasetti</td>\n",
       "      <td>1</td>\n",
       "    </tr>\n",
       "    <tr>\n",
       "      <th>3</th>\n",
       "      <td>128811</td>\n",
       "      <td>5</td>\n",
       "      <td>Blood Candy</td>\n",
       "      <td>1</td>\n",
       "      <td>I just finished reading blood candy and i must...</td>\n",
       "      <td>Brian Casimiro</td>\n",
       "      <td>1</td>\n",
       "    </tr>\n",
       "    <tr>\n",
       "      <th>4</th>\n",
       "      <td>128812</td>\n",
       "      <td>3</td>\n",
       "      <td>Vampires and Warewolfs</td>\n",
       "      <td>0</td>\n",
       "      <td>This book was okay. I have read better. There ...</td>\n",
       "      <td>Matthew Tomasetti</td>\n",
       "      <td>0</td>\n",
       "    </tr>\n",
       "  </tbody>\n",
       "</table>\n",
       "</div>"
      ],
      "text/plain": [
       "   Unnamed: 0  overall                 summary  helpful  \\\n",
       "0      128810        1               Gag Candy        3   \n",
       "1      128810        1               Gag Candy        3   \n",
       "2      128811        5             Blood Candy        1   \n",
       "3      128811        5             Blood Candy        1   \n",
       "4      128812        3  Vampires and Warewolfs        0   \n",
       "\n",
       "                                          reviewText            authors  \\\n",
       "0  I didnt get very far truth be told because it ...  Matthew Tomasetti   \n",
       "1  I didnt get very far truth be told because it ...     Brian Casimiro   \n",
       "2  I just finished reading blood candy and i must...  Matthew Tomasetti   \n",
       "3  I just finished reading blood candy and i must...     Brian Casimiro   \n",
       "4  This book was okay. I have read better. There ...  Matthew Tomasetti   \n",
       "\n",
       "   not_helpful  \n",
       "0            5  \n",
       "1            5  \n",
       "2            1  \n",
       "3            1  \n",
       "4            0  "
      ]
     },
     "execution_count": 85,
     "metadata": {},
     "output_type": "execute_result"
    }
   ],
   "source": [
    "matched_ebooksh = matched_ebooksh.dropna(subset=['authors'])\n",
    "matched_ebooksh.head()"
   ]
  },
  {
   "cell_type": "code",
   "execution_count": 86,
   "metadata": {
    "collapsed": true
   },
   "outputs": [],
   "source": [
    "ebooks_review_per_author = matched_ebooksh.groupby('authors').agg('count')\n",
    "most_reviewed_ebooks_author = ebooks_review_per_author.sort_values('overall', ascending =False)"
   ]
  },
  {
   "cell_type": "code",
   "execution_count": 87,
   "metadata": {
    "scrolled": true
   },
   "outputs": [
    {
     "data": {
      "text/html": [
       "<div>\n",
       "<style scoped>\n",
       "    .dataframe tbody tr th:only-of-type {\n",
       "        vertical-align: middle;\n",
       "    }\n",
       "\n",
       "    .dataframe tbody tr th {\n",
       "        vertical-align: top;\n",
       "    }\n",
       "\n",
       "    .dataframe thead th {\n",
       "        text-align: right;\n",
       "    }\n",
       "</style>\n",
       "<table border=\"1\" class=\"dataframe\">\n",
       "  <thead>\n",
       "    <tr style=\"text-align: right;\">\n",
       "      <th></th>\n",
       "      <th>Unnamed: 0</th>\n",
       "      <th>overall</th>\n",
       "      <th>summary</th>\n",
       "      <th>helpful</th>\n",
       "      <th>reviewText</th>\n",
       "      <th>not_helpful</th>\n",
       "    </tr>\n",
       "    <tr>\n",
       "      <th>authors</th>\n",
       "      <th></th>\n",
       "      <th></th>\n",
       "      <th></th>\n",
       "      <th></th>\n",
       "      <th></th>\n",
       "      <th></th>\n",
       "    </tr>\n",
       "  </thead>\n",
       "  <tbody>\n",
       "    <tr>\n",
       "      <th>Nicky Charles</th>\n",
       "      <td>2631</td>\n",
       "      <td>2631</td>\n",
       "      <td>2631</td>\n",
       "      <td>2631</td>\n",
       "      <td>2631</td>\n",
       "      <td>2631</td>\n",
       "    </tr>\n",
       "    <tr>\n",
       "      <th>Christopher Nuttall</th>\n",
       "      <td>1823</td>\n",
       "      <td>1823</td>\n",
       "      <td>1823</td>\n",
       "      <td>1823</td>\n",
       "      <td>1823</td>\n",
       "      <td>1823</td>\n",
       "    </tr>\n",
       "    <tr>\n",
       "      <th>Kristen Ashley</th>\n",
       "      <td>1466</td>\n",
       "      <td>1466</td>\n",
       "      <td>1466</td>\n",
       "      <td>1466</td>\n",
       "      <td>1466</td>\n",
       "      <td>1466</td>\n",
       "    </tr>\n",
       "    <tr>\n",
       "      <th>Claudy Conn</th>\n",
       "      <td>1397</td>\n",
       "      <td>1397</td>\n",
       "      <td>1397</td>\n",
       "      <td>1397</td>\n",
       "      <td>1397</td>\n",
       "      <td>1397</td>\n",
       "    </tr>\n",
       "    <tr>\n",
       "      <th>J. S. Cooper</th>\n",
       "      <td>1361</td>\n",
       "      <td>1361</td>\n",
       "      <td>1361</td>\n",
       "      <td>1361</td>\n",
       "      <td>1361</td>\n",
       "      <td>1361</td>\n",
       "    </tr>\n",
       "  </tbody>\n",
       "</table>\n",
       "</div>"
      ],
      "text/plain": [
       "                     Unnamed: 0  overall  summary  helpful  reviewText  \\\n",
       "authors                                                                  \n",
       "Nicky Charles              2631     2631     2631     2631        2631   \n",
       "Christopher Nuttall        1823     1823     1823     1823        1823   \n",
       "Kristen Ashley             1466     1466     1466     1466        1466   \n",
       "Claudy Conn                1397     1397     1397     1397        1397   \n",
       "J. S. Cooper               1361     1361     1361     1361        1361   \n",
       "\n",
       "                     not_helpful  \n",
       "authors                           \n",
       "Nicky Charles               2631  \n",
       "Christopher Nuttall         1823  \n",
       "Kristen Ashley              1466  \n",
       "Claudy Conn                 1397  \n",
       "J. S. Cooper                1361  "
      ]
     },
     "execution_count": 87,
     "metadata": {},
     "output_type": "execute_result"
    }
   ],
   "source": [
    "most_reviewed_ebooks_author.head()"
   ]
  },
  {
   "cell_type": "markdown",
   "metadata": {},
   "source": [
    "What can we see? Nothing, we don't have the same authors in the two rankings, and the number of ratings is not even of the same magnitude."
   ]
  },
  {
   "cell_type": "markdown",
   "metadata": {},
   "source": [
    "#### Taking the authors with the most reviews in books"
   ]
  },
  {
   "cell_type": "code",
   "execution_count": 88,
   "metadata": {
    "collapsed": true
   },
   "outputs": [],
   "source": [
    "merged_review_per_author = most_reviewed_books_author.merge(most_reviewed_ebooks_author,\n",
    "                                                          left_index=True, right_index=True,\n",
    "                                                         suffixes=('_book', '_ebook'))"
   ]
  },
  {
   "cell_type": "code",
   "execution_count": 89,
   "metadata": {
    "collapsed": true
   },
   "outputs": [],
   "source": [
    "top_books_authors = merged_review_per_author.head(20)[['overall_book','overall_ebook']]"
   ]
  },
  {
   "cell_type": "code",
   "execution_count": 90,
   "metadata": {},
   "outputs": [],
   "source": [
    "match_books_top_authors = matched_booksh[matched_booksh['authors'].isin(top_books_authors.index)]\n",
    "match_ebooks_top_authors = matched_ebooksh[matched_ebooksh['authors'].isin(top_books_authors.index)]"
   ]
  },
  {
   "cell_type": "code",
   "execution_count": 91,
   "metadata": {
    "collapsed": true
   },
   "outputs": [],
   "source": [
    "top_authors_weighted_books_score = 'top_authors_weighted_books_score.csv'\n",
    "top_authors_weighted_kindle_score = 'top_authors_weighted_kindle_score.csv'"
   ]
  },
  {
   "cell_type": "code",
   "execution_count": 92,
   "metadata": {
    "collapsed": true
   },
   "outputs": [],
   "source": [
    "WRITE_WEIGHTED_SCORE = False"
   ]
  },
  {
   "cell_type": "code",
   "execution_count": 93,
   "metadata": {},
   "outputs": [],
   "source": [
    "if WRITE_WEIGHTED_SCORE:\n",
    "    compute_by_batch(match_books_top_authors.set_index('authors'), 2, top_authors_weighted_books_score, override=True)"
   ]
  },
  {
   "cell_type": "code",
   "execution_count": 94,
   "metadata": {
    "scrolled": true
   },
   "outputs": [],
   "source": [
    "if WRITE_WEIGHTED_SCORE:\n",
    "    compute_by_batch(match_ebooks_top_authors.set_index('authors'), 20, top_authors_weighted_kindle_score, override=True)"
   ]
  },
  {
   "cell_type": "code",
   "execution_count": 95,
   "metadata": {},
   "outputs": [],
   "source": [
    "top_authors_books_score = pd.read_csv(top_authors_weighted_books_score)\n",
    "top_authors_ebooks_score = pd.read_csv(top_authors_weighted_kindle_score)"
   ]
  },
  {
   "cell_type": "code",
   "execution_count": 96,
   "metadata": {
    "scrolled": false
   },
   "outputs": [],
   "source": [
    "scores_top_authors = top_authors_books_score[['authors', 'combined_score']].merge(\n",
    "    top_authors_ebooks_score[['authors', 'combined_score']], on='authors', suffixes=('_book', '_kindle'))"
   ]
  },
  {
   "cell_type": "code",
   "execution_count": 97,
   "metadata": {},
   "outputs": [
    {
     "data": {
      "application/vnd.jupyter.widget-view+json": {
       "model_id": "f65b80cf980244e4b04234c13a2b7705",
       "version_major": 2,
       "version_minor": 0
      },
      "text/html": [
       "<p>Failed to display Jupyter Widget of type <code>QgridWidget</code>.</p>\n",
       "<p>\n",
       "  If you're reading this message in the Jupyter Notebook or JupyterLab Notebook, it may mean\n",
       "  that the widgets JavaScript is still loading. If this message persists, it\n",
       "  likely means that the widgets JavaScript library is either not installed or\n",
       "  not enabled. See the <a href=\"https://ipywidgets.readthedocs.io/en/stable/user_install.html\">Jupyter\n",
       "  Widgets Documentation</a> for setup instructions.\n",
       "</p>\n",
       "<p>\n",
       "  If you're reading this message in another frontend (for example, a static\n",
       "  rendering on GitHub or <a href=\"https://nbviewer.jupyter.org/\">NBViewer</a>),\n",
       "  it may mean that your frontend doesn't currently support widgets.\n",
       "</p>\n"
      ],
      "text/plain": [
       "QgridWidget(grid_options={'syncColumnCellResize': True, 'autoEdit': False, 'enableColumnReorder': False, 'minVisibleRows': 8, 'fullWidthRows': True, 'editable': True, 'defaultColumnWidth': 150, 'rowHeight': 28, 'forceFitColumns': True, 'explicitInitialization': True, 'enableTextSelectionOnCells': True, 'maxVisibleRows': 15}, precision=5)"
      ]
     },
     "metadata": {},
     "output_type": "display_data"
    }
   ],
   "source": [
    "qgrid.show_grid(scores_top_authors)"
   ]
  },
  {
   "cell_type": "code",
   "execution_count": 98,
   "metadata": {
    "collapsed": true
   },
   "outputs": [],
   "source": [
    "st = pd.melt(scores_top_authors.sort_values('combined_score_book', ascending=False), id_vars='authors', value_vars=['combined_score_book', 'combined_score_kindle'])"
   ]
  },
  {
   "cell_type": "code",
   "execution_count": 99,
   "metadata": {},
   "outputs": [
    {
     "data": {
      "text/plain": [
       "<seaborn.axisgrid.FacetGrid at 0x150a7c710>"
      ]
     },
     "execution_count": 99,
     "metadata": {},
     "output_type": "execute_result"
    },
    {
     "data": {
      "image/png": "[encoded data removed]",
      "text/plain": [
       "<matplotlib.figure.Figure at 0x12b46b3c8>"
      ]
     },
     "metadata": {},
     "output_type": "display_data"
    }
   ],
   "source": [
    "sns.factorplot(x = 'value', y='authors', hue='variable', data=st,kind='bar', size=10)"
   ]
  },
  {
   "cell_type": "code",
   "execution_count": 100,
   "metadata": {},
   "outputs": [
    {
     "data": {
      "text/plain": [
       "<seaborn.axisgrid.FacetGrid at 0x1519c3b38>"
      ]
     },
     "execution_count": 100,
     "metadata": {},
     "output_type": "execute_result"
    },
    {
     "data": {
      "image/png": "[encoded data removed]",
      "text/plain": [
       "<matplotlib.figure.Figure at 0x1519c3f98>"
      ]
     },
     "metadata": {},
     "output_type": "display_data"
    }
   ],
   "source": [
    "sns.lmplot(x='combined_score_book', y='combined_score_kindle', data=scores_top_authors)"
   ]
  },
  {
   "cell_type": "markdown",
   "metadata": {},
   "source": [
    "214593"
   ]
  },
  {
   "cell_type": "code",
   "execution_count": 129,
   "metadata": {},
   "outputs": [
    {
     "data": {
      "text/plain": [
       "<seaborn.axisgrid.JointGrid at 0x164f21390>"
      ]
     },
     "execution_count": 129,
     "metadata": {},
     "output_type": "execute_result"
    },
    {
     "data": {
      "image/png": "[encoded data removed]",
      "text/plain": [
       "<matplotlib.figure.Figure at 0x1654f4240>"
      ]
     },
     "metadata": {},
     "output_type": "display_data"
    }
   ],
   "source": [
    "sns.jointplot(x='combined_score_book', y='combined_score_kindle', data=scores_top_authors, kind='kde')"
   ]
  },
  {
   "cell_type": "markdown",
   "metadata": {},
   "source": [
    "#### Taking the authors with the most reviews on kindle"
   ]
  },
  {
   "cell_type": "code",
   "execution_count": 101,
   "metadata": {
    "collapsed": true
   },
   "outputs": [],
   "source": [
    "merged_review_per_author = most_reviewed_ebooks_author.merge(most_reviewed_books_author,\n",
    "                                                          left_index=True, right_index=True,\n",
    "                                                         suffixes=('_ebook', '_book'))"
   ]
  },
  {
   "cell_type": "code",
   "execution_count": 102,
   "metadata": {
    "collapsed": true
   },
   "outputs": [],
   "source": [
    "top_ebooks_authors = merged_review_per_author.head(20)[['overall_book','overall_ebook']]\n",
    "match_books_top_authors = matched_booksh[matched_booksh['authors'].isin(top_ebooks_authors.index)]\n",
    "match_ebooks_top_authors = matched_ebooksh[matched_ebooksh['authors'].isin(top_ebooks_authors.index)]"
   ]
  },
  {
   "cell_type": "code",
   "execution_count": 103,
   "metadata": {
    "collapsed": true
   },
   "outputs": [],
   "source": [
    "top_kauthors_weighted_books_score = 'top_kauthors_weighted_books_score.csv'\n",
    "top_kauthors_weighted_kindle_score = 'top_kauthors_weighted_kindle_score.csv'"
   ]
  },
  {
   "cell_type": "code",
   "execution_count": 104,
   "metadata": {},
   "outputs": [],
   "source": [
    "if WRITE_WEIGHTED_SCORE:\n",
    "    compute_by_batch(match_books_top_authors.set_index('authors'), 2, top_kauthors_weighted_books_score, override=True)\n",
    "    compute_by_batch(match_ebooks_top_authors.set_index('authors'), 20, top_kauthors_weighted_kindle_score, override=True)"
   ]
  },
  {
   "cell_type": "code",
   "execution_count": 105,
   "metadata": {},
   "outputs": [],
   "source": [
    "top_kauthors_books_score = pd.read_csv(top_kauthors_weighted_books_score)\n",
    "top_kauthors_ebooks_score = pd.read_csv(top_kauthors_weighted_kindle_score)"
   ]
  },
  {
   "cell_type": "code",
   "execution_count": 106,
   "metadata": {},
   "outputs": [],
   "source": [
    "scores_top_kauthors = top_kauthors_ebooks_score[['authors', 'combined_score']].merge(\n",
    "    top_kauthors_books_score[['authors', 'combined_score']], on='authors', suffixes=('_book', '_kindle'))"
   ]
  },
  {
   "cell_type": "code",
   "execution_count": 107,
   "metadata": {},
   "outputs": [
    {
     "data": {
      "application/vnd.jupyter.widget-view+json": {
       "model_id": "6df8ff62982248c9bf6488a32a4c3ce5",
       "version_major": 2,
       "version_minor": 0
      },
      "text/html": [
       "<p>Failed to display Jupyter Widget of type <code>QgridWidget</code>.</p>\n",
       "<p>\n",
       "  If you're reading this message in the Jupyter Notebook or JupyterLab Notebook, it may mean\n",
       "  that the widgets JavaScript is still loading. If this message persists, it\n",
       "  likely means that the widgets JavaScript library is either not installed or\n",
       "  not enabled. See the <a href=\"https://ipywidgets.readthedocs.io/en/stable/user_install.html\">Jupyter\n",
       "  Widgets Documentation</a> for setup instructions.\n",
       "</p>\n",
       "<p>\n",
       "  If you're reading this message in another frontend (for example, a static\n",
       "  rendering on GitHub or <a href=\"https://nbviewer.jupyter.org/\">NBViewer</a>),\n",
       "  it may mean that your frontend doesn't currently support widgets.\n",
       "</p>\n"
      ],
      "text/plain": [
       "QgridWidget(grid_options={'syncColumnCellResize': True, 'autoEdit': False, 'enableColumnReorder': False, 'minVisibleRows': 8, 'fullWidthRows': True, 'editable': True, 'defaultColumnWidth': 150, 'rowHeight': 28, 'forceFitColumns': True, 'explicitInitialization': True, 'enableTextSelectionOnCells': True, 'maxVisibleRows': 15}, precision=5)"
      ]
     },
     "metadata": {},
     "output_type": "display_data"
    }
   ],
   "source": [
    "qgrid.show_grid(scores_top_kauthors)"
   ]
  },
  {
   "cell_type": "code",
   "execution_count": 108,
   "metadata": {},
   "outputs": [],
   "source": [
    "stk = pd.melt(scores_top_kauthors.sort_values('combined_score_kindle', ascending=False), id_vars='authors', value_vars=['combined_score_book', 'combined_score_kindle'])"
   ]
  },
  {
   "cell_type": "code",
   "execution_count": 109,
   "metadata": {
    "scrolled": false
   },
   "outputs": [
    {
     "data": {
      "text/plain": [
       "<seaborn.axisgrid.FacetGrid at 0x1349ca898>"
      ]
     },
     "execution_count": 109,
     "metadata": {},
     "output_type": "execute_result"
    },
    {
     "data": {
      "image/png": "[encoded data removed]",
      "text/plain": [
       "<matplotlib.figure.Figure at 0x18cf347f0>"
      ]
     },
     "metadata": {},
     "output_type": "display_data"
    }
   ],
   "source": [
    "sns.factorplot(x = 'value', y='authors', hue='variable', data=stk, kind='bar', size=9)"
   ]
  },
  {
   "cell_type": "code",
   "execution_count": 110,
   "metadata": {
    "scrolled": false
   },
   "outputs": [
    {
     "data": {
      "text/plain": [
       "<seaborn.axisgrid.FacetGrid at 0x152f1fba8>"
      ]
     },
     "execution_count": 110,
     "metadata": {},
     "output_type": "execute_result"
    },
    {
     "data": {
      "image/png": "[encoded data removed]",
      "text/plain": [
       "<matplotlib.figure.Figure at 0x152f1fa58>"
      ]
     },
     "metadata": {},
     "output_type": "display_data"
    }
   ],
   "source": [
    "sns.lmplot(x='combined_score_book', y='combined_score_kindle', data=scores_top_kauthors)"
   ]
  },
  {
   "cell_type": "code",
   "execution_count": 128,
   "metadata": {},
   "outputs": [
    {
     "data": {
      "text/plain": [
       "<seaborn.axisgrid.JointGrid at 0x163ba09b0>"
      ]
     },
     "execution_count": 128,
     "metadata": {},
     "output_type": "execute_result"
    },
    {
     "data": {
      "image/png": "[encoded data removed]",
      "text/plain": [
       "<matplotlib.figure.Figure at 0x163b92e80>"
      ]
     },
     "metadata": {},
     "output_type": "display_data"
    }
   ],
   "source": [
    "sns.jointplot(x='combined_score_book', y='combined_score_kindle', data=scores_top_kauthors, kind='kde')"
   ]
  },
  {
   "cell_type": "code",
   "execution_count": 111,
   "metadata": {},
   "outputs": [
    {
     "data": {
      "text/html": [
       "<div>\n",
       "<style scoped>\n",
       "    .dataframe tbody tr th:only-of-type {\n",
       "        vertical-align: middle;\n",
       "    }\n",
       "\n",
       "    .dataframe tbody tr th {\n",
       "        vertical-align: top;\n",
       "    }\n",
       "\n",
       "    .dataframe thead th {\n",
       "        text-align: right;\n",
       "    }\n",
       "</style>\n",
       "<table border=\"1\" class=\"dataframe\">\n",
       "  <thead>\n",
       "    <tr style=\"text-align: right;\">\n",
       "      <th></th>\n",
       "      <th>Unnamed: 0</th>\n",
       "      <th>overall</th>\n",
       "      <th>summary</th>\n",
       "      <th>helpful</th>\n",
       "      <th>reviewText</th>\n",
       "      <th>authors</th>\n",
       "      <th>not_helpful</th>\n",
       "    </tr>\n",
       "  </thead>\n",
       "  <tbody>\n",
       "    <tr>\n",
       "      <th>638</th>\n",
       "      <td>129853</td>\n",
       "      <td>5</td>\n",
       "      <td>Loved it</td>\n",
       "      <td>2</td>\n",
       "      <td>I absolutely adored this book. The hero and he...</td>\n",
       "      <td>Kristen Ashley</td>\n",
       "      <td>2</td>\n",
       "    </tr>\n",
       "    <tr>\n",
       "      <th>639</th>\n",
       "      <td>129854</td>\n",
       "      <td>4</td>\n",
       "      <td>Love this series</td>\n",
       "      <td>2</td>\n",
       "      <td>I am in love with this series. This book was m...</td>\n",
       "      <td>Kristen Ashley</td>\n",
       "      <td>2</td>\n",
       "    </tr>\n",
       "    <tr>\n",
       "      <th>640</th>\n",
       "      <td>129855</td>\n",
       "      <td>5</td>\n",
       "      <td>Awesome!</td>\n",
       "      <td>0</td>\n",
       "      <td>Typical KA book. Loved it! She just pulls you ...</td>\n",
       "      <td>Kristen Ashley</td>\n",
       "      <td>0</td>\n",
       "    </tr>\n",
       "    <tr>\n",
       "      <th>641</th>\n",
       "      <td>129856</td>\n",
       "      <td>5</td>\n",
       "      <td>Great book</td>\n",
       "      <td>0</td>\n",
       "      <td>I love Nocturno and Cora's story. I liked how ...</td>\n",
       "      <td>Kristen Ashley</td>\n",
       "      <td>0</td>\n",
       "    </tr>\n",
       "    <tr>\n",
       "      <th>642</th>\n",
       "      <td>129857</td>\n",
       "      <td>5</td>\n",
       "      <td>A bit different to the rest..... but awesome a...</td>\n",
       "      <td>0</td>\n",
       "      <td>I think my title says it all!  I was a little ...</td>\n",
       "      <td>Kristen Ashley</td>\n",
       "      <td>0</td>\n",
       "    </tr>\n",
       "  </tbody>\n",
       "</table>\n",
       "</div>"
      ],
      "text/plain": [
       "     Unnamed: 0  overall                                            summary  \\\n",
       "638      129853        5                                           Loved it   \n",
       "639      129854        4                                   Love this series   \n",
       "640      129855        5                                           Awesome!   \n",
       "641      129856        5                                         Great book   \n",
       "642      129857        5  A bit different to the rest..... but awesome a...   \n",
       "\n",
       "     helpful                                         reviewText  \\\n",
       "638        2  I absolutely adored this book. The hero and he...   \n",
       "639        2  I am in love with this series. This book was m...   \n",
       "640        0  Typical KA book. Loved it! She just pulls you ...   \n",
       "641        0  I love Nocturno and Cora's story. I liked how ...   \n",
       "642        0  I think my title says it all!  I was a little ...   \n",
       "\n",
       "            authors  not_helpful  \n",
       "638  Kristen Ashley            2  \n",
       "639  Kristen Ashley            2  \n",
       "640  Kristen Ashley            0  \n",
       "641  Kristen Ashley            0  \n",
       "642  Kristen Ashley            0  "
      ]
     },
     "execution_count": 111,
     "metadata": {},
     "output_type": "execute_result"
    }
   ],
   "source": [
    "match_ebooks_top_authors.head()"
   ]
  },
  {
   "cell_type": "code",
   "execution_count": 131,
   "metadata": {
    "scrolled": true
   },
   "outputs": [
    {
     "data": {
      "text/html": [
       "<div>\n",
       "<style scoped>\n",
       "    .dataframe tbody tr th:only-of-type {\n",
       "        vertical-align: middle;\n",
       "    }\n",
       "\n",
       "    .dataframe tbody tr th {\n",
       "        vertical-align: top;\n",
       "    }\n",
       "\n",
       "    .dataframe thead th {\n",
       "        text-align: right;\n",
       "    }\n",
       "</style>\n",
       "<table border=\"1\" class=\"dataframe\">\n",
       "  <thead>\n",
       "    <tr style=\"text-align: right;\">\n",
       "      <th></th>\n",
       "      <th>Unnamed: 0</th>\n",
       "      <th>asin</th>\n",
       "      <th>overall</th>\n",
       "      <th>summary</th>\n",
       "      <th>reviewerID</th>\n",
       "      <th>helpful</th>\n",
       "      <th>reviewText</th>\n",
       "      <th>reviewerName</th>\n",
       "      <th>authors</th>\n",
       "    </tr>\n",
       "  </thead>\n",
       "  <tbody>\n",
       "    <tr>\n",
       "      <th>128493</th>\n",
       "      <td>631084</td>\n",
       "      <td>0140560947</td>\n",
       "      <td>5</td>\n",
       "      <td>Our bedtime book</td>\n",
       "      <td>A1II2ZRPKZAQQD</td>\n",
       "      <td>[0, 0]</td>\n",
       "      <td>We found this book at the library several week...</td>\n",
       "      <td>Amy Mcfarland \"Mom of 2\"</td>\n",
       "      <td>Helen Cooper</td>\n",
       "    </tr>\n",
       "    <tr>\n",
       "      <th>128494</th>\n",
       "      <td>631085</td>\n",
       "      <td>0140560947</td>\n",
       "      <td>5</td>\n",
       "      <td>Now this is a bear with an edge</td>\n",
       "      <td>AYDV19813JB64</td>\n",
       "      <td>[1, 1]</td>\n",
       "      <td>There is a horror lurking under little William...</td>\n",
       "      <td>Laurence Gillespie</td>\n",
       "      <td>Helen Cooper</td>\n",
       "    </tr>\n",
       "    <tr>\n",
       "      <th>128495</th>\n",
       "      <td>631086</td>\n",
       "      <td>0140560947</td>\n",
       "      <td>5</td>\n",
       "      <td>Traveling Bear</td>\n",
       "      <td>A232HUAELH5J6V</td>\n",
       "      <td>[0, 2]</td>\n",
       "      <td>This is a funny store about a boy who imagines...</td>\n",
       "      <td>Ohioan</td>\n",
       "      <td>Helen Cooper</td>\n",
       "    </tr>\n",
       "    <tr>\n",
       "      <th>128496</th>\n",
       "      <td>631087</td>\n",
       "      <td>0140560947</td>\n",
       "      <td>5</td>\n",
       "      <td>Bear Scents</td>\n",
       "      <td>A3EQ7BW3YRDQZR</td>\n",
       "      <td>[0, 0]</td>\n",
       "      <td>This can be an important book for a child that...</td>\n",
       "      <td>Persop \"Persop\"</td>\n",
       "      <td>Helen Cooper</td>\n",
       "    </tr>\n",
       "    <tr>\n",
       "      <th>128497</th>\n",
       "      <td>631088</td>\n",
       "      <td>0140560947</td>\n",
       "      <td>5</td>\n",
       "      <td>wildly popular with preschool crowd</td>\n",
       "      <td>A1KORK2R2H8PGG</td>\n",
       "      <td>[1, 1]</td>\n",
       "      <td>Fears, real and imagined, are a central and po...</td>\n",
       "      <td>W. Cluff</td>\n",
       "      <td>Helen Cooper</td>\n",
       "    </tr>\n",
       "    <tr>\n",
       "      <th>128498</th>\n",
       "      <td>631595</td>\n",
       "      <td>0140567712</td>\n",
       "      <td>5</td>\n",
       "      <td>A new bedtime classic!</td>\n",
       "      <td>A3ARV0MHB509C9</td>\n",
       "      <td>[2, 3]</td>\n",
       "      <td>What a story! A small boy refuses to go to sle...</td>\n",
       "      <td>\"charlie4\"</td>\n",
       "      <td>Helen Cooper</td>\n",
       "    </tr>\n",
       "    <tr>\n",
       "      <th>128499</th>\n",
       "      <td>631596</td>\n",
       "      <td>0140567712</td>\n",
       "      <td>4</td>\n",
       "      <td>Charming Story</td>\n",
       "      <td>A3THMAV4B5PGFN</td>\n",
       "      <td>[0, 0]</td>\n",
       "      <td>I like this story, but my son will only let me...</td>\n",
       "      <td>H. Henry</td>\n",
       "      <td>Helen Cooper</td>\n",
       "    </tr>\n",
       "    <tr>\n",
       "      <th>128500</th>\n",
       "      <td>631597</td>\n",
       "      <td>0140567712</td>\n",
       "      <td>5</td>\n",
       "      <td>My 7 month old loves it</td>\n",
       "      <td>A3OE6FE2U0JVT8</td>\n",
       "      <td>[0, 0]</td>\n",
       "      <td>and so do I. I have to read it over and over t...</td>\n",
       "      <td>Jennifer L. Ware \"literate mamma\"</td>\n",
       "      <td>Helen Cooper</td>\n",
       "    </tr>\n",
       "    <tr>\n",
       "      <th>128501</th>\n",
       "      <td>631598</td>\n",
       "      <td>0140567712</td>\n",
       "      <td>5</td>\n",
       "      <td>A \"bad\" baby's journey into night</td>\n",
       "      <td>AYDV19813JB64</td>\n",
       "      <td>[5, 6]</td>\n",
       "      <td>It doesn't take long for the trouble to start ...</td>\n",
       "      <td>Laurence Gillespie</td>\n",
       "      <td>Helen Cooper</td>\n",
       "    </tr>\n",
       "    <tr>\n",
       "      <th>128502</th>\n",
       "      <td>631599</td>\n",
       "      <td>0140567712</td>\n",
       "      <td>5</td>\n",
       "      <td>My daughter's favorite (for this week).</td>\n",
       "      <td>AG42CYU5P8NVQ</td>\n",
       "      <td>[1, 1]</td>\n",
       "      <td>This is a sweet story of a boy who decides he ...</td>\n",
       "      <td>Mathew A. Shember</td>\n",
       "      <td>Helen Cooper</td>\n",
       "    </tr>\n",
       "    <tr>\n",
       "      <th>128503</th>\n",
       "      <td>631600</td>\n",
       "      <td>0140567712</td>\n",
       "      <td>4</td>\n",
       "      <td>Great bedtime book</td>\n",
       "      <td>A232Q6TWQ2D4TP</td>\n",
       "      <td>[1, 2]</td>\n",
       "      <td>A very cute story about a little boy who doesn...</td>\n",
       "      <td>Molpadia</td>\n",
       "      <td>Helen Cooper</td>\n",
       "    </tr>\n",
       "    <tr>\n",
       "      <th>128504</th>\n",
       "      <td>631601</td>\n",
       "      <td>0140567712</td>\n",
       "      <td>5</td>\n",
       "      <td>toot toot!  Chugga, chugga..</td>\n",
       "      <td>A39JDUTNDXMSX9</td>\n",
       "      <td>[0, 0]</td>\n",
       "      <td>From the time my girls were teeny, they adored...</td>\n",
       "      <td>rinki dinki doo</td>\n",
       "      <td>Helen Cooper</td>\n",
       "    </tr>\n",
       "    <tr>\n",
       "      <th>128505</th>\n",
       "      <td>631602</td>\n",
       "      <td>0140567712</td>\n",
       "      <td>1</td>\n",
       "      <td>I was misled by all these glowing reviews.</td>\n",
       "      <td>A3PG2BEQ2JIBBC</td>\n",
       "      <td>[5, 34]</td>\n",
       "      <td>Let me qualify something.  I have a two year o...</td>\n",
       "      <td>Spaceman Spiff \"flergum\"</td>\n",
       "      <td>Helen Cooper</td>\n",
       "    </tr>\n",
       "    <tr>\n",
       "      <th>400734</th>\n",
       "      <td>1841491</td>\n",
       "      <td>0374317569</td>\n",
       "      <td>4</td>\n",
       "      <td>Picky eaters delight</td>\n",
       "      <td>A2QPBYEB1U005J</td>\n",
       "      <td>[1, 2]</td>\n",
       "      <td>The little cooks in Chef Buddies Cooking with ...</td>\n",
       "      <td>Beverly Matthews \"liturary cook\"</td>\n",
       "      <td>Helen Cooper</td>\n",
       "    </tr>\n",
       "    <tr>\n",
       "      <th>400735</th>\n",
       "      <td>1841492</td>\n",
       "      <td>0374317569</td>\n",
       "      <td>5</td>\n",
       "      <td>Delightfully engaging!!</td>\n",
       "      <td>A3I43PYBXWCKNW</td>\n",
       "      <td>[0, 0]</td>\n",
       "      <td>I purchased this (and several others by the sa...</td>\n",
       "      <td>Ireland Mom</td>\n",
       "      <td>Helen Cooper</td>\n",
       "    </tr>\n",
       "    <tr>\n",
       "      <th>400736</th>\n",
       "      <td>1841493</td>\n",
       "      <td>0374317569</td>\n",
       "      <td>4</td>\n",
       "      <td>Delicious!</td>\n",
       "      <td>A3GE4IOOIJELV8</td>\n",
       "      <td>[1, 1]</td>\n",
       "      <td>Duck, Squirrel and Cat previously encountered ...</td>\n",
       "      <td>Kirsten G. Cutler</td>\n",
       "      <td>Helen Cooper</td>\n",
       "    </tr>\n",
       "    <tr>\n",
       "      <th>400737</th>\n",
       "      <td>1841494</td>\n",
       "      <td>0374317569</td>\n",
       "      <td>5</td>\n",
       "      <td>Sweet story.</td>\n",
       "      <td>A3SK4HEGRPK5LA</td>\n",
       "      <td>[0, 0]</td>\n",
       "      <td>This companion book to &amp;#34;Pumpkin Soup&amp;#34; ...</td>\n",
       "      <td>Martha Miller-Hall \"AKA Tofu Mom\"</td>\n",
       "      <td>Helen Cooper</td>\n",
       "    </tr>\n",
       "    <tr>\n",
       "      <th>400738</th>\n",
       "      <td>1841495</td>\n",
       "      <td>0374317569</td>\n",
       "      <td>5</td>\n",
       "      <td>Love the pumpkin soup series</td>\n",
       "      <td>A1Y249MSRVCWWQ</td>\n",
       "      <td>[0, 0]</td>\n",
       "      <td>Helen Cooper has written 3 books in the pumpki...</td>\n",
       "      <td>M. Collins</td>\n",
       "      <td>Helen Cooper</td>\n",
       "    </tr>\n",
       "    <tr>\n",
       "      <th>400739</th>\n",
       "      <td>1841496</td>\n",
       "      <td>0374317569</td>\n",
       "      <td>5</td>\n",
       "      <td>A fine, different story of sharing.</td>\n",
       "      <td>A14OJS0VWMOSWO</td>\n",
       "      <td>[1, 2]</td>\n",
       "      <td>It's lunchtime in the old white cabin but Cat,...</td>\n",
       "      <td>Midwest Book Review</td>\n",
       "      <td>Helen Cooper</td>\n",
       "    </tr>\n",
       "    <tr>\n",
       "      <th>400854</th>\n",
       "      <td>1842909</td>\n",
       "      <td>0374359539</td>\n",
       "      <td>5</td>\n",
       "      <td>Clever Sequel!</td>\n",
       "      <td>A3GZ1U7PZTUSY7</td>\n",
       "      <td>[0, 0]</td>\n",
       "      <td>It is a clever sequel to Pumpkin Soup.  Carrie...</td>\n",
       "      <td>Big boo</td>\n",
       "      <td>Helen Cooper</td>\n",
       "    </tr>\n",
       "    <tr>\n",
       "      <th>400855</th>\n",
       "      <td>1842910</td>\n",
       "      <td>0374359539</td>\n",
       "      <td>5</td>\n",
       "      <td>Great for toddlers</td>\n",
       "      <td>A3THMAV4B5PGFN</td>\n",
       "      <td>[0, 0]</td>\n",
       "      <td>This is my review for Pumpkin Soup, which we a...</td>\n",
       "      <td>H. Henry</td>\n",
       "      <td>Helen Cooper</td>\n",
       "    </tr>\n",
       "    <tr>\n",
       "      <th>400856</th>\n",
       "      <td>1842911</td>\n",
       "      <td>0374359539</td>\n",
       "      <td>4</td>\n",
       "      <td>Narrative not as memorable as Pumpkin Soup</td>\n",
       "      <td>A3AGWRMHKLFLWR</td>\n",
       "      <td>[4, 5]</td>\n",
       "      <td>3 stars for story, 4.5 stars for illustrations...</td>\n",
       "      <td>H. Sapiens \"Amanda\"</td>\n",
       "      <td>Helen Cooper</td>\n",
       "    </tr>\n",
       "    <tr>\n",
       "      <th>400857</th>\n",
       "      <td>1842912</td>\n",
       "      <td>0374359539</td>\n",
       "      <td>5</td>\n",
       "      <td>Fabulous purchase. We are now Helen Cooper fans!</td>\n",
       "      <td>A3I43PYBXWCKNW</td>\n",
       "      <td>[0, 0]</td>\n",
       "      <td>I purchased this (and several others by the sa...</td>\n",
       "      <td>Ireland Mom</td>\n",
       "      <td>Helen Cooper</td>\n",
       "    </tr>\n",
       "    <tr>\n",
       "      <th>400858</th>\n",
       "      <td>1842913</td>\n",
       "      <td>0374359539</td>\n",
       "      <td>4</td>\n",
       "      <td>Great Book</td>\n",
       "      <td>A3PLVOOFXPLC3V</td>\n",
       "      <td>[0, 0]</td>\n",
       "      <td>I purchased this book along with the complimen...</td>\n",
       "      <td>jimlid</td>\n",
       "      <td>Helen Cooper</td>\n",
       "    </tr>\n",
       "    <tr>\n",
       "      <th>400859</th>\n",
       "      <td>1842914</td>\n",
       "      <td>0374359539</td>\n",
       "      <td>5</td>\n",
       "      <td>Cute story</td>\n",
       "      <td>A25QGC7Q3CAOKV</td>\n",
       "      <td>[1, 1]</td>\n",
       "      <td>What a cute little story.  My 2 1/2 year old g...</td>\n",
       "      <td>Maralee A. Hertel</td>\n",
       "      <td>Helen Cooper</td>\n",
       "    </tr>\n",
       "    <tr>\n",
       "      <th>400860</th>\n",
       "      <td>1842915</td>\n",
       "      <td>0374359539</td>\n",
       "      <td>5</td>\n",
       "      <td>After Reading Pumpkin Soup.......</td>\n",
       "      <td>AG42CYU5P8NVQ</td>\n",
       "      <td>[0, 0]</td>\n",
       "      <td>Grandmum gave my daughter the Pumpkin Soup boo...</td>\n",
       "      <td>Mathew A. Shember</td>\n",
       "      <td>Helen Cooper</td>\n",
       "    </tr>\n",
       "    <tr>\n",
       "      <th>400861</th>\n",
       "      <td>1842916</td>\n",
       "      <td>0374359539</td>\n",
       "      <td>5</td>\n",
       "      <td>The darling trio is back!</td>\n",
       "      <td>A2FIVWKRZJ8LPV</td>\n",
       "      <td>[0, 0]</td>\n",
       "      <td>My daughter loved the 1st one so much we had t...</td>\n",
       "      <td>Stacey Reynolds</td>\n",
       "      <td>Helen Cooper</td>\n",
       "    </tr>\n",
       "    <tr>\n",
       "      <th>400875</th>\n",
       "      <td>1843092</td>\n",
       "      <td>0374361649</td>\n",
       "      <td>5</td>\n",
       "      <td>Very Cute</td>\n",
       "      <td>A1HK7UM6V4WDJH</td>\n",
       "      <td>[0, 0]</td>\n",
       "      <td>The illustrations in this book are beautiful -...</td>\n",
       "      <td>Ace of Case</td>\n",
       "      <td>Helen Cooper</td>\n",
       "    </tr>\n",
       "    <tr>\n",
       "      <th>400876</th>\n",
       "      <td>1843093</td>\n",
       "      <td>0374361649</td>\n",
       "      <td>5</td>\n",
       "      <td>Absolutely, utterly, charming!</td>\n",
       "      <td>A32ZK0LHNQO7DB</td>\n",
       "      <td>[16, 16]</td>\n",
       "      <td>As a children's librarian I often read this bo...</td>\n",
       "      <td>AnnFes</td>\n",
       "      <td>Helen Cooper</td>\n",
       "    </tr>\n",
       "    <tr>\n",
       "      <th>400877</th>\n",
       "      <td>1843094</td>\n",
       "      <td>0374361649</td>\n",
       "      <td>5</td>\n",
       "      <td>Excellent storyline</td>\n",
       "      <td>A3GZ1U7PZTUSY7</td>\n",
       "      <td>[0, 0]</td>\n",
       "      <td>I bought the Chinese version of this book firs...</td>\n",
       "      <td>Big boo</td>\n",
       "      <td>Helen Cooper</td>\n",
       "    </tr>\n",
       "    <tr>\n",
       "      <th>...</th>\n",
       "      <td>...</td>\n",
       "      <td>...</td>\n",
       "      <td>...</td>\n",
       "      <td>...</td>\n",
       "      <td>...</td>\n",
       "      <td>...</td>\n",
       "      <td>...</td>\n",
       "      <td>...</td>\n",
       "      <td>...</td>\n",
       "    </tr>\n",
       "    <tr>\n",
       "      <th>2735292</th>\n",
       "      <td>8896514</td>\n",
       "      <td>B00LTFG8EC</td>\n",
       "      <td>5</td>\n",
       "      <td>WOW!!!</td>\n",
       "      <td>A1IEXNTOKXN1NF</td>\n",
       "      <td>[0, 0]</td>\n",
       "      <td>Amazing!!!  Can't wait to read the next one.  ...</td>\n",
       "      <td>Huge fan</td>\n",
       "      <td>Deborah Bladon</td>\n",
       "    </tr>\n",
       "    <tr>\n",
       "      <th>2735293</th>\n",
       "      <td>8896515</td>\n",
       "      <td>B00LTFG8EC</td>\n",
       "      <td>5</td>\n",
       "      <td>Fantastic</td>\n",
       "      <td>A1DV7KBVNY8YHW</td>\n",
       "      <td>[0, 0]</td>\n",
       "      <td>this book had me on edge from start to finish....</td>\n",
       "      <td>Ivelisse Rodriguez</td>\n",
       "      <td>Deborah Bladon</td>\n",
       "    </tr>\n",
       "    <tr>\n",
       "      <th>2735294</th>\n",
       "      <td>8896516</td>\n",
       "      <td>B00LTFG8EC</td>\n",
       "      <td>5</td>\n",
       "      <td>Hot cover</td>\n",
       "      <td>A3MZQ2NQMIPQQP</td>\n",
       "      <td>[0, 0]</td>\n",
       "      <td>Awesome. I haven't even read this book but if ...</td>\n",
       "      <td>jamiesadler</td>\n",
       "      <td>Deborah Bladon</td>\n",
       "    </tr>\n",
       "    <tr>\n",
       "      <th>2735295</th>\n",
       "      <td>8896517</td>\n",
       "      <td>B00LTFG8EC</td>\n",
       "      <td>5</td>\n",
       "      <td>This Is Sooooo Good!</td>\n",
       "      <td>AXEYG8HEBYJ2J</td>\n",
       "      <td>[0, 0]</td>\n",
       "      <td>This is part one in his new series...Vain.  Fi...</td>\n",
       "      <td>JanetG</td>\n",
       "      <td>Deborah Bladon</td>\n",
       "    </tr>\n",
       "    <tr>\n",
       "      <th>2735296</th>\n",
       "      <td>8896518</td>\n",
       "      <td>B00LTFG8EC</td>\n",
       "      <td>5</td>\n",
       "      <td>You'll Love The Initial Introduction To Noah</td>\n",
       "      <td>A2VXE1UZIN6JPU</td>\n",
       "      <td>[1, 1]</td>\n",
       "      <td>This is a story of a perfect, sexy man who has...</td>\n",
       "      <td>Jenny</td>\n",
       "      <td>Deborah Bladon</td>\n",
       "    </tr>\n",
       "    <tr>\n",
       "      <th>2735297</th>\n",
       "      <td>8896519</td>\n",
       "      <td>B00LTFG8EC</td>\n",
       "      <td>5</td>\n",
       "      <td>Ahhhhh!</td>\n",
       "      <td>A9CUG1142XMCX</td>\n",
       "      <td>[1, 1]</td>\n",
       "      <td>This was a complete mind #$@!  I literally was...</td>\n",
       "      <td>Jessica</td>\n",
       "      <td>Deborah Bladon</td>\n",
       "    </tr>\n",
       "    <tr>\n",
       "      <th>2735298</th>\n",
       "      <td>8896520</td>\n",
       "      <td>B00LTFG8EC</td>\n",
       "      <td>5</td>\n",
       "      <td>wow</td>\n",
       "      <td>A15QJPLNY3EFQF</td>\n",
       "      <td>[0, 0]</td>\n",
       "      <td>That was amazing I feel so bad for Alexa. Noah...</td>\n",
       "      <td>Jose Rodriguez</td>\n",
       "      <td>Deborah Bladon</td>\n",
       "    </tr>\n",
       "    <tr>\n",
       "      <th>2735299</th>\n",
       "      <td>8896521</td>\n",
       "      <td>B00LTFG8EC</td>\n",
       "      <td>5</td>\n",
       "      <td>Mouth wide open....</td>\n",
       "      <td>A4MEIWXR9YC78</td>\n",
       "      <td>[1, 1]</td>\n",
       "      <td>Is what I was doing at the end of this book.  ...</td>\n",
       "      <td>Keitha Brassard</td>\n",
       "      <td>Deborah Bladon</td>\n",
       "    </tr>\n",
       "    <tr>\n",
       "      <th>2735300</th>\n",
       "      <td>8896522</td>\n",
       "      <td>B00LTFG8EC</td>\n",
       "      <td>5</td>\n",
       "      <td>always with a cliff hanger</td>\n",
       "      <td>A3VCT0565WG622</td>\n",
       "      <td>[0, 0]</td>\n",
       "      <td>If you like cliff hangers then Deborah Bladon ...</td>\n",
       "      <td>Kelly D.</td>\n",
       "      <td>Deborah Bladon</td>\n",
       "    </tr>\n",
       "    <tr>\n",
       "      <th>2735301</th>\n",
       "      <td>8896523</td>\n",
       "      <td>B00LTFG8EC</td>\n",
       "      <td>5</td>\n",
       "      <td>Amazing</td>\n",
       "      <td>AIU4QKJ5GJSOY</td>\n",
       "      <td>[0, 0]</td>\n",
       "      <td>I definitely liked this book way more than I e...</td>\n",
       "      <td>Kimberly</td>\n",
       "      <td>Deborah Bladon</td>\n",
       "    </tr>\n",
       "    <tr>\n",
       "      <th>2735302</th>\n",
       "      <td>8896524</td>\n",
       "      <td>B00LTFG8EC</td>\n",
       "      <td>4</td>\n",
       "      <td>OMFG cliff-hanger</td>\n",
       "      <td>A1VDXZASTPFIAE</td>\n",
       "      <td>[0, 0]</td>\n",
       "      <td>Another thrilling series beginner with an OMFG...</td>\n",
       "      <td>Krystel \"Krystel\"</td>\n",
       "      <td>Deborah Bladon</td>\n",
       "    </tr>\n",
       "    <tr>\n",
       "      <th>2735303</th>\n",
       "      <td>8896525</td>\n",
       "      <td>B00LTFG8EC</td>\n",
       "      <td>5</td>\n",
       "      <td>I am in love with Noah</td>\n",
       "      <td>A1RZLTY4BR8N4Q</td>\n",
       "      <td>[0, 0]</td>\n",
       "      <td>What Can I say about Vain&amp;#8230;I am at a loss...</td>\n",
       "      <td>La Reina of New York \"Online Junkie\"</td>\n",
       "      <td>Deborah Bladon</td>\n",
       "    </tr>\n",
       "    <tr>\n",
       "      <th>2735304</th>\n",
       "      <td>8896526</td>\n",
       "      <td>B00LTFG8EC</td>\n",
       "      <td>4</td>\n",
       "      <td>Ms. Bladon is back...</td>\n",
       "      <td>AE22SBNWNQXAL</td>\n",
       "      <td>[0, 0]</td>\n",
       "      <td>This book made me want to throw my iPhone (wit...</td>\n",
       "      <td>ldesiree</td>\n",
       "      <td>Deborah Bladon</td>\n",
       "    </tr>\n",
       "    <tr>\n",
       "      <th>2735305</th>\n",
       "      <td>8896527</td>\n",
       "      <td>B00LTFG8EC</td>\n",
       "      <td>5</td>\n",
       "      <td>July 31st can't come soon enough!</td>\n",
       "      <td>A3T31GZHAERRUL</td>\n",
       "      <td>[0, 0]</td>\n",
       "      <td>...because that's the release date of Vain Boo...</td>\n",
       "      <td>LDJW</td>\n",
       "      <td>Deborah Bladon</td>\n",
       "    </tr>\n",
       "    <tr>\n",
       "      <th>2735306</th>\n",
       "      <td>8896528</td>\n",
       "      <td>B00LTFG8EC</td>\n",
       "      <td>5</td>\n",
       "      <td>GREAT STORY!</td>\n",
       "      <td>A1PTLI4WLPGMLN</td>\n",
       "      <td>[0, 0]</td>\n",
       "      <td>I can hardly wait for #2 to be released.  This...</td>\n",
       "      <td>Linda Stinson \"GLULU\"</td>\n",
       "      <td>Deborah Bladon</td>\n",
       "    </tr>\n",
       "    <tr>\n",
       "      <th>2735307</th>\n",
       "      <td>8896529</td>\n",
       "      <td>B00LTFG8EC</td>\n",
       "      <td>5</td>\n",
       "      <td>Noah and Alexa</td>\n",
       "      <td>A3EKGQOEEZ69R9</td>\n",
       "      <td>[0, 0]</td>\n",
       "      <td>ALEXA has found her match, she had Nathan and ...</td>\n",
       "      <td>Lori J.</td>\n",
       "      <td>Deborah Bladon</td>\n",
       "    </tr>\n",
       "    <tr>\n",
       "      <th>2735308</th>\n",
       "      <td>8896530</td>\n",
       "      <td>B00LTFG8EC</td>\n",
       "      <td>5</td>\n",
       "      <td>Vain..Oh my!!!</td>\n",
       "      <td>A1JC2OF7QTG8OM</td>\n",
       "      <td>[0, 0]</td>\n",
       "      <td>This was so different..I loved the fact that h...</td>\n",
       "      <td>Love Baker \"Love\"</td>\n",
       "      <td>Deborah Bladon</td>\n",
       "    </tr>\n",
       "    <tr>\n",
       "      <th>2735309</th>\n",
       "      <td>8896531</td>\n",
       "      <td>B00LTFG8EC</td>\n",
       "      <td>5</td>\n",
       "      <td>awesome</td>\n",
       "      <td>A2PDXV1H37XJBA</td>\n",
       "      <td>[0, 0]</td>\n",
       "      <td>I absolutely loved the book. I think it's intr...</td>\n",
       "      <td>Mckenzie</td>\n",
       "      <td>Deborah Bladon</td>\n",
       "    </tr>\n",
       "    <tr>\n",
       "      <th>2735310</th>\n",
       "      <td>8896532</td>\n",
       "      <td>B00LTFG8EC</td>\n",
       "      <td>5</td>\n",
       "      <td>Amazing</td>\n",
       "      <td>A14DCNBUXEPPEI</td>\n",
       "      <td>[0, 0]</td>\n",
       "      <td>Totally hooked on this book. I cannot wait for...</td>\n",
       "      <td>Melinda Rodriguez</td>\n",
       "      <td>Deborah Bladon</td>\n",
       "    </tr>\n",
       "    <tr>\n",
       "      <th>2735311</th>\n",
       "      <td>8896533</td>\n",
       "      <td>B00LTFG8EC</td>\n",
       "      <td>4</td>\n",
       "      <td>good</td>\n",
       "      <td>A1219MSUEL0711</td>\n",
       "      <td>[1, 2]</td>\n",
       "      <td>This is the 2nd book by this author I've read....</td>\n",
       "      <td>Michelle</td>\n",
       "      <td>Deborah Bladon</td>\n",
       "    </tr>\n",
       "    <tr>\n",
       "      <th>2735312</th>\n",
       "      <td>8896534</td>\n",
       "      <td>B00LTFG8EC</td>\n",
       "      <td>5</td>\n",
       "      <td>10 Stars! Will leave you shocked!</td>\n",
       "      <td>AOHBLNK5FZ56A</td>\n",
       "      <td>[1, 1]</td>\n",
       "      <td>O.M.F.G!!! I&amp;#8230;.I&amp;#8230;. I&amp;#8230;.*stutte...</td>\n",
       "      <td>MRay</td>\n",
       "      <td>Deborah Bladon</td>\n",
       "    </tr>\n",
       "    <tr>\n",
       "      <th>2735313</th>\n",
       "      <td>8896535</td>\n",
       "      <td>B00LTFG8EC</td>\n",
       "      <td>5</td>\n",
       "      <td>Hot Hot Hot!</td>\n",
       "      <td>A1DIJSNWLEDMVC</td>\n",
       "      <td>[0, 0]</td>\n",
       "      <td>I love the way DB keeps her readers so caught ...</td>\n",
       "      <td>Ms.D.D.MCBEE</td>\n",
       "      <td>Deborah Bladon</td>\n",
       "    </tr>\n",
       "    <tr>\n",
       "      <th>2735314</th>\n",
       "      <td>8896536</td>\n",
       "      <td>B00LTFG8EC</td>\n",
       "      <td>4</td>\n",
       "      <td>Too Short</td>\n",
       "      <td>AK56P9TMUDM8F</td>\n",
       "      <td>[0, 0]</td>\n",
       "      <td>I loved this book, but I do wish they were lon...</td>\n",
       "      <td>Randips</td>\n",
       "      <td>Deborah Bladon</td>\n",
       "    </tr>\n",
       "    <tr>\n",
       "      <th>2735315</th>\n",
       "      <td>8896537</td>\n",
       "      <td>B00LTFG8EC</td>\n",
       "      <td>5</td>\n",
       "      <td>Loved it!</td>\n",
       "      <td>A2E0O1UK4OEDCC</td>\n",
       "      <td>[0, 0]</td>\n",
       "      <td>Can not wait for the next installment!</td>\n",
       "      <td>Sandra Diggs</td>\n",
       "      <td>Deborah Bladon</td>\n",
       "    </tr>\n",
       "    <tr>\n",
       "      <th>2735316</th>\n",
       "      <td>8896538</td>\n",
       "      <td>B00LTFG8EC</td>\n",
       "      <td>5</td>\n",
       "      <td>You won't be disappointed.</td>\n",
       "      <td>A11IGZTFZ8W9MU</td>\n",
       "      <td>[1, 1]</td>\n",
       "      <td>Just finished this short read. I liked everyth...</td>\n",
       "      <td>Sarita</td>\n",
       "      <td>Deborah Bladon</td>\n",
       "    </tr>\n",
       "    <tr>\n",
       "      <th>2735317</th>\n",
       "      <td>8896539</td>\n",
       "      <td>B00LTFG8EC</td>\n",
       "      <td>5</td>\n",
       "      <td>Bladon has done it again... Another mouthwater...</td>\n",
       "      <td>A1XW9U69EDW3MX</td>\n",
       "      <td>[1, 1]</td>\n",
       "      <td>Deborah Bladon has done it again!!! I have pur...</td>\n",
       "      <td>Schuler1979</td>\n",
       "      <td>Deborah Bladon</td>\n",
       "    </tr>\n",
       "    <tr>\n",
       "      <th>2735318</th>\n",
       "      <td>8896540</td>\n",
       "      <td>B00LTFG8EC</td>\n",
       "      <td>5</td>\n",
       "      <td>love the book</td>\n",
       "      <td>A17GJ3DY57EE67</td>\n",
       "      <td>[0, 0]</td>\n",
       "      <td>I read the book in less than 3 hours! I love y...</td>\n",
       "      <td>Shanna</td>\n",
       "      <td>Deborah Bladon</td>\n",
       "    </tr>\n",
       "    <tr>\n",
       "      <th>2735319</th>\n",
       "      <td>8896541</td>\n",
       "      <td>B00LTFG8EC</td>\n",
       "      <td>5</td>\n",
       "      <td>So hot</td>\n",
       "      <td>A3KG73456DW4W4</td>\n",
       "      <td>[0, 0]</td>\n",
       "      <td>This book had me glued to it, I couldn't put i...</td>\n",
       "      <td>Susan Dodge</td>\n",
       "      <td>Deborah Bladon</td>\n",
       "    </tr>\n",
       "    <tr>\n",
       "      <th>2735320</th>\n",
       "      <td>8896542</td>\n",
       "      <td>B00LTFG8EC</td>\n",
       "      <td>5</td>\n",
       "      <td>Who can resist a vulnerable Alpha Male?</td>\n",
       "      <td>A1JSYRRATJLLJI</td>\n",
       "      <td>[0, 0]</td>\n",
       "      <td>Let me start by saying this is my first Debora...</td>\n",
       "      <td>Tammy Casey</td>\n",
       "      <td>Deborah Bladon</td>\n",
       "    </tr>\n",
       "    <tr>\n",
       "      <th>2735321</th>\n",
       "      <td>8896543</td>\n",
       "      <td>B00LTFG8EC</td>\n",
       "      <td>5</td>\n",
       "      <td>Neeeeeed mooooore!</td>\n",
       "      <td>A32WN09H7GQJ4P</td>\n",
       "      <td>[0, 0]</td>\n",
       "      <td>WOWSIES! I was wholly captivated with this sex...</td>\n",
       "      <td>Telina</td>\n",
       "      <td>Deborah Bladon</td>\n",
       "    </tr>\n",
       "  </tbody>\n",
       "</table>\n",
       "<p>52185 rows × 9 columns</p>\n",
       "</div>"
      ],
      "text/plain": [
       "         Unnamed: 0        asin  overall  \\\n",
       "128493       631084  0140560947        5   \n",
       "128494       631085  0140560947        5   \n",
       "128495       631086  0140560947        5   \n",
       "128496       631087  0140560947        5   \n",
       "128497       631088  0140560947        5   \n",
       "128498       631595  0140567712        5   \n",
       "128499       631596  0140567712        4   \n",
       "128500       631597  0140567712        5   \n",
       "128501       631598  0140567712        5   \n",
       "128502       631599  0140567712        5   \n",
       "128503       631600  0140567712        4   \n",
       "128504       631601  0140567712        5   \n",
       "128505       631602  0140567712        1   \n",
       "400734      1841491  0374317569        4   \n",
       "400735      1841492  0374317569        5   \n",
       "400736      1841493  0374317569        4   \n",
       "400737      1841494  0374317569        5   \n",
       "400738      1841495  0374317569        5   \n",
       "400739      1841496  0374317569        5   \n",
       "400854      1842909  0374359539        5   \n",
       "400855      1842910  0374359539        5   \n",
       "400856      1842911  0374359539        4   \n",
       "400857      1842912  0374359539        5   \n",
       "400858      1842913  0374359539        4   \n",
       "400859      1842914  0374359539        5   \n",
       "400860      1842915  0374359539        5   \n",
       "400861      1842916  0374359539        5   \n",
       "400875      1843092  0374361649        5   \n",
       "400876      1843093  0374361649        5   \n",
       "400877      1843094  0374361649        5   \n",
       "...             ...         ...      ...   \n",
       "2735292     8896514  B00LTFG8EC        5   \n",
       "2735293     8896515  B00LTFG8EC        5   \n",
       "2735294     8896516  B00LTFG8EC        5   \n",
       "2735295     8896517  B00LTFG8EC        5   \n",
       "2735296     8896518  B00LTFG8EC        5   \n",
       "2735297     8896519  B00LTFG8EC        5   \n",
       "2735298     8896520  B00LTFG8EC        5   \n",
       "2735299     8896521  B00LTFG8EC        5   \n",
       "2735300     8896522  B00LTFG8EC        5   \n",
       "2735301     8896523  B00LTFG8EC        5   \n",
       "2735302     8896524  B00LTFG8EC        4   \n",
       "2735303     8896525  B00LTFG8EC        5   \n",
       "2735304     8896526  B00LTFG8EC        4   \n",
       "2735305     8896527  B00LTFG8EC        5   \n",
       "2735306     8896528  B00LTFG8EC        5   \n",
       "2735307     8896529  B00LTFG8EC        5   \n",
       "2735308     8896530  B00LTFG8EC        5   \n",
       "2735309     8896531  B00LTFG8EC        5   \n",
       "2735310     8896532  B00LTFG8EC        5   \n",
       "2735311     8896533  B00LTFG8EC        4   \n",
       "2735312     8896534  B00LTFG8EC        5   \n",
       "2735313     8896535  B00LTFG8EC        5   \n",
       "2735314     8896536  B00LTFG8EC        4   \n",
       "2735315     8896537  B00LTFG8EC        5   \n",
       "2735316     8896538  B00LTFG8EC        5   \n",
       "2735317     8896539  B00LTFG8EC        5   \n",
       "2735318     8896540  B00LTFG8EC        5   \n",
       "2735319     8896541  B00LTFG8EC        5   \n",
       "2735320     8896542  B00LTFG8EC        5   \n",
       "2735321     8896543  B00LTFG8EC        5   \n",
       "\n",
       "                                                   summary      reviewerID  \\\n",
       "128493                                    Our bedtime book  A1II2ZRPKZAQQD   \n",
       "128494                     Now this is a bear with an edge   AYDV19813JB64   \n",
       "128495                                      Traveling Bear  A232HUAELH5J6V   \n",
       "128496                                         Bear Scents  A3EQ7BW3YRDQZR   \n",
       "128497                 wildly popular with preschool crowd  A1KORK2R2H8PGG   \n",
       "128498                              A new bedtime classic!  A3ARV0MHB509C9   \n",
       "128499                                      Charming Story  A3THMAV4B5PGFN   \n",
       "128500                             My 7 month old loves it  A3OE6FE2U0JVT8   \n",
       "128501                   A \"bad\" baby's journey into night   AYDV19813JB64   \n",
       "128502             My daughter's favorite (for this week).   AG42CYU5P8NVQ   \n",
       "128503                                  Great bedtime book  A232Q6TWQ2D4TP   \n",
       "128504                        toot toot!  Chugga, chugga..  A39JDUTNDXMSX9   \n",
       "128505          I was misled by all these glowing reviews.  A3PG2BEQ2JIBBC   \n",
       "400734                                Picky eaters delight  A2QPBYEB1U005J   \n",
       "400735                             Delightfully engaging!!  A3I43PYBXWCKNW   \n",
       "400736                                          Delicious!  A3GE4IOOIJELV8   \n",
       "400737                                        Sweet story.  A3SK4HEGRPK5LA   \n",
       "400738                        Love the pumpkin soup series  A1Y249MSRVCWWQ   \n",
       "400739                 A fine, different story of sharing.  A14OJS0VWMOSWO   \n",
       "400854                                      Clever Sequel!  A3GZ1U7PZTUSY7   \n",
       "400855                                  Great for toddlers  A3THMAV4B5PGFN   \n",
       "400856          Narrative not as memorable as Pumpkin Soup  A3AGWRMHKLFLWR   \n",
       "400857    Fabulous purchase. We are now Helen Cooper fans!  A3I43PYBXWCKNW   \n",
       "400858                                          Great Book  A3PLVOOFXPLC3V   \n",
       "400859                                          Cute story  A25QGC7Q3CAOKV   \n",
       "400860                   After Reading Pumpkin Soup.......   AG42CYU5P8NVQ   \n",
       "400861                           The darling trio is back!  A2FIVWKRZJ8LPV   \n",
       "400875                                           Very Cute  A1HK7UM6V4WDJH   \n",
       "400876                      Absolutely, utterly, charming!  A32ZK0LHNQO7DB   \n",
       "400877                                 Excellent storyline  A3GZ1U7PZTUSY7   \n",
       "...                                                    ...             ...   \n",
       "2735292                                             WOW!!!  A1IEXNTOKXN1NF   \n",
       "2735293                                          Fantastic  A1DV7KBVNY8YHW   \n",
       "2735294                                          Hot cover  A3MZQ2NQMIPQQP   \n",
       "2735295                               This Is Sooooo Good!   AXEYG8HEBYJ2J   \n",
       "2735296       You'll Love The Initial Introduction To Noah  A2VXE1UZIN6JPU   \n",
       "2735297                                            Ahhhhh!   A9CUG1142XMCX   \n",
       "2735298                                                wow  A15QJPLNY3EFQF   \n",
       "2735299                                Mouth wide open....   A4MEIWXR9YC78   \n",
       "2735300                         always with a cliff hanger  A3VCT0565WG622   \n",
       "2735301                                            Amazing   AIU4QKJ5GJSOY   \n",
       "2735302                                  OMFG cliff-hanger  A1VDXZASTPFIAE   \n",
       "2735303                             I am in love with Noah  A1RZLTY4BR8N4Q   \n",
       "2735304                              Ms. Bladon is back...   AE22SBNWNQXAL   \n",
       "2735305                  July 31st can't come soon enough!  A3T31GZHAERRUL   \n",
       "2735306                                       GREAT STORY!  A1PTLI4WLPGMLN   \n",
       "2735307                                     Noah and Alexa  A3EKGQOEEZ69R9   \n",
       "2735308                                     Vain..Oh my!!!  A1JC2OF7QTG8OM   \n",
       "2735309                                            awesome  A2PDXV1H37XJBA   \n",
       "2735310                                            Amazing  A14DCNBUXEPPEI   \n",
       "2735311                                               good  A1219MSUEL0711   \n",
       "2735312                  10 Stars! Will leave you shocked!   AOHBLNK5FZ56A   \n",
       "2735313                                       Hot Hot Hot!  A1DIJSNWLEDMVC   \n",
       "2735314                                          Too Short   AK56P9TMUDM8F   \n",
       "2735315                                          Loved it!  A2E0O1UK4OEDCC   \n",
       "2735316                         You won't be disappointed.  A11IGZTFZ8W9MU   \n",
       "2735317  Bladon has done it again... Another mouthwater...  A1XW9U69EDW3MX   \n",
       "2735318                                      love the book  A17GJ3DY57EE67   \n",
       "2735319                                             So hot  A3KG73456DW4W4   \n",
       "2735320            Who can resist a vulnerable Alpha Male?  A1JSYRRATJLLJI   \n",
       "2735321                                 Neeeeeed mooooore!  A32WN09H7GQJ4P   \n",
       "\n",
       "          helpful                                         reviewText  \\\n",
       "128493     [0, 0]  We found this book at the library several week...   \n",
       "128494     [1, 1]  There is a horror lurking under little William...   \n",
       "128495     [0, 2]  This is a funny store about a boy who imagines...   \n",
       "128496     [0, 0]  This can be an important book for a child that...   \n",
       "128497     [1, 1]  Fears, real and imagined, are a central and po...   \n",
       "128498     [2, 3]  What a story! A small boy refuses to go to sle...   \n",
       "128499     [0, 0]  I like this story, but my son will only let me...   \n",
       "128500     [0, 0]  and so do I. I have to read it over and over t...   \n",
       "128501     [5, 6]  It doesn't take long for the trouble to start ...   \n",
       "128502     [1, 1]  This is a sweet story of a boy who decides he ...   \n",
       "128503     [1, 2]  A very cute story about a little boy who doesn...   \n",
       "128504     [0, 0]  From the time my girls were teeny, they adored...   \n",
       "128505    [5, 34]  Let me qualify something.  I have a two year o...   \n",
       "400734     [1, 2]  The little cooks in Chef Buddies Cooking with ...   \n",
       "400735     [0, 0]  I purchased this (and several others by the sa...   \n",
       "400736     [1, 1]  Duck, Squirrel and Cat previously encountered ...   \n",
       "400737     [0, 0]  This companion book to &#34;Pumpkin Soup&#34; ...   \n",
       "400738     [0, 0]  Helen Cooper has written 3 books in the pumpki...   \n",
       "400739     [1, 2]  It's lunchtime in the old white cabin but Cat,...   \n",
       "400854     [0, 0]  It is a clever sequel to Pumpkin Soup.  Carrie...   \n",
       "400855     [0, 0]  This is my review for Pumpkin Soup, which we a...   \n",
       "400856     [4, 5]  3 stars for story, 4.5 stars for illustrations...   \n",
       "400857     [0, 0]  I purchased this (and several others by the sa...   \n",
       "400858     [0, 0]  I purchased this book along with the complimen...   \n",
       "400859     [1, 1]  What a cute little story.  My 2 1/2 year old g...   \n",
       "400860     [0, 0]  Grandmum gave my daughter the Pumpkin Soup boo...   \n",
       "400861     [0, 0]  My daughter loved the 1st one so much we had t...   \n",
       "400875     [0, 0]  The illustrations in this book are beautiful -...   \n",
       "400876   [16, 16]  As a children's librarian I often read this bo...   \n",
       "400877     [0, 0]  I bought the Chinese version of this book firs...   \n",
       "...           ...                                                ...   \n",
       "2735292    [0, 0]  Amazing!!!  Can't wait to read the next one.  ...   \n",
       "2735293    [0, 0]  this book had me on edge from start to finish....   \n",
       "2735294    [0, 0]  Awesome. I haven't even read this book but if ...   \n",
       "2735295    [0, 0]  This is part one in his new series...Vain.  Fi...   \n",
       "2735296    [1, 1]  This is a story of a perfect, sexy man who has...   \n",
       "2735297    [1, 1]  This was a complete mind #$@!  I literally was...   \n",
       "2735298    [0, 0]  That was amazing I feel so bad for Alexa. Noah...   \n",
       "2735299    [1, 1]  Is what I was doing at the end of this book.  ...   \n",
       "2735300    [0, 0]  If you like cliff hangers then Deborah Bladon ...   \n",
       "2735301    [0, 0]  I definitely liked this book way more than I e...   \n",
       "2735302    [0, 0]  Another thrilling series beginner with an OMFG...   \n",
       "2735303    [0, 0]  What Can I say about Vain&#8230;I am at a loss...   \n",
       "2735304    [0, 0]  This book made me want to throw my iPhone (wit...   \n",
       "2735305    [0, 0]  ...because that's the release date of Vain Boo...   \n",
       "2735306    [0, 0]  I can hardly wait for #2 to be released.  This...   \n",
       "2735307    [0, 0]  ALEXA has found her match, she had Nathan and ...   \n",
       "2735308    [0, 0]  This was so different..I loved the fact that h...   \n",
       "2735309    [0, 0]  I absolutely loved the book. I think it's intr...   \n",
       "2735310    [0, 0]  Totally hooked on this book. I cannot wait for...   \n",
       "2735311    [1, 2]  This is the 2nd book by this author I've read....   \n",
       "2735312    [1, 1]  O.M.F.G!!! I&#8230;.I&#8230;. I&#8230;.*stutte...   \n",
       "2735313    [0, 0]  I love the way DB keeps her readers so caught ...   \n",
       "2735314    [0, 0]  I loved this book, but I do wish they were lon...   \n",
       "2735315    [0, 0]             Can not wait for the next installment!   \n",
       "2735316    [1, 1]  Just finished this short read. I liked everyth...   \n",
       "2735317    [1, 1]  Deborah Bladon has done it again!!! I have pur...   \n",
       "2735318    [0, 0]  I read the book in less than 3 hours! I love y...   \n",
       "2735319    [0, 0]  This book had me glued to it, I couldn't put i...   \n",
       "2735320    [0, 0]  Let me start by saying this is my first Debora...   \n",
       "2735321    [0, 0]  WOWSIES! I was wholly captivated with this sex...   \n",
       "\n",
       "                                 reviewerName         authors  \n",
       "128493               Amy Mcfarland \"Mom of 2\"    Helen Cooper  \n",
       "128494                     Laurence Gillespie    Helen Cooper  \n",
       "128495                                 Ohioan    Helen Cooper  \n",
       "128496                        Persop \"Persop\"    Helen Cooper  \n",
       "128497                               W. Cluff    Helen Cooper  \n",
       "128498                             \"charlie4\"    Helen Cooper  \n",
       "128499                               H. Henry    Helen Cooper  \n",
       "128500      Jennifer L. Ware \"literate mamma\"    Helen Cooper  \n",
       "128501                     Laurence Gillespie    Helen Cooper  \n",
       "128502                      Mathew A. Shember    Helen Cooper  \n",
       "128503                               Molpadia    Helen Cooper  \n",
       "128504                        rinki dinki doo    Helen Cooper  \n",
       "128505               Spaceman Spiff \"flergum\"    Helen Cooper  \n",
       "400734       Beverly Matthews \"liturary cook\"    Helen Cooper  \n",
       "400735                            Ireland Mom    Helen Cooper  \n",
       "400736                      Kirsten G. Cutler    Helen Cooper  \n",
       "400737      Martha Miller-Hall \"AKA Tofu Mom\"    Helen Cooper  \n",
       "400738                             M. Collins    Helen Cooper  \n",
       "400739                    Midwest Book Review    Helen Cooper  \n",
       "400854                                Big boo    Helen Cooper  \n",
       "400855                               H. Henry    Helen Cooper  \n",
       "400856                    H. Sapiens \"Amanda\"    Helen Cooper  \n",
       "400857                            Ireland Mom    Helen Cooper  \n",
       "400858                                 jimlid    Helen Cooper  \n",
       "400859                      Maralee A. Hertel    Helen Cooper  \n",
       "400860                      Mathew A. Shember    Helen Cooper  \n",
       "400861                        Stacey Reynolds    Helen Cooper  \n",
       "400875                            Ace of Case    Helen Cooper  \n",
       "400876                                 AnnFes    Helen Cooper  \n",
       "400877                                Big boo    Helen Cooper  \n",
       "...                                       ...             ...  \n",
       "2735292                              Huge fan  Deborah Bladon  \n",
       "2735293                    Ivelisse Rodriguez  Deborah Bladon  \n",
       "2735294                           jamiesadler  Deborah Bladon  \n",
       "2735295                                JanetG  Deborah Bladon  \n",
       "2735296                                 Jenny  Deborah Bladon  \n",
       "2735297                               Jessica  Deborah Bladon  \n",
       "2735298                        Jose Rodriguez  Deborah Bladon  \n",
       "2735299                       Keitha Brassard  Deborah Bladon  \n",
       "2735300                              Kelly D.  Deborah Bladon  \n",
       "2735301                              Kimberly  Deborah Bladon  \n",
       "2735302                     Krystel \"Krystel\"  Deborah Bladon  \n",
       "2735303  La Reina of New York \"Online Junkie\"  Deborah Bladon  \n",
       "2735304                              ldesiree  Deborah Bladon  \n",
       "2735305                                  LDJW  Deborah Bladon  \n",
       "2735306                 Linda Stinson \"GLULU\"  Deborah Bladon  \n",
       "2735307                               Lori J.  Deborah Bladon  \n",
       "2735308                     Love Baker \"Love\"  Deborah Bladon  \n",
       "2735309                              Mckenzie  Deborah Bladon  \n",
       "2735310                     Melinda Rodriguez  Deborah Bladon  \n",
       "2735311                              Michelle  Deborah Bladon  \n",
       "2735312                                  MRay  Deborah Bladon  \n",
       "2735313                          Ms.D.D.MCBEE  Deborah Bladon  \n",
       "2735314                               Randips  Deborah Bladon  \n",
       "2735315                          Sandra Diggs  Deborah Bladon  \n",
       "2735316                                Sarita  Deborah Bladon  \n",
       "2735317                           Schuler1979  Deborah Bladon  \n",
       "2735318                                Shanna  Deborah Bladon  \n",
       "2735319                           Susan Dodge  Deborah Bladon  \n",
       "2735320                           Tammy Casey  Deborah Bladon  \n",
       "2735321                                Telina  Deborah Bladon  \n",
       "\n",
       "[52185 rows x 9 columns]"
      ]
     },
     "execution_count": 131,
     "metadata": {},
     "output_type": "execute_result"
    }
   ],
   "source": [
    "match_books_author[match_books_author['authors'].isin(match_books_top_authors['authors'])]"
   ]
  },
  {
   "cell_type": "code",
   "execution_count": 132,
   "metadata": {},
   "outputs": [
    {
     "data": {
      "text/plain": [
       "<matplotlib.axes._subplots.AxesSubplot at 0x16b745668>"
      ]
     },
     "execution_count": 132,
     "metadata": {},
     "output_type": "execute_result"
    },
    {
     "data": {
      "image/png": "[encoded data removed]",
      "text/plain": [
       "<matplotlib.figure.Figure at 0x1562cc5f8>"
      ]
     },
     "metadata": {},
     "output_type": "display_data"
    }
   ],
   "source": [
    "sub = match_books_author[match_books_author['authors'] == 'Stephen King']\n",
    "sub_scores = scores_books[scores_books['asin'].isin(sub['asin'])]\n",
    "sns.violinplot(x=sub_scores['overall'])"
   ]
  },
  {
   "cell_type": "markdown",
   "metadata": {},
   "source": [
    "Here it looks like the ratings are slightly better in general for the book version."
   ]
  },
  {
   "cell_type": "markdown",
   "metadata": {},
   "source": [
    "### old"
   ]
  },
  {
   "cell_type": "markdown",
   "metadata": {
    "collapsed": true
   },
   "source": [
    "def compute_review_spark(data):\n",
    "    func = udf(lambda x: sid.polarity_scores(x)['compound'], T.DoubleType())\n",
    "    \n",
    "    data = data.withColumn('sentiment_review', func('reviewText'))\n",
    "    data = data.withColumn('sentiment_summary', func('summary'))\n",
    "    data = data.withColumn('average', average('sentiment_review', 'sentiment_summary'))\n",
    "    \n",
    "    output = data.groupby('overall').mean()\n",
    "    return output"
   ]
  },
  {
   "cell_type": "markdown",
   "metadata": {},
   "source": [
    "reviews_books_with_sentiment[reviews_books_with_sentiment['overall'] == 1].head()"
   ]
  },
  {
   "cell_type": "markdown",
   "metadata": {
    "scrolled": true
   },
   "source": [
    "reviews_books_with_sentiment.iloc[212]['reviewText']"
   ]
  },
  {
   "cell_type": "markdown",
   "metadata": {},
   "source": [
    "This review above has a really positive sentiment score of 0.9735, but if we read the review, we can understand that it is quite the opposite. A second example is \"Not so good\" which yields a score of 0.4927, showing us the limitation of Vader."
   ]
  },
  {
   "cell_type": "markdown",
   "metadata": {},
   "source": [
    "We can observe here that the better the rating is, the more positive the text of the review is in average. The reviews with a rating of 1 are not negative in average. Even if the scores are not always accurate due to the limitation of Vader, they are consistent in average with the ratings."
   ]
  },
  {
   "cell_type": "markdown",
   "metadata": {
    "collapsed": true
   },
   "source": [
    "reviews_ebooks_with_sentiment = matched_ebooks.copy()\n",
    "reviews_ebooks_with_sentiment['sentiment_review'] = matched_ebooks['reviewText'].apply(f_sentiment)\n",
    "reviews_ebooks_with_sentiment['sentiment_summary'] = matched_ebooks['summary'].apply(f_sentiment)\n",
    "reviews_ebooks_with_sentiment['average'] = (reviews_ebooks_with_sentiment['sentiment_review'] + reviews_ebooks_with_sentiment['sentiment_summary'])*0.5"
   ]
  },
  {
   "cell_type": "markdown",
   "metadata": {},
   "source": [
    "The ratings seem to be consistent with the sentiment's score here again. Compared to books, the sentiment's score is slightly lower and even negative for a rating of 1.\n",
    "\n",
    "For the same rating, the books reviewer seems to be more positive in their review, this may be explained by the fact that books reviews tend to be longer and more descriptive than ebooks reviews.\n",
    "\n",
    "This analysis may not be really representative of the reality due to the limitation in size of our final dataset."
   ]
  },
  {
   "cell_type": "markdown",
   "metadata": {},
   "source": [
    "Sources:\n",
    "* *Improving the Amazon Review System by Exploiting the Credibility and Time-Decay of Public Reviews*, Bo-Chun Wang, Wen-Yuan Zhu, and Ling-Jyh Chen\n",
    "* Hutto, C.J. & Gilbert, E.E. (2014). *VADER: A Parsimonious Rule-based Model for Sentiment Analysis of Social Media Text. Eighth International Conference on Weblogs and Social Media (ICWSM-14)*. Ann Arbor, MI, June 2014."
   ]
  },
  {
   "cell_type": "code",
   "execution_count": null,
   "metadata": {
    "collapsed": true
   },
   "outputs": [],
   "source": [
    "sc.stop()"
   ]
  },
  {
   "cell_type": "code",
   "execution_count": null,
   "metadata": {
    "collapsed": true
   },
   "outputs": [],
   "source": []
  }
 ],
 "metadata": {
  "anaconda-cloud": {},
  "kernelspec": {
   "display_name": "Python [default]",
   "language": "python",
   "name": "python3"
  },
  "language_info": {
   "codemirror_mode": {
    "name": "ipython",
    "version": 3
   },
   "file_extension": ".py",
   "mimetype": "text/x-python",
   "name": "python",
   "nbconvert_exporter": "python",
   "pygments_lexer": "ipython3",
   "version": "3.5.3"
  }
 },
 "nbformat": 4,
 "nbformat_minor": 2
}
