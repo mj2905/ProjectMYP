{
 "cells": [
  {
   "cell_type": "markdown",
   "metadata": {},
   "source": [
    "# Books versus eBooks : The customer's choice"
   ]
  },
  {
   "cell_type": "markdown",
   "metadata": {},
   "source": [
    "You need to have the metadata.json and the two 5-core files reviews_Books_5.json and reviews_Kindle_Store_5.json at the same level as the notebook.\n",
    "\n",
    "For the questions asked for Milestone 2, please refer to the README file, where you will see a part dedicated to milestone 2. In this Notebook, we don't answer specifically to these questions, but we speak at each step what we technically made and failed."
   ]
  },
  {
   "cell_type": "markdown",
   "metadata": {},
   "source": [
    "## Data retrieval"
   ]
  },
  {
   "cell_type": "code",
   "execution_count": 1,
   "metadata": {
    "collapsed": true
   },
   "outputs": [],
   "source": [
    "import pandas as pd\n",
    "import re\n",
    "import numpy as np\n",
    "import requests\n",
    "import time\n",
    "from bs4 import BeautifulSoup\n",
    "from ast import literal_eval\n",
    "import matplotlib.pyplot as plt\n",
    "import pickle\n",
    "import seaborn as sns\n",
    "%matplotlib inline"
   ]
  },
  {
   "cell_type": "markdown",
   "metadata": {},
   "source": [
    "#### Warning :\n",
    "There are several booleans in this cell. They are useful to indicate if we need to perform some key data filtering and transformation in the whole notebook. The first one is set to True as it creates a file that is bigger than 300Mo, so that we can't put it in github. You will have to compute it if you run the notebook (it takes some time). The other files are on github, so all other booleans are set to False."
   ]
  },
  {
   "cell_type": "code",
   "execution_count": 2,
   "metadata": {
    "collapsed": true
   },
   "outputs": [],
   "source": [
    "metadata_path = 'metadata.json'\n",
    "books_metadata_path = 'books_metadata_with_bracket.csv'\n",
    "ebooks_metadata_title_path = 'ebooks_metadata_title.csv'\n",
    "ebooks_asin = 'ebooks_asin.csv'\n",
    "books_5core_path = 'reviews_Books_5.json'\n",
    "kindle_5core_path = 'reviews_Kindle_Store_5.json'\n",
    "amazon_ebooks = 'ebooks_title_from_amazon_complete.csv'\n",
    "amazon_aws_ebooks = 'ebooks_metadata_amazon.csv'\n",
    "amazon_aws_ebooks_undefined = 'ebooks_metadata_amazon_undefined.csv'\n",
    "amazon_aws_ebooks_log = 'ebooks_metadata_amazon_log.csv'\n",
    "asindb_ebooks = 'ebooks_title_from_asindb.csv'\n",
    "\n",
    "amazon_aws_books = 'books_metadata_amazon_all.csv'\n",
    "amazon_aws_books_undefined = 'books_metadata_amazon_undefined_p.csv'\n",
    "amazon_aws_books_log = 'books_metadata_amazon_log_p.csv'\n",
    "\n",
    "matched_books_path = 'matched_books_flat_lax.csv'\n",
    "matched_ebooks_path = 'matched_ebooks_by_authors.csv'\n",
    "matched_books_path_nolax = 'matched_books_by_authors_nolax_bis.csv'\n",
    "matched_ebooks_path_nolax = 'matched_ebooks_by_authors_nolax.csv'\n",
    "matched_books_short = 'matched_books.csv'\n",
    "matched_ebooks_short = 'matched_ebooks.csv'\n",
    "weighted_scores_books_path = 'weighted_scores_books.csv'\n",
    "weighted_scores_ebooks_path = 'weighted_scores_ebooks.csv'\n",
    "\n",
    "\n",
    "WRITE_BOOKS_METADATA = False\n",
    "WRITE_EBOOKS_METADATA_TITLE = False\n",
    "WRITE_EBOOK_ASIN = False\n",
    "AMAZON_GET_TITLE = False\n",
    "ASINDB_GET_TITLE = False\n",
    "AMAZON_AWS_METADATA_EBOOKS = False\n",
    "AMAZON_AWS_METADATA_BOOKS = False\n",
    "\n",
    "WRITE_FIND_MATCHED = False\n",
    "WRITE_WEIGHTED_SCORE = False\n",
    "WRITE_SCORES = False\n",
    "WRITE_FLAT = False"
   ]
  },
  {
   "cell_type": "markdown",
   "metadata": {},
   "source": [
    "As for our project, we need to obtain ebook data and book data, we chose the Amazon dataset. On this <a href='http://jmcauley.ucsd.edu/data/amazon/'>link</a>, we have downloaded the Books and Kindle Store 5-core files. However, those files contain reviews, so that we have no information about the article title or price.\n",
    "For that reason, we had to use the metadata file, acting as an intermediate table (relationship).\n",
    "\n",
    "We obtained the metadata.json file from the cluster, as it was not available in the website.\n",
    "We accessed the cluster using ssh@iccluster060.iccluster.epfl.ch, then using \n",
    "```shell\n",
    "hadoop fs -get /datasets/productGraph/metadata.json /buffer\n",
    "```\n",
    "to move the dataset to a folder we could connect to with SCP to download it on our computer.\n"
   ]
  },
  {
   "cell_type": "markdown",
   "metadata": {},
   "source": [
    "It's a json file, that is not readable using the pandas read_json method. We had to use the Code part from <a href='http://jmcauley.ucsd.edu/data/amazon/'>here</a> to read it. We can see a way to read the file (a limited portion of it) below :"
   ]
  },
  {
   "cell_type": "code",
   "execution_count": 3,
   "metadata": {
    "collapsed": false
   },
   "outputs": [
    {
     "data": {
      "text/html": [
       "<div>\n",
       "<style scoped>\n",
       "    .dataframe tbody tr th:only-of-type {\n",
       "        vertical-align: middle;\n",
       "    }\n",
       "\n",
       "    .dataframe tbody tr th {\n",
       "        vertical-align: top;\n",
       "    }\n",
       "\n",
       "    .dataframe thead th {\n",
       "        text-align: right;\n",
       "    }\n",
       "</style>\n",
       "<table border=\"1\" class=\"dataframe\">\n",
       "  <thead>\n",
       "    <tr style=\"text-align: right;\">\n",
       "      <th></th>\n",
       "      <th>title</th>\n",
       "      <th>imUrl</th>\n",
       "      <th>categories</th>\n",
       "      <th>asin</th>\n",
       "      <th>salesRank</th>\n",
       "      <th>related</th>\n",
       "      <th>description</th>\n",
       "      <th>price</th>\n",
       "    </tr>\n",
       "  </thead>\n",
       "  <tbody>\n",
       "    <tr>\n",
       "      <th>0</th>\n",
       "      <td>The Crucible: Performed by Stuart Pankin, Jero...</td>\n",
       "      <td>http://ecx.images-amazon.com/images/I/51MKP0T4...</td>\n",
       "      <td>[[Books]]</td>\n",
       "      <td>0001048791</td>\n",
       "      <td>{'Books': 6334800}</td>\n",
       "      <td>NaN</td>\n",
       "      <td>NaN</td>\n",
       "      <td>NaN</td>\n",
       "    </tr>\n",
       "    <tr>\n",
       "      <th>1</th>\n",
       "      <td>Everyday Italian (with Giada de Laurentiis), V...</td>\n",
       "      <td>http://g-ecx.images-amazon.com/images/G/01/x-s...</td>\n",
       "      <td>[[Movies &amp; TV, Movies]]</td>\n",
       "      <td>0000143561</td>\n",
       "      <td>{'Movies &amp; TV': 376041}</td>\n",
       "      <td>{'also_viewed': ['B0036FO6SI', 'B000KL8ODE', '...</td>\n",
       "      <td>3Pack DVD set - Italian Classics, Parties and ...</td>\n",
       "      <td>12.99</td>\n",
       "    </tr>\n",
       "  </tbody>\n",
       "</table>\n",
       "</div>"
      ],
      "text/plain": [
       "                                               title  \\\n",
       "0  The Crucible: Performed by Stuart Pankin, Jero...   \n",
       "1  Everyday Italian (with Giada de Laurentiis), V...   \n",
       "\n",
       "                                               imUrl               categories  \\\n",
       "0  http://ecx.images-amazon.com/images/I/51MKP0T4...                [[Books]]   \n",
       "1  http://g-ecx.images-amazon.com/images/G/01/x-s...  [[Movies & TV, Movies]]   \n",
       "\n",
       "         asin                salesRank  \\\n",
       "0  0001048791       {'Books': 6334800}   \n",
       "1  0000143561  {'Movies & TV': 376041}   \n",
       "\n",
       "                                             related  \\\n",
       "0                                                NaN   \n",
       "1  {'also_viewed': ['B0036FO6SI', 'B000KL8ODE', '...   \n",
       "\n",
       "                                         description  price  \n",
       "0                                                NaN    NaN  \n",
       "1  3Pack DVD set - Italian Classics, Parties and ...  12.99  "
      ]
     },
     "execution_count": 3,
     "metadata": {},
     "output_type": "execute_result"
    }
   ],
   "source": [
    "def read_json(path, limit = 2): \n",
    "    g = open(path, 'r') \n",
    "    df = {}\n",
    "    for i, l in enumerate(g): \n",
    "        if i < limit:\n",
    "            df[i] = eval(l)\n",
    "        else:\n",
    "            break\n",
    "    return pd.DataFrame.from_dict(df, orient='index')\n",
    "\n",
    "def read_csv(path, limit = 2): \n",
    "    return pd.read_csv(path, nrows=limit)\n",
    "            \n",
    "read_json(metadata_path)"
   ]
  },
  {
   "cell_type": "markdown",
   "metadata": {},
   "source": [
    "However, this metadata.json file takes more than 10 Go, for 9430088 entries (obtained by doing a wc -l metadata.json), so it does not fit in memory. Thus, as we will do a lot of tests later, we wanted to create a subfile containing only the Books metadata (we don't need video games metadata for example), with a subset of columns. We also want to write it in the csv format, to manipulate it in an easier way later.\n",
    "\n",
    "We use the regex \"\\[\\'books\" in an ignore case mode, to obtain only entries that have a category tag beginning with [Books. In fact, if we want to use the regex 'book', some entries like 0078800242 or B00000078S are not books at all, even if there is Books in the title or the category tag. The '[' is useful here to avoir this behavior."
   ]
  },
  {
   "cell_type": "code",
   "execution_count": 4,
   "metadata": {
    "collapsed": true
   },
   "outputs": [],
   "source": [
    "def read_book_metadata(path, regex): \n",
    "    g = open(path, 'r') \n",
    "    for l in g: \n",
    "        book = regex.search(l)\n",
    "        if book:\n",
    "            yield eval(l) \n",
    "            \n",
    "def write_df_books_metadata(from_, to, regex, columns_to_keep): \n",
    "    i = 0 \n",
    "    df = {} \n",
    "    for d in read_book_metadata(from_, regex): \n",
    "        df[i] = d \n",
    "        i += 1 \n",
    "        if i % 10000 == 0: # Here, we choose to write everything every 10'000 book entries, and clear the dataframe to free memory.\n",
    "            pd.DataFrame.from_dict(df, orient='index')[columns_to_keep].to_csv(to, header=False,mode='a')\n",
    "            df = {}\n",
    "\n",
    "COLUMNS_TO_KEEP = ['asin', 'salesRank', 'categories', 'title', 'price']\n",
    "regex = re.compile('\\[\\'books', re.IGNORECASE)\n",
    "\n",
    "if WRITE_BOOKS_METADATA:\n",
    "    pd.DataFrame(columns=[COLUMNS_TO_KEEP]).to_csv(books_metadata_path)\n",
    "    write_df_books_metadata(metadata_path, books_metadata_path, regex, COLUMNS_TO_KEEP)"
   ]
  },
  {
   "cell_type": "markdown",
   "metadata": {},
   "source": [
    "And if we read what we just wrote :"
   ]
  },
  {
   "cell_type": "code",
   "execution_count": 5,
   "metadata": {
    "collapsed": false
   },
   "outputs": [
    {
     "data": {
      "text/html": [
       "<div>\n",
       "<style scoped>\n",
       "    .dataframe tbody tr th:only-of-type {\n",
       "        vertical-align: middle;\n",
       "    }\n",
       "\n",
       "    .dataframe tbody tr th {\n",
       "        vertical-align: top;\n",
       "    }\n",
       "\n",
       "    .dataframe thead th {\n",
       "        text-align: right;\n",
       "    }\n",
       "</style>\n",
       "<table border=\"1\" class=\"dataframe\">\n",
       "  <thead>\n",
       "    <tr style=\"text-align: right;\">\n",
       "      <th></th>\n",
       "      <th>Unnamed: 0</th>\n",
       "      <th>asin</th>\n",
       "      <th>salesRank</th>\n",
       "      <th>categories</th>\n",
       "      <th>title</th>\n",
       "      <th>price</th>\n",
       "    </tr>\n",
       "  </thead>\n",
       "  <tbody>\n",
       "    <tr>\n",
       "      <th>0</th>\n",
       "      <td>0</td>\n",
       "      <td>1048791</td>\n",
       "      <td>{'Books': 6334800}</td>\n",
       "      <td>[['Books']]</td>\n",
       "      <td>The Crucible: Performed by Stuart Pankin, Jero...</td>\n",
       "      <td>NaN</td>\n",
       "    </tr>\n",
       "    <tr>\n",
       "      <th>1</th>\n",
       "      <td>1</td>\n",
       "      <td>1048775</td>\n",
       "      <td>{'Books': 13243226}</td>\n",
       "      <td>[['Books']]</td>\n",
       "      <td>Measure for Measure: Complete &amp;amp; Unabridged</td>\n",
       "      <td>NaN</td>\n",
       "    </tr>\n",
       "  </tbody>\n",
       "</table>\n",
       "</div>"
      ],
      "text/plain": [
       "   Unnamed: 0     asin            salesRank   categories  \\\n",
       "0           0  1048791   {'Books': 6334800}  [['Books']]   \n",
       "1           1  1048775  {'Books': 13243226}  [['Books']]   \n",
       "\n",
       "                                               title  price  \n",
       "0  The Crucible: Performed by Stuart Pankin, Jero...    NaN  \n",
       "1     Measure for Measure: Complete &amp; Unabridged    NaN  "
      ]
     },
     "execution_count": 5,
     "metadata": {},
     "output_type": "execute_result"
    }
   ],
   "source": [
    "read_csv(books_metadata_path)"
   ]
  },
  {
   "cell_type": "markdown",
   "metadata": {},
   "source": [
    "We also wanted to obtain the ebooks titles, price etc..\n",
    "For the category filter, we have to use the same trick as for the Books one : \"\\[\\'Kindle\". Please note that some book metadatas above are in fact kindle store metadatas, because the category can contain both. However, it's not a big deal if we want to do the merge later, because as we will see, pretty much no ebook has a title in the given metadata.\n",
    "\n",
    "However, for the metadatas for ebooks, there was a problem at that step :"
   ]
  },
  {
   "cell_type": "code",
   "execution_count": 6,
   "metadata": {
    "collapsed": true
   },
   "outputs": [],
   "source": [
    "def read_ebook_metadata(path, regex): \n",
    "    g = open(path, 'r') \n",
    "    for l in g: \n",
    "        ebook = regex.search(l)\n",
    "        if ebook:\n",
    "            yield eval(l) \n",
    "def obtain_df_ebooks_metadata(from_, to, regex): \n",
    "    i = 0 \n",
    "    df = {} \n",
    "    count = 0\n",
    "    for d in read_ebook_metadata(from_, regex): \n",
    "        count += 1\n",
    "        if(d.get('title')):\n",
    "            df[i] = {'asin': d.get('asin'), 'title': d.get('title')}\n",
    "            i += 1 \n",
    "    pd.DataFrame.from_dict(df, orient='index').to_csv(to)\n",
    "    print('Total ebooks in metadatas:', count)\n",
    "\n",
    "\n",
    "regex = re.compile('\\[\\'Kindle', re.IGNORECASE)\n",
    "\n",
    "if WRITE_EBOOKS_METADATA_TITLE:\n",
    "    obtain_df_ebooks_metadata(metadata_path, ebooks_metadata_title_path, regex)"
   ]
  },
  {
   "cell_type": "markdown",
   "metadata": {},
   "source": [
    "We see right below that 44 entries out of 434702 have a title. Of course, it's not good at all, since we want to merge books and ebooks using the title field."
   ]
  },
  {
   "cell_type": "code",
   "execution_count": 7,
   "metadata": {
    "collapsed": false
   },
   "outputs": [
    {
     "data": {
      "text/plain": [
       "44"
      ]
     },
     "execution_count": 7,
     "metadata": {},
     "output_type": "execute_result"
    }
   ],
   "source": [
    "read_csv(ebooks_metadata_title_path, None).shape[0]"
   ]
  },
  {
   "cell_type": "markdown",
   "metadata": {},
   "source": [
    "Thus, we need to obtain the title field from another source. The first idea was to retrieve this information from Amazon directly, as we wanted to do for the user location. For that, we need to have a list of the ebooks asin (Amazon Standard Identification Numbers). We obtain it from the Kindle Store 5-core file."
   ]
  },
  {
   "cell_type": "code",
   "execution_count": 8,
   "metadata": {
    "collapsed": true
   },
   "outputs": [],
   "source": [
    "def read_ebook_5core(path, regex): \n",
    "    g = open(path, 'r') \n",
    "    for l in g: \n",
    "        yield eval(l) \n",
    "def write_ebook_asin(from_, to): \n",
    "    i = 0 \n",
    "    df = {} \n",
    "    for d in read_ebook_5core(from_, regex): \n",
    "        df[i] = d \n",
    "        i += 1 \n",
    "        if i % 10000 == 0:\n",
    "            if i % 100000 == 0:\n",
    "                print(i) #to show the progression\n",
    "            pd.DataFrame.from_dict(df, orient='index')[['asin']].to_csv(to, header=False,mode='a')\n",
    "            df = {}\n",
    "    pd.DataFrame.from_dict(df, orient='index')[['asin']].to_csv(to, header=False,mode='a')\n",
    "    df = {}\n",
    "\n",
    "if WRITE_EBOOK_ASIN:\n",
    "    pd.DataFrame(columns=[['asin']]).to_csv(ebooks_asin)\n",
    "    write_ebook_asin(kindle_5core_path, ebooks_asin)"
   ]
  },
  {
   "cell_type": "markdown",
   "metadata": {},
   "source": [
    "As we were using the Kindle Store 5-core file, there are asin duplicates. We thus make it unique when we read."
   ]
  },
  {
   "cell_type": "code",
   "execution_count": 9,
   "metadata": {
    "collapsed": false
   },
   "outputs": [
    {
     "data": {
      "text/plain": [
       "array(['B000F83SZQ', 'B000FA64PA', 'B000FA64PK', ..., 'B00M029T4O',\n",
       "       'B00M0RE7CS', 'B00M13FNSS'], dtype=object)"
      ]
     },
     "execution_count": 9,
     "metadata": {},
     "output_type": "execute_result"
    }
   ],
   "source": [
    "ebooks_asin_unique = pd.read_csv('ebooks_asin.csv',usecols=[1]).asin.unique()\n",
    "ebooks_asin_unique"
   ]
  },
  {
   "cell_type": "code",
   "execution_count": 10,
   "metadata": {
    "collapsed": false
   },
   "outputs": [
    {
     "data": {
      "text/html": [
       "<div>\n",
       "<style scoped>\n",
       "    .dataframe tbody tr th:only-of-type {\n",
       "        vertical-align: middle;\n",
       "    }\n",
       "\n",
       "    .dataframe tbody tr th {\n",
       "        vertical-align: top;\n",
       "    }\n",
       "\n",
       "    .dataframe thead th {\n",
       "        text-align: right;\n",
       "    }\n",
       "</style>\n",
       "<table border=\"1\" class=\"dataframe\">\n",
       "  <thead>\n",
       "    <tr style=\"text-align: right;\">\n",
       "      <th></th>\n",
       "      <th>Unnamed: 0</th>\n",
       "      <th>asin</th>\n",
       "      <th>title</th>\n",
       "    </tr>\n",
       "  </thead>\n",
       "  <tbody>\n",
       "    <tr>\n",
       "      <th>0</th>\n",
       "      <td>B000FA64PA</td>\n",
       "      <td>B000FA64PA</td>\n",
       "      <td>Saboteur: Star Wars Legends (Darth Maul) (Shor...</td>\n",
       "    </tr>\n",
       "    <tr>\n",
       "      <th>1</th>\n",
       "      <td>B000FA64PK</td>\n",
       "      <td>B000FA64PK</td>\n",
       "      <td>Recovery: Star Wars Legends (The New Jedi Orde...</td>\n",
       "    </tr>\n",
       "    <tr>\n",
       "      <th>2</th>\n",
       "      <td>B000FA64QO</td>\n",
       "      <td>B000FA64QO</td>\n",
       "      <td>Ylesia: Star Wars Legends (The New Jedi Order)...</td>\n",
       "    </tr>\n",
       "    <tr>\n",
       "      <th>3</th>\n",
       "      <td>B000FBFMVG</td>\n",
       "      <td>B000FBFMVG</td>\n",
       "      <td>A Forest Apart: Star Wars Legends (Short Story...</td>\n",
       "    </tr>\n",
       "    <tr>\n",
       "      <th>4</th>\n",
       "      <td>B000FC1BN8</td>\n",
       "      <td>B000FC1BN8</td>\n",
       "      <td>Fool's Bargain: Star Wars Legends (Novella) (S...</td>\n",
       "    </tr>\n",
       "  </tbody>\n",
       "</table>\n",
       "</div>"
      ],
      "text/plain": [
       "   Unnamed: 0        asin                                              title\n",
       "0  B000FA64PA  B000FA64PA  Saboteur: Star Wars Legends (Darth Maul) (Shor...\n",
       "1  B000FA64PK  B000FA64PK  Recovery: Star Wars Legends (The New Jedi Orde...\n",
       "2  B000FA64QO  B000FA64QO  Ylesia: Star Wars Legends (The New Jedi Order)...\n",
       "3  B000FBFMVG  B000FBFMVG  A Forest Apart: Star Wars Legends (Short Story...\n",
       "4  B000FC1BN8  B000FC1BN8  Fool's Bargain: Star Wars Legends (Novella) (S..."
      ]
     },
     "execution_count": 10,
     "metadata": {},
     "output_type": "execute_result"
    }
   ],
   "source": [
    "ebooks_metadata = read_csv(asindb_ebooks, None)\n",
    "ebooks_metadata.head()"
   ]
  },
  {
   "cell_type": "code",
   "execution_count": 11,
   "metadata": {
    "collapsed": false
   },
   "outputs": [
    {
     "data": {
      "text/plain": [
       "2741"
      ]
     },
     "execution_count": 11,
     "metadata": {},
     "output_type": "execute_result"
    }
   ],
   "source": [
    "read_csv(asindb_ebooks, None).shape[0] # number of titles retrieved"
   ]
  },
  {
   "cell_type": "markdown",
   "metadata": {},
   "source": [
    "This solution is of course not the best one : the asindb website does not contain everything. We have managed to retrieve 2741 titles over 4000 asins by using this technique, but we have no problem with the Amazon bot detection (and possible ban). We can see which entries were not retrieved by printing the notdefined dataframe.\n",
    "\n",
    "Of course, tu retrieve the 2741 entries, we set the LIMIT constant in the code to be 4000.\n",
    "\n",
    "We thus continue our analysis by using it."
   ]
  },
  {
   "cell_type": "markdown",
   "metadata": {},
   "source": [
    "Now, as we have the title information for books and ebooks, let's merge them. We read the book metadata information in books_metadata and we have the ebook metadata information with title in ebooks_metadata."
   ]
  },
  {
   "cell_type": "code",
   "execution_count": 12,
   "metadata": {
    "collapsed": false
   },
   "outputs": [
    {
     "data": {
      "text/html": [
       "<div>\n",
       "<style scoped>\n",
       "    .dataframe tbody tr th:only-of-type {\n",
       "        vertical-align: middle;\n",
       "    }\n",
       "\n",
       "    .dataframe tbody tr th {\n",
       "        vertical-align: top;\n",
       "    }\n",
       "\n",
       "    .dataframe thead th {\n",
       "        text-align: right;\n",
       "    }\n",
       "</style>\n",
       "<table border=\"1\" class=\"dataframe\">\n",
       "  <thead>\n",
       "    <tr style=\"text-align: right;\">\n",
       "      <th></th>\n",
       "      <th>Unnamed: 0</th>\n",
       "      <th>asin</th>\n",
       "      <th>salesRank</th>\n",
       "      <th>categories</th>\n",
       "      <th>title</th>\n",
       "      <th>price</th>\n",
       "    </tr>\n",
       "  </thead>\n",
       "  <tbody>\n",
       "    <tr>\n",
       "      <th>0</th>\n",
       "      <td>0</td>\n",
       "      <td>0001048791</td>\n",
       "      <td>{'Books': 6334800}</td>\n",
       "      <td>[['Books']]</td>\n",
       "      <td>The Crucible: Performed by Stuart Pankin, Jero...</td>\n",
       "      <td>NaN</td>\n",
       "    </tr>\n",
       "    <tr>\n",
       "      <th>1</th>\n",
       "      <td>1</td>\n",
       "      <td>0001048775</td>\n",
       "      <td>{'Books': 13243226}</td>\n",
       "      <td>[['Books']]</td>\n",
       "      <td>Measure for Measure: Complete &amp;amp; Unabridged</td>\n",
       "      <td>NaN</td>\n",
       "    </tr>\n",
       "    <tr>\n",
       "      <th>2</th>\n",
       "      <td>2</td>\n",
       "      <td>0001048236</td>\n",
       "      <td>{'Books': 8973864}</td>\n",
       "      <td>[['Books']]</td>\n",
       "      <td>The Sherlock Holmes Audio Collection</td>\n",
       "      <td>9.26</td>\n",
       "    </tr>\n",
       "    <tr>\n",
       "      <th>3</th>\n",
       "      <td>3</td>\n",
       "      <td>0000401048</td>\n",
       "      <td>{'Books': 6448843}</td>\n",
       "      <td>[['Books']]</td>\n",
       "      <td>The rogue of publishers' row;: Confessions of ...</td>\n",
       "      <td>NaN</td>\n",
       "    </tr>\n",
       "    <tr>\n",
       "      <th>4</th>\n",
       "      <td>4</td>\n",
       "      <td>0001019880</td>\n",
       "      <td>{'Books': 9589258}</td>\n",
       "      <td>[['Books']]</td>\n",
       "      <td>Classic Soul Winner's New Testament Bible</td>\n",
       "      <td>5.39</td>\n",
       "    </tr>\n",
       "  </tbody>\n",
       "</table>\n",
       "</div>"
      ],
      "text/plain": [
       "   Unnamed: 0        asin            salesRank   categories  \\\n",
       "0           0  0001048791   {'Books': 6334800}  [['Books']]   \n",
       "1           1  0001048775  {'Books': 13243226}  [['Books']]   \n",
       "2           2  0001048236   {'Books': 8973864}  [['Books']]   \n",
       "3           3  0000401048   {'Books': 6448843}  [['Books']]   \n",
       "4           4  0001019880   {'Books': 9589258}  [['Books']]   \n",
       "\n",
       "                                               title  price  \n",
       "0  The Crucible: Performed by Stuart Pankin, Jero...    NaN  \n",
       "1     Measure for Measure: Complete &amp; Unabridged    NaN  \n",
       "2               The Sherlock Holmes Audio Collection   9.26  \n",
       "3  The rogue of publishers' row;: Confessions of ...    NaN  \n",
       "4          Classic Soul Winner's New Testament Bible   5.39  "
      ]
     },
     "execution_count": 12,
     "metadata": {},
     "output_type": "execute_result"
    }
   ],
   "source": [
    "books_metadata = pd.read_csv(books_metadata_path)\n",
    "books_metadata.head()"
   ]
  },
  {
   "cell_type": "markdown",
   "metadata": {},
   "source": [
    "We merge them on title, and we see that we only get 1297 entries. It's not bad, but we can for sure have a better result. As we can remark, there is a lot of time the title The Space Between. We will discuss later about it."
   ]
  },
  {
   "cell_type": "code",
   "execution_count": 13,
   "metadata": {
    "collapsed": false
   },
   "outputs": [
    {
     "data": {
      "text/html": [
       "<div>\n",
       "<style scoped>\n",
       "    .dataframe tbody tr th:only-of-type {\n",
       "        vertical-align: middle;\n",
       "    }\n",
       "\n",
       "    .dataframe tbody tr th {\n",
       "        vertical-align: top;\n",
       "    }\n",
       "\n",
       "    .dataframe thead th {\n",
       "        text-align: right;\n",
       "    }\n",
       "</style>\n",
       "<table border=\"1\" class=\"dataframe\">\n",
       "  <thead>\n",
       "    <tr style=\"text-align: right;\">\n",
       "      <th></th>\n",
       "      <th>asin_books</th>\n",
       "      <th>asin_ebooks</th>\n",
       "      <th>salesRank</th>\n",
       "      <th>categories</th>\n",
       "      <th>title</th>\n",
       "      <th>price</th>\n",
       "    </tr>\n",
       "  </thead>\n",
       "  <tbody>\n",
       "    <tr>\n",
       "      <th>0</th>\n",
       "      <td>0002008505</td>\n",
       "      <td>B002DYJ7DM</td>\n",
       "      <td>{'Books': 5587764}</td>\n",
       "      <td>[['Books']]</td>\n",
       "      <td>The Space Between</td>\n",
       "      <td>4.74</td>\n",
       "    </tr>\n",
       "    <tr>\n",
       "      <th>1</th>\n",
       "      <td>0615891411</td>\n",
       "      <td>B002DYJ7DM</td>\n",
       "      <td>{'Books': 4145053}</td>\n",
       "      <td>[['Books']]</td>\n",
       "      <td>The Space Between</td>\n",
       "      <td>2.99</td>\n",
       "    </tr>\n",
       "    <tr>\n",
       "      <th>2</th>\n",
       "      <td>1579660584</td>\n",
       "      <td>B002DYJ7DM</td>\n",
       "      <td>{'Books': 2486827}</td>\n",
       "      <td>[['Books']]</td>\n",
       "      <td>The Space Between</td>\n",
       "      <td>20.08</td>\n",
       "    </tr>\n",
       "    <tr>\n",
       "      <th>3</th>\n",
       "      <td>1588515508</td>\n",
       "      <td>B002DYJ7DM</td>\n",
       "      <td>{'Books': 5985767}</td>\n",
       "      <td>[['Books']]</td>\n",
       "      <td>The Space Between</td>\n",
       "      <td>NaN</td>\n",
       "    </tr>\n",
       "    <tr>\n",
       "      <th>4</th>\n",
       "      <td>1595143394</td>\n",
       "      <td>B002DYJ7DM</td>\n",
       "      <td>{'Books': 141638}</td>\n",
       "      <td>[['Books']]</td>\n",
       "      <td>The Space Between</td>\n",
       "      <td>7.13</td>\n",
       "    </tr>\n",
       "  </tbody>\n",
       "</table>\n",
       "</div>"
      ],
      "text/plain": [
       "   asin_books asin_ebooks           salesRank   categories              title  \\\n",
       "0  0002008505  B002DYJ7DM  {'Books': 5587764}  [['Books']]  The Space Between   \n",
       "1  0615891411  B002DYJ7DM  {'Books': 4145053}  [['Books']]  The Space Between   \n",
       "2  1579660584  B002DYJ7DM  {'Books': 2486827}  [['Books']]  The Space Between   \n",
       "3  1588515508  B002DYJ7DM  {'Books': 5985767}  [['Books']]  The Space Between   \n",
       "4  1595143394  B002DYJ7DM   {'Books': 141638}  [['Books']]  The Space Between   \n",
       "\n",
       "   price  \n",
       "0   4.74  \n",
       "1   2.99  \n",
       "2  20.08  \n",
       "3    NaN  \n",
       "4   7.13  "
      ]
     },
     "execution_count": 13,
     "metadata": {},
     "output_type": "execute_result"
    }
   ],
   "source": [
    "#We merge, and get the head. Everything after is here just to have a nicer representation of the first elements\n",
    "books_metadata.merge(ebooks_metadata, left_on='title', right_on='title').head().iloc[:,[1,7,2,3,4,5]].rename(columns={'asin_x':'asin_books', 'asin_y':'asin_ebooks'})"
   ]
  },
  {
   "cell_type": "code",
   "execution_count": 14,
   "metadata": {
    "collapsed": false
   },
   "outputs": [
    {
     "data": {
      "text/plain": [
       "1297"
      ]
     },
     "execution_count": 14,
     "metadata": {},
     "output_type": "execute_result"
    }
   ],
   "source": [
    "books_metadata.merge(ebooks_metadata, left_on='title', right_on='title').shape[0]"
   ]
  },
  {
   "cell_type": "markdown",
   "metadata": {},
   "source": [
    "As we were saying, 1297 is not a big number, and we can do better. We have done the most basic possible thing to do : we have put the title for books and ebooks in lower form (minuscule)."
   ]
  },
  {
   "cell_type": "code",
   "execution_count": 15,
   "metadata": {
    "collapsed": false
   },
   "outputs": [
    {
     "data": {
      "text/html": [
       "<div>\n",
       "<style scoped>\n",
       "    .dataframe tbody tr th:only-of-type {\n",
       "        vertical-align: middle;\n",
       "    }\n",
       "\n",
       "    .dataframe tbody tr th {\n",
       "        vertical-align: top;\n",
       "    }\n",
       "\n",
       "    .dataframe thead th {\n",
       "        text-align: right;\n",
       "    }\n",
       "</style>\n",
       "<table border=\"1\" class=\"dataframe\">\n",
       "  <thead>\n",
       "    <tr style=\"text-align: right;\">\n",
       "      <th></th>\n",
       "      <th>Unnamed: 0</th>\n",
       "      <th>asin</th>\n",
       "      <th>salesRank</th>\n",
       "      <th>categories</th>\n",
       "      <th>title</th>\n",
       "      <th>price</th>\n",
       "    </tr>\n",
       "  </thead>\n",
       "  <tbody>\n",
       "    <tr>\n",
       "      <th>0</th>\n",
       "      <td>0</td>\n",
       "      <td>0001048791</td>\n",
       "      <td>{'Books': 6334800}</td>\n",
       "      <td>[['Books']]</td>\n",
       "      <td>the crucible: performed by stuart pankin, jero...</td>\n",
       "      <td>NaN</td>\n",
       "    </tr>\n",
       "    <tr>\n",
       "      <th>1</th>\n",
       "      <td>1</td>\n",
       "      <td>0001048775</td>\n",
       "      <td>{'Books': 13243226}</td>\n",
       "      <td>[['Books']]</td>\n",
       "      <td>measure for measure: complete &amp;amp; unabridged</td>\n",
       "      <td>NaN</td>\n",
       "    </tr>\n",
       "    <tr>\n",
       "      <th>2</th>\n",
       "      <td>2</td>\n",
       "      <td>0001048236</td>\n",
       "      <td>{'Books': 8973864}</td>\n",
       "      <td>[['Books']]</td>\n",
       "      <td>the sherlock holmes audio collection</td>\n",
       "      <td>9.26</td>\n",
       "    </tr>\n",
       "    <tr>\n",
       "      <th>3</th>\n",
       "      <td>3</td>\n",
       "      <td>0000401048</td>\n",
       "      <td>{'Books': 6448843}</td>\n",
       "      <td>[['Books']]</td>\n",
       "      <td>the rogue of publishers' row;: confessions of ...</td>\n",
       "      <td>NaN</td>\n",
       "    </tr>\n",
       "    <tr>\n",
       "      <th>4</th>\n",
       "      <td>4</td>\n",
       "      <td>0001019880</td>\n",
       "      <td>{'Books': 9589258}</td>\n",
       "      <td>[['Books']]</td>\n",
       "      <td>classic soul winner's new testament bible</td>\n",
       "      <td>5.39</td>\n",
       "    </tr>\n",
       "  </tbody>\n",
       "</table>\n",
       "</div>"
      ],
      "text/plain": [
       "   Unnamed: 0        asin            salesRank   categories  \\\n",
       "0           0  0001048791   {'Books': 6334800}  [['Books']]   \n",
       "1           1  0001048775  {'Books': 13243226}  [['Books']]   \n",
       "2           2  0001048236   {'Books': 8973864}  [['Books']]   \n",
       "3           3  0000401048   {'Books': 6448843}  [['Books']]   \n",
       "4           4  0001019880   {'Books': 9589258}  [['Books']]   \n",
       "\n",
       "                                               title  price  \n",
       "0  the crucible: performed by stuart pankin, jero...    NaN  \n",
       "1     measure for measure: complete &amp; unabridged    NaN  \n",
       "2               the sherlock holmes audio collection   9.26  \n",
       "3  the rogue of publishers' row;: confessions of ...    NaN  \n",
       "4          classic soul winner's new testament bible   5.39  "
      ]
     },
     "execution_count": 15,
     "metadata": {},
     "output_type": "execute_result"
    }
   ],
   "source": [
    "books_metadata['title'] = books_metadata.title.str.lower()\n",
    "books_metadata.head()"
   ]
  },
  {
   "cell_type": "code",
   "execution_count": 16,
   "metadata": {
    "collapsed": false
   },
   "outputs": [
    {
     "data": {
      "text/html": [
       "<div>\n",
       "<style scoped>\n",
       "    .dataframe tbody tr th:only-of-type {\n",
       "        vertical-align: middle;\n",
       "    }\n",
       "\n",
       "    .dataframe tbody tr th {\n",
       "        vertical-align: top;\n",
       "    }\n",
       "\n",
       "    .dataframe thead th {\n",
       "        text-align: right;\n",
       "    }\n",
       "</style>\n",
       "<table border=\"1\" class=\"dataframe\">\n",
       "  <thead>\n",
       "    <tr style=\"text-align: right;\">\n",
       "      <th></th>\n",
       "      <th>Unnamed: 0</th>\n",
       "      <th>asin</th>\n",
       "      <th>title</th>\n",
       "    </tr>\n",
       "  </thead>\n",
       "  <tbody>\n",
       "    <tr>\n",
       "      <th>0</th>\n",
       "      <td>B000FA64PA</td>\n",
       "      <td>B000FA64PA</td>\n",
       "      <td>saboteur: star wars legends (darth maul) (shor...</td>\n",
       "    </tr>\n",
       "    <tr>\n",
       "      <th>1</th>\n",
       "      <td>B000FA64PK</td>\n",
       "      <td>B000FA64PK</td>\n",
       "      <td>recovery: star wars legends (the new jedi orde...</td>\n",
       "    </tr>\n",
       "    <tr>\n",
       "      <th>2</th>\n",
       "      <td>B000FA64QO</td>\n",
       "      <td>B000FA64QO</td>\n",
       "      <td>ylesia: star wars legends (the new jedi order)...</td>\n",
       "    </tr>\n",
       "    <tr>\n",
       "      <th>3</th>\n",
       "      <td>B000FBFMVG</td>\n",
       "      <td>B000FBFMVG</td>\n",
       "      <td>a forest apart: star wars legends (short story...</td>\n",
       "    </tr>\n",
       "    <tr>\n",
       "      <th>4</th>\n",
       "      <td>B000FC1BN8</td>\n",
       "      <td>B000FC1BN8</td>\n",
       "      <td>fool's bargain: star wars legends (novella) (s...</td>\n",
       "    </tr>\n",
       "  </tbody>\n",
       "</table>\n",
       "</div>"
      ],
      "text/plain": [
       "   Unnamed: 0        asin                                              title\n",
       "0  B000FA64PA  B000FA64PA  saboteur: star wars legends (darth maul) (shor...\n",
       "1  B000FA64PK  B000FA64PK  recovery: star wars legends (the new jedi orde...\n",
       "2  B000FA64QO  B000FA64QO  ylesia: star wars legends (the new jedi order)...\n",
       "3  B000FBFMVG  B000FBFMVG  a forest apart: star wars legends (short story...\n",
       "4  B000FC1BN8  B000FC1BN8  fool's bargain: star wars legends (novella) (s..."
      ]
     },
     "execution_count": 16,
     "metadata": {},
     "output_type": "execute_result"
    }
   ],
   "source": [
    "ebooks_metadata['title'] = ebooks_metadata.title.str.lower()\n",
    "ebooks_metadata.head()"
   ]
  },
  {
   "cell_type": "code",
   "execution_count": 17,
   "metadata": {
    "collapsed": true
   },
   "outputs": [],
   "source": [
    "merged_metadatas = books_metadata.merge(ebooks_metadata, left_on='title', right_on='title')\n",
    "merged_metadatas = merged_metadatas[['asin_x', 'asin_y', 'title', 'price', 'categories', 'salesRank']]\n",
    "merged_metadatas = merged_metadatas.rename(columns={'asin_x': 'asin_book', 'asin_y': 'asin_ebook'})"
   ]
  },
  {
   "cell_type": "code",
   "execution_count": 18,
   "metadata": {
    "collapsed": false
   },
   "outputs": [
    {
     "data": {
      "text/html": [
       "<div>\n",
       "<style scoped>\n",
       "    .dataframe tbody tr th:only-of-type {\n",
       "        vertical-align: middle;\n",
       "    }\n",
       "\n",
       "    .dataframe tbody tr th {\n",
       "        vertical-align: top;\n",
       "    }\n",
       "\n",
       "    .dataframe thead th {\n",
       "        text-align: right;\n",
       "    }\n",
       "</style>\n",
       "<table border=\"1\" class=\"dataframe\">\n",
       "  <thead>\n",
       "    <tr style=\"text-align: right;\">\n",
       "      <th></th>\n",
       "      <th>asin_book</th>\n",
       "      <th>asin_ebook</th>\n",
       "      <th>title</th>\n",
       "      <th>price</th>\n",
       "      <th>categories</th>\n",
       "      <th>salesRank</th>\n",
       "    </tr>\n",
       "  </thead>\n",
       "  <tbody>\n",
       "    <tr>\n",
       "      <th>0</th>\n",
       "      <td>0002008505</td>\n",
       "      <td>B002DYJ7DM</td>\n",
       "      <td>the space between</td>\n",
       "      <td>4.74</td>\n",
       "      <td>[['Books']]</td>\n",
       "      <td>{'Books': 5587764}</td>\n",
       "    </tr>\n",
       "    <tr>\n",
       "      <th>1</th>\n",
       "      <td>0615891411</td>\n",
       "      <td>B002DYJ7DM</td>\n",
       "      <td>the space between</td>\n",
       "      <td>2.99</td>\n",
       "      <td>[['Books']]</td>\n",
       "      <td>{'Books': 4145053}</td>\n",
       "    </tr>\n",
       "    <tr>\n",
       "      <th>2</th>\n",
       "      <td>1579660584</td>\n",
       "      <td>B002DYJ7DM</td>\n",
       "      <td>the space between</td>\n",
       "      <td>20.08</td>\n",
       "      <td>[['Books']]</td>\n",
       "      <td>{'Books': 2486827}</td>\n",
       "    </tr>\n",
       "    <tr>\n",
       "      <th>3</th>\n",
       "      <td>1588515508</td>\n",
       "      <td>B002DYJ7DM</td>\n",
       "      <td>the space between</td>\n",
       "      <td>NaN</td>\n",
       "      <td>[['Books']]</td>\n",
       "      <td>{'Books': 5985767}</td>\n",
       "    </tr>\n",
       "    <tr>\n",
       "      <th>4</th>\n",
       "      <td>1595143394</td>\n",
       "      <td>B002DYJ7DM</td>\n",
       "      <td>the space between</td>\n",
       "      <td>7.13</td>\n",
       "      <td>[['Books']]</td>\n",
       "      <td>{'Books': 141638}</td>\n",
       "    </tr>\n",
       "  </tbody>\n",
       "</table>\n",
       "</div>"
      ],
      "text/plain": [
       "    asin_book  asin_ebook              title  price   categories  \\\n",
       "0  0002008505  B002DYJ7DM  the space between   4.74  [['Books']]   \n",
       "1  0615891411  B002DYJ7DM  the space between   2.99  [['Books']]   \n",
       "2  1579660584  B002DYJ7DM  the space between  20.08  [['Books']]   \n",
       "3  1588515508  B002DYJ7DM  the space between    NaN  [['Books']]   \n",
       "4  1595143394  B002DYJ7DM  the space between   7.13  [['Books']]   \n",
       "\n",
       "            salesRank  \n",
       "0  {'Books': 5587764}  \n",
       "1  {'Books': 4145053}  \n",
       "2  {'Books': 2486827}  \n",
       "3  {'Books': 5985767}  \n",
       "4   {'Books': 141638}  "
      ]
     },
     "execution_count": 18,
     "metadata": {},
     "output_type": "execute_result"
    }
   ],
   "source": [
    "merged_metadatas.head()"
   ]
  },
  {
   "cell_type": "markdown",
   "metadata": {},
   "source": [
    "As we see, we have a bigger number of entries. We could have tried to increase this number, however as we will see later, we already have some problems with this 'strict' way of doing."
   ]
  },
  {
   "cell_type": "code",
   "execution_count": 19,
   "metadata": {
    "collapsed": false
   },
   "outputs": [
    {
     "data": {
      "text/plain": [
       "1506"
      ]
     },
     "execution_count": 19,
     "metadata": {},
     "output_type": "execute_result"
    }
   ],
   "source": [
    "merged_metadatas.shape[0]"
   ]
  },
  {
   "cell_type": "markdown",
   "metadata": {},
   "source": [
    "So we have merged the two dataframes into one, and it seems that we can do some analysis on it. We have 1506 entries, so it's good for a first analysis in milestone 2 to do so.\n",
    "But, as said before, there are title duplicates. It corresponds to books (there is only one duplicate entry for ebooks, for the article 'Second Chances') that have the same title."
   ]
  },
  {
   "cell_type": "code",
   "execution_count": 20,
   "metadata": {
    "collapsed": false
   },
   "outputs": [
    {
     "data": {
      "text/html": [
       "<div>\n",
       "<style scoped>\n",
       "    .dataframe tbody tr th:only-of-type {\n",
       "        vertical-align: middle;\n",
       "    }\n",
       "\n",
       "    .dataframe tbody tr th {\n",
       "        vertical-align: top;\n",
       "    }\n",
       "\n",
       "    .dataframe thead th {\n",
       "        text-align: right;\n",
       "    }\n",
       "</style>\n",
       "<table border=\"1\" class=\"dataframe\">\n",
       "  <thead>\n",
       "    <tr style=\"text-align: right;\">\n",
       "      <th></th>\n",
       "      <th>asin_book</th>\n",
       "      <th>asin_ebook</th>\n",
       "      <th>title</th>\n",
       "      <th>price</th>\n",
       "      <th>categories</th>\n",
       "      <th>salesRank</th>\n",
       "    </tr>\n",
       "  </thead>\n",
       "  <tbody>\n",
       "    <tr>\n",
       "      <th>0</th>\n",
       "      <td>0002008505</td>\n",
       "      <td>B002DYJ7DM</td>\n",
       "      <td>the space between</td>\n",
       "      <td>4.74</td>\n",
       "      <td>[['Books']]</td>\n",
       "      <td>{'Books': 5587764}</td>\n",
       "    </tr>\n",
       "    <tr>\n",
       "      <th>1</th>\n",
       "      <td>0615891411</td>\n",
       "      <td>B002DYJ7DM</td>\n",
       "      <td>the space between</td>\n",
       "      <td>2.99</td>\n",
       "      <td>[['Books']]</td>\n",
       "      <td>{'Books': 4145053}</td>\n",
       "    </tr>\n",
       "    <tr>\n",
       "      <th>2</th>\n",
       "      <td>1579660584</td>\n",
       "      <td>B002DYJ7DM</td>\n",
       "      <td>the space between</td>\n",
       "      <td>20.08</td>\n",
       "      <td>[['Books']]</td>\n",
       "      <td>{'Books': 2486827}</td>\n",
       "    </tr>\n",
       "    <tr>\n",
       "      <th>3</th>\n",
       "      <td>1588515508</td>\n",
       "      <td>B002DYJ7DM</td>\n",
       "      <td>the space between</td>\n",
       "      <td>NaN</td>\n",
       "      <td>[['Books']]</td>\n",
       "      <td>{'Books': 5985767}</td>\n",
       "    </tr>\n",
       "    <tr>\n",
       "      <th>4</th>\n",
       "      <td>1595143394</td>\n",
       "      <td>B002DYJ7DM</td>\n",
       "      <td>the space between</td>\n",
       "      <td>7.13</td>\n",
       "      <td>[['Books']]</td>\n",
       "      <td>{'Books': 141638}</td>\n",
       "    </tr>\n",
       "    <tr>\n",
       "      <th>5</th>\n",
       "      <td>1601540817</td>\n",
       "      <td>B002DYJ7DM</td>\n",
       "      <td>the space between</td>\n",
       "      <td>10.99</td>\n",
       "      <td>[['Books']]</td>\n",
       "      <td>{'Books': 11114107}</td>\n",
       "    </tr>\n",
       "    <tr>\n",
       "      <th>6</th>\n",
       "      <td>1625530226</td>\n",
       "      <td>B002DYJ7DM</td>\n",
       "      <td>the space between</td>\n",
       "      <td>6.99</td>\n",
       "      <td>[['Books']]</td>\n",
       "      <td>{'Books': 2678708}</td>\n",
       "    </tr>\n",
       "  </tbody>\n",
       "</table>\n",
       "</div>"
      ],
      "text/plain": [
       "    asin_book  asin_ebook              title  price   categories  \\\n",
       "0  0002008505  B002DYJ7DM  the space between   4.74  [['Books']]   \n",
       "1  0615891411  B002DYJ7DM  the space between   2.99  [['Books']]   \n",
       "2  1579660584  B002DYJ7DM  the space between  20.08  [['Books']]   \n",
       "3  1588515508  B002DYJ7DM  the space between    NaN  [['Books']]   \n",
       "4  1595143394  B002DYJ7DM  the space between   7.13  [['Books']]   \n",
       "5  1601540817  B002DYJ7DM  the space between  10.99  [['Books']]   \n",
       "6  1625530226  B002DYJ7DM  the space between   6.99  [['Books']]   \n",
       "\n",
       "             salesRank  \n",
       "0   {'Books': 5587764}  \n",
       "1   {'Books': 4145053}  \n",
       "2   {'Books': 2486827}  \n",
       "3   {'Books': 5985767}  \n",
       "4    {'Books': 141638}  \n",
       "5  {'Books': 11114107}  \n",
       "6   {'Books': 2678708}  "
      ]
     },
     "execution_count": 20,
     "metadata": {},
     "output_type": "execute_result"
    }
   ],
   "source": [
    "merged_metadatas.head(7)"
   ]
  },
  {
   "cell_type": "code",
   "execution_count": 21,
   "metadata": {
    "collapsed": false
   },
   "outputs": [
    {
     "data": {
      "text/plain": [
       "count           2741\n",
       "unique          2739\n",
       "top       armageddon\n",
       "freq               2\n",
       "Name: title, dtype: object"
      ]
     },
     "execution_count": 21,
     "metadata": {},
     "output_type": "execute_result"
    }
   ],
   "source": [
    "ebooks_metadata.title.describe()"
   ]
  },
  {
   "cell_type": "markdown",
   "metadata": {},
   "source": [
    "We thus thought that we could consider only pairs that have a unique title in the whole dataframe. In that way, we only have articles that have a unique name, at least in the period in which the dataset has been created, so that we could only have exactly the same content for the book and the ebook. \n",
    "\n",
    "We thus drop all elements that have a title that exists more than one time in the dataframe.\n",
    "\n",
    "It's naive, as we don't have all books and ebooks of Amazon, even for the period given, but we wanted to try."
   ]
  },
  {
   "cell_type": "code",
   "execution_count": 22,
   "metadata": {
    "collapsed": false
   },
   "outputs": [
    {
     "data": {
      "text/html": [
       "<div>\n",
       "<style scoped>\n",
       "    .dataframe tbody tr th:only-of-type {\n",
       "        vertical-align: middle;\n",
       "    }\n",
       "\n",
       "    .dataframe tbody tr th {\n",
       "        vertical-align: top;\n",
       "    }\n",
       "\n",
       "    .dataframe thead th {\n",
       "        text-align: right;\n",
       "    }\n",
       "</style>\n",
       "<table border=\"1\" class=\"dataframe\">\n",
       "  <thead>\n",
       "    <tr style=\"text-align: right;\">\n",
       "      <th></th>\n",
       "      <th>asin_book</th>\n",
       "      <th>asin_ebook</th>\n",
       "      <th>title</th>\n",
       "      <th>price</th>\n",
       "      <th>categories</th>\n",
       "      <th>salesRank</th>\n",
       "    </tr>\n",
       "  </thead>\n",
       "  <tbody>\n",
       "    <tr>\n",
       "      <th>39</th>\n",
       "      <td>0007269854</td>\n",
       "      <td>B003ZUY19I</td>\n",
       "      <td>the ice princess</td>\n",
       "      <td>7.59</td>\n",
       "      <td>[['Books']]</td>\n",
       "      <td>{'Books': 2527081}</td>\n",
       "    </tr>\n",
       "    <tr>\n",
       "      <th>95</th>\n",
       "      <td>0060517689</td>\n",
       "      <td>B0036ZAHDG</td>\n",
       "      <td>in the mood</td>\n",
       "      <td>2.99</td>\n",
       "      <td>[['Books']]</td>\n",
       "      <td>{'Books': 2663548}</td>\n",
       "    </tr>\n",
       "    <tr>\n",
       "      <th>121</th>\n",
       "      <td>0060595620</td>\n",
       "      <td>B00480P58K</td>\n",
       "      <td>the sweetest taboo</td>\n",
       "      <td>8.70</td>\n",
       "      <td>[['Books']]</td>\n",
       "      <td>{'Books': 2956119}</td>\n",
       "    </tr>\n",
       "    <tr>\n",
       "      <th>173</th>\n",
       "      <td>0060813032</td>\n",
       "      <td>B0049H8X86</td>\n",
       "      <td>dragons from the sea (the strongbow saga, book 2)</td>\n",
       "      <td>3.60</td>\n",
       "      <td>[['Books']]</td>\n",
       "      <td>{'Books': 1269204}</td>\n",
       "    </tr>\n",
       "    <tr>\n",
       "      <th>200</th>\n",
       "      <td>0061084220</td>\n",
       "      <td>B004QS98KU</td>\n",
       "      <td>raven's bride</td>\n",
       "      <td>7.69</td>\n",
       "      <td>[['Books']]</td>\n",
       "      <td>{'Books': 2911109}</td>\n",
       "    </tr>\n",
       "    <tr>\n",
       "      <th>460</th>\n",
       "      <td>0140249249</td>\n",
       "      <td>B003XVYGXK</td>\n",
       "      <td>iced</td>\n",
       "      <td>NaN</td>\n",
       "      <td>[['Books']]</td>\n",
       "      <td>{'Books': 1225702}</td>\n",
       "    </tr>\n",
       "    <tr>\n",
       "      <th>461</th>\n",
       "      <td>0140259678</td>\n",
       "      <td>B003C1R5CA</td>\n",
       "      <td>a timely death</td>\n",
       "      <td>NaN</td>\n",
       "      <td>[['Books']]</td>\n",
       "      <td>{'Books': 3077680}</td>\n",
       "    </tr>\n",
       "  </tbody>\n",
       "</table>\n",
       "</div>"
      ],
      "text/plain": [
       "      asin_book  asin_ebook  \\\n",
       "39   0007269854  B003ZUY19I   \n",
       "95   0060517689  B0036ZAHDG   \n",
       "121  0060595620  B00480P58K   \n",
       "173  0060813032  B0049H8X86   \n",
       "200  0061084220  B004QS98KU   \n",
       "460  0140249249  B003XVYGXK   \n",
       "461  0140259678  B003C1R5CA   \n",
       "\n",
       "                                                 title  price   categories  \\\n",
       "39                                    the ice princess   7.59  [['Books']]   \n",
       "95                                         in the mood   2.99  [['Books']]   \n",
       "121                                 the sweetest taboo   8.70  [['Books']]   \n",
       "173  dragons from the sea (the strongbow saga, book 2)   3.60  [['Books']]   \n",
       "200                                      raven's bride   7.69  [['Books']]   \n",
       "460                                               iced    NaN  [['Books']]   \n",
       "461                                     a timely death    NaN  [['Books']]   \n",
       "\n",
       "              salesRank  \n",
       "39   {'Books': 2527081}  \n",
       "95   {'Books': 2663548}  \n",
       "121  {'Books': 2956119}  \n",
       "173  {'Books': 1269204}  \n",
       "200  {'Books': 2911109}  \n",
       "460  {'Books': 1225702}  \n",
       "461  {'Books': 3077680}  "
      ]
     },
     "execution_count": 22,
     "metadata": {},
     "output_type": "execute_result"
    }
   ],
   "source": [
    "merged_metadatas = merged_metadatas.drop_duplicates('title',keep=False)\n",
    "merged_metadatas.head(7)"
   ]
  },
  {
   "cell_type": "markdown",
   "metadata": {},
   "source": [
    "We now only have 148 elements in the merged collection. We reming the reader about the fact that we tried to obtain 4000 ebooks titles, we got only 2741. By merging, we got 1506 entries, and when we drop all elements that have duplicates, we only have 148 elements."
   ]
  },
  {
   "cell_type": "code",
   "execution_count": 23,
   "metadata": {
    "collapsed": false
   },
   "outputs": [
    {
     "data": {
      "text/plain": [
       "148"
      ]
     },
     "execution_count": 23,
     "metadata": {},
     "output_type": "execute_result"
    }
   ],
   "source": [
    "merged_metadatas.shape[0]"
   ]
  },
  {
   "cell_type": "markdown",
   "metadata": {},
   "source": [
    "After some manual analysis, we have unfortunately seen that for most entries, even if there is only one tuple (asin_book, asin_ebook), the two are not on the same content. We have an example for the first entry (the ice princess) : 'https://www.amazon.com/Princess-Patrik-Hedstrom-Erica-Falck/dp/0007269854' and 'https://www.amazon.com/Ice-Princess-Elizabeth-Hoyt-ebook/dp/B003ZUY19I' have the same title but are written by two different people, and have different content.\n",
    "\n",
    "There are some tuples that match : for the article 'dragons from the sea (the strongbow saga, book 2)', we have the same content.\n",
    "\n",
    "It's hard for us to quantify the number of such articles that do not match. We have done some by hand, and we have seen that a lot was not matching at all. A way to have good matches automatically could be to obtain the authors. We think that for the same author, it's rare to have two book with the same name. If we forget a minute about problems like the number of authors which is different for the ebook and the book even if it's the same, or different naming conventions (A fictive example : J. F. Brown or J. Brown), we would need the author information for each book and ebook of the tuples that we have merged.\n",
    "\n",
    "The website we were <a href='http://asindb.com/'>using</a> does not provide this information. We then need to obtain it from somewhere else. \n",
    "\n",
    "We have tried to look at the library genesis, using this <a href='http://garbage.world/posts/libgen/'>tutorial</a>. However, there are only two ways to get back information about a book : using a special id (Libgen id), or by date. Furthermore, the asin field exists, but after some tests for which none of the articles had asin, it's hard to say if it's a good option. Thus, we have thought it's not the best solution for us.\n",
    "\n",
    "We have also been told to look at the Gutenberg project. It could have been a good idea if we could search by asin in the metadatas, that are available. However, it seems that the asin data is not available, so we won't use it neither."
   ]
  },
  {
   "cell_type": "markdown",
   "metadata": {},
   "source": [
    "-- --\n",
    "We have finally had to use the Amazon API, with bottlenose, a python library, useful to forge REST message and to handle in an easier way exceptions and timeouts."
   ]
  },
  {
   "cell_type": "code",
   "execution_count": 24,
   "metadata": {
    "collapsed": true
   },
   "outputs": [],
   "source": [
    "import bottlenose"
   ]
  },
  {
   "cell_type": "markdown",
   "metadata": {},
   "source": [
    "Here, we use the keys given by Amazon after having created an account. This file is not in github as we have been told not to do so."
   ]
  },
  {
   "cell_type": "code",
   "execution_count": 25,
   "metadata": {
    "collapsed": true
   },
   "outputs": [],
   "source": [
    "(AWS_ACCESS_KEY_ID,AWS_SECRET_ACCESS_KEY,AWS_ASSOCIATE_TAG) = pd.read_csv('amazon_keys.csv', header=None, usecols=[1]).values.flatten()"
   ]
  },
  {
   "cell_type": "code",
   "execution_count": 26,
   "metadata": {
    "collapsed": true
   },
   "outputs": [],
   "source": [
    "import random\n",
    "import time\n",
    "from urllib.error import HTTPError\n",
    "\n",
    "#method used to wait whenever Amazon says that there is a problem (biggest cause : we went over the daily retrieving \n",
    "#limit, so we have to wait 10 seconds before doing another query).\n",
    "\n",
    "def error_handler(err):\n",
    "    ex = err['exception']\n",
    "    if isinstance(ex, HTTPError) and ex.code == 503:\n",
    "        time.sleep(random.expovariate(0.1))\n",
    "        return True"
   ]
  },
  {
   "cell_type": "code",
   "execution_count": 27,
   "metadata": {
    "collapsed": true
   },
   "outputs": [],
   "source": [
    "amazon = bottlenose.Amazon(AWS_ACCESS_KEY_ID, AWS_SECRET_ACCESS_KEY, AWS_ASSOCIATE_TAG, ErrorHandler=error_handler)"
   ]
  },
  {
   "cell_type": "code",
   "execution_count": 28,
   "metadata": {
    "collapsed": true
   },
   "outputs": [],
   "source": [
    "books_asin_unique = pd.read_csv('books_asin.csv',usecols=[1]).asin.unique()"
   ]
  },
  {
   "cell_type": "code",
   "execution_count": 29,
   "metadata": {
    "collapsed": true
   },
   "outputs": [],
   "source": [
    "BEGIN = 0\n",
    "END = len(ebooks_asin_unique)\n",
    "SIMULTANEOUS_REQUESTS = 10\n",
    "STEP = 50\n",
    "override = False"
   ]
  },
  {
   "cell_type": "markdown",
   "metadata": {},
   "source": [
    "We have here a big piece of code that scraps entries from amazon. Some parameters are mandatory for an entry to be accepted as valid : the asin, the release date, the title and the authors. Parameters as manufacturer and price are not present enough to be mandatory parameters (otherwise there would be fewer entries in the final dataframe and for the analysis).\n",
    "\n",
    "There are entries that are still not available through the Advertising API : B000FC26RI. It corresponds to removed articles (which still have a page for reviews, but not for the article).\n",
    "\n",
    "Also newspaper don't comply to this contract of authors : The Wall Street Journal (B000FDJ0FS)."
   ]
  },
  {
   "cell_type": "code",
   "execution_count": 30,
   "metadata": {
    "collapsed": true
   },
   "outputs": [],
   "source": [
    "if AMAZON_AWS_METADATA_EBOOKS:\n",
    "    \n",
    "    dataframe_ebooks = pd.DataFrame(columns=['title', 'authors', 'manufacturer', 'rank', 'price', 'currency', 'reldate', 'page', 'language'])\n",
    "    dataframe_undefined = pd.DataFrame(columns=['title', 'authors', 'manufacturer', 'rank', 'price', 'currency', 'reldate', 'page', 'language'])\n",
    "    log = pd.Series()\n",
    "\n",
    "    #used to erase older files if the override option is on\n",
    "    if(override):\n",
    "        dataframe_ebooks.to_csv(amazon_aws_ebooks, encoding='utf-8-sig')\n",
    "        dataframe_undefined.to_csv(amazon_aws_ebooks_undefined, encoding='utf-8-sig')\n",
    "        log.to_csv(amazon_aws_ebooks_log, encoding='utf-8-sig')\n",
    "\n",
    "    ebooks_simultaneous_list = []\n",
    "\n",
    "    for i, ebook_asin in enumerate(ebooks_asin_unique[BEGIN:END]):\n",
    "        ebooks_simultaneous_list += [ebook_asin]\n",
    "\n",
    "        if i>0 and i%SIMULTANEOUS_REQUESTS == 0:\n",
    "            keys = ','.join(ebooks_simultaneous_list)\n",
    "            ebooks_simultaneous_list = []\n",
    "            \n",
    "            #As we have a limited amount of memory, we write in the files after 50 retrieved entries.\n",
    "            if i%STEP==0 and i > 0:\n",
    "                print(i+BEGIN)\n",
    "                dataframe_ebooks[['title', 'authors', 'manufacturer', 'rank', 'price', 'currency', 'reldate', 'page', 'language']].to_csv(amazon_aws_ebooks, header=False,mode='a', encoding='utf-8-sig')\n",
    "                dataframe_ebooks = pd.DataFrame(columns=['title', 'authors', 'manufacturer', 'rank', 'price', 'currency', 'reldate', 'page', 'language'])\n",
    "\n",
    "                dataframe_undefined[['title', 'authors', 'manufacturer', 'rank', 'price', 'currency', 'reldate', 'page', 'language']].to_csv(amazon_aws_ebooks_undefined, header=False,mode='a', encoding='utf-8-sig')\n",
    "                dataframe_undefined = pd.DataFrame(columns=['title', 'authors', 'manufacturer', 'rank', 'price', 'currency', 'reldate', 'page', 'language'])\n",
    "\n",
    "                log.to_csv(amazon_aws_ebooks_log, header=False,mode='a', encoding='utf-8-sig')\n",
    "                log = pd.Series()\n",
    "\n",
    "            #To get more details about entries, we query the medium and offers categories of Amazon.\n",
    "            response = amazon.ItemLookup(ItemId=keys, ResponseGroup=\"Medium, Offers\")\n",
    "            soup = BeautifulSoup(response, 'html.parser')\n",
    "\n",
    "            items = soup.find_all('item')\n",
    "            for item in items:\n",
    "                all_important_defined = True #useful to say if this entry will be defined or undefined, given some discriminant parameters\n",
    "                authors_retrieved = []\n",
    "\n",
    "                asins = item.find_all('asin')\n",
    "                if(len(asins) != 0):\n",
    "                    asin_retrieved = asins[0].text.strip()\n",
    "                else:\n",
    "                    asin_retrieved = ''\n",
    "                    all_important_defined = False\n",
    "\n",
    "                salesRanks = item.find_all('salesrank')\n",
    "                if(len(salesRanks) != 0):\n",
    "                    salesRank_retrieved = salesRanks[0].text.strip()\n",
    "                else:\n",
    "                    salesRank_retrieved = ''\n",
    "\n",
    "                offers = item.find_all('offer')\n",
    "                price_got = False\n",
    "                for offer in offers:\n",
    "                    conditions = offer.find_all('condition')\n",
    "                    if(len(conditions) > 0 and conditions[0].text == 'New'):\n",
    "                        prices = offer.find_all('amount')\n",
    "                        curr_codes = offer.find_all('currencycode')\n",
    "                        if(len(prices) > 0 and len(curr_codes) > 0):\n",
    "                            price_retrieved = prices[0].text\n",
    "                            curr_retrieved = curr_codes[0].text\n",
    "                            price_got = True\n",
    "\n",
    "                if(not price_got):\n",
    "                    price_retrieved = ''\n",
    "                    curr_retrieved = ''\n",
    "\n",
    "\n",
    "                releaseDates = item.find_all('releasedate')\n",
    "                if(len(releaseDates) != 0):\n",
    "                    reldate_retrieved = releaseDates[0].text.strip()\n",
    "                else:\n",
    "                    reldate_retrieved = ''\n",
    "                    all_important_defined = False\n",
    "\n",
    "                pages = item.find_all('numberofpages')\n",
    "                if(len(pages) != 0):\n",
    "                    page_retrieved = pages[0].text.strip()\n",
    "                else:\n",
    "                    page_retrieved = ''\n",
    "\n",
    "                languages = item.find_all('language')\n",
    "                if(len(languages) != 0):\n",
    "                    language_retrieved = languages[0].find('name').text.strip()\n",
    "                else:\n",
    "                    language_retrieved = ''\n",
    "\n",
    "                titles = item.find_all('title')\n",
    "                if(len(titles) != 0):\n",
    "                    title_retrieved = titles[0].text.strip()\n",
    "                else:\n",
    "                    title_retrieved = ''\n",
    "                    all_important_defined = False\n",
    "\n",
    "                manufacturers = item.find_all('manufacturer')\n",
    "                if(len(manufacturers) != 0):\n",
    "                    manufacturer_retrieved = manufacturers[0].text.strip()\n",
    "                else:\n",
    "                    manufacturer_retrieved = ''\n",
    "\n",
    "                authors = item.find_all('author')\n",
    "                if(len(authors) != 0):\n",
    "                    for author in authors:\n",
    "                        authors_retrieved += [author.text.strip()]\n",
    "                else:\n",
    "                    authors_retrieved = []\n",
    "                    all_important_defined = False\n",
    "\n",
    "                new_entry = pd.DataFrame({'title':title_retrieved,'authors':\", \".join(authors_retrieved), 'manufacturer':manufacturer_retrieved, 'rank': salesRank_retrieved, 'price':price_retrieved, 'currency':curr_retrieved, 'reldate':reldate_retrieved, 'page': page_retrieved, 'language': language_retrieved},index=[asin_retrieved])\n",
    "                if(all_important_defined):\n",
    "                    dataframe_ebooks = dataframe_ebooks.append(new_entry)\n",
    "                else:\n",
    "                    dataframe_undefined = dataframe_undefined.append(new_entry)\n",
    "                    log = log.append(pd.Series(item.prettify()))\n",
    "\n",
    "    #In the end, write the last entries still present in the dataframe.\n",
    "    dataframe_ebooks[['title', 'authors', 'manufacturer', 'rank', 'price', 'currency', 'reldate', 'page', 'language']].to_csv(amazon_aws_ebooks, header=False,mode='a', encoding='utf-8-sig')\n",
    "    dataframe_undefined[['title', 'authors', 'manufacturer', 'rank', 'price', 'currency', 'reldate', 'page', 'language']].to_csv(amazon_aws_ebooks_undefined, header=False,mode='a', encoding='utf-8-sig')\n",
    "    log.to_csv(amazon_aws_ebooks_log, header=False,mode='a', encoding='utf-8-sig')"
   ]
  },
  {
   "cell_type": "code",
   "execution_count": 31,
   "metadata": {
    "collapsed": true
   },
   "outputs": [],
   "source": [
    "BEGIN = 0\n",
    "END = len(books_asin_unique)\n",
    "SIMULTANEOUS_REQUESTS = 10\n",
    "STEP = 50\n",
    "override = False"
   ]
  },
  {
   "cell_type": "code",
   "execution_count": 32,
   "metadata": {
    "collapsed": true
   },
   "outputs": [],
   "source": [
    "if AMAZON_AWS_METADATA_BOOKS:\n",
    "\n",
    "    dataframe_books = pd.DataFrame(columns=['title', 'authors', 'manufacturer', 'rank', 'price', 'currency', 'reldate', 'page', 'language'])\n",
    "    dataframe_undefined_books = pd.DataFrame(columns=['title', 'authors', 'manufacturer', 'rank', 'price', 'currency', 'reldate', 'page', 'language'])\n",
    "    log_books = pd.Series()\n",
    "\n",
    "    #used to erase older files if the override option is on\n",
    "    if(override):\n",
    "        dataframe_books.to_csv(amazon_aws_books, encoding='utf-8-sig')\n",
    "        dataframe_undefined_books.to_csv(amazon_aws_books_undefined, encoding='utf-8-sig')\n",
    "        log_books.to_csv(amazon_aws_books_log, encoding='utf-8-sig')\n",
    "\n",
    "    books_simultaneous_list = []\n",
    "\n",
    "    for i, book_asin in enumerate(books_asin_unique[BEGIN:END]):\n",
    "        books_simultaneous_list += [book_asin]\n",
    "\n",
    "        if i>0 and i%SIMULTANEOUS_REQUESTS == 0:\n",
    "            keys = ','.join(books_simultaneous_list)\n",
    "            books_simultaneous_list = []\n",
    "            \n",
    "            #As we have a limited amount of memory, we write in the files after 50 retrieved entries.\n",
    "            if i%STEP==0 and i > 0:\n",
    "                print(i+BEGIN)\n",
    "                dataframe_books[['title', 'authors', 'manufacturer', 'rank', 'price', 'currency', 'reldate', 'page', 'language']].to_csv(amazon_aws_books, header=False,mode='a', encoding='utf-8-sig')\n",
    "                dataframe_books = pd.DataFrame(columns=['title', 'authors', 'manufacturer', 'rank', 'price', 'currency', 'reldate', 'page', 'language'])\n",
    "\n",
    "                dataframe_undefined_books[['title', 'authors', 'manufacturer', 'rank', 'price', 'currency', 'reldate', 'page', 'language']].to_csv(amazon_aws_books_undefined, header=False,mode='a', encoding='utf-8-sig')\n",
    "                dataframe_undefined_books = pd.DataFrame(columns=['title', 'authors', 'manufacturer', 'rank', 'price', 'currency', 'reldate', 'page', 'language'])\n",
    "\n",
    "                log_books.to_csv(amazon_aws_books_log, header=False,mode='a', encoding='utf-8-sig')\n",
    "                log_books = pd.Series()\n",
    "\n",
    "            #To get more details about entries, we query the medium and offers categories of Amazon.\n",
    "            response = amazon.ItemLookup(ItemId=keys, ResponseGroup=\"Medium, Offers\")\n",
    "            soup = BeautifulSoup(response, 'html.parser')\n",
    "\n",
    "            items = soup.find_all('item')\n",
    "            for item in items:\n",
    "                all_important_defined = True #useful to say if this entry will be defined or undefined, given some discriminant parameters\n",
    "                authors_retrieved = []\n",
    "\n",
    "                asins = item.find_all('asin')\n",
    "                if(len(asins) != 0):\n",
    "                    asin_retrieved = asins[0].text.strip()\n",
    "                else:\n",
    "                    asin_retrieved = ''\n",
    "                    all_important_defined = False\n",
    "\n",
    "                salesRanks = item.find_all('salesrank')\n",
    "                if(len(salesRanks) != 0):\n",
    "                    salesRank_retrieved = salesRanks[0].text.strip()\n",
    "                else:\n",
    "                    salesRank_retrieved = ''\n",
    "                    #all_important_defined = False\n",
    "\n",
    "                offers = item.find_all('offer')\n",
    "                price_got = False\n",
    "                for offer in offers:\n",
    "                    conditions = offer.find_all('condition')\n",
    "                    if(len(conditions) > 0 and conditions[0].text == 'New'):\n",
    "                        prices = offer.find_all('amount')\n",
    "                        curr_codes = offer.find_all('currencycode')\n",
    "                        if(len(prices) > 0 and len(curr_codes) > 0):\n",
    "                            price_retrieved = prices[0].text\n",
    "                            curr_retrieved = curr_codes[0].text\n",
    "                            price_got = True\n",
    "\n",
    "                if(not price_got):\n",
    "                    price_retrieved = ''\n",
    "                    curr_retrieved = ''\n",
    "\n",
    "\n",
    "                releaseDates = item.find_all('publicationdate')\n",
    "                if(len(releaseDates) != 0):\n",
    "                    reldate_retrieved = releaseDates[0].text.strip()\n",
    "                else:\n",
    "                    reldate_retrieved = ''\n",
    "                    all_important_defined = False\n",
    "\n",
    "                pages = item.find_all('numberofpages')\n",
    "                if(len(pages) != 0):\n",
    "                    page_retrieved = pages[0].text.strip()\n",
    "                else:\n",
    "                    page_retrieved = ''\n",
    "\n",
    "                languages = item.find_all('language')\n",
    "                if(len(languages) != 0):\n",
    "                    language_retrieved = languages[0].find('name').text.strip()\n",
    "                else:\n",
    "                    language_retrieved = ''\n",
    "\n",
    "\n",
    "                titles = item.find_all('title')\n",
    "                if(len(titles) != 0):\n",
    "                    title_retrieved = titles[0].text.strip()\n",
    "                else:\n",
    "                    title_retrieved = ''\n",
    "                    all_important_defined = False\n",
    "\n",
    "                manufacturers = item.find_all('manufacturer')\n",
    "                if(len(manufacturers) != 0):\n",
    "                    manufacturer_retrieved = manufacturers[0].text.strip()\n",
    "                else:\n",
    "                    manufacturer_retrieved = ''\n",
    "\n",
    "                authors = item.find_all('author')\n",
    "                if(len(authors) != 0):\n",
    "                    for author in authors:\n",
    "                        authors_retrieved += [author.text.strip()]\n",
    "                else:\n",
    "                    authors_retrieved = []\n",
    "                    all_important_defined = False\n",
    "\n",
    "                new_entry = pd.DataFrame({'title':title_retrieved,'authors':\", \".join(authors_retrieved), 'manufacturer':manufacturer_retrieved, 'rank': salesRank_retrieved, 'price':price_retrieved, 'currency':curr_retrieved, 'reldate':reldate_retrieved, 'page': page_retrieved, 'language': language_retrieved},index=[asin_retrieved])\n",
    "                if(all_important_defined):\n",
    "                    dataframe_books = dataframe_books.append(new_entry)\n",
    "                else:\n",
    "                    dataframe_undefined_books = dataframe_undefined_books.append(new_entry)\n",
    "                    log_books = log_books.append(pd.Series(item.prettify()))\n",
    "\n",
    "    #In the end, write the last entries still present in the dataframe.\n",
    "    dataframe_books[['title', 'authors', 'manufacturer', 'rank', 'price', 'currency', 'reldate', 'page', 'language']].to_csv(amazon_aws_books, header=False,mode='a', encoding='utf-8-sig')\n",
    "    dataframe_undefined_books[['title', 'authors', 'manufacturer', 'rank', 'price', 'currency', 'reldate', 'page', 'language']].to_csv(amazon_aws_books_undefined, header=False,mode='a', encoding='utf-8-sig')\n",
    "    log_books.to_csv(amazon_aws_books_log, header=False,mode='a', encoding='utf-8-sig')"
   ]
  },
  {
   "cell_type": "markdown",
   "metadata": {},
   "source": [
    "Of course, we have parallelized the work so that we could go faster. We had three different accounts to run this method on different subsets of the asins."
   ]
  },
  {
   "cell_type": "markdown",
   "metadata": {},
   "source": [
    "At this point, we noticed that using the title and the authors to match books and ebooks, it was not working : we had less than 100 entries (26 entries with this code, even if we had done multiple tests to match the most entries, but it never went over 100 while begin correct and avoiding entries duplication)."
   ]
  },
  {
   "cell_type": "code",
   "execution_count": 33,
   "metadata": {
    "collapsed": true
   },
   "outputs": [],
   "source": [
    "def treat_file_multiple_authors(path_dataframe):\n",
    "    amazon_metadata = pd.read_csv(path_dataframe).rename(columns={'Unnamed: 0':'asin'})\n",
    "    \n",
    "    amazon_metadata['title'] = amazon_metadata.title.str.lower()\n",
    "    amazon_metadata['title'] = amazon_metadata.title.str.strip()\n",
    "    amazon_metadata['authors'] = amazon_metadata.authors.str.lower()\n",
    "    \n",
    "    #Portion used to multiply each entry for each author (if an entry has two authors, it will appear twice)\n",
    "    authors_unmerged = amazon_metadata.authors.str.split(',').apply(pd.Series).unstack().dropna()\n",
    "    authors_unmerged = authors_unmerged.str.strip()\n",
    "    \n",
    "    #Here, we use some black magic to make it fast (our code ©), so that we create indices that are linked to authors\n",
    "    ind = amazon_metadata.authors.str.split(',').apply(pd.Series)\n",
    "    ind[ind.isna()] = -1\n",
    "    ind[ind != -1] = pd.np.nan\n",
    "    ind['index']=ind.index\n",
    "    cols = list(ind.columns.values)\n",
    "    cols = cols[-1:] + cols[:-1]\n",
    "    ind = ind[cols]\n",
    "    ind = ind.fillna(method='pad', axis=1)\n",
    "    cols = cols[1:]\n",
    "\n",
    "    ind = ind[cols]\n",
    "    ind[ind == -1] = pd.np.nan\n",
    "    ind = ind.unstack().dropna()\n",
    "    authors_unmerged_with_ind = pd.DataFrame(authors_unmerged.values, index=ind.values.astype(np.int64))\n",
    "    \n",
    "    metadata_with_unmerged_authors = amazon_metadata.copy().loc[authors_unmerged_with_ind.index.values]\n",
    "    metadata_with_unmerged_authors['authors'] = authors_unmerged_with_ind.values\n",
    "\n",
    "    return metadata_with_unmerged_authors"
   ]
  },
  {
   "cell_type": "code",
   "execution_count": 34,
   "metadata": {
    "collapsed": true
   },
   "outputs": [],
   "source": [
    "amazon_ebooks_metadata = treat_file_multiple_authors(amazon_aws_ebooks)"
   ]
  },
  {
   "cell_type": "code",
   "execution_count": 35,
   "metadata": {
    "collapsed": false
   },
   "outputs": [
    {
     "data": {
      "text/plain": [
       "(94, 19)"
      ]
     },
     "execution_count": 35,
     "metadata": {},
     "output_type": "execute_result"
    }
   ],
   "source": [
    "amazon_books_metadata = treat_file_multiple_authors(amazon_aws_books)\n",
    "\n",
    "merged_amazon = amazon_books_metadata.merge(amazon_ebooks_metadata, left_on='title', right_on='title').rename(columns={'asin_x':'asin_books', 'asin_y':'asin_ebooks'})\n",
    "merged_amazon_prime = merged_amazon[merged_amazon.authors_x == merged_amazon.authors_y]\n",
    "merged_amazon_prime = merged_amazon_prime[merged_amazon_prime.asin_books != merged_amazon_prime.asin_ebooks]\n",
    "merged_amazon_prime.shape"
   ]
  },
  {
   "cell_type": "markdown",
   "metadata": {},
   "source": [
    "We have then chosen to keep these files, and finally work on a per author comparison instead of a content comparison, as we have few entries."
   ]
  },
  {
   "cell_type": "markdown",
   "metadata": {},
   "source": [
    "-- --\n",
    "## Review analysis"
   ]
  },
  {
   "cell_type": "markdown",
   "metadata": {},
   "source": [
    "Even if we have some problems that will need to be fixed for the milestone 3, we have continued in the analysis. Of course we had to test with wrong data, but we will ensure that in the future, we will make it work on correct data (one with same author and title for books and ebooks). The code is here to show that we have worked on other steps of the pipeline."
   ]
  },
  {
   "cell_type": "code",
   "execution_count": 36,
   "metadata": {
    "collapsed": false
   },
   "outputs": [
    {
     "name": "stderr",
     "output_type": "stream",
     "text": [
      "//anaconda/lib/python3.5/site-packages/nltk/twitter/__init__.py:20: UserWarning: The twython library has not been installed. Some functionality from the twitter package will not be available.\n",
      "  warnings.warn(\"The twython library has not been installed. \"\n"
     ]
    }
   ],
   "source": [
    "import nltk\n",
    "from nltk.sentiment.vader import SentimentIntensityAnalyzer"
   ]
  },
  {
   "cell_type": "markdown",
   "metadata": {},
   "source": [
    "Here you will need to uncomment this and download vader_lexicon as described in the README."
   ]
  },
  {
   "cell_type": "code",
   "execution_count": 37,
   "metadata": {
    "collapsed": true
   },
   "outputs": [],
   "source": [
    "#nltk.download_shell()"
   ]
  },
  {
   "cell_type": "code",
   "execution_count": 38,
   "metadata": {
    "collapsed": true
   },
   "outputs": [],
   "source": [
    "import findspark\n",
    "findspark.init()\n",
    "import pyspark\n",
    "sc = pyspark.SparkContext(appName=\"Pi\")\n",
    "from pyspark.sql import SQLContext\n",
    "sqlContext = SQLContext(sc)"
   ]
  },
  {
   "cell_type": "code",
   "execution_count": 39,
   "metadata": {
    "collapsed": true
   },
   "outputs": [],
   "source": [
    "from pyspark.sql.functions import udf, array, col\n",
    "import pyspark.sql.functions as F\n",
    "import pyspark.sql.types as T"
   ]
  },
  {
   "cell_type": "markdown",
   "metadata": {},
   "source": [
    "Next we are going to fetch the reviews of the books for which we have the ebooks.\n",
    "\n",
    "As the file for the reviews of the books is quite big, we are going the read it into chunks."
   ]
  },
  {
   "cell_type": "code",
   "execution_count": 40,
   "metadata": {
    "collapsed": true
   },
   "outputs": [],
   "source": [
    "def find_matched(list_asins, in_path, out_path):\n",
    "    pd.DataFrame(columns=[['asin','overall', 'summary', 'reviewerID', 'helpful','reviewText', 'reviewerName', 'reviewTime']]).to_csv(out_path)\n",
    "    \n",
    "    for chunk in pd.read_json(in_path, lines=True, chunksize=50000):\n",
    "        # look if some asins of the chunk match the ones in the given list\n",
    "        filtered = chunk[chunk['asin'].isin(list_asins)].dropna(how='all')\n",
    "        \n",
    "        if len(filtered) > 0:\n",
    "            # write the data if any\n",
    "            filtered[['asin','overall', 'summary', 'reviewerID', 'helpful','reviewText', 'reviewerName', 'reviewTime']].to_csv(out_path,header=False, mode='a')\n"
   ]
  },
  {
   "cell_type": "markdown",
   "metadata": {},
   "source": [
    "### Working with the new dataset"
   ]
  },
  {
   "cell_type": "code",
   "execution_count": 41,
   "metadata": {
    "collapsed": false
   },
   "outputs": [
    {
     "name": "stdout",
     "output_type": "stream",
     "text": [
      "49020\n",
      "317480\n"
     ]
    }
   ],
   "source": [
    "ebooks_metadata = pd.read_csv('ebooks_metadata_amazon.csv')\n",
    "books_metadata = pd.read_csv('books_metadata_amazon_lax.csv')\n",
    "\n",
    "#books_metadata = pd.read_csv('books_metadata_amazon_all.csv')\n",
    "\n",
    "# remove the duplicated entries\n",
    "ebooks = ebooks_metadata.copy().set_index('title')\n",
    "print(len(ebooks))\n",
    "ebooks = ebooks[~ebooks.index.duplicated()]\n",
    "\n",
    "books = books_metadata.copy().set_index('title')\n",
    "print(len(books))\n",
    "books = books[~books.index.duplicated()]"
   ]
  },
  {
   "cell_type": "markdown",
   "metadata": {},
   "source": [
    "#### Duplicate the books with mutiple authors\n",
    "For some books, we can multiple authors who have collaborated together. What we want is to take into account those books when performing the analysis, in other word we will add those books to the bibliography of each of the authors who collaborated. To achieve this, we will duplicate the entries of the said books, but for each duplicates we will only keep one of the different collaborators."
   ]
  },
  {
   "cell_type": "code",
   "execution_count": 42,
   "metadata": {
    "collapsed": true
   },
   "outputs": [],
   "source": [
    "def treat_and_get_mean_var_rank(path_dataframe):\n",
    "    amazon_ebooks_metadata = pd.read_csv(path_dataframe)#.rename(columns={'Unnamed: 0':'asin'}).drop_duplicates(subset='asin')\n",
    "    \n",
    "    authors_unmerged = amazon_ebooks_metadata.authors.str.split(', ').apply(pd.Series).unstack().dropna()\n",
    "    \n",
    "    ind = amazon_ebooks_metadata.authors.str.split(', ').apply(pd.Series)\n",
    "    ind[ind.isna()] = -1\n",
    "    ind[ind != -1] = pd.np.nan\n",
    "    ind['index']=ind.index\n",
    "    cols = list(ind.columns.values)\n",
    "    cols = cols[-1:] + cols[:-1]\n",
    "    ind = ind[cols]\n",
    "    ind = ind.fillna(method='pad', axis=1)\n",
    "    cols = cols[1:]\n",
    "\n",
    "    ind = ind[cols]\n",
    "    ind[ind == -1] = pd.np.nan\n",
    "    ind = ind.unstack().dropna()\n",
    "    authors_unmerged_with_ind = pd.DataFrame(authors_unmerged.values, index=ind.values.astype(np.int64))\n",
    "    \n",
    "    ebooks_with_unmerged_authors = amazon_ebooks_metadata.copy().loc[authors_unmerged_with_ind.index.values]\n",
    "    ebooks_with_unmerged_authors['authors'] = authors_unmerged_with_ind.values\n",
    "    \n",
    "    return ebooks_with_unmerged_authors"
   ]
  },
  {
   "cell_type": "code",
   "execution_count": 43,
   "metadata": {
    "collapsed": true
   },
   "outputs": [],
   "source": [
    "def treat_file_multiple_authors(path_dataframe):\n",
    "    amazon_ebooks_metadata = pd.read_csv(path_dataframe)\n",
    "        \n",
    "    #amazon_ebooks_metadata['title'] = amazon_ebooks_metadata.title.str.lower()\n",
    "    #amazon_ebooks_metadata['title'] = amazon_ebooks_metadata.title.str.strip()\n",
    "    #amazon_ebooks_metadata['authors'] = amazon_ebooks_metadata.authors.str.lower()\n",
    "    \n",
    "    authors_unmerged = amazon_ebooks_metadata.authors.str.split(',').apply(pd.Series).unstack().dropna()\n",
    "    authors_unmerged = authors_unmerged.str.strip()\n",
    "    \n",
    "    ind = amazon_ebooks_metadata.authors.str.split(',').apply(pd.Series)\n",
    "    ind[ind.isna()] = -1\n",
    "    ind[ind != -1] = pd.np.nan\n",
    "    ind['index']=ind.index\n",
    "    cols = list(ind.columns.values)\n",
    "    cols = cols[-1:] + cols[:-1]\n",
    "    ind = ind[cols]\n",
    "    ind = ind.fillna(method='pad', axis=1)\n",
    "    cols = cols[1:]\n",
    "\n",
    "    ind = ind[cols]\n",
    "    ind[ind == -1] = pd.np.nan\n",
    "    ind = ind.unstack().dropna()\n",
    "    authors_unmerged_with_ind = pd.DataFrame(authors_unmerged.values, index=ind.values.astype(np.int64))\n",
    "    \n",
    "    ebooks_with_unmerged_authors = amazon_ebooks_metadata.copy().loc[authors_unmerged_with_ind.index.values]\n",
    "    ebooks_with_unmerged_authors['authors'] = authors_unmerged_with_ind.values\n",
    "\n",
    "    return ebooks_with_unmerged_authors"
   ]
  },
  {
   "cell_type": "code",
   "execution_count": 47,
   "metadata": {
    "collapsed": true
   },
   "outputs": [],
   "source": [
    "if WRITE_FLAT:\n",
    "    books_nolax = treat_and_get_mean_var_rank('books_metadata_amazon_all.csv')\n",
    "    ebooks_nolax = treat_and_get_mean_var_rank('ebooks_metadata_amazon.csv')\n",
    "    #books_flat_lax = treat_and_get_mean_var_rank('books_metadata_amazon_lax.csv')\n",
    "    \n",
    "    books_nolax.to_csv('books_flat_authors.csv')\n",
    "    ebooks_nolax.to_csv('ebooks_flat_authors.csv')\n",
    "    #books_flat_lax.to_csv('books_flatlax_authors.csv')"
   ]
  },
  {
   "cell_type": "markdown",
   "metadata": {},
   "source": [
    "#### A tale of two datasets"
   ]
  },
  {
   "cell_type": "code",
   "execution_count": 49,
   "metadata": {
    "collapsed": true
   },
   "outputs": [],
   "source": [
    "#books = pd.read_csv('books_flatlax_authors.csv')\n",
    "books_nolax = pd.read_csv('books_flat_authors.csv')\n",
    "ebooks_nolax = pd.read_csv('ebooks_flat_authors.csv')"
   ]
  },
  {
   "cell_type": "markdown",
   "metadata": {},
   "source": [
    "From here we will work with two versions of the dataset, one with the suffix \"lax\" and the other with \"nolax\", the \"nolax\" being almost the same as the \"lax\" but with more information such as the rank, the number of pages, the price and the release date or the publishing date respectively for the kindle or the book version. The later parameter being compulsory. Therefore the \"nolax\" dataset is here to complete and refine the analysis.\n",
    "\n",
    "Here we merge the dataset of the paperback books with the dataset of the kindle on the authors to obtain the authors who have books on both supports."
   ]
  },
  {
   "cell_type": "code",
   "execution_count": 50,
   "metadata": {
    "collapsed": false
   },
   "outputs": [
    {
     "data": {
      "text/plain": [
       "317480"
      ]
     },
     "execution_count": 50,
     "metadata": {},
     "output_type": "execute_result"
    }
   ],
   "source": [
    "len(books)"
   ]
  },
  {
   "cell_type": "code",
   "execution_count": 51,
   "metadata": {
    "collapsed": true
   },
   "outputs": [],
   "source": [
    "ebooks.rename(columns={'Unnamed: 0': 'asin'}, inplace=True)"
   ]
  },
  {
   "cell_type": "code",
   "execution_count": 52,
   "metadata": {
    "collapsed": false
   },
   "outputs": [
    {
     "data": {
      "text/html": [
       "<div>\n",
       "<style scoped>\n",
       "    .dataframe tbody tr th:only-of-type {\n",
       "        vertical-align: middle;\n",
       "    }\n",
       "\n",
       "    .dataframe tbody tr th {\n",
       "        vertical-align: top;\n",
       "    }\n",
       "\n",
       "    .dataframe thead th {\n",
       "        text-align: right;\n",
       "    }\n",
       "</style>\n",
       "<table border=\"1\" class=\"dataframe\">\n",
       "  <thead>\n",
       "    <tr style=\"text-align: right;\">\n",
       "      <th></th>\n",
       "      <th>Unnamed: 0</th>\n",
       "      <th>asin</th>\n",
       "      <th>title</th>\n",
       "      <th>authors</th>\n",
       "      <th>manufacturer</th>\n",
       "      <th>rank</th>\n",
       "      <th>price</th>\n",
       "      <th>currency</th>\n",
       "      <th>reldate</th>\n",
       "      <th>page</th>\n",
       "      <th>language</th>\n",
       "    </tr>\n",
       "  </thead>\n",
       "  <tbody>\n",
       "    <tr>\n",
       "      <th>0</th>\n",
       "      <td>0</td>\n",
       "      <td>B000JMKNQ0</td>\n",
       "      <td>Boba Fett: A Practical Man: Star Wars Legends ...</td>\n",
       "      <td>Karen Traviss</td>\n",
       "      <td>Del Rey</td>\n",
       "      <td>250846.0</td>\n",
       "      <td>NaN</td>\n",
       "      <td>NaN</td>\n",
       "      <td>2006-08-08</td>\n",
       "      <td>104.0</td>\n",
       "      <td>English</td>\n",
       "    </tr>\n",
       "    <tr>\n",
       "      <th>1</th>\n",
       "      <td>1</td>\n",
       "      <td>B000JMLBHU</td>\n",
       "      <td>The Mysterious Island</td>\n",
       "      <td>Jules Verne</td>\n",
       "      <td>Public Domain Books</td>\n",
       "      <td>NaN</td>\n",
       "      <td>NaN</td>\n",
       "      <td>NaN</td>\n",
       "      <td>1998-04-01</td>\n",
       "      <td>516.0</td>\n",
       "      <td>English</td>\n",
       "    </tr>\n",
       "    <tr>\n",
       "      <th>2</th>\n",
       "      <td>2</td>\n",
       "      <td>B000JMLG4S</td>\n",
       "      <td>Knots, Splices and Rope Work A Practical Treatise</td>\n",
       "      <td>A.(Alpheus) Hyatt Verrill</td>\n",
       "      <td>Public Domain Books</td>\n",
       "      <td>NaN</td>\n",
       "      <td>NaN</td>\n",
       "      <td>NaN</td>\n",
       "      <td>2004-09-21</td>\n",
       "      <td>47.0</td>\n",
       "      <td>English</td>\n",
       "    </tr>\n",
       "    <tr>\n",
       "      <th>3</th>\n",
       "      <td>3</td>\n",
       "      <td>B000JMLHYC</td>\n",
       "      <td>The English Orphans</td>\n",
       "      <td>Mary Jane Holmes</td>\n",
       "      <td>Public Domain Books</td>\n",
       "      <td>NaN</td>\n",
       "      <td>NaN</td>\n",
       "      <td>NaN</td>\n",
       "      <td>2004-10-26</td>\n",
       "      <td>290.0</td>\n",
       "      <td>English</td>\n",
       "    </tr>\n",
       "    <tr>\n",
       "      <th>4</th>\n",
       "      <td>4</td>\n",
       "      <td>B000JQUSBQ</td>\n",
       "      <td>Indian Fairy Tales</td>\n",
       "      <td>Public Domain Books</td>\n",
       "      <td>Public Domain Books</td>\n",
       "      <td>NaN</td>\n",
       "      <td>NaN</td>\n",
       "      <td>NaN</td>\n",
       "      <td>2004-12-01</td>\n",
       "      <td>184.0</td>\n",
       "      <td>English</td>\n",
       "    </tr>\n",
       "  </tbody>\n",
       "</table>\n",
       "</div>"
      ],
      "text/plain": [
       "   Unnamed: 0        asin                                              title  \\\n",
       "0           0  B000JMKNQ0  Boba Fett: A Practical Man: Star Wars Legends ...   \n",
       "1           1  B000JMLBHU                              The Mysterious Island   \n",
       "2           2  B000JMLG4S  Knots, Splices and Rope Work A Practical Treatise   \n",
       "3           3  B000JMLHYC                                The English Orphans   \n",
       "4           4  B000JQUSBQ                                 Indian Fairy Tales   \n",
       "\n",
       "                     authors         manufacturer      rank  price currency  \\\n",
       "0              Karen Traviss              Del Rey  250846.0    NaN      NaN   \n",
       "1                Jules Verne  Public Domain Books       NaN    NaN      NaN   \n",
       "2  A.(Alpheus) Hyatt Verrill  Public Domain Books       NaN    NaN      NaN   \n",
       "3           Mary Jane Holmes  Public Domain Books       NaN    NaN      NaN   \n",
       "4        Public Domain Books  Public Domain Books       NaN    NaN      NaN   \n",
       "\n",
       "      reldate   page language  \n",
       "0  2006-08-08  104.0  English  \n",
       "1  1998-04-01  516.0  English  \n",
       "2  2004-09-21   47.0  English  \n",
       "3  2004-10-26  290.0  English  \n",
       "4  2004-12-01  184.0  English  "
      ]
     },
     "execution_count": 52,
     "metadata": {},
     "output_type": "execute_result"
    }
   ],
   "source": [
    "ebooks_nolax.rename(columns={'Unnamed: 0.1':'asin'}, inplace=True)\n",
    "ebooks_nolax.head()"
   ]
  },
  {
   "cell_type": "code",
   "execution_count": 53,
   "metadata": {
    "collapsed": false
   },
   "outputs": [
    {
     "data": {
      "text/plain": [
       "52519"
      ]
     },
     "execution_count": 53,
     "metadata": {},
     "output_type": "execute_result"
    }
   ],
   "source": [
    "len(ebooks_nolax[ebooks_nolax['asin'].isin(ebooks['asin'])])"
   ]
  },
  {
   "cell_type": "code",
   "execution_count": 54,
   "metadata": {
    "collapsed": true
   },
   "outputs": [],
   "source": [
    "ebooks_by_auth_nolax = ebooks_nolax.groupby(ebooks_nolax['authors'])\n",
    "cross_auth_nolax = ebooks_nolax.reset_index().merge(books_nolax.reset_index(), on='authors', suffixes=('_e', '_b'))"
   ]
  },
  {
   "cell_type": "code",
   "execution_count": 55,
   "metadata": {
    "collapsed": true
   },
   "outputs": [],
   "source": [
    "ebooks.rename(columns={'Unnamed: 0': 'asin'}, inplace=True)\n",
    "ebooks_by_auth = ebooks.reset_index().groupby(ebooks['authors'])\n",
    "cross_auth = ebooks.reset_index().merge(books.reset_index(), left_on='authors', right_on='authors', suffixes=('_e', '_b'))"
   ]
  },
  {
   "cell_type": "markdown",
   "metadata": {},
   "source": [
    "Only keep the entries in ebooks where the author is in common."
   ]
  },
  {
   "cell_type": "code",
   "execution_count": 56,
   "metadata": {
    "collapsed": true
   },
   "outputs": [],
   "source": [
    "ebooks_author = ebooks[ebooks['authors'].isin(cross_auth['authors'].unique())]\n",
    "books_author = books[books['authors'].isin(cross_auth['authors'].unique())]"
   ]
  },
  {
   "cell_type": "code",
   "execution_count": 57,
   "metadata": {
    "collapsed": false
   },
   "outputs": [
    {
     "data": {
      "text/plain": [
       "46522"
      ]
     },
     "execution_count": 57,
     "metadata": {},
     "output_type": "execute_result"
    }
   ],
   "source": [
    "len(ebooks_author)"
   ]
  },
  {
   "cell_type": "code",
   "execution_count": 58,
   "metadata": {
    "collapsed": false
   },
   "outputs": [
    {
     "name": "stdout",
     "output_type": "stream",
     "text": [
      "52737\n",
      "103248\n",
      "23961\n"
     ]
    }
   ],
   "source": [
    "ebooks_author_nolax = ebooks_nolax[ebooks_nolax['authors'].isin(cross_auth_nolax['authors'].unique())]\n",
    "print(len(ebooks_author_nolax))\n",
    "books_author_nolax = books_nolax[books_nolax['authors'].isin(cross_auth_nolax['authors'].unique())]\n",
    "print(len(books_author_nolax))\n",
    "print(len(cross_auth_nolax['authors'].unique()))"
   ]
  },
  {
   "cell_type": "markdown",
   "metadata": {},
   "source": [
    "50381"
   ]
  },
  {
   "cell_type": "code",
   "execution_count": 59,
   "metadata": {
    "collapsed": true,
    "scrolled": false
   },
   "outputs": [],
   "source": [
    "count_author_e = ebooks_author.groupby('authors').count()"
   ]
  },
  {
   "cell_type": "code",
   "execution_count": 60,
   "metadata": {
    "collapsed": true,
    "scrolled": true
   },
   "outputs": [],
   "source": [
    "count_author_b = books_author.groupby('authors').count()"
   ]
  },
  {
   "cell_type": "code",
   "execution_count": 61,
   "metadata": {
    "collapsed": false,
    "scrolled": true
   },
   "outputs": [
    {
     "data": {
      "text/plain": [
       "3416"
      ]
     },
     "execution_count": 61,
     "metadata": {},
     "output_type": "execute_result"
    }
   ],
   "source": [
    "len(count_author_b[count_author_b['asin']>5])"
   ]
  },
  {
   "cell_type": "code",
   "execution_count": 62,
   "metadata": {
    "collapsed": false
   },
   "outputs": [
    {
     "data": {
      "text/html": [
       "<div>\n",
       "<style scoped>\n",
       "    .dataframe tbody tr th:only-of-type {\n",
       "        vertical-align: middle;\n",
       "    }\n",
       "\n",
       "    .dataframe tbody tr th {\n",
       "        vertical-align: top;\n",
       "    }\n",
       "\n",
       "    .dataframe thead th {\n",
       "        text-align: right;\n",
       "    }\n",
       "</style>\n",
       "<table border=\"1\" class=\"dataframe\">\n",
       "  <thead>\n",
       "    <tr style=\"text-align: right;\">\n",
       "      <th></th>\n",
       "      <th>asin</th>\n",
       "      <th>manufacturer</th>\n",
       "    </tr>\n",
       "  </thead>\n",
       "  <tbody>\n",
       "    <tr>\n",
       "      <th>count</th>\n",
       "      <td>20995.000000</td>\n",
       "      <td>20995.000000</td>\n",
       "    </tr>\n",
       "    <tr>\n",
       "      <th>mean</th>\n",
       "      <td>3.703120</td>\n",
       "      <td>2.854013</td>\n",
       "    </tr>\n",
       "    <tr>\n",
       "      <th>std</th>\n",
       "      <td>6.575191</td>\n",
       "      <td>6.403859</td>\n",
       "    </tr>\n",
       "    <tr>\n",
       "      <th>min</th>\n",
       "      <td>1.000000</td>\n",
       "      <td>0.000000</td>\n",
       "    </tr>\n",
       "    <tr>\n",
       "      <th>25%</th>\n",
       "      <td>1.000000</td>\n",
       "      <td>0.000000</td>\n",
       "    </tr>\n",
       "    <tr>\n",
       "      <th>50%</th>\n",
       "      <td>2.000000</td>\n",
       "      <td>1.000000</td>\n",
       "    </tr>\n",
       "    <tr>\n",
       "      <th>75%</th>\n",
       "      <td>4.000000</td>\n",
       "      <td>3.000000</td>\n",
       "    </tr>\n",
       "    <tr>\n",
       "      <th>max</th>\n",
       "      <td>243.000000</td>\n",
       "      <td>243.000000</td>\n",
       "    </tr>\n",
       "  </tbody>\n",
       "</table>\n",
       "</div>"
      ],
      "text/plain": [
       "               asin  manufacturer\n",
       "count  20995.000000  20995.000000\n",
       "mean       3.703120      2.854013\n",
       "std        6.575191      6.403859\n",
       "min        1.000000      0.000000\n",
       "25%        1.000000      0.000000\n",
       "50%        2.000000      1.000000\n",
       "75%        4.000000      3.000000\n",
       "max      243.000000    243.000000"
      ]
     },
     "execution_count": 62,
     "metadata": {},
     "output_type": "execute_result"
    }
   ],
   "source": [
    "count_author_b.describe()"
   ]
  },
  {
   "cell_type": "code",
   "execution_count": 63,
   "metadata": {
    "collapsed": false
   },
   "outputs": [
    {
     "data": {
      "text/html": [
       "<div>\n",
       "<style scoped>\n",
       "    .dataframe tbody tr th:only-of-type {\n",
       "        vertical-align: middle;\n",
       "    }\n",
       "\n",
       "    .dataframe tbody tr th {\n",
       "        vertical-align: top;\n",
       "    }\n",
       "\n",
       "    .dataframe thead th {\n",
       "        text-align: right;\n",
       "    }\n",
       "</style>\n",
       "<table border=\"1\" class=\"dataframe\">\n",
       "  <thead>\n",
       "    <tr style=\"text-align: right;\">\n",
       "      <th></th>\n",
       "      <th>asin</th>\n",
       "      <th>manufacturer</th>\n",
       "      <th>rank</th>\n",
       "      <th>price</th>\n",
       "      <th>currency</th>\n",
       "      <th>reldate</th>\n",
       "      <th>page</th>\n",
       "      <th>language</th>\n",
       "    </tr>\n",
       "  </thead>\n",
       "  <tbody>\n",
       "    <tr>\n",
       "      <th>count</th>\n",
       "      <td>20995.000000</td>\n",
       "      <td>20995.000000</td>\n",
       "      <td>20995.000000</td>\n",
       "      <td>20995.000000</td>\n",
       "      <td>20995.000000</td>\n",
       "      <td>20995.000000</td>\n",
       "      <td>20995.000000</td>\n",
       "      <td>20995.000000</td>\n",
       "    </tr>\n",
       "    <tr>\n",
       "      <th>mean</th>\n",
       "      <td>2.215813</td>\n",
       "      <td>1.364372</td>\n",
       "      <td>2.072541</td>\n",
       "      <td>0.000238</td>\n",
       "      <td>0.000238</td>\n",
       "      <td>2.215813</td>\n",
       "      <td>2.204382</td>\n",
       "      <td>2.215813</td>\n",
       "    </tr>\n",
       "    <tr>\n",
       "      <th>std</th>\n",
       "      <td>2.857189</td>\n",
       "      <td>2.430795</td>\n",
       "      <td>2.758072</td>\n",
       "      <td>0.018258</td>\n",
       "      <td>0.018258</td>\n",
       "      <td>2.857189</td>\n",
       "      <td>2.850370</td>\n",
       "      <td>2.857189</td>\n",
       "    </tr>\n",
       "    <tr>\n",
       "      <th>min</th>\n",
       "      <td>1.000000</td>\n",
       "      <td>0.000000</td>\n",
       "      <td>0.000000</td>\n",
       "      <td>0.000000</td>\n",
       "      <td>0.000000</td>\n",
       "      <td>1.000000</td>\n",
       "      <td>0.000000</td>\n",
       "      <td>1.000000</td>\n",
       "    </tr>\n",
       "    <tr>\n",
       "      <th>25%</th>\n",
       "      <td>1.000000</td>\n",
       "      <td>0.000000</td>\n",
       "      <td>1.000000</td>\n",
       "      <td>0.000000</td>\n",
       "      <td>0.000000</td>\n",
       "      <td>1.000000</td>\n",
       "      <td>1.000000</td>\n",
       "      <td>1.000000</td>\n",
       "    </tr>\n",
       "    <tr>\n",
       "      <th>50%</th>\n",
       "      <td>1.000000</td>\n",
       "      <td>1.000000</td>\n",
       "      <td>1.000000</td>\n",
       "      <td>0.000000</td>\n",
       "      <td>0.000000</td>\n",
       "      <td>1.000000</td>\n",
       "      <td>1.000000</td>\n",
       "      <td>1.000000</td>\n",
       "    </tr>\n",
       "    <tr>\n",
       "      <th>75%</th>\n",
       "      <td>2.000000</td>\n",
       "      <td>1.000000</td>\n",
       "      <td>2.000000</td>\n",
       "      <td>0.000000</td>\n",
       "      <td>0.000000</td>\n",
       "      <td>2.000000</td>\n",
       "      <td>2.000000</td>\n",
       "      <td>2.000000</td>\n",
       "    </tr>\n",
       "    <tr>\n",
       "      <th>max</th>\n",
       "      <td>63.000000</td>\n",
       "      <td>63.000000</td>\n",
       "      <td>61.000000</td>\n",
       "      <td>2.000000</td>\n",
       "      <td>2.000000</td>\n",
       "      <td>63.000000</td>\n",
       "      <td>63.000000</td>\n",
       "      <td>63.000000</td>\n",
       "    </tr>\n",
       "  </tbody>\n",
       "</table>\n",
       "</div>"
      ],
      "text/plain": [
       "               asin  manufacturer          rank         price      currency  \\\n",
       "count  20995.000000  20995.000000  20995.000000  20995.000000  20995.000000   \n",
       "mean       2.215813      1.364372      2.072541      0.000238      0.000238   \n",
       "std        2.857189      2.430795      2.758072      0.018258      0.018258   \n",
       "min        1.000000      0.000000      0.000000      0.000000      0.000000   \n",
       "25%        1.000000      0.000000      1.000000      0.000000      0.000000   \n",
       "50%        1.000000      1.000000      1.000000      0.000000      0.000000   \n",
       "75%        2.000000      1.000000      2.000000      0.000000      0.000000   \n",
       "max       63.000000     63.000000     61.000000      2.000000      2.000000   \n",
       "\n",
       "            reldate          page      language  \n",
       "count  20995.000000  20995.000000  20995.000000  \n",
       "mean       2.215813      2.204382      2.215813  \n",
       "std        2.857189      2.850370      2.857189  \n",
       "min        1.000000      0.000000      1.000000  \n",
       "25%        1.000000      1.000000      1.000000  \n",
       "50%        1.000000      1.000000      1.000000  \n",
       "75%        2.000000      2.000000      2.000000  \n",
       "max       63.000000     63.000000     63.000000  "
      ]
     },
     "execution_count": 63,
     "metadata": {},
     "output_type": "execute_result"
    }
   ],
   "source": [
    "count_author_e.describe()"
   ]
  },
  {
   "cell_type": "markdown",
   "metadata": {},
   "source": [
    "The number of authors in common on both supports."
   ]
  },
  {
   "cell_type": "code",
   "execution_count": 64,
   "metadata": {
    "collapsed": false
   },
   "outputs": [
    {
     "data": {
      "text/plain": [
       "20996"
      ]
     },
     "execution_count": 64,
     "metadata": {},
     "output_type": "execute_result"
    }
   ],
   "source": [
    "len(cross_auth['authors'].unique())"
   ]
  },
  {
   "cell_type": "markdown",
   "metadata": {},
   "source": [
    "### New analysis"
   ]
  },
  {
   "cell_type": "code",
   "execution_count": 65,
   "metadata": {
    "collapsed": true
   },
   "outputs": [],
   "source": [
    "scores_books_authors = 'scores_books_by_authors.csv'\n",
    "scores_ebooks_authors = 'scores_ebooks_by_authors.csv'\n",
    "\n",
    "scores_books_overall = 'scores_books_by_overall.csv'\n",
    "scores_ebooks_overall = 'scores_ebooks_by_overall.csv'\n",
    "\n",
    "scores_books_authors_complete = 'scores_books_by_authors_complete.csv'\n",
    "scores_ebooks_authors_complete = 'scores_ebooks_by_authors_complete.csv'\n",
    "\n",
    "scores_books_overall_complete = 'scores_books_by_overall_completeID.csv'\n",
    "scores_ebooks_overall_complete = 'scores_ebooks_by_overall_completeID.csv'\n",
    "\n",
    "top_authors_weighted_books_score = 'top_authors_weighted_books_score.csv'\n",
    "top_authors_weighted_kindle_score = 'top_authors_weighted_kindle_score.csv'\n",
    "\n",
    "top_kauthors_weighted_books_score = 'top_kauthors_weighted_books_score.csv'\n",
    "top_kauthors_weighted_kindle_score = 'top_kauthors_weighted_kindle_score.csv'"
   ]
  },
  {
   "cell_type": "markdown",
   "metadata": {},
   "source": [
    "Below we will obtain the reviews of the books and ebooks corresponding to the authors we find above."
   ]
  },
  {
   "cell_type": "code",
   "execution_count": 68,
   "metadata": {
    "collapsed": true
   },
   "outputs": [],
   "source": [
    "if WRITE_FIND_MATCHED:\n",
    "    find_matched(cross_auth['asin_b'].unique(), books_5core_path, matched_books_path)\n",
    "    find_matched(cross_auth['asin_e'].unique(), kindle_5core_path, matched_ebooks_path)\n",
    "    find_matched(cross_auth_nolax['asin_b'].unique(), books_5core_path, matched_books_path_nolax)\n",
    "    find_matched(cross_auth_nolax['asin_e'].unique(), kindle_5core_path, matched_ebooks_path_nolax)"
   ]
  },
  {
   "cell_type": "code",
   "execution_count": 69,
   "metadata": {
    "collapsed": true
   },
   "outputs": [],
   "source": [
    "match_books_author = pd.read_csv(matched_books_path)\n",
    "match_ebooks_author = pd.read_csv(matched_ebooks_path)\n",
    "match_books_author_nolax = pd.read_csv(matched_books_path_nolax, parse_dates=[8], infer_datetime_format=True)\n",
    "match_ebooks_author_nolax = pd.read_csv(matched_ebooks_path_nolax, parse_dates=[8], infer_datetime_format=True)"
   ]
  },
  {
   "cell_type": "code",
   "execution_count": 70,
   "metadata": {
    "collapsed": false,
    "scrolled": true
   },
   "outputs": [
    {
     "name": "stdout",
     "output_type": "stream",
     "text": [
      "757106\n",
      "2872251\n",
      "736461\n",
      "3204647\n"
     ]
    }
   ],
   "source": [
    "print(len(match_ebooks_author))\n",
    "print(len(match_books_author))\n",
    "print(len(match_ebooks_author_nolax))\n",
    "print(len(match_books_author_nolax))"
   ]
  },
  {
   "cell_type": "markdown",
   "metadata": {},
   "source": [
    "Here we append the authors to the reviews corresponding to their work."
   ]
  },
  {
   "cell_type": "code",
   "execution_count": 71,
   "metadata": {
    "collapsed": true
   },
   "outputs": [],
   "source": [
    "match_books_author = match_books_author.merge(\n",
    "    cross_auth[['asin_b', 'authors']].drop_duplicates() , left_on ='asin', right_on='asin_b')\n",
    "match_ebooks_author = match_ebooks_author.merge(\n",
    "    cross_auth[['asin_e', 'authors']].drop_duplicates() , left_on ='asin', right_on='asin_e')"
   ]
  },
  {
   "cell_type": "code",
   "execution_count": 72,
   "metadata": {
    "collapsed": false
   },
   "outputs": [
    {
     "data": {
      "text/plain": [
       "755623"
      ]
     },
     "execution_count": 72,
     "metadata": {},
     "output_type": "execute_result"
    }
   ],
   "source": [
    "len(match_ebooks_author)"
   ]
  },
  {
   "cell_type": "code",
   "execution_count": 73,
   "metadata": {
    "collapsed": false
   },
   "outputs": [
    {
     "data": {
      "text/plain": [
       "96977"
      ]
     },
     "execution_count": 73,
     "metadata": {},
     "output_type": "execute_result"
    }
   ],
   "source": [
    "len(match_books_author_nolax.asin.unique())"
   ]
  },
  {
   "cell_type": "code",
   "execution_count": 74,
   "metadata": {
    "collapsed": true
   },
   "outputs": [],
   "source": [
    "match_books_author_nolax = match_books_author_nolax.merge(\n",
    "    cross_auth_nolax[['asin_b', 'authors']].drop_duplicates() , left_on ='asin', right_on='asin_b')\n",
    "match_ebooks_author_nolax = match_ebooks_author_nolax.merge(\n",
    "    cross_auth_nolax[['asin_e', 'authors']].drop_duplicates() , left_on ='asin', right_on='asin_e')"
   ]
  },
  {
   "cell_type": "code",
   "execution_count": 75,
   "metadata": {
    "collapsed": false
   },
   "outputs": [
    {
     "data": {
      "text/plain": [
       "23961"
      ]
     },
     "execution_count": 75,
     "metadata": {},
     "output_type": "execute_result"
    }
   ],
   "source": [
    "len(cross_auth_nolax.authors.unique())"
   ]
  },
  {
   "cell_type": "markdown",
   "metadata": {},
   "source": [
    "Parse the \"helpful\" column which is a string representation of a list and make it easier to compute the helpfulness of a review later."
   ]
  },
  {
   "cell_type": "code",
   "execution_count": 76,
   "metadata": {
    "collapsed": true
   },
   "outputs": [],
   "source": [
    "def literal_left(x):\n",
    "    l = literal_eval(x)\n",
    "    return l[0]\n",
    "\n",
    "def literal_right(x):\n",
    "    l = literal_eval(x)\n",
    "    return l[1]\n",
    "\n",
    "def parse_help(source):\n",
    "    target = source.copy()\n",
    "    target['helpful'] = source['helpful'].apply(literal_left)\n",
    "    target['not_helpful'] = source['helpful'].apply(literal_right)\n",
    "    return target"
   ]
  },
  {
   "cell_type": "code",
   "execution_count": 77,
   "metadata": {
    "collapsed": true,
    "scrolled": true
   },
   "outputs": [],
   "source": [
    "matched_booksh = parse_help(match_books_author)\n",
    "matched_ebooksh = parse_help(match_ebooks_author)"
   ]
  },
  {
   "cell_type": "code",
   "execution_count": 78,
   "metadata": {
    "collapsed": false,
    "scrolled": true
   },
   "outputs": [
    {
     "data": {
      "text/plain": [
       "755623"
      ]
     },
     "execution_count": 78,
     "metadata": {},
     "output_type": "execute_result"
    }
   ],
   "source": [
    "len(matched_ebooksh)"
   ]
  },
  {
   "cell_type": "code",
   "execution_count": 79,
   "metadata": {
    "collapsed": true
   },
   "outputs": [],
   "source": [
    "booksh_by_author = matched_booksh.dropna(subset=['authors'])\n",
    "booksh_by_author.set_index('authors', inplace=True)"
   ]
  },
  {
   "cell_type": "code",
   "execution_count": 80,
   "metadata": {
    "collapsed": true
   },
   "outputs": [],
   "source": [
    "ebooksh_by_author = matched_ebooksh.dropna(subset=['authors'])\n",
    "ebooksh_by_author.set_index('authors', inplace=True)"
   ]
  },
  {
   "cell_type": "markdown",
   "metadata": {},
   "source": [
    "Now that we have our reviews it is time to analyse their content. To compute the score of a book, we use two approaches:\n",
    "\n",
    "1) A weighted average of the stars taking into account the helpfulness of the review as described below.\n",
    "\n",
    "Let $s_{i,j}$ be the $j$th rating of book $i$ and $n$ the number of ratings for this book. As other users can review a review by saying whether it is helpful, let $k_{i,j}$ be the number of the person who reviewed the review $s_{i,j}$ and let $u_{i,j}$ be the number of reviewer who found the review helpful among the $k_{i,j}$ reviewers. Then what we want to do is to give more weight to reviews which are helpful and less weight to reviews that the other users found useless. The maximum weight a review can have is 1 and the minimum is 0, then if a review has never been reviewed or it has been voted equally helpful and not helpful, its weight will be 0.5 which is neutral.\n",
    "$$w_{i,j}=\\cases{\\frac{u_{i,j}}{k_{i,j}}, \\text{if } k_{i,j} \\ne 0 \\\\0.5, \\text{if } k_{i,j}=0}$$\n",
    "\n",
    "    \n",
    "The weighted average is then:\n",
    "\n",
    "$$S_i = \\frac{\\sum_{j=1}^{n} w_{i,j}s_{i,j}}{\\sum_{j=1}^{n} w_{i,j}}$$\n",
    "\n",
    "2) A weighted average of the sentiment's intensity in the review taking into account the helpfulness with the weight being derived similarly as above.\n",
    "\n",
    "Here we are going to use the VADER (Valence Aware Dictionary sEntiment Reasoner) sentiment analyzer from the nltk package. VADER is based on lexicons of sentiment-related words and each words is rated as whether it is positive and negative, and how negative or positive it is. For example, the 'excellent' would be treated as more positive than 'good'.\n",
    "\n",
    "The score Vader returns is between -1 and 1, 1 for a very positive review, -1 for a very negative review, and 0 if it is neutral.\n",
    "\n",
    "Although Vader is not the most accurate tool and to analyse a piece of text it checks if any of the words in the text are present in the lexicon, therefore its accuracy depends on the coverage of the lexicons. It is the easiest approach we have for the moment as we cannot train a classifier since we don't have a proper training set."
   ]
  },
  {
   "cell_type": "code",
   "execution_count": 81,
   "metadata": {
    "collapsed": true
   },
   "outputs": [],
   "source": [
    "sid = SentimentIntensityAnalyzer()"
   ]
  },
  {
   "cell_type": "code",
   "execution_count": 82,
   "metadata": {
    "collapsed": true
   },
   "outputs": [],
   "source": [
    "# compute the weight of a review\n",
    "def weighted_helpful(data):\n",
    "    voters = int(data[0]) + int(data[1])\n",
    "    \n",
    "    return 0.5 if voters == 0 else int(data[0])/voters"
   ]
  },
  {
   "cell_type": "code",
   "execution_count": 83,
   "metadata": {
    "collapsed": true
   },
   "outputs": [],
   "source": [
    "# compute the weighted average of the two scores for a book\n",
    "def weighted_scores(data, groupby_key):\n",
    "\n",
    "    data['weighted_help'] = data[['helpful', 'not_helpful']].apply(weighted_helpful)\n",
    "    \n",
    "    func = lambda x: sid.polarity_scores(x)['compound']\n",
    "    \n",
    "    data['sentiment_review'] = data['reviewText'].astype(str).apply(func)\n",
    "    data['sentiment_summary'] = data['summary'].astype(str).apply(func)\n",
    "    \n",
    "    data['sentiment_average'] = (data['sentiment_review'] + data['sentiment_summary'])*0.5\n",
    "    data['sentiment_rescaled'] = (data['sentiment_average'] + 1) * 2 + 1\n",
    "    \n",
    "    data['combined'] = (data['sentiment_rescaled'] + data['overall']) * 0.5\n",
    "    \n",
    "    # multiply the scores with the weight\n",
    "    data['weighted_sentiment_review'] = data['weighted_help'] * data['sentiment_review']\n",
    "    data['weighted_sentiment_summary'] = data['weighted_help'] * data['sentiment_summary']\n",
    "    data['weighted_sentiment_average'] = data['weighted_help'] * data['sentiment_average']\n",
    "    data['weighted_sentiment_rescaled'] = data['weighted_help'] * data['sentiment_rescaled']\n",
    "    data['weighted_overall'] = data['weighted_help'] * data['overall']\n",
    "    data['weighted_combined'] = data['weighted_help'] * data['combined']\n",
    "    \n",
    "    # sum everything\n",
    "    weighted_score = data.groupby(data[groupby_key]).sum()\n",
    "    \n",
    "    # divide by the sum of the weights to obtain the weighted average\n",
    "    weighted_score['sentiment_review_score'] = weighted_score['weighted_sentiment_review']/weighted_score['weighted_help']\n",
    "    weighted_score['sentiment_summary_score'] = weighted_score['weighted_sentiment_summary']/weighted_score['weighted_help']\n",
    "    weighted_score['sentiment_average_score'] = weighted_score['weighted_sentiment_average']/weighted_score['weighted_help']\n",
    "    weighted_score['sentiment_rescaled'] = weighted_score['weighted_sentiment_rescaled']/weighted_score['weighted_help']\n",
    "    weighted_score['overall_score'] = weighted_score['weighted_overall']/weighted_score['weighted_help']\n",
    "    weighted_score['combined_score'] = weighted_score['weighted_combined']/weighted_score['weighted_help']\n",
    "    \n",
    "    return weighted_score[['sentiment_review_score', 'sentiment_summary_score', 'sentiment_average_score', 'sentiment_rescaled', 'overall_score', 'combined_score']]"
   ]
  },
  {
   "cell_type": "markdown",
   "metadata": {},
   "source": [
    "The same functions but translated to pyspark"
   ]
  },
  {
   "cell_type": "code",
   "execution_count": 84,
   "metadata": {
    "collapsed": true
   },
   "outputs": [],
   "source": [
    "# compute the weighted average of the two scores for a book\n",
    "def weighted_helpful_sp(helpful, not_helpful):\n",
    "    voters = int(helpful) + int(not_helpful)\n",
    "    \n",
    "    return 0.5 if voters == 0 else int(helpful)/voters\n",
    "\n",
    "helpful_spark = udf(weighted_helpful_sp, T.FloatType())\n",
    "\n",
    "# user defined functions to use with spark\n",
    "average = udf(lambda x, y: (float(x) + float(y))*0.5, T.FloatType())\n",
    "rescale = udf(lambda x: (float(x) + 1) * 2 + 1 , T.FloatType())\n",
    "times = udf(lambda x, y: float(x)*float(y), T.FloatType())\n",
    "div = udf(lambda x, y: float(x)/float(y), T.FloatType())\n",
    "\n",
    "def weighted_scores_spark(data, groupby_key):\n",
    "    # get the weight\n",
    "    data = data.withColumn('weighted_help', helpful_spark('helpful', 'not_helpful'))\n",
    "    #data['weighted_help'] = (data['helpful'].astype(list)).apply(weighted_helpful)\n",
    "    \n",
    "    func = udf(lambda x: sid.polarity_scores(x)['compound'], T.DoubleType())\n",
    "    \n",
    "    data = data.withColumn('sentiment_review', func('reviewText'))\n",
    "    \n",
    "    data = data.withColumn('sentiment_summary', func('summary'))\n",
    "    \n",
    "    #print(data.select('sentiment_review').show())\n",
    "    \n",
    "    data = data.withColumn('sentiment_average', average('sentiment_review','sentiment_summary'))\n",
    "    data = data.withColumn('sentiment_rescaled', rescale('sentiment_average'))\n",
    "    \n",
    "    data = data.withColumn('combined', average('sentiment_rescaled','overall'))\n",
    "    \n",
    "    # multiply the scores with the weight\n",
    "    data = data.withColumn('weighted_sentiment_review',times('weighted_help','sentiment_review'))\n",
    "    data = data.withColumn('weighted_sentiment_summary', times('weighted_help', 'sentiment_summary'))\n",
    "    data = data.withColumn('weighted_sentiment_average', times('weighted_help', 'sentiment_average'))\n",
    "    data = data.withColumn('weighted_sentiment_rescaled', times('weighted_help','sentiment_rescaled'))\n",
    "    data = data.withColumn('weighted_overall', times('weighted_help','overall'))\n",
    "    data = data.withColumn('weighted_combined', times('weighted_help', 'combined'))\n",
    "\n",
    "\n",
    "    w = data.groupby(groupby_key).agg(\n",
    "        F.sum('weighted_help').alias('weighted_help'),\n",
    "        F.sum('weighted_sentiment_review').alias('weighted_sentiment_review'),\n",
    "        F.sum('weighted_sentiment_summary').alias('weighted_sentiment_summary'),\n",
    "        F.sum('weighted_sentiment_average').alias('weighted_sentiment_average'),\n",
    "        F.sum('weighted_sentiment_rescaled').alias('weighted_sentiment_rescaled'),\n",
    "        F.sum('weighted_overall').alias('weighted_overall'),\n",
    "        F.sum('weighted_combined').alias('weighted_combined')\n",
    "    )\n",
    "\n",
    "    # divide by the sum of the weights to obtain the weighted average\n",
    "    w = w.withColumn('sentiment_review_score', div('weighted_sentiment_review','weighted_help'))\n",
    "    w = w.withColumn('sentiment_summary_score', div('weighted_sentiment_summary', 'weighted_help'))\n",
    "    w = w.withColumn('sentiment_average_score', div('weighted_sentiment_average', 'weighted_help'))\n",
    "    w = w.withColumn('sentiment_rescaled', div('weighted_sentiment_rescaled','weighted_help'))\n",
    "    w = w.withColumn('overall_score', div('weighted_overall', 'weighted_help'))\n",
    "    w = w.withColumn('combined_score', div('weighted_combined', 'weighted_help'))\n",
    "    \n",
    "    return w.select([groupby_key,'sentiment_review_score', 'sentiment_summary_score', 'sentiment_average_score', 'sentiment_rescaled', 'overall_score', 'combined_score'])"
   ]
  },
  {
   "cell_type": "markdown",
   "metadata": {},
   "source": [
    "Compute only the sentiment score without grouping or rescaling"
   ]
  },
  {
   "cell_type": "code",
   "execution_count": 85,
   "metadata": {
    "collapsed": true
   },
   "outputs": [],
   "source": [
    "def compute_review(data):\n",
    "    func = udf(lambda x: sid.polarity_scores(x)['compound'], T.DoubleType())\n",
    "    \n",
    "    data = data.withColumn('sentiment_review', func('reviewText'))\n",
    "    data = data.withColumn('sentiment_summary', func('summary'))\n",
    "    data = data.withColumn('average', average('sentiment_review', 'sentiment_summary'))\n",
    "    \n",
    "    return data.select(['overall', 'asin', 'reviewerID', 'sentiment_review', 'sentiment_summary', 'average'])\n",
    " "
   ]
  },
  {
   "cell_type": "markdown",
   "metadata": {},
   "source": [
    "Compute the functions by batch to avoid runnning out of heap space for spark, and reduce the local memory usage. "
   ]
  },
  {
   "cell_type": "code",
   "execution_count": 86,
   "metadata": {
    "collapsed": true
   },
   "outputs": [],
   "source": [
    "def batch_index(index, size):\n",
    "    \"\"\"\n",
    "    When given the authors as index, the index will be split such that \n",
    "    all the reviews for the same author stay together.\n",
    "    \"\"\"\n",
    "    out = []\n",
    "    n = len(index)\n",
    "    print(n)\n",
    "    partition = int(n/size)\n",
    "    for i in range(partition):\n",
    "        from_ = i*size\n",
    "        if (i+1)*size - 1 > n:\n",
    "            end = n\n",
    "        else:\n",
    "            end = (i+1)*size\n",
    "        out.append(index[from_:end])\n",
    "    return out\n",
    "\n",
    "# no spark version\n",
    "def compute_by_batch(data, size, path, last_batch=0, override=False):\n",
    "    indices = batch_index(data.index.unique(), size)\n",
    "    indices = indices[last_batch:]\n",
    "        \n",
    "    for i, index in enumerate(indices):\n",
    "        subdata = data.loc[index]\n",
    "        print(\"Batch {}/{} of length {}\".format(last_batch+i+1, len(indices), len(subdata)))\n",
    "        sparkdf = sqlContext.createDataFrame(subdata.reset_index().astype(str))\n",
    "        result = weighted_scores_spark(sparkdf, 'authors').toPandas()\n",
    "        \n",
    "        if last_batch == 0 and i == 0 and override:\n",
    "            result.to_csv(path)\n",
    "        else:\n",
    "            result.to_csv(path, header=False,mode='a')\n",
    "            \n",
    "        sqlContext.clearCache()\n",
    "\n",
    "# spark version\n",
    "def compute_by_batch_ns(data, size, path, last_batch=0, override = False):\n",
    "    indices = batch_index(data.index.unique(), size)\n",
    "    indices = indices[last_batch:]\n",
    "        \n",
    "    for i, index in enumerate(indices):\n",
    "        subdata = data.loc[index]\n",
    "        print(\"Batch {}/{} of length {}\".format(last_batch+i+1, len(indices), len(subdata)))\n",
    "        result = weighted_scores(subdata.reset_index(), 'authors')\n",
    "        \n",
    "        if last_batch == 0 and i == 0 and override:\n",
    "            result.to_csv(path)\n",
    "        else:\n",
    "            result.to_csv(path, header=False,mode='a')\n",
    "\n",
    "# spark version for any function\n",
    "def compute_by_batch_gen(data, function, size, path, last_batch=0, override = False):\n",
    "    indices = batch_index(data.index.unique(), size)\n",
    "    indices = indices[last_batch:]\n",
    "        \n",
    "    for i, index in enumerate(indices):\n",
    "        subdata = data.loc[index]\n",
    "        print(\"Batch {}/{} of length {}\".format(last_batch+i+1, len(indices), len(subdata)))\n",
    "        sparkdf = sqlContext.createDataFrame(subdata.reset_index().astype(str))\n",
    "        result = function(sparkdf).toPandas()\n",
    "        \n",
    "        if last_batch == 0 and i == 0 and override:\n",
    "            result.to_csv(path)\n",
    "        else:\n",
    "            result.to_csv(path, header=False,mode='a')\n",
    "        sqlContext.clearCache()\n",
    "        \n",
    "weight_by_author = lambda x: weighted_scores_spark(x, 'authors')"
   ]
  },
  {
   "cell_type": "code",
   "execution_count": 87,
   "metadata": {
    "collapsed": true,
    "scrolled": true
   },
   "outputs": [],
   "source": [
    "if WRITE_SCORES:\n",
    "    compute_by_batch_gen(booksh_by_author.reset_index(), compute_review, 20, scores_books_overall)"
   ]
  },
  {
   "cell_type": "code",
   "execution_count": 88,
   "metadata": {
    "collapsed": true,
    "scrolled": true
   },
   "outputs": [],
   "source": [
    "if WRITE_SCORES:\n",
    "    compute_by_batch(ebooksh_by_author, 100, scores_ebooks_authors)"
   ]
  },
  {
   "cell_type": "code",
   "execution_count": 89,
   "metadata": {
    "collapsed": true,
    "scrolled": true
   },
   "outputs": [],
   "source": [
    "if WRITE_SCORES:\n",
    "    compute_by_batch_gen(ebooksh_by_author, compute_review, 200, scores_ebooks_overall_complete, override=True)"
   ]
  },
  {
   "cell_type": "code",
   "execution_count": 90,
   "metadata": {
    "collapsed": true,
    "scrolled": true
   },
   "outputs": [],
   "source": [
    "if WRITE_SCORES:\n",
    "    compute_by_batch_gen(booksh_by_author.reset_index(), compute_review, 20000, scores_books_overall_complete, override=True)"
   ]
  },
  {
   "cell_type": "markdown",
   "metadata": {},
   "source": [
    "### Sentiment analysis by stars on books"
   ]
  },
  {
   "cell_type": "code",
   "execution_count": 91,
   "metadata": {
    "collapsed": true
   },
   "outputs": [],
   "source": [
    "scores_books = pd.read_csv(scores_books_overall_complete)\n",
    "scores_ebooks = pd.read_csv(scores_ebooks_overall_complete)"
   ]
  },
  {
   "cell_type": "markdown",
   "metadata": {},
   "source": [
    "The first thing we can see is that the sentiment in the reviews seems to be consistent with the number of stars given in general. In average, the sentiment will be positive for a five stars review and negative for a single star review."
   ]
  },
  {
   "cell_type": "code",
   "execution_count": 92,
   "metadata": {
    "collapsed": false,
    "scrolled": true
   },
   "outputs": [
    {
     "data": {
      "text/html": [
       "<div>\n",
       "<style scoped>\n",
       "    .dataframe tbody tr th:only-of-type {\n",
       "        vertical-align: middle;\n",
       "    }\n",
       "\n",
       "    .dataframe tbody tr th {\n",
       "        vertical-align: top;\n",
       "    }\n",
       "\n",
       "    .dataframe thead th {\n",
       "        text-align: right;\n",
       "    }\n",
       "</style>\n",
       "<table border=\"1\" class=\"dataframe\">\n",
       "  <thead>\n",
       "    <tr style=\"text-align: right;\">\n",
       "      <th></th>\n",
       "      <th>sentiment_review</th>\n",
       "      <th>sentiment_summary</th>\n",
       "      <th>average</th>\n",
       "    </tr>\n",
       "    <tr>\n",
       "      <th>overall</th>\n",
       "      <th></th>\n",
       "      <th></th>\n",
       "      <th></th>\n",
       "    </tr>\n",
       "  </thead>\n",
       "  <tbody>\n",
       "    <tr>\n",
       "      <th>1</th>\n",
       "      <td>-0.002832</td>\n",
       "      <td>-0.132014</td>\n",
       "      <td>-0.067423</td>\n",
       "    </tr>\n",
       "    <tr>\n",
       "      <th>2</th>\n",
       "      <td>0.198339</td>\n",
       "      <td>-0.048902</td>\n",
       "      <td>0.074719</td>\n",
       "    </tr>\n",
       "    <tr>\n",
       "      <th>3</th>\n",
       "      <td>0.482409</td>\n",
       "      <td>0.134306</td>\n",
       "      <td>0.308357</td>\n",
       "    </tr>\n",
       "    <tr>\n",
       "      <th>4</th>\n",
       "      <td>0.683519</td>\n",
       "      <td>0.300712</td>\n",
       "      <td>0.492115</td>\n",
       "    </tr>\n",
       "    <tr>\n",
       "      <th>5</th>\n",
       "      <td>0.738013</td>\n",
       "      <td>0.352911</td>\n",
       "      <td>0.545462</td>\n",
       "    </tr>\n",
       "  </tbody>\n",
       "</table>\n",
       "</div>"
      ],
      "text/plain": [
       "         sentiment_review  sentiment_summary   average\n",
       "overall                                               \n",
       "1               -0.002832          -0.132014 -0.067423\n",
       "2                0.198339          -0.048902  0.074719\n",
       "3                0.482409           0.134306  0.308357\n",
       "4                0.683519           0.300712  0.492115\n",
       "5                0.738013           0.352911  0.545462"
      ]
     },
     "execution_count": 92,
     "metadata": {},
     "output_type": "execute_result"
    }
   ],
   "source": [
    "scores_books.groupby('overall').agg('mean').drop('Unnamed: 0', axis=1)"
   ]
  },
  {
   "cell_type": "code",
   "execution_count": 93,
   "metadata": {
    "collapsed": false
   },
   "outputs": [
    {
     "data": {
      "image/png": "[encoded data removed]",
      "text/plain": [
       "<matplotlib.figure.Figure at 0x179379828>"
      ]
     },
     "metadata": {},
     "output_type": "display_data"
    }
   ],
   "source": [
    "plt.hist(scores_books['overall'].values);"
   ]
  },
  {
   "cell_type": "code",
   "execution_count": 94,
   "metadata": {
    "collapsed": false
   },
   "outputs": [
    {
     "data": {
      "text/plain": [
       "mean    0.470493\n",
       "std     0.342689\n",
       "min    -0.980650\n",
       "25%     0.343550\n",
       "50%     0.498500\n",
       "75%     0.732900\n",
       "max     0.991400\n",
       "Name: average, dtype: float64"
      ]
     },
     "execution_count": 94,
     "metadata": {},
     "output_type": "execute_result"
    }
   ],
   "source": [
    "scores_books['average'].describe().drop('count')"
   ]
  },
  {
   "cell_type": "code",
   "execution_count": 95,
   "metadata": {
    "collapsed": false
   },
   "outputs": [
    {
     "data": {
      "text/plain": [
       "mean    4.302211\n",
       "std     1.007085\n",
       "min     1.000000\n",
       "25%     4.000000\n",
       "50%     5.000000\n",
       "75%     5.000000\n",
       "max     5.000000\n",
       "Name: overall, dtype: float64"
      ]
     },
     "execution_count": 95,
     "metadata": {},
     "output_type": "execute_result"
    }
   ],
   "source": [
    "scores_books['overall'].describe().drop('count')"
   ]
  },
  {
   "cell_type": "markdown",
   "metadata": {},
   "source": [
    "### Sentiment analysis by stars on ebooks"
   ]
  },
  {
   "cell_type": "code",
   "execution_count": 96,
   "metadata": {
    "collapsed": false
   },
   "outputs": [
    {
     "data": {
      "text/html": [
       "<div>\n",
       "<style scoped>\n",
       "    .dataframe tbody tr th:only-of-type {\n",
       "        vertical-align: middle;\n",
       "    }\n",
       "\n",
       "    .dataframe tbody tr th {\n",
       "        vertical-align: top;\n",
       "    }\n",
       "\n",
       "    .dataframe thead th {\n",
       "        text-align: right;\n",
       "    }\n",
       "</style>\n",
       "<table border=\"1\" class=\"dataframe\">\n",
       "  <thead>\n",
       "    <tr style=\"text-align: right;\">\n",
       "      <th></th>\n",
       "      <th>sentiment_review</th>\n",
       "      <th>sentiment_summary</th>\n",
       "      <th>average</th>\n",
       "    </tr>\n",
       "    <tr>\n",
       "      <th>overall</th>\n",
       "      <th></th>\n",
       "      <th></th>\n",
       "      <th></th>\n",
       "    </tr>\n",
       "  </thead>\n",
       "  <tbody>\n",
       "    <tr>\n",
       "      <th>1</th>\n",
       "      <td>-0.011494</td>\n",
       "      <td>-0.118171</td>\n",
       "      <td>-0.064833</td>\n",
       "    </tr>\n",
       "    <tr>\n",
       "      <th>2</th>\n",
       "      <td>0.195677</td>\n",
       "      <td>-0.029301</td>\n",
       "      <td>0.083188</td>\n",
       "    </tr>\n",
       "    <tr>\n",
       "      <th>3</th>\n",
       "      <td>0.511489</td>\n",
       "      <td>0.166082</td>\n",
       "      <td>0.338786</td>\n",
       "    </tr>\n",
       "    <tr>\n",
       "      <th>4</th>\n",
       "      <td>0.713133</td>\n",
       "      <td>0.312321</td>\n",
       "      <td>0.512727</td>\n",
       "    </tr>\n",
       "    <tr>\n",
       "      <th>5</th>\n",
       "      <td>0.760954</td>\n",
       "      <td>0.354309</td>\n",
       "      <td>0.557631</td>\n",
       "    </tr>\n",
       "  </tbody>\n",
       "</table>\n",
       "</div>"
      ],
      "text/plain": [
       "         sentiment_review  sentiment_summary   average\n",
       "overall                                               \n",
       "1               -0.011494          -0.118171 -0.064833\n",
       "2                0.195677          -0.029301  0.083188\n",
       "3                0.511489           0.166082  0.338786\n",
       "4                0.713133           0.312321  0.512727\n",
       "5                0.760954           0.354309  0.557631"
      ]
     },
     "execution_count": 96,
     "metadata": {},
     "output_type": "execute_result"
    }
   ],
   "source": [
    "scores_ebooks.groupby('overall').agg('mean').drop('Unnamed: 0', axis=1)"
   ]
  },
  {
   "cell_type": "code",
   "execution_count": 97,
   "metadata": {
    "collapsed": false,
    "scrolled": true
   },
   "outputs": [
    {
     "data": {
      "image/png": "[encoded data removed]",
      "text/plain": [
       "<matplotlib.figure.Figure at 0x1726882e8>"
      ]
     },
     "metadata": {},
     "output_type": "display_data"
    }
   ],
   "source": [
    "plt.hist(scores_ebooks['overall'].values);"
   ]
  },
  {
   "cell_type": "markdown",
   "metadata": {},
   "source": [
    "We can see on the bar plot that the distribution of the ratings is exactly the same for the kindle than for the books, eventhough the number of ratings is one order of magnitude higher for the books."
   ]
  },
  {
   "cell_type": "code",
   "execution_count": 98,
   "metadata": {
    "collapsed": false
   },
   "outputs": [
    {
     "data": {
      "text/plain": [
       "count    753709.000000\n",
       "mean          0.495760\n",
       "std           0.325775\n",
       "min          -0.980650\n",
       "25%           0.381200\n",
       "50%           0.537400\n",
       "75%           0.743700\n",
       "max           0.991400\n",
       "Name: average, dtype: float64"
      ]
     },
     "execution_count": 98,
     "metadata": {},
     "output_type": "execute_result"
    }
   ],
   "source": [
    "scores_ebooks['average'].describe()"
   ]
  },
  {
   "cell_type": "code",
   "execution_count": 99,
   "metadata": {
    "collapsed": false,
    "scrolled": false
   },
   "outputs": [
    {
     "data": {
      "text/plain": [
       "count    753709.000000\n",
       "mean          4.363537\n",
       "std           0.939802\n",
       "min           1.000000\n",
       "25%           4.000000\n",
       "50%           5.000000\n",
       "75%           5.000000\n",
       "max           5.000000\n",
       "Name: overall, dtype: float64"
      ]
     },
     "execution_count": 99,
     "metadata": {},
     "output_type": "execute_result"
    }
   ],
   "source": [
    "scores_ebooks['overall'].describe()"
   ]
  },
  {
   "cell_type": "markdown",
   "metadata": {},
   "source": [
    "We can observe from above that the majority of the reviewers give the highest rating possible with the median being at five stars, but when looking at the sentiment of the reviews the median corresponds to a semi-strongly positive sentiment. As a reminder the sentiment score varies between -1 (strongly negative) and +1 (strongly positive) with 0 being neutral. \n",
    "\n",
    "Our first intuition would be to say that reviewers tend to give the highest rating even when they don't really feel it. But we will discuss about it more in details in the analysis of the ratings throughout time."
   ]
  },
  {
   "cell_type": "markdown",
   "metadata": {},
   "source": [
    "## Evolution of review through time"
   ]
  },
  {
   "cell_type": "code",
   "execution_count": 100,
   "metadata": {
    "collapsed": false,
    "scrolled": true
   },
   "outputs": [
    {
     "name": "stdout",
     "output_type": "stream",
     "text": [
      "2721079\n",
      "772886\n"
     ]
    }
   ],
   "source": [
    "books_review_with_time = match_books_author_nolax.merge(scores_books, on=['reviewerID','asin'])\n",
    "ebooks_review_with_time = match_ebooks_author_nolax.merge(scores_ebooks, on=['reviewerID','asin'])\n",
    "\n",
    "#rescale the sentiment score to fit the interval [1, 5]\n",
    "books_review_with_time['rescaled_sentiment'] = books_review_with_time['average'].apply(lambda x: (x+1)*2+1)\n",
    "ebooks_review_with_time['rescaled_sentiment'] = ebooks_review_with_time['average'].apply(lambda x: (x+1)*2+1)\n",
    "\n",
    "books_review_with_time.drop('overall_y', axis=1, inplace=True)\n",
    "ebooks_review_with_time.drop('overall_y', axis=1, inplace=True)\n",
    "\n",
    "books_review_with_time.rename(columns={'overall_x': 'stars'}, inplace=True)\n",
    "ebooks_review_with_time.rename(columns={'overall_x': 'stars'}, inplace=True)\n",
    "\n",
    "books_review_by_year = books_review_with_time.groupby(books_review_with_time.reviewTime.dt.year).agg(['mean', 'count'])\n",
    "ebooks_review_by_year = ebooks_review_with_time.groupby(ebooks_review_with_time.reviewTime.dt.year).agg(['mean', 'count'])\n",
    "\n",
    "print(len(books_review_with_time))\n",
    "print(len(ebooks_review_with_time))"
   ]
  },
  {
   "cell_type": "code",
   "execution_count": 101,
   "metadata": {
    "collapsed": false,
    "scrolled": false
   },
   "outputs": [
    {
     "data": {
      "text/html": [
       "<div>\n",
       "<style scoped>\n",
       "    .dataframe tbody tr th:only-of-type {\n",
       "        vertical-align: middle;\n",
       "    }\n",
       "\n",
       "    .dataframe tbody tr th {\n",
       "        vertical-align: top;\n",
       "    }\n",
       "\n",
       "    .dataframe thead tr th {\n",
       "        text-align: left;\n",
       "    }\n",
       "\n",
       "    .dataframe thead tr:last-of-type th {\n",
       "        text-align: right;\n",
       "    }\n",
       "</style>\n",
       "<table border=\"1\" class=\"dataframe\">\n",
       "  <thead>\n",
       "    <tr>\n",
       "      <th></th>\n",
       "      <th colspan=\"2\" halign=\"left\">Unnamed: 0_x</th>\n",
       "      <th colspan=\"2\" halign=\"left\">stars</th>\n",
       "      <th colspan=\"2\" halign=\"left\">Unnamed: 0_y</th>\n",
       "      <th colspan=\"2\" halign=\"left\">sentiment_review</th>\n",
       "      <th colspan=\"2\" halign=\"left\">sentiment_summary</th>\n",
       "      <th colspan=\"2\" halign=\"left\">average</th>\n",
       "      <th colspan=\"2\" halign=\"left\">rescaled_sentiment</th>\n",
       "    </tr>\n",
       "    <tr>\n",
       "      <th></th>\n",
       "      <th>mean</th>\n",
       "      <th>count</th>\n",
       "      <th>mean</th>\n",
       "      <th>count</th>\n",
       "      <th>mean</th>\n",
       "      <th>count</th>\n",
       "      <th>mean</th>\n",
       "      <th>count</th>\n",
       "      <th>mean</th>\n",
       "      <th>count</th>\n",
       "      <th>mean</th>\n",
       "      <th>count</th>\n",
       "      <th>mean</th>\n",
       "      <th>count</th>\n",
       "    </tr>\n",
       "    <tr>\n",
       "      <th>reviewTime</th>\n",
       "      <th></th>\n",
       "      <th></th>\n",
       "      <th></th>\n",
       "      <th></th>\n",
       "      <th></th>\n",
       "      <th></th>\n",
       "      <th></th>\n",
       "      <th></th>\n",
       "      <th></th>\n",
       "      <th></th>\n",
       "      <th></th>\n",
       "      <th></th>\n",
       "      <th></th>\n",
       "      <th></th>\n",
       "    </tr>\n",
       "  </thead>\n",
       "  <tbody>\n",
       "    <tr>\n",
       "      <th>1996</th>\n",
       "      <td>1.722880e+06</td>\n",
       "      <td>4</td>\n",
       "      <td>5.000000</td>\n",
       "      <td>4</td>\n",
       "      <td>5362.750000</td>\n",
       "      <td>4</td>\n",
       "      <td>0.381100</td>\n",
       "      <td>4</td>\n",
       "      <td>0.128800</td>\n",
       "      <td>4</td>\n",
       "      <td>0.254950</td>\n",
       "      <td>4</td>\n",
       "      <td>3.509900</td>\n",
       "      <td>4</td>\n",
       "    </tr>\n",
       "    <tr>\n",
       "      <th>1997</th>\n",
       "      <td>2.021090e+06</td>\n",
       "      <td>240</td>\n",
       "      <td>4.116667</td>\n",
       "      <td>240</td>\n",
       "      <td>9801.516667</td>\n",
       "      <td>240</td>\n",
       "      <td>0.457044</td>\n",
       "      <td>240</td>\n",
       "      <td>0.225124</td>\n",
       "      <td>240</td>\n",
       "      <td>0.341084</td>\n",
       "      <td>240</td>\n",
       "      <td>3.682168</td>\n",
       "      <td>240</td>\n",
       "    </tr>\n",
       "    <tr>\n",
       "      <th>1998</th>\n",
       "      <td>2.009875e+06</td>\n",
       "      <td>1168</td>\n",
       "      <td>4.172945</td>\n",
       "      <td>1168</td>\n",
       "      <td>9967.190068</td>\n",
       "      <td>1168</td>\n",
       "      <td>0.580219</td>\n",
       "      <td>1168</td>\n",
       "      <td>0.260607</td>\n",
       "      <td>1168</td>\n",
       "      <td>0.420413</td>\n",
       "      <td>1168</td>\n",
       "      <td>3.840825</td>\n",
       "      <td>1168</td>\n",
       "    </tr>\n",
       "    <tr>\n",
       "      <th>1999</th>\n",
       "      <td>2.156279e+06</td>\n",
       "      <td>2245</td>\n",
       "      <td>4.142539</td>\n",
       "      <td>2245</td>\n",
       "      <td>10015.138976</td>\n",
       "      <td>2245</td>\n",
       "      <td>0.593628</td>\n",
       "      <td>2245</td>\n",
       "      <td>0.255358</td>\n",
       "      <td>2245</td>\n",
       "      <td>0.424493</td>\n",
       "      <td>2245</td>\n",
       "      <td>3.848986</td>\n",
       "      <td>2245</td>\n",
       "    </tr>\n",
       "    <tr>\n",
       "      <th>2000</th>\n",
       "      <td>2.206057e+06</td>\n",
       "      <td>10205</td>\n",
       "      <td>4.197354</td>\n",
       "      <td>10205</td>\n",
       "      <td>9653.945517</td>\n",
       "      <td>10205</td>\n",
       "      <td>0.603249</td>\n",
       "      <td>10205</td>\n",
       "      <td>0.226740</td>\n",
       "      <td>10205</td>\n",
       "      <td>0.414994</td>\n",
       "      <td>10205</td>\n",
       "      <td>3.829989</td>\n",
       "      <td>10205</td>\n",
       "    </tr>\n",
       "    <tr>\n",
       "      <th>2001</th>\n",
       "      <td>2.211667e+06</td>\n",
       "      <td>10997</td>\n",
       "      <td>4.179504</td>\n",
       "      <td>10997</td>\n",
       "      <td>9491.880695</td>\n",
       "      <td>10997</td>\n",
       "      <td>0.574300</td>\n",
       "      <td>10997</td>\n",
       "      <td>0.228629</td>\n",
       "      <td>10997</td>\n",
       "      <td>0.401465</td>\n",
       "      <td>10997</td>\n",
       "      <td>3.802929</td>\n",
       "      <td>10997</td>\n",
       "    </tr>\n",
       "    <tr>\n",
       "      <th>2002</th>\n",
       "      <td>2.247668e+06</td>\n",
       "      <td>11938</td>\n",
       "      <td>4.129419</td>\n",
       "      <td>11938</td>\n",
       "      <td>9269.627660</td>\n",
       "      <td>11938</td>\n",
       "      <td>0.579154</td>\n",
       "      <td>11938</td>\n",
       "      <td>0.214851</td>\n",
       "      <td>11938</td>\n",
       "      <td>0.397003</td>\n",
       "      <td>11938</td>\n",
       "      <td>3.794005</td>\n",
       "      <td>11938</td>\n",
       "    </tr>\n",
       "    <tr>\n",
       "      <th>2003</th>\n",
       "      <td>2.395101e+06</td>\n",
       "      <td>12026</td>\n",
       "      <td>4.093464</td>\n",
       "      <td>12026</td>\n",
       "      <td>9274.650507</td>\n",
       "      <td>12026</td>\n",
       "      <td>0.565297</td>\n",
       "      <td>12026</td>\n",
       "      <td>0.212165</td>\n",
       "      <td>12026</td>\n",
       "      <td>0.388731</td>\n",
       "      <td>12026</td>\n",
       "      <td>3.777462</td>\n",
       "      <td>12026</td>\n",
       "    </tr>\n",
       "    <tr>\n",
       "      <th>2004</th>\n",
       "      <td>2.369219e+06</td>\n",
       "      <td>14814</td>\n",
       "      <td>4.052180</td>\n",
       "      <td>14814</td>\n",
       "      <td>9395.856082</td>\n",
       "      <td>14814</td>\n",
       "      <td>0.565124</td>\n",
       "      <td>14814</td>\n",
       "      <td>0.212579</td>\n",
       "      <td>14814</td>\n",
       "      <td>0.388851</td>\n",
       "      <td>14814</td>\n",
       "      <td>3.777702</td>\n",
       "      <td>14814</td>\n",
       "    </tr>\n",
       "    <tr>\n",
       "      <th>2005</th>\n",
       "      <td>2.440218e+06</td>\n",
       "      <td>19308</td>\n",
       "      <td>4.022012</td>\n",
       "      <td>19308</td>\n",
       "      <td>9281.246944</td>\n",
       "      <td>19308</td>\n",
       "      <td>0.551725</td>\n",
       "      <td>19308</td>\n",
       "      <td>0.214040</td>\n",
       "      <td>19308</td>\n",
       "      <td>0.382882</td>\n",
       "      <td>19308</td>\n",
       "      <td>3.765764</td>\n",
       "      <td>19308</td>\n",
       "    </tr>\n",
       "    <tr>\n",
       "      <th>2006</th>\n",
       "      <td>2.569419e+06</td>\n",
       "      <td>23723</td>\n",
       "      <td>4.046326</td>\n",
       "      <td>23723</td>\n",
       "      <td>9482.142014</td>\n",
       "      <td>23723</td>\n",
       "      <td>0.557192</td>\n",
       "      <td>23723</td>\n",
       "      <td>0.217706</td>\n",
       "      <td>23723</td>\n",
       "      <td>0.387449</td>\n",
       "      <td>23723</td>\n",
       "      <td>3.774898</td>\n",
       "      <td>23723</td>\n",
       "    </tr>\n",
       "    <tr>\n",
       "      <th>2007</th>\n",
       "      <td>2.647974e+06</td>\n",
       "      <td>29385</td>\n",
       "      <td>4.079701</td>\n",
       "      <td>29385</td>\n",
       "      <td>9991.213136</td>\n",
       "      <td>29385</td>\n",
       "      <td>0.569317</td>\n",
       "      <td>29385</td>\n",
       "      <td>0.216623</td>\n",
       "      <td>29385</td>\n",
       "      <td>0.392970</td>\n",
       "      <td>29385</td>\n",
       "      <td>3.785940</td>\n",
       "      <td>29385</td>\n",
       "    </tr>\n",
       "    <tr>\n",
       "      <th>2008</th>\n",
       "      <td>2.752900e+06</td>\n",
       "      <td>35416</td>\n",
       "      <td>4.056133</td>\n",
       "      <td>35416</td>\n",
       "      <td>9881.457307</td>\n",
       "      <td>35416</td>\n",
       "      <td>0.584309</td>\n",
       "      <td>35416</td>\n",
       "      <td>0.217701</td>\n",
       "      <td>35416</td>\n",
       "      <td>0.401005</td>\n",
       "      <td>35416</td>\n",
       "      <td>3.802010</td>\n",
       "      <td>35416</td>\n",
       "    </tr>\n",
       "    <tr>\n",
       "      <th>2009</th>\n",
       "      <td>2.818589e+06</td>\n",
       "      <td>46549</td>\n",
       "      <td>4.033878</td>\n",
       "      <td>46549</td>\n",
       "      <td>10054.791209</td>\n",
       "      <td>46549</td>\n",
       "      <td>0.584545</td>\n",
       "      <td>46549</td>\n",
       "      <td>0.218758</td>\n",
       "      <td>46549</td>\n",
       "      <td>0.401651</td>\n",
       "      <td>46549</td>\n",
       "      <td>3.803303</td>\n",
       "      <td>46549</td>\n",
       "    </tr>\n",
       "    <tr>\n",
       "      <th>2010</th>\n",
       "      <td>3.013680e+06</td>\n",
       "      <td>61546</td>\n",
       "      <td>4.055942</td>\n",
       "      <td>61546</td>\n",
       "      <td>10103.106587</td>\n",
       "      <td>61546</td>\n",
       "      <td>0.612590</td>\n",
       "      <td>61546</td>\n",
       "      <td>0.229510</td>\n",
       "      <td>61546</td>\n",
       "      <td>0.421050</td>\n",
       "      <td>61546</td>\n",
       "      <td>3.842099</td>\n",
       "      <td>61546</td>\n",
       "    </tr>\n",
       "    <tr>\n",
       "      <th>2011</th>\n",
       "      <td>3.539326e+06</td>\n",
       "      <td>107363</td>\n",
       "      <td>4.123693</td>\n",
       "      <td>107363</td>\n",
       "      <td>10115.173849</td>\n",
       "      <td>107363</td>\n",
       "      <td>0.646360</td>\n",
       "      <td>107363</td>\n",
       "      <td>0.255147</td>\n",
       "      <td>107363</td>\n",
       "      <td>0.450754</td>\n",
       "      <td>107363</td>\n",
       "      <td>3.901507</td>\n",
       "      <td>107363</td>\n",
       "    </tr>\n",
       "    <tr>\n",
       "      <th>2012</th>\n",
       "      <td>5.123990e+06</td>\n",
       "      <td>354124</td>\n",
       "      <td>4.269759</td>\n",
       "      <td>354124</td>\n",
       "      <td>10034.769033</td>\n",
       "      <td>354124</td>\n",
       "      <td>0.674738</td>\n",
       "      <td>354124</td>\n",
       "      <td>0.280405</td>\n",
       "      <td>354124</td>\n",
       "      <td>0.477571</td>\n",
       "      <td>354124</td>\n",
       "      <td>3.955143</td>\n",
       "      <td>354124</td>\n",
       "    </tr>\n",
       "    <tr>\n",
       "      <th>2013</th>\n",
       "      <td>5.721167e+06</td>\n",
       "      <td>1137102</td>\n",
       "      <td>4.329759</td>\n",
       "      <td>1137102</td>\n",
       "      <td>9985.274391</td>\n",
       "      <td>1137102</td>\n",
       "      <td>0.659869</td>\n",
       "      <td>1137102</td>\n",
       "      <td>0.295918</td>\n",
       "      <td>1137102</td>\n",
       "      <td>0.477893</td>\n",
       "      <td>1137102</td>\n",
       "      <td>3.955787</td>\n",
       "      <td>1137102</td>\n",
       "    </tr>\n",
       "    <tr>\n",
       "      <th>2014</th>\n",
       "      <td>6.467863e+06</td>\n",
       "      <td>842926</td>\n",
       "      <td>4.373206</td>\n",
       "      <td>842926</td>\n",
       "      <td>9982.112563</td>\n",
       "      <td>842926</td>\n",
       "      <td>0.660612</td>\n",
       "      <td>842926</td>\n",
       "      <td>0.302200</td>\n",
       "      <td>842926</td>\n",
       "      <td>0.481406</td>\n",
       "      <td>842926</td>\n",
       "      <td>3.962812</td>\n",
       "      <td>842926</td>\n",
       "    </tr>\n",
       "  </tbody>\n",
       "</table>\n",
       "</div>"
      ],
      "text/plain": [
       "            Unnamed: 0_x              stars           Unnamed: 0_y           \\\n",
       "                    mean    count      mean    count          mean    count   \n",
       "reviewTime                                                                    \n",
       "1996        1.722880e+06        4  5.000000        4   5362.750000        4   \n",
       "1997        2.021090e+06      240  4.116667      240   9801.516667      240   \n",
       "1998        2.009875e+06     1168  4.172945     1168   9967.190068     1168   \n",
       "1999        2.156279e+06     2245  4.142539     2245  10015.138976     2245   \n",
       "2000        2.206057e+06    10205  4.197354    10205   9653.945517    10205   \n",
       "2001        2.211667e+06    10997  4.179504    10997   9491.880695    10997   \n",
       "2002        2.247668e+06    11938  4.129419    11938   9269.627660    11938   \n",
       "2003        2.395101e+06    12026  4.093464    12026   9274.650507    12026   \n",
       "2004        2.369219e+06    14814  4.052180    14814   9395.856082    14814   \n",
       "2005        2.440218e+06    19308  4.022012    19308   9281.246944    19308   \n",
       "2006        2.569419e+06    23723  4.046326    23723   9482.142014    23723   \n",
       "2007        2.647974e+06    29385  4.079701    29385   9991.213136    29385   \n",
       "2008        2.752900e+06    35416  4.056133    35416   9881.457307    35416   \n",
       "2009        2.818589e+06    46549  4.033878    46549  10054.791209    46549   \n",
       "2010        3.013680e+06    61546  4.055942    61546  10103.106587    61546   \n",
       "2011        3.539326e+06   107363  4.123693   107363  10115.173849   107363   \n",
       "2012        5.123990e+06   354124  4.269759   354124  10034.769033   354124   \n",
       "2013        5.721167e+06  1137102  4.329759  1137102   9985.274391  1137102   \n",
       "2014        6.467863e+06   842926  4.373206   842926   9982.112563   842926   \n",
       "\n",
       "           sentiment_review          sentiment_summary            average  \\\n",
       "                       mean    count              mean    count      mean   \n",
       "reviewTime                                                                  \n",
       "1996               0.381100        4          0.128800        4  0.254950   \n",
       "1997               0.457044      240          0.225124      240  0.341084   \n",
       "1998               0.580219     1168          0.260607     1168  0.420413   \n",
       "1999               0.593628     2245          0.255358     2245  0.424493   \n",
       "2000               0.603249    10205          0.226740    10205  0.414994   \n",
       "2001               0.574300    10997          0.228629    10997  0.401465   \n",
       "2002               0.579154    11938          0.214851    11938  0.397003   \n",
       "2003               0.565297    12026          0.212165    12026  0.388731   \n",
       "2004               0.565124    14814          0.212579    14814  0.388851   \n",
       "2005               0.551725    19308          0.214040    19308  0.382882   \n",
       "2006               0.557192    23723          0.217706    23723  0.387449   \n",
       "2007               0.569317    29385          0.216623    29385  0.392970   \n",
       "2008               0.584309    35416          0.217701    35416  0.401005   \n",
       "2009               0.584545    46549          0.218758    46549  0.401651   \n",
       "2010               0.612590    61546          0.229510    61546  0.421050   \n",
       "2011               0.646360   107363          0.255147   107363  0.450754   \n",
       "2012               0.674738   354124          0.280405   354124  0.477571   \n",
       "2013               0.659869  1137102          0.295918  1137102  0.477893   \n",
       "2014               0.660612   842926          0.302200   842926  0.481406   \n",
       "\n",
       "                    rescaled_sentiment           \n",
       "              count               mean    count  \n",
       "reviewTime                                       \n",
       "1996              4           3.509900        4  \n",
       "1997            240           3.682168      240  \n",
       "1998           1168           3.840825     1168  \n",
       "1999           2245           3.848986     2245  \n",
       "2000          10205           3.829989    10205  \n",
       "2001          10997           3.802929    10997  \n",
       "2002          11938           3.794005    11938  \n",
       "2003          12026           3.777462    12026  \n",
       "2004          14814           3.777702    14814  \n",
       "2005          19308           3.765764    19308  \n",
       "2006          23723           3.774898    23723  \n",
       "2007          29385           3.785940    29385  \n",
       "2008          35416           3.802010    35416  \n",
       "2009          46549           3.803303    46549  \n",
       "2010          61546           3.842099    61546  \n",
       "2011         107363           3.901507   107363  \n",
       "2012         354124           3.955143   354124  \n",
       "2013        1137102           3.955787  1137102  \n",
       "2014         842926           3.962812   842926  "
      ]
     },
     "execution_count": 101,
     "metadata": {},
     "output_type": "execute_result"
    }
   ],
   "source": [
    "books_review_by_year"
   ]
  },
  {
   "cell_type": "code",
   "execution_count": 102,
   "metadata": {
    "collapsed": false,
    "scrolled": false
   },
   "outputs": [
    {
     "data": {
      "text/html": [
       "<div>\n",
       "<style scoped>\n",
       "    .dataframe tbody tr th:only-of-type {\n",
       "        vertical-align: middle;\n",
       "    }\n",
       "\n",
       "    .dataframe tbody tr th {\n",
       "        vertical-align: top;\n",
       "    }\n",
       "\n",
       "    .dataframe thead tr th {\n",
       "        text-align: left;\n",
       "    }\n",
       "\n",
       "    .dataframe thead tr:last-of-type th {\n",
       "        text-align: right;\n",
       "    }\n",
       "</style>\n",
       "<table border=\"1\" class=\"dataframe\">\n",
       "  <thead>\n",
       "    <tr>\n",
       "      <th></th>\n",
       "      <th colspan=\"2\" halign=\"left\">Unnamed: 0_x</th>\n",
       "      <th colspan=\"2\" halign=\"left\">stars</th>\n",
       "      <th colspan=\"2\" halign=\"left\">Unnamed: 0_y</th>\n",
       "      <th colspan=\"2\" halign=\"left\">sentiment_review</th>\n",
       "      <th colspan=\"2\" halign=\"left\">sentiment_summary</th>\n",
       "      <th colspan=\"2\" halign=\"left\">average</th>\n",
       "      <th colspan=\"2\" halign=\"left\">rescaled_sentiment</th>\n",
       "    </tr>\n",
       "    <tr>\n",
       "      <th></th>\n",
       "      <th>mean</th>\n",
       "      <th>count</th>\n",
       "      <th>mean</th>\n",
       "      <th>count</th>\n",
       "      <th>mean</th>\n",
       "      <th>count</th>\n",
       "      <th>mean</th>\n",
       "      <th>count</th>\n",
       "      <th>mean</th>\n",
       "      <th>count</th>\n",
       "      <th>mean</th>\n",
       "      <th>count</th>\n",
       "      <th>mean</th>\n",
       "      <th>count</th>\n",
       "    </tr>\n",
       "    <tr>\n",
       "      <th>reviewTime</th>\n",
       "      <th></th>\n",
       "      <th></th>\n",
       "      <th></th>\n",
       "      <th></th>\n",
       "      <th></th>\n",
       "      <th></th>\n",
       "      <th></th>\n",
       "      <th></th>\n",
       "      <th></th>\n",
       "      <th></th>\n",
       "      <th></th>\n",
       "      <th></th>\n",
       "      <th></th>\n",
       "      <th></th>\n",
       "    </tr>\n",
       "  </thead>\n",
       "  <tbody>\n",
       "    <tr>\n",
       "      <th>2000</th>\n",
       "      <td>240300.285714</td>\n",
       "      <td>7</td>\n",
       "      <td>4.714286</td>\n",
       "      <td>7</td>\n",
       "      <td>5639.428571</td>\n",
       "      <td>7</td>\n",
       "      <td>0.710943</td>\n",
       "      <td>7</td>\n",
       "      <td>0.632729</td>\n",
       "      <td>7</td>\n",
       "      <td>0.671836</td>\n",
       "      <td>7</td>\n",
       "      <td>4.343671</td>\n",
       "      <td>7</td>\n",
       "    </tr>\n",
       "    <tr>\n",
       "      <th>2001</th>\n",
       "      <td>70822.500000</td>\n",
       "      <td>2</td>\n",
       "      <td>5.000000</td>\n",
       "      <td>2</td>\n",
       "      <td>2455.500000</td>\n",
       "      <td>2</td>\n",
       "      <td>-0.037500</td>\n",
       "      <td>2</td>\n",
       "      <td>0.246950</td>\n",
       "      <td>2</td>\n",
       "      <td>0.104725</td>\n",
       "      <td>2</td>\n",
       "      <td>3.209450</td>\n",
       "      <td>2</td>\n",
       "    </tr>\n",
       "    <tr>\n",
       "      <th>2002</th>\n",
       "      <td>755.000000</td>\n",
       "      <td>1</td>\n",
       "      <td>5.000000</td>\n",
       "      <td>1</td>\n",
       "      <td>1229.000000</td>\n",
       "      <td>1</td>\n",
       "      <td>0.926100</td>\n",
       "      <td>1</td>\n",
       "      <td>0.718400</td>\n",
       "      <td>1</td>\n",
       "      <td>0.822250</td>\n",
       "      <td>1</td>\n",
       "      <td>4.644500</td>\n",
       "      <td>1</td>\n",
       "    </tr>\n",
       "    <tr>\n",
       "      <th>2003</th>\n",
       "      <td>793935.500000</td>\n",
       "      <td>2</td>\n",
       "      <td>5.000000</td>\n",
       "      <td>2</td>\n",
       "      <td>5381.500000</td>\n",
       "      <td>2</td>\n",
       "      <td>0.016000</td>\n",
       "      <td>2</td>\n",
       "      <td>0.278700</td>\n",
       "      <td>2</td>\n",
       "      <td>0.147350</td>\n",
       "      <td>2</td>\n",
       "      <td>3.294700</td>\n",
       "      <td>2</td>\n",
       "    </tr>\n",
       "    <tr>\n",
       "      <th>2004</th>\n",
       "      <td>246122.125000</td>\n",
       "      <td>8</td>\n",
       "      <td>4.375000</td>\n",
       "      <td>8</td>\n",
       "      <td>4320.750000</td>\n",
       "      <td>8</td>\n",
       "      <td>0.804375</td>\n",
       "      <td>8</td>\n",
       "      <td>0.234038</td>\n",
       "      <td>8</td>\n",
       "      <td>0.519206</td>\n",
       "      <td>8</td>\n",
       "      <td>4.038412</td>\n",
       "      <td>8</td>\n",
       "    </tr>\n",
       "    <tr>\n",
       "      <th>2005</th>\n",
       "      <td>330697.380952</td>\n",
       "      <td>21</td>\n",
       "      <td>4.666667</td>\n",
       "      <td>21</td>\n",
       "      <td>3941.380952</td>\n",
       "      <td>21</td>\n",
       "      <td>0.704381</td>\n",
       "      <td>21</td>\n",
       "      <td>0.223538</td>\n",
       "      <td>21</td>\n",
       "      <td>0.463960</td>\n",
       "      <td>21</td>\n",
       "      <td>3.927919</td>\n",
       "      <td>21</td>\n",
       "    </tr>\n",
       "    <tr>\n",
       "      <th>2006</th>\n",
       "      <td>314262.812500</td>\n",
       "      <td>16</td>\n",
       "      <td>4.437500</td>\n",
       "      <td>16</td>\n",
       "      <td>4298.750000</td>\n",
       "      <td>16</td>\n",
       "      <td>0.348287</td>\n",
       "      <td>16</td>\n",
       "      <td>0.461738</td>\n",
       "      <td>16</td>\n",
       "      <td>0.405012</td>\n",
       "      <td>16</td>\n",
       "      <td>3.810025</td>\n",
       "      <td>16</td>\n",
       "    </tr>\n",
       "    <tr>\n",
       "      <th>2007</th>\n",
       "      <td>263150.142857</td>\n",
       "      <td>21</td>\n",
       "      <td>4.428571</td>\n",
       "      <td>21</td>\n",
       "      <td>4122.380952</td>\n",
       "      <td>21</td>\n",
       "      <td>0.626981</td>\n",
       "      <td>21</td>\n",
       "      <td>0.117433</td>\n",
       "      <td>21</td>\n",
       "      <td>0.372207</td>\n",
       "      <td>21</td>\n",
       "      <td>3.744414</td>\n",
       "      <td>21</td>\n",
       "    </tr>\n",
       "    <tr>\n",
       "      <th>2008</th>\n",
       "      <td>214243.472222</td>\n",
       "      <td>36</td>\n",
       "      <td>4.500000</td>\n",
       "      <td>36</td>\n",
       "      <td>7240.472222</td>\n",
       "      <td>36</td>\n",
       "      <td>0.772014</td>\n",
       "      <td>36</td>\n",
       "      <td>0.118592</td>\n",
       "      <td>36</td>\n",
       "      <td>0.445303</td>\n",
       "      <td>36</td>\n",
       "      <td>3.890606</td>\n",
       "      <td>36</td>\n",
       "    </tr>\n",
       "    <tr>\n",
       "      <th>2009</th>\n",
       "      <td>27024.541935</td>\n",
       "      <td>155</td>\n",
       "      <td>4.148387</td>\n",
       "      <td>155</td>\n",
       "      <td>5468.496774</td>\n",
       "      <td>155</td>\n",
       "      <td>0.644612</td>\n",
       "      <td>155</td>\n",
       "      <td>0.256054</td>\n",
       "      <td>155</td>\n",
       "      <td>0.450333</td>\n",
       "      <td>155</td>\n",
       "      <td>3.900666</td>\n",
       "      <td>155</td>\n",
       "    </tr>\n",
       "    <tr>\n",
       "      <th>2010</th>\n",
       "      <td>26800.502268</td>\n",
       "      <td>1543</td>\n",
       "      <td>4.379132</td>\n",
       "      <td>1543</td>\n",
       "      <td>7731.836682</td>\n",
       "      <td>1543</td>\n",
       "      <td>0.721097</td>\n",
       "      <td>1543</td>\n",
       "      <td>0.290630</td>\n",
       "      <td>1543</td>\n",
       "      <td>0.505863</td>\n",
       "      <td>1543</td>\n",
       "      <td>4.011727</td>\n",
       "      <td>1543</td>\n",
       "    </tr>\n",
       "    <tr>\n",
       "      <th>2011</th>\n",
       "      <td>74618.055722</td>\n",
       "      <td>15039</td>\n",
       "      <td>4.242436</td>\n",
       "      <td>15039</td>\n",
       "      <td>7275.641931</td>\n",
       "      <td>15039</td>\n",
       "      <td>0.681357</td>\n",
       "      <td>15039</td>\n",
       "      <td>0.283024</td>\n",
       "      <td>15039</td>\n",
       "      <td>0.482191</td>\n",
       "      <td>15039</td>\n",
       "      <td>3.964382</td>\n",
       "      <td>15039</td>\n",
       "    </tr>\n",
       "    <tr>\n",
       "      <th>2012</th>\n",
       "      <td>211115.861228</td>\n",
       "      <td>94241</td>\n",
       "      <td>4.314470</td>\n",
       "      <td>94241</td>\n",
       "      <td>5407.068855</td>\n",
       "      <td>94241</td>\n",
       "      <td>0.699588</td>\n",
       "      <td>94241</td>\n",
       "      <td>0.292200</td>\n",
       "      <td>94241</td>\n",
       "      <td>0.495894</td>\n",
       "      <td>94241</td>\n",
       "      <td>3.991788</td>\n",
       "      <td>94241</td>\n",
       "    </tr>\n",
       "    <tr>\n",
       "      <th>2013</th>\n",
       "      <td>421794.133567</td>\n",
       "      <td>347450</td>\n",
       "      <td>4.327339</td>\n",
       "      <td>347450</td>\n",
       "      <td>4493.333729</td>\n",
       "      <td>347450</td>\n",
       "      <td>0.684391</td>\n",
       "      <td>347450</td>\n",
       "      <td>0.298575</td>\n",
       "      <td>347450</td>\n",
       "      <td>0.491483</td>\n",
       "      <td>347450</td>\n",
       "      <td>3.982967</td>\n",
       "      <td>347450</td>\n",
       "    </tr>\n",
       "    <tr>\n",
       "      <th>2014</th>\n",
       "      <td>668049.460429</td>\n",
       "      <td>314344</td>\n",
       "      <td>4.401865</td>\n",
       "      <td>314344</td>\n",
       "      <td>3884.568657</td>\n",
       "      <td>314344</td>\n",
       "      <td>0.688991</td>\n",
       "      <td>314344</td>\n",
       "      <td>0.308706</td>\n",
       "      <td>314344</td>\n",
       "      <td>0.498849</td>\n",
       "      <td>314344</td>\n",
       "      <td>3.997698</td>\n",
       "      <td>314344</td>\n",
       "    </tr>\n",
       "  </tbody>\n",
       "</table>\n",
       "</div>"
      ],
      "text/plain": [
       "             Unnamed: 0_x             stars         Unnamed: 0_y          \\\n",
       "                     mean   count      mean   count         mean   count   \n",
       "reviewTime                                                                 \n",
       "2000        240300.285714       7  4.714286       7  5639.428571       7   \n",
       "2001         70822.500000       2  5.000000       2  2455.500000       2   \n",
       "2002           755.000000       1  5.000000       1  1229.000000       1   \n",
       "2003        793935.500000       2  5.000000       2  5381.500000       2   \n",
       "2004        246122.125000       8  4.375000       8  4320.750000       8   \n",
       "2005        330697.380952      21  4.666667      21  3941.380952      21   \n",
       "2006        314262.812500      16  4.437500      16  4298.750000      16   \n",
       "2007        263150.142857      21  4.428571      21  4122.380952      21   \n",
       "2008        214243.472222      36  4.500000      36  7240.472222      36   \n",
       "2009         27024.541935     155  4.148387     155  5468.496774     155   \n",
       "2010         26800.502268    1543  4.379132    1543  7731.836682    1543   \n",
       "2011         74618.055722   15039  4.242436   15039  7275.641931   15039   \n",
       "2012        211115.861228   94241  4.314470   94241  5407.068855   94241   \n",
       "2013        421794.133567  347450  4.327339  347450  4493.333729  347450   \n",
       "2014        668049.460429  314344  4.401865  314344  3884.568657  314344   \n",
       "\n",
       "           sentiment_review         sentiment_summary           average  \\\n",
       "                       mean   count              mean   count      mean   \n",
       "reviewTime                                                                \n",
       "2000               0.710943       7          0.632729       7  0.671836   \n",
       "2001              -0.037500       2          0.246950       2  0.104725   \n",
       "2002               0.926100       1          0.718400       1  0.822250   \n",
       "2003               0.016000       2          0.278700       2  0.147350   \n",
       "2004               0.804375       8          0.234038       8  0.519206   \n",
       "2005               0.704381      21          0.223538      21  0.463960   \n",
       "2006               0.348287      16          0.461738      16  0.405012   \n",
       "2007               0.626981      21          0.117433      21  0.372207   \n",
       "2008               0.772014      36          0.118592      36  0.445303   \n",
       "2009               0.644612     155          0.256054     155  0.450333   \n",
       "2010               0.721097    1543          0.290630    1543  0.505863   \n",
       "2011               0.681357   15039          0.283024   15039  0.482191   \n",
       "2012               0.699588   94241          0.292200   94241  0.495894   \n",
       "2013               0.684391  347450          0.298575  347450  0.491483   \n",
       "2014               0.688991  314344          0.308706  314344  0.498849   \n",
       "\n",
       "                   rescaled_sentiment          \n",
       "             count               mean   count  \n",
       "reviewTime                                     \n",
       "2000             7           4.343671       7  \n",
       "2001             2           3.209450       2  \n",
       "2002             1           4.644500       1  \n",
       "2003             2           3.294700       2  \n",
       "2004             8           4.038412       8  \n",
       "2005            21           3.927919      21  \n",
       "2006            16           3.810025      16  \n",
       "2007            21           3.744414      21  \n",
       "2008            36           3.890606      36  \n",
       "2009           155           3.900666     155  \n",
       "2010          1543           4.011727    1543  \n",
       "2011         15039           3.964382   15039  \n",
       "2012         94241           3.991788   94241  \n",
       "2013        347450           3.982967  347450  \n",
       "2014        314344           3.997698  314344  "
      ]
     },
     "execution_count": 102,
     "metadata": {},
     "output_type": "execute_result"
    }
   ],
   "source": [
    "ebooks_review_by_year"
   ]
  },
  {
   "cell_type": "code",
   "execution_count": 103,
   "metadata": {
    "collapsed": true
   },
   "outputs": [],
   "source": [
    "books_review_timeline_month_mean = books_review_with_time.groupby([\n",
    "    books_review_with_time.reviewTime.dt.year,\n",
    "    books_review_with_time.reviewTime.dt.month]).agg(['mean'])\n",
    "\n",
    "books_review_timeline_month_cnt= books_review_with_time.groupby([\n",
    "    books_review_with_time.reviewTime.dt.year,\n",
    "    books_review_with_time.reviewTime.dt.month]).agg(['count'])"
   ]
  },
  {
   "cell_type": "markdown",
   "metadata": {},
   "source": [
    "#### Evolution of book reviews"
   ]
  },
  {
   "cell_type": "code",
   "execution_count": 104,
   "metadata": {
    "collapsed": false
   },
   "outputs": [
    {
     "data": {
      "text/html": [
       "<div>\n",
       "<style scoped>\n",
       "    .dataframe tbody tr th:only-of-type {\n",
       "        vertical-align: middle;\n",
       "    }\n",
       "\n",
       "    .dataframe tbody tr th {\n",
       "        vertical-align: top;\n",
       "    }\n",
       "\n",
       "    .dataframe thead tr th {\n",
       "        text-align: left;\n",
       "    }\n",
       "\n",
       "    .dataframe thead tr:last-of-type th {\n",
       "        text-align: right;\n",
       "    }\n",
       "</style>\n",
       "<table border=\"1\" class=\"dataframe\">\n",
       "  <thead>\n",
       "    <tr>\n",
       "      <th></th>\n",
       "      <th></th>\n",
       "      <th>Unnamed: 0_x</th>\n",
       "      <th>stars</th>\n",
       "      <th>Unnamed: 0_y</th>\n",
       "      <th>sentiment_review</th>\n",
       "      <th>sentiment_summary</th>\n",
       "      <th>average</th>\n",
       "      <th>rescaled_sentiment</th>\n",
       "    </tr>\n",
       "    <tr>\n",
       "      <th></th>\n",
       "      <th></th>\n",
       "      <th>mean</th>\n",
       "      <th>mean</th>\n",
       "      <th>mean</th>\n",
       "      <th>mean</th>\n",
       "      <th>mean</th>\n",
       "      <th>mean</th>\n",
       "      <th>mean</th>\n",
       "    </tr>\n",
       "    <tr>\n",
       "      <th>reviewTime</th>\n",
       "      <th>reviewTime</th>\n",
       "      <th></th>\n",
       "      <th></th>\n",
       "      <th></th>\n",
       "      <th></th>\n",
       "      <th></th>\n",
       "      <th></th>\n",
       "      <th></th>\n",
       "    </tr>\n",
       "  </thead>\n",
       "  <tbody>\n",
       "    <tr>\n",
       "      <th>1996</th>\n",
       "      <th>12</th>\n",
       "      <td>1.722880e+06</td>\n",
       "      <td>5.000000</td>\n",
       "      <td>5362.750000</td>\n",
       "      <td>0.381100</td>\n",
       "      <td>0.128800</td>\n",
       "      <td>0.254950</td>\n",
       "      <td>3.509900</td>\n",
       "    </tr>\n",
       "    <tr>\n",
       "      <th rowspan=\"4\" valign=\"top\">1997</th>\n",
       "      <th>4</th>\n",
       "      <td>2.115274e+06</td>\n",
       "      <td>3.800000</td>\n",
       "      <td>8568.400000</td>\n",
       "      <td>0.615320</td>\n",
       "      <td>0.246360</td>\n",
       "      <td>0.430840</td>\n",
       "      <td>3.861680</td>\n",
       "    </tr>\n",
       "    <tr>\n",
       "      <th>6</th>\n",
       "      <td>2.301111e+06</td>\n",
       "      <td>3.666667</td>\n",
       "      <td>12238.333333</td>\n",
       "      <td>0.987900</td>\n",
       "      <td>0.635900</td>\n",
       "      <td>0.811900</td>\n",
       "      <td>4.623800</td>\n",
       "    </tr>\n",
       "    <tr>\n",
       "      <th>7</th>\n",
       "      <td>1.545577e+06</td>\n",
       "      <td>4.750000</td>\n",
       "      <td>8091.000000</td>\n",
       "      <td>0.617850</td>\n",
       "      <td>0.321550</td>\n",
       "      <td>0.469700</td>\n",
       "      <td>3.939400</td>\n",
       "    </tr>\n",
       "    <tr>\n",
       "      <th>8</th>\n",
       "      <td>2.012860e+06</td>\n",
       "      <td>4.000000</td>\n",
       "      <td>11149.454545</td>\n",
       "      <td>0.527682</td>\n",
       "      <td>0.246594</td>\n",
       "      <td>0.387138</td>\n",
       "      <td>3.774276</td>\n",
       "    </tr>\n",
       "  </tbody>\n",
       "</table>\n",
       "</div>"
      ],
      "text/plain": [
       "                       Unnamed: 0_x     stars  Unnamed: 0_y sentiment_review  \\\n",
       "                               mean      mean          mean             mean   \n",
       "reviewTime reviewTime                                                          \n",
       "1996       12          1.722880e+06  5.000000   5362.750000         0.381100   \n",
       "1997       4           2.115274e+06  3.800000   8568.400000         0.615320   \n",
       "           6           2.301111e+06  3.666667  12238.333333         0.987900   \n",
       "           7           1.545577e+06  4.750000   8091.000000         0.617850   \n",
       "           8           2.012860e+06  4.000000  11149.454545         0.527682   \n",
       "\n",
       "                      sentiment_summary   average rescaled_sentiment  \n",
       "                                   mean      mean               mean  \n",
       "reviewTime reviewTime                                                 \n",
       "1996       12                  0.128800  0.254950           3.509900  \n",
       "1997       4                   0.246360  0.430840           3.861680  \n",
       "           6                   0.635900  0.811900           4.623800  \n",
       "           7                   0.321550  0.469700           3.939400  \n",
       "           8                   0.246594  0.387138           3.774276  "
      ]
     },
     "execution_count": 104,
     "metadata": {},
     "output_type": "execute_result"
    }
   ],
   "source": [
    "books_review_timeline_month_mean.head()"
   ]
  },
  {
   "cell_type": "code",
   "execution_count": 105,
   "metadata": {
    "collapsed": false,
    "scrolled": false
   },
   "outputs": [
    {
     "data": {
      "image/png": "[encoded data removed]",
      "text/plain": [
       "<matplotlib.figure.Figure at 0x19ca50f28>"
      ]
     },
     "metadata": {},
     "output_type": "display_data"
    }
   ],
   "source": [
    "books_review_timeline_month_mean[['stars', 'rescaled_sentiment']].plot(figsize=(25,10),title='Evolution of ratings with time');"
   ]
  },
  {
   "cell_type": "markdown",
   "metadata": {},
   "source": [
    "Above we have plotted the average per month of the ratings and the sentiment score. Here the sentiment score was rescaled to fit in the same interval as the ratings, between 1 and 5, which allow us to compare the two average more easily.\n",
    "\n",
    "We can see that the plot is really noisy as there are not a lot of reviews, but the noise decrease with time as we have more and more reviews, and it gets smoother from 2012, as the number of reviews starts to increase exponentially.\n",
    "\n",
    "At first sight, we can see that both average seem to follow the same trend. When the score of the ratings increases, the score of the sentiment increases too, the same happens the the trend is decreasing."
   ]
  },
  {
   "cell_type": "code",
   "execution_count": 106,
   "metadata": {
    "collapsed": false,
    "scrolled": false
   },
   "outputs": [
    {
     "data": {
      "text/plain": [
       "<matplotlib.axes._subplots.AxesSubplot at 0x15e525390>"
      ]
     },
     "execution_count": 106,
     "metadata": {},
     "output_type": "execute_result"
    },
    {
     "data": {
      "image/png": "[encoded data removed]",
      "text/plain": [
       "<matplotlib.figure.Figure at 0x1aed8ac50>"
      ]
     },
     "metadata": {},
     "output_type": "display_data"
    }
   ],
   "source": [
    "books_review_timeline_month_cnt['stars'].plot(figsize=(25,10),title='Number of ratings with time')"
   ]
  },
  {
   "cell_type": "markdown",
   "metadata": {},
   "source": [
    "Below we only look at the averages after 2012 to visualize them on a better scale. Our previous intuition seems to be confimed, that both metrics follow the same trend, except that the sentiment score has smoother transitions."
   ]
  },
  {
   "cell_type": "code",
   "execution_count": 107,
   "metadata": {
    "collapsed": false
   },
   "outputs": [
    {
     "data": {
      "image/png": "[encoded data removed]",
      "text/plain": [
       "<matplotlib.figure.Figure at 0x199b18828>"
      ]
     },
     "metadata": {},
     "output_type": "display_data"
    }
   ],
   "source": [
    "books_review_timeline_month_mean.loc[2011:][['stars', 'rescaled_sentiment']].plot(figsize=(25,10),title='Evolution of ratings with time');"
   ]
  },
  {
   "cell_type": "markdown",
   "metadata": {},
   "source": [
    "#### Evolution of kindle reviews"
   ]
  },
  {
   "cell_type": "code",
   "execution_count": 108,
   "metadata": {
    "collapsed": true
   },
   "outputs": [],
   "source": [
    "ebooks_review_timeline_month_mean = ebooks_review_with_time.groupby([\n",
    "    ebooks_review_with_time.reviewTime.dt.year,\n",
    "    ebooks_review_with_time.reviewTime.dt.month]).agg(['mean'])\n",
    "\n",
    "ebooks_review_timeline_month_cnt = ebooks_review_with_time.groupby([\n",
    "    ebooks_review_with_time.reviewTime.dt.year,\n",
    "    ebooks_review_with_time.reviewTime.dt.month]).agg(['count'])"
   ]
  },
  {
   "cell_type": "code",
   "execution_count": 109,
   "metadata": {
    "collapsed": false,
    "scrolled": false
   },
   "outputs": [
    {
     "data": {
      "text/plain": [
       "<matplotlib.axes._subplots.AxesSubplot at 0x1992f41d0>"
      ]
     },
     "execution_count": 109,
     "metadata": {},
     "output_type": "execute_result"
    },
    {
     "data": {
      "image/png": "[encoded data removed]",
      "text/plain": [
       "<matplotlib.figure.Figure at 0x1727dfcc0>"
      ]
     },
     "metadata": {},
     "output_type": "display_data"
    }
   ],
   "source": [
    "ebooks_review_timeline_month_mean[['stars', 'rescaled_sentiment']].plot(figsize=(25,10), title='Evolution of ratings with time')"
   ]
  },
  {
   "cell_type": "code",
   "execution_count": 110,
   "metadata": {
    "collapsed": false
   },
   "outputs": [
    {
     "data": {
      "text/plain": [
       "<matplotlib.axes._subplots.AxesSubplot at 0x1a9476550>"
      ]
     },
     "execution_count": 110,
     "metadata": {},
     "output_type": "execute_result"
    },
    {
     "data": {
      "image/png": "[encoded data removed]",
      "text/plain": [
       "<matplotlib.figure.Figure at 0x19f4f5668>"
      ]
     },
     "metadata": {},
     "output_type": "display_data"
    }
   ],
   "source": [
    "ebooks_review_timeline_month_cnt['stars'].plot(figsize=(25,10),  title='Number of ratings with time')"
   ]
  },
  {
   "cell_type": "code",
   "execution_count": 111,
   "metadata": {
    "collapsed": false,
    "scrolled": false
   },
   "outputs": [
    {
     "data": {
      "image/png": "[encoded data removed]",
      "text/plain": [
       "<matplotlib.figure.Figure at 0x19d062be0>"
      ]
     },
     "metadata": {},
     "output_type": "display_data"
    }
   ],
   "source": [
    "ebooks_review_timeline_month_mean.loc[2011:][['stars', 'rescaled_sentiment']].plot(figsize=(25,10),title='Evolution of ratings with time');"
   ]
  },
  {
   "cell_type": "markdown",
   "metadata": {},
   "source": [
    "For the kindle case we can easily come to the same conclusion than in the book case. It can be noted that in both case, even if the two metrics follow the same trend, the sentiment score is always slightly shifted downward compared to the ratings score, suggesting that readers give more positive ratings than what is reflected in the reviews they wrote."
   ]
  },
  {
   "cell_type": "markdown",
   "metadata": {},
   "source": [
    "### Reviews per authors\n",
    "Now that we have a better understanding of how the readers give reviews, it is time to determine if the authors receive better reviews on kindle or on book."
   ]
  },
  {
   "cell_type": "code",
   "execution_count": 112,
   "metadata": {
    "collapsed": true
   },
   "outputs": [],
   "source": [
    "scores_books_by_authors = pd.read_csv(scores_books_authors)\n",
    "scores_ebooks_by_authors = pd.read_csv(scores_ebooks_authors)"
   ]
  },
  {
   "cell_type": "code",
   "execution_count": 113,
   "metadata": {
    "collapsed": false
   },
   "outputs": [
    {
     "data": {
      "text/html": [
       "<div>\n",
       "<style scoped>\n",
       "    .dataframe tbody tr th:only-of-type {\n",
       "        vertical-align: middle;\n",
       "    }\n",
       "\n",
       "    .dataframe tbody tr th {\n",
       "        vertical-align: top;\n",
       "    }\n",
       "\n",
       "    .dataframe thead th {\n",
       "        text-align: right;\n",
       "    }\n",
       "</style>\n",
       "<table border=\"1\" class=\"dataframe\">\n",
       "  <thead>\n",
       "    <tr style=\"text-align: right;\">\n",
       "      <th></th>\n",
       "      <th>authors</th>\n",
       "      <th>sentiment_average_score_book</th>\n",
       "      <th>overall_score_book</th>\n",
       "      <th>combined_score_book</th>\n",
       "      <th>sentiment_average_score_kindle</th>\n",
       "      <th>overall_score_kindle</th>\n",
       "      <th>combined_score_kindle</th>\n",
       "    </tr>\n",
       "  </thead>\n",
       "  <tbody>\n",
       "    <tr>\n",
       "      <th>0</th>\n",
       "      <td>Jon Evans</td>\n",
       "      <td>0.423018</td>\n",
       "      <td>4.265808</td>\n",
       "      <td>4.055922</td>\n",
       "      <td>0.458332</td>\n",
       "      <td>4.282822</td>\n",
       "      <td>4.099743</td>\n",
       "    </tr>\n",
       "    <tr>\n",
       "      <th>1</th>\n",
       "      <td>Agatha Christie</td>\n",
       "      <td>0.289064</td>\n",
       "      <td>4.333456</td>\n",
       "      <td>3.955791</td>\n",
       "      <td>0.397621</td>\n",
       "      <td>4.377827</td>\n",
       "      <td>4.086535</td>\n",
       "    </tr>\n",
       "    <tr>\n",
       "      <th>2</th>\n",
       "      <td>James Patterson</td>\n",
       "      <td>0.294031</td>\n",
       "      <td>3.959031</td>\n",
       "      <td>3.773546</td>\n",
       "      <td>0.342400</td>\n",
       "      <td>3.333333</td>\n",
       "      <td>3.509067</td>\n",
       "    </tr>\n",
       "    <tr>\n",
       "      <th>3</th>\n",
       "      <td>Stella Riley</td>\n",
       "      <td>0.132290</td>\n",
       "      <td>4.600000</td>\n",
       "      <td>3.932290</td>\n",
       "      <td>0.753520</td>\n",
       "      <td>4.400000</td>\n",
       "      <td>4.453520</td>\n",
       "    </tr>\n",
       "    <tr>\n",
       "      <th>4</th>\n",
       "      <td>Philip K. Dick</td>\n",
       "      <td>0.269942</td>\n",
       "      <td>4.169998</td>\n",
       "      <td>3.854941</td>\n",
       "      <td>0.267467</td>\n",
       "      <td>4.229118</td>\n",
       "      <td>3.882026</td>\n",
       "    </tr>\n",
       "  </tbody>\n",
       "</table>\n",
       "</div>"
      ],
      "text/plain": [
       "           authors  sentiment_average_score_book  overall_score_book  \\\n",
       "0        Jon Evans                      0.423018            4.265808   \n",
       "1  Agatha Christie                      0.289064            4.333456   \n",
       "2  James Patterson                      0.294031            3.959031   \n",
       "3     Stella Riley                      0.132290            4.600000   \n",
       "4   Philip K. Dick                      0.269942            4.169998   \n",
       "\n",
       "   combined_score_book  sentiment_average_score_kindle  overall_score_kindle  \\\n",
       "0             4.055922                        0.458332              4.282822   \n",
       "1             3.955791                        0.397621              4.377827   \n",
       "2             3.773546                        0.342400              3.333333   \n",
       "3             3.932290                        0.753520              4.400000   \n",
       "4             3.854941                        0.267467              4.229118   \n",
       "\n",
       "   combined_score_kindle  \n",
       "0               4.099743  \n",
       "1               4.086535  \n",
       "2               3.509067  \n",
       "3               4.453520  \n",
       "4               3.882026  "
      ]
     },
     "execution_count": 113,
     "metadata": {},
     "output_type": "execute_result"
    }
   ],
   "source": [
    "scores_books_by_authors = scores_books_by_authors[['authors', 'sentiment_average_score', 'overall_score','combined_score']]\n",
    "scores_ebooks_by_authors = scores_ebooks_by_authors[['authors', 'sentiment_average_score', 'overall_score','combined_score']]\n",
    "\n",
    "scores_by_authors = scores_books_by_authors.merge(scores_ebooks_by_authors, on='authors', suffixes=('_book', '_kindle'))\n",
    "scores_by_authors.head()"
   ]
  },
  {
   "cell_type": "code",
   "execution_count": 114,
   "metadata": {
    "collapsed": false
   },
   "outputs": [
    {
     "data": {
      "text/plain": [
       "2772"
      ]
     },
     "execution_count": 114,
     "metadata": {},
     "output_type": "execute_result"
    }
   ],
   "source": [
    "len(scores_by_authors)"
   ]
  },
  {
   "cell_type": "code",
   "execution_count": 115,
   "metadata": {
    "collapsed": false
   },
   "outputs": [
    {
     "data": {
      "text/plain": [
       "sentiment_average_score_book      0.462495\n",
       "overall_score_book                4.287626\n",
       "combined_score_book               4.106308\n",
       "sentiment_average_score_kindle    0.478348\n",
       "overall_score_kindle              4.336031\n",
       "combined_score_kindle             4.146363\n",
       "dtype: float64"
      ]
     },
     "execution_count": 115,
     "metadata": {},
     "output_type": "execute_result"
    }
   ],
   "source": [
    "scores_by_authors.mean()"
   ]
  },
  {
   "cell_type": "markdown",
   "metadata": {},
   "source": [
    "By doing a naive analysis, we find that in average, the scores on kindle are slightly higher for both metrics and the combined one."
   ]
  },
  {
   "cell_type": "code",
   "execution_count": 150,
   "metadata": {
    "collapsed": true,
    "scrolled": true
   },
   "outputs": [],
   "source": [
    "matched_booksh = matched_booksh.dropna(subset=['authors'])"
   ]
  },
  {
   "cell_type": "markdown",
   "metadata": {},
   "source": [
    "### Refined analysis on some specific authors\n",
    "Now we want to see which authors has the most reviews for the books"
   ]
  },
  {
   "cell_type": "code",
   "execution_count": 117,
   "metadata": {
    "collapsed": true
   },
   "outputs": [],
   "source": [
    "books_review_per_author = matched_booksh.groupby('authors').agg('count')\n",
    "most_reviewed_books_author = books_review_per_author.sort_values('overall', ascending =False)"
   ]
  },
  {
   "cell_type": "code",
   "execution_count": 118,
   "metadata": {
    "collapsed": false
   },
   "outputs": [
    {
     "data": {
      "text/plain": [
       "20995"
      ]
     },
     "execution_count": 118,
     "metadata": {},
     "output_type": "execute_result"
    }
   ],
   "source": [
    "len(most_reviewed_books_author)"
   ]
  },
  {
   "cell_type": "code",
   "execution_count": 119,
   "metadata": {
    "collapsed": false,
    "scrolled": false
   },
   "outputs": [
    {
     "data": {
      "text/html": [
       "<div>\n",
       "<style scoped>\n",
       "    .dataframe tbody tr th:only-of-type {\n",
       "        vertical-align: middle;\n",
       "    }\n",
       "\n",
       "    .dataframe tbody tr th {\n",
       "        vertical-align: top;\n",
       "    }\n",
       "\n",
       "    .dataframe thead th {\n",
       "        text-align: right;\n",
       "    }\n",
       "</style>\n",
       "<table border=\"1\" class=\"dataframe\">\n",
       "  <thead>\n",
       "    <tr style=\"text-align: right;\">\n",
       "      <th></th>\n",
       "      <th>Unnamed: 0</th>\n",
       "      <th>asin</th>\n",
       "      <th>overall</th>\n",
       "      <th>summary</th>\n",
       "      <th>reviewerID</th>\n",
       "      <th>helpful</th>\n",
       "      <th>reviewText</th>\n",
       "      <th>reviewerName</th>\n",
       "      <th>reviewTime</th>\n",
       "      <th>asin_b</th>\n",
       "      <th>not_helpful</th>\n",
       "    </tr>\n",
       "    <tr>\n",
       "      <th>authors</th>\n",
       "      <th></th>\n",
       "      <th></th>\n",
       "      <th></th>\n",
       "      <th></th>\n",
       "      <th></th>\n",
       "      <th></th>\n",
       "      <th></th>\n",
       "      <th></th>\n",
       "      <th></th>\n",
       "      <th></th>\n",
       "      <th></th>\n",
       "    </tr>\n",
       "  </thead>\n",
       "  <tbody>\n",
       "    <tr>\n",
       "      <th>Stephen King</th>\n",
       "      <td>24266</td>\n",
       "      <td>24266</td>\n",
       "      <td>24266</td>\n",
       "      <td>24266</td>\n",
       "      <td>24266</td>\n",
       "      <td>24266</td>\n",
       "      <td>24266</td>\n",
       "      <td>24217</td>\n",
       "      <td>24266</td>\n",
       "      <td>24266</td>\n",
       "      <td>24266</td>\n",
       "    </tr>\n",
       "    <tr>\n",
       "      <th>Nora Roberts</th>\n",
       "      <td>18560</td>\n",
       "      <td>18560</td>\n",
       "      <td>18560</td>\n",
       "      <td>18560</td>\n",
       "      <td>18560</td>\n",
       "      <td>18560</td>\n",
       "      <td>18560</td>\n",
       "      <td>18519</td>\n",
       "      <td>18560</td>\n",
       "      <td>18560</td>\n",
       "      <td>18560</td>\n",
       "    </tr>\n",
       "    <tr>\n",
       "      <th>Lee Child</th>\n",
       "      <td>13727</td>\n",
       "      <td>13727</td>\n",
       "      <td>13727</td>\n",
       "      <td>13727</td>\n",
       "      <td>13727</td>\n",
       "      <td>13727</td>\n",
       "      <td>13727</td>\n",
       "      <td>13725</td>\n",
       "      <td>13727</td>\n",
       "      <td>13727</td>\n",
       "      <td>13727</td>\n",
       "    </tr>\n",
       "    <tr>\n",
       "      <th>H.M. Ward</th>\n",
       "      <td>13292</td>\n",
       "      <td>13292</td>\n",
       "      <td>13292</td>\n",
       "      <td>13292</td>\n",
       "      <td>13292</td>\n",
       "      <td>13292</td>\n",
       "      <td>13292</td>\n",
       "      <td>13277</td>\n",
       "      <td>13292</td>\n",
       "      <td>13292</td>\n",
       "      <td>13292</td>\n",
       "    </tr>\n",
       "    <tr>\n",
       "      <th>David Baldacci</th>\n",
       "      <td>12219</td>\n",
       "      <td>12219</td>\n",
       "      <td>12219</td>\n",
       "      <td>12219</td>\n",
       "      <td>12219</td>\n",
       "      <td>12219</td>\n",
       "      <td>12219</td>\n",
       "      <td>12217</td>\n",
       "      <td>12219</td>\n",
       "      <td>12219</td>\n",
       "      <td>12219</td>\n",
       "    </tr>\n",
       "    <tr>\n",
       "      <th>Michael Connelly</th>\n",
       "      <td>11683</td>\n",
       "      <td>11683</td>\n",
       "      <td>11683</td>\n",
       "      <td>11683</td>\n",
       "      <td>11683</td>\n",
       "      <td>11683</td>\n",
       "      <td>11683</td>\n",
       "      <td>11638</td>\n",
       "      <td>11683</td>\n",
       "      <td>11683</td>\n",
       "      <td>11683</td>\n",
       "    </tr>\n",
       "    <tr>\n",
       "      <th>James Patterson</th>\n",
       "      <td>11493</td>\n",
       "      <td>11493</td>\n",
       "      <td>11493</td>\n",
       "      <td>11493</td>\n",
       "      <td>11493</td>\n",
       "      <td>11493</td>\n",
       "      <td>11493</td>\n",
       "      <td>11470</td>\n",
       "      <td>11493</td>\n",
       "      <td>11493</td>\n",
       "      <td>11493</td>\n",
       "    </tr>\n",
       "    <tr>\n",
       "      <th>Dean Koontz</th>\n",
       "      <td>10840</td>\n",
       "      <td>10840</td>\n",
       "      <td>10840</td>\n",
       "      <td>10840</td>\n",
       "      <td>10840</td>\n",
       "      <td>10840</td>\n",
       "      <td>10840</td>\n",
       "      <td>10833</td>\n",
       "      <td>10840</td>\n",
       "      <td>10840</td>\n",
       "      <td>10840</td>\n",
       "    </tr>\n",
       "    <tr>\n",
       "      <th>Abbi Glines</th>\n",
       "      <td>10696</td>\n",
       "      <td>10696</td>\n",
       "      <td>10696</td>\n",
       "      <td>10695</td>\n",
       "      <td>10696</td>\n",
       "      <td>10696</td>\n",
       "      <td>10696</td>\n",
       "      <td>10693</td>\n",
       "      <td>10696</td>\n",
       "      <td>10696</td>\n",
       "      <td>10696</td>\n",
       "    </tr>\n",
       "    <tr>\n",
       "      <th>Debbie Macomber</th>\n",
       "      <td>9771</td>\n",
       "      <td>9771</td>\n",
       "      <td>9771</td>\n",
       "      <td>9771</td>\n",
       "      <td>9771</td>\n",
       "      <td>9771</td>\n",
       "      <td>9771</td>\n",
       "      <td>9754</td>\n",
       "      <td>9771</td>\n",
       "      <td>9771</td>\n",
       "      <td>9771</td>\n",
       "    </tr>\n",
       "    <tr>\n",
       "      <th>Veronica Roth</th>\n",
       "      <td>9643</td>\n",
       "      <td>9643</td>\n",
       "      <td>9643</td>\n",
       "      <td>9642</td>\n",
       "      <td>9643</td>\n",
       "      <td>9643</td>\n",
       "      <td>9642</td>\n",
       "      <td>9337</td>\n",
       "      <td>9643</td>\n",
       "      <td>9643</td>\n",
       "      <td>9643</td>\n",
       "    </tr>\n",
       "    <tr>\n",
       "      <th>Sylvia Day</th>\n",
       "      <td>9523</td>\n",
       "      <td>9523</td>\n",
       "      <td>9523</td>\n",
       "      <td>9523</td>\n",
       "      <td>9523</td>\n",
       "      <td>9523</td>\n",
       "      <td>9523</td>\n",
       "      <td>9517</td>\n",
       "      <td>9523</td>\n",
       "      <td>9523</td>\n",
       "      <td>9523</td>\n",
       "    </tr>\n",
       "    <tr>\n",
       "      <th>J.R. Ward</th>\n",
       "      <td>8762</td>\n",
       "      <td>8762</td>\n",
       "      <td>8762</td>\n",
       "      <td>8762</td>\n",
       "      <td>8762</td>\n",
       "      <td>8762</td>\n",
       "      <td>8762</td>\n",
       "      <td>8761</td>\n",
       "      <td>8762</td>\n",
       "      <td>8762</td>\n",
       "      <td>8762</td>\n",
       "    </tr>\n",
       "    <tr>\n",
       "      <th>Jessica Sorensen</th>\n",
       "      <td>7816</td>\n",
       "      <td>7816</td>\n",
       "      <td>7816</td>\n",
       "      <td>7815</td>\n",
       "      <td>7816</td>\n",
       "      <td>7816</td>\n",
       "      <td>7815</td>\n",
       "      <td>7816</td>\n",
       "      <td>7816</td>\n",
       "      <td>7816</td>\n",
       "      <td>7816</td>\n",
       "    </tr>\n",
       "    <tr>\n",
       "      <th>Hugh Howey</th>\n",
       "      <td>7615</td>\n",
       "      <td>7615</td>\n",
       "      <td>7615</td>\n",
       "      <td>7615</td>\n",
       "      <td>7615</td>\n",
       "      <td>7615</td>\n",
       "      <td>7615</td>\n",
       "      <td>7613</td>\n",
       "      <td>7615</td>\n",
       "      <td>7615</td>\n",
       "      <td>7615</td>\n",
       "    </tr>\n",
       "    <tr>\n",
       "      <th>Kristen Ashley</th>\n",
       "      <td>7304</td>\n",
       "      <td>7304</td>\n",
       "      <td>7304</td>\n",
       "      <td>7304</td>\n",
       "      <td>7304</td>\n",
       "      <td>7304</td>\n",
       "      <td>7304</td>\n",
       "      <td>7303</td>\n",
       "      <td>7304</td>\n",
       "      <td>7304</td>\n",
       "      <td>7304</td>\n",
       "    </tr>\n",
       "    <tr>\n",
       "      <th>Marie Force</th>\n",
       "      <td>7150</td>\n",
       "      <td>7150</td>\n",
       "      <td>7150</td>\n",
       "      <td>7150</td>\n",
       "      <td>7150</td>\n",
       "      <td>7150</td>\n",
       "      <td>7150</td>\n",
       "      <td>7150</td>\n",
       "      <td>7150</td>\n",
       "      <td>7150</td>\n",
       "      <td>7150</td>\n",
       "    </tr>\n",
       "    <tr>\n",
       "      <th>Orson Scott Card</th>\n",
       "      <td>6827</td>\n",
       "      <td>6827</td>\n",
       "      <td>6827</td>\n",
       "      <td>6827</td>\n",
       "      <td>6827</td>\n",
       "      <td>6827</td>\n",
       "      <td>6827</td>\n",
       "      <td>6823</td>\n",
       "      <td>6827</td>\n",
       "      <td>6827</td>\n",
       "      <td>6827</td>\n",
       "    </tr>\n",
       "    <tr>\n",
       "      <th>Susan Mallery</th>\n",
       "      <td>6728</td>\n",
       "      <td>6728</td>\n",
       "      <td>6728</td>\n",
       "      <td>6728</td>\n",
       "      <td>6728</td>\n",
       "      <td>6728</td>\n",
       "      <td>6727</td>\n",
       "      <td>6723</td>\n",
       "      <td>6728</td>\n",
       "      <td>6728</td>\n",
       "      <td>6728</td>\n",
       "    </tr>\n",
       "    <tr>\n",
       "      <th>Laurell K. Hamilton</th>\n",
       "      <td>6678</td>\n",
       "      <td>6678</td>\n",
       "      <td>6678</td>\n",
       "      <td>6678</td>\n",
       "      <td>6678</td>\n",
       "      <td>6678</td>\n",
       "      <td>6678</td>\n",
       "      <td>6677</td>\n",
       "      <td>6678</td>\n",
       "      <td>6678</td>\n",
       "      <td>6678</td>\n",
       "    </tr>\n",
       "  </tbody>\n",
       "</table>\n",
       "</div>"
      ],
      "text/plain": [
       "                     Unnamed: 0   asin  overall  summary  reviewerID  helpful  \\\n",
       "authors                                                                         \n",
       "Stephen King              24266  24266    24266    24266       24266    24266   \n",
       "Nora Roberts              18560  18560    18560    18560       18560    18560   \n",
       "Lee Child                 13727  13727    13727    13727       13727    13727   \n",
       "H.M. Ward                 13292  13292    13292    13292       13292    13292   \n",
       "David Baldacci            12219  12219    12219    12219       12219    12219   \n",
       "Michael Connelly          11683  11683    11683    11683       11683    11683   \n",
       "James Patterson           11493  11493    11493    11493       11493    11493   \n",
       "Dean Koontz               10840  10840    10840    10840       10840    10840   \n",
       "Abbi Glines               10696  10696    10696    10695       10696    10696   \n",
       "Debbie Macomber            9771   9771     9771     9771        9771     9771   \n",
       "Veronica Roth              9643   9643     9643     9642        9643     9643   \n",
       "Sylvia Day                 9523   9523     9523     9523        9523     9523   \n",
       "J.R. Ward                  8762   8762     8762     8762        8762     8762   \n",
       "Jessica Sorensen           7816   7816     7816     7815        7816     7816   \n",
       "Hugh Howey                 7615   7615     7615     7615        7615     7615   \n",
       "Kristen Ashley             7304   7304     7304     7304        7304     7304   \n",
       "Marie Force                7150   7150     7150     7150        7150     7150   \n",
       "Orson Scott Card           6827   6827     6827     6827        6827     6827   \n",
       "Susan Mallery              6728   6728     6728     6728        6728     6728   \n",
       "Laurell K. Hamilton        6678   6678     6678     6678        6678     6678   \n",
       "\n",
       "                     reviewText  reviewerName  reviewTime  asin_b  not_helpful  \n",
       "authors                                                                         \n",
       "Stephen King              24266         24217       24266   24266        24266  \n",
       "Nora Roberts              18560         18519       18560   18560        18560  \n",
       "Lee Child                 13727         13725       13727   13727        13727  \n",
       "H.M. Ward                 13292         13277       13292   13292        13292  \n",
       "David Baldacci            12219         12217       12219   12219        12219  \n",
       "Michael Connelly          11683         11638       11683   11683        11683  \n",
       "James Patterson           11493         11470       11493   11493        11493  \n",
       "Dean Koontz               10840         10833       10840   10840        10840  \n",
       "Abbi Glines               10696         10693       10696   10696        10696  \n",
       "Debbie Macomber            9771          9754        9771    9771         9771  \n",
       "Veronica Roth              9642          9337        9643    9643         9643  \n",
       "Sylvia Day                 9523          9517        9523    9523         9523  \n",
       "J.R. Ward                  8762          8761        8762    8762         8762  \n",
       "Jessica Sorensen           7815          7816        7816    7816         7816  \n",
       "Hugh Howey                 7615          7613        7615    7615         7615  \n",
       "Kristen Ashley             7304          7303        7304    7304         7304  \n",
       "Marie Force                7150          7150        7150    7150         7150  \n",
       "Orson Scott Card           6827          6823        6827    6827         6827  \n",
       "Susan Mallery              6727          6723        6728    6728         6728  \n",
       "Laurell K. Hamilton        6678          6677        6678    6678         6678  "
      ]
     },
     "execution_count": 119,
     "metadata": {},
     "output_type": "execute_result"
    }
   ],
   "source": [
    "most_reviewed_books_author.head(20)"
   ]
  },
  {
   "cell_type": "markdown",
   "metadata": {},
   "source": [
    "Same but for the ebooks"
   ]
  },
  {
   "cell_type": "code",
   "execution_count": 120,
   "metadata": {
    "collapsed": false,
    "scrolled": true
   },
   "outputs": [
    {
     "data": {
      "text/html": [
       "<div>\n",
       "<style scoped>\n",
       "    .dataframe tbody tr th:only-of-type {\n",
       "        vertical-align: middle;\n",
       "    }\n",
       "\n",
       "    .dataframe tbody tr th {\n",
       "        vertical-align: top;\n",
       "    }\n",
       "\n",
       "    .dataframe thead th {\n",
       "        text-align: right;\n",
       "    }\n",
       "</style>\n",
       "<table border=\"1\" class=\"dataframe\">\n",
       "  <thead>\n",
       "    <tr style=\"text-align: right;\">\n",
       "      <th></th>\n",
       "      <th>Unnamed: 0</th>\n",
       "      <th>asin</th>\n",
       "      <th>overall</th>\n",
       "      <th>summary</th>\n",
       "      <th>reviewerID</th>\n",
       "      <th>helpful</th>\n",
       "      <th>reviewText</th>\n",
       "      <th>reviewerName</th>\n",
       "      <th>asin_e</th>\n",
       "      <th>authors</th>\n",
       "      <th>not_helpful</th>\n",
       "    </tr>\n",
       "  </thead>\n",
       "  <tbody>\n",
       "    <tr>\n",
       "      <th>0</th>\n",
       "      <td>114</td>\n",
       "      <td>B000JMKNQ0</td>\n",
       "      <td>4</td>\n",
       "      <td>Worthwhile addition to the New Jedi Order</td>\n",
       "      <td>A3SZMGJMV0G16C</td>\n",
       "      <td>4</td>\n",
       "      <td>Karen Traviss was noted during her time as a S...</td>\n",
       "      <td>Andrew Pruette \"Rancors Love to Read\"</td>\n",
       "      <td>B000JMKNQ0</td>\n",
       "      <td>Karen Traviss</td>\n",
       "      <td>4</td>\n",
       "    </tr>\n",
       "    <tr>\n",
       "      <th>1</th>\n",
       "      <td>115</td>\n",
       "      <td>B000JMKNQ0</td>\n",
       "      <td>5</td>\n",
       "      <td>Another reader</td>\n",
       "      <td>A2EN84QHDRZLP2</td>\n",
       "      <td>0</td>\n",
       "      <td>Good read. I enjoyed the look into another sid...</td>\n",
       "      <td>Carl craft</td>\n",
       "      <td>B000JMKNQ0</td>\n",
       "      <td>Karen Traviss</td>\n",
       "      <td>0</td>\n",
       "    </tr>\n",
       "    <tr>\n",
       "      <th>2</th>\n",
       "      <td>116</td>\n",
       "      <td>B000JMKNQ0</td>\n",
       "      <td>5</td>\n",
       "      <td>Fetts the man</td>\n",
       "      <td>A1UG4Q4D3OAH3A</td>\n",
       "      <td>0</td>\n",
       "      <td>Boba Fett sort of gets screwed, but turns it a...</td>\n",
       "      <td>dsa</td>\n",
       "      <td>B000JMKNQ0</td>\n",
       "      <td>Karen Traviss</td>\n",
       "      <td>0</td>\n",
       "    </tr>\n",
       "    <tr>\n",
       "      <th>3</th>\n",
       "      <td>117</td>\n",
       "      <td>B000JMKNQ0</td>\n",
       "      <td>4</td>\n",
       "      <td>A fun story</td>\n",
       "      <td>AQZH7YTWQPOBE</td>\n",
       "      <td>1</td>\n",
       "      <td>It's nice to see an author go back and visit t...</td>\n",
       "      <td>Enjolras</td>\n",
       "      <td>B000JMKNQ0</td>\n",
       "      <td>Karen Traviss</td>\n",
       "      <td>1</td>\n",
       "    </tr>\n",
       "    <tr>\n",
       "      <th>4</th>\n",
       "      <td>118</td>\n",
       "      <td>B000JMKNQ0</td>\n",
       "      <td>4</td>\n",
       "      <td>Star Wars: Bobba Fett: A Practical Man</td>\n",
       "      <td>A38Z3Q6DTDIH9J</td>\n",
       "      <td>1</td>\n",
       "      <td>This is an ebook and is a good read, but why n...</td>\n",
       "      <td>Jimmy J. Shaw \"oldbent1\"</td>\n",
       "      <td>B000JMKNQ0</td>\n",
       "      <td>Karen Traviss</td>\n",
       "      <td>3</td>\n",
       "    </tr>\n",
       "  </tbody>\n",
       "</table>\n",
       "</div>"
      ],
      "text/plain": [
       "   Unnamed: 0        asin  overall                                    summary  \\\n",
       "0         114  B000JMKNQ0        4  Worthwhile addition to the New Jedi Order   \n",
       "1         115  B000JMKNQ0        5                             Another reader   \n",
       "2         116  B000JMKNQ0        5                              Fetts the man   \n",
       "3         117  B000JMKNQ0        4                                A fun story   \n",
       "4         118  B000JMKNQ0        4     Star Wars: Bobba Fett: A Practical Man   \n",
       "\n",
       "       reviewerID  helpful                                         reviewText  \\\n",
       "0  A3SZMGJMV0G16C        4  Karen Traviss was noted during her time as a S...   \n",
       "1  A2EN84QHDRZLP2        0  Good read. I enjoyed the look into another sid...   \n",
       "2  A1UG4Q4D3OAH3A        0  Boba Fett sort of gets screwed, but turns it a...   \n",
       "3   AQZH7YTWQPOBE        1  It's nice to see an author go back and visit t...   \n",
       "4  A38Z3Q6DTDIH9J        1  This is an ebook and is a good read, but why n...   \n",
       "\n",
       "                            reviewerName      asin_e        authors  \\\n",
       "0  Andrew Pruette \"Rancors Love to Read\"  B000JMKNQ0  Karen Traviss   \n",
       "1                             Carl craft  B000JMKNQ0  Karen Traviss   \n",
       "2                                    dsa  B000JMKNQ0  Karen Traviss   \n",
       "3                               Enjolras  B000JMKNQ0  Karen Traviss   \n",
       "4               Jimmy J. Shaw \"oldbent1\"  B000JMKNQ0  Karen Traviss   \n",
       "\n",
       "   not_helpful  \n",
       "0            4  \n",
       "1            0  \n",
       "2            0  \n",
       "3            1  \n",
       "4            3  "
      ]
     },
     "execution_count": 120,
     "metadata": {},
     "output_type": "execute_result"
    }
   ],
   "source": [
    "matched_ebooksh = matched_ebooksh.dropna(subset=['authors'])\n",
    "matched_ebooksh.head()"
   ]
  },
  {
   "cell_type": "code",
   "execution_count": 121,
   "metadata": {
    "collapsed": true
   },
   "outputs": [],
   "source": [
    "ebooks_review_per_author = matched_ebooksh.groupby('authors').agg('count')\n",
    "most_reviewed_ebooks_author = ebooks_review_per_author.sort_values('overall', ascending =False)"
   ]
  },
  {
   "cell_type": "code",
   "execution_count": 122,
   "metadata": {
    "collapsed": false,
    "scrolled": true
   },
   "outputs": [
    {
     "data": {
      "text/html": [
       "<div>\n",
       "<style scoped>\n",
       "    .dataframe tbody tr th:only-of-type {\n",
       "        vertical-align: middle;\n",
       "    }\n",
       "\n",
       "    .dataframe tbody tr th {\n",
       "        vertical-align: top;\n",
       "    }\n",
       "\n",
       "    .dataframe thead th {\n",
       "        text-align: right;\n",
       "    }\n",
       "</style>\n",
       "<table border=\"1\" class=\"dataframe\">\n",
       "  <thead>\n",
       "    <tr style=\"text-align: right;\">\n",
       "      <th></th>\n",
       "      <th>Unnamed: 0</th>\n",
       "      <th>asin</th>\n",
       "      <th>overall</th>\n",
       "      <th>summary</th>\n",
       "      <th>reviewerID</th>\n",
       "      <th>helpful</th>\n",
       "      <th>reviewText</th>\n",
       "      <th>reviewerName</th>\n",
       "      <th>asin_e</th>\n",
       "      <th>not_helpful</th>\n",
       "    </tr>\n",
       "    <tr>\n",
       "      <th>authors</th>\n",
       "      <th></th>\n",
       "      <th></th>\n",
       "      <th></th>\n",
       "      <th></th>\n",
       "      <th></th>\n",
       "      <th></th>\n",
       "      <th></th>\n",
       "      <th></th>\n",
       "      <th></th>\n",
       "      <th></th>\n",
       "    </tr>\n",
       "  </thead>\n",
       "  <tbody>\n",
       "    <tr>\n",
       "      <th>Nicky Charles</th>\n",
       "      <td>2631</td>\n",
       "      <td>2631</td>\n",
       "      <td>2631</td>\n",
       "      <td>2631</td>\n",
       "      <td>2631</td>\n",
       "      <td>2631</td>\n",
       "      <td>2631</td>\n",
       "      <td>2631</td>\n",
       "      <td>2631</td>\n",
       "      <td>2631</td>\n",
       "    </tr>\n",
       "    <tr>\n",
       "      <th>Kristen Ashley</th>\n",
       "      <td>2104</td>\n",
       "      <td>2104</td>\n",
       "      <td>2104</td>\n",
       "      <td>2104</td>\n",
       "      <td>2104</td>\n",
       "      <td>2104</td>\n",
       "      <td>2104</td>\n",
       "      <td>2095</td>\n",
       "      <td>2104</td>\n",
       "      <td>2104</td>\n",
       "    </tr>\n",
       "    <tr>\n",
       "      <th>Christopher Nuttall</th>\n",
       "      <td>1905</td>\n",
       "      <td>1905</td>\n",
       "      <td>1905</td>\n",
       "      <td>1905</td>\n",
       "      <td>1905</td>\n",
       "      <td>1905</td>\n",
       "      <td>1905</td>\n",
       "      <td>1905</td>\n",
       "      <td>1905</td>\n",
       "      <td>1905</td>\n",
       "    </tr>\n",
       "    <tr>\n",
       "      <th>Elizabeth Lennox</th>\n",
       "      <td>1599</td>\n",
       "      <td>1599</td>\n",
       "      <td>1599</td>\n",
       "      <td>1599</td>\n",
       "      <td>1599</td>\n",
       "      <td>1599</td>\n",
       "      <td>1599</td>\n",
       "      <td>1597</td>\n",
       "      <td>1599</td>\n",
       "      <td>1599</td>\n",
       "    </tr>\n",
       "    <tr>\n",
       "      <th>Jasinda Wilder</th>\n",
       "      <td>1497</td>\n",
       "      <td>1497</td>\n",
       "      <td>1497</td>\n",
       "      <td>1497</td>\n",
       "      <td>1497</td>\n",
       "      <td>1497</td>\n",
       "      <td>1497</td>\n",
       "      <td>1497</td>\n",
       "      <td>1497</td>\n",
       "      <td>1497</td>\n",
       "    </tr>\n",
       "  </tbody>\n",
       "</table>\n",
       "</div>"
      ],
      "text/plain": [
       "                     Unnamed: 0  asin  overall  summary  reviewerID  helpful  \\\n",
       "authors                                                                        \n",
       "Nicky Charles              2631  2631     2631     2631        2631     2631   \n",
       "Kristen Ashley             2104  2104     2104     2104        2104     2104   \n",
       "Christopher Nuttall        1905  1905     1905     1905        1905     1905   \n",
       "Elizabeth Lennox           1599  1599     1599     1599        1599     1599   \n",
       "Jasinda Wilder             1497  1497     1497     1497        1497     1497   \n",
       "\n",
       "                     reviewText  reviewerName  asin_e  not_helpful  \n",
       "authors                                                             \n",
       "Nicky Charles              2631          2631    2631         2631  \n",
       "Kristen Ashley             2104          2095    2104         2104  \n",
       "Christopher Nuttall        1905          1905    1905         1905  \n",
       "Elizabeth Lennox           1599          1597    1599         1599  \n",
       "Jasinda Wilder             1497          1497    1497         1497  "
      ]
     },
     "execution_count": 122,
     "metadata": {},
     "output_type": "execute_result"
    }
   ],
   "source": [
    "most_reviewed_ebooks_author.head()"
   ]
  },
  {
   "cell_type": "markdown",
   "metadata": {},
   "source": [
    "What can we see? Nothing, we don't have the same authors in the two rankings, and the number of ratings is not even of the same magnitude."
   ]
  },
  {
   "cell_type": "markdown",
   "metadata": {},
   "source": [
    "#### Taking the authors with the most reviews in books\n",
    "Here we take the authors who have the most reviews in the books"
   ]
  },
  {
   "cell_type": "code",
   "execution_count": 123,
   "metadata": {
    "collapsed": true
   },
   "outputs": [],
   "source": [
    "merged_review_per_author = most_reviewed_books_author.merge(most_reviewed_ebooks_author,\n",
    "                                                          left_index=True, right_index=True,\n",
    "                                                         suffixes=('_book', '_ebook'))"
   ]
  },
  {
   "cell_type": "code",
   "execution_count": 124,
   "metadata": {
    "collapsed": true
   },
   "outputs": [],
   "source": [
    "top_books_authors = merged_review_per_author.head(20)[['overall_book','overall_ebook']]"
   ]
  },
  {
   "cell_type": "code",
   "execution_count": 125,
   "metadata": {
    "collapsed": true
   },
   "outputs": [],
   "source": [
    "match_books_top_authors = matched_booksh[matched_booksh['authors'].isin(top_books_authors.index)]\n",
    "match_ebooks_top_authors = matched_ebooksh[matched_ebooksh['authors'].isin(top_books_authors.index)]"
   ]
  },
  {
   "cell_type": "code",
   "execution_count": 126,
   "metadata": {
    "collapsed": true
   },
   "outputs": [],
   "source": [
    "if WRITE_WEIGHTED_SCORE:\n",
    "    compute_by_batch(match_books_top_authors.set_index('authors'), 2, top_authors_weighted_books_score, override=True)\n",
    "    compute_by_batch(match_ebooks_top_authors.set_index('authors'), 20, top_authors_weighted_kindle_score, override=True)\n",
    "\n",
    "top_authors_books_score = pd.read_csv(top_authors_weighted_books_score)\n",
    "top_authors_ebooks_score = pd.read_csv(top_authors_weighted_kindle_score)"
   ]
  },
  {
   "cell_type": "code",
   "execution_count": 127,
   "metadata": {
    "collapsed": false
   },
   "outputs": [
    {
     "data": {
      "text/html": [
       "<div>\n",
       "<style scoped>\n",
       "    .dataframe tbody tr th:only-of-type {\n",
       "        vertical-align: middle;\n",
       "    }\n",
       "\n",
       "    .dataframe tbody tr th {\n",
       "        vertical-align: top;\n",
       "    }\n",
       "\n",
       "    .dataframe thead th {\n",
       "        text-align: right;\n",
       "    }\n",
       "</style>\n",
       "<table border=\"1\" class=\"dataframe\">\n",
       "  <thead>\n",
       "    <tr style=\"text-align: right;\">\n",
       "      <th></th>\n",
       "      <th>authors</th>\n",
       "      <th>combined_score_book</th>\n",
       "      <th>combined_score_kindle</th>\n",
       "    </tr>\n",
       "  </thead>\n",
       "  <tbody>\n",
       "    <tr>\n",
       "      <th>0</th>\n",
       "      <td>Dean Koontz</td>\n",
       "      <td>3.836427</td>\n",
       "      <td>3.950129</td>\n",
       "    </tr>\n",
       "    <tr>\n",
       "      <th>1</th>\n",
       "      <td>James Patterson</td>\n",
       "      <td>3.773792</td>\n",
       "      <td>3.509067</td>\n",
       "    </tr>\n",
       "    <tr>\n",
       "      <th>2</th>\n",
       "      <td>Debbie Macomber</td>\n",
       "      <td>4.222705</td>\n",
       "      <td>4.118434</td>\n",
       "    </tr>\n",
       "    <tr>\n",
       "      <th>3</th>\n",
       "      <td>Veronica Roth</td>\n",
       "      <td>3.839826</td>\n",
       "      <td>4.039917</td>\n",
       "    </tr>\n",
       "    <tr>\n",
       "      <th>4</th>\n",
       "      <td>Orson Scott Card</td>\n",
       "      <td>4.061193</td>\n",
       "      <td>4.306200</td>\n",
       "    </tr>\n",
       "    <tr>\n",
       "      <th>5</th>\n",
       "      <td>Sylvia Day</td>\n",
       "      <td>4.038227</td>\n",
       "      <td>3.982908</td>\n",
       "    </tr>\n",
       "    <tr>\n",
       "      <th>6</th>\n",
       "      <td>Michael Connelly</td>\n",
       "      <td>3.989594</td>\n",
       "      <td>3.723958</td>\n",
       "    </tr>\n",
       "    <tr>\n",
       "      <th>7</th>\n",
       "      <td>Lee Child</td>\n",
       "      <td>3.903025</td>\n",
       "      <td>4.565156</td>\n",
       "    </tr>\n",
       "    <tr>\n",
       "      <th>8</th>\n",
       "      <td>Stephen King</td>\n",
       "      <td>4.024501</td>\n",
       "      <td>3.837746</td>\n",
       "    </tr>\n",
       "    <tr>\n",
       "      <th>9</th>\n",
       "      <td>Hugh Howey</td>\n",
       "      <td>4.267384</td>\n",
       "      <td>4.165318</td>\n",
       "    </tr>\n",
       "    <tr>\n",
       "      <th>10</th>\n",
       "      <td>Nora Roberts</td>\n",
       "      <td>4.150820</td>\n",
       "      <td>4.383331</td>\n",
       "    </tr>\n",
       "    <tr>\n",
       "      <th>11</th>\n",
       "      <td>Susan Mallery</td>\n",
       "      <td>4.322910</td>\n",
       "      <td>4.063838</td>\n",
       "    </tr>\n",
       "    <tr>\n",
       "      <th>12</th>\n",
       "      <td>David Baldacci</td>\n",
       "      <td>4.032804</td>\n",
       "      <td>3.968965</td>\n",
       "    </tr>\n",
       "    <tr>\n",
       "      <th>13</th>\n",
       "      <td>Laurell K. Hamilton</td>\n",
       "      <td>3.340668</td>\n",
       "      <td>3.211626</td>\n",
       "    </tr>\n",
       "    <tr>\n",
       "      <th>14</th>\n",
       "      <td>J.R. Ward</td>\n",
       "      <td>4.158237</td>\n",
       "      <td>4.438871</td>\n",
       "    </tr>\n",
       "    <tr>\n",
       "      <th>15</th>\n",
       "      <td>Marie Force</td>\n",
       "      <td>4.375588</td>\n",
       "      <td>4.374434</td>\n",
       "    </tr>\n",
       "    <tr>\n",
       "      <th>16</th>\n",
       "      <td>Kristen Ashley</td>\n",
       "      <td>4.285780</td>\n",
       "      <td>4.282109</td>\n",
       "    </tr>\n",
       "    <tr>\n",
       "      <th>17</th>\n",
       "      <td>H.M. Ward</td>\n",
       "      <td>4.246884</td>\n",
       "      <td>4.236060</td>\n",
       "    </tr>\n",
       "    <tr>\n",
       "      <th>18</th>\n",
       "      <td>Abbi Glines</td>\n",
       "      <td>4.311430</td>\n",
       "      <td>4.331367</td>\n",
       "    </tr>\n",
       "    <tr>\n",
       "      <th>19</th>\n",
       "      <td>Jessica Sorensen</td>\n",
       "      <td>4.154628</td>\n",
       "      <td>4.060024</td>\n",
       "    </tr>\n",
       "  </tbody>\n",
       "</table>\n",
       "</div>"
      ],
      "text/plain": [
       "                authors  combined_score_book  combined_score_kindle\n",
       "0           Dean Koontz             3.836427               3.950129\n",
       "1       James Patterson             3.773792               3.509067\n",
       "2       Debbie Macomber             4.222705               4.118434\n",
       "3         Veronica Roth             3.839826               4.039917\n",
       "4      Orson Scott Card             4.061193               4.306200\n",
       "5            Sylvia Day             4.038227               3.982908\n",
       "6      Michael Connelly             3.989594               3.723958\n",
       "7             Lee Child             3.903025               4.565156\n",
       "8          Stephen King             4.024501               3.837746\n",
       "9            Hugh Howey             4.267384               4.165318\n",
       "10         Nora Roberts             4.150820               4.383331\n",
       "11        Susan Mallery             4.322910               4.063838\n",
       "12       David Baldacci             4.032804               3.968965\n",
       "13  Laurell K. Hamilton             3.340668               3.211626\n",
       "14            J.R. Ward             4.158237               4.438871\n",
       "15          Marie Force             4.375588               4.374434\n",
       "16       Kristen Ashley             4.285780               4.282109\n",
       "17            H.M. Ward             4.246884               4.236060\n",
       "18          Abbi Glines             4.311430               4.331367\n",
       "19     Jessica Sorensen             4.154628               4.060024"
      ]
     },
     "execution_count": 127,
     "metadata": {},
     "output_type": "execute_result"
    }
   ],
   "source": [
    "scores_top_authors = top_authors_books_score[['authors', 'combined_score']].merge(\n",
    "    top_authors_ebooks_score[['authors', 'combined_score']], on='authors', suffixes=('_book', '_kindle'))\n",
    "\n",
    "scores_top_authors"
   ]
  },
  {
   "cell_type": "code",
   "execution_count": 128,
   "metadata": {
    "collapsed": false
   },
   "outputs": [
    {
     "data": {
      "image/png": "[encoded data removed]",
      "text/plain": [
       "<matplotlib.figure.Figure at 0x15e6522b0>"
      ]
     },
     "metadata": {},
     "output_type": "display_data"
    }
   ],
   "source": [
    "st = pd.melt(scores_top_authors.sort_values('combined_score_book', ascending=False), id_vars='authors', value_vars=['combined_score_book', 'combined_score_kindle'])\n",
    "\n",
    "sns.factorplot(x = 'value', y='authors', hue='variable', data=st,kind='bar', size=10);"
   ]
  },
  {
   "cell_type": "code",
   "execution_count": 129,
   "metadata": {
    "collapsed": false
   },
   "outputs": [
    {
     "data": {
      "image/png": "[encoded data removed]",
      "text/plain": [
       "<matplotlib.figure.Figure at 0x15294de10>"
      ]
     },
     "metadata": {},
     "output_type": "display_data"
    }
   ],
   "source": [
    "sns.lmplot(x='combined_score_book', y='combined_score_kindle', data=scores_top_authors);"
   ]
  },
  {
   "cell_type": "code",
   "execution_count": 130,
   "metadata": {
    "collapsed": false
   },
   "outputs": [
    {
     "data": {
      "image/png": "[encoded data removed]",
      "text/plain": [
       "<matplotlib.figure.Figure at 0x19018fd68>"
      ]
     },
     "metadata": {},
     "output_type": "display_data"
    }
   ],
   "source": [
    "sns.jointplot(x='combined_score_book', y='combined_score_kindle', data=scores_top_authors, kind='kde', );"
   ]
  },
  {
   "cell_type": "markdown",
   "metadata": {},
   "source": [
    "#### Taking the authors with the most reviews on kindle"
   ]
  },
  {
   "cell_type": "code",
   "execution_count": 131,
   "metadata": {
    "collapsed": true
   },
   "outputs": [],
   "source": [
    "merged_review_per_author = most_reviewed_ebooks_author.merge(most_reviewed_books_author,\n",
    "                                                          left_index=True, right_index=True,\n",
    "                                                         suffixes=('_ebook', '_book'))"
   ]
  },
  {
   "cell_type": "code",
   "execution_count": 132,
   "metadata": {
    "collapsed": true
   },
   "outputs": [],
   "source": [
    "top_ebooks_authors = merged_review_per_author.head(20)[['overall_book','overall_ebook']]\n",
    "match_books_top_authors = matched_booksh[matched_booksh['authors'].isin(top_ebooks_authors.index)]\n",
    "match_ebooks_top_authors = matched_ebooksh[matched_ebooksh['authors'].isin(top_ebooks_authors.index)]"
   ]
  },
  {
   "cell_type": "code",
   "execution_count": 133,
   "metadata": {
    "collapsed": true
   },
   "outputs": [],
   "source": [
    "if WRITE_WEIGHTED_SCORE:\n",
    "    compute_by_batch(match_books_top_authors.set_index('authors'), 2, top_kauthors_weighted_books_score, override=True)\n",
    "    compute_by_batch(match_ebooks_top_authors.set_index('authors'), 20, top_kauthors_weighted_kindle_score, override=True)\n",
    "\n",
    "top_kauthors_books_score = pd.read_csv(top_kauthors_weighted_books_score)\n",
    "top_kauthors_ebooks_score = pd.read_csv(top_kauthors_weighted_kindle_score)"
   ]
  },
  {
   "cell_type": "code",
   "execution_count": 134,
   "metadata": {
    "collapsed": false
   },
   "outputs": [
    {
     "data": {
      "text/html": [
       "<div>\n",
       "<style scoped>\n",
       "    .dataframe tbody tr th:only-of-type {\n",
       "        vertical-align: middle;\n",
       "    }\n",
       "\n",
       "    .dataframe tbody tr th {\n",
       "        vertical-align: top;\n",
       "    }\n",
       "\n",
       "    .dataframe thead th {\n",
       "        text-align: right;\n",
       "    }\n",
       "</style>\n",
       "<table border=\"1\" class=\"dataframe\">\n",
       "  <thead>\n",
       "    <tr style=\"text-align: right;\">\n",
       "      <th></th>\n",
       "      <th>authors</th>\n",
       "      <th>combined_score_book</th>\n",
       "      <th>combined_score_kindle</th>\n",
       "    </tr>\n",
       "  </thead>\n",
       "  <tbody>\n",
       "    <tr>\n",
       "      <th>0</th>\n",
       "      <td>Nicky Charles</td>\n",
       "      <td>4.310972</td>\n",
       "      <td>4.312206</td>\n",
       "    </tr>\n",
       "    <tr>\n",
       "      <th>1</th>\n",
       "      <td>Bella Andre</td>\n",
       "      <td>4.343332</td>\n",
       "      <td>4.279236</td>\n",
       "    </tr>\n",
       "    <tr>\n",
       "      <th>2</th>\n",
       "      <td>R.E. Butler</td>\n",
       "      <td>4.265088</td>\n",
       "      <td>4.243795</td>\n",
       "    </tr>\n",
       "    <tr>\n",
       "      <th>3</th>\n",
       "      <td>Deborah Bladon</td>\n",
       "      <td>4.140130</td>\n",
       "      <td>4.112095</td>\n",
       "    </tr>\n",
       "    <tr>\n",
       "      <th>4</th>\n",
       "      <td>J.R. Rain</td>\n",
       "      <td>4.255093</td>\n",
       "      <td>4.191058</td>\n",
       "    </tr>\n",
       "    <tr>\n",
       "      <th>5</th>\n",
       "      <td>Christopher Nuttall</td>\n",
       "      <td>4.157191</td>\n",
       "      <td>4.083715</td>\n",
       "    </tr>\n",
       "    <tr>\n",
       "      <th>6</th>\n",
       "      <td>Dan Eitreim</td>\n",
       "      <td>4.368911</td>\n",
       "      <td>4.339893</td>\n",
       "    </tr>\n",
       "    <tr>\n",
       "      <th>7</th>\n",
       "      <td>Jasinda Wilder</td>\n",
       "      <td>4.150907</td>\n",
       "      <td>4.177928</td>\n",
       "    </tr>\n",
       "    <tr>\n",
       "      <th>8</th>\n",
       "      <td>C.D. Shelton</td>\n",
       "      <td>4.297916</td>\n",
       "      <td>4.288477</td>\n",
       "    </tr>\n",
       "    <tr>\n",
       "      <th>9</th>\n",
       "      <td>Jessica Sorensen</td>\n",
       "      <td>4.060024</td>\n",
       "      <td>4.154628</td>\n",
       "    </tr>\n",
       "    <tr>\n",
       "      <th>10</th>\n",
       "      <td>Claudy Conn</td>\n",
       "      <td>4.263106</td>\n",
       "      <td>4.243006</td>\n",
       "    </tr>\n",
       "    <tr>\n",
       "      <th>11</th>\n",
       "      <td>Helen Cooper</td>\n",
       "      <td>4.225635</td>\n",
       "      <td>4.187731</td>\n",
       "    </tr>\n",
       "    <tr>\n",
       "      <th>12</th>\n",
       "      <td>Kirsten Osbourne</td>\n",
       "      <td>4.136433</td>\n",
       "      <td>4.096926</td>\n",
       "    </tr>\n",
       "    <tr>\n",
       "      <th>13</th>\n",
       "      <td>Kristen Ashley</td>\n",
       "      <td>4.246089</td>\n",
       "      <td>4.282883</td>\n",
       "    </tr>\n",
       "    <tr>\n",
       "      <th>14</th>\n",
       "      <td>Vanessa Gray Bartal</td>\n",
       "      <td>4.169390</td>\n",
       "      <td>4.155002</td>\n",
       "    </tr>\n",
       "    <tr>\n",
       "      <th>15</th>\n",
       "      <td>Marie Hall</td>\n",
       "      <td>4.295878</td>\n",
       "      <td>4.282265</td>\n",
       "    </tr>\n",
       "    <tr>\n",
       "      <th>16</th>\n",
       "      <td>A.R. Wise</td>\n",
       "      <td>4.197471</td>\n",
       "      <td>4.187598</td>\n",
       "    </tr>\n",
       "    <tr>\n",
       "      <th>17</th>\n",
       "      <td>Elizabeth Lennox</td>\n",
       "      <td>4.047224</td>\n",
       "      <td>3.983646</td>\n",
       "    </tr>\n",
       "    <tr>\n",
       "      <th>18</th>\n",
       "      <td>Tessa Bailey</td>\n",
       "      <td>4.335939</td>\n",
       "      <td>4.334160</td>\n",
       "    </tr>\n",
       "    <tr>\n",
       "      <th>19</th>\n",
       "      <td>J. S. Cooper</td>\n",
       "      <td>4.325880</td>\n",
       "      <td>4.245658</td>\n",
       "    </tr>\n",
       "  </tbody>\n",
       "</table>\n",
       "</div>"
      ],
      "text/plain": [
       "                authors  combined_score_book  combined_score_kindle\n",
       "0         Nicky Charles             4.310972               4.312206\n",
       "1           Bella Andre             4.343332               4.279236\n",
       "2           R.E. Butler             4.265088               4.243795\n",
       "3        Deborah Bladon             4.140130               4.112095\n",
       "4             J.R. Rain             4.255093               4.191058\n",
       "5   Christopher Nuttall             4.157191               4.083715\n",
       "6           Dan Eitreim             4.368911               4.339893\n",
       "7        Jasinda Wilder             4.150907               4.177928\n",
       "8          C.D. Shelton             4.297916               4.288477\n",
       "9      Jessica Sorensen             4.060024               4.154628\n",
       "10          Claudy Conn             4.263106               4.243006\n",
       "11         Helen Cooper             4.225635               4.187731\n",
       "12     Kirsten Osbourne             4.136433               4.096926\n",
       "13       Kristen Ashley             4.246089               4.282883\n",
       "14  Vanessa Gray Bartal             4.169390               4.155002\n",
       "15           Marie Hall             4.295878               4.282265\n",
       "16            A.R. Wise             4.197471               4.187598\n",
       "17     Elizabeth Lennox             4.047224               3.983646\n",
       "18         Tessa Bailey             4.335939               4.334160\n",
       "19         J. S. Cooper             4.325880               4.245658"
      ]
     },
     "execution_count": 134,
     "metadata": {},
     "output_type": "execute_result"
    }
   ],
   "source": [
    "scores_top_kauthors = top_kauthors_ebooks_score[['authors', 'combined_score']].merge(\n",
    "    top_kauthors_books_score[['authors', 'combined_score']], on='authors', suffixes=('_book', '_kindle'))\n",
    "\n",
    "scores_top_kauthors"
   ]
  },
  {
   "cell_type": "code",
   "execution_count": 135,
   "metadata": {
    "collapsed": false,
    "scrolled": false
   },
   "outputs": [
    {
     "data": {
      "image/png": "[encoded data removed]",
      "text/plain": [
       "<matplotlib.figure.Figure at 0x1a05a3eb8>"
      ]
     },
     "metadata": {},
     "output_type": "display_data"
    }
   ],
   "source": [
    "stk = pd.melt(scores_top_kauthors.sort_values('combined_score_kindle', ascending=False), id_vars='authors', value_vars=['combined_score_book', 'combined_score_kindle'])\n",
    "\n",
    "sns.factorplot(x = 'value', y='authors', hue='variable', data=stk, kind='bar', size=9);"
   ]
  },
  {
   "cell_type": "code",
   "execution_count": 136,
   "metadata": {
    "collapsed": false,
    "scrolled": false
   },
   "outputs": [
    {
     "data": {
      "image/png": "[encoded data removed]",
      "text/plain": [
       "<matplotlib.figure.Figure at 0x17b3d1278>"
      ]
     },
     "metadata": {},
     "output_type": "display_data"
    }
   ],
   "source": [
    "sns.lmplot(x='combined_score_book', y='combined_score_kindle', data=scores_top_kauthors);"
   ]
  },
  {
   "cell_type": "markdown",
   "metadata": {},
   "source": [
    "Here it looks like the ratings are slightly better in general for the book version."
   ]
  },
  {
   "cell_type": "code",
   "execution_count": 137,
   "metadata": {
    "collapsed": false
   },
   "outputs": [
    {
     "data": {
      "image/png": "[encoded data removed]",
      "text/plain": [
       "<matplotlib.figure.Figure at 0x166d543c8>"
      ]
     },
     "metadata": {},
     "output_type": "display_data"
    }
   ],
   "source": [
    "sns.jointplot(x='combined_score_book', y='combined_score_kindle', data=scores_top_kauthors, kind='kde');"
   ]
  },
  {
   "cell_type": "markdown",
   "metadata": {},
   "source": [
    "-- --\n",
    "#### Analysis on page, rank and score\n",
    "In this section, we have analysed the data on correlation between the rank and the ratings, the page number and the ratings and the rank and the page number. The rank corresponds to the sales rank, which has been obtained from Amazon, so is not time invariant."
   ]
  },
  {
   "cell_type": "code",
   "execution_count": 138,
   "metadata": {
    "collapsed": true
   },
   "outputs": [],
   "source": [
    "def treat_file_multiple_authors(path_dataframe):\n",
    "    amazon_metadata = pd.read_csv(path_dataframe)\n",
    "    \n",
    "    amazon_metadata['title'] = amazon_metadata.title.str.lower()\n",
    "    amazon_metadata['title'] = amazon_metadata.title.str.strip()\n",
    "    amazon_metadata['authors'] = amazon_metadata.authors.str.lower()\n",
    "    \n",
    "    #Portion used to multiply each entry for each author (if an entry has two authors, it will appear twice)\n",
    "    authors_unmerged = amazon_metadata.authors.str.split(',').apply(pd.Series).unstack().dropna()\n",
    "    authors_unmerged = authors_unmerged.str.strip()\n",
    "    \n",
    "    #Here, we use some black magic to make it fast (our code ©), so that we create indices that are linked to authors\n",
    "    ind = amazon_metadata.authors.str.split(',').apply(pd.Series)\n",
    "    ind[ind.isna()] = -1\n",
    "    ind[ind != -1] = pd.np.nan\n",
    "    ind['index']=ind.index\n",
    "    cols = list(ind.columns.values)\n",
    "    cols = cols[-1:] + cols[:-1]\n",
    "    ind = ind[cols]\n",
    "    ind = ind.fillna(method='pad', axis=1)\n",
    "    cols = cols[1:]\n",
    "\n",
    "    ind = ind[cols]\n",
    "    ind[ind == -1] = pd.np.nan\n",
    "    ind = ind.unstack().dropna()\n",
    "    authors_unmerged_with_ind = pd.DataFrame(authors_unmerged.values, index=ind.values.astype(np.int64))\n",
    "    \n",
    "    metadata_with_unmerged_authors = amazon_metadata.copy().loc[authors_unmerged_with_ind.index.values]\n",
    "    metadata_with_unmerged_authors['authors'] = authors_unmerged_with_ind.values\n",
    "\n",
    "    return metadata_with_unmerged_authors"
   ]
  },
  {
   "cell_type": "code",
   "execution_count": 139,
   "metadata": {
    "collapsed": true
   },
   "outputs": [],
   "source": [
    "ebooks_with_unmerged_authors = treat_file_multiple_authors(amazon_aws_ebooks).rename(columns={'Unnamed: 0':'asin'})\n",
    "books_with_unmerged_authors = treat_file_multiple_authors(amazon_aws_books)"
   ]
  },
  {
   "cell_type": "markdown",
   "metadata": {},
   "source": [
    "The following lines show the numbers of books that are on a different language. It's negligible compared to the number of english books (more than 300'000), but the dataset is not completely uniform for the language."
   ]
  },
  {
   "cell_type": "code",
   "execution_count": 140,
   "metadata": {
    "collapsed": false
   },
   "outputs": [
    {
     "data": {
      "text/plain": [
       "(22, 10)"
      ]
     },
     "execution_count": 140,
     "metadata": {},
     "output_type": "execute_result"
    }
   ],
   "source": [
    "books_with_unmerged_authors[books_with_unmerged_authors.language == 'Italian'].shape"
   ]
  },
  {
   "cell_type": "code",
   "execution_count": 141,
   "metadata": {
    "collapsed": false
   },
   "outputs": [
    {
     "data": {
      "text/plain": [
       "(52, 10)"
      ]
     },
     "execution_count": 141,
     "metadata": {},
     "output_type": "execute_result"
    }
   ],
   "source": [
    "books_with_unmerged_authors[books_with_unmerged_authors.language == 'French'].shape"
   ]
  },
  {
   "cell_type": "code",
   "execution_count": 142,
   "metadata": {
    "collapsed": false
   },
   "outputs": [
    {
     "data": {
      "text/plain": [
       "(109, 10)"
      ]
     },
     "execution_count": 142,
     "metadata": {},
     "output_type": "execute_result"
    }
   ],
   "source": [
    "books_with_unmerged_authors[books_with_unmerged_authors.language == 'German'].shape"
   ]
  },
  {
   "cell_type": "code",
   "execution_count": 143,
   "metadata": {
    "collapsed": true
   },
   "outputs": [],
   "source": [
    "#Method used to obtain the scores for the analysis.\n",
    "def get_scores_mean(path_dataframe):\n",
    "    scores_dataframe = pd.read_csv(path_dataframe)\n",
    "    cols = list(scores_dataframe.columns.values)\n",
    "    cols = cols[1:]\n",
    "    scores_dataframe = scores_dataframe[cols]\n",
    "    return scores_dataframe.groupby('asin').mean()"
   ]
  },
  {
   "cell_type": "code",
   "execution_count": 144,
   "metadata": {
    "collapsed": true
   },
   "outputs": [],
   "source": [
    "#Method used to select some columns o work with them in the analysis.\n",
    "def get_specific_columns_books(path_dataframe):\n",
    "    pages_dataframe = pd.read_csv(path_dataframe)\n",
    "    return pages_dataframe[['asin', 'page', 'rank']].dropna(subset=['page']).dropna(subset=['rank']).set_index('asin')"
   ]
  },
  {
   "cell_type": "code",
   "execution_count": 145,
   "metadata": {
    "collapsed": true
   },
   "outputs": [],
   "source": [
    "def merge_column_and_score(dataframe_score, dataframe_pages):\n",
    "    return pd.merge(dataframe_score, dataframe_pages, left_index=True, right_index=True)"
   ]
  },
  {
   "cell_type": "code",
   "execution_count": 146,
   "metadata": {
    "collapsed": false
   },
   "outputs": [
    {
     "data": {
      "text/html": [
       "<div>\n",
       "<style scoped>\n",
       "    .dataframe tbody tr th:only-of-type {\n",
       "        vertical-align: middle;\n",
       "    }\n",
       "\n",
       "    .dataframe tbody tr th {\n",
       "        vertical-align: top;\n",
       "    }\n",
       "\n",
       "    .dataframe thead th {\n",
       "        text-align: right;\n",
       "    }\n",
       "</style>\n",
       "<table border=\"1\" class=\"dataframe\">\n",
       "  <thead>\n",
       "    <tr style=\"text-align: right;\">\n",
       "      <th></th>\n",
       "      <th>page</th>\n",
       "      <th>rank</th>\n",
       "    </tr>\n",
       "    <tr>\n",
       "      <th>Correlation (books)</th>\n",
       "      <th></th>\n",
       "      <th></th>\n",
       "    </tr>\n",
       "  </thead>\n",
       "  <tbody>\n",
       "    <tr>\n",
       "      <th>overall</th>\n",
       "      <td>-0.034081</td>\n",
       "      <td>-0.056523</td>\n",
       "    </tr>\n",
       "    <tr>\n",
       "      <th>sentiment_review</th>\n",
       "      <td>-0.040943</td>\n",
       "      <td>-0.002378</td>\n",
       "    </tr>\n",
       "    <tr>\n",
       "      <th>sentiment_summary</th>\n",
       "      <td>-0.022679</td>\n",
       "      <td>-0.020674</td>\n",
       "    </tr>\n",
       "    <tr>\n",
       "      <th>average</th>\n",
       "      <td>-0.038474</td>\n",
       "      <td>-0.010671</td>\n",
       "    </tr>\n",
       "    <tr>\n",
       "      <th>page</th>\n",
       "      <td>1.000000</td>\n",
       "      <td>0.020243</td>\n",
       "    </tr>\n",
       "    <tr>\n",
       "      <th>rank</th>\n",
       "      <td>0.020243</td>\n",
       "      <td>1.000000</td>\n",
       "    </tr>\n",
       "  </tbody>\n",
       "</table>\n",
       "</div>"
      ],
      "text/plain": [
       "                         page      rank\n",
       "Correlation (books)                    \n",
       "overall             -0.034081 -0.056523\n",
       "sentiment_review    -0.040943 -0.002378\n",
       "sentiment_summary   -0.022679 -0.020674\n",
       "average             -0.038474 -0.010671\n",
       "page                 1.000000  0.020243\n",
       "rank                 0.020243  1.000000"
      ]
     },
     "execution_count": 146,
     "metadata": {},
     "output_type": "execute_result"
    }
   ],
   "source": [
    "scores_books = get_scores_mean('scores_books_by_overall_completeID.csv')\n",
    "rank_books = get_specific_columns_books(amazon_aws_books)\n",
    "books_score_rank = merge_column_and_score(scores_books, rank_books)\n",
    "rank_corr = books_score_rank.corr()[['page','rank']]\n",
    "rank_corr.index.name = 'Correlation (books)'\n",
    "rank_corr"
   ]
  },
  {
   "cell_type": "markdown",
   "metadata": {},
   "source": [
    "We can see here that for books, there are no pairs of different parameters that show a big correlation. We speak about it in the report."
   ]
  },
  {
   "cell_type": "code",
   "execution_count": 147,
   "metadata": {
    "collapsed": true
   },
   "outputs": [],
   "source": [
    "def get_specific_columns_ebooks(path_dataframe):\n",
    "    pages_dataframe = pd.read_csv(path_dataframe).rename(columns={'Unnamed: 0':'asin'})\n",
    "    return pages_dataframe[['asin', 'page', 'rank']].dropna(subset=['page']).dropna(subset=['rank']).set_index('asin')"
   ]
  },
  {
   "cell_type": "code",
   "execution_count": 148,
   "metadata": {
    "collapsed": false
   },
   "outputs": [
    {
     "data": {
      "text/html": [
       "<div>\n",
       "<style scoped>\n",
       "    .dataframe tbody tr th:only-of-type {\n",
       "        vertical-align: middle;\n",
       "    }\n",
       "\n",
       "    .dataframe tbody tr th {\n",
       "        vertical-align: top;\n",
       "    }\n",
       "\n",
       "    .dataframe thead th {\n",
       "        text-align: right;\n",
       "    }\n",
       "</style>\n",
       "<table border=\"1\" class=\"dataframe\">\n",
       "  <thead>\n",
       "    <tr style=\"text-align: right;\">\n",
       "      <th></th>\n",
       "      <th>page</th>\n",
       "      <th>rank</th>\n",
       "    </tr>\n",
       "    <tr>\n",
       "      <th>Correlation (ebooks)</th>\n",
       "      <th></th>\n",
       "      <th></th>\n",
       "    </tr>\n",
       "  </thead>\n",
       "  <tbody>\n",
       "    <tr>\n",
       "      <th>overall</th>\n",
       "      <td>-0.005184</td>\n",
       "      <td>-0.001241</td>\n",
       "    </tr>\n",
       "    <tr>\n",
       "      <th>sentiment_review</th>\n",
       "      <td>-0.017193</td>\n",
       "      <td>0.004880</td>\n",
       "    </tr>\n",
       "    <tr>\n",
       "      <th>sentiment_summary</th>\n",
       "      <td>0.010651</td>\n",
       "      <td>-0.038725</td>\n",
       "    </tr>\n",
       "    <tr>\n",
       "      <th>average</th>\n",
       "      <td>-0.007074</td>\n",
       "      <td>-0.014232</td>\n",
       "    </tr>\n",
       "    <tr>\n",
       "      <th>page</th>\n",
       "      <td>1.000000</td>\n",
       "      <td>-0.158504</td>\n",
       "    </tr>\n",
       "    <tr>\n",
       "      <th>rank</th>\n",
       "      <td>-0.158504</td>\n",
       "      <td>1.000000</td>\n",
       "    </tr>\n",
       "  </tbody>\n",
       "</table>\n",
       "</div>"
      ],
      "text/plain": [
       "                          page      rank\n",
       "Correlation (ebooks)                    \n",
       "overall              -0.005184 -0.001241\n",
       "sentiment_review     -0.017193  0.004880\n",
       "sentiment_summary     0.010651 -0.038725\n",
       "average              -0.007074 -0.014232\n",
       "page                  1.000000 -0.158504\n",
       "rank                 -0.158504  1.000000"
      ]
     },
     "execution_count": 148,
     "metadata": {},
     "output_type": "execute_result"
    }
   ],
   "source": [
    "scores_ebooks = get_scores_mean('scores_ebooks_by_overall_completeID.csv')\n",
    "pages_ebooks = get_specific_columns_ebooks(amazon_aws_ebooks)\n",
    "ebooks_score_page = merge_column_and_score(scores_ebooks, pages_ebooks)\n",
    "page_corr = ebooks_score_page.corr()[['page', 'rank']]\n",
    "page_corr.index.name = 'Correlation (ebooks)'\n",
    "page_corr"
   ]
  },
  {
   "cell_type": "markdown",
   "metadata": {},
   "source": [
    "We can see here that for ebooks, there are no pairs of different parameters that show a big correlation. We speak about it in the report."
   ]
  },
  {
   "cell_type": "markdown",
   "metadata": {},
   "source": [
    "Sources:\n",
    "* *Improving the Amazon Review System by Exploiting the Credibility and Time-Decay of Public Reviews*, Bo-Chun Wang, Wen-Yuan Zhu, and Ling-Jyh Chen\n",
    "* Hutto, C.J. & Gilbert, E.E. (2014). *VADER: A Parsimonious Rule-based Model for Sentiment Analysis of Social Media Text. Eighth International Conference on Weblogs and Social Media (ICWSM-14)*. Ann Arbor, MI, June 2014."
   ]
  },
  {
   "cell_type": "code",
   "execution_count": 149,
   "metadata": {
    "collapsed": true
   },
   "outputs": [],
   "source": [
    "sc.stop()"
   ]
  }
 ],
 "metadata": {
  "anaconda-cloud": {},
  "kernelspec": {
   "display_name": "Python 3",
   "language": "python",
   "name": "python3"
  },
  "language_info": {
   "codemirror_mode": {
    "name": "ipython",
    "version": 3
   },
   "file_extension": ".py",
   "mimetype": "text/x-python",
   "name": "python",
   "nbconvert_exporter": "python",
   "pygments_lexer": "ipython3",
   "version": "3.6.0"
  },
  "varInspector": {
   "cols": {
    "lenName": 16,
    "lenType": 16,
    "lenVar": 40
   },
   "kernels_config": {
    "python": {
     "delete_cmd_postfix": "",
     "delete_cmd_prefix": "del ",
     "library": "var_list.py",
     "varRefreshCmd": "print(var_dic_list())"
    },
    "r": {
     "delete_cmd_postfix": ") ",
     "delete_cmd_prefix": "rm(",
     "library": "var_list.r",
     "varRefreshCmd": "cat(var_dic_list()) "
    }
   },
   "types_to_exclude": [
    "module",
    "function",
    "builtin_function_or_method",
    "instance",
    "_Feature"
   ],
   "window_display": false
  }
 },
 "nbformat": 4,
 "nbformat_minor": 2
}
