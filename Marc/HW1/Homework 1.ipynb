{
 "cells": [
  {
   "cell_type": "markdown",
   "metadata": {},
   "source": [
    "# Table of Contents\n",
    " <p><div class=\"lev1\"><a href=\"#Task-1.-Compiling-Ebola-Data\"><span class=\"toc-item-num\">Task 1.&nbsp;&nbsp;</span>Compiling Ebola Data</a></div>\n",
    " <div class=\"lev1\"><a href=\"#Task-2.-RNA-Sequences\"><span class=\"toc-item-num\">Task 2.&nbsp;&nbsp;</span>RNA Sequences</a></div>\n",
    " <div class=\"lev1\"><a href=\"#Task-3.-Class-War-in-Titanic\"><span class=\"toc-item-num\">Task 3.&nbsp;&nbsp;</span>Class War in Titanic</a></div></p>"
   ]
  },
  {
   "cell_type": "code",
   "execution_count": 1,
   "metadata": {
    "collapsed": true
   },
   "outputs": [],
   "source": [
    "DATA_FOLDER = 'Data' # Use the data folder provided in Tutorial 02 - Intro to Pandas.\n",
    "%matplotlib inline\n",
    "import pandas as pd\n",
    "import numpy as np\n",
    "import matplotlib.pyplot as plt\n",
    "import seaborn as sns\n",
    "sns.set_context('notebook')"
   ]
  },
  {
   "cell_type": "markdown",
   "metadata": {},
   "source": [
    "## Task 1. Compiling Ebola Data\n",
    "\n",
    "The `DATA_FOLDER/ebola` folder contains summarized reports of Ebola cases from three countries (Guinea, Liberia and Sierra Leone) during the recent outbreak of the disease in West Africa. For each country, there are daily reports that contain various information about the outbreak in several cities in each country.\n",
    "\n",
    "Use pandas to import these data files into a single `Dataframe`.\n",
    "Using this `DataFrame`, calculate for *each country*, the *daily average per month* of *new cases* and *deaths*.\n",
    "Make sure you handle all the different expressions for *new cases* and *deaths* that are used in the reports."
   ]
  },
  {
   "cell_type": "markdown",
   "metadata": {},
   "source": [
    "## Solution\n",
    "---\n",
    "First of all, we need to read all of the data which is in the csv format. So for this, we need to retrieve all csv file names for some country. Thus using a ls command seems to be the best option here. After that, we retrieve the useful columns of the csv (it's always the Date, the Description and the National numbers) and concatenate them.\n",
    "We then filter the rows by their description, looking for the new cases and deaths related descriptions. Right after, we rename these descriptions to be either 'New cases' or 'Deaths', so that we can then group_by the month, the day and the description, to get at most one total per 'New cases' per day, and one total per 'Deaths' per day. After that, we can do the daily average per month, by using the first and third index columns (month and description). We rename the indexes and the column.\n",
    "We do this procedure for each country, with different column names, 'New cases' and 'Deaths' descriptions, and when we have the three DataFrames, we concatenate them.\n",
    "\n",
    "\n",
    "\n",
    "\n",
    "Question : in the case\n",
    "\n",
    "* 0 \t2014-10-01 \tNew cases of suspects \t28\n",
    "* 1 \t2014-10-01 \tNew cases of probables \t0\n",
    "* 2 \t2014-10-01 \tNew cases of confirmed \t6\n",
    "* 3 \t2014-10-01 \tTotal new cases registered so far \t34\n",
    "* 15 \t2014-10-01 \tNew cases of confirmed among health workers \t2\n",
    "\n",
    "Do we count the New cases of confirmed among health workers as part of New cases of confirmed, so that the total is correct, or is it a new category ?"
   ]
  },
  {
   "cell_type": "code",
   "execution_count": 403,
   "metadata": {
    "collapsed": false
   },
   "outputs": [
    {
     "data": {
      "text/html": [
       "<div>\n",
       "<table border=\"1\" class=\"dataframe\">\n",
       "  <thead>\n",
       "    <tr style=\"text-align: right;\">\n",
       "      <th></th>\n",
       "      <th></th>\n",
       "      <th></th>\n",
       "      <th>Daily average per month</th>\n",
       "    </tr>\n",
       "    <tr>\n",
       "      <th></th>\n",
       "      <th>Month</th>\n",
       "      <th>Description</th>\n",
       "      <th></th>\n",
       "    </tr>\n",
       "  </thead>\n",
       "  <tbody>\n",
       "    <tr>\n",
       "      <th rowspan=\"6\" valign=\"top\">Guinea</th>\n",
       "      <th rowspan=\"2\" valign=\"top\">8</th>\n",
       "      <th>Deaths</th>\n",
       "      <td>3.400000</td>\n",
       "    </tr>\n",
       "    <tr>\n",
       "      <th>New cases</th>\n",
       "      <td>25.800000</td>\n",
       "    </tr>\n",
       "    <tr>\n",
       "      <th rowspan=\"2\" valign=\"top\">9</th>\n",
       "      <th>Deaths</th>\n",
       "      <td>3.562500</td>\n",
       "    </tr>\n",
       "    <tr>\n",
       "      <th>New cases</th>\n",
       "      <td>19.625000</td>\n",
       "    </tr>\n",
       "    <tr>\n",
       "      <th rowspan=\"2\" valign=\"top\">10</th>\n",
       "      <th>Deaths</th>\n",
       "      <td>15.000000</td>\n",
       "    </tr>\n",
       "    <tr>\n",
       "      <th>New cases</th>\n",
       "      <td>34.000000</td>\n",
       "    </tr>\n",
       "    <tr>\n",
       "      <th rowspan=\"14\" valign=\"top\">Liberia</th>\n",
       "      <th rowspan=\"2\" valign=\"top\">6</th>\n",
       "      <th>Deaths</th>\n",
       "      <td>2.000000</td>\n",
       "    </tr>\n",
       "    <tr>\n",
       "      <th>New cases</th>\n",
       "      <td>5.714286</td>\n",
       "    </tr>\n",
       "    <tr>\n",
       "      <th rowspan=\"2\" valign=\"top\">7</th>\n",
       "      <th>Deaths</th>\n",
       "      <td>4.272727</td>\n",
       "    </tr>\n",
       "    <tr>\n",
       "      <th>New cases</th>\n",
       "      <td>8.545455</td>\n",
       "    </tr>\n",
       "    <tr>\n",
       "      <th rowspan=\"2\" valign=\"top\">8</th>\n",
       "      <th>Deaths</th>\n",
       "      <td>23.222222</td>\n",
       "    </tr>\n",
       "    <tr>\n",
       "      <th>New cases</th>\n",
       "      <td>37.222222</td>\n",
       "    </tr>\n",
       "    <tr>\n",
       "      <th rowspan=\"2\" valign=\"top\">9</th>\n",
       "      <th>Deaths</th>\n",
       "      <td>37.608696</td>\n",
       "    </tr>\n",
       "    <tr>\n",
       "      <th>New cases</th>\n",
       "      <td>63.833333</td>\n",
       "    </tr>\n",
       "    <tr>\n",
       "      <th rowspan=\"2\" valign=\"top\">10</th>\n",
       "      <th>Deaths</th>\n",
       "      <td>28.040000</td>\n",
       "    </tr>\n",
       "    <tr>\n",
       "      <th>New cases</th>\n",
       "      <td>45.560000</td>\n",
       "    </tr>\n",
       "    <tr>\n",
       "      <th rowspan=\"2\" valign=\"top\">11</th>\n",
       "      <th>Deaths</th>\n",
       "      <td>15.538462</td>\n",
       "    </tr>\n",
       "    <tr>\n",
       "      <th>New cases</th>\n",
       "      <td>26.466667</td>\n",
       "    </tr>\n",
       "    <tr>\n",
       "      <th rowspan=\"2\" valign=\"top\">12</th>\n",
       "      <th>Deaths</th>\n",
       "      <td>NaN</td>\n",
       "    </tr>\n",
       "    <tr>\n",
       "      <th>New cases</th>\n",
       "      <td>5825.875000</td>\n",
       "    </tr>\n",
       "    <tr>\n",
       "      <th rowspan=\"10\" valign=\"top\">Sierra Leone</th>\n",
       "      <th rowspan=\"2\" valign=\"top\">8</th>\n",
       "      <th>Deaths</th>\n",
       "      <td>368.833333</td>\n",
       "    </tr>\n",
       "    <tr>\n",
       "      <th>New cases</th>\n",
       "      <td>38.722222</td>\n",
       "    </tr>\n",
       "    <tr>\n",
       "      <th rowspan=\"2\" valign=\"top\">9</th>\n",
       "      <th>Deaths</th>\n",
       "      <td>524.148148</td>\n",
       "    </tr>\n",
       "    <tr>\n",
       "      <th>New cases</th>\n",
       "      <td>72.962963</td>\n",
       "    </tr>\n",
       "    <tr>\n",
       "      <th rowspan=\"2\" valign=\"top\">10</th>\n",
       "      <th>Deaths</th>\n",
       "      <td>1162.357143</td>\n",
       "    </tr>\n",
       "    <tr>\n",
       "      <th>New cases</th>\n",
       "      <td>124.214286</td>\n",
       "    </tr>\n",
       "    <tr>\n",
       "      <th rowspan=\"2\" valign=\"top\">11</th>\n",
       "      <th>Deaths</th>\n",
       "      <td>1606.473684</td>\n",
       "    </tr>\n",
       "    <tr>\n",
       "      <th>New cases</th>\n",
       "      <td>172.578947</td>\n",
       "    </tr>\n",
       "    <tr>\n",
       "      <th rowspan=\"2\" valign=\"top\">12</th>\n",
       "      <th>Deaths</th>\n",
       "      <td>2009.500000</td>\n",
       "    </tr>\n",
       "    <tr>\n",
       "      <th>New cases</th>\n",
       "      <td>226.333333</td>\n",
       "    </tr>\n",
       "  </tbody>\n",
       "</table>\n",
       "</div>"
      ],
      "text/plain": [
       "                                Daily average per month\n",
       "             Month Description                         \n",
       "Guinea       8     Deaths                      3.400000\n",
       "                   New cases                  25.800000\n",
       "             9     Deaths                      3.562500\n",
       "                   New cases                  19.625000\n",
       "             10    Deaths                     15.000000\n",
       "                   New cases                  34.000000\n",
       "Liberia      6     Deaths                      2.000000\n",
       "                   New cases                   5.714286\n",
       "             7     Deaths                      4.272727\n",
       "                   New cases                   8.545455\n",
       "             8     Deaths                     23.222222\n",
       "                   New cases                  37.222222\n",
       "             9     Deaths                     37.608696\n",
       "                   New cases                  63.833333\n",
       "             10    Deaths                     28.040000\n",
       "                   New cases                  45.560000\n",
       "             11    Deaths                     15.538462\n",
       "                   New cases                  26.466667\n",
       "             12    Deaths                           NaN\n",
       "                   New cases                5825.875000\n",
       "Sierra Leone 8     Deaths                    368.833333\n",
       "                   New cases                  38.722222\n",
       "             9     Deaths                    524.148148\n",
       "                   New cases                  72.962963\n",
       "             10    Deaths                   1162.357143\n",
       "                   New cases                 124.214286\n",
       "             11    Deaths                   1606.473684\n",
       "                   New cases                 172.578947\n",
       "             12    Deaths                   2009.500000\n",
       "                   New cases                 226.333333"
      ]
     },
     "execution_count": 403,
     "metadata": {},
     "output_type": "execute_result"
    }
   ],
   "source": [
    "def country_DF(country, date_c, description_c, total_c, filters_new_cases, filters_deaths):\n",
    "    path = DATA_FOLDER + '/ebola/' + country + '_data/'\n",
    "    country_files = !ls $path\n",
    "\n",
    "    country_DF = pd.concat([pd.read_csv(path+filename, usecols=[date_c, description_c, total_c], parse_dates=[date_c], index_col=False) \n",
    "                           for filename in country_files]) \n",
    "    \n",
    "\n",
    "    country_DF = country_DF.loc[[ description.lower() in filters_new_cases or\n",
    "                                    description.lower() in filters_deaths\n",
    "                                    for description in country_DF[description_c].values]]\n",
    "\n",
    "    country_DF.loc[[description.lower() in filters_new_cases for description in country_DF[description_c]], description_c] = 'New cases'\n",
    "    country_DF.loc[[description.lower() in filters_deaths for description in country_DF[description_c]], description_c] = 'Deaths'\n",
    "    country_DF[total_c] = pd.to_numeric(country_DF[total_c])\n",
    "    \n",
    "\n",
    "    country_computation = pd.DataFrame(country_DF.groupby([country_DF[date_c].dt.month, country_DF[date_c].dt.day, country_DF[description_c]])[total_c].sum())\n",
    "    country_computation = country_computation.groupby(level=[0,2]).mean()\n",
    "    country_computation.index.names = ['Month', 'Description']\n",
    "    country_computation.columns = ['Daily average per month']\n",
    "    return country_computation\n",
    "\n",
    "guinea = country_DF('guinea', 'Date', 'Description', 'Totals', ['total new cases registered so far'], ['new deaths registered', 'new deaths registered today'])\n",
    "liberia = country_DF('liberia', 'Date', 'Variable', 'National', ['new case/s (suspected)', 'new case/s (probable)', 'new case/s (confirmed)'], ['newly reported deaths'])\n",
    "sl = country_DF('sl', 'date', 'variable', 'National', ['new_noncase', 'new_suspected', 'new_probable', 'new_confirmed'], ['death_suspected', 'death_probable', 'death_confirmed'])\n",
    "\n",
    "pd.concat({'Guinea': guinea, 'Liberia': liberia, 'Sierra Leone': sl})"
   ]
  },
  {
   "cell_type": "markdown",
   "metadata": {},
   "source": [
    "## Task 2. RNA Sequences\n",
    "\n",
    "In the `DATA_FOLDER/microbiome` subdirectory, there are 9 spreadsheets of microbiome data that was acquired from high-throughput RNA sequencing procedures, along with a 10<sup>th</sup> file that describes the content of each. \n",
    "\n",
    "Use pandas to import the first 9 spreadsheets into a single `DataFrame`.\n",
    "Then, add the metadata information from the 10<sup>th</sup> spreadsheet as columns in the combined `DataFrame`.\n",
    "Make sure that the final `DataFrame` has a unique index and all the `NaN` values have been replaced by the tag `unknown`."
   ]
  },
  {
   "cell_type": "markdown",
   "metadata": {},
   "source": [
    "## Solution\n",
    "---\n"
   ]
  },
  {
   "cell_type": "code",
   "execution_count": null,
   "metadata": {
    "collapsed": true
   },
   "outputs": [],
   "source": [
    "# Write your answer here"
   ]
  },
  {
   "cell_type": "markdown",
   "metadata": {},
   "source": [
    "## Task 3. Class War in Titanic\n",
    "\n",
    "Use pandas to import the data file `Data/titanic.xls`. It contains data on all the passengers that travelled on the Titanic."
   ]
  },
  {
   "cell_type": "code",
   "execution_count": null,
   "metadata": {
    "collapsed": true
   },
   "outputs": [],
   "source": [
    "from IPython.core.display import HTML\n",
    "HTML(filename=DATA_FOLDER+'/titanic.html')"
   ]
  },
  {
   "cell_type": "markdown",
   "metadata": {},
   "source": [
    "For each of the following questions state clearly your assumptions and discuss your findings:\n",
    "1. Describe the *type* and the *value range* of each attribute. Indicate and transform the attributes that can be `Categorical`. \n",
    "2. Plot histograms for the *travel class*, *embarkation port*, *sex* and *age* attributes. For the latter one, use *discrete decade intervals*. \n",
    "3. Calculate the proportion of passengers by *cabin floor*. Present your results in a *pie chart*.\n",
    "4. For each *travel class*, calculate the proportion of the passengers that survived. Present your results in *pie charts*.\n",
    "5. Calculate the proportion of the passengers that survived by *travel class* and *sex*. Present your results in *a single histogram*.\n",
    "6. Create 2 equally populated *age categories* and calculate survival proportions by *age category*, *travel class* and *sex*. Present your results in a `DataFrame` with unique index."
   ]
  },
  {
   "cell_type": "markdown",
   "metadata": {},
   "source": [
    "## Solution\n",
    "---\n"
   ]
  },
  {
   "cell_type": "code",
   "execution_count": null,
   "metadata": {
    "collapsed": true
   },
   "outputs": [],
   "source": [
    "# Write your answer here"
   ]
  }
 ],
 "metadata": {
  "kernelspec": {
   "display_name": "Python 3",
   "language": "python",
   "name": "python3"
  },
  "language_info": {
   "codemirror_mode": {
    "name": "ipython",
    "version": 3
   },
   "file_extension": ".py",
   "mimetype": "text/x-python",
   "name": "python",
   "nbconvert_exporter": "python",
   "pygments_lexer": "ipython3",
   "version": "3.6.0"
  }
 },
 "nbformat": 4,
 "nbformat_minor": 2
}
